{
 "cells": [
  {
   "cell_type": "markdown",
   "metadata": {},
   "source": [
    "## Unconstrained minimization of multivariate scalar functions (minimize)\n",
    "https://docs.scipy.org/doc/scipy/reference/tutorial/optimize.html#unconstrained-minimization-of-multivariate-scalar-functions-minimize  \n",
    "the problem of minimizing the Rosenbrock function of  variables:  \n",
    "$f(x) = \\sum_{i = 1}^{N-1}(100(x_{i+1} - x_i^2)^2 + (1 - x_i)^2)$  \n",
    "The minimum value of this function is 0 which is achieved when $x_i = 1$"
   ]
  },
  {
   "cell_type": "markdown",
   "metadata": {},
   "source": [
    "### Nelder-Mead Simplex algorithm (method='Nelder-Mead')  \n",
    "n + 1 個の頂点からなる n 次元の単体（シンプレックス）をアメーバのように動かしながら関数の最小値を探索する。反射、膨張、収縮の3種類を使い分けながら探索する。Rの汎用的最適化の optim() のデフォルトのアルゴリズムとしても使われている。"
   ]
  },
  {
   "cell_type": "code",
   "execution_count": 1,
   "metadata": {},
   "outputs": [],
   "source": [
    "import numpy as np\n",
    "from scipy.optimize import minimize"
   ]
  },
  {
   "cell_type": "code",
   "execution_count": 2,
   "metadata": {},
   "outputs": [],
   "source": [
    "def rosen(x):\n",
    "    \"\"\"The Rosenbrock function\"\"\"\n",
    "    return sum(100.0*(x[1:]-x[:-1]**2.0)**2.0 + (1-x[:-1])**2.0)\n",
    "#x[1:]は２番目の要素(要素番号1)から最後の要素まで、x[:-1]は最初から最後から２番目の要素まで(最後の要素を除く)"
   ]
  },
  {
   "cell_type": "code",
   "execution_count": 3,
   "metadata": {},
   "outputs": [
    {
     "data": {
      "text/plain": [
       "2806.0"
      ]
     },
     "execution_count": 3,
     "metadata": {},
     "output_type": "execute_result"
    }
   ],
   "source": [
    "x = np.array([0,1,2,3,4])\n",
    "x[:-1]\n",
    "rosen(x)"
   ]
  },
  {
   "cell_type": "code",
   "execution_count": 4,
   "metadata": {},
   "outputs": [
    {
     "name": "stdout",
     "output_type": "stream",
     "text": [
      "Optimization terminated successfully.\n",
      "         Current function value: 0.000000\n",
      "         Iterations: 339\n",
      "         Function evaluations: 571\n"
     ]
    }
   ],
   "source": [
    "x0 = np.array([1.3, 0.7, 0.8, 1.9, 1.2])\n",
    "res = minimize(rosen, x0, method='nelder-mead', options={'xatol': 1e-8, 'disp': True})"
   ]
  },
  {
   "cell_type": "code",
   "execution_count": 5,
   "metadata": {},
   "outputs": [
    {
     "data": {
      "text/plain": [
       " final_simplex: (array([[1.        , 1.        , 1.        , 1.        , 1.        ],\n",
       "       [1.        , 1.        , 1.        , 1.        , 1.        ],\n",
       "       [1.        , 1.        , 1.        , 1.00000001, 1.00000001],\n",
       "       [1.        , 1.        , 1.        , 1.        , 1.        ],\n",
       "       [1.        , 1.        , 1.        , 1.        , 1.        ],\n",
       "       [1.        , 1.        , 1.        , 1.        , 0.99999999]]), array([4.86115343e-17, 7.65182843e-17, 8.11395684e-17, 8.63263255e-17,\n",
       "       8.64080682e-17, 2.17927418e-16]))\n",
       "           fun: 4.861153433422115e-17\n",
       "       message: 'Optimization terminated successfully.'\n",
       "          nfev: 571\n",
       "           nit: 339\n",
       "        status: 0\n",
       "       success: True\n",
       "             x: array([1., 1., 1., 1., 1.])"
      ]
     },
     "execution_count": 5,
     "metadata": {},
     "output_type": "execute_result"
    }
   ],
   "source": [
    "res"
   ]
  },
  {
   "cell_type": "code",
   "execution_count": 6,
   "metadata": {},
   "outputs": [
    {
     "name": "stdout",
     "output_type": "stream",
     "text": [
      "[1. 1. 1. 1. 1.]\n"
     ]
    }
   ],
   "source": [
    "print(res.x)"
   ]
  },
  {
   "cell_type": "code",
   "execution_count": 7,
   "metadata": {},
   "outputs": [],
   "source": [
    "def rosen_sample(x):\n",
    "    return (x[0] - 1)**2 + 10 * (x[0]**2 - x[1])**2"
   ]
  },
  {
   "cell_type": "code",
   "execution_count": 8,
   "metadata": {},
   "outputs": [
    {
     "name": "stdout",
     "output_type": "stream",
     "text": [
      "Optimization terminated successfully.\n",
      "         Current function value: 0.000000\n",
      "         Iterations: 111\n",
      "         Function evaluations: 216\n"
     ]
    }
   ],
   "source": [
    "x0 = np.array([0.0, 1.0])\n",
    "res = minimize(rosen_sample, x0, method='nelder-mead', options={'xatol': 1e-8, 'disp': True})"
   ]
  },
  {
   "cell_type": "code",
   "execution_count": 9,
   "metadata": {},
   "outputs": [
    {
     "data": {
      "text/plain": [
       " final_simplex: (array([[1., 1.],\n",
       "       [1., 1.],\n",
       "       [1., 1.]]), array([2.45785437e-18, 4.40388273e-18, 1.05748662e-17]))\n",
       "           fun: 2.4578543701957743e-18\n",
       "       message: 'Optimization terminated successfully.'\n",
       "          nfev: 216\n",
       "           nit: 111\n",
       "        status: 0\n",
       "       success: True\n",
       "             x: array([1., 1.])"
      ]
     },
     "execution_count": 9,
     "metadata": {},
     "output_type": "execute_result"
    }
   ],
   "source": [
    "res"
   ]
  },
  {
   "cell_type": "code",
   "execution_count": 10,
   "metadata": {},
   "outputs": [
    {
     "name": "stdout",
     "output_type": "stream",
     "text": [
      "[1. 1.]\n"
     ]
    }
   ],
   "source": [
    "print(res.x)"
   ]
  },
  {
   "cell_type": "code",
   "execution_count": 11,
   "metadata": {},
   "outputs": [],
   "source": [
    "#新版数理計画入門 福島雅夫 朝倉書店 P114 (4.19)\n",
    "def rosen1(x):\n",
    "    \"\"\"The Rosenbrock function\"\"\"\n",
    "    value = 0\n",
    "    for i in range(len(x)-1):\n",
    "        value += 100 * (x[i+1] - x[i])**2 + (1 - x[i])**2.0\n",
    "    return value"
   ]
  },
  {
   "cell_type": "code",
   "execution_count": 12,
   "metadata": {},
   "outputs": [
    {
     "data": {
      "text/plain": [
       "2806.0"
      ]
     },
     "execution_count": 12,
     "metadata": {},
     "output_type": "execute_result"
    }
   ],
   "source": [
    "x = np.array([0,1,2,3,4])\n",
    "rosen(x)"
   ]
  },
  {
   "cell_type": "code",
   "execution_count": 13,
   "metadata": {},
   "outputs": [
    {
     "name": "stdout",
     "output_type": "stream",
     "text": [
      "Optimization terminated successfully.\n",
      "         Current function value: 0.000000\n",
      "         Iterations: 456\n",
      "         Function evaluations: 735\n"
     ]
    }
   ],
   "source": [
    "x0 = np.array([1.3, 0.7, 0.8, 1.9, 1.2])\n",
    "res = minimize(rosen1, x0, method='nelder-mead', options={'xatol': 1e-8, 'disp': True})"
   ]
  },
  {
   "cell_type": "code",
   "execution_count": 14,
   "metadata": {},
   "outputs": [
    {
     "name": "stdout",
     "output_type": "stream",
     "text": [
      "[1. 1. 1. 1. 1.]\n"
     ]
    }
   ],
   "source": [
    "print(res.x)"
   ]
  },
  {
   "cell_type": "markdown",
   "metadata": {},
   "source": [
    "### 最適化問題例題\n",
    "http://www.me.titech.ac.jp/~mizu_lab/text/PDF-NLP/NLP3-NLP.pdf  \n",
    "$f(x) = 3x^4 -4x^3 -12x^2 + 32$"
   ]
  },
  {
   "cell_type": "code",
   "execution_count": 15,
   "metadata": {},
   "outputs": [],
   "source": [
    "def f(x):\n",
    "    return 3 * x**4 -4 * x**3 -12 * x**2 + 32"
   ]
  },
  {
   "cell_type": "code",
   "execution_count": 16,
   "metadata": {},
   "outputs": [
    {
     "name": "stdout",
     "output_type": "stream",
     "text": [
      "Optimization terminated successfully.\n",
      "         Current function value: 0.000000\n",
      "         Iterations: 40\n",
      "         Function evaluations: 81\n"
     ]
    }
   ],
   "source": [
    "x0 = np.array([0])\n",
    "res = minimize(f, x0, method='nelder-mead', options={'xatol': 1e-8, 'disp': True})"
   ]
  },
  {
   "cell_type": "code",
   "execution_count": 17,
   "metadata": {},
   "outputs": [
    {
     "name": "stdout",
     "output_type": "stream",
     "text": [
      "[2.]\n"
     ]
    }
   ],
   "source": [
    "print(res.x)"
   ]
  },
  {
   "cell_type": "markdown",
   "metadata": {},
   "source": [
    "http://www.oit.ac.jp/civil/~planning/pdf/hisenkeikeikakuhou.pdf"
   ]
  },
  {
   "cell_type": "code",
   "execution_count": 18,
   "metadata": {},
   "outputs": [],
   "source": [
    "def f(x):\n",
    "    return x[0]**2 + x[1]**2"
   ]
  },
  {
   "cell_type": "code",
   "execution_count": 19,
   "metadata": {},
   "outputs": [
    {
     "name": "stdout",
     "output_type": "stream",
     "text": [
      "Optimization terminated successfully.\n",
      "         Current function value: 0.000000\n",
      "         Iterations: 68\n",
      "         Function evaluations: 127\n",
      "[ 2.89176268e-09 -9.96985115e-10]\n"
     ]
    }
   ],
   "source": [
    "x0 = np.array([1, 1])\n",
    "res = minimize(f, x0, method='nelder-mead', options={'xatol': 1e-8, 'disp': True})\n",
    "print(res.x)"
   ]
  },
  {
   "cell_type": "markdown",
   "metadata": {},
   "source": [
    "## Constrained minimization of multivariate scalar functions (minimize)\n",
    "https://docs.scipy.org/doc/scipy/reference/tutorial/optimize.html#constrained-minimization-of-multivariate-scalar-functions-minimize"
   ]
  },
  {
   "cell_type": "markdown",
   "metadata": {},
   "source": [
    "https://docs.scipy.org/doc/scipy/reference/tutorial/optimize.html#trust-region-constrained-algorithm-method-trust-constr  \n",
    "https://qiita.com/shotoyoo/items/83297f959e1922465288  \n",
    "$f(x_1, x_2) = x_1^2 -x_2^2 + x_1 x_2 - x_1 +x_2$  \n",
    "\n",
    "制約条件(線形制約の場合)  \n",
    "$0 \\leq x_1 + x_ 2 \\leq 1$  \n",
    "$0 \\leq x_1 \\leq 1$  \n",
    "$0 \\leq x_2 \\leq 1$  \n",
    "\n",
    "$  \n",
    "\\left(\n",
    "\\begin{array}{r}\n",
    "0 \\\\\n",
    "0 \\\\\n",
    "0 \\\\\n",
    "\\end{array}\n",
    "\\right)\n",
    "\\leq\n",
    "\\left(\n",
    "\\begin{array}{rr}\n",
    "1 & 1 \\\\\n",
    "1 & 0 \\\\\n",
    "0 & 1 \\\\\n",
    "\\end{array}\n",
    "\\right)\n",
    "\\left(\n",
    "\\begin{array}{r}\n",
    "x_1 \\\\\n",
    "x_2 \\\\\n",
    "\\end{array}\n",
    "\\right)\n",
    "\\leq \n",
    "\\left(\n",
    "\\begin{array}{r}\n",
    "1 \\\\\n",
    "1 \\\\\n",
    "1 \\\\\n",
    "\\end{array}\n",
    "\\right)\n",
    "$"
   ]
  },
  {
   "cell_type": "code",
   "execution_count": 20,
   "metadata": {},
   "outputs": [],
   "source": [
    "from scipy.optimize import minimize, BFGS, LinearConstraint"
   ]
  },
  {
   "cell_type": "code",
   "execution_count": 21,
   "metadata": {},
   "outputs": [],
   "source": [
    "def f(x):\n",
    "    return x[0]**2 - x[1]**2 + x[0]*x[1] - x[0] + x[1]"
   ]
  },
  {
   "cell_type": "code",
   "execution_count": 22,
   "metadata": {},
   "outputs": [],
   "source": [
    "x0 = np.array([0,0], dtype=float)\n",
    "# 制約: 各変数と両者の和が[0,1]という線形制約\n",
    "A = np.array([[1,1],[1,0],[0,1]])\n",
    "lb = np.array([0,0,0])\n",
    "ub = np.array([1,1,1])\n",
    "const = LinearConstraint(A, lb, ub)"
   ]
  },
  {
   "cell_type": "code",
   "execution_count": 23,
   "metadata": {},
   "outputs": [
    {
     "name": "stdout",
     "output_type": "stream",
     "text": [
      "| niter |f evals|CG iter|  obj func   |tr radius |   opt    |  c viol  |\n",
      "|-------|-------|-------|-------------|----------|----------|----------|\n",
      "|   1   |   3   |   0   | +0.0000e+00 | 1.00e+00 | 4.22e-01 | 0.00e+00 |\n",
      "|   2   |   6   |   1   | -4.3704e-01 | 7.00e+00 | 1.45e-01 | 1.26e-01 |\n",
      "|   3   |   9   |   3   | -3.2247e-01 | 7.00e+00 | 2.64e-02 | 5.66e-02 |\n",
      "|   4   |   9   |   3   | -3.2247e-01 | 3.50e+01 | 1.67e-02 | 5.66e-02 |\n",
      "|   5   |  12   |   5   | -2.2604e-01 | 3.84e+01 | 1.03e-02 | 0.00e+00 |\n",
      "|   6   |  15   |   6   | -2.3191e-01 | 3.84e+01 | 3.00e-03 | 0.00e+00 |\n",
      "|   7   |  15   |   6   | -2.3191e-01 | 1.92e+02 | 2.76e-03 | 0.00e+00 |\n",
      "|   8   |  18   |   8   | -2.4576e-01 | 1.92e+02 | 5.57e-05 | 0.00e+00 |\n",
      "|   9   |  18   |   8   | -2.4576e-01 | 9.60e+02 | 5.86e-05 | 0.00e+00 |\n",
      "|  10   |  21   |  10   | -2.4919e-01 | 9.60e+02 | 1.73e-04 | 0.00e+00 |\n",
      "|  11   |  21   |  10   | -2.4919e-01 | 4.80e+03 | 1.72e-04 | 0.00e+00 |\n",
      "|  12   |  24   |  12   | -2.4984e-01 | 4.80e+03 | 8.53e-05 | 0.00e+00 |\n",
      "|  13   |  27   |  13   | -2.4984e-01 | 4.80e+03 | 3.80e-05 | 0.00e+00 |\n",
      "|  14   |  27   |  13   | -2.4984e-01 | 2.40e+04 | 3.79e-05 | 0.00e+00 |\n",
      "|  15   |  30   |  15   | -2.4997e-01 | 2.40e+04 | 1.12e-08 | 0.00e+00 |\n",
      "|  16   |  30   |  15   | -2.4997e-01 | 1.20e+05 | 1.09e-08 | 0.00e+00 |\n",
      "|  17   |  33   |  17   | -2.4999e-01 | 1.20e+05 | 7.01e-07 | 0.00e+00 |\n",
      "|  18   |  33   |  17   | -2.4999e-01 | 6.00e+05 | 7.01e-07 | 0.00e+00 |\n",
      "|  19   |  36   |  19   | -2.5000e-01 | 6.00e+05 | 2.06e-07 | 0.00e+00 |\n",
      "|  20   |  36   |  19   | -2.5000e-01 | 3.00e+06 | 2.06e-07 | 0.00e+00 |\n",
      "|  21   |  39   |  21   | -2.5000e-01 | 3.00e+06 | 8.80e-08 | 0.00e+00 |\n",
      "|  22   |  39   |  21   | -2.5000e-01 | 1.50e+07 | 8.80e-08 | 0.00e+00 |\n",
      "|  23   |  42   |  23   | -2.5000e-01 | 1.50e+07 | 3.76e-08 | 0.00e+00 |\n",
      "|  24   |  45   |  24   | -2.5000e-01 | 1.50e+07 | 4.60e-09 | 0.00e+00 |\n",
      "\n",
      "`gtol` termination condition is satisfied.\n",
      "Number of iterations: 24, function evaluations: 45, CG iterations: 24, optimality: 4.60e-09, constraint violation: 0.00e+00, execution time: 0.048 s.\n",
      "[4.99999936e-01 3.41331934e-08]\n"
     ]
    }
   ],
   "source": [
    "# 最適化\n",
    "res = minimize(f,                       # 目的関数, \n",
    "                x0,                     # 初期解,\n",
    "                method=\"trust-constr\",  # 制約付き信頼領域法\n",
    "                jac=\"2-point\",          # 勾配関数\n",
    "                hess=BFGS(),            # ヘシアンの推定方法\n",
    "                constraints=const,      # 制約\n",
    "                options={\"maxiter\": 50, # 最大反復数\n",
    "                         \"verbose\":2})  # 最適化の過程を出力\n",
    "print(res[\"x\"])"
   ]
  },
  {
   "cell_type": "markdown",
   "metadata": {},
   "source": [
    "非線形制約付きの場合 新版数理計画入門 福島雅夫 朝倉書店 P114 (4.19)  \n",
    "目的関数(最小化) : $f(x_1, x_2) = (x_1 - 1)^2 + (x_2 -2)^2$  \n",
    "制約条件 :   \n",
    "$c_1(x_1, x_2) = x_1^2 + x_2^2 -2 \\leq 0$   \n",
    "$c_2(x_1, x_2) = -x_1 + x_2 \\leq 0$  \n",
    "$c_3(x_1, x_2) = -x_2 \\leq 0$  \n",
    "\n",
    "制約条件(線形制約)  \n",
    "$  \n",
    "\\left(\n",
    "\\begin{array}{r}\n",
    "-\\infty \\\\\n",
    "-\\infty \\\\\n",
    "\\end{array}\n",
    "\\right)\n",
    "\\leq\n",
    "\\left(\n",
    "\\begin{array}{rr}\n",
    "-1 & 1 \\\\\n",
    "0 & -1 \\\\\n",
    "\\end{array}\n",
    "\\right)\n",
    "\\left(\n",
    "\\begin{array}{r}\n",
    "x_1 \\\\\n",
    "x_2 \\\\\n",
    "\\end{array}\n",
    "\\right)\n",
    "\\leq \n",
    "\\left(\n",
    "\\begin{array}{r}\n",
    "0 \\\\\n",
    "0 \\\\\n",
    "\\end{array}\n",
    "\\right)\n",
    "$"
   ]
  },
  {
   "cell_type": "code",
   "execution_count": 24,
   "metadata": {},
   "outputs": [],
   "source": [
    "#線形制約\n",
    "A = np.array([[-1,1],[0,-1]])\n",
    "lb = np.array([-np.inf,-np.inf])\n",
    "ub = np.array([0,0])\n",
    "linear_constraint = LinearConstraint(A, lb, ub)"
   ]
  },
  {
   "cell_type": "code",
   "execution_count": 25,
   "metadata": {},
   "outputs": [],
   "source": [
    "#目的関数\n",
    "def f(x):\n",
    "    return (x[0] - 1)**2 + (x[1] - 2)**2"
   ]
  },
  {
   "cell_type": "code",
   "execution_count": 26,
   "metadata": {},
   "outputs": [],
   "source": [
    "#非線形制約\n",
    "def cons_f(x):\n",
    "    return x[0]**2 + x[1]**2"
   ]
  },
  {
   "cell_type": "code",
   "execution_count": 27,
   "metadata": {},
   "outputs": [],
   "source": [
    "#jac=\"2-pointで利用する\n",
    "#Jacobian\n",
    "#def cons_J(x):\n",
    "#    return [2*x[0], 2*x[1]]"
   ]
  },
  {
   "cell_type": "code",
   "execution_count": 28,
   "metadata": {},
   "outputs": [],
   "source": [
    "#非線形制約\n",
    "from scipy.optimize import BFGS\n",
    "from scipy.optimize import minimize, BFGS, LinearConstraint, NonlinearConstraint\n",
    "nonlinear_constraint = NonlinearConstraint(cons_f, -np.inf, 2, jac=\"2-point\", hess=BFGS())"
   ]
  },
  {
   "cell_type": "code",
   "execution_count": 29,
   "metadata": {},
   "outputs": [
    {
     "name": "stdout",
     "output_type": "stream",
     "text": [
      "| niter |f evals|CG iter|  obj func   |tr radius |   opt    |  c viol  |\n",
      "|-------|-------|-------|-------------|----------|----------|----------|\n",
      "|   1   |   3   |   0   | +4.2500e+00 | 1.00e+00 | 1.77e+00 | 0.00e+00 |\n",
      "|   2   |   6   |   1   | +1.9933e+00 | 7.00e+00 | 4.74e-01 | 0.00e+00 |\n",
      "|   3   |   9   |   3   | +1.1286e+00 | 8.77e+00 | 4.03e-03 | 0.00e+00 |\n",
      "|   4   |  12   |   4   | +1.1546e+00 | 8.77e+00 | 1.07e-03 | 0.00e+00 |\n",
      "|   5   |  12   |   4   | +1.1546e+00 | 4.39e+01 | 4.73e-03 | 0.00e+00 |\n",
      "|   6   |  15   |   5   | +1.0456e+00 | 4.39e+01 | 9.98e-05 | 0.00e+00 |\n",
      "|   7   |  15   |   5   | +1.0456e+00 | 2.19e+02 | 4.69e-04 | 0.00e+00 |\n",
      "|   8   |  18   |   6   | +1.0090e+00 | 2.19e+02 | 6.59e-06 | 0.00e+00 |\n",
      "|   9   |  18   |   6   | +1.0090e+00 | 1.10e+03 | 1.92e-05 | 0.00e+00 |\n",
      "|  10   |  21   |   7   | +1.0021e+00 | 1.10e+03 | 9.29e-07 | 0.00e+00 |\n",
      "|  11   |  24   |   9   | +1.0016e+00 | 1.10e+03 | 5.72e-10 | 0.00e+00 |\n",
      "\n",
      "`gtol` termination condition is satisfied.\n",
      "Number of iterations: 11, function evaluations: 24, CG iterations: 9, optimality: 5.72e-10, constraint violation: 0.00e+00, execution time: 0.025 s.\n",
      "[1.00000038 0.99920054]\n"
     ]
    }
   ],
   "source": [
    "x0 = np.array([0.5, 0])\n",
    "res = minimize(f, x0, method='trust-constr', jac=\"2-point\", hess=BFGS(),\n",
    "               constraints=[linear_constraint, nonlinear_constraint],\n",
    "               options={'verbose': 2})\n",
    "print(res.x)"
   ]
  },
  {
   "cell_type": "markdown",
   "metadata": {},
   "source": [
    "## わかりやすい数理計画法 (森北)"
   ]
  },
  {
   "cell_type": "markdown",
   "metadata": {},
   "source": [
    "P128 例6.1  \n",
    "minimize $f(x) = x^2 -2x$  \n",
    "subject to  \n",
    "$g_1(x) = -x \\leq 0$  \n",
    "$g_2(x) = x - 2 \\leq 0$  \n",
    "\n",
    "$x \\geq 0$  \n",
    "$x \\leq 2$  \n",
    "\n",
    "$0 \\leq x \\leq 2$"
   ]
  },
  {
   "cell_type": "code",
   "execution_count": 30,
   "metadata": {},
   "outputs": [],
   "source": [
    "#線形制約\n",
    "A = np.array([1])\n",
    "lb = np.array([0])\n",
    "ub = np.array([2])\n",
    "linear_constraint = LinearConstraint(A, lb, ub)"
   ]
  },
  {
   "cell_type": "code",
   "execution_count": 31,
   "metadata": {},
   "outputs": [],
   "source": [
    "#目的関数\n",
    "def f(x):\n",
    "    return x**2 -2 * x"
   ]
  },
  {
   "cell_type": "code",
   "execution_count": 32,
   "metadata": {},
   "outputs": [
    {
     "name": "stdout",
     "output_type": "stream",
     "text": [
      "| niter |f evals|CG iter|  obj func   |tr radius |   opt    |  c viol  |\n",
      "|-------|-------|-------|-------------|----------|----------|----------|\n",
      "|   1   |   2   |   0   | -7.5000e-01 | 1.00e+00 | 4.80e-01 | 0.00e+00 |\n",
      "|   2   |   4   |   1   | -9.5046e-01 | 2.00e+00 | 1.48e-01 | 0.00e+00 |\n",
      "|   3   |   6   |   2   | -9.9990e-01 | 2.71e+00 | 7.26e-03 | 0.00e+00 |\n",
      "|   4   |   6   |   2   | -9.9990e-01 | 1.36e+01 | 6.73e-03 | 0.00e+00 |\n",
      "|   5   |   6   |   2   | -9.9990e-01 | 6.79e+01 | 6.63e-03 | 0.00e+00 |\n",
      "|   6   |   8   |   3   | -1.0000e+00 | 6.79e+01 | 2.12e-05 | 0.00e+00 |\n",
      "|   7   |   8   |   3   | -1.0000e+00 | 3.39e+02 | 2.11e-05 | 0.00e+00 |\n",
      "|   8   |   8   |   3   | -1.0000e+00 | 1.70e+03 | 2.11e-05 | 0.00e+00 |\n",
      "|   9   |   8   |   3   | -1.0000e+00 | 8.48e+03 | 2.11e-05 | 0.00e+00 |\n",
      "|  10   |   8   |   3   | -1.0000e+00 | 4.24e+04 | 2.11e-05 | 0.00e+00 |\n",
      "|  11   |  10   |   4   | -1.0000e+00 | 4.24e+04 | 4.97e-09 | 0.00e+00 |\n",
      "\n",
      "`gtol` termination condition is satisfied.\n",
      "Number of iterations: 11, function evaluations: 10, CG iterations: 4, optimality: 4.97e-09, constraint violation: 0.00e+00, execution time: 0.017 s.\n",
      "[0.99999999]\n"
     ]
    }
   ],
   "source": [
    "x0 = np.array([0.5])\n",
    "res = minimize(f, x0, method='trust-constr', jac=\"2-point\", hess=BFGS(),\n",
    "               constraints=[linear_constraint],\n",
    "               options={'verbose': 2})\n",
    "print(res.x)"
   ]
  },
  {
   "cell_type": "markdown",
   "metadata": {},
   "source": [
    "P128 例6.2  \n",
    "minimize $f(x) = x^2 -2x$  \n",
    "subject to  \n",
    "$g_1(x) = -x + 2 \\leq 0$  \n",
    "$g_2(x) = x - 3 \\leq 0$\n",
    "\n",
    "$2 \\leq x \\leq 3$"
   ]
  },
  {
   "cell_type": "code",
   "execution_count": 33,
   "metadata": {},
   "outputs": [],
   "source": [
    "#線形制約\n",
    "A = np.array([1])\n",
    "lb = np.array([2])\n",
    "ub = np.array([3])\n",
    "linear_constraint = LinearConstraint(A, lb, ub)"
   ]
  },
  {
   "cell_type": "code",
   "execution_count": 34,
   "metadata": {},
   "outputs": [
    {
     "name": "stdout",
     "output_type": "stream",
     "text": [
      "| niter |f evals|CG iter|  obj func   |tr radius |   opt    |  c viol  |\n",
      "|-------|-------|-------|-------------|----------|----------|----------|\n",
      "|   1   |   2   |   0   | -7.5000e-01 | 1.00e+00 | 5.18e-01 | 1.50e+00 |\n",
      "|   2   |   4   |   1   | -8.1652e-01 | 2.00e+00 | 3.66e-01 | 5.72e-01 |\n",
      "|   3   |   6   |   2   | -9.1604e-01 | 2.02e+00 | 4.83e-04 | 7.10e-01 |\n",
      "|   4   |   8   |   3   | -3.0262e-02 | 4.05e+00 | 1.00e-03 | 1.52e-02 |\n",
      "|   5   |   8   |   3   | -3.0262e-02 | 2.02e+01 | 1.14e-04 | 1.52e-02 |\n",
      "|   6   |  10   |   4   | +1.9485e-02 | 2.02e+01 | 2.18e-06 | 0.00e+00 |\n",
      "|   7   |  10   |   4   | +1.9485e-02 | 1.01e+02 | 1.51e-04 | 0.00e+00 |\n",
      "|   8   |  12   |   5   | +4.1024e-03 | 1.01e+02 | 2.35e-07 | 0.00e+00 |\n",
      "|   9   |  12   |   5   | +4.1024e-03 | 5.06e+02 | 6.78e-06 | 0.00e+00 |\n",
      "|  10   |  14   |   6   | +8.0492e-04 | 5.06e+02 | 2.17e-09 | 0.00e+00 |\n",
      "\n",
      "`gtol` termination condition is satisfied.\n",
      "Number of iterations: 10, function evaluations: 14, CG iterations: 6, optimality: 2.17e-09, constraint violation: 0.00e+00, execution time: 0.02 s.\n",
      "[2.00040238]\n"
     ]
    }
   ],
   "source": [
    "x0 = np.array([0.5])\n",
    "res = minimize(f, x0, method='trust-constr', jac=\"2-point\", hess=BFGS(),\n",
    "               constraints=[linear_constraint],\n",
    "               options={'verbose': 2})\n",
    "print(res.x)"
   ]
  },
  {
   "cell_type": "markdown",
   "metadata": {},
   "source": [
    "P129 例6.3  \n",
    "minimize $f(x) = x^2 -2x$  \n",
    "subject to  \n",
    "$g_1(x) = -x - 1 \\leq 0$  \n",
    "$g_2(x) = x \\leq 0$  \n",
    "\n",
    "$-1 \\leq x \\leq 0$"
   ]
  },
  {
   "cell_type": "code",
   "execution_count": 35,
   "metadata": {},
   "outputs": [],
   "source": [
    "#線形制約\n",
    "A = np.array([1])\n",
    "lb = np.array([-1])\n",
    "ub = np.array([0])\n",
    "linear_constraint = LinearConstraint(A, lb, ub)"
   ]
  },
  {
   "cell_type": "code",
   "execution_count": 36,
   "metadata": {},
   "outputs": [
    {
     "name": "stdout",
     "output_type": "stream",
     "text": [
      "| niter |f evals|CG iter|  obj func   |tr radius |   opt    |  c viol  |\n",
      "|-------|-------|-------|-------------|----------|----------|----------|\n",
      "|   1   |   2   |   0   | -7.5000e-01 | 1.00e+00 | 4.30e-01 | 5.00e-01 |\n",
      "|   2   |   4   |   1   | -8.6962e-01 | 7.00e+00 | 1.53e-03 | 6.39e-01 |\n",
      "|   3   |   6   |   2   | +1.9058e-01 | 8.93e+00 | 1.10e-02 | 0.00e+00 |\n",
      "|   4   |   8   |   3   | +9.6146e-02 | 8.93e+00 | 1.53e-04 | 0.00e+00 |\n",
      "|   5   |   8   |   3   | +9.6146e-02 | 4.47e+01 | 3.71e-03 | 0.00e+00 |\n",
      "|   6   |  10   |   4   | +2.1997e-02 | 4.47e+01 | 2.56e-05 | 0.00e+00 |\n",
      "|   7   |  10   |   4   | +2.1997e-02 | 2.23e+02 | 1.99e-04 | 0.00e+00 |\n",
      "|   8   |  12   |   5   | +4.1415e-03 | 2.23e+02 | 3.19e-07 | 0.00e+00 |\n",
      "|   9   |  12   |   5   | +4.1415e-03 | 1.12e+03 | 6.92e-06 | 0.00e+00 |\n",
      "|  10   |  14   |   6   | +8.0505e-04 | 1.12e+03 | 2.23e-09 | 0.00e+00 |\n",
      "\n",
      "`gtol` termination condition is satisfied.\n",
      "Number of iterations: 10, function evaluations: 14, CG iterations: 6, optimality: 2.23e-09, constraint violation: 0.00e+00, execution time: 0.019 s.\n",
      "[-0.00040244]\n"
     ]
    }
   ],
   "source": [
    "x0 = np.array([0.5])\n",
    "res = minimize(f, x0, method='trust-constr', jac=\"2-point\", hess=BFGS(),\n",
    "               constraints=[linear_constraint],\n",
    "               options={'verbose': 2})\n",
    "print(res.x)"
   ]
  },
  {
   "cell_type": "markdown",
   "metadata": {},
   "source": [
    "P133 例6.4  \n",
    "minimize $f(x_1, x_2) = 3x_1^2 - 18x_1 + 2x_2^2 - 8x_2$  \n",
    "subject to  \n",
    "$g_1(x) = 3x_1 + 12x_2 -48 \\leq 0$  \n",
    "$g_2(x) = 9x_1 + 6x_2 - 54 \\leq 0$  \n",
    "$g_3(x) = -x_1 \\leq 0$  \n",
    "$g_4(x) = -x_2 \\leq 0$  \n",
    "\n",
    "$x_1 + 4x_2 \\leq 16$  \n",
    "$3x_1 + 2x_2 \\leq 18$  \n",
    "$x_1 \\geq 0$  \n",
    "$x_2 \\geq 0$  \n",
    "\n",
    "制約条件(線形制約)  \n",
    "$  \n",
    "\\left(\n",
    "\\begin{array}{r}\n",
    "-\\infty \\\\\n",
    "-\\infty \\\\\n",
    "0 \\\\\n",
    "0 \\\\\n",
    "\\end{array}\n",
    "\\right)\n",
    "\\leq\n",
    "\\left(\n",
    "\\begin{array}{rr}\n",
    "1 & 4 \\\\\n",
    "3 & 2 \\\\\n",
    "1 & 0 \\\\\n",
    "0 & 1 \\\\\n",
    "\\end{array}\n",
    "\\right)\n",
    "\\left(\n",
    "\\begin{array}{r}\n",
    "x_1 \\\\\n",
    "x_2 \\\\\n",
    "\\end{array}\n",
    "\\right)\n",
    "\\leq \n",
    "\\left(\n",
    "\\begin{array}{r}\n",
    "16 \\\\\n",
    "18 \\\\\n",
    "\\infty \\\\\n",
    "\\infty \\\\\n",
    "\\end{array}\n",
    "\\right)\n",
    "$"
   ]
  },
  {
   "cell_type": "code",
   "execution_count": 37,
   "metadata": {},
   "outputs": [],
   "source": [
    "#線形制約\n",
    "A = np.array([[1,4],[3,2],[1,0],[0,1]])\n",
    "lb = np.array([-np.inf,-np.inf,0,0])\n",
    "ub = np.array([16,18,np.inf,np.inf])\n",
    "linear_constraint = LinearConstraint(A, lb, ub)"
   ]
  },
  {
   "cell_type": "code",
   "execution_count": 38,
   "metadata": {},
   "outputs": [],
   "source": [
    "#目的関数\n",
    "def f(x):\n",
    "    return 3 * x[0]**2 - 18 * x[0] + 2 * x[1]**2 -8 * x[1]"
   ]
  },
  {
   "cell_type": "code",
   "execution_count": 39,
   "metadata": {},
   "outputs": [
    {
     "name": "stdout",
     "output_type": "stream",
     "text": [
      "| niter |f evals|CG iter|  obj func   |tr radius |   opt    |  c viol  |\n",
      "|-------|-------|-------|-------------|----------|----------|----------|\n",
      "|   1   |   3   |   0   | -1.1750e+01 | 1.00e+00 | 7.44e+00 | 0.00e+00 |\n",
      "|   2   |   6   |   1   | -2.2224e+01 | 7.00e+00 | 6.08e+00 | 0.00e+00 |\n",
      "|   3   |   9   |   3   | -3.4960e+01 | 2.05e+01 | 1.93e-01 | 0.00e+00 |\n",
      "|   4   |  12   |   5   | -3.4998e+01 | 2.05e+01 | 3.92e-02 | 0.00e+00 |\n",
      "|   5   |  12   |   5   | -3.4998e+01 | 1.02e+02 | 6.20e-02 | 0.00e+00 |\n",
      "|   6   |  15   |   7   | -3.5000e+01 | 1.02e+02 | 9.32e-03 | 0.00e+00 |\n",
      "|   7   |  15   |   7   | -3.5000e+01 | 5.12e+02 | 1.07e-02 | 0.00e+00 |\n",
      "|   8   |  18   |   9   | -3.5000e+01 | 5.12e+02 | 8.21e-04 | 0.00e+00 |\n",
      "|   9   |  18   |   9   | -3.5000e+01 | 2.56e+03 | 1.19e-03 | 0.00e+00 |\n",
      "|  10   |  21   |  10   | -3.5000e+01 | 2.56e+03 | 4.13e-04 | 0.00e+00 |\n",
      "|  11   |  21   |  10   | -3.5000e+01 | 1.28e+04 | 5.60e-04 | 0.00e+00 |\n",
      "|  12   |  24   |  12   | -3.5000e+01 | 1.28e+04 | 8.48e-05 | 0.00e+00 |\n",
      "|  13   |  24   |  12   | -3.5000e+01 | 6.40e+04 | 1.14e-04 | 0.00e+00 |\n",
      "|  14   |  27   |  14   | -3.5000e+01 | 6.40e+04 | 4.80e-07 | 0.00e+00 |\n",
      "|  15   |  27   |  14   | -3.5000e+01 | 3.20e+05 | 7.39e-06 | 0.00e+00 |\n",
      "|  16   |  30   |  16   | -3.5000e+01 | 3.20e+05 | 2.38e-07 | 0.00e+00 |\n",
      "|  17   |  30   |  16   | -3.5000e+01 | 1.60e+06 | 1.71e-06 | 0.00e+00 |\n",
      "|  18   |  33   |  17   | -3.5000e+01 | 1.60e+06 | 6.79e-07 | 0.00e+00 |\n",
      "|  19   |  33   |  17   | -3.5000e+01 | 8.01e+06 | 5.81e-07 | 0.00e+00 |\n",
      "|  20   |  36   |  19   | -3.5000e+01 | 8.01e+06 | 9.76e-08 | 0.00e+00 |\n",
      "|  21   |  36   |  19   | -3.5000e+01 | 4.00e+07 | 9.91e-08 | 0.00e+00 |\n",
      "|  22   |  39   |  20   | -3.5000e+01 | 4.00e+06 | 9.91e-08 | 0.00e+00 |\n",
      "|  23   |  42   |  22   | -3.5000e+01 | 4.00e+05 | 9.91e-08 | 0.00e+00 |\n",
      "|  24   |  45   |  24   | -3.5000e+01 | 4.00e+05 | 8.58e-08 | 0.00e+00 |\n",
      "|  25   |  48   |  26   | -3.5000e+01 | 4.00e+04 | 8.58e-08 | 0.00e+00 |\n",
      "|  26   |  51   |  28   | -3.5000e+01 | 4.00e+04 | 1.52e-08 | 0.00e+00 |\n",
      "|  27   |  51   |  28   | -3.5000e+01 | 2.00e+05 | 3.04e-09 | 0.00e+00 |\n",
      "\n",
      "`gtol` termination condition is satisfied.\n",
      "Number of iterations: 27, function evaluations: 51, CG iterations: 28, optimality: 3.04e-09, constraint violation: 0.00e+00, execution time: 0.048 s.\n",
      "[2.99999998 1.99999996]\n"
     ]
    }
   ],
   "source": [
    "x0 = np.array([0.5, 0.5])\n",
    "res = minimize(f, x0, method='trust-constr', jac=\"2-point\", hess=BFGS(),\n",
    "               constraints=[linear_constraint],\n",
    "               options={'verbose': 2})\n",
    "print(res.x)"
   ]
  },
  {
   "cell_type": "markdown",
   "metadata": {},
   "source": [
    "P133 例6.5  \n",
    "minimize $f(x_1, x_2) = 3x_1^2 - 18x_1 + 2x_2^2 - 8x_2$  \n",
    "subject to  \n",
    "$g_1(x) = 3x_1 + x_2 -9 \\leq 0$  \n",
    "$g_2(x) = 3x_1 + 5x_2 - 15 \\leq 0$  \n",
    "$g_3(x) = -x_1 \\leq 0$  \n",
    "$g_4(x) = -x_2 \\leq 0$  \n",
    "\n",
    "$3x_1 + x_2 \\leq 9$  \n",
    "$3x_1 + 5x_2 \\leq 15$  \n",
    "$x_1 \\geq 0$  \n",
    "$x_2 \\geq 0$  \n",
    "\n",
    "制約条件(線形制約)  \n",
    "$  \n",
    "\\left(\n",
    "\\begin{array}{r}\n",
    "-\\infty \\\\\n",
    "-\\infty \\\\\n",
    "0 \\\\\n",
    "0 \\\\\n",
    "\\end{array}\n",
    "\\right)\n",
    "\\leq\n",
    "\\left(\n",
    "\\begin{array}{rr}\n",
    "3 & 1 \\\\\n",
    "3 & 5 \\\\\n",
    "1 & 0 \\\\\n",
    "0 & 1 \\\\\n",
    "\\end{array}\n",
    "\\right)\n",
    "\\left(\n",
    "\\begin{array}{r}\n",
    "x_1 \\\\\n",
    "x_2 \\\\\n",
    "\\end{array}\n",
    "\\right)\n",
    "\\leq \n",
    "\\left(\n",
    "\\begin{array}{r}\n",
    "9 \\\\\n",
    "15 \\\\\n",
    "\\infty \\\\\n",
    "\\infty \\\\\n",
    "\\end{array}\n",
    "\\right)\n",
    "$"
   ]
  },
  {
   "cell_type": "code",
   "execution_count": 40,
   "metadata": {},
   "outputs": [],
   "source": [
    "#線形制約\n",
    "A = np.array([[3,1],[3,5],[1,0],[0,1]])\n",
    "lb = np.array([-np.inf,-np.inf,0,0])\n",
    "ub = np.array([9,15,np.inf,np.inf])\n",
    "linear_constraint = LinearConstraint(A, lb, ub)"
   ]
  },
  {
   "cell_type": "code",
   "execution_count": 41,
   "metadata": {},
   "outputs": [
    {
     "name": "stdout",
     "output_type": "stream",
     "text": [
      "| niter |f evals|CG iter|  obj func   |tr radius |   opt    |  c viol  |\n",
      "|-------|-------|-------|-------------|----------|----------|----------|\n",
      "|   1   |   3   |   0   | -1.1750e+01 | 1.00e+00 | 7.02e+00 | 0.00e+00 |\n",
      "|   2   |   6   |   1   | -2.0859e+01 | 7.00e+00 | 4.70e+00 | 0.00e+00 |\n",
      "|   3   |   9   |   3   | -3.3661e+01 | 1.84e+01 | 1.25e-03 | 0.00e+00 |\n",
      "|   4   |   9   |   3   | -3.3661e+01 | 9.21e+01 | 1.53e-03 | 0.00e+00 |\n",
      "|   5   |  12   |   4   | -3.3702e+01 | 9.21e+01 | 1.13e-04 | 0.00e+00 |\n",
      "|   6   |  12   |   4   | -3.3702e+01 | 4.60e+02 | 2.51e-04 | 0.00e+00 |\n",
      "|   7   |  15   |   5   | -3.3740e+01 | 4.60e+02 | 2.64e-05 | 0.00e+00 |\n",
      "|   8   |  15   |   5   | -3.3740e+01 | 2.30e+03 | 4.71e-05 | 0.00e+00 |\n",
      "|   9   |  18   |   6   | -3.3747e+01 | 2.30e+03 | 1.06e-06 | 0.00e+00 |\n",
      "|  10   |  21   |   7   | -3.3748e+01 | 2.30e+03 | 1.63e-08 | 0.00e+00 |\n",
      "|  11   |  21   |   7   | -3.3748e+01 | 1.15e+04 | 3.10e-07 | 0.00e+00 |\n",
      "|  12   |  24   |   8   | -3.3750e+01 | 1.15e+04 | 2.00e-09 | 0.00e+00 |\n",
      "\n",
      "`gtol` termination condition is satisfied.\n",
      "Number of iterations: 12, function evaluations: 24, CG iterations: 8, optimality: 2.00e-09, constraint violation: 0.00e+00, execution time: 0.023 s.\n",
      "[2.49997212 1.49988133]\n"
     ]
    }
   ],
   "source": [
    "x0 = np.array([0.5, 0.5])\n",
    "res = minimize(f, x0, method='trust-constr', jac=\"2-point\", hess=BFGS(),\n",
    "               constraints=[linear_constraint],\n",
    "               options={'verbose': 2})\n",
    "print(res.x)"
   ]
  },
  {
   "cell_type": "code",
   "execution_count": null,
   "metadata": {},
   "outputs": [],
   "source": []
  }
 ],
 "metadata": {
  "kernelspec": {
   "display_name": "Python 3",
   "language": "python",
   "name": "python3"
  },
  "language_info": {
   "codemirror_mode": {
    "name": "ipython",
    "version": 3
   },
   "file_extension": ".py",
   "mimetype": "text/x-python",
   "name": "python",
   "nbconvert_exporter": "python",
   "pygments_lexer": "ipython3",
   "version": "3.8.3"
  }
 },
 "nbformat": 4,
 "nbformat_minor": 4
}
