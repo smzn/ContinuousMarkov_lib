{
  "nbformat": 4,
  "nbformat_minor": 0,
  "metadata": {
    "colab": {
      "name": "非線形計画法(制約あり).ipynb",
      "provenance": []
    },
    "kernelspec": {
      "name": "python3",
      "display_name": "Python 3"
    },
    "language_info": {
      "name": "python"
    }
  },
  "cells": [
    {
      "cell_type": "markdown",
      "metadata": {
        "id": "qtG1oavZt9l3"
      },
      "source": [
        "# 非線形計画法(制約あり)\n",
        "非線形計画の制約がある場合をやっていきます。制約も線形で表せる線形制約と線形で表せない非線形制約があります。  \n",
        "\n",
        "## Constrained minimization of multivariate scalar functions (minimize)\n",
        "https://docs.scipy.org/doc/scipy/reference/tutorial/optimize.html#constrained-minimization-of-multivariate-scalar-functions-minimize  \n",
        "https://docs.scipy.org/doc/scipy/reference/tutorial/optimize.html#trust-region-constrained-algorithm-method-trust-constr"
      ]
    },
    {
      "cell_type": "code",
      "metadata": {
        "id": "mty0C2FIw8KT"
      },
      "source": [
        "from scipy.optimize import minimize, BFGS, LinearConstraint, NonlinearConstraint, Bounds\n",
        "import numpy as np"
      ],
      "execution_count": 258,
      "outputs": []
    },
    {
      "cell_type": "markdown",
      "metadata": {
        "id": "CxBKDntJyfhF"
      },
      "source": [
        "### 例題1.1 １変数、線形制約\n",
        "わかりやすい数理計画法 (森北). \n",
        "P128 例6.1  \n",
        "minimize $f(x) = x^2 -2x$  \n",
        "subject to :  \n",
        "$g_1(x) = -x \\leq 0$  \n",
        "$g_2(x) = x - 2 \\leq 0$  \n",
        "\n",
        "$x \\geq 0$  \n",
        "$x \\leq 2$  \n",
        "\n",
        "$0 \\leq x \\leq 2$\n",
        "\n",
        "最適値は$x = 1$のとき、最小値-1"
      ]
    },
    {
      "cell_type": "code",
      "metadata": {
        "id": "m3Uw7Y1RyP-w"
      },
      "source": [
        "#目的関数\n",
        "def f1_1(x):\n",
        "    return x**2 -2 * x"
      ],
      "execution_count": 259,
      "outputs": []
    },
    {
      "cell_type": "code",
      "metadata": {
        "id": "F1fgxDFiyvj3"
      },
      "source": [
        "#線形制約\n",
        "A = np.array([1])\n",
        "lb = np.array([0])\n",
        "ub = np.array([2])\n",
        "linear_constraint = LinearConstraint(A, lb, ub)"
      ],
      "execution_count": 260,
      "outputs": []
    },
    {
      "cell_type": "code",
      "metadata": {
        "colab": {
          "base_uri": "https://localhost:8080/"
        },
        "id": "qzwoYb3EzCkC",
        "outputId": "a9c57279-05ad-4a00-c792-a5aeabd3a757"
      },
      "source": [
        "x0 = np.array([0.5])\n",
        "res = minimize(f1_1, x0, method='trust-constr', jac=\"2-point\", hess=BFGS(),\n",
        "               constraints=[linear_constraint],\n",
        "               options={'verbose': 2})\n",
        "print(res.x)\n",
        "print('x = {0}のとき最小値 : {1}'.format(res.x[0],f1_1(res.x[0])))"
      ],
      "execution_count": 261,
      "outputs": [
        {
          "output_type": "stream",
          "text": [
            "| niter |f evals|CG iter|  obj func   |tr radius |   opt    |  c viol  |\n",
            "|-------|-------|-------|-------------|----------|----------|----------|\n",
            "|   1   |   2   |   0   | -7.5000e-01 | 1.00e+00 | 4.80e-01 | 0.00e+00 |\n",
            "|   2   |   4   |   1   | -9.5046e-01 | 2.00e+00 | 1.48e-01 | 0.00e+00 |\n",
            "|   3   |   6   |   2   | -9.9990e-01 | 2.71e+00 | 7.26e-03 | 0.00e+00 |\n",
            "|   4   |   6   |   2   | -9.9990e-01 | 1.36e+01 | 6.73e-03 | 0.00e+00 |\n",
            "|   5   |   6   |   2   | -9.9990e-01 | 6.79e+01 | 6.63e-03 | 0.00e+00 |\n",
            "|   6   |   8   |   3   | -1.0000e+00 | 6.79e+01 | 2.12e-05 | 0.00e+00 |\n",
            "|   7   |   8   |   3   | -1.0000e+00 | 3.39e+02 | 2.11e-05 | 0.00e+00 |\n",
            "|   8   |   8   |   3   | -1.0000e+00 | 1.70e+03 | 2.11e-05 | 0.00e+00 |\n",
            "|   9   |   8   |   3   | -1.0000e+00 | 8.48e+03 | 2.11e-05 | 0.00e+00 |\n",
            "|  10   |   8   |   3   | -1.0000e+00 | 4.24e+04 | 2.11e-05 | 0.00e+00 |\n",
            "|  11   |  10   |   4   | -1.0000e+00 | 4.24e+04 | 4.97e-09 | 0.00e+00 |\n",
            "\n",
            "`gtol` termination condition is satisfied.\n",
            "Number of iterations: 11, function evaluations: 10, CG iterations: 4, optimality: 4.97e-09, constraint violation: 0.00e+00, execution time: 0.035 s.\n",
            "[0.99999999]\n",
            "x = 0.9999999868129473のとき最小値 : -0.9999999999999998\n"
          ],
          "name": "stdout"
        }
      ]
    },
    {
      "cell_type": "markdown",
      "metadata": {
        "id": "SFcNqYn60m4X"
      },
      "source": [
        "### 例題1.2 1変数、線形制約 \n",
        "わかりやすい数理計画法 (森北) P128 例6.2  \n",
        "minimize $f(x) = x^2 -2x$  \n",
        "subject to  \n",
        "$g_1(x) = -x + 2 \\leq 0$  \n",
        "$g_2(x) = x - 3 \\leq 0$\n",
        "\n",
        "$2 \\leq x \\leq 3$  \n",
        "$x = 2$のとき、最小値0  \n"
      ]
    },
    {
      "cell_type": "code",
      "metadata": {
        "id": "MrG2Ohvx0_72"
      },
      "source": [
        "#線形制約\n",
        "A = np.array([1])\n",
        "lb = np.array([2])\n",
        "ub = np.array([3])\n",
        "linear_constraint = LinearConstraint(A, lb, ub)"
      ],
      "execution_count": 262,
      "outputs": []
    },
    {
      "cell_type": "code",
      "metadata": {
        "colab": {
          "base_uri": "https://localhost:8080/"
        },
        "id": "CpnIg82Q1Sh8",
        "outputId": "a3ffb7b3-a707-4431-c4e8-b4b61e2365fb"
      },
      "source": [
        "x0 = np.array([0.5])\n",
        "res = minimize(f1_1, x0, method='trust-constr', jac=\"2-point\", hess=BFGS(),\n",
        "               constraints=[linear_constraint],\n",
        "               options={'verbose': 2})\n",
        "print(res.x)\n",
        "print('x = {0}のとき最小値 : {1}'.format(res.x[0],f1_1(res.x[0])))"
      ],
      "execution_count": 263,
      "outputs": [
        {
          "output_type": "stream",
          "text": [
            "| niter |f evals|CG iter|  obj func   |tr radius |   opt    |  c viol  |\n",
            "|-------|-------|-------|-------------|----------|----------|----------|\n",
            "|   1   |   2   |   0   | -7.5000e-01 | 1.00e+00 | 5.18e-01 | 1.50e+00 |\n",
            "|   2   |   4   |   1   | -8.1652e-01 | 2.00e+00 | 3.66e-01 | 5.72e-01 |\n",
            "|   3   |   6   |   2   | -9.1604e-01 | 2.02e+00 | 4.83e-04 | 7.10e-01 |\n",
            "|   4   |   8   |   3   | -3.0262e-02 | 4.05e+00 | 1.00e-03 | 1.52e-02 |\n",
            "|   5   |   8   |   3   | -3.0262e-02 | 2.02e+01 | 1.14e-04 | 1.52e-02 |\n",
            "|   6   |  10   |   4   | +1.9485e-02 | 2.02e+01 | 2.18e-06 | 0.00e+00 |\n",
            "|   7   |  10   |   4   | +1.9485e-02 | 1.01e+02 | 1.51e-04 | 0.00e+00 |\n",
            "|   8   |  12   |   5   | +4.1024e-03 | 1.01e+02 | 2.35e-07 | 0.00e+00 |\n",
            "|   9   |  12   |   5   | +4.1024e-03 | 5.06e+02 | 6.78e-06 | 0.00e+00 |\n",
            "|  10   |  14   |   6   | +8.0492e-04 | 5.06e+02 | 2.17e-09 | 0.00e+00 |\n",
            "\n",
            "`gtol` termination condition is satisfied.\n",
            "Number of iterations: 10, function evaluations: 14, CG iterations: 6, optimality: 2.17e-09, constraint violation: 0.00e+00, execution time: 0.026 s.\n",
            "[2.00040238]\n",
            "x = 2.000402378675703のとき最小値 : 0.0008049192600045885\n"
          ],
          "name": "stdout"
        }
      ]
    },
    {
      "cell_type": "markdown",
      "metadata": {
        "id": "SZiAJk7e13R1"
      },
      "source": [
        "### 例題1.3 1変数、線形制約   \n",
        "わかりやすい数理計画法 (森北) P129 例6.3  \n",
        "minimize $f(x) = x^2 -2x$  \n",
        "subject to  \n",
        "$g_1(x) = -x - 1 \\leq 0$  \n",
        "$g_2(x) = x \\leq 0$  \n",
        "\n",
        "$-1 \\leq x \\leq 0$   \n",
        "$x = 0$のとき、最小値0"
      ]
    },
    {
      "cell_type": "code",
      "metadata": {
        "id": "j3XTm9rr3BTM"
      },
      "source": [
        "#線形制約\n",
        "A = np.array([1])\n",
        "lb = np.array([-1])\n",
        "ub = np.array([0])\n",
        "linear_constraint = LinearConstraint(A, lb, ub)"
      ],
      "execution_count": 264,
      "outputs": []
    },
    {
      "cell_type": "code",
      "metadata": {
        "colab": {
          "base_uri": "https://localhost:8080/"
        },
        "id": "vEa4iLEr3FFZ",
        "outputId": "968603d5-3371-4d2d-eeec-29d8c871bb37"
      },
      "source": [
        "x0 = np.array([0.5])\n",
        "res = minimize(f1_1, x0, method='trust-constr', jac=\"2-point\", hess=BFGS(),\n",
        "               constraints=[linear_constraint],\n",
        "               options={'verbose': 2})\n",
        "print(res.x)\n",
        "print('x = {0}のとき最小値 : {1}'.format(res.x[0],f1_1(res.x[0])))"
      ],
      "execution_count": 265,
      "outputs": [
        {
          "output_type": "stream",
          "text": [
            "| niter |f evals|CG iter|  obj func   |tr radius |   opt    |  c viol  |\n",
            "|-------|-------|-------|-------------|----------|----------|----------|\n",
            "|   1   |   2   |   0   | -7.5000e-01 | 1.00e+00 | 4.30e-01 | 5.00e-01 |\n",
            "|   2   |   4   |   1   | -8.6962e-01 | 7.00e+00 | 1.53e-03 | 6.39e-01 |\n",
            "|   3   |   6   |   2   | +1.9058e-01 | 8.93e+00 | 1.10e-02 | 0.00e+00 |\n",
            "|   4   |   8   |   3   | +9.6146e-02 | 8.93e+00 | 1.53e-04 | 0.00e+00 |\n",
            "|   5   |   8   |   3   | +9.6146e-02 | 4.47e+01 | 3.71e-03 | 0.00e+00 |\n",
            "|   6   |  10   |   4   | +2.1997e-02 | 4.47e+01 | 2.56e-05 | 0.00e+00 |\n",
            "|   7   |  10   |   4   | +2.1997e-02 | 2.23e+02 | 1.99e-04 | 0.00e+00 |\n",
            "|   8   |  12   |   5   | +4.1415e-03 | 2.23e+02 | 3.19e-07 | 0.00e+00 |\n",
            "|   9   |  12   |   5   | +4.1415e-03 | 1.12e+03 | 6.92e-06 | 0.00e+00 |\n",
            "|  10   |  14   |   6   | +8.0505e-04 | 1.12e+03 | 2.23e-09 | 0.00e+00 |\n",
            "\n",
            "`gtol` termination condition is satisfied.\n",
            "Number of iterations: 10, function evaluations: 14, CG iterations: 6, optimality: 2.23e-09, constraint violation: 0.00e+00, execution time: 0.024 s.\n",
            "[-0.00040244]\n",
            "x = -0.00040244268091493363のとき最小値 : 0.0008050473219412893\n"
          ],
          "name": "stdout"
        }
      ]
    },
    {
      "cell_type": "markdown",
      "metadata": {
        "id": "gJwgjDTx5pJZ"
      },
      "source": [
        "### 例題1.4 多変数、線形制約\n",
        "わかりやすい数理計画法 (森北) P133 例6.4  \n",
        "minimize $f(x_1, x_2) = 3x_1^2 - 18x_1 + 2x_2^2 - 8x_2$  \n",
        "subject to  \n",
        "$g_1(x) = 3x_1 + 12x_2 -48 \\leq 0$  \n",
        "$g_2(x) = 9x_1 + 6x_2 - 54 \\leq 0$  \n",
        "$g_3(x) = -x_1 \\leq 0$  \n",
        "$g_4(x) = -x_2 \\leq 0$  \n",
        "\n",
        "$x_1 + 4x_2 \\leq 16$  \n",
        "$3x_1 + 2x_2 \\leq 18$  \n",
        "$x_1 \\geq 0$  \n",
        "$x_2 \\geq 0$  \n",
        "\n",
        "制約条件(線形制約)  \n",
        "$  \n",
        "\\left(\n",
        "\\begin{array}{r}\n",
        "-\\infty \\\\\n",
        "-\\infty \\\\\n",
        "0 \\\\\n",
        "0 \\\\\n",
        "\\end{array}\n",
        "\\right)\n",
        "\\leq\n",
        "\\left(\n",
        "\\begin{array}{rr}\n",
        "1 & 4 \\\\\n",
        "3 & 2 \\\\\n",
        "1 & 0 \\\\\n",
        "0 & 1 \\\\\n",
        "\\end{array}\n",
        "\\right)\n",
        "\\left(\n",
        "\\begin{array}{r}\n",
        "x_1 \\\\\n",
        "x_2 \\\\\n",
        "\\end{array}\n",
        "\\right)\n",
        "\\leq \n",
        "\\left(\n",
        "\\begin{array}{r}\n",
        "16 \\\\\n",
        "18 \\\\\n",
        "\\infty \\\\\n",
        "\\infty \\\\\n",
        "\\end{array}\n",
        "\\right)\n",
        "$ \n",
        "   \n",
        "$(x_1, x_2) = (3, 2)$のとき、最小値-35"
      ]
    },
    {
      "cell_type": "code",
      "metadata": {
        "id": "F5bsrBU65noU"
      },
      "source": [
        "#目的関数\n",
        "def f1_4(x):\n",
        "    return 3 * x[0]**2 - 18 * x[0] + 2 * x[1]**2 -8 * x[1]"
      ],
      "execution_count": 266,
      "outputs": []
    },
    {
      "cell_type": "code",
      "metadata": {
        "id": "kf-R8Bki6SjT"
      },
      "source": [
        "#線形制約\n",
        "A = np.array([[1,4],[3,2],[1,0],[0,1]])\n",
        "lb = np.array([-np.inf,-np.inf,0,0])\n",
        "ub = np.array([16,18,np.inf,np.inf])\n",
        "linear_constraint = LinearConstraint(A, lb, ub)"
      ],
      "execution_count": 267,
      "outputs": []
    },
    {
      "cell_type": "code",
      "metadata": {
        "colab": {
          "base_uri": "https://localhost:8080/"
        },
        "id": "ABw6jMyy6evj",
        "outputId": "ad2961f8-26b5-4d57-9675-094c049d9248"
      },
      "source": [
        "x0 = np.array([0.5, 0.5])\n",
        "res = minimize(f1_4, x0, method='trust-constr', jac=\"2-point\", hess=BFGS(),\n",
        "               constraints=[linear_constraint],\n",
        "               options={'verbose': 2})\n",
        "print(res.x)\n",
        "print('x = {0}のとき最小値 : {1}'.format(res.x,f1_4(res.x)))"
      ],
      "execution_count": 268,
      "outputs": [
        {
          "output_type": "stream",
          "text": [
            "| niter |f evals|CG iter|  obj func   |tr radius |   opt    |  c viol  |\n",
            "|-------|-------|-------|-------------|----------|----------|----------|\n",
            "|   1   |   3   |   0   | -1.1750e+01 | 1.00e+00 | 7.44e+00 | 0.00e+00 |\n",
            "|   2   |   6   |   1   | -2.2224e+01 | 7.00e+00 | 6.08e+00 | 0.00e+00 |\n",
            "|   3   |   9   |   3   | -3.4960e+01 | 2.05e+01 | 1.93e-01 | 0.00e+00 |\n",
            "|   4   |  12   |   5   | -3.4998e+01 | 2.05e+01 | 3.92e-02 | 0.00e+00 |\n",
            "|   5   |  12   |   5   | -3.4998e+01 | 1.02e+02 | 6.20e-02 | 0.00e+00 |\n",
            "|   6   |  15   |   7   | -3.5000e+01 | 1.02e+02 | 9.32e-03 | 0.00e+00 |\n",
            "|   7   |  15   |   7   | -3.5000e+01 | 5.12e+02 | 1.07e-02 | 0.00e+00 |\n",
            "|   8   |  18   |   9   | -3.5000e+01 | 5.12e+02 | 8.21e-04 | 0.00e+00 |\n",
            "|   9   |  18   |   9   | -3.5000e+01 | 2.56e+03 | 1.19e-03 | 0.00e+00 |\n",
            "|  10   |  21   |  10   | -3.5000e+01 | 2.56e+03 | 4.13e-04 | 0.00e+00 |\n",
            "|  11   |  21   |  10   | -3.5000e+01 | 1.28e+04 | 5.60e-04 | 0.00e+00 |\n",
            "|  12   |  24   |  12   | -3.5000e+01 | 1.28e+04 | 8.50e-05 | 0.00e+00 |\n",
            "|  13   |  24   |  12   | -3.5000e+01 | 6.40e+04 | 1.15e-04 | 0.00e+00 |\n",
            "|  14   |  27   |  14   | -3.5000e+01 | 6.40e+04 | 2.58e-07 | 0.00e+00 |\n",
            "|  15   |  27   |  14   | -3.5000e+01 | 3.20e+05 | 7.43e-06 | 0.00e+00 |\n",
            "|  16   |  30   |  16   | -3.5000e+01 | 3.20e+05 | 2.88e-07 | 0.00e+00 |\n",
            "|  17   |  30   |  16   | -3.5000e+01 | 1.60e+06 | 1.81e-06 | 0.00e+00 |\n",
            "|  18   |  33   |  17   | -3.5000e+01 | 1.60e+06 | 6.79e-07 | 0.00e+00 |\n",
            "|  19   |  33   |  17   | -3.5000e+01 | 8.01e+06 | 5.81e-07 | 0.00e+00 |\n",
            "|  20   |  36   |  19   | -3.5000e+01 | 8.01e+06 | 9.14e-08 | 0.00e+00 |\n",
            "|  21   |  36   |  19   | -3.5000e+01 | 4.00e+07 | 1.07e-07 | 0.00e+00 |\n",
            "|  22   |  42   |  21   | -3.5000e+01 | 4.00e+06 | 1.07e-07 | 0.00e+00 |\n",
            "|  23   |  45   |  23   | -3.5000e+01 | 4.00e+06 | 1.38e-07 | 0.00e+00 |\n",
            "|  24   |  48   |  24   | -3.5000e+01 | 4.00e+05 | 1.38e-07 | 0.00e+00 |\n",
            "|  25   |  54   |  25   | -3.5000e+01 | 4.00e+04 | 1.38e-07 | 0.00e+00 |\n",
            "|  26   |  60   |  26   | -3.5000e+01 | 4.00e+03 | 1.38e-07 | 0.00e+00 |\n",
            "|  27   |  66   |  27   | -3.5000e+01 | 4.00e+02 | 1.38e-07 | 0.00e+00 |\n",
            "|  28   |  72   |  28   | -3.5000e+01 | 4.00e+01 | 1.38e-07 | 0.00e+00 |\n",
            "|  29   |  78   |  29   | -3.5000e+01 | 4.00e+00 | 1.38e-07 | 0.00e+00 |\n",
            "|  30   |  84   |  30   | -3.5000e+01 | 4.00e-01 | 1.38e-07 | 0.00e+00 |\n",
            "|  31   |  90   |  31   | -3.5000e+01 | 4.00e-02 | 1.38e-07 | 0.00e+00 |\n",
            "|  32   |  96   |  32   | -3.5000e+01 | 4.00e-03 | 1.38e-07 | 0.00e+00 |\n",
            "|  33   |  102  |  33   | -3.5000e+01 | 4.00e-04 | 1.38e-07 | 0.00e+00 |\n",
            "|  34   |  108  |  34   | -3.5000e+01 | 4.00e-05 | 1.38e-07 | 0.00e+00 |\n",
            "|  35   |  114  |  35   | -3.5000e+01 | 4.00e-06 | 1.38e-07 | 0.00e+00 |\n",
            "|  36   |  120  |  36   | -3.5000e+01 | 4.00e-07 | 1.38e-07 | 0.00e+00 |\n",
            "|  37   |  126  |  37   | -3.5000e+01 | 6.06e-08 | 1.38e-07 | 0.00e+00 |\n",
            "|  38   |  129  |  38   | -3.5000e+01 | 3.03e-08 | 1.38e-07 | 0.00e+00 |\n",
            "|  39   |  135  |  39   | -3.5000e+01 | 1.51e-08 | 1.38e-07 | 0.00e+00 |\n",
            "|  40   |  138  |  40   | -3.5000e+01 | 7.57e-09 | 1.38e-07 | 0.00e+00 |\n",
            "|  41   |  141  |  40   | -3.5000e+01 | 1.00e+00 | 1.26e-07 | 0.00e+00 |\n",
            "|  42   |  147  |  41   | -3.5000e+01 | 1.00e-01 | 1.26e-07 | 0.00e+00 |\n",
            "|  43   |  150  |  42   | -3.5000e+01 | 1.00e-02 | 1.26e-07 | 0.00e+00 |\n",
            "|  44   |  150  |  43   | -3.5000e+01 | 1.00e-03 | 1.26e-07 | 0.00e+00 |\n",
            "|  45   |  150  |  44   | -3.5000e+01 | 1.00e-04 | 1.26e-07 | 0.00e+00 |\n",
            "|  46   |  150  |  45   | -3.5000e+01 | 1.00e-05 | 1.26e-07 | 0.00e+00 |\n",
            "|  47   |  150  |  46   | -3.5000e+01 | 1.00e-06 | 1.26e-07 | 0.00e+00 |\n",
            "|  48   |  150  |  47   | -3.5000e+01 | 1.00e-07 | 1.26e-07 | 0.00e+00 |\n",
            "|  49   |  150  |  48   | -3.5000e+01 | 3.15e-08 | 1.26e-07 | 0.00e+00 |\n",
            "|  50   |  153  |  49   | -3.5000e+01 | 1.57e-08 | 1.26e-07 | 0.00e+00 |\n",
            "|  51   |  159  |  50   | -3.5000e+01 | 7.87e-09 | 1.26e-07 | 0.00e+00 |\n",
            "|  52   |  162  |  50   | -3.5000e+01 | 1.00e+00 | 1.23e-07 | 0.00e+00 |\n",
            "|  53   |  165  |  51   | -3.5000e+01 | 1.00e-01 | 1.23e-07 | 0.00e+00 |\n",
            "|  54   |  165  |  52   | -3.5000e+01 | 1.00e-02 | 1.23e-07 | 0.00e+00 |\n",
            "|  55   |  165  |  53   | -3.5000e+01 | 1.00e-03 | 1.23e-07 | 0.00e+00 |\n",
            "|  56   |  165  |  54   | -3.5000e+01 | 1.00e-04 | 1.23e-07 | 0.00e+00 |\n",
            "|  57   |  165  |  55   | -3.5000e+01 | 1.00e-05 | 1.23e-07 | 0.00e+00 |\n",
            "|  58   |  165  |  56   | -3.5000e+01 | 1.00e-06 | 1.23e-07 | 0.00e+00 |\n",
            "|  59   |  165  |  57   | -3.5000e+01 | 1.00e-07 | 1.23e-07 | 0.00e+00 |\n",
            "|  60   |  165  |  58   | -3.5000e+01 | 1.00e-08 | 1.23e-07 | 0.00e+00 |\n",
            "|  61   |  168  |  59   | -3.5000e+01 | 1.52e-09 | 1.23e-07 | 0.00e+00 |\n",
            "\n",
            "`xtol` termination condition is satisfied.\n",
            "Number of iterations: 61, function evaluations: 168, CG iterations: 59, optimality: 1.23e-07, constraint violation: 0.00e+00, execution time: 0.16 s.\n",
            "[2.99999998 2.00000003]\n",
            "x = [2.99999998 2.00000003]のとき最小値 : -35.0\n"
          ],
          "name": "stdout"
        },
        {
          "output_type": "stream",
          "text": [
            "/usr/local/lib/python3.7/dist-packages/scipy/optimize/_hessian_update_strategy.py:187: UserWarning: delta_grad == 0.0. Check if the approximated function is linear. If the function is linear better results can be obtained by defining the Hessian as zero instead of using quasi-Newton approximations.\n",
            "  'approximations.', UserWarning)\n"
          ],
          "name": "stderr"
        }
      ]
    },
    {
      "cell_type": "markdown",
      "metadata": {
        "id": "d2EpOWaS8Hkh"
      },
      "source": [
        "### 例題1.5 多変数、線形制約\n",
        "わかりやすい数理計画法 (森北) P133 例6.5  \n",
        "minimize $f(x_1, x_2) = 3x_1^2 - 18x_1 + 2x_2^2 - 8x_2$  \n",
        "subject to  \n",
        "$g_1(x) = 3x_1 + x_2 -9 \\leq 0$  \n",
        "$g_2(x) = 3x_1 + 5x_2 - 15 \\leq 0$  \n",
        "$g_3(x) = -x_1 \\leq 0$  \n",
        "$g_4(x) = -x_2 \\leq 0$  \n",
        "\n",
        "$3x_1 + x_2 \\leq 9$  \n",
        "$3x_1 + 5x_2 \\leq 15$  \n",
        "$x_1 \\geq 0$  \n",
        "$x_2 \\geq 0$  \n",
        "\n",
        "制約条件(線形制約)  \n",
        "$  \n",
        "\\left(\n",
        "\\begin{array}{r}\n",
        "-\\infty \\\\\n",
        "-\\infty \\\\\n",
        "0 \\\\\n",
        "0 \\\\\n",
        "\\end{array}\n",
        "\\right)\n",
        "\\leq\n",
        "\\left(\n",
        "\\begin{array}{rr}\n",
        "3 & 1 \\\\\n",
        "3 & 5 \\\\\n",
        "1 & 0 \\\\\n",
        "0 & 1 \\\\\n",
        "\\end{array}\n",
        "\\right)\n",
        "\\left(\n",
        "\\begin{array}{r}\n",
        "x_1 \\\\\n",
        "x_2 \\\\\n",
        "\\end{array}\n",
        "\\right)\n",
        "\\leq \n",
        "\\left(\n",
        "\\begin{array}{r}\n",
        "9 \\\\\n",
        "15 \\\\\n",
        "\\infty \\\\\n",
        "\\infty \\\\\n",
        "\\end{array}\n",
        "\\right)\n",
        "$\n",
        "\n",
        "$(x_1, x_2) = (2.5, 1.5)$のとき、最小値-33.75"
      ]
    },
    {
      "cell_type": "code",
      "metadata": {
        "id": "R7SQcRLs8flg"
      },
      "source": [
        "#線形制約\n",
        "A = np.array([[3,1],[3,5],[1,0],[0,1]])\n",
        "lb = np.array([-np.inf,-np.inf,0,0])\n",
        "ub = np.array([9,15,np.inf,np.inf])\n",
        "linear_constraint = LinearConstraint(A, lb, ub)"
      ],
      "execution_count": 269,
      "outputs": []
    },
    {
      "cell_type": "code",
      "metadata": {
        "colab": {
          "base_uri": "https://localhost:8080/"
        },
        "id": "46oGbzyj8sMz",
        "outputId": "f545c0ad-4d7d-4a68-ceb9-0eab279df320"
      },
      "source": [
        "x0 = np.array([0.5, 0.5])\n",
        "res = minimize(f1_4, x0, method='trust-constr', jac=\"2-point\", hess=BFGS(),\n",
        "               constraints=[linear_constraint],\n",
        "               options={'verbose': 2})\n",
        "print(res.x)\n",
        "print('x = {0}のとき最小値 : {1}'.format(res.x,f1_4(res.x)))"
      ],
      "execution_count": 270,
      "outputs": [
        {
          "output_type": "stream",
          "text": [
            "| niter |f evals|CG iter|  obj func   |tr radius |   opt    |  c viol  |\n",
            "|-------|-------|-------|-------------|----------|----------|----------|\n",
            "|   1   |   3   |   0   | -1.1750e+01 | 1.00e+00 | 7.02e+00 | 0.00e+00 |\n",
            "|   2   |   6   |   1   | -2.0859e+01 | 7.00e+00 | 4.70e+00 | 0.00e+00 |\n",
            "|   3   |   9   |   3   | -3.3661e+01 | 1.84e+01 | 1.25e-03 | 0.00e+00 |\n",
            "|   4   |   9   |   3   | -3.3661e+01 | 9.21e+01 | 1.53e-03 | 0.00e+00 |\n",
            "|   5   |  12   |   4   | -3.3702e+01 | 9.21e+01 | 1.13e-04 | 0.00e+00 |\n",
            "|   6   |  12   |   4   | -3.3702e+01 | 4.60e+02 | 2.51e-04 | 0.00e+00 |\n",
            "|   7   |  15   |   5   | -3.3740e+01 | 4.60e+02 | 2.64e-05 | 0.00e+00 |\n",
            "|   8   |  15   |   5   | -3.3740e+01 | 2.30e+03 | 4.71e-05 | 0.00e+00 |\n",
            "|   9   |  18   |   6   | -3.3747e+01 | 2.30e+03 | 1.06e-06 | 0.00e+00 |\n",
            "|  10   |  21   |   7   | -3.3748e+01 | 2.30e+03 | 1.63e-08 | 0.00e+00 |\n",
            "|  11   |  21   |   7   | -3.3748e+01 | 1.15e+04 | 3.10e-07 | 0.00e+00 |\n",
            "|  12   |  24   |   8   | -3.3750e+01 | 1.15e+04 | 2.00e-09 | 0.00e+00 |\n",
            "\n",
            "`gtol` termination condition is satisfied.\n",
            "Number of iterations: 12, function evaluations: 24, CG iterations: 8, optimality: 2.00e-09, constraint violation: 0.00e+00, execution time: 0.045 s.\n",
            "[2.49997212 1.49988133]\n",
            "x = [2.49997212 1.49988133]のとき最小値 : -33.74967898095845\n"
          ],
          "name": "stdout"
        }
      ]
    },
    {
      "cell_type": "markdown",
      "metadata": {
        "id": "Lyi0KscDwSZY"
      },
      "source": [
        "### 例題1.6 多変数、非線形制約  \n",
        "非線形制約付きの場合 新版数理計画入門 福島雅夫 朝倉書店 P114 (4.19)  \n",
        "目的関数(最小化) : $f(x_1, x_2) = (x_1 - 1)^2 + (x_2 -2)^2$  \n",
        "制約条件 :   \n",
        "$c_1(x_1, x_2) = x_1^2 + x_2^2 -2 \\leq 0$   \n",
        "$c_2(x_1, x_2) = -x_1 + x_2 \\leq 0$  \n",
        "$c_3(x_1, x_2) = -x_2 \\leq 0$  \n",
        "\n",
        "制約条件(線形制約)  \n",
        "$  \n",
        "\\left(\n",
        "\\begin{array}{r}\n",
        "-\\infty \\\\\n",
        "-\\infty \\\\\n",
        "\\end{array}\n",
        "\\right)\n",
        "\\leq\n",
        "\\left(\n",
        "\\begin{array}{rr}\n",
        "-1 & 1 \\\\\n",
        "0 & -1 \\\\\n",
        "\\end{array}\n",
        "\\right)\n",
        "\\left(\n",
        "\\begin{array}{r}\n",
        "x_1 \\\\\n",
        "x_2 \\\\\n",
        "\\end{array}\n",
        "\\right)\n",
        "\\leq \n",
        "\\left(\n",
        "\\begin{array}{r}\n",
        "0 \\\\\n",
        "0 \\\\\n",
        "\\end{array}\n",
        "\\right)\n",
        "$\n",
        "\n",
        "$(x_1, x_2) = (1, 1)$のとき、最小値0"
      ]
    },
    {
      "cell_type": "code",
      "metadata": {
        "id": "PqM6-C8wxmoY"
      },
      "source": [
        "#目的関数\n",
        "def f1_6(x):\n",
        "    return (x[0] - 1)**2 + (x[0] - x[1])**2"
      ],
      "execution_count": 271,
      "outputs": []
    },
    {
      "cell_type": "code",
      "metadata": {
        "id": "eF8nNL0Axceh"
      },
      "source": [
        "#線形制約\n",
        "A = np.array([[-1,1],[0,-1]])\n",
        "lb = np.array([-np.inf,-np.inf])\n",
        "ub = np.array([0,0])\n",
        "linear_constraint = LinearConstraint(A, lb, ub)"
      ],
      "execution_count": 272,
      "outputs": []
    },
    {
      "cell_type": "code",
      "metadata": {
        "id": "q1iLmNnkxrHy"
      },
      "source": [
        "#非線形制約\n",
        "def cons_f(x):\n",
        "    return x[0]**2 + x[1]**2"
      ],
      "execution_count": 273,
      "outputs": []
    },
    {
      "cell_type": "code",
      "metadata": {
        "id": "HzV2g9kC988n"
      },
      "source": [
        "#非線形制約\n",
        "nonlinear_constraint = NonlinearConstraint(cons_f, -np.inf, 2, jac=\"2-point\", hess=BFGS())"
      ],
      "execution_count": 274,
      "outputs": []
    },
    {
      "cell_type": "code",
      "metadata": {
        "colab": {
          "base_uri": "https://localhost:8080/"
        },
        "id": "tUrKXM2K-E8o",
        "outputId": "262ddfb8-8880-4b39-9ac1-ef75b6fb1ceb"
      },
      "source": [
        "x0 = np.array([0.5, 0])\n",
        "res = minimize(f1_6, x0, method='trust-constr', jac=\"2-point\", hess=BFGS(),\n",
        "               constraints=[linear_constraint, nonlinear_constraint],\n",
        "               options={'verbose': 2})\n",
        "print(res.x)\n",
        "print('x = {0}のとき最小値 : {1}'.format(res.x,f1_6(res.x)))"
      ],
      "execution_count": 275,
      "outputs": [
        {
          "output_type": "stream",
          "text": [
            "| niter |f evals|CG iter|  obj func   |tr radius |   opt    |  c viol  |\n",
            "|-------|-------|-------|-------------|----------|----------|----------|\n",
            "|   1   |   3   |   0   | +5.0000e-01 | 1.00e+00 | 4.06e-01 | 0.00e+00 |\n",
            "|   2   |   6   |   2   | +1.8856e-01 | 6.14e+00 | 1.75e-01 | 0.00e+00 |\n",
            "|   3   |   9   |   4   | +6.4718e-02 | 6.14e+00 | 1.06e-03 | 0.00e+00 |\n",
            "|   4   |  12   |   5   | +6.7011e-02 | 6.14e+00 | 7.49e-04 | 0.00e+00 |\n",
            "|   5   |  12   |   5   | +6.7011e-02 | 3.07e+01 | 1.66e-02 | 0.00e+00 |\n",
            "|   6   |  15   |   6   | +2.7663e-02 | 3.07e+01 | 3.82e-03 | 0.00e+00 |\n",
            "|   7   |  15   |   6   | +2.7663e-02 | 1.54e+02 | 6.76e-03 | 0.00e+00 |\n",
            "|   8   |  18   |   8   | +8.8081e-03 | 1.54e+02 | 8.60e-04 | 0.00e+00 |\n",
            "|   9   |  21   |  10   | +4.5134e-03 | 1.54e+02 | 9.32e-05 | 0.00e+00 |\n",
            "|  10   |  21   |  10   | +4.5134e-03 | 7.68e+02 | 3.78e-04 | 0.00e+00 |\n",
            "|  11   |  24   |  11   | +1.6144e-03 | 7.68e+02 | 4.23e-05 | 0.00e+00 |\n",
            "|  12   |  27   |  12   | +9.6051e-04 | 7.68e+02 | 1.09e-05 | 0.00e+00 |\n",
            "|  13   |  27   |  12   | +9.6051e-04 | 3.84e+03 | 3.81e-05 | 0.00e+00 |\n",
            "|  14   |  30   |  13   | +3.6373e-04 | 3.84e+03 | 4.57e-06 | 0.00e+00 |\n",
            "|  15   |  33   |  15   | +1.8826e-04 | 3.84e+03 | 4.45e-07 | 0.00e+00 |\n",
            "|  16   |  33   |  15   | +1.8826e-04 | 1.92e+04 | 2.82e-06 | 0.00e+00 |\n",
            "|  17   |  36   |  16   | +6.7516e-05 | 1.92e+04 | 4.77e-07 | 0.00e+00 |\n",
            "|  18   |  39   |  18   | +3.6683e-05 | 1.92e+04 | 4.96e-08 | 0.00e+00 |\n",
            "|  19   |  39   |  18   | +3.6683e-05 | 9.60e+04 | 2.64e-07 | 0.00e+00 |\n",
            "|  20   |  42   |  19   | +1.2963e-05 | 9.60e+04 | 2.92e-08 | 0.00e+00 |\n",
            "|  21   |  45   |  20   | +7.7266e-06 | 9.60e+04 | 7.05e-09 | 0.00e+00 |\n",
            "\n",
            "`gtol` termination condition is satisfied.\n",
            "Number of iterations: 21, function evaluations: 45, CG iterations: 20, optimality: 7.05e-09, constraint violation: 0.00e+00, execution time: 0.071 s.\n",
            "[0.99838816 0.99612352]\n",
            "x = [0.99838816 0.99612352]のとき最小値 : 7.72661003712857e-06\n"
          ],
          "name": "stdout"
        }
      ]
    },
    {
      "cell_type": "markdown",
      "metadata": {
        "id": "PfWdTx53UWyd"
      },
      "source": [
        "### 例題1.7 線形制約　　\n",
        "坂和、西崎 数理計画法入門 (森北) P5 例1.3 \n",
        "\n",
        "目的関数(Maximize) : $-x_1^2 -x_2^2 +4x_1 + 11x_2$  \n",
        "Subject to:  \n",
        "$2x_1 + 6x_2 \\leq 27$  \n",
        "$3x_1 + 2x_2 \\leq 16$  \n",
        "$4x_1 + x_2 \\leq 18$  \n",
        "$x_1 \\geq 0, x_2 \\geq 0$\n",
        "\n",
        "線形制約条件\n",
        "$  \n",
        "\\left(\n",
        "\\begin{array}{r}\n",
        "-\\infty \\\\\n",
        "-\\infty \\\\\n",
        "-\\infty \\\\\n",
        "0 \\\\\n",
        "0 \\\\\n",
        "\\end{array}\n",
        "\\right)\n",
        "\\leq\n",
        "\\left(\n",
        "\\begin{array}{rr}\n",
        "2 & 6 \\\\\n",
        "3 & 2 \\\\\n",
        "4 & 1 \\\\\n",
        "1 & 0 \\\\\n",
        "0 & 1 \\\\\n",
        "\\end{array}\n",
        "\\right)\n",
        "\\left(\n",
        "\\begin{array}{r}\n",
        "x_1 \\\\\n",
        "x_2 \\\\\n",
        "\\end{array}\n",
        "\\right)\n",
        "\\leq \n",
        "\\left(\n",
        "\\begin{array}{r}\n",
        "27 \\\\\n",
        "16 \\\\\n",
        "18 \\\\\n",
        "\\infty \\\\\n",
        "\\infty \\\\\n",
        "\\end{array}\n",
        "\\right)\n",
        "$\n",
        "\n",
        "最適解は$(x_1, x_2) = (1.5, 4)$のとき、最大値31.75"
      ]
    },
    {
      "cell_type": "code",
      "metadata": {
        "id": "rdtp2L80W9qy"
      },
      "source": [
        "#目的関数(最大化なので-1をかけている)\n",
        "def f1_7(x):\n",
        "    return -(- x[0]**2 - x[1]**2 + 4 * x[0] + 11 * x[1])"
      ],
      "execution_count": 276,
      "outputs": []
    },
    {
      "cell_type": "code",
      "metadata": {
        "id": "plS1xul6XdgR"
      },
      "source": [
        "#線形制約\n",
        "A = np.array([[2,6],[3,2],[4,1],[1,0],[0,1]])\n",
        "lb = np.array([-np.inf,-np.inf,-np.inf,0,0])\n",
        "ub = np.array([27,16,18,np.inf,np.inf])\n",
        "linear_constraint = LinearConstraint(A, lb, ub)"
      ],
      "execution_count": 277,
      "outputs": []
    },
    {
      "cell_type": "code",
      "metadata": {
        "colab": {
          "base_uri": "https://localhost:8080/"
        },
        "id": "_s8l0h-dXy8w",
        "outputId": "5402e71d-c5ec-4242-cf64-8cf3fe01c086"
      },
      "source": [
        "x0 = np.array([0.5, 0.5])\n",
        "res = minimize(f1_7, x0, method='trust-constr', jac=\"2-point\", hess=BFGS(),\n",
        "               constraints=[linear_constraint],\n",
        "               options={'verbose': 2})\n",
        "print(res.x)\n",
        "print('x = {0}のとき最小値 : {1}'.format(res.x,f1_7(res.x)))"
      ],
      "execution_count": 278,
      "outputs": [
        {
          "output_type": "stream",
          "text": [
            "| niter |f evals|CG iter|  obj func   |tr radius |   opt    |  c viol  |\n",
            "|-------|-------|-------|-------------|----------|----------|----------|\n",
            "|   1   |   3   |   0   | -7.0000e+00 | 1.00e+00 | 4.91e+00 | 0.00e+00 |\n",
            "|   2   |   6   |   1   | -1.3200e+01 | 7.00e+00 | 4.53e+00 | 0.00e+00 |\n",
            "|   3   |   9   |   3   | -3.1654e+01 | 2.97e+01 | 1.96e-01 | 0.00e+00 |\n",
            "|   4   |  12   |   4   | -3.1700e+01 | 2.97e+01 | 1.84e-03 | 0.00e+00 |\n",
            "|   5   |  12   |   4   | -3.1700e+01 | 1.49e+02 | 1.65e-02 | 0.00e+00 |\n",
            "|   6   |  15   |   6   | -3.1730e+01 | 1.49e+02 | 2.70e-05 | 0.00e+00 |\n",
            "|   7   |  15   |   6   | -3.1730e+01 | 7.44e+02 | 3.87e-03 | 0.00e+00 |\n",
            "|   8   |  18   |   8   | -3.1746e+01 | 7.44e+02 | 3.48e-06 | 0.00e+00 |\n",
            "|   9   |  18   |   8   | -3.1746e+01 | 3.72e+03 | 7.82e-04 | 0.00e+00 |\n",
            "|  10   |  21   |  10   | -3.1749e+01 | 3.72e+03 | 1.00e-07 | 0.00e+00 |\n",
            "|  11   |  21   |  10   | -3.1749e+01 | 1.86e+04 | 1.56e-04 | 0.00e+00 |\n",
            "|  12   |  24   |  12   | -3.1750e+01 | 1.86e+04 | 1.65e-08 | 0.00e+00 |\n",
            "|  13   |  24   |  12   | -3.1750e+01 | 9.29e+04 | 3.13e-05 | 0.00e+00 |\n",
            "|  14   |  27   |  14   | -3.1750e+01 | 9.29e+04 | 5.14e-11 | 0.00e+00 |\n",
            "\n",
            "`gtol` termination condition is satisfied.\n",
            "Number of iterations: 14, function evaluations: 27, CG iterations: 14, optimality: 5.14e-11, constraint violation: 0.00e+00, execution time: 0.041 s.\n",
            "[1.49998899 3.999993  ]\n",
            "x = [1.49998899 3.999993  ]のとき最小値 : -31.749967997545347\n"
          ],
          "name": "stdout"
        }
      ]
    },
    {
      "cell_type": "markdown",
      "metadata": {
        "id": "DTE2B7W7uow_"
      },
      "source": [
        "### **参考 (多変数、線形制約)**\n",
        "  https://qiita.com/shotoyoo/items/83297f959e1922465288  \n",
        "$f(x_1, x_2) = x_1^2 -x_2^2 + x_1 x_2 - x_1 +x_2$  \n",
        "\n",
        "制約条件(線形制約の場合)  \n",
        "$0 \\leq x_1 + x_ 2 \\leq 1$  \n",
        "$0 \\leq x_1 \\leq 1$  \n",
        "$0 \\leq x_2 \\leq 1$  \n",
        "\n",
        "$  \n",
        "\\left(\n",
        "\\begin{array}{r}\n",
        "0 \\\\\n",
        "0 \\\\\n",
        "0 \\\\\n",
        "\\end{array}\n",
        "\\right)\n",
        "\\leq\n",
        "\\left(\n",
        "\\begin{array}{rr}\n",
        "1 & 1 \\\\\n",
        "1 & 0 \\\\\n",
        "0 & 1 \\\\\n",
        "\\end{array}\n",
        "\\right)\n",
        "\\left(\n",
        "\\begin{array}{r}\n",
        "x_1 \\\\\n",
        "x_2 \\\\\n",
        "\\end{array}\n",
        "\\right)\n",
        "\\leq \n",
        "\\left(\n",
        "\\begin{array}{r}\n",
        "1 \\\\\n",
        "1 \\\\\n",
        "1 \\\\\n",
        "\\end{array}\n",
        "\\right)\n",
        "$"
      ]
    },
    {
      "cell_type": "code",
      "metadata": {
        "id": "wXLUgYlftvxg"
      },
      "source": [
        "def f(x):\n",
        "    return x[0]**2 - x[1]**2 + x[0]*x[1] - x[0] + x[1]"
      ],
      "execution_count": 279,
      "outputs": []
    },
    {
      "cell_type": "code",
      "metadata": {
        "id": "wJj4eUv7_GIX"
      },
      "source": [
        "x0 = np.array([0,0], dtype=float)\n",
        "# 制約: 各変数と両者の和が[0,1]という線形制約\n",
        "A = np.array([[1,1],[1,0],[0,1]])\n",
        "lb = np.array([0,0,0])\n",
        "ub = np.array([1,1,1])\n",
        "const = LinearConstraint(A, lb, ub)"
      ],
      "execution_count": 280,
      "outputs": []
    },
    {
      "cell_type": "code",
      "metadata": {
        "colab": {
          "base_uri": "https://localhost:8080/"
        },
        "id": "NISlxnCG_PER",
        "outputId": "bae3a4da-ad6a-4bd7-9f9d-fa640030229f"
      },
      "source": [
        "# 最適化\n",
        "res = minimize(f,                       # 目的関数, \n",
        "                x0,                     # 初期解,\n",
        "                method=\"trust-constr\",  # 制約付き信頼領域法\n",
        "                jac=\"2-point\",          # 勾配関数\n",
        "                hess=BFGS(),            # ヘシアンの推定方法\n",
        "                constraints=const,      # 制約\n",
        "                options={\"maxiter\": 50, # 最大反復数\n",
        "                         \"verbose\":2})  # 最適化の過程を出力\n",
        "print(res[\"x\"])"
      ],
      "execution_count": 281,
      "outputs": [
        {
          "output_type": "stream",
          "text": [
            "| niter |f evals|CG iter|  obj func   |tr radius |   opt    |  c viol  |\n",
            "|-------|-------|-------|-------------|----------|----------|----------|\n",
            "|   1   |   3   |   0   | +0.0000e+00 | 1.00e+00 | 4.22e-01 | 0.00e+00 |\n",
            "|   2   |   6   |   1   | -4.3704e-01 | 7.00e+00 | 1.45e-01 | 1.26e-01 |\n",
            "|   3   |   9   |   3   | -3.2247e-01 | 7.00e+00 | 2.64e-02 | 5.66e-02 |\n",
            "|   4   |   9   |   3   | -3.2247e-01 | 3.50e+01 | 1.67e-02 | 5.66e-02 |\n",
            "|   5   |  12   |   5   | -2.2604e-01 | 3.84e+01 | 1.03e-02 | 0.00e+00 |\n",
            "|   6   |  15   |   6   | -2.3191e-01 | 3.84e+01 | 3.00e-03 | 0.00e+00 |\n",
            "|   7   |  15   |   6   | -2.3191e-01 | 1.92e+02 | 2.76e-03 | 0.00e+00 |\n",
            "|   8   |  18   |   8   | -2.4576e-01 | 1.92e+02 | 5.57e-05 | 0.00e+00 |\n",
            "|   9   |  18   |   8   | -2.4576e-01 | 9.60e+02 | 5.86e-05 | 0.00e+00 |\n",
            "|  10   |  21   |  10   | -2.4919e-01 | 9.60e+02 | 1.73e-04 | 0.00e+00 |\n",
            "|  11   |  21   |  10   | -2.4919e-01 | 4.80e+03 | 1.72e-04 | 0.00e+00 |\n",
            "|  12   |  24   |  12   | -2.4984e-01 | 4.80e+03 | 8.53e-05 | 0.00e+00 |\n",
            "|  13   |  27   |  13   | -2.4984e-01 | 4.80e+03 | 3.80e-05 | 0.00e+00 |\n",
            "|  14   |  27   |  13   | -2.4984e-01 | 2.40e+04 | 3.79e-05 | 0.00e+00 |\n",
            "|  15   |  30   |  15   | -2.4997e-01 | 2.40e+04 | 1.14e-08 | 0.00e+00 |\n",
            "|  16   |  30   |  15   | -2.4997e-01 | 1.20e+05 | 1.11e-08 | 0.00e+00 |\n",
            "|  17   |  33   |  17   | -2.4999e-01 | 1.20e+05 | 7.01e-07 | 0.00e+00 |\n",
            "|  18   |  33   |  17   | -2.4999e-01 | 6.00e+05 | 7.01e-07 | 0.00e+00 |\n",
            "|  19   |  36   |  19   | -2.5000e-01 | 6.00e+05 | 2.06e-07 | 0.00e+00 |\n",
            "|  20   |  36   |  19   | -2.5000e-01 | 3.00e+06 | 2.06e-07 | 0.00e+00 |\n",
            "|  21   |  39   |  21   | -2.5000e-01 | 3.00e+06 | 8.81e-08 | 0.00e+00 |\n",
            "|  22   |  39   |  21   | -2.5000e-01 | 1.50e+07 | 8.81e-08 | 0.00e+00 |\n",
            "|  23   |  42   |  23   | -2.5000e-01 | 1.50e+07 | 3.77e-08 | 0.00e+00 |\n",
            "|  24   |  45   |  24   | -2.5000e-01 | 1.50e+07 | 4.71e-09 | 0.00e+00 |\n",
            "\n",
            "`gtol` termination condition is satisfied.\n",
            "Number of iterations: 24, function evaluations: 45, CG iterations: 24, optimality: 4.71e-09, constraint violation: 0.00e+00, execution time: 0.068 s.\n",
            "[4.99999936e-01 3.41331929e-08]\n"
          ],
          "name": "stdout"
        }
      ]
    },
    {
      "cell_type": "markdown",
      "metadata": {
        "id": "5l6A0baf3O1O"
      },
      "source": [
        "## 定常分布の分散を最小化する\n",
        "2021年 OR学会秋 \n",
        "連続時間型マルコフ連鎖を利用した施設密集度最適化手法の提案  \n",
        "Durrett P165 Example 4.14 (Duke Basketball)"
      ]
    },
    {
      "cell_type": "markdown",
      "metadata": {
        "id": "FgOJgy3pSu8F"
      },
      "source": [
        "\\begin{eqnarray} \n",
        "  minimize && \\sigma(a) = \\frac{1}{|S|}\\sum_{i \\in S}(\\pi_i(a) - \\bar{\\pi}_i)^2 \\\\ \n",
        "  subject \\ to && a_i \\geq 0, a_i \\in \\mathbb{R}, i \\in S \\nonumber \\\\\n",
        "  && \\sum_{i \\in S}\\frac{1}{a_i} = K, K \\in \\mathbb{R} \\nonumber \\\\\n",
        "  && a'(1-\\gamma) \\leq a \\leq a' (1 + \\gamma), \\gamma \\in \\mathbb{R} \\nonumber\n",
        "\\end{eqnarray}"
      ]
    },
    {
      "cell_type": "code",
      "metadata": {
        "id": "_5axz5Ym97mY"
      },
      "source": [
        "import numpy as np\n",
        "from numpy.linalg import solve\n",
        "import pandas as pd"
      ],
      "execution_count": 282,
      "outputs": []
    },
    {
      "cell_type": "code",
      "metadata": {
        "colab": {
          "base_uri": "https://localhost:8080/"
        },
        "id": "xK5AzNa284qU",
        "outputId": "1d57401b-fe8f-454a-d8a9-3cee47b8e495"
      },
      "source": [
        "#推移確率行列、サービス率の設定\n",
        "mu = np.array([4.0, 15/2, 3.0, 10.0])\n",
        "T = sum(1 / mu) #平均滞在時間の和 (等式制約で利用)\n",
        "print(T)\n",
        "gamma = 0.25 #最適化でのmuの動く率\n",
        "p = p = np.array([[0.0, 0.7, 0.3, 0.0],[0.0, 0.0, 1.0, 0.0],[1/3, 0.0, 0.0, 2/3], [1.0, 0.0, 0.0, 0.0]])\n",
        "p"
      ],
      "execution_count": 283,
      "outputs": [
        {
          "output_type": "stream",
          "text": [
            "0.8166666666666665\n"
          ],
          "name": "stdout"
        },
        {
          "output_type": "execute_result",
          "data": {
            "text/plain": [
              "array([[0.        , 0.7       , 0.3       , 0.        ],\n",
              "       [0.        , 0.        , 1.        , 0.        ],\n",
              "       [0.33333333, 0.        , 0.        , 0.66666667],\n",
              "       [1.        , 0.        , 0.        , 0.        ]])"
            ]
          },
          "metadata": {},
          "execution_count": 283
        }
      ]
    },
    {
      "cell_type": "code",
      "metadata": {
        "id": "MBUVr1bu9T2D"
      },
      "source": [
        "#推移率行列を作成する関数\n",
        "def getTransitionRate(p, mu):\n",
        "    q = p.copy()\n",
        "    #推移率行列を求める\n",
        "    #(1)サービス率と推移確率との積をとる\n",
        "    for i in range(len(q)):\n",
        "        q[i] *= mu[i]\n",
        "    #(2)対角要素に行和のマイナス値を入れる\n",
        "    for i in range(len(q)):\n",
        "        q[i][i] = np.sum(q[i]) * (-1)\n",
        "    return q"
      ],
      "execution_count": 284,
      "outputs": []
    },
    {
      "cell_type": "code",
      "metadata": {
        "id": "rU1nil7aBr-9"
      },
      "source": [
        "#推移率行列を作成\n",
        "#q = getTransitionRate(p, mu)\n",
        "#q"
      ],
      "execution_count": 285,
      "outputs": []
    },
    {
      "cell_type": "code",
      "metadata": {
        "id": "H_kViwAHByFE"
      },
      "source": [
        "#推移確率行列から定常分布を求める関数\n",
        "def getStationary_solve(q):#numpy.solveを使う場合\n",
        "    #定常分布を求める\n",
        "    q1 = q.copy()\n",
        "    #(3)最終列に1を代入\n",
        "    right = [0 for i in range(len(q))]\n",
        "    right[-1] = 1 #最後の要素のみ1にする\n",
        "    q1[:,-1] = 1 #最終列を1にする\n",
        "    #(4)連立方程式を解く πP=0 => P^tπ=0\n",
        "    pi = solve(q1.T, right)\n",
        "    return pi"
      ],
      "execution_count": 286,
      "outputs": []
    },
    {
      "cell_type": "code",
      "metadata": {
        "id": "tlaUvkQ5CpQ4"
      },
      "source": [
        "#推移確率から定常分布を求める\n",
        "#pi = getStationary_solve(q)\n",
        "#pi"
      ],
      "execution_count": 287,
      "outputs": []
    },
    {
      "cell_type": "code",
      "metadata": {
        "id": "cTlz1HsJC-DH"
      },
      "source": [
        "#目的関数\n",
        "def getObjective(pi):\n",
        "  return np.var(pi)"
      ],
      "execution_count": 288,
      "outputs": []
    },
    {
      "cell_type": "code",
      "metadata": {
        "id": "ZgKFGk8BE900"
      },
      "source": [
        "#目的間数値を求める\n",
        "#getObjective(pi)"
      ],
      "execution_count": 289,
      "outputs": []
    },
    {
      "cell_type": "code",
      "metadata": {
        "id": "GA4VtzYOWgLK"
      },
      "source": [
        "def getConstraint(mu):\n",
        "  Ts = [1/i for i in mu]#平均時間に変換\n",
        "  return T - np.sum(Ts)"
      ],
      "execution_count": 290,
      "outputs": []
    },
    {
      "cell_type": "code",
      "metadata": {
        "id": "AkeOzGOkFD0Q"
      },
      "source": [
        "#等式制約\n",
        "cons = ({'type':'eq','fun':getConstraint})\n",
        "#bounds\n",
        "lb = mu * (1 - gamma)\n",
        "ub = mu * (1 + gamma)\n",
        "#bounds = [(3,5), (5.625,9.375), (2.25,3.75), (7.5, 12.5)]\n",
        "#Boundsクラスを利用して、bounds=Bounds(lb, ub),とする"
      ],
      "execution_count": 291,
      "outputs": []
    },
    {
      "cell_type": "code",
      "metadata": {
        "id": "4M79DygpXbFm"
      },
      "source": [
        "#目的関数 (サービス率を変更して、再度定常分布を求め、目的関数を求める)\n",
        "def getOptimize(mu):\n",
        "  #(1)推移確率行列を求める\n",
        "  q = getTransitionRate(p, mu)\n",
        "  #(2)定常分布を求める\n",
        "  pi = getStationary_solve(q)\n",
        "  #(3)目的間数値を求める\n",
        "  return getObjective(pi)"
      ],
      "execution_count": 292,
      "outputs": []
    },
    {
      "cell_type": "code",
      "metadata": {
        "colab": {
          "base_uri": "https://localhost:8080/"
        },
        "id": "IevjK_UOZSa3",
        "outputId": "d7cd7e07-603d-4267-f412-bf23033afd70"
      },
      "source": [
        "# 最適化\n",
        "res = minimize(getOptimize,                       # 目的関数, \n",
        "                mu,                     # 初期解,\n",
        "                method=\"trust-constr\",  # 制約付き信頼領域法\n",
        "                jac=\"2-point\",          # 勾配関数\n",
        "                hess=BFGS(),            # ヘシアンの推定方法\n",
        "                constraints=cons,      # 制約\n",
        "                bounds=Bounds(lb, ub),\n",
        "                options={\"maxiter\": 50, # 最大反復数\n",
        "                         \"verbose\":2})  # 最適化の過程を出力\n",
        "print(res[\"x\"])\n",
        "#最終結果\n",
        "q = getTransitionRate(p, res['x'])\n",
        "pi = getStationary_solve(q)\n",
        "val = getObjective(pi)\n",
        "print('定常分布pi = {0}'.format(pi))\n",
        "print('目的間数値(最終) : {0}'.format(val))"
      ],
      "execution_count": 293,
      "outputs": [
        {
          "output_type": "stream",
          "text": [
            "| niter |f evals|CG iter|  obj func   |tr radius |   opt    |  c viol  |\n",
            "|-------|-------|-------|-------------|----------|----------|----------|\n",
            "|   1   |   5   |   0   | +2.2003e-02 | 1.00e+00 | 2.05e-03 | 0.00e+00 |\n",
            "|   2   |  10   |   1   | +2.1992e-02 | 5.60e+00 | 1.62e-03 | 5.00e-08 |\n",
            "|   3   |  15   |   3   | +2.1754e-02 | 5.60e+00 | 2.12e-04 | 1.57e-05 |\n",
            "|   4   |  15   |   3   | +2.1754e-02 | 2.80e+01 | 1.24e-03 | 1.57e-05 |\n",
            "|   5   |  15   |   3   | +2.1754e-02 | 1.40e+02 | 1.52e-03 | 1.57e-05 |\n",
            "|   6   |  15   |   3   | +2.1754e-02 | 7.00e+02 | 1.57e-03 | 1.57e-05 |\n",
            "|   7   |  25   |   5   | +1.7846e-02 | 7.00e+02 | 9.95e-04 | 3.06e-04 |\n",
            "|   8   |  30   |   6   | +1.5899e-02 | 7.00e+02 | 7.47e-04 | 1.26e-03 |\n",
            "|   9   |  35   |   8   | +1.4438e-02 | 7.00e+02 | 5.98e-04 | 7.52e-04 |\n",
            "|  10   |  35   |   8   | +1.4438e-02 | 3.50e+03 | 7.97e-04 | 7.52e-04 |\n",
            "|  11   |  40   |  10   | +1.2709e-02 | 3.50e+03 | 5.52e-04 | 1.15e-03 |\n",
            "|  12   |  45   |  11   | +1.2218e-02 | 3.50e+03 | 3.17e-04 | 2.00e-04 |\n",
            "|  13   |  50   |  12   | +1.1827e-02 | 3.50e+03 | 1.29e-04 | 1.23e-04 |\n",
            "|  14   |  55   |  13   | +1.1540e-02 | 3.50e+03 | 3.41e-05 | 5.94e-05 |\n",
            "|  15   |  60   |  14   | +1.1372e-02 | 3.50e+03 | 6.78e-06 | 1.56e-05 |\n",
            "|  16   |  60   |  14   | +1.1372e-02 | 1.75e+04 | 2.18e-05 | 1.56e-05 |\n",
            "|  17   |  65   |  16   | +1.0985e-02 | 1.75e+04 | 3.11e-06 | 6.04e-05 |\n",
            "|  18   |  70   |  17   | +1.0937e-02 | 1.75e+04 | 2.51e-07 | 1.48e-05 |\n",
            "|  19   |  70   |  17   | +1.0937e-02 | 8.75e+04 | 7.69e-07 | 1.48e-05 |\n",
            "|  20   |  75   |  18   | +1.0846e-02 | 8.75e+04 | 2.34e-08 | 9.47e-06 |\n",
            "|  21   |  80   |  19   | +1.0838e-02 | 8.75e+04 | 2.29e-09 | 7.92e-08 |\n",
            "|  22   |  80   |  19   | +1.0838e-02 | 4.38e+05 | 2.07e-08 | 7.92e-08 |\n",
            "|  23   |  85   |  20   | +1.0824e-02 | 4.38e+05 | 4.28e-10 | 1.36e-07 |\n",
            "|  24   |  85   |  20   | +1.0824e-02 | 2.19e+06 | 1.24e-09 | 1.36e-07 |\n",
            "|  25   |  90   |  21   | +1.0821e-02 | 2.19e+06 | 7.37e-11 | 2.03e-08 |\n",
            "|  26   |  95   |  23   | +1.0820e-02 | 2.19e+06 | 1.63e-12 | 3.91e-10 |\n",
            "\n",
            "`gtol` termination condition is satisfied.\n",
            "Number of iterations: 26, function evaluations: 95, CG iterations: 23, optimality: 1.63e-12, constraint violation: 3.91e-10, execution time: 0.096 s.\n",
            "[4.1861203  5.62508772 3.74986762 7.50013673]\n",
            "定常分布pi = [0.33229632 0.17310355 0.37095506 0.12364507]\n",
            "目的間数値(最終) : 0.010820360960032211\n"
          ],
          "name": "stdout"
        }
      ]
    },
    {
      "cell_type": "markdown",
      "metadata": {
        "id": "VWlMnDTpDyfb"
      },
      "source": [
        "## 浜名湖ガーデンパークの滞在率を最適化して混雑を改善する\n",
        "33拠点, クラス1, 網内人数500人 で実施する"
      ]
    },
    {
      "cell_type": "code",
      "metadata": {
        "id": "0NmaUk4vaYhe"
      },
      "source": [
        "#推移確率行列、サービス率の設定\n",
        "N = 33\n",
        "mu = np.ones(N)\n",
        "T = sum(1 / mu) #平均滞在時間の和 (等式制約で利用)\n",
        "gamma = 0.25 #最適化でのmuの動く率"
      ],
      "execution_count": 294,
      "outputs": []
    },
    {
      "cell_type": "code",
      "metadata": {
        "colab": {
          "base_uri": "https://localhost:8080/"
        },
        "id": "WeHF_f77coIE",
        "outputId": "0761fe1b-d8a1-41a8-e5a6-8a470b425275"
      },
      "source": [
        "from google.colab import drive\n",
        "drive.mount('/content/drive', force_remount=True)"
      ],
      "execution_count": 295,
      "outputs": [
        {
          "output_type": "stream",
          "text": [
            "Mounted at /content/drive\n"
          ],
          "name": "stdout"
        }
      ]
    },
    {
      "cell_type": "code",
      "metadata": {
        "id": "oXPDvqXhEnLY"
      },
      "source": [
        "import pandas as pd\n",
        "import matplotlib.pyplot as plt"
      ],
      "execution_count": 296,
      "outputs": []
    },
    {
      "cell_type": "code",
      "metadata": {
        "colab": {
          "base_uri": "https://localhost:8080/"
        },
        "id": "5ekhs1bmdJ0I",
        "outputId": "f3e85ab4-225b-4a76-ca36-2d6b6a615f28"
      },
      "source": [
        "p = pd.read_csv('/content/drive/MyDrive/研究/BCMP/csv/transition33.csv')\n",
        "p = p.iloc[:N, :N] #今回は最初のクラスのみ利用\n",
        "p = np.array(p)\n",
        "p"
      ],
      "execution_count": 297,
      "outputs": [
        {
          "output_type": "execute_result",
          "data": {
            "text/plain": [
              "array([[0.   , 0.047, 0.046, ..., 0.035, 0.038, 0.018],\n",
              "       [0.042, 0.   , 0.05 , ..., 0.033, 0.037, 0.017],\n",
              "       [0.037, 0.045, 0.   , ..., 0.031, 0.034, 0.015],\n",
              "       ...,\n",
              "       [0.016, 0.017, 0.017, ..., 0.   , 0.084, 0.06 ],\n",
              "       [0.016, 0.017, 0.017, ..., 0.076, 0.   , 0.037],\n",
              "       [0.016, 0.017, 0.017, ..., 0.119, 0.081, 0.   ]])"
            ]
          },
          "metadata": {},
          "execution_count": 297
        }
      ]
    },
    {
      "cell_type": "code",
      "metadata": {
        "colab": {
          "base_uri": "https://localhost:8080/"
        },
        "id": "5QVh6n_IdctV",
        "outputId": "fb8e4121-ee27-4849-ea65-768e098bfd8b"
      },
      "source": [
        "#推移率行列を作成\n",
        "q = getTransitionRate(p, mu)\n",
        "q"
      ],
      "execution_count": 298,
      "outputs": [
        {
          "output_type": "execute_result",
          "data": {
            "text/plain": [
              "array([[-1.001,  0.047,  0.046, ...,  0.035,  0.038,  0.018],\n",
              "       [ 0.042, -0.999,  0.05 , ...,  0.033,  0.037,  0.017],\n",
              "       [ 0.037,  0.045, -1.003, ...,  0.031,  0.034,  0.015],\n",
              "       ...,\n",
              "       [ 0.016,  0.017,  0.017, ..., -0.996,  0.084,  0.06 ],\n",
              "       [ 0.016,  0.017,  0.017, ...,  0.076, -1.001,  0.037],\n",
              "       [ 0.016,  0.017,  0.017, ...,  0.119,  0.081, -1.001]])"
            ]
          },
          "metadata": {},
          "execution_count": 298
        }
      ]
    },
    {
      "cell_type": "code",
      "metadata": {
        "colab": {
          "base_uri": "https://localhost:8080/"
        },
        "id": "6L_y54PUgLAj",
        "outputId": "305acde2-1a2e-4b9a-c545-06cd2b10ebbf"
      },
      "source": [
        "#推移確率から定常分布を求める\n",
        "pi = getStationary_solve(q)\n",
        "print(pi)\n",
        "np.sum(pi)"
      ],
      "execution_count": 299,
      "outputs": [
        {
          "output_type": "stream",
          "text": [
            "[0.01933797 0.0215444  0.02380094 0.02448347 0.02502658 0.02648525\n",
            " 0.02766109 0.05184957 0.02679539 0.02739965 0.02901152 0.02832282\n",
            " 0.02722483 0.05467196 0.0287907  0.02842202 0.02910552 0.02679775\n",
            " 0.0556468  0.02931604 0.02692018 0.02940556 0.02556521 0.02300526\n",
            " 0.05023485 0.02653398 0.0259687  0.02366611 0.02326739 0.02390243\n",
            " 0.0420844  0.04656493 0.02118675]\n"
          ],
          "name": "stdout"
        },
        {
          "output_type": "execute_result",
          "data": {
            "text/plain": [
              "0.9999999999999997"
            ]
          },
          "metadata": {},
          "execution_count": 299
        }
      ]
    },
    {
      "cell_type": "code",
      "metadata": {
        "colab": {
          "base_uri": "https://localhost:8080/",
          "height": 638
        },
        "id": "2ZjIiyrxoPXd",
        "outputId": "fd1891e4-c86f-4b09-9b6f-453cd1fe2e75"
      },
      "source": [
        "#初期状態での定常分布\n",
        "x_label = [i for i in range(N)]\n",
        "plt.figure(figsize=(10,10))\n",
        "plt.title('Stationary Distribution using initial values')\n",
        "plt.xlabel('Node Number')\n",
        "plt.ylabel('Probability')\n",
        "plt.bar(x_label, pi)"
      ],
      "execution_count": 300,
      "outputs": [
        {
          "output_type": "execute_result",
          "data": {
            "text/plain": [
              "<BarContainer object of 33 artists>"
            ]
          },
          "metadata": {},
          "execution_count": 300
        },
        {
          "output_type": "display_data",
          "data": {
            "image/png": "[encoded data removed]",
            "text/plain": [
              "<Figure size 720x720 with 1 Axes>"
            ]
          },
          "metadata": {
            "needs_background": "light"
          }
        }
      ]
    },
    {
      "cell_type": "code",
      "metadata": {
        "colab": {
          "base_uri": "https://localhost:8080/"
        },
        "id": "ZZL9CwTXgm2q",
        "outputId": "f618766c-a902-4928-d2fe-a45e74482adc"
      },
      "source": [
        "#目的間数値を求める\n",
        "getObjective(pi)"
      ],
      "execution_count": 301,
      "outputs": [
        {
          "output_type": "execute_result",
          "data": {
            "text/plain": [
              "9.752442244352505e-05"
            ]
          },
          "metadata": {},
          "execution_count": 301
        }
      ]
    },
    {
      "cell_type": "code",
      "metadata": {
        "id": "aD8R86_liYvk"
      },
      "source": [
        "#等式制約\n",
        "cons = ({'type':'eq','fun':getConstraint})\n",
        "#bounds\n",
        "lb = mu * (1 - gamma)\n",
        "ub = mu * (1 + gamma)\n",
        "#bounds = [(3,5), (5.625,9.375), (2.25,3.75), (7.5, 12.5)]\n",
        "#Boundsクラスを利用して、bounds=Bounds(lb, ub),とする"
      ],
      "execution_count": 302,
      "outputs": []
    },
    {
      "cell_type": "code",
      "metadata": {
        "colab": {
          "base_uri": "https://localhost:8080/"
        },
        "id": "6FPrN6IVg2Kp",
        "outputId": "431c0a78-5dc6-49a9-b8f6-6a6c2c7ff642"
      },
      "source": [
        "# 最適化\n",
        "res = minimize(getOptimize,             # 目的関数, \n",
        "                mu,                     # 初期解,\n",
        "                method=\"trust-constr\",  # 制約付き信頼領域法\n",
        "                jac=\"2-point\",          # 勾配関数\n",
        "                hess=BFGS(),            # ヘシアンの推定方法\n",
        "                constraints=cons,      # 制約\n",
        "                bounds=Bounds(lb, ub),\n",
        "                options={\"maxiter\": 50, # 最大反復数\n",
        "                         \"verbose\":2})  # 最適化の過程を出力\n",
        "print('説明変数μ = {0}'.format(res[\"x\"]))\n",
        "#最終結果\n",
        "q = getTransitionRate(p, res['x'])\n",
        "pi = getStationary_solve(q)\n",
        "val = getObjective(pi)\n",
        "print('定常分布pi = {0}'.format(pi))\n",
        "print('目的間数値(最終) : {0}'.format(val))"
      ],
      "execution_count": 303,
      "outputs": [
        {
          "output_type": "stream",
          "text": [
            "| niter |f evals|CG iter|  obj func   |tr radius |   opt    |  c viol  |\n",
            "|-------|-------|-------|-------------|----------|----------|----------|\n",
            "|   1   |  34   |   0   | +9.7524e-05 | 1.00e+00 | 2.49e-05 | 0.00e+00 |\n",
            "|   2   |  68   |   1   | +9.7515e-05 | 5.60e+00 | 1.93e-05 | 3.97e-09 |\n",
            "|   3   |  102  |   2   | +9.7473e-05 | 8.08e+00 | 8.98e-06 | 8.30e-08 |\n",
            "|   4   |  136  |   3   | +9.7536e-05 | 8.08e+00 | 6.19e-06 | 1.84e-07 |\n",
            "|   5   |  136  |   3   | +9.7536e-05 | 4.04e+01 | 3.05e-06 | 1.84e-07 |\n",
            "|   6   |  136  |   3   | +9.7536e-05 | 2.02e+02 | 2.42e-06 | 1.84e-07 |\n",
            "|   7   |  136  |   3   | +9.7536e-05 | 1.01e+03 | 2.29e-06 | 1.84e-07 |\n",
            "|   8   |  136  |   3   | +9.7536e-05 | 5.05e+03 | 2.27e-06 | 1.84e-07 |\n",
            "|   9   |  136  |   3   | +9.7536e-05 | 2.53e+04 | 2.26e-06 | 1.84e-07 |\n",
            "|  10   |  136  |   3   | +9.7536e-05 | 1.26e+05 | 2.26e-06 | 1.84e-07 |\n",
            "|  11   |  204  |   4   | +9.7536e-05 | 1.26e+04 | 2.26e-06 | 1.84e-07 |\n",
            "|  12   |  272  |   5   | +9.7536e-05 | 1.26e+03 | 2.26e-06 | 1.84e-07 |\n",
            "|  13   |  340  |   6   | +9.7536e-05 | 1.26e+02 | 2.26e-06 | 1.84e-07 |\n",
            "|  14   |  408  |   7   | +9.7536e-05 | 1.26e+01 | 2.26e-06 | 1.84e-07 |\n",
            "|  15   |  476  |   8   | +9.7536e-05 | 1.26e+00 | 2.26e-06 | 1.84e-07 |\n",
            "|  16   |  544  |   9   | +9.7536e-05 | 1.26e-01 | 2.26e-06 | 1.84e-07 |\n",
            "|  17   |  612  |  10   | +9.4323e-05 | 8.84e-01 | 2.10e-06 | 1.37e-08 |\n",
            "|  18   |  680  |  11   | +9.4323e-05 | 8.84e-02 | 2.10e-06 | 1.37e-08 |\n",
            "|  19   |  748  |  12   | +9.2136e-05 | 6.19e-01 | 1.98e-06 | 1.83e-08 |\n",
            "|  20   |  816  |  13   | +9.2136e-05 | 6.19e-02 | 1.98e-06 | 1.83e-08 |\n",
            "|  21   |  884  |  14   | +9.0637e-05 | 4.33e-01 | 1.89e-06 | 9.77e-09 |\n",
            "|  22   |  952  |  15   | +8.0775e-05 | 8.66e-01 | 1.23e-06 | 5.44e-06 |\n",
            "|  23   | 1020  |  16   | +8.0775e-05 | 8.66e-02 | 1.23e-06 | 5.44e-06 |\n",
            "|  24   | 1088  |  17   | +7.9004e-05 | 6.06e-01 | 1.11e-06 | 7.87e-08 |\n",
            "|  25   | 1088  |  17   | +7.9004e-05 | 3.03e+00 | 1.41e-06 | 7.87e-08 |\n",
            "|  26   | 1156  |  18   | +7.9004e-05 | 3.03e-01 | 1.41e-06 | 7.87e-08 |\n",
            "|  27   | 1224  |  19   | +7.3142e-05 | 6.06e-01 | 1.08e-06 | 3.72e-06 |\n",
            "|  28   | 1292  |  20   | +7.3142e-05 | 6.06e-02 | 1.08e-06 | 3.72e-06 |\n",
            "|  29   | 1360  |  21   | +7.2077e-05 | 4.25e-01 | 1.02e-06 | 3.32e-08 |\n",
            "|  30   | 1428  |  22   | +7.2077e-05 | 4.25e-02 | 1.02e-06 | 3.32e-08 |\n",
            "|  31   | 1496  |  23   | +7.1349e-05 | 2.97e-01 | 9.84e-07 | 1.15e-08 |\n",
            "|  32   | 1564  |  24   | +6.6465e-05 | 2.97e-01 | 7.40e-07 | 4.00e-06 |\n",
            "|  33   | 1632  |  25   | +6.2170e-05 | 5.94e-01 | 5.69e-07 | 3.90e-06 |\n",
            "|  34   | 1700  |  26   | +6.2170e-05 | 5.94e-02 | 5.69e-07 | 3.90e-06 |\n",
            "|  35   | 1768  |  27   | +6.1403e-05 | 4.16e-01 | 5.40e-07 | 2.86e-08 |\n",
            "|  36   | 1836  |  28   | +6.1403e-05 | 4.16e-02 | 5.40e-07 | 2.86e-08 |\n",
            "|  37   | 1904  |  29   | +6.0879e-05 | 2.91e-01 | 5.20e-07 | 9.59e-09 |\n",
            "|  38   | 1972  |  30   | +6.0879e-05 | 2.91e-02 | 5.20e-07 | 9.59e-09 |\n",
            "|  39   | 2040  |  31   | +6.0519e-05 | 2.04e-01 | 5.07e-07 | 3.24e-09 |\n",
            "|  40   | 2108  |  32   | +5.8063e-05 | 4.08e-01 | 4.28e-07 | 1.10e-06 |\n",
            "|  41   | 2176  |  33   | +5.8063e-05 | 4.08e-02 | 4.28e-07 | 1.10e-06 |\n",
            "|  42   | 2244  |  34   | +5.7610e-05 | 2.85e-01 | 4.14e-07 | 8.03e-09 |\n",
            "|  43   | 2312  |  35   | +5.7610e-05 | 2.85e-02 | 4.14e-07 | 8.03e-09 |\n",
            "|  44   | 2380  |  36   | +5.7297e-05 | 2.00e-01 | 4.04e-07 | 2.70e-09 |\n",
            "|  45   | 2448  |  37   | +5.5168e-05 | 4.00e-01 | 3.37e-07 | 9.16e-07 |\n",
            "|  46   | 2516  |  38   | +5.5168e-05 | 4.00e-02 | 3.37e-07 | 9.16e-07 |\n",
            "|  47   | 2584  |  39   | +5.4774e-05 | 2.80e-01 | 3.25e-07 | 6.64e-09 |\n",
            "|  48   | 2652  |  40   | +5.4774e-05 | 2.80e-02 | 3.25e-07 | 6.64e-09 |\n",
            "|  49   | 2720  |  41   | +5.4503e-05 | 1.96e-01 | 3.17e-07 | 2.23e-09 |\n",
            "|  50   | 2788  |  42   | +5.2652e-05 | 3.92e-01 | 2.69e-07 | 7.56e-07 |\n",
            "|  51   | 2856  |  43   | +5.2652e-05 | 3.92e-02 | 2.69e-07 | 7.56e-07 |\n",
            "\n",
            "The maximum number of function evaluations is exceeded.\n",
            "Number of iterations: 51, function evaluations: 2856, CG iterations: 43, optimality: 2.69e-07, constraint violation: 7.56e-07, execution time:  4.7 s.\n",
            "説明変数μ = [0.94246881 0.94930979 0.95935035 0.96297708 0.96605224 0.97510805\n",
            " 0.98319738 1.15399347 0.97717643 0.98134172 0.99325555 0.98803083\n",
            " 0.98011862 1.164875   0.99155991 0.98877167 0.99398294 0.97719235\n",
            " 1.16825422 0.99562387 0.97802217 0.99632648 0.96926361 0.9554643\n",
            " 1.14695095 0.97542983 0.97177201 0.95866577 0.95670346 0.95987267\n",
            " 1.10020382 1.12838289 0.94799912]\n",
            "定常分布pi = [0.02093585 0.02315651 0.02531416 0.02594201 0.02643307 0.02771392\n",
            " 0.02870617 0.04584463 0.0279791  0.02848862 0.02980274 0.02924911\n",
            " 0.02834217 0.04788858 0.02962647 0.02932957 0.02987742 0.02798111\n",
            " 0.04860148 0.03004392 0.0280851  0.03011441 0.02691251 0.0245674\n",
            " 0.04468965 0.02775575 0.02726669 0.02518873 0.02481516 0.02540827\n",
            " 0.03902965 0.0421065  0.02280358]\n",
            "目的間数値(最終) : 5.2651618633507486e-05\n"
          ],
          "name": "stdout"
        }
      ]
    },
    {
      "cell_type": "code",
      "metadata": {
        "colab": {
          "base_uri": "https://localhost:8080/",
          "height": 638
        },
        "id": "XOb1XDhvh4II",
        "outputId": "d7aa02f4-6330-4376-b4ff-828d6a2ffcc2"
      },
      "source": [
        "#最適化後の定常分布\n",
        "x_label = [i for i in range(N)]\n",
        "plt.figure(figsize=(10,10))\n",
        "plt.title('Stationary Distribution using optimal values')\n",
        "plt.xlabel('Node Number')\n",
        "plt.ylabel('Probability')\n",
        "plt.bar(x_label, pi)"
      ],
      "execution_count": 304,
      "outputs": [
        {
          "output_type": "execute_result",
          "data": {
            "text/plain": [
              "<BarContainer object of 33 artists>"
            ]
          },
          "metadata": {},
          "execution_count": 304
        },
        {
          "output_type": "display_data",
          "data": {
            "image/png": "[encoded data removed]",
            "text/plain": [
              "<Figure size 720x720 with 1 Axes>"
            ]
          },
          "metadata": {
            "needs_background": "light"
          }
        }
      ]
    },
    {
      "cell_type": "code",
      "metadata": {
        "colab": {
          "base_uri": "https://localhost:8080/",
          "height": 638
        },
        "id": "kh2U8RdOtcmZ",
        "outputId": "7c32af9d-3585-457f-d672-61a58f085b71"
      },
      "source": [
        "#最適化後の滞在率グラフ\n",
        "x_label = [i for i in range(N)]\n",
        "plt.figure(figsize=(10,10))\n",
        "plt.title('value of a in each node')\n",
        "plt.xlabel('Node Number')\n",
        "plt.ylabel('value of a')\n",
        "plt.bar(x_label, res['x'])"
      ],
      "execution_count": 305,
      "outputs": [
        {
          "output_type": "execute_result",
          "data": {
            "text/plain": [
              "<BarContainer object of 33 artists>"
            ]
          },
          "metadata": {},
          "execution_count": 305
        },
        {
          "output_type": "display_data",
          "data": {
            "image/png": "[encoded data removed]",
            "text/plain": [
              "<Figure size 720x720 with 1 Axes>"
            ]
          },
          "metadata": {
            "needs_background": "light"
          }
        }
      ]
    },
    {
      "cell_type": "code",
      "metadata": {
        "colab": {
          "base_uri": "https://localhost:8080/"
        },
        "id": "J2XnQg1Ft1iD",
        "outputId": "dd527915-e57f-4aab-8d46-7b42a0a11bf9"
      },
      "source": [
        "#滞在率の平均\n",
        "sum(res['x']) / len(res['x'])"
      ],
      "execution_count": 306,
      "outputs": [
        {
          "output_type": "execute_result",
          "data": {
            "text/plain": [
              "1.0041726467915684"
            ]
          },
          "metadata": {},
          "execution_count": 306
        }
      ]
    },
    {
      "cell_type": "code",
      "metadata": {
        "id": "gEg45kfOxph5"
      },
      "source": [
        ""
      ],
      "execution_count": 306,
      "outputs": []
    }
  ]
}