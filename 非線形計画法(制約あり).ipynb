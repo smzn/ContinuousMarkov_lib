{
  "nbformat": 4,
  "nbformat_minor": 0,
  "metadata": {
    "colab": {
      "name": "非線形計画法(制約あり).ipynb",
      "provenance": []
    },
    "kernelspec": {
      "name": "python3",
      "display_name": "Python 3"
    },
    "language_info": {
      "name": "python"
    }
  },
  "cells": [
    {
      "cell_type": "markdown",
      "metadata": {
        "id": "qtG1oavZt9l3"
      },
      "source": [
        "# 非線形計画法(制約あり)\n",
        "非線形計画の制約がある場合をやっていきます。制約も線形で表せる線形制約と線形で表せない非線形制約があります。  \n",
        "\n",
        "## Constrained minimization of multivariate scalar functions (minimize)\n",
        "https://docs.scipy.org/doc/scipy/reference/tutorial/optimize.html#constrained-minimization-of-multivariate-scalar-functions-minimize  \n",
        "https://docs.scipy.org/doc/scipy/reference/tutorial/optimize.html#trust-region-constrained-algorithm-method-trust-constr"
      ]
    },
    {
      "cell_type": "code",
      "metadata": {
        "id": "mty0C2FIw8KT"
      },
      "source": [
        "from scipy.optimize import minimize, BFGS, LinearConstraint, NonlinearConstraint, Bounds\n",
        "import numpy as np"
      ],
      "execution_count": 1,
      "outputs": []
    },
    {
      "cell_type": "markdown",
      "metadata": {
        "id": "CxBKDntJyfhF"
      },
      "source": [
        "### 例題1.1 １変数、線形制約\n",
        "わかりやすい数理計画法 (森北). \n",
        "P128 例6.1  \n",
        "minimize $f(x) = x^2 -2x$  \n",
        "subject to :  \n",
        "$g_1(x) = -x \\leq 0$  \n",
        "$g_2(x) = x - 2 \\leq 0$  \n",
        "\n",
        "$x \\geq 0$  \n",
        "$x \\leq 2$  \n",
        "\n",
        "$0 \\leq x \\leq 2$\n",
        "\n",
        "最適値は$x = 1$のとき、最小値-1"
      ]
    },
    {
      "cell_type": "code",
      "metadata": {
        "id": "m3Uw7Y1RyP-w"
      },
      "source": [
        "#目的関数\n",
        "def f1_1(x):\n",
        "    return x**2 -2 * x"
      ],
      "execution_count": 2,
      "outputs": []
    },
    {
      "cell_type": "code",
      "metadata": {
        "id": "F1fgxDFiyvj3"
      },
      "source": [
        "#線形制約\n",
        "A = np.array([1])\n",
        "lb = np.array([0])\n",
        "ub = np.array([2])\n",
        "linear_constraint = LinearConstraint(A, lb, ub)"
      ],
      "execution_count": 3,
      "outputs": []
    },
    {
      "cell_type": "code",
      "metadata": {
        "colab": {
          "base_uri": "https://localhost:8080/"
        },
        "id": "qzwoYb3EzCkC",
        "outputId": "1fe1a510-1bf8-4864-93f4-e00801e12240"
      },
      "source": [
        "x0 = np.array([0.5])\n",
        "res = minimize(f1_1, x0, method='trust-constr', jac=\"2-point\", hess=BFGS(),\n",
        "               constraints=[linear_constraint],\n",
        "               options={'verbose': 2})\n",
        "print(res.x)\n",
        "print('x = {0}のとき最小値 : {1}'.format(res.x[0],f1_1(res.x[0])))"
      ],
      "execution_count": 4,
      "outputs": [
        {
          "output_type": "stream",
          "name": "stdout",
          "text": [
            "| niter |f evals|CG iter|  obj func   |tr radius |   opt    |  c viol  |\n",
            "|-------|-------|-------|-------------|----------|----------|----------|\n",
            "|   1   |   2   |   0   | -7.5000e-01 | 1.00e+00 | 4.80e-01 | 0.00e+00 |\n",
            "|   2   |   4   |   1   | -9.5046e-01 | 2.00e+00 | 1.48e-01 | 0.00e+00 |\n",
            "|   3   |   6   |   2   | -9.9990e-01 | 2.71e+00 | 7.26e-03 | 0.00e+00 |\n",
            "|   4   |   6   |   2   | -9.9990e-01 | 1.36e+01 | 6.73e-03 | 0.00e+00 |\n",
            "|   5   |   6   |   2   | -9.9990e-01 | 6.79e+01 | 6.63e-03 | 0.00e+00 |\n",
            "|   6   |   8   |   3   | -1.0000e+00 | 6.79e+01 | 2.12e-05 | 0.00e+00 |\n",
            "|   7   |   8   |   3   | -1.0000e+00 | 3.39e+02 | 2.11e-05 | 0.00e+00 |\n",
            "|   8   |   8   |   3   | -1.0000e+00 | 1.70e+03 | 2.11e-05 | 0.00e+00 |\n",
            "|   9   |   8   |   3   | -1.0000e+00 | 8.48e+03 | 2.11e-05 | 0.00e+00 |\n",
            "|  10   |   8   |   3   | -1.0000e+00 | 4.24e+04 | 2.11e-05 | 0.00e+00 |\n",
            "|  11   |  10   |   4   | -1.0000e+00 | 4.24e+04 | 4.97e-09 | 0.00e+00 |\n",
            "\n",
            "`gtol` termination condition is satisfied.\n",
            "Number of iterations: 11, function evaluations: 10, CG iterations: 4, optimality: 4.97e-09, constraint violation: 0.00e+00, execution time: 0.035 s.\n",
            "[0.99999999]\n",
            "x = 0.9999999868129473のとき最小値 : -0.9999999999999998\n"
          ]
        }
      ]
    },
    {
      "cell_type": "markdown",
      "metadata": {
        "id": "SFcNqYn60m4X"
      },
      "source": [
        "### 例題1.2 1変数、線形制約 \n",
        "わかりやすい数理計画法 (森北) P128 例6.2  \n",
        "minimize $f(x) = x^2 -2x$  \n",
        "subject to  \n",
        "$g_1(x) = -x + 2 \\leq 0$  \n",
        "$g_2(x) = x - 3 \\leq 0$\n",
        "\n",
        "$2 \\leq x \\leq 3$  \n",
        "$x = 2$のとき、最小値0  \n"
      ]
    },
    {
      "cell_type": "code",
      "metadata": {
        "id": "MrG2Ohvx0_72"
      },
      "source": [
        "#線形制約\n",
        "A = np.array([1])\n",
        "lb = np.array([2])\n",
        "ub = np.array([3])\n",
        "linear_constraint = LinearConstraint(A, lb, ub)"
      ],
      "execution_count": 5,
      "outputs": []
    },
    {
      "cell_type": "code",
      "metadata": {
        "colab": {
          "base_uri": "https://localhost:8080/"
        },
        "id": "CpnIg82Q1Sh8",
        "outputId": "c8fa8ae5-f472-49bf-d428-202a985a7f33"
      },
      "source": [
        "x0 = np.array([0.5])\n",
        "res = minimize(f1_1, x0, method='trust-constr', jac=\"2-point\", hess=BFGS(),\n",
        "               constraints=[linear_constraint],\n",
        "               options={'verbose': 2})\n",
        "print(res.x)\n",
        "print('x = {0}のとき最小値 : {1}'.format(res.x[0],f1_1(res.x[0])))"
      ],
      "execution_count": 6,
      "outputs": [
        {
          "output_type": "stream",
          "name": "stdout",
          "text": [
            "| niter |f evals|CG iter|  obj func   |tr radius |   opt    |  c viol  |\n",
            "|-------|-------|-------|-------------|----------|----------|----------|\n",
            "|   1   |   2   |   0   | -7.5000e-01 | 1.00e+00 | 5.18e-01 | 1.50e+00 |\n",
            "|   2   |   4   |   1   | -8.1652e-01 | 2.00e+00 | 3.66e-01 | 5.72e-01 |\n",
            "|   3   |   6   |   2   | -9.1604e-01 | 2.02e+00 | 4.83e-04 | 7.10e-01 |\n",
            "|   4   |   8   |   3   | -3.0262e-02 | 4.05e+00 | 1.00e-03 | 1.52e-02 |\n",
            "|   5   |   8   |   3   | -3.0262e-02 | 2.02e+01 | 1.14e-04 | 1.52e-02 |\n",
            "|   6   |  10   |   4   | +1.9485e-02 | 2.02e+01 | 2.18e-06 | 0.00e+00 |\n",
            "|   7   |  10   |   4   | +1.9485e-02 | 1.01e+02 | 1.51e-04 | 0.00e+00 |\n",
            "|   8   |  12   |   5   | +4.1024e-03 | 1.01e+02 | 2.35e-07 | 0.00e+00 |\n",
            "|   9   |  12   |   5   | +4.1024e-03 | 5.06e+02 | 6.78e-06 | 0.00e+00 |\n",
            "|  10   |  14   |   6   | +8.0492e-04 | 5.06e+02 | 2.17e-09 | 0.00e+00 |\n",
            "\n",
            "`gtol` termination condition is satisfied.\n",
            "Number of iterations: 10, function evaluations: 14, CG iterations: 6, optimality: 2.17e-09, constraint violation: 0.00e+00, execution time: 0.024 s.\n",
            "[2.00040238]\n",
            "x = 2.000402378675703のとき最小値 : 0.0008049192600045885\n"
          ]
        }
      ]
    },
    {
      "cell_type": "markdown",
      "metadata": {
        "id": "SZiAJk7e13R1"
      },
      "source": [
        "### 例題1.3 1変数、線形制約   \n",
        "わかりやすい数理計画法 (森北) P129 例6.3  \n",
        "minimize $f(x) = x^2 -2x$  \n",
        "subject to  \n",
        "$g_1(x) = -x - 1 \\leq 0$  \n",
        "$g_2(x) = x \\leq 0$  \n",
        "\n",
        "$-1 \\leq x \\leq 0$   \n",
        "$x = 0$のとき、最小値0"
      ]
    },
    {
      "cell_type": "code",
      "metadata": {
        "id": "j3XTm9rr3BTM"
      },
      "source": [
        "#線形制約\n",
        "A = np.array([1])\n",
        "lb = np.array([-1])\n",
        "ub = np.array([0])\n",
        "linear_constraint = LinearConstraint(A, lb, ub)"
      ],
      "execution_count": 7,
      "outputs": []
    },
    {
      "cell_type": "code",
      "metadata": {
        "colab": {
          "base_uri": "https://localhost:8080/"
        },
        "id": "vEa4iLEr3FFZ",
        "outputId": "71db7240-dc4f-4c27-cdf6-62a3ad6d881d"
      },
      "source": [
        "x0 = np.array([0.5])\n",
        "res = minimize(f1_1, x0, method='trust-constr', jac=\"2-point\", hess=BFGS(),\n",
        "               constraints=[linear_constraint],\n",
        "               options={'verbose': 2})\n",
        "print(res.x)\n",
        "print('x = {0}のとき最小値 : {1}'.format(res.x[0],f1_1(res.x[0])))"
      ],
      "execution_count": 8,
      "outputs": [
        {
          "output_type": "stream",
          "name": "stdout",
          "text": [
            "| niter |f evals|CG iter|  obj func   |tr radius |   opt    |  c viol  |\n",
            "|-------|-------|-------|-------------|----------|----------|----------|\n",
            "|   1   |   2   |   0   | -7.5000e-01 | 1.00e+00 | 4.30e-01 | 5.00e-01 |\n",
            "|   2   |   4   |   1   | -8.6962e-01 | 7.00e+00 | 1.53e-03 | 6.39e-01 |\n",
            "|   3   |   6   |   2   | +1.9058e-01 | 8.93e+00 | 1.10e-02 | 0.00e+00 |\n",
            "|   4   |   8   |   3   | +9.6146e-02 | 8.93e+00 | 1.53e-04 | 0.00e+00 |\n",
            "|   5   |   8   |   3   | +9.6146e-02 | 4.47e+01 | 3.71e-03 | 0.00e+00 |\n",
            "|   6   |  10   |   4   | +2.1997e-02 | 4.47e+01 | 2.56e-05 | 0.00e+00 |\n",
            "|   7   |  10   |   4   | +2.1997e-02 | 2.23e+02 | 1.99e-04 | 0.00e+00 |\n",
            "|   8   |  12   |   5   | +4.1415e-03 | 2.23e+02 | 3.19e-07 | 0.00e+00 |\n",
            "|   9   |  12   |   5   | +4.1415e-03 | 1.12e+03 | 6.92e-06 | 0.00e+00 |\n",
            "|  10   |  14   |   6   | +8.0505e-04 | 1.12e+03 | 2.23e-09 | 0.00e+00 |\n",
            "\n",
            "`gtol` termination condition is satisfied.\n",
            "Number of iterations: 10, function evaluations: 14, CG iterations: 6, optimality: 2.23e-09, constraint violation: 0.00e+00, execution time: 0.021 s.\n",
            "[-0.00040244]\n",
            "x = -0.00040244268091493363のとき最小値 : 0.0008050473219412893\n"
          ]
        }
      ]
    },
    {
      "cell_type": "markdown",
      "metadata": {
        "id": "gJwgjDTx5pJZ"
      },
      "source": [
        "### 例題1.4 多変数、線形制約\n",
        "わかりやすい数理計画法 (森北) P133 例6.4  \n",
        "minimize $f(x_1, x_2) = 3x_1^2 - 18x_1 + 2x_2^2 - 8x_2$  \n",
        "subject to  \n",
        "$g_1(x) = 3x_1 + 12x_2 -48 \\leq 0$  \n",
        "$g_2(x) = 9x_1 + 6x_2 - 54 \\leq 0$  \n",
        "$g_3(x) = -x_1 \\leq 0$  \n",
        "$g_4(x) = -x_2 \\leq 0$  \n",
        "\n",
        "$x_1 + 4x_2 \\leq 16$  \n",
        "$3x_1 + 2x_2 \\leq 18$  \n",
        "$x_1 \\geq 0$  \n",
        "$x_2 \\geq 0$  \n",
        "\n",
        "制約条件(線形制約)  \n",
        "$  \n",
        "\\left(\n",
        "\\begin{array}{r}\n",
        "-\\infty \\\\\n",
        "-\\infty \\\\\n",
        "0 \\\\\n",
        "0 \\\\\n",
        "\\end{array}\n",
        "\\right)\n",
        "\\leq\n",
        "\\left(\n",
        "\\begin{array}{rr}\n",
        "1 & 4 \\\\\n",
        "3 & 2 \\\\\n",
        "1 & 0 \\\\\n",
        "0 & 1 \\\\\n",
        "\\end{array}\n",
        "\\right)\n",
        "\\left(\n",
        "\\begin{array}{r}\n",
        "x_1 \\\\\n",
        "x_2 \\\\\n",
        "\\end{array}\n",
        "\\right)\n",
        "\\leq \n",
        "\\left(\n",
        "\\begin{array}{r}\n",
        "16 \\\\\n",
        "18 \\\\\n",
        "\\infty \\\\\n",
        "\\infty \\\\\n",
        "\\end{array}\n",
        "\\right)\n",
        "$ \n",
        "   \n",
        "$(x_1, x_2) = (3, 2)$のとき、最小値-35"
      ]
    },
    {
      "cell_type": "code",
      "metadata": {
        "id": "F5bsrBU65noU"
      },
      "source": [
        "#目的関数\n",
        "def f1_4(x):\n",
        "    return 3 * x[0]**2 - 18 * x[0] + 2 * x[1]**2 -8 * x[1]"
      ],
      "execution_count": 9,
      "outputs": []
    },
    {
      "cell_type": "code",
      "metadata": {
        "id": "kf-R8Bki6SjT"
      },
      "source": [
        "#線形制約\n",
        "A = np.array([[1,4],[3,2],[1,0],[0,1]])\n",
        "lb = np.array([-np.inf,-np.inf,0,0])\n",
        "ub = np.array([16,18,np.inf,np.inf])\n",
        "linear_constraint = LinearConstraint(A, lb, ub)"
      ],
      "execution_count": 10,
      "outputs": []
    },
    {
      "cell_type": "code",
      "metadata": {
        "colab": {
          "base_uri": "https://localhost:8080/"
        },
        "id": "ABw6jMyy6evj",
        "outputId": "6b6f89e9-1721-4008-8641-f2a91e5d3c81"
      },
      "source": [
        "x0 = np.array([0.5, 0.5])\n",
        "res = minimize(f1_4, x0, method='trust-constr', jac=\"2-point\", hess=BFGS(),\n",
        "               constraints=[linear_constraint],\n",
        "               options={'verbose': 2})\n",
        "print(res.x)\n",
        "print('x = {0}のとき最小値 : {1}'.format(res.x,f1_4(res.x)))"
      ],
      "execution_count": 11,
      "outputs": [
        {
          "output_type": "stream",
          "name": "stdout",
          "text": [
            "| niter |f evals|CG iter|  obj func   |tr radius |   opt    |  c viol  |\n",
            "|-------|-------|-------|-------------|----------|----------|----------|\n",
            "|   1   |   3   |   0   | -1.1750e+01 | 1.00e+00 | 7.44e+00 | 0.00e+00 |\n",
            "|   2   |   6   |   1   | -2.2224e+01 | 7.00e+00 | 6.08e+00 | 0.00e+00 |\n",
            "|   3   |   9   |   3   | -3.4960e+01 | 2.05e+01 | 1.93e-01 | 0.00e+00 |\n",
            "|   4   |  12   |   5   | -3.4998e+01 | 2.05e+01 | 3.92e-02 | 0.00e+00 |\n",
            "|   5   |  12   |   5   | -3.4998e+01 | 1.02e+02 | 6.20e-02 | 0.00e+00 |\n",
            "|   6   |  15   |   7   | -3.5000e+01 | 1.02e+02 | 9.32e-03 | 0.00e+00 |\n",
            "|   7   |  15   |   7   | -3.5000e+01 | 5.12e+02 | 1.07e-02 | 0.00e+00 |\n",
            "|   8   |  18   |   9   | -3.5000e+01 | 5.12e+02 | 8.21e-04 | 0.00e+00 |\n",
            "|   9   |  18   |   9   | -3.5000e+01 | 2.56e+03 | 1.19e-03 | 0.00e+00 |\n",
            "|  10   |  21   |  10   | -3.5000e+01 | 2.56e+03 | 4.13e-04 | 0.00e+00 |\n",
            "|  11   |  21   |  10   | -3.5000e+01 | 1.28e+04 | 5.60e-04 | 0.00e+00 |\n",
            "|  12   |  24   |  12   | -3.5000e+01 | 1.28e+04 | 8.50e-05 | 0.00e+00 |\n",
            "|  13   |  24   |  12   | -3.5000e+01 | 6.40e+04 | 1.15e-04 | 0.00e+00 |\n",
            "|  14   |  27   |  14   | -3.5000e+01 | 6.40e+04 | 2.58e-07 | 0.00e+00 |\n",
            "|  15   |  27   |  14   | -3.5000e+01 | 3.20e+05 | 7.43e-06 | 0.00e+00 |\n",
            "|  16   |  30   |  16   | -3.5000e+01 | 3.20e+05 | 2.88e-07 | 0.00e+00 |\n",
            "|  17   |  30   |  16   | -3.5000e+01 | 1.60e+06 | 1.81e-06 | 0.00e+00 |\n",
            "|  18   |  33   |  17   | -3.5000e+01 | 1.60e+06 | 6.79e-07 | 0.00e+00 |\n",
            "|  19   |  33   |  17   | -3.5000e+01 | 8.01e+06 | 5.81e-07 | 0.00e+00 |\n",
            "|  20   |  36   |  19   | -3.5000e+01 | 8.01e+06 | 9.14e-08 | 0.00e+00 |\n",
            "|  21   |  36   |  19   | -3.5000e+01 | 4.00e+07 | 1.07e-07 | 0.00e+00 |\n",
            "|  22   |  42   |  21   | -3.5000e+01 | 4.00e+06 | 1.07e-07 | 0.00e+00 |\n",
            "|  23   |  45   |  23   | -3.5000e+01 | 4.00e+06 | 1.38e-07 | 0.00e+00 |\n",
            "|  24   |  48   |  24   | -3.5000e+01 | 4.00e+05 | 1.38e-07 | 0.00e+00 |\n",
            "|  25   |  54   |  25   | -3.5000e+01 | 4.00e+04 | 1.38e-07 | 0.00e+00 |\n",
            "|  26   |  60   |  26   | -3.5000e+01 | 4.00e+03 | 1.38e-07 | 0.00e+00 |\n",
            "|  27   |  66   |  27   | -3.5000e+01 | 4.00e+02 | 1.38e-07 | 0.00e+00 |\n",
            "|  28   |  72   |  28   | -3.5000e+01 | 4.00e+01 | 1.38e-07 | 0.00e+00 |\n",
            "|  29   |  78   |  29   | -3.5000e+01 | 4.00e+00 | 1.38e-07 | 0.00e+00 |\n",
            "|  30   |  84   |  30   | -3.5000e+01 | 4.00e-01 | 1.38e-07 | 0.00e+00 |\n",
            "|  31   |  90   |  31   | -3.5000e+01 | 4.00e-02 | 1.38e-07 | 0.00e+00 |\n",
            "|  32   |  96   |  32   | -3.5000e+01 | 4.00e-03 | 1.38e-07 | 0.00e+00 |\n",
            "|  33   |  102  |  33   | -3.5000e+01 | 4.00e-04 | 1.38e-07 | 0.00e+00 |\n",
            "|  34   |  108  |  34   | -3.5000e+01 | 4.00e-05 | 1.38e-07 | 0.00e+00 |\n",
            "|  35   |  114  |  35   | -3.5000e+01 | 4.00e-06 | 1.38e-07 | 0.00e+00 |\n",
            "|  36   |  120  |  36   | -3.5000e+01 | 4.00e-07 | 1.38e-07 | 0.00e+00 |\n",
            "|  37   |  126  |  37   | -3.5000e+01 | 6.06e-08 | 1.38e-07 | 0.00e+00 |\n",
            "|  38   |  129  |  38   | -3.5000e+01 | 3.03e-08 | 1.38e-07 | 0.00e+00 |\n",
            "|  39   |  135  |  39   | -3.5000e+01 | 1.51e-08 | 1.38e-07 | 0.00e+00 |\n",
            "|  40   |  138  |  40   | -3.5000e+01 | 7.57e-09 | 1.38e-07 | 0.00e+00 |\n",
            "|  41   |  141  |  40   | -3.5000e+01 | 1.00e+00 | 1.26e-07 | 0.00e+00 |\n",
            "|  42   |  147  |  41   | -3.5000e+01 | 1.00e-01 | 1.26e-07 | 0.00e+00 |\n",
            "|  43   |  150  |  42   | -3.5000e+01 | 1.00e-02 | 1.26e-07 | 0.00e+00 |\n",
            "|  44   |  150  |  43   | -3.5000e+01 | 1.00e-03 | 1.26e-07 | 0.00e+00 |\n",
            "|  45   |  150  |  44   | -3.5000e+01 | 1.00e-04 | 1.26e-07 | 0.00e+00 |\n",
            "|  46   |  150  |  45   | -3.5000e+01 | 1.00e-05 | 1.26e-07 | 0.00e+00 |\n",
            "|  47   |  150  |  46   | -3.5000e+01 | 1.00e-06 | 1.26e-07 | 0.00e+00 |\n",
            "|  48   |  150  |  47   | -3.5000e+01 | 1.00e-07 | 1.26e-07 | 0.00e+00 |\n",
            "|  49   |  150  |  48   | -3.5000e+01 | 3.15e-08 | 1.26e-07 | 0.00e+00 |\n",
            "|  50   |  153  |  49   | -3.5000e+01 | 1.57e-08 | 1.26e-07 | 0.00e+00 |\n",
            "|  51   |  159  |  50   | -3.5000e+01 | 7.87e-09 | 1.26e-07 | 0.00e+00 |\n",
            "|  52   |  162  |  50   | -3.5000e+01 | 1.00e+00 | 1.23e-07 | 0.00e+00 |\n",
            "|  53   |  165  |  51   | -3.5000e+01 | 1.00e-01 | 1.23e-07 | 0.00e+00 |\n",
            "|  54   |  165  |  52   | -3.5000e+01 | 1.00e-02 | 1.23e-07 | 0.00e+00 |\n",
            "|  55   |  165  |  53   | -3.5000e+01 | 1.00e-03 | 1.23e-07 | 0.00e+00 |\n",
            "|  56   |  165  |  54   | -3.5000e+01 | 1.00e-04 | 1.23e-07 | 0.00e+00 |\n",
            "|  57   |  165  |  55   | -3.5000e+01 | 1.00e-05 | 1.23e-07 | 0.00e+00 |\n",
            "|  58   |  165  |  56   | -3.5000e+01 | 1.00e-06 | 1.23e-07 | 0.00e+00 |\n",
            "|  59   |  165  |  57   | -3.5000e+01 | 1.00e-07 | 1.23e-07 | 0.00e+00 |\n",
            "|  60   |  165  |  58   | -3.5000e+01 | 1.00e-08 | 1.23e-07 | 0.00e+00 |\n",
            "|  61   |  168  |  59   | -3.5000e+01 | 1.52e-09 | 1.23e-07 | 0.00e+00 |\n",
            "\n",
            "`xtol` termination condition is satisfied.\n",
            "Number of iterations: 61, function evaluations: 168, CG iterations: 59, optimality: 1.23e-07, constraint violation: 0.00e+00, execution time: 0.18 s.\n",
            "[2.99999998 2.00000003]\n",
            "x = [2.99999998 2.00000003]のとき最小値 : -35.0\n"
          ]
        },
        {
          "output_type": "stream",
          "name": "stderr",
          "text": [
            "/usr/local/lib/python3.7/dist-packages/scipy/optimize/_hessian_update_strategy.py:187: UserWarning: delta_grad == 0.0. Check if the approximated function is linear. If the function is linear better results can be obtained by defining the Hessian as zero instead of using quasi-Newton approximations.\n",
            "  'approximations.', UserWarning)\n"
          ]
        }
      ]
    },
    {
      "cell_type": "markdown",
      "metadata": {
        "id": "d2EpOWaS8Hkh"
      },
      "source": [
        "### 例題1.5 多変数、線形制約\n",
        "わかりやすい数理計画法 (森北) P133 例6.5  \n",
        "minimize $f(x_1, x_2) = 3x_1^2 - 18x_1 + 2x_2^2 - 8x_2$  \n",
        "subject to  \n",
        "$g_1(x) = 3x_1 + x_2 -9 \\leq 0$  \n",
        "$g_2(x) = 3x_1 + 5x_2 - 15 \\leq 0$  \n",
        "$g_3(x) = -x_1 \\leq 0$  \n",
        "$g_4(x) = -x_2 \\leq 0$  \n",
        "\n",
        "$3x_1 + x_2 \\leq 9$  \n",
        "$3x_1 + 5x_2 \\leq 15$  \n",
        "$x_1 \\geq 0$  \n",
        "$x_2 \\geq 0$  \n",
        "\n",
        "制約条件(線形制約)  \n",
        "$  \n",
        "\\left(\n",
        "\\begin{array}{r}\n",
        "-\\infty \\\\\n",
        "-\\infty \\\\\n",
        "0 \\\\\n",
        "0 \\\\\n",
        "\\end{array}\n",
        "\\right)\n",
        "\\leq\n",
        "\\left(\n",
        "\\begin{array}{rr}\n",
        "3 & 1 \\\\\n",
        "3 & 5 \\\\\n",
        "1 & 0 \\\\\n",
        "0 & 1 \\\\\n",
        "\\end{array}\n",
        "\\right)\n",
        "\\left(\n",
        "\\begin{array}{r}\n",
        "x_1 \\\\\n",
        "x_2 \\\\\n",
        "\\end{array}\n",
        "\\right)\n",
        "\\leq \n",
        "\\left(\n",
        "\\begin{array}{r}\n",
        "9 \\\\\n",
        "15 \\\\\n",
        "\\infty \\\\\n",
        "\\infty \\\\\n",
        "\\end{array}\n",
        "\\right)\n",
        "$\n",
        "\n",
        "$(x_1, x_2) = (2.5, 1.5)$のとき、最小値-33.75"
      ]
    },
    {
      "cell_type": "code",
      "metadata": {
        "id": "R7SQcRLs8flg"
      },
      "source": [
        "#線形制約\n",
        "A = np.array([[3,1],[3,5],[1,0],[0,1]])\n",
        "lb = np.array([-np.inf,-np.inf,0,0])\n",
        "ub = np.array([9,15,np.inf,np.inf])\n",
        "linear_constraint = LinearConstraint(A, lb, ub)"
      ],
      "execution_count": 12,
      "outputs": []
    },
    {
      "cell_type": "code",
      "metadata": {
        "colab": {
          "base_uri": "https://localhost:8080/"
        },
        "id": "46oGbzyj8sMz",
        "outputId": "d5261eb3-56c8-43c7-b6da-518b768a08b6"
      },
      "source": [
        "x0 = np.array([0.5, 0.5])\n",
        "res = minimize(f1_4, x0, method='trust-constr', jac=\"2-point\", hess=BFGS(),\n",
        "               constraints=[linear_constraint],\n",
        "               options={'verbose': 2})\n",
        "print(res.x)\n",
        "print('x = {0}のとき最小値 : {1}'.format(res.x,f1_4(res.x)))"
      ],
      "execution_count": 13,
      "outputs": [
        {
          "output_type": "stream",
          "name": "stdout",
          "text": [
            "| niter |f evals|CG iter|  obj func   |tr radius |   opt    |  c viol  |\n",
            "|-------|-------|-------|-------------|----------|----------|----------|\n",
            "|   1   |   3   |   0   | -1.1750e+01 | 1.00e+00 | 7.02e+00 | 0.00e+00 |\n",
            "|   2   |   6   |   1   | -2.0859e+01 | 7.00e+00 | 4.70e+00 | 0.00e+00 |\n",
            "|   3   |   9   |   3   | -3.3661e+01 | 1.84e+01 | 1.25e-03 | 0.00e+00 |\n",
            "|   4   |   9   |   3   | -3.3661e+01 | 9.21e+01 | 1.53e-03 | 0.00e+00 |\n",
            "|   5   |  12   |   4   | -3.3702e+01 | 9.21e+01 | 1.13e-04 | 0.00e+00 |\n",
            "|   6   |  12   |   4   | -3.3702e+01 | 4.60e+02 | 2.51e-04 | 0.00e+00 |\n",
            "|   7   |  15   |   5   | -3.3740e+01 | 4.60e+02 | 2.64e-05 | 0.00e+00 |\n",
            "|   8   |  15   |   5   | -3.3740e+01 | 2.30e+03 | 4.71e-05 | 0.00e+00 |\n",
            "|   9   |  18   |   6   | -3.3747e+01 | 2.30e+03 | 1.06e-06 | 0.00e+00 |\n",
            "|  10   |  21   |   7   | -3.3748e+01 | 2.30e+03 | 1.63e-08 | 0.00e+00 |\n",
            "|  11   |  21   |   7   | -3.3748e+01 | 1.15e+04 | 3.10e-07 | 0.00e+00 |\n",
            "|  12   |  24   |   8   | -3.3750e+01 | 1.15e+04 | 2.00e-09 | 0.00e+00 |\n",
            "\n",
            "`gtol` termination condition is satisfied.\n",
            "Number of iterations: 12, function evaluations: 24, CG iterations: 8, optimality: 2.00e-09, constraint violation: 0.00e+00, execution time: 0.034 s.\n",
            "[2.49997212 1.49988133]\n",
            "x = [2.49997212 1.49988133]のとき最小値 : -33.74967898095845\n"
          ]
        }
      ]
    },
    {
      "cell_type": "markdown",
      "metadata": {
        "id": "Lyi0KscDwSZY"
      },
      "source": [
        "### 例題1.6 多変数、非線形制約  \n",
        "非線形制約付きの場合 新版数理計画入門 福島雅夫 朝倉書店 P114 (4.19)  \n",
        "目的関数(最小化) : $f(x_1, x_2) = (x_1 - 1)^2 + (x_2 -2)^2$  \n",
        "制約条件 :   \n",
        "$c_1(x_1, x_2) = x_1^2 + x_2^2 -2 \\leq 0$   \n",
        "$c_2(x_1, x_2) = -x_1 + x_2 \\leq 0$  \n",
        "$c_3(x_1, x_2) = -x_2 \\leq 0$  \n",
        "\n",
        "制約条件(線形制約)  \n",
        "$  \n",
        "\\left(\n",
        "\\begin{array}{r}\n",
        "-\\infty \\\\\n",
        "-\\infty \\\\\n",
        "\\end{array}\n",
        "\\right)\n",
        "\\leq\n",
        "\\left(\n",
        "\\begin{array}{rr}\n",
        "-1 & 1 \\\\\n",
        "0 & -1 \\\\\n",
        "\\end{array}\n",
        "\\right)\n",
        "\\left(\n",
        "\\begin{array}{r}\n",
        "x_1 \\\\\n",
        "x_2 \\\\\n",
        "\\end{array}\n",
        "\\right)\n",
        "\\leq \n",
        "\\left(\n",
        "\\begin{array}{r}\n",
        "0 \\\\\n",
        "0 \\\\\n",
        "\\end{array}\n",
        "\\right)\n",
        "$\n",
        "\n",
        "$(x_1, x_2) = (1, 1)$のとき、最小値0"
      ]
    },
    {
      "cell_type": "code",
      "metadata": {
        "id": "PqM6-C8wxmoY"
      },
      "source": [
        "#目的関数\n",
        "def f1_6(x):\n",
        "    return (x[0] - 1)**2 + (x[0] - x[1])**2"
      ],
      "execution_count": 14,
      "outputs": []
    },
    {
      "cell_type": "code",
      "metadata": {
        "id": "eF8nNL0Axceh"
      },
      "source": [
        "#線形制約\n",
        "A = np.array([[-1,1],[0,-1]])\n",
        "lb = np.array([-np.inf,-np.inf])\n",
        "ub = np.array([0,0])\n",
        "linear_constraint = LinearConstraint(A, lb, ub)"
      ],
      "execution_count": 15,
      "outputs": []
    },
    {
      "cell_type": "code",
      "metadata": {
        "id": "q1iLmNnkxrHy"
      },
      "source": [
        "#非線形制約\n",
        "def cons_f(x):\n",
        "    return x[0]**2 + x[1]**2"
      ],
      "execution_count": 16,
      "outputs": []
    },
    {
      "cell_type": "code",
      "metadata": {
        "id": "HzV2g9kC988n"
      },
      "source": [
        "#非線形制約\n",
        "nonlinear_constraint = NonlinearConstraint(cons_f, -np.inf, 2, jac=\"2-point\", hess=BFGS())"
      ],
      "execution_count": 17,
      "outputs": []
    },
    {
      "cell_type": "code",
      "metadata": {
        "colab": {
          "base_uri": "https://localhost:8080/"
        },
        "id": "tUrKXM2K-E8o",
        "outputId": "7b213732-4ef7-4865-8a83-650756056e1f"
      },
      "source": [
        "x0 = np.array([0.5, 0])\n",
        "res = minimize(f1_6, x0, method='trust-constr', jac=\"2-point\", hess=BFGS(),\n",
        "               constraints=[linear_constraint, nonlinear_constraint],\n",
        "               options={'verbose': 2})\n",
        "print(res.x)\n",
        "print('x = {0}のとき最小値 : {1}'.format(res.x,f1_6(res.x)))"
      ],
      "execution_count": 18,
      "outputs": [
        {
          "output_type": "stream",
          "name": "stdout",
          "text": [
            "| niter |f evals|CG iter|  obj func   |tr radius |   opt    |  c viol  |\n",
            "|-------|-------|-------|-------------|----------|----------|----------|\n",
            "|   1   |   3   |   0   | +5.0000e-01 | 1.00e+00 | 4.06e-01 | 0.00e+00 |\n",
            "|   2   |   6   |   2   | +1.8856e-01 | 6.14e+00 | 1.75e-01 | 0.00e+00 |\n",
            "|   3   |   9   |   4   | +6.4718e-02 | 6.14e+00 | 1.06e-03 | 0.00e+00 |\n",
            "|   4   |  12   |   5   | +6.7011e-02 | 6.14e+00 | 7.49e-04 | 0.00e+00 |\n",
            "|   5   |  12   |   5   | +6.7011e-02 | 3.07e+01 | 1.66e-02 | 0.00e+00 |\n",
            "|   6   |  15   |   6   | +2.7663e-02 | 3.07e+01 | 3.82e-03 | 0.00e+00 |\n",
            "|   7   |  15   |   6   | +2.7663e-02 | 1.54e+02 | 6.76e-03 | 0.00e+00 |\n",
            "|   8   |  18   |   8   | +8.8081e-03 | 1.54e+02 | 8.60e-04 | 0.00e+00 |\n",
            "|   9   |  21   |  10   | +4.5134e-03 | 1.54e+02 | 9.32e-05 | 0.00e+00 |\n",
            "|  10   |  21   |  10   | +4.5134e-03 | 7.68e+02 | 3.78e-04 | 0.00e+00 |\n",
            "|  11   |  24   |  11   | +1.6144e-03 | 7.68e+02 | 4.23e-05 | 0.00e+00 |\n",
            "|  12   |  27   |  12   | +9.6051e-04 | 7.68e+02 | 1.09e-05 | 0.00e+00 |\n",
            "|  13   |  27   |  12   | +9.6051e-04 | 3.84e+03 | 3.81e-05 | 0.00e+00 |\n",
            "|  14   |  30   |  13   | +3.6373e-04 | 3.84e+03 | 4.57e-06 | 0.00e+00 |\n",
            "|  15   |  33   |  15   | +1.8826e-04 | 3.84e+03 | 4.45e-07 | 0.00e+00 |\n",
            "|  16   |  33   |  15   | +1.8826e-04 | 1.92e+04 | 2.82e-06 | 0.00e+00 |\n",
            "|  17   |  36   |  16   | +6.7516e-05 | 1.92e+04 | 4.77e-07 | 0.00e+00 |\n",
            "|  18   |  39   |  18   | +3.6683e-05 | 1.92e+04 | 4.96e-08 | 0.00e+00 |\n",
            "|  19   |  39   |  18   | +3.6683e-05 | 9.60e+04 | 2.64e-07 | 0.00e+00 |\n",
            "|  20   |  42   |  19   | +1.2963e-05 | 9.60e+04 | 2.92e-08 | 0.00e+00 |\n",
            "|  21   |  45   |  20   | +7.7266e-06 | 9.60e+04 | 7.05e-09 | 0.00e+00 |\n",
            "\n",
            "`gtol` termination condition is satisfied.\n",
            "Number of iterations: 21, function evaluations: 45, CG iterations: 20, optimality: 7.05e-09, constraint violation: 0.00e+00, execution time: 0.067 s.\n",
            "[0.99838816 0.99612352]\n",
            "x = [0.99838816 0.99612352]のとき最小値 : 7.72661003712857e-06\n"
          ]
        }
      ]
    },
    {
      "cell_type": "markdown",
      "metadata": {
        "id": "PfWdTx53UWyd"
      },
      "source": [
        "### 例題1.7 線形制約　　\n",
        "坂和、西崎 数理計画法入門 (森北) P5 例1.3 \n",
        "\n",
        "目的関数(Maximize) : $-x_1^2 -x_2^2 +4x_1 + 11x_2$  \n",
        "Subject to:  \n",
        "$2x_1 + 6x_2 \\leq 27$  \n",
        "$3x_1 + 2x_2 \\leq 16$  \n",
        "$4x_1 + x_2 \\leq 18$  \n",
        "$x_1 \\geq 0, x_2 \\geq 0$\n",
        "\n",
        "線形制約条件\n",
        "$  \n",
        "\\left(\n",
        "\\begin{array}{r}\n",
        "-\\infty \\\\\n",
        "-\\infty \\\\\n",
        "-\\infty \\\\\n",
        "0 \\\\\n",
        "0 \\\\\n",
        "\\end{array}\n",
        "\\right)\n",
        "\\leq\n",
        "\\left(\n",
        "\\begin{array}{rr}\n",
        "2 & 6 \\\\\n",
        "3 & 2 \\\\\n",
        "4 & 1 \\\\\n",
        "1 & 0 \\\\\n",
        "0 & 1 \\\\\n",
        "\\end{array}\n",
        "\\right)\n",
        "\\left(\n",
        "\\begin{array}{r}\n",
        "x_1 \\\\\n",
        "x_2 \\\\\n",
        "\\end{array}\n",
        "\\right)\n",
        "\\leq \n",
        "\\left(\n",
        "\\begin{array}{r}\n",
        "27 \\\\\n",
        "16 \\\\\n",
        "18 \\\\\n",
        "\\infty \\\\\n",
        "\\infty \\\\\n",
        "\\end{array}\n",
        "\\right)\n",
        "$\n",
        "\n",
        "最適解は$(x_1, x_2) = (1.5, 4)$のとき、最大値31.75"
      ]
    },
    {
      "cell_type": "code",
      "metadata": {
        "id": "rdtp2L80W9qy"
      },
      "source": [
        "#目的関数(最大化なので-1をかけている)\n",
        "def f1_7(x):\n",
        "    return -(- x[0]**2 - x[1]**2 + 4 * x[0] + 11 * x[1])"
      ],
      "execution_count": 19,
      "outputs": []
    },
    {
      "cell_type": "code",
      "metadata": {
        "id": "plS1xul6XdgR"
      },
      "source": [
        "#線形制約\n",
        "A = np.array([[2,6],[3,2],[4,1],[1,0],[0,1]])\n",
        "lb = np.array([-np.inf,-np.inf,-np.inf,0,0])\n",
        "ub = np.array([27,16,18,np.inf,np.inf])\n",
        "linear_constraint = LinearConstraint(A, lb, ub)"
      ],
      "execution_count": 20,
      "outputs": []
    },
    {
      "cell_type": "code",
      "metadata": {
        "colab": {
          "base_uri": "https://localhost:8080/"
        },
        "id": "_s8l0h-dXy8w",
        "outputId": "7f43c918-fea4-4ea4-a62b-627a805d49e7"
      },
      "source": [
        "x0 = np.array([0.5, 0.5])\n",
        "res = minimize(f1_7, x0, method='trust-constr', jac=\"2-point\", hess=BFGS(),\n",
        "               constraints=[linear_constraint],\n",
        "               options={'verbose': 2})\n",
        "print(res.x)\n",
        "print('x = {0}のとき最小値 : {1}'.format(res.x,f1_7(res.x)))"
      ],
      "execution_count": 21,
      "outputs": [
        {
          "output_type": "stream",
          "name": "stdout",
          "text": [
            "| niter |f evals|CG iter|  obj func   |tr radius |   opt    |  c viol  |\n",
            "|-------|-------|-------|-------------|----------|----------|----------|\n",
            "|   1   |   3   |   0   | -7.0000e+00 | 1.00e+00 | 4.91e+00 | 0.00e+00 |\n",
            "|   2   |   6   |   1   | -1.3200e+01 | 7.00e+00 | 4.53e+00 | 0.00e+00 |\n",
            "|   3   |   9   |   3   | -3.1654e+01 | 2.97e+01 | 1.96e-01 | 0.00e+00 |\n",
            "|   4   |  12   |   4   | -3.1700e+01 | 2.97e+01 | 1.84e-03 | 0.00e+00 |\n",
            "|   5   |  12   |   4   | -3.1700e+01 | 1.49e+02 | 1.65e-02 | 0.00e+00 |\n",
            "|   6   |  15   |   6   | -3.1730e+01 | 1.49e+02 | 2.70e-05 | 0.00e+00 |\n",
            "|   7   |  15   |   6   | -3.1730e+01 | 7.44e+02 | 3.87e-03 | 0.00e+00 |\n",
            "|   8   |  18   |   8   | -3.1746e+01 | 7.44e+02 | 3.48e-06 | 0.00e+00 |\n",
            "|   9   |  18   |   8   | -3.1746e+01 | 3.72e+03 | 7.82e-04 | 0.00e+00 |\n",
            "|  10   |  21   |  10   | -3.1749e+01 | 3.72e+03 | 1.00e-07 | 0.00e+00 |\n",
            "|  11   |  21   |  10   | -3.1749e+01 | 1.86e+04 | 1.56e-04 | 0.00e+00 |\n",
            "|  12   |  24   |  12   | -3.1750e+01 | 1.86e+04 | 1.65e-08 | 0.00e+00 |\n",
            "|  13   |  24   |  12   | -3.1750e+01 | 9.29e+04 | 3.13e-05 | 0.00e+00 |\n",
            "|  14   |  27   |  14   | -3.1750e+01 | 9.29e+04 | 5.14e-11 | 0.00e+00 |\n",
            "\n",
            "`gtol` termination condition is satisfied.\n",
            "Number of iterations: 14, function evaluations: 27, CG iterations: 14, optimality: 5.14e-11, constraint violation: 0.00e+00, execution time: 0.043 s.\n",
            "[1.49998899 3.999993  ]\n",
            "x = [1.49998899 3.999993  ]のとき最小値 : -31.749967997545347\n"
          ]
        }
      ]
    },
    {
      "cell_type": "markdown",
      "metadata": {
        "id": "DTE2B7W7uow_"
      },
      "source": [
        "### **参考 (多変数、線形制約)**\n",
        "  https://qiita.com/shotoyoo/items/83297f959e1922465288  \n",
        "$f(x_1, x_2) = x_1^2 -x_2^2 + x_1 x_2 - x_1 +x_2$  \n",
        "\n",
        "制約条件(線形制約の場合)  \n",
        "$0 \\leq x_1 + x_ 2 \\leq 1$  \n",
        "$0 \\leq x_1 \\leq 1$  \n",
        "$0 \\leq x_2 \\leq 1$  \n",
        "\n",
        "$  \n",
        "\\left(\n",
        "\\begin{array}{r}\n",
        "0 \\\\\n",
        "0 \\\\\n",
        "0 \\\\\n",
        "\\end{array}\n",
        "\\right)\n",
        "\\leq\n",
        "\\left(\n",
        "\\begin{array}{rr}\n",
        "1 & 1 \\\\\n",
        "1 & 0 \\\\\n",
        "0 & 1 \\\\\n",
        "\\end{array}\n",
        "\\right)\n",
        "\\left(\n",
        "\\begin{array}{r}\n",
        "x_1 \\\\\n",
        "x_2 \\\\\n",
        "\\end{array}\n",
        "\\right)\n",
        "\\leq \n",
        "\\left(\n",
        "\\begin{array}{r}\n",
        "1 \\\\\n",
        "1 \\\\\n",
        "1 \\\\\n",
        "\\end{array}\n",
        "\\right)\n",
        "$"
      ]
    },
    {
      "cell_type": "code",
      "metadata": {
        "id": "wXLUgYlftvxg"
      },
      "source": [
        "def f(x):\n",
        "    return x[0]**2 - x[1]**2 + x[0]*x[1] - x[0] + x[1]"
      ],
      "execution_count": 22,
      "outputs": []
    },
    {
      "cell_type": "code",
      "metadata": {
        "id": "wJj4eUv7_GIX"
      },
      "source": [
        "x0 = np.array([0,0], dtype=float)\n",
        "# 制約: 各変数と両者の和が[0,1]という線形制約\n",
        "A = np.array([[1,1],[1,0],[0,1]])\n",
        "lb = np.array([0,0,0])\n",
        "ub = np.array([1,1,1])\n",
        "const = LinearConstraint(A, lb, ub)"
      ],
      "execution_count": 23,
      "outputs": []
    },
    {
      "cell_type": "code",
      "metadata": {
        "colab": {
          "base_uri": "https://localhost:8080/"
        },
        "id": "NISlxnCG_PER",
        "outputId": "7472adb9-06ed-46eb-8064-6388a2a8896b"
      },
      "source": [
        "# 最適化\n",
        "res = minimize(f,                       # 目的関数, \n",
        "                x0,                     # 初期解,\n",
        "                method=\"trust-constr\",  # 制約付き信頼領域法\n",
        "                jac=\"2-point\",          # 勾配関数\n",
        "                hess=BFGS(),            # ヘシアンの推定方法\n",
        "                constraints=const,      # 制約\n",
        "                options={\"maxiter\": 50, # 最大反復数\n",
        "                         \"verbose\":2})  # 最適化の過程を出力\n",
        "print(res[\"x\"])"
      ],
      "execution_count": 24,
      "outputs": [
        {
          "output_type": "stream",
          "name": "stdout",
          "text": [
            "| niter |f evals|CG iter|  obj func   |tr radius |   opt    |  c viol  |\n",
            "|-------|-------|-------|-------------|----------|----------|----------|\n",
            "|   1   |   3   |   0   | +0.0000e+00 | 1.00e+00 | 4.22e-01 | 0.00e+00 |\n",
            "|   2   |   6   |   1   | -4.3704e-01 | 7.00e+00 | 1.45e-01 | 1.26e-01 |\n",
            "|   3   |   9   |   3   | -3.2247e-01 | 7.00e+00 | 2.64e-02 | 5.66e-02 |\n",
            "|   4   |   9   |   3   | -3.2247e-01 | 3.50e+01 | 1.67e-02 | 5.66e-02 |\n",
            "|   5   |  12   |   5   | -2.2604e-01 | 3.84e+01 | 1.03e-02 | 0.00e+00 |\n",
            "|   6   |  15   |   6   | -2.3191e-01 | 3.84e+01 | 3.00e-03 | 0.00e+00 |\n",
            "|   7   |  15   |   6   | -2.3191e-01 | 1.92e+02 | 2.76e-03 | 0.00e+00 |\n",
            "|   8   |  18   |   8   | -2.4576e-01 | 1.92e+02 | 5.57e-05 | 0.00e+00 |\n",
            "|   9   |  18   |   8   | -2.4576e-01 | 9.60e+02 | 5.86e-05 | 0.00e+00 |\n",
            "|  10   |  21   |  10   | -2.4919e-01 | 9.60e+02 | 1.73e-04 | 0.00e+00 |\n",
            "|  11   |  21   |  10   | -2.4919e-01 | 4.80e+03 | 1.72e-04 | 0.00e+00 |\n",
            "|  12   |  24   |  12   | -2.4984e-01 | 4.80e+03 | 8.53e-05 | 0.00e+00 |\n",
            "|  13   |  27   |  13   | -2.4984e-01 | 4.80e+03 | 3.80e-05 | 0.00e+00 |\n",
            "|  14   |  27   |  13   | -2.4984e-01 | 2.40e+04 | 3.79e-05 | 0.00e+00 |\n",
            "|  15   |  30   |  15   | -2.4997e-01 | 2.40e+04 | 1.14e-08 | 0.00e+00 |\n",
            "|  16   |  30   |  15   | -2.4997e-01 | 1.20e+05 | 1.11e-08 | 0.00e+00 |\n",
            "|  17   |  33   |  17   | -2.4999e-01 | 1.20e+05 | 7.01e-07 | 0.00e+00 |\n",
            "|  18   |  33   |  17   | -2.4999e-01 | 6.00e+05 | 7.01e-07 | 0.00e+00 |\n",
            "|  19   |  36   |  19   | -2.5000e-01 | 6.00e+05 | 2.06e-07 | 0.00e+00 |\n",
            "|  20   |  36   |  19   | -2.5000e-01 | 3.00e+06 | 2.06e-07 | 0.00e+00 |\n",
            "|  21   |  39   |  21   | -2.5000e-01 | 3.00e+06 | 8.81e-08 | 0.00e+00 |\n",
            "|  22   |  39   |  21   | -2.5000e-01 | 1.50e+07 | 8.81e-08 | 0.00e+00 |\n",
            "|  23   |  42   |  23   | -2.5000e-01 | 1.50e+07 | 3.77e-08 | 0.00e+00 |\n",
            "|  24   |  45   |  24   | -2.5000e-01 | 1.50e+07 | 4.71e-09 | 0.00e+00 |\n",
            "\n",
            "`gtol` termination condition is satisfied.\n",
            "Number of iterations: 24, function evaluations: 45, CG iterations: 24, optimality: 4.71e-09, constraint violation: 0.00e+00, execution time: 0.08 s.\n",
            "[4.99999936e-01 3.41331929e-08]\n"
          ]
        }
      ]
    },
    {
      "cell_type": "markdown",
      "metadata": {
        "id": "5l6A0baf3O1O"
      },
      "source": [
        "## 定常分布の分散を最小化する\n",
        "2021年 OR学会秋 \n",
        "連続時間型マルコフ連鎖を利用した施設密集度最適化手法の提案  \n",
        "Durrett P165 Example 4.14 (Duke Basketball)  \n",
        "\n",
        "WiFi データセット - Crawdad.org  \n",
        "スウェーデン王立工科大学 Wi-Fiログデータ​(eduroamのデータ)​ 2014/09 550万件"
      ]
    },
    {
      "cell_type": "markdown",
      "metadata": {
        "id": "FgOJgy3pSu8F"
      },
      "source": [
        "\\begin{eqnarray} \n",
        "  minimize && \\sigma(a) = \\frac{1}{|S|}\\sum_{i \\in S}(\\pi_i(a) - \\bar{\\pi}_i)^2 \\\\ \n",
        "  subject \\ to && a_i \\geq 0, a_i \\in \\mathbb{R}, i \\in S \\nonumber \\\\\n",
        "  && \\sum_{i \\in S}\\frac{1}{a_i} = K, K \\in \\mathbb{R} \\nonumber \\\\\n",
        "  && a'(1-\\gamma) \\leq a \\leq a' (1 + \\gamma), \\gamma \\in \\mathbb{R} \\nonumber\n",
        "\\end{eqnarray}"
      ]
    },
    {
      "cell_type": "code",
      "metadata": {
        "id": "_5axz5Ym97mY"
      },
      "source": [
        "import numpy as np\n",
        "from numpy.linalg import solve\n",
        "import pandas as pd"
      ],
      "execution_count": 25,
      "outputs": []
    },
    {
      "cell_type": "code",
      "metadata": {
        "colab": {
          "base_uri": "https://localhost:8080/"
        },
        "id": "vS6twvcUVxln",
        "outputId": "49aaa227-b64e-4985-f5f6-b901e02461e5"
      },
      "source": [
        "from google.colab import drive\n",
        "drive.mount('/content/drive', force_remount=True)"
      ],
      "execution_count": 26,
      "outputs": [
        {
          "output_type": "stream",
          "name": "stdout",
          "text": [
            "Mounted at /content/drive\n"
          ]
        }
      ]
    },
    {
      "cell_type": "code",
      "metadata": {
        "colab": {
          "base_uri": "https://localhost:8080/"
        },
        "id": "xK5AzNa284qU",
        "outputId": "9820cd4c-21d6-43c1-8b80-53b4f68a39b6"
      },
      "source": [
        "#推移確率行列、サービス率の設定 (Minimamモデル)\n",
        "mu = np.array([4.0, 15/2, 3.0, 10.0])\n",
        "T = sum(1 / mu) #平均滞在時間の和 (等式制約で利用)\n",
        "print(T)\n",
        "gamma = 0.25 #最適化でのmuの動く率\n",
        "p = p = np.array([[0.0, 0.7, 0.3, 0.0],[0.0, 0.0, 1.0, 0.0],[1/3, 0.0, 0.0, 2/3], [1.0, 0.0, 0.0, 0.0]])\n",
        "p"
      ],
      "execution_count": 27,
      "outputs": [
        {
          "output_type": "stream",
          "name": "stdout",
          "text": [
            "0.8166666666666665\n"
          ]
        },
        {
          "output_type": "execute_result",
          "data": {
            "text/plain": [
              "array([[0.        , 0.7       , 0.3       , 0.        ],\n",
              "       [0.        , 0.        , 1.        , 0.        ],\n",
              "       [0.33333333, 0.        , 0.        , 0.66666667],\n",
              "       [1.        , 0.        , 0.        , 0.        ]])"
            ]
          },
          "metadata": {},
          "execution_count": 27
        }
      ]
    },
    {
      "cell_type": "code",
      "metadata": {
        "colab": {
          "base_uri": "https://localhost:8080/"
        },
        "id": "90HcB8tyQQ8E",
        "outputId": "f4cd3c28-3df9-485a-8539-b5a842a16a06"
      },
      "source": [
        "#WiFiモデル利用\n",
        "#mu = np.full(43, 1 / 1)\n",
        "mu_df = pd.read_csv('/content/drive/MyDrive/研究/連続時間マルコフ連鎖最適化/csv/group_mean_duration_201409_noout.csv', engine='python', encoding='utf-8', index_col=0)\n",
        "mu = mu_df['duration'].values / 3600\n",
        "print(mu)\n",
        "T = sum(1 / mu) #平均滞在時間の和 (等式制約で利用)\n",
        "print(T)\n",
        "gamma = 0.25 #最適化でのmuの動く率\n",
        "p = pd.read_csv('/content/drive/MyDrive/研究/連続時間マルコフ連鎖最適化/csv/group_transition_remove_201409_noout.csv', engine='python', encoding='utf-8', index_col=0)\n",
        "p = p.values\n",
        "p"
      ],
      "execution_count": 28,
      "outputs": [
        {
          "output_type": "stream",
          "name": "stdout",
          "text": [
            "[0.5604008  0.52944262 0.50764252 0.07615594 0.51645478 0.77071909\n",
            " 0.4337598  0.98120812 0.45946433 1.30658719 0.08846721 0.49888662\n",
            " 0.38773804 0.22447247 0.50675798 0.73397079 0.586337   0.51668678\n",
            " 0.32498346 0.18859996 1.10648529 0.36635787 1.0189881  0.36796364\n",
            " 0.15876284 0.11753281 0.23442338 0.34804859 0.18462812 0.38992321\n",
            " 0.09794713 0.74132724 0.26736608 0.8039915  0.44551074 0.22618052\n",
            " 0.89182897 1.22606125 1.29956983 0.87689394 1.45176422 1.10840517\n",
            " 0.50353204]\n",
            "131.86355075949442\n"
          ]
        },
        {
          "output_type": "execute_result",
          "data": {
            "text/plain": [
              "array([[0.00000000e+00, 3.81574040e-01, 1.68966803e-01, ...,\n",
              "        2.98396100e-03, 4.10294700e-03, 6.86311080e-02],\n",
              "       [0.00000000e+00, 8.46177814e-01, 2.26854190e-02, ...,\n",
              "        2.18196000e-04, 2.80164000e-04, 8.46601000e-05],\n",
              "       [0.00000000e+00, 8.54209470e-02, 7.62335152e-01, ...,\n",
              "        4.34668000e-04, 2.43414000e-04, 7.82402000e-05],\n",
              "       ...,\n",
              "       [3.02096000e-05, 1.32913600e-03, 8.94146000e-04, ...,\n",
              "        9.93946386e-01, 1.00289400e-03, 2.41661000e-05],\n",
              "       [2.64743000e-04, 1.08875500e-02, 3.07763600e-03, ...,\n",
              "        5.89052900e-03, 9.66907141e-01, 9.92786000e-05],\n",
              "       [0.00000000e+00, 2.12400770e-02, 6.43638700e-03, ...,\n",
              "        1.07273100e-03, 6.43639000e-04, 7.07144390e-01]])"
            ]
          },
          "metadata": {},
          "execution_count": 28
        }
      ]
    },
    {
      "cell_type": "code",
      "metadata": {
        "id": "MBUVr1bu9T2D"
      },
      "source": [
        "#推移率行列を作成する関数\n",
        "def getTransitionRate(p, mu):\n",
        "    q = p.copy()\n",
        "    #推移率行列を求める\n",
        "    #(1)サービス率と推移確率との積をとる\n",
        "    for i in range(len(q)):\n",
        "        q[i] *= mu[i]\n",
        "    #(2)対角要素に行和のマイナス値を入れる\n",
        "    for i in range(len(q)):\n",
        "        q[i][i] = np.sum(q[i]) * (-1)\n",
        "    return q"
      ],
      "execution_count": 29,
      "outputs": []
    },
    {
      "cell_type": "code",
      "metadata": {
        "id": "rU1nil7aBr-9"
      },
      "source": [
        "#推移率行列を作成\n",
        "#q = getTransitionRate(p, mu)\n",
        "#q"
      ],
      "execution_count": 30,
      "outputs": []
    },
    {
      "cell_type": "code",
      "metadata": {
        "id": "H_kViwAHByFE"
      },
      "source": [
        "#推移確率行列から定常分布を求める関数\n",
        "def getStationary_solve(q):#numpy.solveを使う場合\n",
        "    #定常分布を求める\n",
        "    q1 = q.copy()\n",
        "    #(3)最終列に1を代入\n",
        "    right = [0 for i in range(len(q))]\n",
        "    right[-1] = 1 #最後の要素のみ1にする\n",
        "    q1[:,-1] = 1 #最終列を1にする\n",
        "    #(4)連立方程式を解く πP=0 => P^tπ=0\n",
        "    pi = solve(q1.T, right)\n",
        "    return pi"
      ],
      "execution_count": 31,
      "outputs": []
    },
    {
      "cell_type": "code",
      "metadata": {
        "id": "tlaUvkQ5CpQ4"
      },
      "source": [
        "#推移確率から定常分布を求める\n",
        "#pi = getStationary_solve(q)\n",
        "#pi"
      ],
      "execution_count": 32,
      "outputs": []
    },
    {
      "cell_type": "code",
      "metadata": {
        "id": "cTlz1HsJC-DH"
      },
      "source": [
        "#目的関数\n",
        "def getObjective(pi):\n",
        "  return np.var(pi)"
      ],
      "execution_count": 33,
      "outputs": []
    },
    {
      "cell_type": "code",
      "metadata": {
        "id": "ZgKFGk8BE900"
      },
      "source": [
        "#目的間数値を求める\n",
        "#getObjective(pi)"
      ],
      "execution_count": 34,
      "outputs": []
    },
    {
      "cell_type": "code",
      "metadata": {
        "id": "GA4VtzYOWgLK"
      },
      "source": [
        "def getConstraint(mu):\n",
        "  Ts = [1/i for i in mu]#平均時間に変換\n",
        "  return T - np.sum(Ts)"
      ],
      "execution_count": 35,
      "outputs": []
    },
    {
      "cell_type": "code",
      "metadata": {
        "id": "AkeOzGOkFD0Q"
      },
      "source": [
        "#等式制約\n",
        "cons = ({'type':'eq','fun':getConstraint})\n",
        "#bounds\n",
        "lb = mu * (1 - gamma)\n",
        "ub = mu * (1 + gamma)\n",
        "#bounds = [(3,5), (5.625,9.375), (2.25,3.75), (7.5, 12.5)]\n",
        "#Boundsクラスを利用して、bounds=Bounds(lb, ub),とする"
      ],
      "execution_count": 36,
      "outputs": []
    },
    {
      "cell_type": "code",
      "metadata": {
        "id": "4M79DygpXbFm"
      },
      "source": [
        "#目的関数 (サービス率を変更して、再度定常分布を求め、目的関数を求める)\n",
        "def getOptimize(mu):\n",
        "  #(1)推移確率行列を求める\n",
        "  q = getTransitionRate(p, mu)\n",
        "  #(2)定常分布を求める\n",
        "  pi = getStationary_solve(q)\n",
        "  #(3)目的間数値を求める\n",
        "  return getObjective(pi)"
      ],
      "execution_count": 37,
      "outputs": []
    },
    {
      "cell_type": "code",
      "metadata": {
        "colab": {
          "base_uri": "https://localhost:8080/"
        },
        "id": "IevjK_UOZSa3",
        "outputId": "b4edc2b2-f442-40be-d854-4961dc722afd"
      },
      "source": [
        "# 最適化\n",
        "res = minimize(getOptimize,                       # 目的関数, \n",
        "                mu,                     # 初期解,\n",
        "                method=\"trust-constr\",  # 制約付き信頼領域法\n",
        "                jac=\"2-point\",          # 勾配関数\n",
        "                hess=BFGS(),            # ヘシアンの推定方法\n",
        "                constraints=cons,      # 制約\n",
        "                bounds=Bounds(lb, ub),\n",
        "                options={\"maxiter\": 1000, # 最大反復数\n",
        "                         \"verbose\":2})  # 最適化の過程を出力\n",
        "print(res[\"x\"])\n",
        "#最終結果\n",
        "q = getTransitionRate(p, res['x'])\n",
        "pi = getStationary_solve(q)\n",
        "val = getObjective(pi)\n",
        "print('定常分布pi = {0}'.format(pi))\n",
        "print('目的間数値(最終) : {0}'.format(val))"
      ],
      "execution_count": 38,
      "outputs": [
        {
          "output_type": "stream",
          "name": "stdout",
          "text": [
            "| niter |f evals|CG iter|  obj func   |tr radius |   opt    |  c viol  |\n",
            "|-------|-------|-------|-------------|----------|----------|----------|\n",
            "|   1   |  44   |   0   | +1.6705e-02 | 1.00e+00 | 3.05e-03 | 2.84e-14 |\n",
            "|   2   |  88   |   1   | +1.6666e-02 | 5.60e+00 | 2.40e-03 | 1.89e-04 |\n",
            "|   3   |  132  |   2   | +1.6474e-02 | 8.02e+00 | 1.03e-03 | 4.36e-03 |\n",
            "|   4   |  176  |   3   | +1.6724e-02 | 8.02e+00 | 6.44e-04 | 1.04e-02 |\n",
            "|   5   |  220  |   4   | +1.6666e-02 | 8.02e+00 | 1.77e-04 | 6.42e-04 |\n",
            "|   6   |  220  |   4   | +1.6666e-02 | 4.01e+01 | 1.23e-04 | 6.42e-04 |\n",
            "|   7   |  264  |   5   | +1.6629e-02 | 4.01e+01 | 1.95e-05 | 9.84e-05 |\n",
            "|   8   |  308  |   6   | +1.6659e-02 | 4.01e+01 | 5.96e-06 | 1.96e-04 |\n",
            "|   9   |  308  |   6   | +1.6659e-02 | 2.01e+02 | 8.14e-05 | 1.96e-04 |\n",
            "|  10   |  352  |   7   | +1.6481e-02 | 2.01e+02 | 6.41e-06 | 1.88e-03 |\n",
            "|  11   |  352  |   7   | +1.6481e-02 | 1.00e+03 | 8.12e-05 | 1.88e-03 |\n",
            "|  12   |  440  |   8   | +1.5842e-02 | 1.00e+03 | 2.07e-05 | 1.29e-05 |\n",
            "|  13   |  440  |   8   | +1.5842e-02 | 5.01e+03 | 7.29e-05 | 1.29e-05 |\n",
            "|  14   |  528  |   9   | +1.5197e-02 | 5.01e+03 | 1.17e-05 | 5.89e-05 |\n",
            "|  15   |  528  |   9   | +1.5197e-02 | 2.51e+04 | 2.13e-05 | 5.89e-05 |\n",
            "|  16   |  616  |  10   | +1.4766e-02 | 2.51e+04 | 5.07e-06 | 2.19e-04 |\n",
            "|  17   |  704  |  11   | +1.4766e-02 | 2.51e+03 | 5.07e-06 | 2.19e-04 |\n",
            "|  18   |  792  |  12   | +1.4766e-02 | 2.51e+02 | 5.07e-06 | 2.19e-04 |\n",
            "|  19   |  880  |  13   | +1.4766e-02 | 2.51e+01 | 5.07e-06 | 2.19e-04 |\n",
            "|  20   |  968  |  14   | +1.4766e-02 | 2.51e+00 | 5.07e-06 | 2.19e-04 |\n",
            "|  21   | 1056  |  15   | +1.4766e-02 | 2.51e-01 | 5.07e-06 | 2.19e-04 |\n",
            "|  22   | 1144  |  16   | +1.4730e-02 | 1.76e+00 | 3.41e-06 | 1.16e-05 |\n",
            "|  23   | 1232  |  18   | +1.4730e-02 | 1.76e-01 | 3.41e-06 | 1.16e-05 |\n",
            "|  24   | 1320  |  19   | +1.4707e-02 | 1.23e+00 | 2.55e-06 | 3.79e-06 |\n",
            "|  25   | 1408  |  21   | +1.4707e-02 | 1.23e-01 | 2.55e-06 | 3.79e-06 |\n",
            "|  26   | 1496  |  22   | +1.4692e-02 | 8.60e-01 | 2.19e-06 | 1.28e-06 |\n",
            "|  27   | 1584  |  24   | +1.4692e-02 | 8.60e-02 | 2.19e-06 | 1.28e-06 |\n",
            "|  28   | 1672  |  25   | +1.4683e-02 | 6.02e-01 | 2.05e-06 | 4.40e-07 |\n",
            "|  29   | 1760  |  26   | +1.4683e-02 | 6.02e-02 | 2.05e-06 | 4.40e-07 |\n",
            "|  30   | 1848  |  27   | +1.4676e-02 | 4.21e-01 | 1.95e-06 | 1.51e-07 |\n",
            "|  31   | 1936  |  28   | +1.4676e-02 | 4.21e-02 | 1.95e-06 | 1.51e-07 |\n",
            "|  32   | 2024  |  29   | +1.4671e-02 | 2.95e-01 | 1.88e-06 | 5.20e-08 |\n",
            "|  33   | 2112  |  30   | +1.4671e-02 | 2.95e-02 | 1.88e-06 | 5.20e-08 |\n",
            "|  34   | 2200  |  31   | +1.4668e-02 | 2.06e-01 | 1.83e-06 | 1.79e-08 |\n",
            "|  35   | 2288  |  32   | +1.4646e-02 | 4.13e-01 | 1.49e-06 | 6.14e-06 |\n",
            "|  36   | 2288  |  32   | +1.4646e-02 | 2.06e+00 | 2.44e-06 | 6.14e-06 |\n",
            "|  37   | 2376  |  36   | +1.4646e-02 | 2.06e-01 | 2.44e-06 | 6.14e-06 |\n",
            "|  38   | 2464  |  37   | +1.4625e-02 | 4.13e-01 | 2.17e-06 | 4.54e-06 |\n",
            "|  39   | 2552  |  38   | +1.4586e-02 | 4.13e-01 | 1.65e-06 | 3.82e-05 |\n",
            "|  40   | 2640  |  39   | +1.4551e-02 | 8.26e-01 | 1.18e-06 | 4.25e-05 |\n",
            "|  41   | 2728  |  40   | +1.4551e-02 | 8.26e-02 | 1.18e-06 | 4.25e-05 |\n",
            "|  42   | 2816  |  41   | +1.4546e-02 | 5.78e-01 | 1.13e-06 | 3.67e-07 |\n",
            "|  43   | 2904  |  42   | +1.4546e-02 | 5.78e-02 | 1.13e-06 | 3.67e-07 |\n",
            "|  44   | 2992  |  43   | +1.4541e-02 | 4.05e-01 | 1.11e-06 | 1.26e-07 |\n",
            "|  45   | 3080  |  44   | +1.4541e-02 | 4.05e-02 | 1.11e-06 | 1.26e-07 |\n",
            "|  46   | 3168  |  45   | +1.4539e-02 | 2.83e-01 | 1.09e-06 | 4.34e-08 |\n",
            "|  47   | 3256  |  46   | +1.4519e-02 | 2.83e-01 | 1.04e-06 | 1.48e-05 |\n",
            "|  48   | 3344  |  47   | +1.4501e-02 | 5.67e-01 | 9.89e-07 | 1.48e-05 |\n",
            "|  49   | 3432  |  48   | +1.4501e-02 | 5.67e-02 | 9.89e-07 | 1.48e-05 |\n",
            "|  50   | 3520  |  49   | +1.4498e-02 | 3.97e-01 | 9.78e-07 | 1.17e-07 |\n",
            "|  51   | 3608  |  50   | +1.4498e-02 | 3.97e-02 | 9.78e-07 | 1.17e-07 |\n",
            "|  52   | 3696  |  51   | +1.4496e-02 | 2.78e-01 | 9.70e-07 | 3.99e-08 |\n",
            "|  53   | 3784  |  52   | +1.4496e-02 | 2.78e-02 | 9.70e-07 | 3.99e-08 |\n",
            "|  54   | 3872  |  53   | +1.4494e-02 | 1.94e-01 | 9.64e-07 | 1.36e-08 |\n",
            "|  55   | 3960  |  55   | +1.4483e-02 | 3.89e-01 | 9.25e-07 | 4.63e-06 |\n",
            "|  56   | 4048  |  57   | +1.4483e-02 | 3.89e-02 | 9.25e-07 | 4.63e-06 |\n",
            "|  57   | 4136  |  58   | +1.4481e-02 | 2.72e-01 | 9.16e-07 | 3.62e-08 |\n",
            "|  58   | 4224  |  60   | +1.4481e-02 | 2.72e-02 | 9.16e-07 | 3.62e-08 |\n",
            "|  59   | 4312  |  61   | +1.4480e-02 | 1.90e-01 | 9.10e-07 | 1.23e-08 |\n",
            "|  60   | 4400  |  62   | +1.4470e-02 | 3.81e-01 | 8.68e-07 | 4.19e-06 |\n",
            "|  61   | 4488  |  64   | +1.4470e-02 | 3.81e-02 | 8.68e-07 | 4.19e-06 |\n",
            "|  62   | 4576  |  65   | +1.4468e-02 | 2.67e-01 | 8.60e-07 | 3.26e-08 |\n",
            "|  63   | 4664  |  66   | +1.4468e-02 | 2.67e-02 | 8.60e-07 | 3.26e-08 |\n",
            "|  64   | 4752  |  67   | +1.4466e-02 | 1.87e-01 | 8.54e-07 | 1.11e-08 |\n",
            "|  65   | 4840  |  68   | +1.4457e-02 | 3.73e-01 | 8.10e-07 | 3.77e-06 |\n",
            "|  66   | 4928  |  69   | +1.4457e-02 | 3.73e-02 | 8.10e-07 | 3.77e-06 |\n",
            "|  67   | 5016  |  70   | +1.4455e-02 | 2.61e-01 | 8.01e-07 | 2.91e-08 |\n",
            "|  68   | 5104  |  71   | +1.4455e-02 | 2.61e-02 | 8.01e-07 | 2.91e-08 |\n",
            "|  69   | 5192  |  72   | +1.4454e-02 | 1.83e-01 | 7.94e-07 | 9.91e-09 |\n",
            "|  70   | 5280  |  73   | +1.4446e-02 | 3.66e-01 | 7.49e-07 | 3.37e-06 |\n",
            "|  71   | 5368  |  74   | +1.4446e-02 | 3.66e-02 | 7.49e-07 | 3.37e-06 |\n",
            "|  72   | 5456  |  75   | +1.4444e-02 | 2.56e-01 | 7.40e-07 | 2.60e-08 |\n",
            "|  73   | 5544  |  76   | +1.4444e-02 | 2.56e-02 | 7.40e-07 | 2.60e-08 |\n",
            "|  74   | 5632  |  77   | +1.4443e-02 | 1.79e-01 | 7.33e-07 | 8.83e-09 |\n",
            "|  75   | 5720  |  78   | +1.4435e-02 | 3.59e-01 | 6.87e-07 | 3.00e-06 |\n",
            "|  76   | 5808  |  79   | +1.4435e-02 | 3.59e-02 | 6.87e-07 | 3.00e-06 |\n",
            "|  77   | 5896  |  80   | +1.4433e-02 | 2.51e-01 | 6.78e-07 | 2.31e-08 |\n",
            "|  78   | 5984  |  81   | +1.4433e-02 | 2.51e-02 | 6.78e-07 | 2.31e-08 |\n",
            "|  79   | 6072  |  82   | +1.4432e-02 | 1.76e-01 | 6.71e-07 | 7.86e-09 |\n",
            "|  80   | 6160  |  83   | +1.4425e-02 | 3.51e-01 | 6.25e-07 | 2.67e-06 |\n",
            "|  81   | 6248  |  84   | +1.4425e-02 | 3.51e-02 | 6.25e-07 | 2.67e-06 |\n",
            "|  82   | 6336  |  85   | +1.4424e-02 | 2.46e-01 | 6.15e-07 | 2.06e-08 |\n",
            "|  83   | 6424  |  86   | +1.4424e-02 | 2.46e-02 | 6.15e-07 | 2.06e-08 |\n",
            "|  84   | 6512  |  87   | +1.4423e-02 | 1.72e-01 | 6.09e-07 | 7.00e-09 |\n",
            "|  85   | 6600  |  88   | +1.4416e-02 | 3.44e-01 | 5.62e-07 | 2.38e-06 |\n",
            "|  86   | 6688  |  89   | +1.4416e-02 | 3.44e-02 | 5.62e-07 | 2.38e-06 |\n",
            "|  87   | 6776  |  90   | +1.4414e-02 | 2.41e-01 | 5.53e-07 | 1.84e-08 |\n",
            "|  88   | 6864  |  91   | +1.4414e-02 | 2.41e-02 | 5.53e-07 | 1.84e-08 |\n",
            "|  89   | 6952  |  92   | +1.4413e-02 | 1.69e-01 | 5.47e-07 | 6.25e-09 |\n",
            "|  90   | 7040  |  93   | +1.4407e-02 | 3.37e-01 | 5.01e-07 | 2.12e-06 |\n",
            "|  91   | 7040  |  93   | +1.4407e-02 | 1.69e+00 | 8.80e-07 | 2.12e-06 |\n",
            "|  92   | 7128  |  96   | +1.4407e-02 | 1.69e-01 | 8.80e-07 | 2.12e-06 |\n",
            "|  93   | 7216  |  97   | +1.4401e-02 | 3.37e-01 | 8.42e-07 | 1.85e-06 |\n",
            "|  94   | 7304  |  98   | +1.4401e-02 | 3.37e-02 | 8.42e-07 | 1.85e-06 |\n",
            "|  95   | 7392  |  99   | +1.4400e-02 | 2.36e-01 | 8.35e-07 | 1.42e-08 |\n",
            "|  96   | 7480  |  100  | +1.4392e-02 | 4.72e-01 | 7.81e-07 | 4.82e-06 |\n",
            "|  97   | 7568  |  101  | +1.4392e-02 | 4.72e-02 | 7.81e-07 | 4.82e-06 |\n",
            "|  98   | 7656  |  102  | +1.4390e-02 | 3.31e-01 | 7.70e-07 | 3.66e-08 |\n",
            "|  99   | 7744  |  103  | +1.4390e-02 | 3.31e-02 | 7.70e-07 | 3.66e-08 |\n",
            "|  100  | 7832  |  104  | +1.4389e-02 | 2.31e-01 | 7.63e-07 | 1.24e-08 |\n",
            "|  101  | 7920  |  105  | +1.4381e-02 | 4.63e-01 | 7.10e-07 | 4.21e-06 |\n",
            "|  102  | 8008  |  106  | +1.4381e-02 | 4.63e-02 | 7.10e-07 | 4.21e-06 |\n",
            "|  103  | 8096  |  107  | +1.4380e-02 | 3.24e-01 | 6.99e-07 | 3.20e-08 |\n",
            "|  104  | 8184  |  108  | +1.4380e-02 | 3.24e-02 | 6.99e-07 | 3.20e-08 |\n",
            "|  105  | 8272  |  109  | +1.4379e-02 | 2.27e-01 | 6.92e-07 | 1.09e-08 |\n",
            "|  106  | 8360  |  110  | +1.4372e-02 | 4.54e-01 | 6.41e-07 | 3.69e-06 |\n",
            "|  107  | 8448  |  111  | +1.4372e-02 | 4.54e-02 | 6.41e-07 | 3.69e-06 |\n",
            "|  108  | 8536  |  112  | +1.4371e-02 | 3.18e-01 | 6.30e-07 | 2.82e-08 |\n",
            "|  109  | 8624  |  113  | +1.4371e-02 | 3.18e-02 | 6.30e-07 | 2.82e-08 |\n",
            "|  110  | 8712  |  114  | +1.4370e-02 | 2.22e-01 | 6.23e-07 | 9.57e-09 |\n",
            "|  111  | 8800  |  115  | +1.4363e-02 | 4.45e-01 | 5.75e-07 | 3.25e-06 |\n",
            "|  112  | 8888  |  116  | +1.4363e-02 | 4.45e-02 | 5.75e-07 | 3.25e-06 |\n",
            "|  113  | 8976  |  117  | +1.4362e-02 | 3.11e-01 | 5.65e-07 | 2.48e-08 |\n",
            "|  114  | 9064  |  118  | +1.4362e-02 | 3.11e-02 | 5.65e-07 | 2.48e-08 |\n",
            "|  115  | 9152  |  119  | +1.4361e-02 | 2.18e-01 | 5.59e-07 | 8.44e-09 |\n",
            "|  116  | 9240  |  120  | +1.4355e-02 | 4.36e-01 | 5.13e-07 | 2.87e-06 |\n",
            "|  117  | 9328  |  121  | +1.4355e-02 | 4.36e-02 | 5.13e-07 | 2.87e-06 |\n",
            "|  118  | 9416  |  122  | +1.4354e-02 | 3.05e-01 | 5.04e-07 | 2.20e-08 |\n",
            "|  119  | 9504  |  123  | +1.4354e-02 | 3.05e-02 | 5.04e-07 | 2.20e-08 |\n",
            "|  120  | 9592  |  124  | +1.4354e-02 | 2.14e-01 | 4.98e-07 | 7.47e-09 |\n",
            "|  121  | 9680  |  125  | +1.4348e-02 | 4.27e-01 | 4.56e-07 | 2.54e-06 |\n",
            "|  122  | 9768  |  126  | +1.4348e-02 | 4.27e-02 | 4.56e-07 | 2.54e-06 |\n",
            "|  123  | 9856  |  127  | +1.4347e-02 | 2.99e-01 | 4.48e-07 | 1.95e-08 |\n",
            "|  124  | 9944  |  128  | +1.4347e-02 | 2.99e-02 | 4.48e-07 | 1.95e-08 |\n",
            "|  125  | 10032 |  129  | +1.4346e-02 | 2.09e-01 | 4.42e-07 | 6.62e-09 |\n",
            "|  126  | 10120 |  130  | +1.4341e-02 | 4.18e-01 | 4.04e-07 | 2.25e-06 |\n",
            "|  127  | 10208 |  131  | +1.4341e-02 | 4.18e-02 | 4.04e-07 | 2.25e-06 |\n",
            "|  128  | 10296 |  132  | +1.4340e-02 | 2.93e-01 | 3.96e-07 | 1.73e-08 |\n",
            "|  129  | 10384 |  133  | +1.4340e-02 | 2.93e-02 | 3.96e-07 | 1.73e-08 |\n",
            "|  130  | 10472 |  134  | +1.4340e-02 | 2.05e-01 | 3.91e-07 | 5.88e-09 |\n",
            "|  131  | 10560 |  135  | +1.4335e-02 | 4.10e-01 | 3.56e-07 | 2.00e-06 |\n",
            "|  132  | 10648 |  136  | +1.4335e-02 | 4.10e-02 | 3.56e-07 | 2.00e-06 |\n",
            "|  133  | 10736 |  137  | +1.4334e-02 | 2.87e-01 | 3.50e-07 | 1.54e-08 |\n",
            "|  134  | 10824 |  138  | +1.4334e-02 | 2.87e-02 | 3.50e-07 | 1.54e-08 |\n",
            "|  135  | 10912 |  139  | +1.4334e-02 | 2.01e-01 | 3.45e-07 | 5.23e-09 |\n",
            "|  136  | 11000 |  140  | +1.4329e-02 | 4.02e-01 | 3.14e-07 | 1.78e-06 |\n",
            "|  137  | 11088 |  141  | +1.4329e-02 | 4.02e-02 | 3.14e-07 | 1.78e-06 |\n",
            "|  138  | 11176 |  142  | +1.4328e-02 | 2.81e-01 | 3.08e-07 | 1.37e-08 |\n",
            "|  139  | 11264 |  143  | +1.4328e-02 | 2.81e-02 | 3.08e-07 | 1.37e-08 |\n",
            "|  140  | 11352 |  144  | +1.4328e-02 | 1.97e-01 | 3.04e-07 | 4.65e-09 |\n",
            "|  141  | 11440 |  145  | +1.4324e-02 | 3.94e-01 | 2.97e-07 | 1.58e-06 |\n",
            "|  142  | 11528 |  146  | +1.4324e-02 | 3.94e-02 | 2.97e-07 | 1.58e-06 |\n",
            "|  143  | 11616 |  147  | +1.4323e-02 | 2.76e-01 | 2.96e-07 | 1.22e-08 |\n",
            "|  144  | 11704 |  148  | +1.4323e-02 | 2.76e-02 | 2.96e-07 | 1.22e-08 |\n",
            "|  145  | 11792 |  149  | +1.4322e-02 | 1.93e-01 | 2.95e-07 | 4.14e-09 |\n",
            "|  146  | 11880 |  150  | +1.4319e-02 | 3.86e-01 | 2.87e-07 | 1.41e-06 |\n",
            "|  147  | 11968 |  151  | +1.4319e-02 | 3.86e-02 | 2.87e-07 | 1.41e-06 |\n",
            "|  148  | 12056 |  152  | +1.4318e-02 | 2.70e-01 | 2.86e-07 | 1.08e-08 |\n",
            "|  149  | 12144 |  153  | +1.4318e-02 | 2.70e-02 | 2.86e-07 | 1.08e-08 |\n",
            "|  150  | 12232 |  154  | +1.4317e-02 | 1.89e-01 | 2.85e-07 | 3.69e-09 |\n",
            "|  151  | 12320 |  155  | +1.4314e-02 | 3.78e-01 | 2.77e-07 | 1.26e-06 |\n",
            "|  152  | 12408 |  157  | +1.4314e-02 | 3.78e-02 | 2.77e-07 | 1.26e-06 |\n",
            "|  153  | 12496 |  158  | +1.4313e-02 | 2.65e-01 | 2.76e-07 | 9.66e-09 |\n",
            "|  154  | 12584 |  159  | +1.4309e-02 | 2.65e-01 | 2.64e-07 | 3.28e-06 |\n",
            "|  155  | 12672 |  160  | +1.4304e-02 | 5.30e-01 | 2.52e-07 | 3.10e-06 |\n",
            "|  156  | 12760 |  162  | +1.4304e-02 | 5.30e-02 | 2.52e-07 | 3.10e-06 |\n",
            "|  157  | 12848 |  163  | +1.4303e-02 | 3.71e-01 | 2.50e-07 | 2.35e-08 |\n",
            "|  158  | 12936 |  165  | +1.4303e-02 | 3.71e-02 | 2.50e-07 | 2.35e-08 |\n",
            "|  159  | 13024 |  166  | +1.4303e-02 | 2.60e-01 | 2.48e-07 | 7.95e-09 |\n",
            "|  160  | 13112 |  167  | +1.4299e-02 | 2.60e-01 | 2.35e-07 | 2.70e-06 |\n",
            "|  161  | 13200 |  168  | +1.4295e-02 | 5.19e-01 | 2.22e-07 | 2.55e-06 |\n",
            "|  162  | 13288 |  170  | +1.4295e-02 | 5.19e-02 | 2.22e-07 | 2.55e-06 |\n",
            "|  163  | 13376 |  171  | +1.4294e-02 | 3.63e-01 | 2.19e-07 | 1.94e-08 |\n",
            "|  164  | 13464 |  174  | +1.4294e-02 | 3.63e-02 | 2.19e-07 | 1.94e-08 |\n",
            "|  165  | 13552 |  176  | +1.4293e-02 | 2.54e-01 | 2.17e-07 | 6.68e-09 |\n",
            "|  166  | 13640 |  178  | +1.4293e-02 | 2.54e-02 | 2.17e-07 | 6.68e-09 |\n",
            "|  167  | 13728 |  179  | +1.4293e-02 | 1.78e-01 | 2.16e-07 | 2.24e-09 |\n",
            "|  168  | 13816 |  180  | +1.4290e-02 | 3.56e-01 | 2.07e-07 | 7.62e-07 |\n",
            "|  169  | 13904 |  182  | +1.4290e-02 | 3.56e-02 | 2.07e-07 | 7.62e-07 |\n",
            "|  170  | 13992 |  183  | +1.4290e-02 | 2.49e-01 | 2.05e-07 | 5.88e-09 |\n",
            "|  171  | 14080 |  185  | +1.4287e-02 | 2.49e-01 | 1.95e-07 | 1.99e-06 |\n",
            "|  172  | 14168 |  187  | +1.4283e-02 | 4.98e-01 | 1.86e-07 | 1.88e-06 |\n",
            "|  173  | 14256 |  190  | +1.4283e-02 | 4.98e-02 | 1.86e-07 | 1.88e-06 |\n",
            "|  174  | 14344 |  191  | +1.4283e-02 | 3.49e-01 | 1.83e-07 | 1.44e-08 |\n",
            "|  175  | 14432 |  193  | +1.4283e-02 | 3.49e-02 | 1.83e-07 | 1.44e-08 |\n",
            "|  176  | 14520 |  194  | +1.4282e-02 | 2.44e-01 | 1.81e-07 | 4.88e-09 |\n",
            "|  177  | 14608 |  196  | +1.4282e-02 | 2.44e-02 | 1.81e-07 | 4.88e-09 |\n",
            "|  178  | 14696 |  197  | +1.4282e-02 | 1.71e-01 | 1.80e-07 | 1.66e-09 |\n",
            "|  179  | 14784 |  199  | +1.4280e-02 | 3.42e-01 | 1.73e-07 | 5.35e-07 |\n",
            "|  180  | 14872 |  202  | +1.4280e-02 | 3.42e-02 | 1.73e-07 | 5.35e-07 |\n",
            "|  181  | 14960 |  203  | +1.4280e-02 | 2.39e-01 | 1.71e-07 | 4.40e-09 |\n",
            "|  182  | 15048 |  205  | +1.4280e-02 | 2.39e-02 | 1.71e-07 | 4.40e-09 |\n",
            "|  183  | 15136 |  206  | +1.4279e-02 | 1.68e-01 | 1.70e-07 | 1.50e-09 |\n",
            "|  184  | 15224 |  208  | +1.4277e-02 | 1.17e+00 | 1.59e-07 | 5.20e-07 |\n",
            "|  185  | 15312 |  218  | +1.4277e-02 | 1.17e-01 | 1.59e-07 | 5.20e-07 |\n",
            "|  186  | 15400 |  220  | +1.4276e-02 | 8.21e-01 | 1.52e-07 | 1.71e-07 |\n",
            "|  187  | 15400 |  220  | +1.4276e-02 | 4.10e+00 | 2.56e-07 | 1.71e-07 |\n",
            "|  188  | 15488 |  234  | +1.4276e-02 | 4.10e-01 | 2.56e-07 | 1.71e-07 |\n",
            "|  189  | 15576 |  236  | +1.4276e-02 | 4.10e-02 | 2.56e-07 | 1.71e-07 |\n",
            "|  190  | 15664 |  237  | +1.4276e-02 | 2.87e-01 | 2.54e-07 | 5.83e-09 |\n",
            "|  191  | 15752 |  239  | +1.4272e-02 | 5.75e-01 | 2.46e-07 | 1.96e-06 |\n",
            "|  192  | 15840 |  242  | +1.4272e-02 | 5.75e-02 | 2.46e-07 | 1.96e-06 |\n",
            "|  193  | 15928 |  243  | +1.4272e-02 | 4.02e-01 | 2.44e-07 | 1.49e-08 |\n",
            "|  194  | 16016 |  245  | +1.4272e-02 | 4.02e-02 | 2.44e-07 | 1.49e-08 |\n",
            "|  195  | 16104 |  246  | +1.4271e-02 | 2.82e-01 | 2.43e-07 | 5.03e-09 |\n",
            "|  196  | 16192 |  248  | +1.4268e-02 | 5.63e-01 | 2.37e-07 | 1.69e-06 |\n",
            "|  197  | 16280 |  251  | +1.4268e-02 | 5.63e-02 | 2.37e-07 | 1.69e-06 |\n",
            "|  198  | 16368 |  252  | +1.4268e-02 | 3.94e-01 | 2.35e-07 | 1.28e-08 |\n",
            "|  199  | 16456 |  255  | +1.4268e-02 | 3.94e-02 | 2.35e-07 | 1.28e-08 |\n",
            "|  200  | 16544 |  256  | +1.4268e-02 | 2.76e-01 | 2.34e-07 | 4.34e-09 |\n",
            "|  201  | 16632 |  258  | +1.4265e-02 | 5.52e-01 | 2.29e-07 | 1.46e-06 |\n",
            "|  202  | 16720 |  261  | +1.4265e-02 | 5.52e-02 | 2.29e-07 | 1.46e-06 |\n",
            "|  203  | 16808 |  262  | +1.4264e-02 | 3.86e-01 | 2.27e-07 | 1.11e-08 |\n",
            "|  204  | 16896 |  265  | +1.4264e-02 | 3.86e-02 | 2.27e-07 | 1.11e-08 |\n",
            "|  205  | 16984 |  266  | +1.4264e-02 | 2.70e-01 | 2.25e-07 | 3.76e-09 |\n",
            "|  206  | 17072 |  268  | +1.4262e-02 | 5.41e-01 | 2.22e-07 | 1.35e-06 |\n",
            "|  207  | 17160 |  271  | +1.4262e-02 | 5.41e-02 | 2.22e-07 | 1.35e-06 |\n",
            "|  208  | 17248 |  272  | +1.4261e-02 | 3.79e-01 | 2.19e-07 | 9.53e-09 |\n",
            "|  209  | 17336 |  274  | +1.4261e-02 | 3.79e-02 | 2.19e-07 | 9.53e-09 |\n",
            "|  210  | 17424 |  275  | +1.4261e-02 | 2.65e-01 | 2.18e-07 | 3.23e-09 |\n",
            "|  211  | 17512 |  277  | +1.4259e-02 | 5.30e-01 | 2.15e-07 | 1.19e-06 |\n",
            "|  212  | 17600 |  280  | +1.4259e-02 | 5.30e-02 | 2.15e-07 | 1.19e-06 |\n",
            "|  213  | 17688 |  281  | +1.4258e-02 | 3.71e-01 | 2.12e-07 | 8.17e-09 |\n",
            "|  214  | 17776 |  284  | +1.4258e-02 | 3.71e-02 | 2.12e-07 | 8.17e-09 |\n",
            "|  215  | 17864 |  285  | +1.4258e-02 | 2.60e-01 | 2.11e-07 | 2.77e-09 |\n",
            "|  216  | 17952 |  287  | +1.4256e-02 | 5.19e-01 | 2.09e-07 | 9.91e-07 |\n",
            "|  217  | 18040 |  290  | +1.4256e-02 | 5.19e-02 | 2.09e-07 | 9.91e-07 |\n",
            "|  218  | 18128 |  291  | +1.4255e-02 | 3.64e-01 | 2.06e-07 | 7.03e-09 |\n",
            "|  219  | 18216 |  294  | +1.4255e-02 | 3.64e-02 | 2.06e-07 | 7.03e-09 |\n",
            "|  220  | 18304 |  295  | +1.4255e-02 | 2.55e-01 | 2.05e-07 | 2.39e-09 |\n",
            "|  221  | 18392 |  297  | +1.4253e-02 | 5.09e-01 | 2.03e-07 | 8.80e-07 |\n",
            "|  222  | 18480 |  300  | +1.4253e-02 | 5.09e-02 | 2.03e-07 | 8.80e-07 |\n",
            "|  223  | 18568 |  301  | +1.4253e-02 | 3.56e-01 | 2.01e-07 | 6.04e-09 |\n",
            "|  224  | 18656 |  304  | +1.4253e-02 | 3.56e-02 | 2.01e-07 | 6.04e-09 |\n",
            "|  225  | 18744 |  305  | +1.4252e-02 | 2.49e-01 | 1.99e-07 | 2.05e-09 |\n",
            "|  226  | 18832 |  308  | +1.4251e-02 | 1.75e+00 | 1.95e-07 | 5.95e-07 |\n",
            "|  227  | 18920 |  317  | +1.4251e-02 | 1.75e-01 | 1.95e-07 | 5.95e-07 |\n",
            "|  228  | 19008 |  319  | +1.4250e-02 | 1.22e+00 | 1.90e-07 | 2.01e-07 |\n",
            "|  229  | 19096 |  325  | +1.4250e-02 | 1.22e-01 | 1.90e-07 | 2.01e-07 |\n",
            "|  230  | 19184 |  327  | +1.4249e-02 | 8.56e-01 | 1.86e-07 | 6.86e-08 |\n",
            "|  231  | 19272 |  332  | +1.4249e-02 | 8.56e-02 | 1.86e-07 | 6.86e-08 |\n",
            "|  232  | 19360 |  334  | +1.4248e-02 | 5.99e-01 | 1.82e-07 | 2.42e-08 |\n",
            "|  233  | 19448 |  338  | +1.4248e-02 | 5.99e-02 | 1.82e-07 | 2.42e-08 |\n",
            "|  234  | 19536 |  339  | +1.4248e-02 | 4.19e-01 | 1.79e-07 | 8.47e-09 |\n",
            "|  235  | 19624 |  342  | +1.4248e-02 | 4.19e-02 | 1.79e-07 | 8.47e-09 |\n",
            "|  236  | 19712 |  343  | +1.4248e-02 | 2.93e-01 | 1.77e-07 | 2.86e-09 |\n",
            "|  237  | 19800 |  346  | +1.4246e-02 | 5.87e-01 | 1.75e-07 | 7.58e-07 |\n",
            "|  238  | 19888 |  350  | +1.4246e-02 | 5.87e-02 | 1.75e-07 | 7.58e-07 |\n",
            "|  239  | 19976 |  351  | +1.4245e-02 | 4.11e-01 | 1.72e-07 | 7.40e-09 |\n",
            "|  240  | 20064 |  354  | +1.4245e-02 | 4.11e-02 | 1.72e-07 | 7.40e-09 |\n",
            "|  241  | 20152 |  355  | +1.4245e-02 | 2.88e-01 | 1.69e-07 | 2.50e-09 |\n",
            "|  242  | 20240 |  358  | +1.4244e-02 | 5.75e-01 | 1.70e-07 | 7.08e-07 |\n",
            "|  243  | 20328 |  362  | +1.4244e-02 | 5.75e-02 | 1.70e-07 | 7.08e-07 |\n",
            "|  244  | 20416 |  363  | +1.4243e-02 | 4.03e-01 | 1.66e-07 | 6.43e-09 |\n",
            "|  245  | 20504 |  366  | +1.4243e-02 | 4.03e-02 | 1.66e-07 | 6.43e-09 |\n",
            "|  246  | 20592 |  367  | +1.4243e-02 | 2.82e-01 | 1.64e-07 | 2.17e-09 |\n",
            "|  247  | 20680 |  370  | +1.4241e-02 | 5.64e-01 | 1.66e-07 | 7.30e-07 |\n",
            "|  248  | 20768 |  374  | +1.4241e-02 | 5.64e-02 | 1.66e-07 | 7.30e-07 |\n",
            "|  249  | 20856 |  375  | +1.4241e-02 | 3.95e-01 | 1.62e-07 | 5.53e-09 |\n",
            "|  250  | 20944 |  378  | +1.4239e-02 | 3.95e-01 | 1.65e-07 | 1.36e-06 |\n",
            "|  251  | 21032 |  382  | +1.4238e-02 | 7.89e-01 | 1.67e-07 | 1.19e-06 |\n",
            "|  252  | 21120 |  387  | +1.4238e-02 | 7.89e-02 | 1.67e-07 | 1.19e-06 |\n",
            "|  253  | 21208 |  389  | +1.4237e-02 | 5.52e-01 | 1.65e-07 | 1.19e-08 |\n",
            "|  254  | 21296 |  393  | +1.4237e-02 | 5.52e-02 | 1.65e-07 | 1.19e-08 |\n",
            "|  255  | 21384 |  395  | +1.4237e-02 | 3.87e-01 | 1.62e-07 | 4.30e-09 |\n",
            "|  256  | 21472 |  399  | +1.4237e-02 | 3.87e-02 | 1.62e-07 | 4.30e-09 |\n",
            "|  257  | 21560 |  400  | +1.4237e-02 | 2.71e-01 | 1.60e-07 | 1.52e-09 |\n",
            "|  258  | 21648 |  404  | +1.4236e-02 | 1.89e+00 | 1.61e-07 | 3.79e-07 |\n",
            "|  259  | 21736 |  417  | +1.4236e-02 | 1.89e-01 | 1.61e-07 | 3.79e-07 |\n",
            "|  260  | 21824 |  420  | +1.4235e-02 | 1.33e+00 | 1.62e-07 | 1.27e-07 |\n",
            "|  261  | 21912 |  428  | +1.4235e-02 | 1.33e-01 | 1.62e-07 | 1.27e-07 |\n",
            "|  262  | 22000 |  431  | +1.4234e-02 | 9.28e-01 | 1.62e-07 | 4.52e-08 |\n",
            "|  263  | 22088 |  438  | +1.4234e-02 | 9.28e-02 | 1.62e-07 | 4.52e-08 |\n",
            "|  264  | 22176 |  440  | +1.4234e-02 | 6.50e-01 | 1.62e-07 | 1.66e-08 |\n",
            "|  265  | 22264 |  446  | +1.4234e-02 | 6.50e-02 | 1.62e-07 | 1.66e-08 |\n",
            "|  266  | 22352 |  448  | +1.4234e-02 | 4.55e-01 | 1.61e-07 | 5.74e-09 |\n",
            "|  267  | 22440 |  452  | +1.4234e-02 | 4.55e-02 | 1.61e-07 | 5.74e-09 |\n",
            "|  268  | 22528 |  454  | +1.4233e-02 | 3.18e-01 | 1.58e-07 | 2.04e-09 |\n",
            "|  269  | 22616 |  458  | +1.4232e-02 | 6.37e-01 | 1.58e-07 | 4.89e-07 |\n",
            "|  270  | 22704 |  464  | +1.4232e-02 | 6.37e-02 | 1.58e-07 | 4.89e-07 |\n",
            "|  271  | 22792 |  466  | +1.4232e-02 | 4.46e-01 | 1.56e-07 | 5.06e-09 |\n",
            "|  272  | 22880 |  470  | +1.4232e-02 | 4.46e-02 | 1.56e-07 | 5.06e-09 |\n",
            "|  273  | 22968 |  472  | +1.4232e-02 | 3.12e-01 | 1.55e-07 | 1.57e-09 |\n",
            "|  274  | 23056 |  476  | +1.4231e-02 | 2.18e+00 | 1.54e-07 | 2.36e-07 |\n",
            "|  275  | 23144 |  492  | +1.4231e-02 | 2.18e-01 | 1.54e-07 | 2.36e-07 |\n",
            "|  276  | 23232 |  496  | +1.4230e-02 | 1.53e+00 | 1.53e-07 | 7.45e-08 |\n",
            "|  277  | 23320 |  508  | +1.4226e-02 | 3.06e+00 | 1.50e-07 | 1.16e-06 |\n",
            "|  278  | 23408 |  522  | +1.4226e-02 | 3.06e-01 | 1.50e-07 | 1.16e-06 |\n",
            "|  279  | 23496 |  532  | +1.4226e-02 | 2.14e+00 | 1.49e-07 | 2.36e-08 |\n",
            "|  280  | 23584 |  546  | +1.4226e-02 | 2.14e-01 | 1.49e-07 | 2.36e-08 |\n",
            "|  281  | 23672 |  555  | +1.4225e-02 | 4.28e-01 | 1.48e-07 | 9.72e-08 |\n",
            "|  282  | 23760 |  568  | +1.4225e-02 | 4.28e-01 | 1.47e-07 | 2.35e-07 |\n",
            "|  283  | 23848 |  577  | +1.4224e-02 | 1.02e+00 | 1.46e-07 | 4.26e-08 |\n",
            "|  284  | 23936 |  583  | +1.4224e-02 | 1.02e+00 | 1.45e-07 | 8.57e-09 |\n",
            "|  285  | 24024 |  586  | +1.4224e-02 | 1.02e+00 | 1.44e-07 | 3.17e-10 |\n",
            "|  286  | 24112 |  596  | +1.4224e-02 | 1.24e+00 | 1.43e-07 | 3.87e-08 |\n",
            "|  287  | 24200 |  602  | +1.4224e-02 | 1.24e+00 | 1.42e-07 | 4.78e-09 |\n",
            "|  288  | 24288 |  608  | +1.4224e-02 | 1.24e+00 | 1.41e-07 | 3.87e-09 |\n",
            "|  289  | 24376 |  615  | +1.4223e-02 | 1.24e+00 | 1.41e-07 | 1.08e-08 |\n",
            "|  290  | 24464 |  622  | +1.4223e-02 | 1.24e+00 | 1.40e-07 | 8.86e-09 |\n",
            "|  291  | 24552 |  629  | +1.4223e-02 | 1.24e+00 | 1.40e-07 | 7.07e-09 |\n",
            "|  292  | 24640 |  636  | +1.4223e-02 | 1.24e+00 | 1.39e-07 | 5.76e-09 |\n",
            "|  293  | 24728 |  643  | +1.4223e-02 | 1.24e+00 | 1.39e-07 | 2.21e-09 |\n",
            "|  294  | 24816 |  647  | +1.4223e-02 | 1.24e+00 | 1.38e-07 | 2.75e-10 |\n",
            "|  295  | 24904 |  651  | +1.4223e-02 | 1.24e+00 | 1.37e-07 | 2.75e-10 |\n",
            "|  296  | 24992 |  655  | +1.4223e-02 | 1.24e+00 | 1.37e-07 | 2.64e-10 |\n",
            "|  297  | 25080 |  658  | +1.4223e-02 | 1.24e+00 | 1.36e-07 | 3.26e-10 |\n",
            "|  298  | 25168 |  661  | +1.4223e-02 | 1.24e+00 | 1.35e-07 | 2.97e-10 |\n",
            "|  299  | 25256 |  665  | +1.4223e-02 | 1.24e+00 | 1.35e-07 | 4.95e-10 |\n",
            "|  300  | 25344 |  669  | +1.4223e-02 | 1.24e+00 | 1.34e-07 | 4.73e-10 |\n",
            "|  301  | 25432 |  672  | +1.4223e-02 | 1.24e+00 | 1.33e-07 | 9.29e-10 |\n",
            "|  302  | 25520 |  675  | +1.4223e-02 | 1.24e+00 | 1.33e-07 | 9.18e-10 |\n",
            "|  303  | 25608 |  678  | +1.4223e-02 | 1.24e+00 | 1.32e-07 | 9.31e-10 |\n",
            "|  304  | 25696 |  681  | +1.4223e-02 | 1.24e+00 | 1.31e-07 | 6.73e-10 |\n",
            "|  305  | 25784 |  684  | +1.4222e-02 | 1.24e+00 | 1.31e-07 | 6.75e-10 |\n",
            "|  306  | 25872 |  688  | +1.4222e-02 | 1.24e+00 | 1.30e-07 | 7.42e-10 |\n",
            "|  307  | 25960 |  695  | +1.4222e-02 | 1.24e+00 | 1.29e-07 | 7.24e-10 |\n",
            "|  308  | 26048 |  698  | +1.4222e-02 | 1.24e+00 | 1.29e-07 | 5.95e-10 |\n",
            "|  309  | 26136 |  702  | +1.4222e-02 | 1.24e+00 | 1.28e-07 | 5.73e-10 |\n",
            "|  310  | 26224 |  709  | +1.4222e-02 | 1.24e+00 | 1.27e-07 | 4.80e-09 |\n",
            "|  311  | 26312 |  716  | +1.4222e-02 | 1.24e+00 | 1.26e-07 | 4.41e-09 |\n",
            "|  312  | 26400 |  723  | +1.4222e-02 | 1.24e+00 | 1.26e-07 | 4.12e-09 |\n",
            "|  313  | 26488 |  726  | +1.4222e-02 | 1.24e+00 | 1.25e-07 | 3.60e-10 |\n",
            "|  314  | 26576 |  729  | +1.4222e-02 | 1.24e+00 | 1.25e-07 | 3.17e-10 |\n",
            "|  315  | 26664 |  732  | +1.4222e-02 | 1.24e+00 | 1.24e-07 | 3.62e-10 |\n",
            "|  316  | 26752 |  735  | +1.4222e-02 | 1.24e+00 | 1.23e-07 | 3.56e-10 |\n",
            "|  317  | 26840 |  738  | +1.4222e-02 | 1.24e+00 | 1.23e-07 | 3.65e-10 |\n",
            "|  318  | 26928 |  741  | +1.4222e-02 | 1.24e+00 | 1.22e-07 | 2.77e-10 |\n",
            "|  319  | 27016 |  744  | +1.4222e-02 | 1.24e+00 | 1.22e-07 | 2.80e-10 |\n",
            "|  320  | 27104 |  747  | +1.4222e-02 | 1.24e+00 | 1.21e-07 | 1.93e-10 |\n",
            "|  321  | 27192 |  750  | +1.4222e-02 | 1.24e+00 | 1.20e-07 | 1.92e-10 |\n",
            "|  322  | 27280 |  753  | +1.4222e-02 | 1.24e+00 | 1.20e-07 | 2.82e-10 |\n",
            "|  323  | 27368 |  756  | +1.4222e-02 | 1.24e+00 | 1.19e-07 | 2.97e-10 |\n",
            "|  324  | 27456 |  759  | +1.4222e-02 | 1.24e+00 | 1.18e-07 | 2.70e-10 |\n",
            "|  325  | 27544 |  762  | +1.4222e-02 | 1.24e+00 | 1.18e-07 | 2.69e-10 |\n",
            "|  326  | 27632 |  765  | +1.4222e-02 | 1.24e+00 | 1.17e-07 | 2.61e-10 |\n",
            "|  327  | 27720 |  769  | +1.4222e-02 | 1.24e+00 | 1.16e-07 | 1.67e-10 |\n",
            "|  328  | 27808 |  772  | +1.4221e-02 | 1.24e+00 | 1.15e-07 | 2.72e-10 |\n",
            "|  329  | 27896 |  775  | +1.4221e-02 | 1.24e+00 | 1.15e-07 | 2.69e-10 |\n",
            "|  330  | 27984 |  779  | +1.4221e-02 | 1.24e+00 | 1.14e-07 | 3.33e-10 |\n",
            "|  331  | 28072 |  782  | +1.4221e-02 | 1.24e+00 | 1.14e-07 | 2.46e-10 |\n",
            "|  332  | 28160 |  785  | +1.4221e-02 | 1.24e+00 | 1.13e-07 | 2.47e-10 |\n",
            "|  333  | 28248 |  788  | +1.4221e-02 | 1.24e+00 | 1.12e-07 | 2.44e-10 |\n",
            "|  334  | 28336 |  791  | +1.4221e-02 | 1.24e+00 | 1.12e-07 | 2.42e-10 |\n",
            "|  335  | 28424 |  794  | +1.4221e-02 | 1.24e+00 | 1.11e-07 | 2.34e-10 |\n",
            "|  336  | 28512 |  797  | +1.4221e-02 | 1.24e+00 | 1.11e-07 | 2.36e-10 |\n",
            "|  337  | 28600 |  800  | +1.4221e-02 | 1.24e+00 | 1.10e-07 | 6.07e-11 |\n",
            "|  338  | 28688 |  804  | +1.4221e-02 | 1.24e+00 | 1.09e-07 | 1.81e-10 |\n",
            "|  339  | 28776 |  808  | +1.4221e-02 | 1.24e+00 | 1.08e-07 | 1.74e-10 |\n",
            "|  340  | 28864 |  812  | +1.4221e-02 | 1.24e+00 | 1.08e-07 | 1.88e-10 |\n",
            "|  341  | 28952 |  816  | +1.4221e-02 | 1.24e+00 | 1.07e-07 | 3.16e-10 |\n",
            "|  342  | 29040 |  820  | +1.4221e-02 | 1.24e+00 | 1.06e-07 | 3.17e-10 |\n",
            "|  343  | 29128 |  824  | +1.4221e-02 | 1.24e+00 | 1.06e-07 | 2.82e-10 |\n",
            "|  344  | 29216 |  828  | +1.4221e-02 | 1.24e+00 | 1.05e-07 | 2.55e-10 |\n",
            "|  345  | 29304 |  832  | +1.4221e-02 | 1.24e+00 | 1.04e-07 | 2.32e-11 |\n",
            "|  346  | 29392 |  836  | +1.4221e-02 | 1.24e+00 | 1.04e-07 | 3.00e-10 |\n",
            "|  347  | 29480 |  839  | +1.4221e-02 | 1.24e+00 | 1.03e-07 | 2.04e-10 |\n",
            "|  348  | 29568 |  843  | +1.4221e-02 | 1.24e+00 | 1.02e-07 | 2.74e-10 |\n",
            "|  349  | 29656 |  847  | +1.4221e-02 | 1.24e+00 | 1.02e-07 | 2.83e-10 |\n",
            "|  350  | 29744 |  850  | +1.4221e-02 | 1.24e+00 | 1.01e-07 | 1.31e-10 |\n",
            "|  351  | 29832 |  853  | +1.4221e-02 | 1.24e+00 | 1.00e-07 | 1.33e-10 |\n",
            "|  352  | 29920 |  856  | +1.4221e-02 | 1.24e+00 | 9.95e-08 | 2.63e-10 |\n",
            "|  353  | 30008 |  859  | +1.4221e-02 | 1.24e+00 | 9.87e-08 | 2.62e-10 |\n",
            "|  354  | 30096 |  862  | +1.4221e-02 | 1.24e+00 | 9.79e-08 | 2.70e-10 |\n",
            "|  355  | 30184 |  865  | +1.4221e-02 | 1.24e+00 | 9.71e-08 | 2.78e-10 |\n",
            "|  356  | 30272 |  869  | +1.4221e-02 | 1.24e+00 | 9.65e-08 | 2.65e-10 |\n",
            "|  357  | 30360 |  872  | +1.4221e-02 | 1.24e+00 | 9.57e-08 | 9.84e-11 |\n",
            "|  358  | 30448 |  875  | +1.4221e-02 | 1.24e+00 | 9.49e-08 | 2.51e-10 |\n",
            "|  359  | 30536 |  878  | +1.4221e-02 | 1.24e+00 | 9.42e-08 | 2.13e-10 |\n",
            "|  360  | 30624 |  881  | +1.4221e-02 | 1.24e+00 | 9.34e-08 | 2.28e-10 |\n",
            "|  361  | 30712 |  884  | +1.4221e-02 | 1.24e+00 | 9.26e-08 | 2.29e-10 |\n",
            "|  362  | 30800 |  887  | +1.4221e-02 | 1.24e+00 | 9.19e-08 | 2.27e-10 |\n",
            "|  363  | 30888 |  891  | +1.4221e-02 | 1.24e+00 | 9.12e-08 | 2.04e-10 |\n",
            "|  364  | 30976 |  895  | +1.4220e-02 | 1.24e+00 | 9.06e-08 | 1.96e-10 |\n",
            "|  365  | 31064 |  899  | +1.4220e-02 | 1.24e+00 | 8.99e-08 | 2.56e-10 |\n",
            "|  366  | 31152 |  903  | +1.4220e-02 | 1.24e+00 | 8.93e-08 | 3.60e-10 |\n",
            "|  367  | 31240 |  907  | +1.4220e-02 | 1.24e+00 | 8.87e-08 | 3.87e-10 |\n",
            "|  368  | 31328 |  911  | +1.4220e-02 | 1.24e+00 | 8.81e-08 | 3.90e-10 |\n",
            "|  369  | 31416 |  915  | +1.4220e-02 | 1.24e+00 | 8.76e-08 | 1.91e-10 |\n",
            "|  370  | 31504 |  919  | +1.4220e-02 | 1.24e+00 | 8.70e-08 | 1.96e-10 |\n",
            "|  371  | 31592 |  922  | +1.4220e-02 | 1.24e+00 | 8.62e-08 | 1.08e-10 |\n",
            "|  372  | 31680 |  926  | +1.4220e-02 | 1.24e+00 | 8.56e-08 | 4.16e-10 |\n",
            "|  373  | 31768 |  930  | +1.4220e-02 | 1.24e+00 | 8.50e-08 | 2.33e-10 |\n",
            "|  374  | 31856 |  934  | +1.4220e-02 | 1.24e+00 | 8.44e-08 | 2.31e-10 |\n",
            "|  375  | 31944 |  938  | +1.4220e-02 | 1.24e+00 | 8.38e-08 | 3.09e-10 |\n",
            "|  376  | 32032 |  942  | +1.4220e-02 | 1.24e+00 | 8.31e-08 | 3.55e-10 |\n",
            "|  377  | 32120 |  946  | +1.4220e-02 | 1.24e+00 | 8.24e-08 | 3.69e-10 |\n",
            "|  378  | 32208 |  950  | +1.4220e-02 | 1.24e+00 | 8.17e-08 | 3.66e-10 |\n",
            "|  379  | 32296 |  954  | +1.4220e-02 | 1.24e+00 | 8.11e-08 | 3.54e-10 |\n",
            "|  380  | 32384 |  958  | +1.4220e-02 | 1.24e+00 | 8.04e-08 | 3.70e-10 |\n",
            "|  381  | 32472 |  962  | +1.4220e-02 | 1.24e+00 | 7.97e-08 | 3.57e-10 |\n",
            "|  382  | 32560 |  966  | +1.4220e-02 | 1.24e+00 | 7.91e-08 | 2.97e-10 |\n",
            "|  383  | 32648 |  970  | +1.4220e-02 | 1.24e+00 | 7.83e-08 | 1.73e-10 |\n",
            "|  384  | 32736 |  974  | +1.4220e-02 | 1.24e+00 | 7.77e-08 | 3.31e-10 |\n",
            "|  385  | 32824 |  978  | +1.4220e-02 | 1.24e+00 | 7.71e-08 | 3.72e-10 |\n",
            "|  386  | 32912 |  982  | +1.4220e-02 | 1.24e+00 | 7.65e-08 | 3.50e-10 |\n",
            "|  387  | 33000 |  986  | +1.4220e-02 | 1.24e+00 | 7.59e-08 | 3.56e-10 |\n",
            "|  388  | 33088 |  990  | +1.4220e-02 | 1.24e+00 | 7.52e-08 | 3.12e-10 |\n",
            "|  389  | 33176 |  993  | +1.4220e-02 | 1.24e+00 | 7.44e-08 | 1.57e-11 |\n",
            "|  390  | 33264 |  997  | +1.4220e-02 | 1.24e+00 | 7.38e-08 | 6.87e-10 |\n",
            "|  391  | 33352 | 1000  | +1.4220e-02 | 1.24e+00 | 7.32e-08 | 1.07e-10 |\n",
            "|  392  | 33440 | 1004  | +1.4220e-02 | 1.24e+00 | 7.25e-08 | 2.58e-10 |\n",
            "|  393  | 33528 | 1008  | +1.4220e-02 | 1.24e+00 | 7.19e-08 | 2.89e-10 |\n",
            "|  394  | 33616 | 1012  | +1.4220e-02 | 1.24e+00 | 7.13e-08 | 2.65e-10 |\n",
            "|  395  | 33704 | 1016  | +1.4220e-02 | 1.24e+00 | 7.07e-08 | 2.56e-10 |\n",
            "|  396  | 33792 | 1020  | +1.4220e-02 | 1.24e+00 | 7.01e-08 | 2.93e-10 |\n",
            "|  397  | 33880 | 1022  | +1.4220e-02 | 1.24e+00 | 6.94e-08 | 1.01e-10 |\n",
            "|  398  | 33968 | 1026  | +1.4220e-02 | 1.24e+00 | 6.88e-08 | 3.21e-10 |\n",
            "|  399  | 34056 | 1029  | +1.4220e-02 | 1.24e+00 | 6.81e-08 | 7.05e-11 |\n",
            "|  400  | 34144 | 1033  | +1.4220e-02 | 1.24e+00 | 6.75e-08 | 3.21e-10 |\n",
            "|  401  | 34232 | 1037  | +1.4220e-02 | 1.24e+00 | 6.69e-08 | 3.28e-10 |\n",
            "|  402  | 34320 | 1041  | +1.4220e-02 | 1.24e+00 | 6.63e-08 | 3.18e-10 |\n",
            "|  403  | 34408 | 1045  | +1.4220e-02 | 1.24e+00 | 6.57e-08 | 3.05e-10 |\n",
            "|  404  | 34496 | 1048  | +1.4220e-02 | 1.24e+00 | 6.49e-08 | 3.25e-11 |\n",
            "|  405  | 34584 | 1051  | +1.4220e-02 | 1.24e+00 | 6.42e-08 | 3.13e-11 |\n",
            "|  406  | 34672 | 1054  | +1.4220e-02 | 1.24e+00 | 6.35e-08 | 2.86e-11 |\n",
            "|  407  | 34760 | 1057  | +1.4220e-02 | 1.24e+00 | 6.29e-08 | 5.10e-11 |\n",
            "|  408  | 34848 | 1060  | +1.4220e-02 | 1.24e+00 | 6.23e-08 | 5.40e-11 |\n",
            "|  409  | 34936 | 1063  | +1.4220e-02 | 1.24e+00 | 6.16e-08 | 5.13e-11 |\n",
            "|  410  | 35024 | 1066  | +1.4219e-02 | 1.24e+00 | 6.10e-08 | 5.01e-11 |\n",
            "|  411  | 35112 | 1070  | +1.4219e-02 | 1.24e+00 | 6.04e-08 | 1.61e-10 |\n",
            "|  412  | 35200 | 1072  | +1.4219e-02 | 1.24e+00 | 5.97e-08 | 1.76e-11 |\n",
            "|  413  | 35288 | 1075  | +1.4219e-02 | 1.24e+00 | 5.90e-08 | 1.76e-11 |\n",
            "|  414  | 35376 | 1078  | +1.4219e-02 | 1.24e+00 | 5.82e-08 | 1.79e-11 |\n",
            "|  415  | 35464 | 1081  | +1.4219e-02 | 1.24e+00 | 5.76e-08 | 3.47e-11 |\n",
            "|  416  | 35552 | 1084  | +1.4219e-02 | 1.24e+00 | 5.68e-08 | 3.32e-11 |\n",
            "|  417  | 35640 | 1087  | +1.4219e-02 | 1.24e+00 | 5.62e-08 | 3.26e-11 |\n",
            "|  418  | 35728 | 1090  | +1.4219e-02 | 1.24e+00 | 5.55e-08 | 2.14e-11 |\n",
            "|  419  | 35816 | 1093  | +1.4219e-02 | 1.24e+00 | 5.48e-08 | 9.92e-12 |\n",
            "|  420  | 35904 | 1097  | +1.4219e-02 | 1.24e+00 | 5.42e-08 | 1.02e-10 |\n",
            "|  421  | 35992 | 1100  | +1.4219e-02 | 1.24e+00 | 5.38e-08 | 5.88e-11 |\n",
            "|  422  | 36080 | 1103  | +1.4219e-02 | 1.24e+00 | 5.37e-08 | 5.34e-11 |\n",
            "|  423  | 36168 | 1106  | +1.4219e-02 | 1.24e+00 | 5.35e-08 | 5.56e-11 |\n",
            "|  424  | 36256 | 1109  | +1.4219e-02 | 1.24e+00 | 5.34e-08 | 1.33e-11 |\n",
            "|  425  | 36344 | 1112  | +1.4219e-02 | 1.24e+00 | 5.33e-08 | 2.80e-11 |\n",
            "|  426  | 36432 | 1115  | +1.4219e-02 | 1.24e+00 | 5.31e-08 | 6.92e-11 |\n",
            "|  427  | 36520 | 1118  | +1.4219e-02 | 1.24e+00 | 5.30e-08 | 2.91e-11 |\n",
            "|  428  | 36608 | 1121  | +1.4219e-02 | 1.24e+00 | 5.28e-08 | 2.35e-11 |\n",
            "|  429  | 36696 | 1124  | +1.4219e-02 | 1.24e+00 | 5.27e-08 | 2.43e-11 |\n",
            "|  430  | 36784 | 1127  | +1.4219e-02 | 1.24e+00 | 5.26e-08 | 2.17e-11 |\n",
            "|  431  | 36872 | 1130  | +1.4219e-02 | 1.24e+00 | 5.24e-08 | 3.10e-11 |\n",
            "|  432  | 36960 | 1133  | +1.4219e-02 | 1.24e+00 | 5.23e-08 | 2.51e-11 |\n",
            "|  433  | 37048 | 1136  | +1.4219e-02 | 1.24e+00 | 5.21e-08 | 2.42e-11 |\n",
            "|  434  | 37136 | 1139  | +1.4219e-02 | 1.24e+00 | 5.20e-08 | 2.19e-11 |\n",
            "|  435  | 37224 | 1142  | +1.4219e-02 | 1.24e+00 | 5.18e-08 | 2.26e-11 |\n",
            "|  436  | 37312 | 1145  | +1.4219e-02 | 1.24e+00 | 5.16e-08 | 1.62e-11 |\n",
            "|  437  | 37400 | 1148  | +1.4219e-02 | 1.24e+00 | 5.15e-08 | 2.60e-11 |\n",
            "|  438  | 37488 | 1151  | +1.4219e-02 | 1.24e+00 | 5.14e-08 | 1.02e-11 |\n",
            "|  439  | 37576 | 1154  | +1.4219e-02 | 1.24e+00 | 5.12e-08 | 5.68e-12 |\n",
            "|  440  | 37664 | 1157  | +1.4219e-02 | 1.24e+00 | 5.10e-08 | 2.73e-11 |\n",
            "|  441  | 37752 | 1160  | +1.4219e-02 | 1.24e+00 | 5.08e-08 | 1.23e-11 |\n",
            "|  442  | 37840 | 1163  | +1.4219e-02 | 1.24e+00 | 5.07e-08 | 1.09e-11 |\n",
            "|  443  | 37928 | 1166  | +1.4219e-02 | 1.24e+00 | 5.05e-08 | 4.77e-11 |\n",
            "|  444  | 38016 | 1169  | +1.4219e-02 | 1.24e+00 | 5.04e-08 | 4.79e-11 |\n",
            "|  445  | 38104 | 1172  | +1.4219e-02 | 1.24e+00 | 5.02e-08 | 4.61e-11 |\n",
            "|  446  | 38192 | 1175  | +1.4219e-02 | 1.24e+00 | 5.00e-08 | 4.12e-11 |\n",
            "|  447  | 38280 | 1178  | +1.4219e-02 | 1.24e+00 | 4.99e-08 | 2.94e-11 |\n",
            "|  448  | 38368 | 1183  | +1.4219e-02 | 1.24e+00 | 4.96e-08 | 1.00e-11 |\n",
            "|  449  | 38456 | 1187  | +1.4219e-02 | 1.24e+00 | 4.95e-08 | 1.18e-10 |\n",
            "|  450  | 38544 | 1190  | +1.4219e-02 | 1.24e+00 | 4.93e-08 | 3.71e-11 |\n",
            "|  451  | 38632 | 1193  | +1.4219e-02 | 1.24e+00 | 4.91e-08 | 4.60e-11 |\n",
            "|  452  | 38720 | 1196  | +1.4219e-02 | 1.24e+00 | 4.90e-08 | 2.84e-11 |\n",
            "|  453  | 38808 | 1199  | +1.4219e-02 | 1.24e+00 | 4.88e-08 | 3.82e-11 |\n",
            "|  454  | 38896 | 1202  | +1.4219e-02 | 1.24e+00 | 4.86e-08 | 3.66e-11 |\n",
            "|  455  | 38984 | 1207  | +1.4219e-02 | 1.24e+00 | 4.84e-08 | 3.44e-10 |\n",
            "|  456  | 39072 | 1212  | +1.4219e-02 | 1.24e+00 | 4.82e-08 | 3.07e-10 |\n",
            "|  457  | 39160 | 1217  | +1.4219e-02 | 1.24e+00 | 4.79e-08 | 3.13e-10 |\n",
            "|  458  | 39248 | 1220  | +1.4219e-02 | 1.24e+00 | 4.78e-08 | 6.69e-11 |\n",
            "|  459  | 39336 | 1223  | +1.4219e-02 | 1.24e+00 | 4.76e-08 | 2.02e-11 |\n",
            "|  460  | 39424 | 1226  | +1.4219e-02 | 1.24e+00 | 4.74e-08 | 2.08e-11 |\n",
            "|  461  | 39512 | 1229  | +1.4219e-02 | 1.24e+00 | 4.73e-08 | 4.06e-11 |\n",
            "|  462  | 39600 | 1232  | +1.4219e-02 | 1.24e+00 | 4.71e-08 | 3.74e-11 |\n",
            "|  463  | 39688 | 1236  | +1.4219e-02 | 1.24e+00 | 4.69e-08 | 2.79e-11 |\n",
            "|  464  | 39776 | 1240  | +1.4219e-02 | 1.24e+00 | 4.68e-08 | 2.87e-11 |\n",
            "|  465  | 39864 | 1243  | +1.4219e-02 | 1.24e+00 | 4.66e-08 | 6.01e-11 |\n",
            "|  466  | 39952 | 1246  | +1.4219e-02 | 1.24e+00 | 4.65e-08 | 7.18e-11 |\n",
            "|  467  | 40040 | 1249  | +1.4219e-02 | 1.24e+00 | 4.63e-08 | 6.98e-11 |\n",
            "|  468  | 40128 | 1253  | +1.4219e-02 | 1.24e+00 | 4.61e-08 | 1.11e-11 |\n",
            "|  469  | 40216 | 1257  | +1.4219e-02 | 1.24e+00 | 4.60e-08 | 1.12e-11 |\n",
            "|  470  | 40304 | 1260  | +1.4219e-02 | 1.24e+00 | 4.58e-08 | 3.61e-11 |\n",
            "|  471  | 40392 | 1263  | +1.4219e-02 | 1.24e+00 | 4.56e-08 | 4.79e-11 |\n",
            "|  472  | 40480 | 1266  | +1.4219e-02 | 1.24e+00 | 4.55e-08 | 4.76e-11 |\n",
            "|  473  | 40568 | 1269  | +1.4219e-02 | 1.24e+00 | 4.53e-08 | 4.16e-11 |\n",
            "|  474  | 40656 | 1272  | +1.4219e-02 | 1.24e+00 | 4.51e-08 | 4.15e-11 |\n",
            "|  475  | 40744 | 1275  | +1.4219e-02 | 1.24e+00 | 4.50e-08 | 3.62e-11 |\n",
            "|  476  | 40832 | 1278  | +1.4219e-02 | 1.24e+00 | 4.48e-08 | 1.28e-10 |\n",
            "|  477  | 40920 | 1281  | +1.4219e-02 | 1.24e+00 | 4.46e-08 | 3.08e-11 |\n",
            "|  478  | 41008 | 1285  | +1.4219e-02 | 1.24e+00 | 4.44e-08 | 2.01e-11 |\n",
            "|  479  | 41096 | 1289  | +1.4219e-02 | 1.24e+00 | 4.43e-08 | 1.96e-11 |\n",
            "|  480  | 41184 | 1293  | +1.4219e-02 | 1.24e+00 | 4.41e-08 | 7.16e-12 |\n",
            "|  481  | 41272 | 1299  | +1.4219e-02 | 1.24e+00 | 4.39e-08 | 1.40e-09 |\n",
            "|  482  | 41360 | 1303  | +1.4219e-02 | 1.24e+00 | 4.37e-08 | 2.48e-11 |\n",
            "|  483  | 41448 | 1307  | +1.4218e-02 | 1.24e+00 | 4.36e-08 | 2.33e-11 |\n",
            "|  484  | 41536 | 1311  | +1.4218e-02 | 1.24e+00 | 4.34e-08 | 9.66e-13 |\n",
            "|  485  | 41624 | 1315  | +1.4218e-02 | 1.24e+00 | 4.32e-08 | 1.07e-11 |\n",
            "|  486  | 41712 | 1319  | +1.4218e-02 | 1.24e+00 | 4.31e-08 | 4.86e-12 |\n",
            "|  487  | 41800 | 1323  | +1.4218e-02 | 1.24e+00 | 4.29e-08 | 7.50e-12 |\n",
            "|  488  | 41888 | 1327  | +1.4218e-02 | 1.24e+00 | 4.27e-08 | 1.96e-12 |\n",
            "|  489  | 41976 | 1331  | +1.4218e-02 | 1.24e+00 | 4.25e-08 | 2.36e-12 |\n",
            "|  490  | 42064 | 1335  | +1.4218e-02 | 1.24e+00 | 4.24e-08 | 6.09e-11 |\n",
            "|  491  | 42152 | 1339  | +1.4218e-02 | 1.24e+00 | 4.22e-08 | 5.46e-12 |\n",
            "|  492  | 42240 | 1342  | +1.4218e-02 | 1.24e+00 | 4.20e-08 | 2.19e-12 |\n",
            "|  493  | 42328 | 1345  | +1.4218e-02 | 1.24e+00 | 4.19e-08 | 2.05e-12 |\n",
            "|  494  | 42416 | 1348  | +1.4218e-02 | 1.24e+00 | 4.18e-08 | 2.10e-12 |\n",
            "|  495  | 42504 | 1352  | +1.4218e-02 | 1.24e+00 | 4.16e-08 | 4.55e-13 |\n",
            "|  496  | 42592 | 1356  | +1.4218e-02 | 1.24e+00 | 4.14e-08 | 5.54e-12 |\n",
            "|  497  | 42680 | 1360  | +1.4218e-02 | 1.24e+00 | 4.13e-08 | 5.80e-12 |\n",
            "|  498  | 42768 | 1364  | +1.4218e-02 | 1.24e+00 | 4.11e-08 | 5.88e-12 |\n",
            "|  499  | 42856 | 1368  | +1.4218e-02 | 1.24e+00 | 4.10e-08 | 2.90e-12 |\n",
            "|  500  | 42944 | 1372  | +1.4218e-02 | 1.24e+00 | 4.08e-08 | 1.01e-11 |\n",
            "|  501  | 43032 | 1376  | +1.4218e-02 | 1.24e+00 | 4.06e-08 | 4.32e-12 |\n",
            "|  502  | 43120 | 1380  | +1.4218e-02 | 1.24e+00 | 4.05e-08 | 4.09e-12 |\n",
            "|  503  | 43208 | 1384  | +1.4218e-02 | 1.24e+00 | 4.03e-08 | 4.12e-12 |\n",
            "|  504  | 43296 | 1389  | +1.4218e-02 | 1.24e+00 | 4.01e-08 | 9.18e-12 |\n",
            "|  505  | 43384 | 1393  | +1.4218e-02 | 1.24e+00 | 3.99e-08 | 1.70e-11 |\n",
            "|  506  | 43472 | 1397  | +1.4218e-02 | 1.24e+00 | 3.99e-08 | 2.85e-11 |\n",
            "|  507  | 43560 | 1401  | +1.4218e-02 | 1.24e+00 | 3.97e-08 | 1.16e-11 |\n",
            "|  508  | 43648 | 1405  | +1.4218e-02 | 1.24e+00 | 3.95e-08 | 1.08e-11 |\n",
            "|  509  | 43736 | 1409  | +1.4218e-02 | 1.24e+00 | 3.94e-08 | 2.13e-12 |\n",
            "|  510  | 43824 | 1413  | +1.4218e-02 | 1.24e+00 | 3.92e-08 | 4.38e-12 |\n",
            "|  511  | 43912 | 1417  | +1.4218e-02 | 1.24e+00 | 3.90e-08 | 1.50e-11 |\n",
            "|  512  | 44000 | 1421  | +1.4218e-02 | 1.24e+00 | 3.89e-08 | 6.20e-12 |\n",
            "|  513  | 44088 | 1425  | +1.4218e-02 | 1.24e+00 | 3.87e-08 | 2.92e-11 |\n",
            "|  514  | 44176 | 1429  | +1.4218e-02 | 1.24e+00 | 3.86e-08 | 7.96e-13 |\n",
            "|  515  | 44264 | 1437  | +1.4218e-02 | 1.24e+00 | 3.83e-08 | 1.90e-09 |\n",
            "|  516  | 44352 | 1442  | +1.4218e-02 | 1.24e+00 | 3.82e-08 | 8.07e-12 |\n",
            "|  517  | 44440 | 1447  | +1.4218e-02 | 1.24e+00 | 3.80e-08 | 3.35e-12 |\n",
            "|  518  | 44528 | 1452  | +1.4218e-02 | 1.24e+00 | 3.78e-08 | 3.18e-12 |\n",
            "|  519  | 44616 | 1456  | +1.4218e-02 | 1.24e+00 | 3.77e-08 | 3.21e-12 |\n",
            "|  520  | 44704 | 1460  | +1.4218e-02 | 1.24e+00 | 3.75e-08 | 3.50e-12 |\n",
            "|  521  | 44792 | 1465  | +1.4218e-02 | 1.24e+00 | 3.73e-08 | 2.44e-12 |\n",
            "|  522  | 44880 | 1469  | +1.4218e-02 | 1.24e+00 | 3.71e-08 | 1.01e-11 |\n",
            "|  523  | 44968 | 1474  | +1.4218e-02 | 1.24e+00 | 3.69e-08 | 1.99e-11 |\n",
            "|  524  | 45056 | 1478  | +1.4218e-02 | 1.24e+00 | 3.67e-08 | 1.24e-11 |\n",
            "|  525  | 45144 | 1482  | +1.4218e-02 | 1.24e+00 | 3.65e-08 | 1.59e-11 |\n",
            "|  526  | 45232 | 1486  | +1.4218e-02 | 1.24e+00 | 3.63e-08 | 4.26e-13 |\n",
            "|  527  | 45320 | 1490  | +1.4218e-02 | 1.24e+00 | 3.62e-08 | 5.31e-12 |\n",
            "|  528  | 45408 | 1495  | +1.4218e-02 | 1.24e+00 | 3.60e-08 | 1.61e-11 |\n",
            "|  529  | 45496 | 1500  | +1.4218e-02 | 1.24e+00 | 3.58e-08 | 1.61e-11 |\n",
            "|  530  | 45584 | 1504  | +1.4218e-02 | 1.24e+00 | 3.56e-08 | 1.36e-11 |\n",
            "|  531  | 45672 | 1508  | +1.4218e-02 | 1.24e+00 | 3.54e-08 | 1.03e-11 |\n",
            "|  532  | 45760 | 1512  | +1.4218e-02 | 1.24e+00 | 3.52e-08 | 1.62e-12 |\n",
            "|  533  | 45848 | 1516  | +1.4218e-02 | 1.24e+00 | 3.51e-08 | 1.71e-13 |\n",
            "|  534  | 45936 | 1520  | +1.4218e-02 | 1.24e+00 | 3.49e-08 | 3.13e-13 |\n",
            "|  535  | 46024 | 1524  | +1.4218e-02 | 1.24e+00 | 3.47e-08 | 8.53e-14 |\n",
            "|  536  | 46112 | 1528  | +1.4218e-02 | 1.24e+00 | 3.45e-08 | 8.64e-12 |\n",
            "|  537  | 46200 | 1532  | +1.4218e-02 | 1.24e+00 | 3.43e-08 | 8.47e-12 |\n",
            "|  538  | 46288 | 1536  | +1.4218e-02 | 1.24e+00 | 3.41e-08 | 4.58e-11 |\n",
            "|  539  | 46376 | 1540  | +1.4218e-02 | 1.24e+00 | 3.40e-08 | 7.99e-12 |\n",
            "|  540  | 46464 | 1544  | +1.4218e-02 | 1.24e+00 | 3.38e-08 | 1.71e-11 |\n",
            "|  541  | 46552 | 1548  | +1.4218e-02 | 1.24e+00 | 3.36e-08 | 1.50e-11 |\n",
            "|  542  | 46640 | 1552  | +1.4218e-02 | 1.24e+00 | 3.34e-08 | 1.44e-11 |\n",
            "|  543  | 46728 | 1556  | +1.4218e-02 | 1.24e+00 | 3.32e-08 | 1.24e-11 |\n",
            "|  544  | 46816 | 1560  | +1.4218e-02 | 1.24e+00 | 3.31e-08 | 1.96e-11 |\n",
            "|  545  | 46904 | 1564  | +1.4218e-02 | 1.24e+00 | 3.29e-08 | 2.87e-12 |\n",
            "|  546  | 46992 | 1568  | +1.4218e-02 | 1.24e+00 | 3.27e-08 | 2.98e-12 |\n",
            "|  547  | 47080 | 1572  | +1.4218e-02 | 1.24e+00 | 3.25e-08 | 5.26e-12 |\n",
            "|  548  | 47168 | 1576  | +1.4218e-02 | 1.24e+00 | 3.23e-08 | 5.94e-12 |\n",
            "|  549  | 47256 | 1580  | +1.4218e-02 | 1.24e+00 | 3.22e-08 | 6.82e-12 |\n",
            "|  550  | 47344 | 1584  | +1.4218e-02 | 1.24e+00 | 3.20e-08 | 3.60e-11 |\n",
            "|  551  | 47432 | 1588  | +1.4218e-02 | 1.24e+00 | 3.19e-08 | 2.57e-11 |\n",
            "|  552  | 47520 | 1592  | +1.4218e-02 | 1.24e+00 | 3.17e-08 | 2.56e-11 |\n",
            "|  553  | 47608 | 1597  | +1.4218e-02 | 1.24e+00 | 3.15e-08 | 1.48e-11 |\n",
            "|  554  | 47696 | 1602  | +1.4218e-02 | 1.24e+00 | 3.13e-08 | 4.39e-11 |\n",
            "|  555  | 47784 | 1606  | +1.4218e-02 | 1.24e+00 | 3.11e-08 | 4.23e-12 |\n",
            "|  556  | 47872 | 1611  | +1.4218e-02 | 1.24e+00 | 3.09e-08 | 3.91e-11 |\n",
            "|  557  | 47960 | 1616  | +1.4218e-02 | 1.24e+00 | 3.08e-08 | 4.59e-11 |\n",
            "|  558  | 48048 | 1620  | +1.4218e-02 | 1.24e+00 | 3.06e-08 | 4.97e-12 |\n",
            "|  559  | 48136 | 1624  | +1.4218e-02 | 1.24e+00 | 3.04e-08 | 6.25e-12 |\n",
            "|  560  | 48224 | 1628  | +1.4218e-02 | 1.24e+00 | 3.02e-08 | 5.83e-12 |\n",
            "|  561  | 48312 | 1632  | +1.4218e-02 | 1.24e+00 | 3.00e-08 | 3.13e-12 |\n",
            "|  562  | 48400 | 1637  | +1.4218e-02 | 1.24e+00 | 2.99e-08 | 1.19e-12 |\n",
            "|  563  | 48488 | 1641  | +1.4218e-02 | 1.24e+00 | 2.97e-08 | 2.56e-12 |\n",
            "|  564  | 48576 | 1645  | +1.4218e-02 | 1.24e+00 | 2.95e-08 | 1.82e-12 |\n",
            "|  565  | 48664 | 1650  | +1.4218e-02 | 1.24e+00 | 2.94e-08 | 3.65e-11 |\n",
            "|  566  | 48752 | 1655  | +1.4218e-02 | 1.24e+00 | 2.92e-08 | 4.31e-11 |\n",
            "|  567  | 48840 | 1660  | +1.4218e-02 | 1.24e+00 | 2.90e-08 | 4.09e-11 |\n",
            "|  568  | 48928 | 1665  | +1.4218e-02 | 1.24e+00 | 2.88e-08 | 1.05e-12 |\n",
            "|  569  | 49016 | 1669  | +1.4218e-02 | 1.24e+00 | 2.87e-08 | 2.88e-11 |\n",
            "|  570  | 49104 | 1673  | +1.4218e-02 | 1.24e+00 | 2.85e-08 | 3.01e-11 |\n",
            "|  571  | 49192 | 1677  | +1.4218e-02 | 1.24e+00 | 2.83e-08 | 3.02e-11 |\n",
            "|  572  | 49280 | 1681  | +1.4218e-02 | 1.24e+00 | 2.82e-08 | 2.98e-11 |\n",
            "|  573  | 49368 | 1686  | +1.4218e-02 | 1.24e+00 | 2.80e-08 | 2.46e-11 |\n",
            "|  574  | 49456 | 1690  | +1.4218e-02 | 1.24e+00 | 2.79e-08 | 5.00e-12 |\n",
            "|  575  | 49456 | 1690  | +1.4218e-02 | 6.21e+00 | 4.62e-08 | 5.00e-12 |\n",
            "|  576  | 49544 | 1707  | +1.4214e-02 | 2.06e+01 | 4.50e-08 | 9.11e-07 |\n",
            "|  577  | 49632 | 1724  | +1.4214e-02 | 2.06e+00 | 4.50e-08 | 9.11e-07 |\n",
            "|  578  | 49720 | 1741  | +1.4214e-02 | 2.06e-01 | 4.50e-08 | 9.11e-07 |\n",
            "|  579  | 49808 | 1748  | +1.4214e-02 | 4.12e-01 | 4.42e-08 | 3.26e-07 |\n",
            "|  580  | 49896 | 1759  | +1.4214e-02 | 4.12e-02 | 4.42e-08 | 3.26e-07 |\n",
            "|  581  | 49984 | 1763  | +1.4214e-02 | 2.88e-01 | 4.34e-08 | 3.80e-09 |\n",
            "|  582  | 50072 | 1771  | +1.4214e-02 | 2.88e-02 | 4.34e-08 | 3.80e-09 |\n",
            "|  583  | 50160 | 1774  | +1.4214e-02 | 2.02e-01 | 4.27e-08 | 1.59e-09 |\n",
            "|  584  | 50248 | 1780  | +1.4214e-02 | 2.02e-02 | 4.27e-08 | 1.59e-09 |\n",
            "|  585  | 50336 | 1782  | +1.4214e-02 | 1.41e-01 | 4.21e-08 | 8.40e-10 |\n",
            "|  586  | 50424 | 1788  | +1.4214e-02 | 2.82e-01 | 4.14e-08 | 6.98e-08 |\n",
            "|  587  | 50512 | 1796  | +1.4214e-02 | 2.82e-02 | 4.14e-08 | 6.98e-08 |\n",
            "|  588  | 50600 | 1799  | +1.4214e-02 | 1.98e-01 | 4.07e-08 | 1.80e-09 |\n",
            "|  589  | 50688 | 1806  | +1.4213e-02 | 1.98e-01 | 3.98e-08 | 1.04e-07 |\n",
            "|  590  | 50776 | 1813  | +1.4213e-02 | 3.95e-01 | 3.89e-08 | 9.46e-08 |\n",
            "|  591  | 50864 | 1823  | +1.4213e-02 | 3.95e-02 | 3.89e-08 | 9.46e-08 |\n",
            "|  592  | 50952 | 1826  | +1.4213e-02 | 2.77e-01 | 3.82e-08 | 4.93e-09 |\n",
            "|  593  | 51040 | 1834  | +1.4213e-02 | 5.53e-01 | 3.75e-08 | 6.15e-08 |\n",
            "|  594  | 51128 | 1846  | +1.4213e-02 | 5.53e-02 | 3.75e-08 | 6.15e-08 |\n",
            "|  595  | 51216 | 1850  | +1.4213e-02 | 3.87e-01 | 3.71e-08 | 7.95e-09 |\n",
            "|  596  | 51304 | 1860  | +1.4213e-02 | 3.87e-02 | 3.71e-08 | 7.95e-09 |\n",
            "|  597  | 51392 | 1864  | +1.4213e-02 | 2.71e-01 | 3.65e-08 | 4.36e-09 |\n",
            "|  598  | 51480 | 1872  | +1.4213e-02 | 5.42e-01 | 3.57e-08 | 6.80e-08 |\n",
            "|  599  | 51568 | 1884  | +1.4213e-02 | 5.42e-02 | 3.57e-08 | 6.80e-08 |\n",
            "|  600  | 51656 | 1888  | +1.4213e-02 | 3.80e-01 | 3.54e-08 | 8.57e-09 |\n",
            "|  601  | 51744 | 1898  | +1.4213e-02 | 3.80e-02 | 3.54e-08 | 8.57e-09 |\n",
            "|  602  | 51832 | 1902  | +1.4213e-02 | 2.66e-01 | 3.49e-08 | 4.35e-09 |\n",
            "|  603  | 51920 | 1911  | +1.4213e-02 | 2.66e-02 | 3.49e-08 | 4.35e-09 |\n",
            "|  604  | 52008 | 1914  | +1.4213e-02 | 1.86e-01 | 3.43e-08 | 2.15e-09 |\n",
            "|  605  | 52096 | 1921  | +1.4213e-02 | 3.72e-01 | 3.36e-08 | 5.29e-08 |\n",
            "|  606  | 52184 | 1930  | +1.4213e-02 | 3.72e-02 | 3.36e-08 | 5.29e-08 |\n",
            "|  607  | 52272 | 1934  | +1.4213e-02 | 2.60e-01 | 3.31e-08 | 4.58e-09 |\n",
            "|  608  | 52360 | 1943  | +1.4213e-02 | 2.60e-02 | 3.31e-08 | 4.58e-09 |\n",
            "|  609  | 52448 | 1946  | +1.4213e-02 | 1.82e-01 | 3.25e-08 | 2.31e-09 |\n",
            "|  610  | 52536 | 1954  | +1.4213e-02 | 1.82e-02 | 3.25e-08 | 2.31e-09 |\n",
            "|  611  | 52624 | 1957  | +1.4213e-02 | 1.28e-01 | 3.21e-08 | 2.21e-09 |\n",
            "|  612  | 52712 | 1963  | +1.4213e-02 | 1.28e-01 | 3.15e-08 | 4.41e-08 |\n",
            "|  613  | 52800 | 1969  | +1.4212e-02 | 8.93e-01 | 3.10e-08 | 1.79e-08 |\n",
            "|  614  | 52888 | 1979  | +1.4212e-02 | 8.93e-02 | 3.10e-08 | 1.79e-08 |\n",
            "|  615  | 52976 | 1985  | +1.4212e-02 | 6.25e-01 | 3.06e-08 | 1.43e-08 |\n",
            "|  616  | 53064 | 1995  | +1.4212e-02 | 6.25e-02 | 3.06e-08 | 1.43e-08 |\n",
            "|  617  | 53152 | 2000  | +1.4212e-02 | 4.38e-01 | 3.01e-08 | 9.98e-09 |\n",
            "|  618  | 53240 | 2010  | +1.4212e-02 | 4.38e-02 | 3.01e-08 | 9.98e-09 |\n",
            "|  619  | 53328 | 2014  | +1.4212e-02 | 3.06e-01 | 2.98e-08 | 6.25e-09 |\n",
            "|  620  | 53416 | 2024  | +1.4212e-02 | 3.06e-02 | 2.98e-08 | 6.25e-09 |\n",
            "|  621  | 53504 | 2028  | +1.4212e-02 | 2.14e-01 | 2.93e-08 | 2.63e-09 |\n",
            "|  622  | 53592 | 2036  | +1.4212e-02 | 2.14e-02 | 2.93e-08 | 2.63e-09 |\n",
            "|  623  | 53680 | 2040  | +1.4212e-02 | 1.50e-01 | 2.88e-08 | 1.11e-09 |\n",
            "|  624  | 53768 | 2047  | +1.4212e-02 | 3.00e-01 | 2.82e-08 | 2.99e-08 |\n",
            "|  625  | 53856 | 2057  | +1.4212e-02 | 3.00e-02 | 2.82e-08 | 2.99e-08 |\n",
            "|  626  | 53944 | 2061  | +1.4212e-02 | 2.10e-01 | 2.78e-08 | 2.63e-09 |\n",
            "|  627  | 54032 | 2069  | +1.4212e-02 | 2.10e-02 | 2.78e-08 | 2.63e-09 |\n",
            "|  628  | 54120 | 2073  | +1.4212e-02 | 1.47e-01 | 2.73e-08 | 1.10e-09 |\n",
            "|  629  | 54208 | 2080  | +1.4212e-02 | 1.47e-02 | 2.73e-08 | 1.10e-09 |\n",
            "|  630  | 54296 | 2082  | +1.4212e-02 | 1.03e-01 | 2.69e-08 | 7.64e-10 |\n",
            "|  631  | 54384 | 2089  | +1.4212e-02 | 1.03e-02 | 2.69e-08 | 7.64e-10 |\n",
            "|  632  | 54472 | 2091  | +1.4212e-02 | 7.21e-02 | 2.67e-08 | 2.54e-10 |\n",
            "|  633  | 54560 | 2097  | +1.4212e-02 | 1.44e-01 | 2.66e-08 | 1.78e-08 |\n",
            "|  634  | 54648 | 2105  | +1.4212e-02 | 1.44e-02 | 2.66e-08 | 1.78e-08 |\n",
            "|  635  | 54736 | 2108  | +1.4212e-02 | 1.01e-01 | 2.65e-08 | 5.44e-10 |\n",
            "|  636  | 54824 | 2114  | +1.4212e-02 | 1.01e-01 | 2.65e-08 | 2.78e-08 |\n",
            "|  637  | 54912 | 2121  | +1.4212e-02 | 2.02e-01 | 2.64e-08 | 2.68e-08 |\n",
            "|  638  | 55000 | 2128  | +1.4212e-02 | 2.02e-02 | 2.64e-08 | 2.68e-08 |\n",
            "|  639  | 55088 | 2132  | +1.4212e-02 | 1.41e-01 | 2.64e-08 | 1.63e-09 |\n",
            "|  640  | 55176 | 2139  | +1.4212e-02 | 1.41e-02 | 2.64e-08 | 1.63e-09 |\n",
            "|  641  | 55264 | 2142  | +1.4212e-02 | 9.89e-02 | 2.64e-08 | 3.11e-10 |\n",
            "|  642  | 55352 | 2148  | +1.4212e-02 | 6.92e-01 | 2.61e-08 | 1.97e-09 |\n",
            "|  643  | 55440 | 2159  | +1.4212e-02 | 6.92e-02 | 2.61e-08 | 1.97e-09 |\n",
            "|  644  | 55528 | 2165  | +1.4212e-02 | 4.85e-01 | 2.59e-08 | 2.23e-09 |\n",
            "|  645  | 55616 | 2176  | +1.4212e-02 | 4.85e-02 | 2.59e-08 | 2.23e-09 |\n",
            "|  646  | 55704 | 2182  | +1.4212e-02 | 9.69e-02 | 2.58e-08 | 1.24e-08 |\n",
            "|  647  | 55792 | 2189  | +1.4212e-02 | 9.69e-02 | 2.56e-08 | 3.22e-08 |\n",
            "|  648  | 55880 | 2196  | +1.4212e-02 | 1.94e-01 | 2.55e-08 | 2.52e-08 |\n",
            "|  649  | 55968 | 2204  | +1.4212e-02 | 1.94e-02 | 2.55e-08 | 2.52e-08 |\n",
            "|  650  | 56056 | 2208  | +1.4212e-02 | 1.36e-01 | 2.55e-08 | 1.69e-09 |\n",
            "|  651  | 56144 | 2215  | +1.4212e-02 | 1.36e-02 | 2.55e-08 | 1.69e-09 |\n",
            "|  652  | 56232 | 2218  | +1.4212e-02 | 9.50e-02 | 2.54e-08 | 5.26e-10 |\n",
            "|  653  | 56320 | 2225  | +1.4212e-02 | 9.50e-03 | 2.54e-08 | 5.26e-10 |\n",
            "|  654  | 56408 | 2227  | +1.4212e-02 | 6.65e-02 | 2.52e-08 | 2.18e-10 |\n",
            "|  655  | 56496 | 2234  | +1.4212e-02 | 1.33e-01 | 2.51e-08 | 1.28e-08 |\n",
            "|  656  | 56584 | 2242  | +1.4212e-02 | 1.33e-02 | 2.51e-08 | 1.28e-08 |\n",
            "|  657  | 56672 | 2244  | +1.4212e-02 | 9.31e-02 | 2.50e-08 | 1.58e-10 |\n",
            "|  658  | 56760 | 2251  | +1.4212e-02 | 9.31e-03 | 2.50e-08 | 1.58e-10 |\n",
            "|  659  | 56848 | 2253  | +1.4212e-02 | 6.52e-02 | 2.48e-08 | 1.22e-10 |\n",
            "|  660  | 56936 | 2260  | +1.4212e-02 | 6.52e-03 | 2.48e-08 | 1.22e-10 |\n",
            "|  661  | 57024 | 2261  | +1.4212e-02 | 4.56e-02 | 2.47e-08 | 8.59e-11 |\n",
            "|  662  | 57112 | 2268  | +1.4212e-02 | 3.19e-01 | 2.47e-08 | 3.42e-09 |\n",
            "|  663  | 57200 | 2281  | +1.4212e-02 | 3.19e-02 | 2.47e-08 | 3.42e-09 |\n",
            "|  664  | 57288 | 2288  | +1.4212e-02 | 2.24e-01 | 2.48e-08 | 1.80e-09 |\n",
            "|  665  | 57376 | 2297  | +1.4212e-02 | 2.24e-02 | 2.48e-08 | 1.80e-09 |\n",
            "|  666  | 57464 | 2301  | +1.4212e-02 | 1.56e-01 | 2.48e-08 | 1.87e-09 |\n",
            "|  667  | 57552 | 2308  | +1.4211e-02 | 1.56e-01 | 2.48e-08 | 2.88e-08 |\n",
            "|  668  | 57640 | 2315  | +1.4211e-02 | 3.13e-01 | 2.48e-08 | 2.91e-08 |\n",
            "|  669  | 57728 | 2318  | +1.4211e-02 | 3.13e-01 | 2.48e-08 | 1.35e-09 |\n",
            "|  670  | 57816 | 2321  | +1.4211e-02 | 3.13e-01 | 2.48e-08 | 1.38e-09 |\n",
            "|  671  | 57904 | 2330  | +1.4211e-02 | 3.13e-02 | 2.48e-08 | 1.38e-09 |\n",
            "|  672  | 57992 | 2336  | +1.4211e-02 | 2.19e-01 | 2.47e-08 | 2.47e-09 |\n",
            "|  673  | 58080 | 2345  | +1.4211e-02 | 2.19e-02 | 2.47e-08 | 2.47e-09 |\n",
            "|  674  | 58168 | 2349  | +1.4211e-02 | 1.53e-01 | 2.47e-08 | 1.95e-09 |\n",
            "|  675  | 58256 | 2357  | +1.4211e-02 | 1.53e-01 | 2.46e-08 | 2.61e-08 |\n",
            "|  676  | 58344 | 2362  | +1.4211e-02 | 1.71e-01 | 2.46e-08 | 1.98e-09 |\n",
            "|  677  | 58432 | 2370  | +1.4211e-02 | 1.71e-02 | 2.46e-08 | 1.98e-09 |\n",
            "|  678  | 58520 | 2373  | +1.4211e-02 | 1.20e-01 | 2.45e-08 | 9.26e-10 |\n",
            "|  679  | 58608 | 2382  | +1.4211e-02 | 8.39e-01 | 2.46e-08 | 7.52e-09 |\n",
            "|  680  | 58696 | 2387  | +1.4211e-02 | 8.39e-01 | 2.46e-08 | 1.99e-09 |\n",
            "|  681  | 58784 | 2396  | +1.4211e-02 | 8.39e-01 | 2.46e-08 | 2.43e-08 |\n",
            "|  682  | 58872 | 2399  | +1.4211e-02 | 8.39e-01 | 2.46e-08 | 9.28e-10 |\n",
            "|  683  | 58960 | 2402  | +1.4211e-02 | 8.39e-01 | 2.45e-08 | 9.40e-10 |\n",
            "|  684  | 59048 | 2406  | +1.4211e-02 | 8.39e-01 | 2.45e-08 | 9.91e-10 |\n",
            "|  685  | 59136 | 2410  | +1.4211e-02 | 8.39e-01 | 2.44e-08 | 1.01e-09 |\n",
            "|  686  | 59224 | 2414  | +1.4211e-02 | 8.39e-01 | 2.44e-08 | 5.80e-10 |\n",
            "|  687  | 59312 | 2418  | +1.4211e-02 | 8.39e-01 | 2.44e-08 | 5.95e-10 |\n",
            "|  688  | 59400 | 2422  | +1.4211e-02 | 8.39e-01 | 2.43e-08 | 5.23e-09 |\n",
            "|  689  | 59488 | 2425  | +1.4211e-02 | 8.39e-01 | 2.42e-08 | 7.16e-10 |\n",
            "|  690  | 59576 | 2428  | +1.4211e-02 | 8.39e-01 | 2.42e-08 | 7.33e-10 |\n",
            "|  691  | 59664 | 2432  | +1.4211e-02 | 8.39e-01 | 2.41e-08 | 1.07e-09 |\n",
            "|  692  | 59752 | 2436  | +1.4211e-02 | 8.39e-01 | 2.41e-08 | 2.97e-09 |\n",
            "|  693  | 59840 | 2439  | +1.4211e-02 | 8.39e-01 | 2.41e-08 | 1.84e-09 |\n",
            "|  694  | 59928 | 2442  | +1.4211e-02 | 8.39e-01 | 2.40e-08 | 1.64e-09 |\n",
            "|  695  | 60016 | 2446  | +1.4211e-02 | 8.39e-01 | 2.40e-08 | 8.24e-10 |\n",
            "|  696  | 60104 | 2450  | +1.4211e-02 | 8.39e-01 | 2.40e-08 | 8.18e-10 |\n",
            "|  697  | 60192 | 2454  | +1.4211e-02 | 8.39e-01 | 2.40e-08 | 8.47e-10 |\n",
            "|  698  | 60280 | 2458  | +1.4211e-02 | 8.39e-01 | 2.39e-08 | 7.70e-10 |\n",
            "|  699  | 60368 | 2462  | +1.4211e-02 | 8.39e-01 | 2.38e-08 | 7.85e-10 |\n",
            "|  700  | 60456 | 2466  | +1.4211e-02 | 8.39e-01 | 2.37e-08 | 1.12e-09 |\n",
            "|  701  | 60544 | 2470  | +1.4211e-02 | 8.39e-01 | 2.37e-08 | 1.11e-09 |\n",
            "|  702  | 60632 | 2474  | +1.4211e-02 | 8.39e-01 | 2.37e-08 | 1.13e-09 |\n",
            "|  703  | 60720 | 2479  | +1.4211e-02 | 8.39e-01 | 2.36e-08 | 3.37e-09 |\n",
            "|  704  | 60808 | 2483  | +1.4211e-02 | 8.39e-01 | 2.36e-08 | 2.53e-09 |\n",
            "|  705  | 60896 | 2487  | +1.4211e-02 | 8.39e-01 | 2.36e-08 | 2.60e-09 |\n",
            "|  706  | 60984 | 2491  | +1.4211e-02 | 8.39e-01 | 2.36e-08 | 2.67e-09 |\n",
            "|  707  | 61072 | 2495  | +1.4211e-02 | 8.39e-01 | 2.36e-08 | 2.72e-09 |\n",
            "|  708  | 61160 | 2499  | +1.4211e-02 | 8.39e-01 | 2.36e-08 | 2.79e-09 |\n",
            "|  709  | 61248 | 2503  | +1.4211e-02 | 8.39e-01 | 2.35e-08 | 2.84e-09 |\n",
            "|  710  | 61336 | 2507  | +1.4211e-02 | 8.39e-01 | 2.35e-08 | 2.90e-09 |\n",
            "|  711  | 61424 | 2511  | +1.4211e-02 | 8.39e-01 | 2.35e-08 | 1.86e-09 |\n",
            "|  712  | 61512 | 2515  | +1.4211e-02 | 8.39e-01 | 2.35e-08 | 1.90e-09 |\n",
            "|  713  | 61600 | 2519  | +1.4211e-02 | 8.39e-01 | 2.34e-08 | 1.93e-09 |\n",
            "|  714  | 61688 | 2522  | +1.4211e-02 | 8.39e-01 | 2.34e-08 | 1.33e-09 |\n",
            "|  715  | 61776 | 2525  | +1.4211e-02 | 8.39e-01 | 2.33e-08 | 1.35e-09 |\n",
            "|  716  | 61864 | 2529  | +1.4211e-02 | 8.39e-01 | 2.33e-08 | 1.37e-09 |\n",
            "|  717  | 61952 | 2533  | +1.4211e-02 | 8.39e-01 | 2.33e-08 | 1.43e-09 |\n",
            "|  718  | 62040 | 2537  | +1.4211e-02 | 8.39e-01 | 2.32e-08 | 2.45e-09 |\n",
            "|  719  | 62128 | 2541  | +1.4211e-02 | 8.39e-01 | 2.32e-08 | 2.51e-09 |\n",
            "|  720  | 62216 | 2546  | +1.4211e-02 | 8.39e-01 | 2.32e-08 | 2.73e-09 |\n",
            "|  721  | 62304 | 2551  | +1.4211e-02 | 8.39e-01 | 2.31e-08 | 2.77e-09 |\n",
            "|  722  | 62392 | 2556  | +1.4211e-02 | 8.39e-01 | 2.31e-08 | 2.86e-09 |\n",
            "|  723  | 62480 | 2561  | +1.4211e-02 | 8.39e-01 | 2.31e-08 | 2.87e-09 |\n",
            "|  724  | 62568 | 2567  | +1.4211e-02 | 8.39e-01 | 2.31e-08 | 2.67e-09 |\n",
            "|  725  | 62656 | 2572  | +1.4211e-02 | 8.39e-01 | 2.30e-08 | 9.55e-10 |\n",
            "|  726  | 62744 | 2577  | +1.4211e-02 | 8.39e-01 | 2.30e-08 | 9.91e-10 |\n",
            "|  727  | 62832 | 2582  | +1.4211e-02 | 8.39e-01 | 2.30e-08 | 1.01e-09 |\n",
            "|  728  | 62920 | 2587  | +1.4211e-02 | 8.39e-01 | 2.29e-08 | 9.46e-10 |\n",
            "|  729  | 63008 | 2592  | +1.4211e-02 | 8.39e-01 | 2.29e-08 | 4.24e-09 |\n",
            "|  730  | 63096 | 2596  | +1.4211e-02 | 8.39e-01 | 2.28e-08 | 2.92e-09 |\n",
            "|  731  | 63184 | 2600  | +1.4211e-02 | 8.39e-01 | 2.28e-08 | 2.98e-09 |\n",
            "|  732  | 63272 | 2605  | +1.4211e-02 | 8.39e-01 | 2.28e-08 | 1.99e-09 |\n",
            "|  733  | 63360 | 2610  | +1.4211e-02 | 8.39e-01 | 2.27e-08 | 2.03e-09 |\n",
            "|  734  | 63448 | 2614  | +1.4211e-02 | 8.39e-01 | 2.27e-08 | 1.69e-09 |\n",
            "|  735  | 63536 | 2618  | +1.4211e-02 | 8.39e-01 | 2.26e-08 | 2.10e-09 |\n",
            "|  736  | 63624 | 2622  | +1.4211e-02 | 8.39e-02 | 2.26e-08 | 2.10e-09 |\n",
            "|  737  | 63712 | 2626  | +1.4211e-02 | 8.39e-03 | 2.26e-08 | 2.10e-09 |\n",
            "|  738  | 63800 | 2629  | +1.4211e-02 | 5.88e-02 | 2.25e-08 | 6.14e-10 |\n",
            "|  739  | 63888 | 2635  | +1.4211e-02 | 5.88e-03 | 2.25e-08 | 6.14e-10 |\n",
            "|  740  | 63976 | 2638  | +1.4211e-02 | 4.11e-02 | 2.24e-08 | 1.22e-10 |\n",
            "|  741  | 64064 | 2644  | +1.4211e-02 | 4.11e-02 | 2.24e-08 | 5.69e-09 |\n",
            "|  742  | 64152 | 2650  | +1.4211e-02 | 7.49e-02 | 2.24e-08 | 5.60e-09 |\n",
            "|  743  | 64240 | 2656  | +1.4211e-02 | 7.49e-02 | 2.24e-08 | 5.55e-09 |\n",
            "|  744  | 64328 | 2662  | +1.4210e-02 | 7.49e-02 | 2.24e-08 | 5.43e-09 |\n",
            "|  745  | 64416 | 2668  | +1.4210e-02 | 7.49e-02 | 2.24e-08 | 5.21e-09 |\n",
            "|  746  | 64504 | 2674  | +1.4210e-02 | 7.49e-02 | 2.24e-08 | 5.14e-09 |\n",
            "|  747  | 64592 | 2679  | +1.4210e-02 | 7.49e-03 | 2.24e-08 | 5.14e-09 |\n",
            "|  748  | 64680 | 2682  | +1.4210e-02 | 5.24e-02 | 2.23e-08 | 2.91e-10 |\n",
            "|  749  | 64768 | 2687  | +1.4210e-02 | 5.24e-03 | 2.23e-08 | 2.91e-10 |\n",
            "|  750  | 64856 | 2690  | +1.4210e-02 | 3.67e-02 | 2.23e-08 | 8.43e-11 |\n",
            "|  751  | 64944 | 2695  | +1.4210e-02 | 3.67e-03 | 2.23e-08 | 8.43e-11 |\n",
            "|  752  | 65032 | 2697  | +1.4210e-02 | 2.57e-02 | 2.22e-08 | 2.40e-11 |\n",
            "|  753  | 65120 | 2702  | +1.4210e-02 | 2.57e-03 | 2.22e-08 | 2.40e-11 |\n",
            "|  754  | 65208 | 2704  | +1.4210e-02 | 1.80e-02 | 2.22e-08 | 8.55e-12 |\n",
            "|  755  | 65296 | 2708  | +1.4210e-02 | 1.80e-03 | 2.22e-08 | 8.55e-12 |\n",
            "|  756  | 65384 | 2710  | +1.4210e-02 | 1.26e-02 | 2.21e-08 | 3.13e-12 |\n",
            "|  757  | 65472 | 2714  | +1.4210e-02 | 2.52e-02 | 2.21e-08 | 1.89e-09 |\n",
            "|  758  | 65560 | 2720  | +1.4210e-02 | 2.52e-03 | 2.21e-08 | 1.89e-09 |\n",
            "|  759  | 65648 | 2722  | +1.4210e-02 | 1.76e-02 | 2.20e-08 | 8.27e-12 |\n",
            "|  760  | 65736 | 2727  | +1.4210e-02 | 1.76e-02 | 2.20e-08 | 4.19e-09 |\n",
            "|  761  | 65824 | 2732  | +1.4210e-02 | 3.52e-02 | 2.20e-08 | 5.43e-09 |\n",
            "|  762  | 65912 | 2737  | +1.4210e-02 | 3.52e-03 | 2.20e-08 | 5.43e-09 |\n",
            "|  763  | 66000 | 2740  | +1.4210e-02 | 2.47e-02 | 2.19e-08 | 1.88e-11 |\n",
            "|  764  | 66088 | 2745  | +1.4210e-02 | 1.73e-01 | 2.19e-08 | 1.50e-09 |\n",
            "|  765  | 66176 | 2751  | +1.4210e-02 | 1.73e-01 | 2.20e-08 | 4.65e-09 |\n",
            "|  766  | 66264 | 2757  | +1.4210e-02 | 1.73e-01 | 2.20e-08 | 4.48e-09 |\n",
            "|  767  | 66352 | 2762  | +1.4210e-02 | 1.73e-02 | 2.20e-08 | 4.48e-09 |\n",
            "|  768  | 66440 | 2766  | +1.4210e-02 | 3.45e-02 | 2.19e-08 | 5.86e-09 |\n",
            "|  769  | 66528 | 2771  | +1.4210e-02 | 3.45e-03 | 2.19e-08 | 5.86e-09 |\n",
            "|  770  | 66616 | 2773  | +1.4210e-02 | 2.42e-02 | 2.19e-08 | 2.07e-11 |\n",
            "|  771  | 66704 | 2778  | +1.4210e-02 | 2.42e-03 | 2.19e-08 | 2.07e-11 |\n",
            "|  772  | 66792 | 2780  | +1.4210e-02 | 1.69e-02 | 2.18e-08 | 7.13e-12 |\n",
            "|  773  | 66880 | 2784  | +1.4210e-02 | 1.69e-03 | 2.18e-08 | 7.13e-12 |\n",
            "|  774  | 66968 | 2786  | +1.4210e-02 | 1.18e-02 | 2.18e-08 | 2.47e-12 |\n",
            "|  775  | 67056 | 2789  | +1.4210e-02 | 8.29e-02 | 2.18e-08 | 1.23e-09 |\n",
            "|  776  | 67144 | 2794  | +1.4210e-02 | 8.29e-03 | 2.18e-08 | 1.23e-09 |\n",
            "|  777  | 67232 | 2797  | +1.4210e-02 | 5.81e-02 | 2.18e-08 | 4.42e-10 |\n",
            "|  778  | 67320 | 2802  | +1.4210e-02 | 5.81e-03 | 2.18e-08 | 4.42e-10 |\n",
            "|  779  | 67408 | 2805  | +1.4210e-02 | 4.06e-02 | 2.17e-08 | 1.53e-10 |\n",
            "|  780  | 67496 | 2811  | +1.4210e-02 | 4.06e-03 | 2.17e-08 | 1.53e-10 |\n",
            "|  781  | 67584 | 2814  | +1.4210e-02 | 2.84e-02 | 2.16e-08 | 3.13e-11 |\n",
            "|  782  | 67672 | 2819  | +1.4210e-02 | 2.84e-03 | 2.16e-08 | 3.13e-11 |\n",
            "|  783  | 67760 | 2821  | +1.4210e-02 | 1.99e-02 | 2.16e-08 | 1.11e-11 |\n",
            "|  784  | 67848 | 2826  | +1.4210e-02 | 1.99e-03 | 2.16e-08 | 1.11e-11 |\n",
            "|  785  | 67936 | 2829  | +1.4210e-02 | 1.39e-02 | 2.15e-08 | 4.58e-12 |\n",
            "|  786  | 68024 | 2833  | +1.4210e-02 | 9.76e-02 | 2.14e-08 | 8.99e-10 |\n",
            "|  787  | 68112 | 2838  | +1.4210e-02 | 9.76e-03 | 2.14e-08 | 8.99e-10 |\n",
            "|  788  | 68200 | 2841  | +1.4210e-02 | 6.83e-02 | 2.13e-08 | 8.03e-10 |\n",
            "|  789  | 68288 | 2846  | +1.4210e-02 | 6.83e-03 | 2.13e-08 | 8.03e-10 |\n",
            "|  790  | 68376 | 2849  | +1.4210e-02 | 4.78e-02 | 2.13e-08 | 2.47e-10 |\n",
            "|  791  | 68464 | 2854  | +1.4210e-02 | 4.78e-03 | 2.13e-08 | 2.47e-10 |\n",
            "|  792  | 68552 | 2857  | +1.4210e-02 | 3.35e-02 | 2.12e-08 | 6.23e-11 |\n",
            "|  793  | 68640 | 2863  | +1.4210e-02 | 3.35e-03 | 2.12e-08 | 6.23e-11 |\n",
            "|  794  | 68728 | 2866  | +1.4210e-02 | 2.34e-02 | 2.12e-08 | 1.35e-11 |\n",
            "|  795  | 68816 | 2871  | +1.4210e-02 | 2.34e-03 | 2.12e-08 | 1.35e-11 |\n",
            "|  796  | 68904 | 2873  | +1.4210e-02 | 1.64e-02 | 2.11e-08 | 6.37e-12 |\n",
            "|  797  | 68992 | 2877  | +1.4210e-02 | 1.64e-03 | 2.11e-08 | 6.37e-12 |\n",
            "|  798  | 69080 | 2879  | +1.4210e-02 | 1.15e-02 | 2.11e-08 | 2.16e-12 |\n",
            "|  799  | 69168 | 2883  | +1.4210e-02 | 8.04e-02 | 2.11e-08 | 1.29e-09 |\n",
            "|  800  | 69256 | 2888  | +1.4210e-02 | 8.04e-03 | 2.11e-08 | 1.29e-09 |\n",
            "|  801  | 69344 | 2891  | +1.4210e-02 | 5.62e-02 | 2.10e-08 | 3.74e-10 |\n",
            "|  802  | 69432 | 2896  | +1.4210e-02 | 5.62e-03 | 2.10e-08 | 3.74e-10 |\n",
            "|  803  | 69520 | 2899  | +1.4210e-02 | 3.94e-02 | 2.09e-08 | 1.15e-10 |\n",
            "|  804  | 69608 | 2904  | +1.4210e-02 | 3.94e-03 | 2.09e-08 | 1.15e-10 |\n",
            "|  805  | 69696 | 2907  | +1.4210e-02 | 2.76e-02 | 2.08e-08 | 3.62e-11 |\n",
            "|  806  | 69784 | 2912  | +1.4210e-02 | 2.76e-03 | 2.08e-08 | 3.62e-11 |\n",
            "|  807  | 69872 | 2914  | +1.4210e-02 | 1.93e-02 | 2.08e-08 | 1.09e-11 |\n",
            "|  808  | 69960 | 2919  | +1.4210e-02 | 1.93e-03 | 2.08e-08 | 1.09e-11 |\n",
            "|  809  | 70048 | 2921  | +1.4210e-02 | 1.35e-02 | 2.07e-08 | 3.52e-12 |\n",
            "|  810  | 70136 | 2925  | +1.4210e-02 | 1.35e-03 | 2.07e-08 | 3.52e-12 |\n",
            "|  811  | 70224 | 2927  | +1.4210e-02 | 9.45e-03 | 2.08e-08 | 2.02e-12 |\n",
            "|  812  | 70312 | 2931  | +1.4210e-02 | 1.89e-02 | 2.08e-08 | 1.06e-09 |\n",
            "|  813  | 70400 | 2935  | +1.4210e-02 | 1.89e-03 | 2.08e-08 | 1.06e-09 |\n",
            "|  814  | 70488 | 2937  | +1.4210e-02 | 1.32e-02 | 2.07e-08 | 3.21e-12 |\n",
            "|  815  | 70576 | 2941  | +1.4210e-02 | 2.65e-02 | 2.07e-08 | 2.14e-09 |\n",
            "|  816  | 70664 | 2946  | +1.4210e-02 | 2.65e-03 | 2.07e-08 | 2.14e-09 |\n",
            "|  817  | 70752 | 2949  | +1.4210e-02 | 1.85e-02 | 2.07e-08 | 9.66e-12 |\n",
            "|  818  | 70840 | 2953  | +1.4210e-02 | 1.85e-03 | 2.07e-08 | 9.66e-12 |\n",
            "|  819  | 70928 | 2955  | +1.4210e-02 | 1.30e-02 | 2.06e-08 | 3.52e-12 |\n",
            "|  820  | 71016 | 2959  | +1.4210e-02 | 2.59e-02 | 2.05e-08 | 9.35e-10 |\n",
            "|  821  | 71104 | 2964  | +1.4210e-02 | 2.59e-03 | 2.05e-08 | 9.35e-10 |\n",
            "|  822  | 71192 | 2966  | +1.4210e-02 | 1.82e-02 | 2.05e-08 | 8.07e-12 |\n",
            "|  823  | 71280 | 2971  | +1.4210e-02 | 1.82e-03 | 2.05e-08 | 8.07e-12 |\n",
            "|  824  | 71368 | 2974  | +1.4210e-02 | 1.27e-02 | 2.05e-08 | 2.53e-12 |\n",
            "|  825  | 71456 | 2979  | +1.4210e-02 | 8.90e-02 | 2.04e-08 | 1.46e-09 |\n",
            "|  826  | 71544 | 2985  | +1.4210e-02 | 8.90e-03 | 2.04e-08 | 1.46e-09 |\n",
            "|  827  | 71632 | 2989  | +1.4210e-02 | 6.23e-02 | 2.04e-08 | 4.56e-10 |\n",
            "|  828  | 71720 | 2994  | +1.4210e-02 | 6.23e-03 | 2.04e-08 | 4.56e-10 |\n",
            "|  829  | 71808 | 2997  | +1.4210e-02 | 4.36e-02 | 2.04e-08 | 1.83e-10 |\n",
            "|  830  | 71896 | 3001  | +1.4210e-02 | 4.36e-02 | 2.03e-08 | 2.79e-09 |\n",
            "|  831  | 71984 | 3005  | +1.4210e-02 | 4.36e-02 | 2.02e-08 | 3.31e-09 |\n",
            "|  832  | 72072 | 3009  | +1.4210e-02 | 4.36e-02 | 2.01e-08 | 3.28e-09 |\n",
            "|  833  | 72160 | 3013  | +1.4210e-02 | 4.36e-02 | 2.00e-08 | 3.26e-09 |\n",
            "|  834  | 72248 | 3017  | +1.4210e-02 | 4.36e-02 | 1.98e-08 | 3.24e-09 |\n",
            "|  835  | 72336 | 3022  | +1.4210e-02 | 4.36e-03 | 1.98e-08 | 3.24e-09 |\n",
            "|  836  | 72424 | 3025  | +1.4210e-02 | 3.05e-02 | 1.98e-08 | 5.02e-11 |\n",
            "|  837  | 72512 | 3030  | +1.4210e-02 | 3.05e-03 | 1.98e-08 | 5.02e-11 |\n",
            "|  838  | 72600 | 3033  | +1.4210e-02 | 2.14e-02 | 1.98e-08 | 1.21e-11 |\n",
            "|  839  | 72688 | 3038  | +1.4210e-02 | 2.14e-03 | 1.98e-08 | 1.21e-11 |\n",
            "|  840  | 72776 | 3041  | +1.4210e-02 | 1.50e-02 | 1.97e-08 | 3.84e-12 |\n",
            "|  841  | 72864 | 3045  | +1.4210e-02 | 6.00e-02 | 1.97e-08 | 3.42e-10 |\n",
            "|  842  | 72952 | 3050  | +1.4210e-02 | 6.00e-03 | 1.97e-08 | 3.42e-10 |\n",
            "|  843  | 73040 | 3053  | +1.4210e-02 | 4.20e-02 | 1.98e-08 | 8.33e-11 |\n",
            "|  844  | 73128 | 3058  | +1.4210e-02 | 4.20e-03 | 1.98e-08 | 8.33e-11 |\n",
            "|  845  | 73216 | 3061  | +1.4210e-02 | 2.94e-02 | 1.97e-08 | 3.76e-11 |\n",
            "|  846  | 73304 | 3066  | +1.4210e-02 | 2.94e-03 | 1.97e-08 | 3.76e-11 |\n",
            "|  847  | 73392 | 3068  | +1.4210e-02 | 2.06e-02 | 1.96e-08 | 1.04e-11 |\n",
            "|  848  | 73480 | 3073  | +1.4210e-02 | 2.06e-03 | 1.96e-08 | 1.04e-11 |\n",
            "|  849  | 73568 | 3076  | +1.4210e-02 | 1.44e-02 | 1.96e-08 | 3.21e-12 |\n",
            "|  850  | 73656 | 3080  | +1.4210e-02 | 2.88e-02 | 1.95e-08 | 1.82e-09 |\n",
            "|  851  | 73744 | 3085  | +1.4210e-02 | 2.88e-03 | 1.95e-08 | 1.82e-09 |\n",
            "|  852  | 73832 | 3088  | +1.4210e-02 | 2.02e-02 | 1.94e-08 | 6.42e-12 |\n",
            "|  853  | 73920 | 3093  | +1.4210e-02 | 2.02e-02 | 1.94e-08 | 3.12e-09 |\n",
            "|  854  | 74008 | 3098  | +1.4210e-02 | 3.66e-02 | 1.94e-08 | 3.00e-09 |\n",
            "|  855  | 74096 | 3103  | +1.4210e-02 | 3.66e-02 | 1.94e-08 | 2.98e-09 |\n",
            "|  856  | 74184 | 3108  | +1.4210e-02 | 3.66e-02 | 1.93e-08 | 2.92e-09 |\n",
            "|  857  | 74272 | 3113  | +1.4210e-02 | 3.66e-03 | 1.93e-08 | 2.92e-09 |\n",
            "|  858  | 74360 | 3116  | +1.4210e-02 | 2.56e-02 | 1.93e-08 | 3.43e-11 |\n",
            "|  859  | 74448 | 3120  | +1.4210e-02 | 1.21e-01 | 1.93e-08 | 2.82e-10 |\n",
            "|  860  | 74536 | 3125  | +1.4210e-02 | 1.35e-01 | 1.92e-08 | 3.23e-10 |\n",
            "|  861  | 74624 | 3130  | +1.4210e-02 | 1.35e-01 | 1.92e-08 | 3.41e-10 |\n",
            "|  862  | 74712 | 3135  | +1.4210e-02 | 1.35e-01 | 1.92e-08 | 2.09e-09 |\n",
            "|  863  | 74800 | 3141  | +1.4210e-02 | 1.35e-02 | 1.92e-08 | 2.09e-09 |\n",
            "|  864  | 74888 | 3145  | +1.4210e-02 | 9.47e-02 | 1.92e-08 | 1.17e-09 |\n",
            "|  865  | 74976 | 3150  | +1.4210e-02 | 9.47e-02 | 1.92e-08 | 3.37e-09 |\n",
            "|  866  | 75064 | 3155  | +1.4210e-02 | 9.47e-02 | 1.91e-08 | 3.35e-09 |\n",
            "|  867  | 75152 | 3160  | +1.4210e-02 | 9.47e-02 | 1.90e-08 | 3.23e-09 |\n",
            "|  868  | 75240 | 3165  | +1.4210e-02 | 9.47e-02 | 1.90e-08 | 4.11e-09 |\n",
            "|  869  | 75328 | 3170  | +1.4210e-02 | 9.47e-02 | 1.90e-08 | 4.16e-09 |\n",
            "|  870  | 75416 | 3175  | +1.4210e-02 | 9.47e-02 | 1.90e-08 | 4.12e-09 |\n",
            "|  871  | 75504 | 3180  | +1.4210e-02 | 9.47e-02 | 1.90e-08 | 4.05e-09 |\n",
            "|  872  | 75592 | 3184  | +1.4210e-02 | 9.47e-02 | 1.90e-08 | 9.12e-10 |\n",
            "|  873  | 75680 | 3188  | +1.4210e-02 | 9.47e-02 | 1.90e-08 | 9.01e-10 |\n",
            "|  874  | 75768 | 3192  | +1.4210e-02 | 9.47e-02 | 1.89e-08 | 8.57e-10 |\n",
            "|  875  | 75856 | 3197  | +1.4210e-02 | 9.47e-02 | 1.89e-08 | 2.11e-09 |\n",
            "|  876  | 75944 | 3201  | +1.4210e-02 | 9.47e-02 | 1.88e-08 | 2.13e-10 |\n",
            "|  877  | 76032 | 3206  | +1.4210e-02 | 9.47e-03 | 1.88e-08 | 2.13e-10 |\n",
            "|  878  | 76120 | 3210  | +1.4210e-02 | 6.63e-02 | 1.88e-08 | 9.82e-10 |\n",
            "|  879  | 76208 | 3214  | +1.4210e-02 | 7.95e-02 | 1.88e-08 | 5.99e-10 |\n",
            "|  880  | 76296 | 3218  | +1.4210e-02 | 7.95e-02 | 1.87e-08 | 1.08e-09 |\n",
            "|  881  | 76384 | 3223  | +1.4210e-02 | 7.95e-02 | 1.87e-08 | 1.97e-09 |\n",
            "|  882  | 76472 | 3228  | +1.4210e-02 | 7.95e-02 | 1.87e-08 | 1.99e-09 |\n",
            "|  883  | 76560 | 3233  | +1.4210e-02 | 9.09e-02 | 1.86e-08 | 1.15e-09 |\n",
            "|  884  | 76648 | 3238  | +1.4210e-02 | 9.09e-02 | 1.85e-08 | 1.14e-09 |\n",
            "|  885  | 76736 | 3243  | +1.4210e-02 | 9.09e-02 | 1.84e-08 | 1.17e-09 |\n",
            "|  886  | 76824 | 3246  | +1.4210e-02 | 9.09e-02 | 1.84e-08 | 1.59e-10 |\n",
            "|  887  | 76912 | 3249  | +1.4210e-02 | 9.09e-02 | 1.83e-08 | 1.54e-10 |\n",
            "|  888  | 77000 | 3253  | +1.4210e-02 | 9.09e-02 | 1.82e-08 | 6.71e-10 |\n",
            "|  889  | 77088 | 3257  | +1.4210e-02 | 9.09e-02 | 1.82e-08 | 1.43e-09 |\n",
            "|  890  | 77176 | 3261  | +1.4210e-02 | 9.09e-02 | 1.81e-08 | 1.36e-09 |\n",
            "|  891  | 77264 | 3266  | +1.4210e-02 | 9.09e-02 | 1.81e-08 | 2.99e-09 |\n",
            "|  892  | 77352 | 3271  | +1.4210e-02 | 9.09e-02 | 1.81e-08 | 2.92e-09 |\n",
            "|  893  | 77440 | 3276  | +1.4210e-02 | 9.09e-02 | 1.82e-08 | 5.04e-09 |\n",
            "|  894  | 77528 | 3281  | +1.4210e-02 | 9.09e-02 | 1.82e-08 | 5.00e-09 |\n",
            "|  895  | 77616 | 3285  | +1.4210e-02 | 9.09e-02 | 1.81e-08 | 8.99e-10 |\n",
            "|  896  | 77704 | 3289  | +1.4210e-02 | 9.09e-03 | 1.81e-08 | 8.99e-10 |\n",
            "|  897  | 77792 | 3292  | +1.4210e-02 | 4.30e-02 | 1.81e-08 | 1.31e-10 |\n",
            "|  898  | 77880 | 3295  | +1.4210e-02 | 4.30e-02 | 1.80e-08 | 1.30e-10 |\n",
            "|  899  | 77968 | 3298  | +1.4210e-02 | 4.30e-02 | 1.79e-08 | 3.77e-11 |\n",
            "|  900  | 78056 | 3301  | +1.4210e-02 | 4.30e-02 | 1.79e-08 | 3.79e-11 |\n",
            "|  901  | 78144 | 3305  | +1.4210e-02 | 8.43e-02 | 1.78e-08 | 1.10e-09 |\n",
            "|  902  | 78232 | 3309  | +1.4210e-02 | 8.52e-02 | 1.77e-08 | 1.13e-09 |\n",
            "|  903  | 78320 | 3313  | +1.4210e-02 | 8.52e-02 | 1.77e-08 | 2.09e-09 |\n",
            "|  904  | 78408 | 3317  | +1.4210e-02 | 8.52e-02 | 1.77e-08 | 4.04e-09 |\n",
            "|  905  | 78496 | 3320  | +1.4210e-02 | 8.52e-02 | 1.76e-08 | 1.62e-10 |\n",
            "|  906  | 78584 | 3324  | +1.4210e-02 | 8.52e-02 | 1.76e-08 | 2.40e-11 |\n",
            "|  907  | 78672 | 3328  | +1.4210e-02 | 8.52e-02 | 1.76e-08 | 2.32e-11 |\n",
            "|  908  | 78760 | 3332  | +1.4210e-02 | 8.52e-02 | 1.75e-08 | 3.29e-10 |\n",
            "|  909  | 78848 | 3337  | +1.4210e-02 | 1.51e-01 | 1.75e-08 | 1.07e-09 |\n",
            "|  910  | 78936 | 3340  | +1.4210e-02 | 1.51e-01 | 1.74e-08 | 1.22e-10 |\n",
            "|  911  | 79024 | 3343  | +1.4210e-02 | 1.51e-01 | 1.74e-08 | 2.38e-11 |\n",
            "|  912  | 79112 | 3346  | +1.4210e-02 | 1.51e-01 | 1.74e-08 | 1.16e-10 |\n",
            "|  913  | 79200 | 3351  | +1.4210e-02 | 1.51e-02 | 1.74e-08 | 1.16e-10 |\n",
            "|  914  | 79288 | 3356  | +1.4210e-02 | 1.51e-03 | 1.74e-08 | 1.16e-10 |\n",
            "|  915  | 79376 | 3358  | +1.4210e-02 | 1.06e-02 | 1.74e-08 | 1.08e-12 |\n",
            "|  916  | 79464 | 3362  | +1.4210e-02 | 2.12e-02 | 1.73e-08 | 1.22e-09 |\n",
            "|  917  | 79552 | 3367  | +1.4210e-02 | 2.12e-03 | 1.73e-08 | 1.22e-09 |\n",
            "|  918  | 79640 | 3369  | +1.4210e-02 | 1.48e-02 | 1.72e-08 | 2.84e-12 |\n",
            "|  919  | 79728 | 3373  | +1.4210e-02 | 4.82e-02 | 1.71e-08 | 1.67e-10 |\n",
            "|  920  | 79816 | 3377  | +1.4210e-02 | 4.82e-02 | 1.71e-08 | 1.66e-10 |\n",
            "|  921  | 79904 | 3381  | +1.4210e-02 | 4.82e-02 | 1.70e-08 | 1.29e-10 |\n",
            "|  922  | 79992 | 3385  | +1.4210e-02 | 4.82e-02 | 1.70e-08 | 1.18e-09 |\n",
            "|  923  | 80080 | 3389  | +1.4210e-02 | 4.82e-02 | 1.69e-08 | 1.21e-09 |\n",
            "|  924  | 80168 | 3393  | +1.4210e-02 | 4.82e-02 | 1.68e-08 | 1.21e-09 |\n",
            "|  925  | 80256 | 3397  | +1.4210e-02 | 7.61e-02 | 1.68e-08 | 1.16e-09 |\n",
            "|  926  | 80344 | 3401  | +1.4210e-02 | 7.64e-02 | 1.67e-08 | 1.16e-09 |\n",
            "|  927  | 80432 | 3405  | +1.4210e-02 | 7.65e-02 | 1.67e-08 | 1.16e-09 |\n",
            "|  928  | 80520 | 3409  | +1.4210e-02 | 7.65e-02 | 1.66e-08 | 1.92e-10 |\n",
            "|  929  | 80608 | 3414  | +1.4210e-02 | 1.45e-01 | 1.66e-08 | 7.04e-10 |\n",
            "|  930  | 80696 | 3419  | +1.4210e-02 | 1.47e-01 | 1.65e-08 | 7.64e-10 |\n",
            "|  931  | 80784 | 3424  | +1.4210e-02 | 1.47e-01 | 1.65e-08 | 7.55e-10 |\n",
            "|  932  | 80872 | 3428  | +1.4210e-02 | 1.47e-01 | 1.64e-08 | 8.02e-11 |\n",
            "|  933  | 80960 | 3432  | +1.4210e-02 | 1.47e-01 | 1.63e-08 | 7.59e-11 |\n",
            "|  934  | 81048 | 3436  | +1.4210e-02 | 1.47e-01 | 1.62e-08 | 7.69e-11 |\n",
            "|  935  | 81136 | 3440  | +1.4210e-02 | 1.47e-01 | 1.61e-08 | 7.82e-11 |\n",
            "|  936  | 81224 | 3443  | +1.4210e-02 | 1.47e-01 | 1.60e-08 | 3.14e-11 |\n",
            "|  937  | 81312 | 3447  | +1.4210e-02 | 1.47e-01 | 1.59e-08 | 7.29e-11 |\n",
            "|  938  | 81400 | 3451  | +1.4210e-02 | 1.47e-01 | 1.58e-08 | 7.22e-11 |\n",
            "|  939  | 81488 | 3455  | +1.4210e-02 | 1.47e-01 | 1.58e-08 | 1.68e-10 |\n",
            "|  940  | 81576 | 3458  | +1.4210e-02 | 1.47e-01 | 1.57e-08 | 9.42e-11 |\n",
            "|  941  | 81664 | 3461  | +1.4210e-02 | 1.47e-01 | 1.56e-08 | 5.58e-11 |\n",
            "|  942  | 81752 | 3464  | +1.4210e-02 | 1.47e-01 | 1.55e-08 | 5.02e-11 |\n",
            "|  943  | 81840 | 3468  | +1.4210e-02 | 1.47e-01 | 1.55e-08 | 1.20e-10 |\n",
            "|  944  | 81928 | 3472  | +1.4210e-02 | 1.47e-01 | 1.54e-08 | 5.14e-10 |\n",
            "|  945  | 82016 | 3476  | +1.4210e-02 | 1.47e-01 | 1.54e-08 | 5.40e-10 |\n",
            "|  946  | 82104 | 3480  | +1.4210e-02 | 1.47e-01 | 1.53e-08 | 4.92e-10 |\n",
            "|  947  | 82192 | 3484  | +1.4210e-02 | 1.47e-01 | 1.53e-08 | 5.30e-10 |\n",
            "|  948  | 82280 | 3487  | +1.4210e-02 | 1.47e-01 | 1.52e-08 | 4.19e-11 |\n",
            "|  949  | 82368 | 3491  | +1.4210e-02 | 1.47e-01 | 1.51e-08 | 5.93e-11 |\n",
            "|  950  | 82456 | 3494  | +1.4210e-02 | 1.47e-01 | 1.50e-08 | 4.17e-11 |\n",
            "|  951  | 82544 | 3498  | +1.4210e-02 | 1.47e-01 | 1.50e-08 | 1.08e-10 |\n",
            "|  952  | 82632 | 3503  | +1.4210e-02 | 1.47e-02 | 1.50e-08 | 1.08e-10 |\n",
            "|  953  | 82720 | 3508  | +1.4210e-02 | 1.47e-03 | 1.50e-08 | 1.08e-10 |\n",
            "|  954  | 82808 | 3510  | +1.4210e-02 | 1.03e-02 | 1.49e-08 | 7.39e-13 |\n",
            "|  955  | 82896 | 3515  | +1.4210e-02 | 2.05e-02 | 1.49e-08 | 1.06e-09 |\n",
            "|  956  | 82984 | 3518  | +1.4210e-02 | 3.20e-02 | 1.49e-08 | 5.11e-11 |\n",
            "|  957  | 83072 | 3522  | +1.4210e-02 | 4.43e-02 | 1.48e-08 | 9.72e-11 |\n",
            "|  958  | 83160 | 3526  | +1.4210e-02 | 4.54e-02 | 1.47e-08 | 1.46e-10 |\n",
            "|  959  | 83248 | 3530  | +1.4210e-02 | 4.55e-02 | 1.47e-08 | 1.47e-10 |\n",
            "|  960  | 83336 | 3534  | +1.4210e-02 | 4.55e-02 | 1.46e-08 | 8.31e-11 |\n",
            "|  961  | 83424 | 3538  | +1.4210e-02 | 4.72e-02 | 1.46e-08 | 1.15e-10 |\n",
            "|  962  | 83512 | 3542  | +1.4210e-02 | 4.98e-02 | 1.45e-08 | 1.40e-10 |\n",
            "|  963  | 83600 | 3546  | +1.4210e-02 | 5.15e-02 | 1.45e-08 | 1.19e-10 |\n",
            "|  964  | 83688 | 3550  | +1.4210e-02 | 5.15e-02 | 1.44e-08 | 1.04e-10 |\n",
            "|  965  | 83776 | 3554  | +1.4210e-02 | 5.39e-02 | 1.43e-08 | 2.32e-10 |\n",
            "|  966  | 83864 | 3558  | +1.4210e-02 | 6.46e-02 | 1.43e-08 | 3.73e-10 |\n",
            "|  967  | 83952 | 3562  | +1.4210e-02 | 6.46e-02 | 1.42e-08 | 8.20e-11 |\n",
            "|  968  | 84040 | 3565  | +1.4210e-02 | 6.46e-02 | 1.42e-08 | 2.35e-11 |\n",
            "|  969  | 84128 | 3569  | +1.4210e-02 | 6.46e-02 | 1.41e-08 | 1.42e-10 |\n",
            "|  970  | 84216 | 3573  | +1.4210e-02 | 6.46e-02 | 1.41e-08 | 1.38e-10 |\n",
            "|  971  | 84304 | 3577  | +1.4210e-02 | 6.46e-02 | 1.40e-08 | 1.33e-10 |\n",
            "|  972  | 84392 | 3581  | +1.4210e-02 | 6.46e-02 | 1.39e-08 | 9.50e-11 |\n",
            "|  973  | 84480 | 3585  | +1.4210e-02 | 6.46e-02 | 1.39e-08 | 9.58e-11 |\n",
            "|  974  | 84568 | 3589  | +1.4210e-02 | 6.46e-02 | 1.38e-08 | 1.01e-10 |\n",
            "|  975  | 84656 | 3593  | +1.4210e-02 | 6.46e-02 | 1.38e-08 | 4.76e-10 |\n",
            "|  976  | 84744 | 3597  | +1.4210e-02 | 6.46e-02 | 1.37e-08 | 4.95e-10 |\n",
            "|  977  | 84832 | 3601  | +1.4210e-02 | 6.46e-02 | 1.36e-08 | 4.67e-10 |\n",
            "|  978  | 84920 | 3605  | +1.4210e-02 | 6.46e-02 | 1.36e-08 | 2.12e-10 |\n",
            "|  979  | 85008 | 3609  | +1.4210e-02 | 6.46e-02 | 1.35e-08 | 2.10e-10 |\n",
            "|  980  | 85096 | 3613  | +1.4210e-02 | 6.46e-02 | 1.34e-08 | 1.88e-10 |\n",
            "|  981  | 85184 | 3616  | +1.4210e-02 | 6.46e-02 | 1.34e-08 | 1.26e-09 |\n",
            "|  982  | 85272 | 3619  | +1.4210e-02 | 8.02e-02 | 1.34e-08 | 3.53e-10 |\n",
            "|  983  | 85360 | 3623  | +1.4210e-02 | 8.02e-02 | 1.33e-08 | 6.40e-10 |\n",
            "|  984  | 85448 | 3627  | +1.4210e-02 | 8.02e-02 | 1.32e-08 | 6.50e-10 |\n",
            "|  985  | 85536 | 3632  | +1.4210e-02 | 8.02e-02 | 1.32e-08 | 1.79e-09 |\n",
            "|  986  | 85624 | 3636  | +1.4210e-02 | 1.01e-01 | 1.32e-08 | 8.47e-10 |\n",
            "|  987  | 85712 | 3640  | +1.4210e-02 | 1.01e-01 | 1.32e-08 | 8.34e-10 |\n",
            "|  988  | 85800 | 3644  | +1.4210e-02 | 1.01e-01 | 1.31e-08 | 8.16e-10 |\n",
            "|  989  | 85888 | 3646  | +1.4210e-02 | 1.01e-01 | 1.31e-08 | 7.67e-13 |\n",
            "|  990  | 85976 | 3650  | +1.4210e-02 | 1.01e-01 | 1.30e-08 | 7.73e-10 |\n",
            "|  991  | 86064 | 3653  | +1.4210e-02 | 1.01e-01 | 1.30e-08 | 2.83e-10 |\n",
            "|  992  | 86152 | 3657  | +1.4210e-02 | 1.01e-01 | 1.29e-08 | 6.01e-10 |\n",
            "|  993  | 86240 | 3661  | +1.4210e-02 | 1.01e-01 | 1.29e-08 | 6.14e-10 |\n",
            "|  994  | 86328 | 3665  | +1.4210e-02 | 1.01e-01 | 1.28e-08 | 5.78e-10 |\n",
            "|  995  | 86416 | 3669  | +1.4210e-02 | 1.01e-01 | 1.27e-08 | 6.09e-11 |\n",
            "|  996  | 86504 | 3673  | +1.4210e-02 | 1.01e-01 | 1.27e-08 | 1.19e-10 |\n",
            "|  997  | 86592 | 3677  | +1.4210e-02 | 1.01e-01 | 1.26e-08 | 1.25e-10 |\n",
            "|  998  | 86680 | 3681  | +1.4210e-02 | 1.03e-01 | 1.26e-08 | 4.68e-10 |\n",
            "|  999  | 86768 | 3684  | +1.4210e-02 | 1.03e-01 | 1.26e-08 | 3.52e-12 |\n",
            "| 1000  | 86856 | 3687  | +1.4210e-02 | 1.03e-01 | 1.25e-08 | 7.30e-11 |\n",
            "| 1001  | 86944 | 3690  | +1.4210e-02 | 1.03e-01 | 1.25e-08 | 7.62e-11 |\n",
            "\n",
            "The maximum number of function evaluations is exceeded.\n",
            "Number of iterations: 1001, function evaluations: 86944, CG iterations: 3690, optimality: 1.25e-08, constraint violation: 7.62e-11, execution time: 1.3e+02 s.\n",
            "[0.6937589  0.39710685 0.38079872 0.09508869 0.38749328 0.92440825\n",
            " 0.32568965 0.73835474 0.57089733 0.98392269 0.11047157 0.61011301\n",
            " 0.29183507 0.16850569 0.6286909  0.90892888 0.72128304 0.38786629\n",
            " 0.24411311 0.14149964 0.85093151 0.27490448 0.76497052 0.43555579\n",
            " 0.1865996  0.14656669 0.2052343  0.26125045 0.22852314 0.29421315\n",
            " 0.12043902 0.55724846 0.3330097  0.60548584 0.33509631 0.27826029\n",
            " 1.03945762 1.50497781 0.97469482 0.77274945 1.09432406 0.84541331\n",
            " 0.62940903]\n",
            "定常分布pi = [3.04747544e-06 3.06552161e-02 1.09728724e-02 5.50733286e-04\n",
            " 5.14322969e-03 5.85055824e-05 2.24831101e-03 7.97926931e-04\n",
            " 1.72260627e-05 7.05804021e-04 9.54345986e-05 2.30590126e-04\n",
            " 1.22369158e-03 3.23571414e-03 5.36269438e-05 2.12827041e-05\n",
            " 1.41168108e-04 2.51736090e-03 2.00878612e-03 6.63038726e-03\n",
            " 3.81563983e-04 4.41361111e-03 2.18503243e-03 4.29753869e-04\n",
            " 1.07633531e-03 6.60364094e-04 1.02647135e-03 3.00331205e-03\n",
            " 7.29269526e-04 1.00507268e-03 1.61084632e-03 1.17448479e-03\n",
            " 1.08025642e-04 8.04250516e-04 1.24378159e-03 6.27634208e-04\n",
            " 9.88333264e-05 9.87773819e-07 1.25124869e-01 2.85821055e-04\n",
            " 5.39845886e-04 4.01727412e-04 7.85757191e-01]\n",
            "目的間数値(最終) : 0.014209748308066586\n"
          ]
        }
      ]
    },
    {
      "cell_type": "markdown",
      "metadata": {
        "id": "VWlMnDTpDyfb"
      },
      "source": [
        "## 浜名湖ガーデンパークの滞在率を最適化して混雑を改善する\n",
        "33拠点, クラス1, 網内人数500人 で実施する"
      ]
    },
    {
      "cell_type": "code",
      "metadata": {
        "id": "0NmaUk4vaYhe"
      },
      "source": [
        "#推移確率行列、サービス率の設定\n",
        "N = 33\n",
        "mu = np.ones(N)\n",
        "T = sum(1 / mu) #平均滞在時間の和 (等式制約で利用)\n",
        "gamma = 0.25 #最適化でのmuの動く率"
      ],
      "execution_count": 39,
      "outputs": []
    },
    {
      "cell_type": "code",
      "metadata": {
        "colab": {
          "base_uri": "https://localhost:8080/"
        },
        "id": "WeHF_f77coIE",
        "outputId": "170ac47c-8b83-430d-d7c3-cdad31466333"
      },
      "source": [
        "from google.colab import drive\n",
        "drive.mount('/content/drive', force_remount=True)"
      ],
      "execution_count": 40,
      "outputs": [
        {
          "output_type": "stream",
          "name": "stdout",
          "text": [
            "Mounted at /content/drive\n"
          ]
        }
      ]
    },
    {
      "cell_type": "code",
      "metadata": {
        "id": "oXPDvqXhEnLY"
      },
      "source": [
        "import pandas as pd\n",
        "import matplotlib.pyplot as plt"
      ],
      "execution_count": 41,
      "outputs": []
    },
    {
      "cell_type": "code",
      "metadata": {
        "colab": {
          "base_uri": "https://localhost:8080/"
        },
        "id": "5ekhs1bmdJ0I",
        "outputId": "4d31515a-110c-4713-a54b-363bf0f42ad3"
      },
      "source": [
        "p = pd.read_csv('/content/drive/MyDrive/研究/BCMP/csv/transition33.csv')\n",
        "p = p.iloc[:N, :N] #今回は最初のクラスのみ利用\n",
        "p = np.array(p)\n",
        "p"
      ],
      "execution_count": 42,
      "outputs": [
        {
          "output_type": "execute_result",
          "data": {
            "text/plain": [
              "array([[0.   , 0.047, 0.046, ..., 0.035, 0.038, 0.018],\n",
              "       [0.042, 0.   , 0.05 , ..., 0.033, 0.037, 0.017],\n",
              "       [0.037, 0.045, 0.   , ..., 0.031, 0.034, 0.015],\n",
              "       ...,\n",
              "       [0.016, 0.017, 0.017, ..., 0.   , 0.084, 0.06 ],\n",
              "       [0.016, 0.017, 0.017, ..., 0.076, 0.   , 0.037],\n",
              "       [0.016, 0.017, 0.017, ..., 0.119, 0.081, 0.   ]])"
            ]
          },
          "metadata": {},
          "execution_count": 42
        }
      ]
    },
    {
      "cell_type": "code",
      "metadata": {
        "colab": {
          "base_uri": "https://localhost:8080/"
        },
        "id": "5QVh6n_IdctV",
        "outputId": "583163f8-f7c5-4b8c-a3ad-f69bbb87435b"
      },
      "source": [
        "#推移率行列を作成\n",
        "q = getTransitionRate(p, mu)\n",
        "q"
      ],
      "execution_count": 43,
      "outputs": [
        {
          "output_type": "execute_result",
          "data": {
            "text/plain": [
              "array([[-1.001,  0.047,  0.046, ...,  0.035,  0.038,  0.018],\n",
              "       [ 0.042, -0.999,  0.05 , ...,  0.033,  0.037,  0.017],\n",
              "       [ 0.037,  0.045, -1.003, ...,  0.031,  0.034,  0.015],\n",
              "       ...,\n",
              "       [ 0.016,  0.017,  0.017, ..., -0.996,  0.084,  0.06 ],\n",
              "       [ 0.016,  0.017,  0.017, ...,  0.076, -1.001,  0.037],\n",
              "       [ 0.016,  0.017,  0.017, ...,  0.119,  0.081, -1.001]])"
            ]
          },
          "metadata": {},
          "execution_count": 43
        }
      ]
    },
    {
      "cell_type": "code",
      "metadata": {
        "colab": {
          "base_uri": "https://localhost:8080/"
        },
        "id": "6L_y54PUgLAj",
        "outputId": "1ccf5291-6522-4341-d5f0-68ac5468ddcd"
      },
      "source": [
        "#推移確率から定常分布を求める\n",
        "pi = getStationary_solve(q)\n",
        "print(pi)\n",
        "np.sum(pi)"
      ],
      "execution_count": 44,
      "outputs": [
        {
          "output_type": "stream",
          "name": "stdout",
          "text": [
            "[0.01933797 0.0215444  0.02380094 0.02448347 0.02502658 0.02648525\n",
            " 0.02766109 0.05184957 0.02679539 0.02739965 0.02901152 0.02832282\n",
            " 0.02722483 0.05467196 0.0287907  0.02842202 0.02910552 0.02679775\n",
            " 0.0556468  0.02931604 0.02692018 0.02940556 0.02556521 0.02300526\n",
            " 0.05023485 0.02653398 0.0259687  0.02366611 0.02326739 0.02390243\n",
            " 0.0420844  0.04656493 0.02118675]\n"
          ]
        },
        {
          "output_type": "execute_result",
          "data": {
            "text/plain": [
              "0.9999999999999997"
            ]
          },
          "metadata": {},
          "execution_count": 44
        }
      ]
    },
    {
      "cell_type": "code",
      "metadata": {
        "colab": {
          "base_uri": "https://localhost:8080/",
          "height": 638
        },
        "id": "2ZjIiyrxoPXd",
        "outputId": "ce60f924-abd4-4159-a842-87eb28d0b937"
      },
      "source": [
        "#初期状態での定常分布\n",
        "x_label = [i for i in range(N)]\n",
        "plt.figure(figsize=(10,10))\n",
        "plt.title('Stationary Distribution using initial values')\n",
        "plt.xlabel('Node Number')\n",
        "plt.ylabel('Probability')\n",
        "plt.bar(x_label, pi)"
      ],
      "execution_count": 45,
      "outputs": [
        {
          "output_type": "execute_result",
          "data": {
            "text/plain": [
              "<BarContainer object of 33 artists>"
            ]
          },
          "metadata": {},
          "execution_count": 45
        },
        {
          "output_type": "display_data",
          "data": {
            "image/png": "[encoded data removed]",
            "text/plain": [
              "<Figure size 720x720 with 1 Axes>"
            ]
          },
          "metadata": {
            "needs_background": "light"
          }
        }
      ]
    },
    {
      "cell_type": "code",
      "metadata": {
        "colab": {
          "base_uri": "https://localhost:8080/"
        },
        "id": "ZZL9CwTXgm2q",
        "outputId": "927b90c7-9146-4836-fdee-5544e7354829"
      },
      "source": [
        "#目的間数値を求める\n",
        "getObjective(pi)"
      ],
      "execution_count": 46,
      "outputs": [
        {
          "output_type": "execute_result",
          "data": {
            "text/plain": [
              "9.752442244352505e-05"
            ]
          },
          "metadata": {},
          "execution_count": 46
        }
      ]
    },
    {
      "cell_type": "code",
      "metadata": {
        "id": "aD8R86_liYvk"
      },
      "source": [
        "#等式制約\n",
        "cons = ({'type':'eq','fun':getConstraint})\n",
        "#bounds\n",
        "lb = mu * (1 - gamma)\n",
        "ub = mu * (1 + gamma)\n",
        "#bounds = [(3,5), (5.625,9.375), (2.25,3.75), (7.5, 12.5)]\n",
        "#Boundsクラスを利用して、bounds=Bounds(lb, ub),とする"
      ],
      "execution_count": 47,
      "outputs": []
    },
    {
      "cell_type": "code",
      "metadata": {
        "colab": {
          "base_uri": "https://localhost:8080/"
        },
        "id": "6FPrN6IVg2Kp",
        "outputId": "4d45fa9b-9ce7-4bb2-ca6e-93fa46cf3961"
      },
      "source": [
        "# 最適化\n",
        "res = minimize(getOptimize,             # 目的関数, \n",
        "                mu,                     # 初期解,\n",
        "                method=\"trust-constr\",  # 制約付き信頼領域法\n",
        "                jac=\"2-point\",          # 勾配関数\n",
        "                hess=BFGS(),            # ヘシアンの推定方法\n",
        "                constraints=cons,      # 制約\n",
        "                bounds=Bounds(lb, ub),\n",
        "                options={\"maxiter\": 50, # 最大反復数\n",
        "                         \"verbose\":2})  # 最適化の過程を出力\n",
        "print('説明変数μ = {0}'.format(res[\"x\"]))\n",
        "#最終結果\n",
        "q = getTransitionRate(p, res['x'])\n",
        "pi = getStationary_solve(q)\n",
        "val = getObjective(pi)\n",
        "print('定常分布pi = {0}'.format(pi))\n",
        "print('目的間数値(最終) : {0}'.format(val))"
      ],
      "execution_count": 48,
      "outputs": [
        {
          "output_type": "stream",
          "name": "stdout",
          "text": [
            "| niter |f evals|CG iter|  obj func   |tr radius |   opt    |  c viol  |\n",
            "|-------|-------|-------|-------------|----------|----------|----------|\n",
            "|   1   |  34   |   0   | +9.7524e-05 | 1.00e+00 | 2.49e-05 | 0.00e+00 |\n",
            "|   2   |  68   |   1   | +9.7515e-05 | 5.60e+00 | 1.93e-05 | 3.97e-09 |\n",
            "|   3   |  102  |   2   | +9.7473e-05 | 8.08e+00 | 8.98e-06 | 8.30e-08 |\n",
            "|   4   |  136  |   3   | +9.7536e-05 | 8.08e+00 | 6.19e-06 | 1.84e-07 |\n",
            "|   5   |  136  |   3   | +9.7536e-05 | 4.04e+01 | 3.05e-06 | 1.84e-07 |\n",
            "|   6   |  136  |   3   | +9.7536e-05 | 2.02e+02 | 2.42e-06 | 1.84e-07 |\n",
            "|   7   |  136  |   3   | +9.7536e-05 | 1.01e+03 | 2.29e-06 | 1.84e-07 |\n",
            "|   8   |  136  |   3   | +9.7536e-05 | 5.05e+03 | 2.27e-06 | 1.84e-07 |\n",
            "|   9   |  136  |   3   | +9.7536e-05 | 2.53e+04 | 2.26e-06 | 1.84e-07 |\n",
            "|  10   |  136  |   3   | +9.7536e-05 | 1.26e+05 | 2.26e-06 | 1.84e-07 |\n",
            "|  11   |  204  |   4   | +9.7536e-05 | 1.26e+04 | 2.26e-06 | 1.84e-07 |\n",
            "|  12   |  272  |   5   | +9.7536e-05 | 1.26e+03 | 2.26e-06 | 1.84e-07 |\n",
            "|  13   |  340  |   6   | +9.7536e-05 | 1.26e+02 | 2.26e-06 | 1.84e-07 |\n",
            "|  14   |  408  |   7   | +9.7536e-05 | 1.26e+01 | 2.26e-06 | 1.84e-07 |\n",
            "|  15   |  476  |   8   | +9.7536e-05 | 1.26e+00 | 2.26e-06 | 1.84e-07 |\n",
            "|  16   |  544  |   9   | +9.7536e-05 | 1.26e-01 | 2.26e-06 | 1.84e-07 |\n",
            "|  17   |  612  |  10   | +9.4323e-05 | 8.84e-01 | 2.10e-06 | 1.37e-08 |\n",
            "|  18   |  680  |  11   | +9.4323e-05 | 8.84e-02 | 2.10e-06 | 1.37e-08 |\n",
            "|  19   |  748  |  12   | +9.2136e-05 | 6.19e-01 | 1.98e-06 | 1.83e-08 |\n",
            "|  20   |  816  |  13   | +9.2136e-05 | 6.19e-02 | 1.98e-06 | 1.83e-08 |\n",
            "|  21   |  884  |  14   | +9.0637e-05 | 4.33e-01 | 1.89e-06 | 9.77e-09 |\n",
            "|  22   |  952  |  15   | +8.0775e-05 | 8.66e-01 | 1.23e-06 | 5.44e-06 |\n",
            "|  23   | 1020  |  16   | +8.0775e-05 | 8.66e-02 | 1.23e-06 | 5.44e-06 |\n",
            "|  24   | 1088  |  17   | +7.9004e-05 | 6.06e-01 | 1.11e-06 | 7.87e-08 |\n",
            "|  25   | 1088  |  17   | +7.9004e-05 | 3.03e+00 | 1.41e-06 | 7.87e-08 |\n",
            "|  26   | 1156  |  18   | +7.9004e-05 | 3.03e-01 | 1.41e-06 | 7.87e-08 |\n",
            "|  27   | 1224  |  19   | +7.3142e-05 | 6.06e-01 | 1.08e-06 | 3.72e-06 |\n",
            "|  28   | 1292  |  20   | +7.3142e-05 | 6.06e-02 | 1.08e-06 | 3.72e-06 |\n",
            "|  29   | 1360  |  21   | +7.2077e-05 | 4.25e-01 | 1.02e-06 | 3.32e-08 |\n",
            "|  30   | 1428  |  22   | +7.2077e-05 | 4.25e-02 | 1.02e-06 | 3.32e-08 |\n",
            "|  31   | 1496  |  23   | +7.1349e-05 | 2.97e-01 | 9.84e-07 | 1.15e-08 |\n",
            "|  32   | 1564  |  24   | +6.6465e-05 | 2.97e-01 | 7.40e-07 | 4.00e-06 |\n",
            "|  33   | 1632  |  25   | +6.2170e-05 | 5.94e-01 | 5.69e-07 | 3.90e-06 |\n",
            "|  34   | 1700  |  26   | +6.2170e-05 | 5.94e-02 | 5.69e-07 | 3.90e-06 |\n",
            "|  35   | 1768  |  27   | +6.1403e-05 | 4.16e-01 | 5.40e-07 | 2.86e-08 |\n",
            "|  36   | 1836  |  28   | +6.1403e-05 | 4.16e-02 | 5.40e-07 | 2.86e-08 |\n",
            "|  37   | 1904  |  29   | +6.0879e-05 | 2.91e-01 | 5.20e-07 | 9.59e-09 |\n",
            "|  38   | 1972  |  30   | +6.0879e-05 | 2.91e-02 | 5.20e-07 | 9.59e-09 |\n",
            "|  39   | 2040  |  31   | +6.0519e-05 | 2.04e-01 | 5.07e-07 | 3.24e-09 |\n",
            "|  40   | 2108  |  32   | +5.8063e-05 | 4.08e-01 | 4.28e-07 | 1.10e-06 |\n",
            "|  41   | 2176  |  33   | +5.8063e-05 | 4.08e-02 | 4.28e-07 | 1.10e-06 |\n",
            "|  42   | 2244  |  34   | +5.7610e-05 | 2.85e-01 | 4.14e-07 | 8.03e-09 |\n",
            "|  43   | 2312  |  35   | +5.7610e-05 | 2.85e-02 | 4.14e-07 | 8.03e-09 |\n",
            "|  44   | 2380  |  36   | +5.7297e-05 | 2.00e-01 | 4.04e-07 | 2.70e-09 |\n",
            "|  45   | 2448  |  37   | +5.5168e-05 | 4.00e-01 | 3.37e-07 | 9.16e-07 |\n",
            "|  46   | 2516  |  38   | +5.5168e-05 | 4.00e-02 | 3.37e-07 | 9.16e-07 |\n",
            "|  47   | 2584  |  39   | +5.4774e-05 | 2.80e-01 | 3.25e-07 | 6.64e-09 |\n",
            "|  48   | 2652  |  40   | +5.4774e-05 | 2.80e-02 | 3.25e-07 | 6.64e-09 |\n",
            "|  49   | 2720  |  41   | +5.4503e-05 | 1.96e-01 | 3.17e-07 | 2.23e-09 |\n",
            "|  50   | 2788  |  42   | +5.2652e-05 | 3.92e-01 | 2.69e-07 | 7.56e-07 |\n",
            "|  51   | 2856  |  43   | +5.2652e-05 | 3.92e-02 | 2.69e-07 | 7.56e-07 |\n",
            "\n",
            "The maximum number of function evaluations is exceeded.\n",
            "Number of iterations: 51, function evaluations: 2856, CG iterations: 43, optimality: 2.69e-07, constraint violation: 7.56e-07, execution time:  4.4 s.\n",
            "説明変数μ = [0.94246881 0.94930979 0.95935035 0.96297708 0.96605224 0.97510805\n",
            " 0.98319738 1.15399347 0.97717643 0.98134172 0.99325555 0.98803083\n",
            " 0.98011862 1.164875   0.99155991 0.98877167 0.99398294 0.97719235\n",
            " 1.16825422 0.99562387 0.97802217 0.99632648 0.96926361 0.9554643\n",
            " 1.14695095 0.97542983 0.97177201 0.95866577 0.95670346 0.95987267\n",
            " 1.10020382 1.12838289 0.94799912]\n",
            "定常分布pi = [0.02093585 0.02315651 0.02531416 0.02594201 0.02643307 0.02771392\n",
            " 0.02870617 0.04584463 0.0279791  0.02848862 0.02980274 0.02924911\n",
            " 0.02834217 0.04788858 0.02962647 0.02932957 0.02987742 0.02798111\n",
            " 0.04860148 0.03004392 0.0280851  0.03011441 0.02691251 0.0245674\n",
            " 0.04468965 0.02775575 0.02726669 0.02518873 0.02481516 0.02540827\n",
            " 0.03902965 0.0421065  0.02280358]\n",
            "目的間数値(最終) : 5.2651618633507486e-05\n"
          ]
        }
      ]
    },
    {
      "cell_type": "code",
      "metadata": {
        "colab": {
          "base_uri": "https://localhost:8080/",
          "height": 638
        },
        "id": "XOb1XDhvh4II",
        "outputId": "ceb69030-f223-433f-e81b-6f8aced0148c"
      },
      "source": [
        "#最適化後の定常分布\n",
        "x_label = [i for i in range(N)]\n",
        "plt.figure(figsize=(10,10))\n",
        "plt.title('Stationary Distribution using optimal values')\n",
        "plt.xlabel('Node Number')\n",
        "plt.ylabel('Probability')\n",
        "plt.bar(x_label, pi)"
      ],
      "execution_count": 49,
      "outputs": [
        {
          "output_type": "execute_result",
          "data": {
            "text/plain": [
              "<BarContainer object of 33 artists>"
            ]
          },
          "metadata": {},
          "execution_count": 49
        },
        {
          "output_type": "display_data",
          "data": {
            "image/png": "[encoded data removed]",
            "text/plain": [
              "<Figure size 720x720 with 1 Axes>"
            ]
          },
          "metadata": {
            "needs_background": "light"
          }
        }
      ]
    },
    {
      "cell_type": "code",
      "metadata": {
        "colab": {
          "base_uri": "https://localhost:8080/",
          "height": 638
        },
        "id": "kh2U8RdOtcmZ",
        "outputId": "3d13bd1e-de81-4b7b-d278-a77c3f8d0bc0"
      },
      "source": [
        "#最適化後の滞在率グラフ\n",
        "x_label = [i for i in range(N)]\n",
        "plt.figure(figsize=(10,10))\n",
        "plt.title('value of a in each node')\n",
        "plt.xlabel('Node Number')\n",
        "plt.ylabel('value of a')\n",
        "plt.bar(x_label, res['x'])"
      ],
      "execution_count": 50,
      "outputs": [
        {
          "output_type": "execute_result",
          "data": {
            "text/plain": [
              "<BarContainer object of 33 artists>"
            ]
          },
          "metadata": {},
          "execution_count": 50
        },
        {
          "output_type": "display_data",
          "data": {
            "image/png": "[encoded data removed]",
            "text/plain": [
              "<Figure size 720x720 with 1 Axes>"
            ]
          },
          "metadata": {
            "needs_background": "light"
          }
        }
      ]
    },
    {
      "cell_type": "code",
      "metadata": {
        "colab": {
          "base_uri": "https://localhost:8080/"
        },
        "id": "J2XnQg1Ft1iD",
        "outputId": "bc3e3043-bd6e-466b-bb29-7ae360eb3053"
      },
      "source": [
        "#滞在率の平均\n",
        "sum(res['x']) / len(res['x'])"
      ],
      "execution_count": 51,
      "outputs": [
        {
          "output_type": "execute_result",
          "data": {
            "text/plain": [
              "1.0041726467915684"
            ]
          },
          "metadata": {},
          "execution_count": 51
        }
      ]
    },
    {
      "cell_type": "markdown",
      "metadata": {
        "id": "UPbKR56V6NVy"
      },
      "source": [
        "### 定常分布の最適化の結果を待ち行列(BCMP)としてみてみる\n",
        "連続時間型マルコフ連鎖をそのまま待ち行列に持っていくのは、推移率と推移確率の作り方で少しギャップがある。参考程度とする。  \n",
        "\n",
        "N = 33, R = 1, K = 500  \n",
        "パラメタ：サービス率(上記の結果を利用)  \n",
        "\n",
        "\\begin{equation}\n",
        " D = \\sum^K_{n=1}(|L_n-CP_n|+PT_n*I(\\bar{A_n}))\n",
        "\\end{equation}\n",
        "\n",
        "$L_n$: 拠点$n$における平均系内人数，$L_n = \\sum_{r=1}^R L_{n,r} $  \n",
        "$CP_n$: 拠点$n$における最大収容客数  \n",
        "$PT_n$: 拠点$n$におけるペナルティ値  \n",
        "$A_n$: 拠点$n$で安定が保たれている状態  \n",
        "$I(A_n)$: 事象$A_n$に対する指示関数 \n",
        "\n",
        "結果より  \n",
        "ペナルティの値がBCMPでは影響が大きく、K * 0.1では目的関数値が逆に大きくなってしまった。このとき$\\gamma$の値を0.5まであげたが、目的関数が元の値より下がらなかった。ペナルティをK * 0.05まで下げたら目的間数が元の値より下回った。\n"
      ]
    },
    {
      "cell_type": "code",
      "metadata": {
        "colab": {
          "base_uri": "https://localhost:8080/"
        },
        "id": "9OkmZ9Lc7ROB",
        "outputId": "c008761a-486a-46a9-9f1d-8ffed5043fda"
      },
      "source": [
        "#理論値の取り込み (最適化前)\n",
        "path = '/content/drive/MyDrive/研究/BCMP'\n",
        "theoretical = pd.read_csv(path +'/csv/Theoretical33_K500_R1.csv')\n",
        "N = 33\n",
        "R = 1\n",
        "K = [500]\n",
        "K_total = 500\n",
        "theoretical = np.array(theoretical) #numpy形式に変換\n",
        "theoretical"
      ],
      "execution_count": 52,
      "outputs": [
        {
          "output_type": "execute_result",
          "data": {
            "text/plain": [
              "array([[  0.53302896],\n",
              "       [  0.63099924],\n",
              "       [  0.7513782 ],\n",
              "       [  0.79128012],\n",
              "       [  0.81464212],\n",
              "       [  0.91015121],\n",
              "       [  0.98848987],\n",
              "       [ 13.66139811],\n",
              "       [  0.93042897],\n",
              "       [  0.96815144],\n",
              "       [  1.08693283],\n",
              "       [  1.03449082],\n",
              "       [  0.95427038],\n",
              "       [ 48.41505181],\n",
              "       [  1.07191611],\n",
              "       [  1.04794388],\n",
              "       [  1.094384  ],\n",
              "       [  0.93064907],\n",
              "       [396.5084686 ],\n",
              "       [  1.1089108 ],\n",
              "       [  0.93712643],\n",
              "       [  1.12284333],\n",
              "       [  0.84850507],\n",
              "       [  0.70610036],\n",
              "       [  9.30116624],\n",
              "       [  0.90993801],\n",
              "       [  0.88173076],\n",
              "       [  0.74523001],\n",
              "       [  0.72008531],\n",
              "       [  0.75433664],\n",
              "       [  3.05955881],\n",
              "       [  5.16459673],\n",
              "       [  0.61581572]])"
            ]
          },
          "metadata": {},
          "execution_count": 52
        }
      ]
    },
    {
      "cell_type": "code",
      "metadata": {
        "id": "30z9QXQOBsNK"
      },
      "source": [
        "capacity = np.full(N, K_total // N + 1) #各拠点のキャパ：今は平均\n",
        "pnenalty = np.full(N , K_total * 0.05) #ペナルティ値は網内人数の5%としてみる"
      ],
      "execution_count": 53,
      "outputs": []
    },
    {
      "cell_type": "code",
      "metadata": {
        "id": "Rqq-49oFCabZ"
      },
      "source": [
        "def getObjective(l, capacity, pnenalty):\n",
        "  sum = 0\n",
        "  cnt = 0\n",
        "  for i in range(len(l)):\n",
        "    sum += np.abs(l[i] - capacity[i])\n",
        "    if l[i] > capacity[i]:\n",
        "      sum += pnenalty[i]\n",
        "      cnt += 1\n",
        "  return sum, cnt"
      ],
      "execution_count": 54,
      "outputs": []
    },
    {
      "cell_type": "code",
      "metadata": {
        "colab": {
          "base_uri": "https://localhost:8080/"
        },
        "id": "vJ7b8jDuGExg",
        "outputId": "44679fa5-26ad-4c74-c15b-f36df067cb94"
      },
      "source": [
        "#最適化前の目的間数値\n",
        "getObjective(theoretical, capacity, pnenalty)"
      ],
      "execution_count": 55,
      "outputs": [
        {
          "output_type": "execute_result",
          "data": {
            "text/plain": [
              "(array([903.84704086]), 2)"
            ]
          },
          "metadata": {},
          "execution_count": 55
        }
      ]
    },
    {
      "cell_type": "code",
      "metadata": {
        "id": "1ILr2_2OGZ0X"
      },
      "source": [
        "#パラメタ設定\n",
        "mu = np.array(res['x']).reshape(R, N)\n",
        "type_list = np.full(N, 1) #サービスタイプはFCFS\n",
        "m = np.full(N, 1) #今回は窓口数1(複数窓口は実装できていない)"
      ],
      "execution_count": 56,
      "outputs": []
    },
    {
      "cell_type": "code",
      "metadata": {
        "id": "Y0cCR5z0Lwm0"
      },
      "source": [
        "import sys\n",
        "sys.path.append('/content/drive/MyDrive/研究/BCMP/')\n",
        "import BCMP_MVA_Class as mdl\n",
        "bcmp = mdl.BCMP_MVA_Class(N, R, K, mu, type_list, p, m)"
      ],
      "execution_count": 57,
      "outputs": []
    },
    {
      "cell_type": "code",
      "metadata": {
        "colab": {
          "base_uri": "https://localhost:8080/"
        },
        "id": "7wu-zb3bI-_J",
        "outputId": "e5dba9d9-223b-4439-ad86-ba9370f22454"
      },
      "source": [
        "import time\n",
        "start = time.time()\n",
        "L = bcmp.getMVA()\n",
        "elapsed_time = time.time() - start\n",
        "print (\"calclation_time:{0}\".format(elapsed_time) + \"[sec]\")\n",
        "print('L = \\n{0}'.format(L))"
      ],
      "execution_count": 58,
      "outputs": [
        {
          "output_type": "stream",
          "name": "stdout",
          "text": [
            "calclation_time:0.6671206951141357[sec]\n",
            "L = \n",
            "[[  0.75743806]\n",
            " [  0.90877147]\n",
            " [  1.09397038]\n",
            " [  1.15471179]\n",
            " [  1.18763947]\n",
            " [  1.3302208 ]\n",
            " [  1.44299072]\n",
            " [ 16.63581592]\n",
            " [  1.35972739]\n",
            " [  1.41310424]\n",
            " [  1.5812157 ]\n",
            " [  1.50765337]\n",
            " [  1.39248844]\n",
            " [ 56.304825  ]\n",
            " [  1.56109142]\n",
            " [  1.52899011]\n",
            " [  1.59162012]\n",
            " [  1.36006831]\n",
            " [370.28101677]\n",
            " [  1.61088391]\n",
            " [  1.36890091]\n",
            " [  1.63297821]\n",
            " [  1.23841435]\n",
            " [  1.02443713]\n",
            " [ 11.45091109]\n",
            " [  1.32881905]\n",
            " [  1.28995577]\n",
            " [  1.08489782]\n",
            " [  1.04582353]\n",
            " [  1.09786955]\n",
            " [  4.00692942]\n",
            " [  6.54023287]\n",
            " [  0.88558694]]\n"
          ]
        }
      ]
    },
    {
      "cell_type": "code",
      "metadata": {
        "colab": {
          "base_uri": "https://localhost:8080/"
        },
        "id": "WhEwbYISPPf-",
        "outputId": "27113a15-fd9b-4e41-f099-67a78e54afd3"
      },
      "source": [
        "#最適化後の目的関数値\n",
        "getObjective(L, capacity, pnenalty)"
      ],
      "execution_count": 59,
      "outputs": [
        {
          "output_type": "execute_result",
          "data": {
            "text/plain": [
              "(array([893.44331536]), 3)"
            ]
          },
          "metadata": {},
          "execution_count": 59
        }
      ]
    },
    {
      "cell_type": "markdown",
      "metadata": {
        "id": "5anFaPKa6Xbr"
      },
      "source": [
        "## 実社会における施設内密集度評価のためのシミュレーション構築\n",
        "2021年度第3回(IOT通算第55回)研究会 2021年9月6日(月)\n",
        "\n",
        "閉鎖型BCMP待ち行列から得られる平均系内人数(MVAで算出)した結果を用いて算出した目的関数をサービス時間をパラメタとして最適化を行う。  \n",
        "->最適化がされないので、違う方法で実施する必要がある。"
      ]
    },
    {
      "cell_type": "code",
      "metadata": {
        "id": "FvcyJjwWQWux"
      },
      "source": [
        "path = '/content/drive/MyDrive/研究/BCMP'\n",
        "theoretical = pd.read_csv(path +'/csv/Theoretical33_K500.csv')\n",
        "\n",
        "N = 33 #33\n",
        "R = 2\n",
        "K_total = 100\n",
        "K = [(K_total + i) // R for i in range(R)] #クラス人数を自動的に配分する\n",
        "mu = np.full(N, 1) #サービス率を同じ値で生成(サービス率は調整が必要)\n",
        "type_list = np.full(N, 1) #サービスタイプはFCFS\n",
        "m = np.full(N, 1) #今回は窓口数1(複数窓口は実装できていない)\n",
        "p = pd.read_csv('/content/drive/MyDrive/研究/BCMP/csv/transition33.csv')\n",
        "capacity = np.full(N, K_total // N + 1) #各拠点のキャパ：今は平均\n",
        "pnenalty = np.full(N , K_total * 0.05) #ペナルティ値は網内人数の5%としてみる\n",
        "\n",
        "L_class = np.array(theoretical) #numpy形式に変換\n",
        "L = [] #クラスを拠点にまとめる\n",
        "for i in range(len(L_class)):\n",
        "  sum = 0\n",
        "  for j in range(len(L_class[i])):\n",
        "    sum += L_class[i,j]\n",
        "  L.append(sum)"
      ],
      "execution_count": 60,
      "outputs": []
    },
    {
      "cell_type": "code",
      "metadata": {
        "colab": {
          "base_uri": "https://localhost:8080/"
        },
        "id": "geYM1znwO44W",
        "outputId": "236936d3-e5e4-49b2-a4f0-9eb89250f871"
      },
      "source": [
        "#最適化前の目的間数値\n",
        "getObjective(L, capacity, pnenalty)"
      ],
      "execution_count": 61,
      "outputs": [
        {
          "output_type": "execute_result",
          "data": {
            "text/plain": [
              "(527.432045518, 10)"
            ]
          },
          "metadata": {},
          "execution_count": 61
        }
      ]
    },
    {
      "cell_type": "code",
      "metadata": {
        "id": "g6RXmtZegdYj"
      },
      "source": [
        "import sys\n",
        "sys.path.append('/content/drive/MyDrive/研究/BCMP/')\n",
        "import BCMP_MVA_FCFS as mdl"
      ],
      "execution_count": 62,
      "outputs": []
    },
    {
      "cell_type": "code",
      "metadata": {
        "id": "7s-3nEM-PMBj"
      },
      "source": [
        "def getOptimizeBCMP(mu):\n",
        "  # (1)MVAクラスのインスタンス生成\n",
        "  bcmp = mdl.BCMP_MVA_FCFS(N, R, K, mu, type_list, p, m)\n",
        "  # (2)平均系内人数を取得\n",
        "  L_class = bcmp.getMVA()\n",
        "  L = [] #クラスを拠点にまとめる\n",
        "  for i in range(len(L_class)):\n",
        "    sum = 0\n",
        "    for j in range(len(L_class[i])):\n",
        "      sum += L_class[i,j]\n",
        "    L.append(sum)\n",
        "  # (3)目的関数値を計算\n",
        "  value, cnt = getObjective(L, capacity, pnenalty)\n",
        "  # 現状を出力\n",
        "  print('current mu = {0}'.format(mu))\n",
        "  print('current Objective = {0}'.format(value))\n",
        "  return value"
      ],
      "execution_count": 63,
      "outputs": []
    },
    {
      "cell_type": "code",
      "metadata": {
        "id": "PkcDqkhgRr56"
      },
      "source": [
        "#等式制約\n",
        "cons = ({'type':'eq','fun':getConstraint})\n",
        "#bounds\n",
        "gamma = 0.5\n",
        "lb = mu * (1 - gamma)\n",
        "ub = mu * (1 + gamma)\n",
        "#bounds = [(3,5), (5.625,9.375), (2.25,3.75), (7.5, 12.5)]\n",
        "#Boundsクラスを利用して、bounds=Bounds(lb, ub),とする"
      ],
      "execution_count": 64,
      "outputs": []
    },
    {
      "cell_type": "code",
      "metadata": {
        "id": "x3w8tpixjEet"
      },
      "source": [
        "# 最適化 (muは一次元である必要がある)\n",
        "#res = minimize(getOptimizeBCMP,             # 目的関数, \n",
        "#                mu,                     # 初期解,\n",
        "#                method=\"trust-constr\",  # 制約付き信頼領域法\n",
        "#                jac=\"2-point\",          # 勾配関数\n",
        "#                hess=BFGS(),            # ヘシアンの推定方法\n",
        "#                constraints=cons,      # 制約\n",
        "#                bounds=Bounds(lb, ub),\n",
        "#                options={\"maxiter\": 50, # 最大反復数\n",
        "#                         \"verbose\":2})  # 最適化の過程を出力\n",
        "#print('説明変数μ = {0}'.format(res[\"x\"]))\n",
        "#最終結果\n",
        "#val = getOptimizeBCMP(res['x'])\n",
        "#print('目的間数値(最終) : {0}'.format(val))"
      ],
      "execution_count": 65,
      "outputs": []
    },
    {
      "cell_type": "code",
      "metadata": {
        "id": "IQ4SE2U1j2rF"
      },
      "source": [
        ""
      ],
      "execution_count": 65,
      "outputs": []
    }
  ]
}