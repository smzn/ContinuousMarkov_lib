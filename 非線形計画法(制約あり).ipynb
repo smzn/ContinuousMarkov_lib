{
  "nbformat": 4,
  "nbformat_minor": 0,
  "metadata": {
    "colab": {
      "name": "非線形計画法(制約あり).ipynb",
      "provenance": []
    },
    "kernelspec": {
      "name": "python3",
      "display_name": "Python 3"
    },
    "language_info": {
      "name": "python"
    }
  },
  "cells": [
    {
      "cell_type": "markdown",
      "metadata": {
        "id": "qtG1oavZt9l3"
      },
      "source": [
        "# 非線形計画法(制約あり)\n",
        "非線形計画の制約がある場合をやっていきます。制約も線形で表せる線形制約と線形で表せない非線形制約があります。  \n",
        "\n",
        "## Constrained minimization of multivariate scalar functions (minimize)\n",
        "https://docs.scipy.org/doc/scipy/reference/tutorial/optimize.html#constrained-minimization-of-multivariate-scalar-functions-minimize  \n",
        "https://docs.scipy.org/doc/scipy/reference/tutorial/optimize.html#trust-region-constrained-algorithm-method-trust-constr"
      ]
    },
    {
      "cell_type": "code",
      "metadata": {
        "id": "mty0C2FIw8KT"
      },
      "source": [
        "from scipy.optimize import minimize, BFGS, LinearConstraint, NonlinearConstraint, Bounds\n",
        "import numpy as np"
      ],
      "execution_count": 1,
      "outputs": []
    },
    {
      "cell_type": "markdown",
      "metadata": {
        "id": "CxBKDntJyfhF"
      },
      "source": [
        "### 例題1.1 １変数、線形制約\n",
        "わかりやすい数理計画法 (森北). \n",
        "P128 例6.1  \n",
        "minimize $f(x) = x^2 -2x$  \n",
        "subject to :  \n",
        "$g_1(x) = -x \\leq 0$  \n",
        "$g_2(x) = x - 2 \\leq 0$  \n",
        "\n",
        "$x \\geq 0$  \n",
        "$x \\leq 2$  \n",
        "\n",
        "$0 \\leq x \\leq 2$\n",
        "\n",
        "最適値は$x = 1$のとき、最小値-1"
      ]
    },
    {
      "cell_type": "code",
      "metadata": {
        "id": "m3Uw7Y1RyP-w"
      },
      "source": [
        "#目的関数\n",
        "def f1_1(x):\n",
        "    return x**2 -2 * x"
      ],
      "execution_count": 2,
      "outputs": []
    },
    {
      "cell_type": "code",
      "metadata": {
        "id": "F1fgxDFiyvj3"
      },
      "source": [
        "#線形制約\n",
        "A = np.array([1])\n",
        "lb = np.array([0])\n",
        "ub = np.array([2])\n",
        "linear_constraint = LinearConstraint(A, lb, ub)"
      ],
      "execution_count": 3,
      "outputs": []
    },
    {
      "cell_type": "code",
      "metadata": {
        "colab": {
          "base_uri": "https://localhost:8080/"
        },
        "id": "qzwoYb3EzCkC",
        "outputId": "fa107b23-12c8-40c7-9f98-2139ea82f0e7"
      },
      "source": [
        "x0 = np.array([0.5])\n",
        "res = minimize(f1_1, x0, method='trust-constr', jac=\"2-point\", hess=BFGS(),\n",
        "               constraints=[linear_constraint],\n",
        "               options={'verbose': 2})\n",
        "print(res.x)\n",
        "print('x = {0}のとき最小値 : {1}'.format(res.x[0],f1_1(res.x[0])))"
      ],
      "execution_count": 4,
      "outputs": [
        {
          "output_type": "stream",
          "name": "stdout",
          "text": [
            "| niter |f evals|CG iter|  obj func   |tr radius |   opt    |  c viol  |\n",
            "|-------|-------|-------|-------------|----------|----------|----------|\n",
            "|   1   |   2   |   0   | -7.5000e-01 | 1.00e+00 | 4.80e-01 | 0.00e+00 |\n",
            "|   2   |   4   |   1   | -9.5046e-01 | 2.00e+00 | 1.48e-01 | 0.00e+00 |\n",
            "|   3   |   6   |   2   | -9.9990e-01 | 2.71e+00 | 7.26e-03 | 0.00e+00 |\n",
            "|   4   |   6   |   2   | -9.9990e-01 | 1.36e+01 | 6.73e-03 | 0.00e+00 |\n",
            "|   5   |   6   |   2   | -9.9990e-01 | 6.79e+01 | 6.63e-03 | 0.00e+00 |\n",
            "|   6   |   8   |   3   | -1.0000e+00 | 6.79e+01 | 2.12e-05 | 0.00e+00 |\n",
            "|   7   |   8   |   3   | -1.0000e+00 | 3.39e+02 | 2.11e-05 | 0.00e+00 |\n",
            "|   8   |   8   |   3   | -1.0000e+00 | 1.70e+03 | 2.11e-05 | 0.00e+00 |\n",
            "|   9   |   8   |   3   | -1.0000e+00 | 8.48e+03 | 2.11e-05 | 0.00e+00 |\n",
            "|  10   |   8   |   3   | -1.0000e+00 | 4.24e+04 | 2.11e-05 | 0.00e+00 |\n",
            "|  11   |  10   |   4   | -1.0000e+00 | 4.24e+04 | 4.97e-09 | 0.00e+00 |\n",
            "\n",
            "`gtol` termination condition is satisfied.\n",
            "Number of iterations: 11, function evaluations: 10, CG iterations: 4, optimality: 4.97e-09, constraint violation: 0.00e+00, execution time: 0.08 s.\n",
            "[0.99999999]\n",
            "x = 0.9999999868129473のとき最小値 : -0.9999999999999998\n"
          ]
        }
      ]
    },
    {
      "cell_type": "markdown",
      "metadata": {
        "id": "SFcNqYn60m4X"
      },
      "source": [
        "### 例題1.2 1変数、線形制約 \n",
        "わかりやすい数理計画法 (森北) P128 例6.2  \n",
        "minimize $f(x) = x^2 -2x$  \n",
        "subject to  \n",
        "$g_1(x) = -x + 2 \\leq 0$  \n",
        "$g_2(x) = x - 3 \\leq 0$\n",
        "\n",
        "$2 \\leq x \\leq 3$  \n",
        "$x = 2$のとき、最小値0  \n"
      ]
    },
    {
      "cell_type": "code",
      "metadata": {
        "id": "MrG2Ohvx0_72"
      },
      "source": [
        "#線形制約\n",
        "A = np.array([1])\n",
        "lb = np.array([2])\n",
        "ub = np.array([3])\n",
        "linear_constraint = LinearConstraint(A, lb, ub)"
      ],
      "execution_count": 5,
      "outputs": []
    },
    {
      "cell_type": "code",
      "metadata": {
        "colab": {
          "base_uri": "https://localhost:8080/"
        },
        "id": "CpnIg82Q1Sh8",
        "outputId": "4a04ee0d-cfcb-4294-f21e-c30cc9022f3d"
      },
      "source": [
        "x0 = np.array([0.5])\n",
        "res = minimize(f1_1, x0, method='trust-constr', jac=\"2-point\", hess=BFGS(),\n",
        "               constraints=[linear_constraint],\n",
        "               options={'verbose': 2})\n",
        "print(res.x)\n",
        "print('x = {0}のとき最小値 : {1}'.format(res.x[0],f1_1(res.x[0])))"
      ],
      "execution_count": 6,
      "outputs": [
        {
          "output_type": "stream",
          "name": "stdout",
          "text": [
            "| niter |f evals|CG iter|  obj func   |tr radius |   opt    |  c viol  |\n",
            "|-------|-------|-------|-------------|----------|----------|----------|\n",
            "|   1   |   2   |   0   | -7.5000e-01 | 1.00e+00 | 5.18e-01 | 1.50e+00 |\n",
            "|   2   |   4   |   1   | -8.1652e-01 | 2.00e+00 | 3.66e-01 | 5.72e-01 |\n",
            "|   3   |   6   |   2   | -9.1604e-01 | 2.02e+00 | 4.83e-04 | 7.10e-01 |\n",
            "|   4   |   8   |   3   | -3.0262e-02 | 4.05e+00 | 1.00e-03 | 1.52e-02 |\n",
            "|   5   |   8   |   3   | -3.0262e-02 | 2.02e+01 | 1.14e-04 | 1.52e-02 |\n",
            "|   6   |  10   |   4   | +1.9485e-02 | 2.02e+01 | 2.18e-06 | 0.00e+00 |\n",
            "|   7   |  10   |   4   | +1.9485e-02 | 1.01e+02 | 1.51e-04 | 0.00e+00 |\n",
            "|   8   |  12   |   5   | +4.1024e-03 | 1.01e+02 | 2.35e-07 | 0.00e+00 |\n",
            "|   9   |  12   |   5   | +4.1024e-03 | 5.06e+02 | 6.78e-06 | 0.00e+00 |\n",
            "|  10   |  14   |   6   | +8.0492e-04 | 5.06e+02 | 2.17e-09 | 0.00e+00 |\n",
            "\n",
            "`gtol` termination condition is satisfied.\n",
            "Number of iterations: 10, function evaluations: 14, CG iterations: 6, optimality: 2.17e-09, constraint violation: 0.00e+00, execution time: 0.025 s.\n",
            "[2.00040238]\n",
            "x = 2.000402378675703のとき最小値 : 0.0008049192600045885\n"
          ]
        }
      ]
    },
    {
      "cell_type": "markdown",
      "metadata": {
        "id": "SZiAJk7e13R1"
      },
      "source": [
        "### 例題1.3 1変数、線形制約   \n",
        "わかりやすい数理計画法 (森北) P129 例6.3  \n",
        "minimize $f(x) = x^2 -2x$  \n",
        "subject to  \n",
        "$g_1(x) = -x - 1 \\leq 0$  \n",
        "$g_2(x) = x \\leq 0$  \n",
        "\n",
        "$-1 \\leq x \\leq 0$   \n",
        "$x = 0$のとき、最小値0"
      ]
    },
    {
      "cell_type": "code",
      "metadata": {
        "id": "j3XTm9rr3BTM"
      },
      "source": [
        "#線形制約\n",
        "A = np.array([1])\n",
        "lb = np.array([-1])\n",
        "ub = np.array([0])\n",
        "linear_constraint = LinearConstraint(A, lb, ub)"
      ],
      "execution_count": 7,
      "outputs": []
    },
    {
      "cell_type": "code",
      "metadata": {
        "colab": {
          "base_uri": "https://localhost:8080/"
        },
        "id": "vEa4iLEr3FFZ",
        "outputId": "d4e84249-b650-44d5-8bf0-4f7bdd2194a8"
      },
      "source": [
        "x0 = np.array([0.5])\n",
        "res = minimize(f1_1, x0, method='trust-constr', jac=\"2-point\", hess=BFGS(),\n",
        "               constraints=[linear_constraint],\n",
        "               options={'verbose': 2})\n",
        "print(res.x)\n",
        "print('x = {0}のとき最小値 : {1}'.format(res.x[0],f1_1(res.x[0])))"
      ],
      "execution_count": 8,
      "outputs": [
        {
          "output_type": "stream",
          "name": "stdout",
          "text": [
            "| niter |f evals|CG iter|  obj func   |tr radius |   opt    |  c viol  |\n",
            "|-------|-------|-------|-------------|----------|----------|----------|\n",
            "|   1   |   2   |   0   | -7.5000e-01 | 1.00e+00 | 4.30e-01 | 5.00e-01 |\n",
            "|   2   |   4   |   1   | -8.6962e-01 | 7.00e+00 | 1.53e-03 | 6.39e-01 |\n",
            "|   3   |   6   |   2   | +1.9058e-01 | 8.93e+00 | 1.10e-02 | 0.00e+00 |\n",
            "|   4   |   8   |   3   | +9.6146e-02 | 8.93e+00 | 1.53e-04 | 0.00e+00 |\n",
            "|   5   |   8   |   3   | +9.6146e-02 | 4.47e+01 | 3.71e-03 | 0.00e+00 |\n",
            "|   6   |  10   |   4   | +2.1997e-02 | 4.47e+01 | 2.56e-05 | 0.00e+00 |\n",
            "|   7   |  10   |   4   | +2.1997e-02 | 2.23e+02 | 1.99e-04 | 0.00e+00 |\n",
            "|   8   |  12   |   5   | +4.1415e-03 | 2.23e+02 | 3.19e-07 | 0.00e+00 |\n",
            "|   9   |  12   |   5   | +4.1415e-03 | 1.12e+03 | 6.92e-06 | 0.00e+00 |\n",
            "|  10   |  14   |   6   | +8.0505e-04 | 1.12e+03 | 2.23e-09 | 0.00e+00 |\n",
            "\n",
            "`gtol` termination condition is satisfied.\n",
            "Number of iterations: 10, function evaluations: 14, CG iterations: 6, optimality: 2.23e-09, constraint violation: 0.00e+00, execution time: 0.027 s.\n",
            "[-0.00040244]\n",
            "x = -0.00040244268091493363のとき最小値 : 0.0008050473219412893\n"
          ]
        }
      ]
    },
    {
      "cell_type": "markdown",
      "metadata": {
        "id": "gJwgjDTx5pJZ"
      },
      "source": [
        "### 例題1.4 多変数、線形制約\n",
        "わかりやすい数理計画法 (森北) P133 例6.4  \n",
        "minimize $f(x_1, x_2) = 3x_1^2 - 18x_1 + 2x_2^2 - 8x_2$  \n",
        "subject to  \n",
        "$g_1(x) = 3x_1 + 12x_2 -48 \\leq 0$  \n",
        "$g_2(x) = 9x_1 + 6x_2 - 54 \\leq 0$  \n",
        "$g_3(x) = -x_1 \\leq 0$  \n",
        "$g_4(x) = -x_2 \\leq 0$  \n",
        "\n",
        "$x_1 + 4x_2 \\leq 16$  \n",
        "$3x_1 + 2x_2 \\leq 18$  \n",
        "$x_1 \\geq 0$  \n",
        "$x_2 \\geq 0$  \n",
        "\n",
        "制約条件(線形制約)  \n",
        "$  \n",
        "\\left(\n",
        "\\begin{array}{r}\n",
        "-\\infty \\\\\n",
        "-\\infty \\\\\n",
        "0 \\\\\n",
        "0 \\\\\n",
        "\\end{array}\n",
        "\\right)\n",
        "\\leq\n",
        "\\left(\n",
        "\\begin{array}{rr}\n",
        "1 & 4 \\\\\n",
        "3 & 2 \\\\\n",
        "1 & 0 \\\\\n",
        "0 & 1 \\\\\n",
        "\\end{array}\n",
        "\\right)\n",
        "\\left(\n",
        "\\begin{array}{r}\n",
        "x_1 \\\\\n",
        "x_2 \\\\\n",
        "\\end{array}\n",
        "\\right)\n",
        "\\leq \n",
        "\\left(\n",
        "\\begin{array}{r}\n",
        "16 \\\\\n",
        "18 \\\\\n",
        "\\infty \\\\\n",
        "\\infty \\\\\n",
        "\\end{array}\n",
        "\\right)\n",
        "$ \n",
        "   \n",
        "$(x_1, x_2) = (3, 2)$のとき、最小値-35"
      ]
    },
    {
      "cell_type": "code",
      "metadata": {
        "id": "F5bsrBU65noU"
      },
      "source": [
        "#目的関数\n",
        "def f1_4(x):\n",
        "    return 3 * x[0]**2 - 18 * x[0] + 2 * x[1]**2 -8 * x[1]"
      ],
      "execution_count": 9,
      "outputs": []
    },
    {
      "cell_type": "code",
      "metadata": {
        "id": "kf-R8Bki6SjT"
      },
      "source": [
        "#線形制約\n",
        "A = np.array([[1,4],[3,2],[1,0],[0,1]])\n",
        "lb = np.array([-np.inf,-np.inf,0,0])\n",
        "ub = np.array([16,18,np.inf,np.inf])\n",
        "linear_constraint = LinearConstraint(A, lb, ub)"
      ],
      "execution_count": 10,
      "outputs": []
    },
    {
      "cell_type": "code",
      "metadata": {
        "colab": {
          "base_uri": "https://localhost:8080/"
        },
        "id": "ABw6jMyy6evj",
        "outputId": "c33fe20f-4e85-47d1-f638-9ff129cbb07f"
      },
      "source": [
        "x0 = np.array([0.5, 0.5])\n",
        "res = minimize(f1_4, x0, method='trust-constr', jac=\"2-point\", hess=BFGS(),\n",
        "               constraints=[linear_constraint],\n",
        "               options={'verbose': 2})\n",
        "print(res.x)\n",
        "print('x = {0}のとき最小値 : {1}'.format(res.x,f1_4(res.x)))"
      ],
      "execution_count": 11,
      "outputs": [
        {
          "output_type": "stream",
          "name": "stdout",
          "text": [
            "| niter |f evals|CG iter|  obj func   |tr radius |   opt    |  c viol  |\n",
            "|-------|-------|-------|-------------|----------|----------|----------|\n",
            "|   1   |   3   |   0   | -1.1750e+01 | 1.00e+00 | 7.44e+00 | 0.00e+00 |\n",
            "|   2   |   6   |   1   | -2.2224e+01 | 7.00e+00 | 6.08e+00 | 0.00e+00 |\n",
            "|   3   |   9   |   3   | -3.4960e+01 | 2.05e+01 | 1.93e-01 | 0.00e+00 |\n",
            "|   4   |  12   |   5   | -3.4998e+01 | 2.05e+01 | 3.92e-02 | 0.00e+00 |\n",
            "|   5   |  12   |   5   | -3.4998e+01 | 1.02e+02 | 6.20e-02 | 0.00e+00 |\n",
            "|   6   |  15   |   7   | -3.5000e+01 | 1.02e+02 | 9.32e-03 | 0.00e+00 |\n",
            "|   7   |  15   |   7   | -3.5000e+01 | 5.12e+02 | 1.07e-02 | 0.00e+00 |\n",
            "|   8   |  18   |   9   | -3.5000e+01 | 5.12e+02 | 8.21e-04 | 0.00e+00 |\n",
            "|   9   |  18   |   9   | -3.5000e+01 | 2.56e+03 | 1.19e-03 | 0.00e+00 |\n",
            "|  10   |  21   |  10   | -3.5000e+01 | 2.56e+03 | 4.13e-04 | 0.00e+00 |\n",
            "|  11   |  21   |  10   | -3.5000e+01 | 1.28e+04 | 5.60e-04 | 0.00e+00 |\n",
            "|  12   |  24   |  12   | -3.5000e+01 | 1.28e+04 | 8.50e-05 | 0.00e+00 |\n",
            "|  13   |  24   |  12   | -3.5000e+01 | 6.40e+04 | 1.15e-04 | 0.00e+00 |\n",
            "|  14   |  27   |  14   | -3.5000e+01 | 6.40e+04 | 2.58e-07 | 0.00e+00 |\n",
            "|  15   |  27   |  14   | -3.5000e+01 | 3.20e+05 | 7.43e-06 | 0.00e+00 |\n",
            "|  16   |  30   |  16   | -3.5000e+01 | 3.20e+05 | 2.88e-07 | 0.00e+00 |\n",
            "|  17   |  30   |  16   | -3.5000e+01 | 1.60e+06 | 1.81e-06 | 0.00e+00 |\n",
            "|  18   |  33   |  17   | -3.5000e+01 | 1.60e+06 | 6.79e-07 | 0.00e+00 |\n",
            "|  19   |  33   |  17   | -3.5000e+01 | 8.01e+06 | 5.81e-07 | 0.00e+00 |\n",
            "|  20   |  36   |  19   | -3.5000e+01 | 8.01e+06 | 9.14e-08 | 0.00e+00 |\n",
            "|  21   |  36   |  19   | -3.5000e+01 | 4.00e+07 | 1.07e-07 | 0.00e+00 |\n",
            "|  22   |  42   |  21   | -3.5000e+01 | 4.00e+06 | 1.07e-07 | 0.00e+00 |\n",
            "|  23   |  45   |  23   | -3.5000e+01 | 4.00e+06 | 1.38e-07 | 0.00e+00 |\n",
            "|  24   |  48   |  24   | -3.5000e+01 | 4.00e+05 | 1.38e-07 | 0.00e+00 |\n",
            "|  25   |  54   |  25   | -3.5000e+01 | 4.00e+04 | 1.38e-07 | 0.00e+00 |\n",
            "|  26   |  60   |  26   | -3.5000e+01 | 4.00e+03 | 1.38e-07 | 0.00e+00 |\n",
            "|  27   |  66   |  27   | -3.5000e+01 | 4.00e+02 | 1.38e-07 | 0.00e+00 |\n",
            "|  28   |  72   |  28   | -3.5000e+01 | 4.00e+01 | 1.38e-07 | 0.00e+00 |\n",
            "|  29   |  78   |  29   | -3.5000e+01 | 4.00e+00 | 1.38e-07 | 0.00e+00 |\n",
            "|  30   |  84   |  30   | -3.5000e+01 | 4.00e-01 | 1.38e-07 | 0.00e+00 |\n",
            "|  31   |  90   |  31   | -3.5000e+01 | 4.00e-02 | 1.38e-07 | 0.00e+00 |\n",
            "|  32   |  96   |  32   | -3.5000e+01 | 4.00e-03 | 1.38e-07 | 0.00e+00 |\n",
            "|  33   |  102  |  33   | -3.5000e+01 | 4.00e-04 | 1.38e-07 | 0.00e+00 |\n",
            "|  34   |  108  |  34   | -3.5000e+01 | 4.00e-05 | 1.38e-07 | 0.00e+00 |\n",
            "|  35   |  114  |  35   | -3.5000e+01 | 4.00e-06 | 1.38e-07 | 0.00e+00 |\n",
            "|  36   |  120  |  36   | -3.5000e+01 | 4.00e-07 | 1.38e-07 | 0.00e+00 |\n",
            "|  37   |  126  |  37   | -3.5000e+01 | 6.06e-08 | 1.38e-07 | 0.00e+00 |\n",
            "|  38   |  129  |  38   | -3.5000e+01 | 3.03e-08 | 1.38e-07 | 0.00e+00 |\n",
            "|  39   |  135  |  39   | -3.5000e+01 | 1.51e-08 | 1.38e-07 | 0.00e+00 |\n",
            "|  40   |  138  |  40   | -3.5000e+01 | 7.57e-09 | 1.38e-07 | 0.00e+00 |\n",
            "|  41   |  141  |  40   | -3.5000e+01 | 1.00e+00 | 1.26e-07 | 0.00e+00 |\n",
            "|  42   |  147  |  41   | -3.5000e+01 | 1.00e-01 | 1.26e-07 | 0.00e+00 |\n",
            "|  43   |  150  |  42   | -3.5000e+01 | 1.00e-02 | 1.26e-07 | 0.00e+00 |\n",
            "|  44   |  150  |  43   | -3.5000e+01 | 1.00e-03 | 1.26e-07 | 0.00e+00 |\n",
            "|  45   |  150  |  44   | -3.5000e+01 | 1.00e-04 | 1.26e-07 | 0.00e+00 |\n",
            "|  46   |  150  |  45   | -3.5000e+01 | 1.00e-05 | 1.26e-07 | 0.00e+00 |\n",
            "|  47   |  150  |  46   | -3.5000e+01 | 1.00e-06 | 1.26e-07 | 0.00e+00 |\n",
            "|  48   |  150  |  47   | -3.5000e+01 | 1.00e-07 | 1.26e-07 | 0.00e+00 |\n",
            "|  49   |  150  |  48   | -3.5000e+01 | 3.15e-08 | 1.26e-07 | 0.00e+00 |\n",
            "|  50   |  153  |  49   | -3.5000e+01 | 1.57e-08 | 1.26e-07 | 0.00e+00 |\n",
            "|  51   |  159  |  50   | -3.5000e+01 | 7.87e-09 | 1.26e-07 | 0.00e+00 |\n",
            "|  52   |  162  |  50   | -3.5000e+01 | 1.00e+00 | 1.23e-07 | 0.00e+00 |\n",
            "|  53   |  165  |  51   | -3.5000e+01 | 1.00e-01 | 1.23e-07 | 0.00e+00 |\n",
            "|  54   |  165  |  52   | -3.5000e+01 | 1.00e-02 | 1.23e-07 | 0.00e+00 |\n",
            "|  55   |  165  |  53   | -3.5000e+01 | 1.00e-03 | 1.23e-07 | 0.00e+00 |\n",
            "|  56   |  165  |  54   | -3.5000e+01 | 1.00e-04 | 1.23e-07 | 0.00e+00 |\n",
            "|  57   |  165  |  55   | -3.5000e+01 | 1.00e-05 | 1.23e-07 | 0.00e+00 |\n",
            "|  58   |  165  |  56   | -3.5000e+01 | 1.00e-06 | 1.23e-07 | 0.00e+00 |\n",
            "|  59   |  165  |  57   | -3.5000e+01 | 1.00e-07 | 1.23e-07 | 0.00e+00 |\n",
            "|  60   |  165  |  58   | -3.5000e+01 | 1.00e-08 | 1.23e-07 | 0.00e+00 |\n",
            "|  61   |  168  |  59   | -3.5000e+01 | 1.52e-09 | 1.23e-07 | 0.00e+00 |\n",
            "\n",
            "`xtol` termination condition is satisfied.\n",
            "Number of iterations: 61, function evaluations: 168, CG iterations: 59, optimality: 1.23e-07, constraint violation: 0.00e+00, execution time: 0.16 s.\n",
            "[2.99999998 2.00000003]\n",
            "x = [2.99999998 2.00000003]のとき最小値 : -35.0\n"
          ]
        },
        {
          "output_type": "stream",
          "name": "stderr",
          "text": [
            "/usr/local/lib/python3.7/dist-packages/scipy/optimize/_hessian_update_strategy.py:187: UserWarning: delta_grad == 0.0. Check if the approximated function is linear. If the function is linear better results can be obtained by defining the Hessian as zero instead of using quasi-Newton approximations.\n",
            "  'approximations.', UserWarning)\n"
          ]
        }
      ]
    },
    {
      "cell_type": "markdown",
      "metadata": {
        "id": "d2EpOWaS8Hkh"
      },
      "source": [
        "### 例題1.5 多変数、線形制約\n",
        "わかりやすい数理計画法 (森北) P133 例6.5  \n",
        "minimize $f(x_1, x_2) = 3x_1^2 - 18x_1 + 2x_2^2 - 8x_2$  \n",
        "subject to  \n",
        "$g_1(x) = 3x_1 + x_2 -9 \\leq 0$  \n",
        "$g_2(x) = 3x_1 + 5x_2 - 15 \\leq 0$  \n",
        "$g_3(x) = -x_1 \\leq 0$  \n",
        "$g_4(x) = -x_2 \\leq 0$  \n",
        "\n",
        "$3x_1 + x_2 \\leq 9$  \n",
        "$3x_1 + 5x_2 \\leq 15$  \n",
        "$x_1 \\geq 0$  \n",
        "$x_2 \\geq 0$  \n",
        "\n",
        "制約条件(線形制約)  \n",
        "$  \n",
        "\\left(\n",
        "\\begin{array}{r}\n",
        "-\\infty \\\\\n",
        "-\\infty \\\\\n",
        "0 \\\\\n",
        "0 \\\\\n",
        "\\end{array}\n",
        "\\right)\n",
        "\\leq\n",
        "\\left(\n",
        "\\begin{array}{rr}\n",
        "3 & 1 \\\\\n",
        "3 & 5 \\\\\n",
        "1 & 0 \\\\\n",
        "0 & 1 \\\\\n",
        "\\end{array}\n",
        "\\right)\n",
        "\\left(\n",
        "\\begin{array}{r}\n",
        "x_1 \\\\\n",
        "x_2 \\\\\n",
        "\\end{array}\n",
        "\\right)\n",
        "\\leq \n",
        "\\left(\n",
        "\\begin{array}{r}\n",
        "9 \\\\\n",
        "15 \\\\\n",
        "\\infty \\\\\n",
        "\\infty \\\\\n",
        "\\end{array}\n",
        "\\right)\n",
        "$\n",
        "\n",
        "$(x_1, x_2) = (2.5, 1.5)$のとき、最小値-33.75"
      ]
    },
    {
      "cell_type": "code",
      "metadata": {
        "id": "R7SQcRLs8flg"
      },
      "source": [
        "#線形制約\n",
        "A = np.array([[3,1],[3,5],[1,0],[0,1]])\n",
        "lb = np.array([-np.inf,-np.inf,0,0])\n",
        "ub = np.array([9,15,np.inf,np.inf])\n",
        "linear_constraint = LinearConstraint(A, lb, ub)"
      ],
      "execution_count": 12,
      "outputs": []
    },
    {
      "cell_type": "code",
      "metadata": {
        "colab": {
          "base_uri": "https://localhost:8080/"
        },
        "id": "46oGbzyj8sMz",
        "outputId": "69f190af-0c85-4243-e99b-b858f3a0fefa"
      },
      "source": [
        "x0 = np.array([0.5, 0.5])\n",
        "res = minimize(f1_4, x0, method='trust-constr', jac=\"2-point\", hess=BFGS(),\n",
        "               constraints=[linear_constraint],\n",
        "               options={'verbose': 2})\n",
        "print(res.x)\n",
        "print('x = {0}のとき最小値 : {1}'.format(res.x,f1_4(res.x)))"
      ],
      "execution_count": 13,
      "outputs": [
        {
          "output_type": "stream",
          "name": "stdout",
          "text": [
            "| niter |f evals|CG iter|  obj func   |tr radius |   opt    |  c viol  |\n",
            "|-------|-------|-------|-------------|----------|----------|----------|\n",
            "|   1   |   3   |   0   | -1.1750e+01 | 1.00e+00 | 7.02e+00 | 0.00e+00 |\n",
            "|   2   |   6   |   1   | -2.0859e+01 | 7.00e+00 | 4.70e+00 | 0.00e+00 |\n",
            "|   3   |   9   |   3   | -3.3661e+01 | 1.84e+01 | 1.25e-03 | 0.00e+00 |\n",
            "|   4   |   9   |   3   | -3.3661e+01 | 9.21e+01 | 1.53e-03 | 0.00e+00 |\n",
            "|   5   |  12   |   4   | -3.3702e+01 | 9.21e+01 | 1.13e-04 | 0.00e+00 |\n",
            "|   6   |  12   |   4   | -3.3702e+01 | 4.60e+02 | 2.51e-04 | 0.00e+00 |\n",
            "|   7   |  15   |   5   | -3.3740e+01 | 4.60e+02 | 2.64e-05 | 0.00e+00 |\n",
            "|   8   |  15   |   5   | -3.3740e+01 | 2.30e+03 | 4.71e-05 | 0.00e+00 |\n",
            "|   9   |  18   |   6   | -3.3747e+01 | 2.30e+03 | 1.06e-06 | 0.00e+00 |\n",
            "|  10   |  21   |   7   | -3.3748e+01 | 2.30e+03 | 1.63e-08 | 0.00e+00 |\n",
            "|  11   |  21   |   7   | -3.3748e+01 | 1.15e+04 | 3.10e-07 | 0.00e+00 |\n",
            "|  12   |  24   |   8   | -3.3750e+01 | 1.15e+04 | 2.00e-09 | 0.00e+00 |\n",
            "\n",
            "`gtol` termination condition is satisfied.\n",
            "Number of iterations: 12, function evaluations: 24, CG iterations: 8, optimality: 2.00e-09, constraint violation: 0.00e+00, execution time: 0.036 s.\n",
            "[2.49997212 1.49988133]\n",
            "x = [2.49997212 1.49988133]のとき最小値 : -33.74967898095845\n"
          ]
        }
      ]
    },
    {
      "cell_type": "markdown",
      "metadata": {
        "id": "Lyi0KscDwSZY"
      },
      "source": [
        "### 例題1.6 多変数、非線形制約  \n",
        "非線形制約付きの場合 新版数理計画入門 福島雅夫 朝倉書店 P114 (4.19)  \n",
        "目的関数(最小化) : $f(x_1, x_2) = (x_1 - 1)^2 + (x_2 -2)^2$  \n",
        "制約条件 :   \n",
        "$c_1(x_1, x_2) = x_1^2 + x_2^2 -2 \\leq 0$   \n",
        "$c_2(x_1, x_2) = -x_1 + x_2 \\leq 0$  \n",
        "$c_3(x_1, x_2) = -x_2 \\leq 0$  \n",
        "\n",
        "制約条件(線形制約)  \n",
        "$  \n",
        "\\left(\n",
        "\\begin{array}{r}\n",
        "-\\infty \\\\\n",
        "-\\infty \\\\\n",
        "\\end{array}\n",
        "\\right)\n",
        "\\leq\n",
        "\\left(\n",
        "\\begin{array}{rr}\n",
        "-1 & 1 \\\\\n",
        "0 & -1 \\\\\n",
        "\\end{array}\n",
        "\\right)\n",
        "\\left(\n",
        "\\begin{array}{r}\n",
        "x_1 \\\\\n",
        "x_2 \\\\\n",
        "\\end{array}\n",
        "\\right)\n",
        "\\leq \n",
        "\\left(\n",
        "\\begin{array}{r}\n",
        "0 \\\\\n",
        "0 \\\\\n",
        "\\end{array}\n",
        "\\right)\n",
        "$\n",
        "\n",
        "$(x_1, x_2) = (1, 1)$のとき、最小値0"
      ]
    },
    {
      "cell_type": "code",
      "metadata": {
        "id": "PqM6-C8wxmoY"
      },
      "source": [
        "#目的関数\n",
        "def f1_6(x):\n",
        "    return (x[0] - 1)**2 + (x[0] - x[1])**2"
      ],
      "execution_count": 14,
      "outputs": []
    },
    {
      "cell_type": "code",
      "metadata": {
        "id": "eF8nNL0Axceh"
      },
      "source": [
        "#線形制約\n",
        "A = np.array([[-1,1],[0,-1]])\n",
        "lb = np.array([-np.inf,-np.inf])\n",
        "ub = np.array([0,0])\n",
        "linear_constraint = LinearConstraint(A, lb, ub)"
      ],
      "execution_count": 15,
      "outputs": []
    },
    {
      "cell_type": "code",
      "metadata": {
        "id": "q1iLmNnkxrHy"
      },
      "source": [
        "#非線形制約\n",
        "def cons_f(x):\n",
        "    return x[0]**2 + x[1]**2"
      ],
      "execution_count": 16,
      "outputs": []
    },
    {
      "cell_type": "code",
      "metadata": {
        "id": "HzV2g9kC988n"
      },
      "source": [
        "#非線形制約\n",
        "nonlinear_constraint = NonlinearConstraint(cons_f, -np.inf, 2, jac=\"2-point\", hess=BFGS())"
      ],
      "execution_count": 17,
      "outputs": []
    },
    {
      "cell_type": "code",
      "metadata": {
        "colab": {
          "base_uri": "https://localhost:8080/"
        },
        "id": "tUrKXM2K-E8o",
        "outputId": "d304e865-c784-4d55-9491-402b54cd3a87"
      },
      "source": [
        "x0 = np.array([0.5, 0])\n",
        "res = minimize(f1_6, x0, method='trust-constr', jac=\"2-point\", hess=BFGS(),\n",
        "               constraints=[linear_constraint, nonlinear_constraint],\n",
        "               options={'verbose': 2})\n",
        "print(res.x)\n",
        "print('x = {0}のとき最小値 : {1}'.format(res.x,f1_6(res.x)))"
      ],
      "execution_count": 18,
      "outputs": [
        {
          "output_type": "stream",
          "name": "stdout",
          "text": [
            "| niter |f evals|CG iter|  obj func   |tr radius |   opt    |  c viol  |\n",
            "|-------|-------|-------|-------------|----------|----------|----------|\n",
            "|   1   |   3   |   0   | +5.0000e-01 | 1.00e+00 | 4.06e-01 | 0.00e+00 |\n",
            "|   2   |   6   |   2   | +1.8856e-01 | 6.14e+00 | 1.75e-01 | 0.00e+00 |\n",
            "|   3   |   9   |   4   | +6.4718e-02 | 6.14e+00 | 1.06e-03 | 0.00e+00 |\n",
            "|   4   |  12   |   5   | +6.7011e-02 | 6.14e+00 | 7.49e-04 | 0.00e+00 |\n",
            "|   5   |  12   |   5   | +6.7011e-02 | 3.07e+01 | 1.66e-02 | 0.00e+00 |\n",
            "|   6   |  15   |   6   | +2.7663e-02 | 3.07e+01 | 3.82e-03 | 0.00e+00 |\n",
            "|   7   |  15   |   6   | +2.7663e-02 | 1.54e+02 | 6.76e-03 | 0.00e+00 |\n",
            "|   8   |  18   |   8   | +8.8081e-03 | 1.54e+02 | 8.60e-04 | 0.00e+00 |\n",
            "|   9   |  21   |  10   | +4.5134e-03 | 1.54e+02 | 9.32e-05 | 0.00e+00 |\n",
            "|  10   |  21   |  10   | +4.5134e-03 | 7.68e+02 | 3.78e-04 | 0.00e+00 |\n",
            "|  11   |  24   |  11   | +1.6144e-03 | 7.68e+02 | 4.23e-05 | 0.00e+00 |\n",
            "|  12   |  27   |  12   | +9.6051e-04 | 7.68e+02 | 1.09e-05 | 0.00e+00 |\n",
            "|  13   |  27   |  12   | +9.6051e-04 | 3.84e+03 | 3.81e-05 | 0.00e+00 |\n",
            "|  14   |  30   |  13   | +3.6373e-04 | 3.84e+03 | 4.57e-06 | 0.00e+00 |\n",
            "|  15   |  33   |  15   | +1.8826e-04 | 3.84e+03 | 4.45e-07 | 0.00e+00 |\n",
            "|  16   |  33   |  15   | +1.8826e-04 | 1.92e+04 | 2.82e-06 | 0.00e+00 |\n",
            "|  17   |  36   |  16   | +6.7516e-05 | 1.92e+04 | 4.77e-07 | 0.00e+00 |\n",
            "|  18   |  39   |  18   | +3.6683e-05 | 1.92e+04 | 4.96e-08 | 0.00e+00 |\n",
            "|  19   |  39   |  18   | +3.6683e-05 | 9.60e+04 | 2.64e-07 | 0.00e+00 |\n",
            "|  20   |  42   |  19   | +1.2963e-05 | 9.60e+04 | 2.92e-08 | 0.00e+00 |\n",
            "|  21   |  45   |  20   | +7.7266e-06 | 9.60e+04 | 7.05e-09 | 0.00e+00 |\n",
            "\n",
            "`gtol` termination condition is satisfied.\n",
            "Number of iterations: 21, function evaluations: 45, CG iterations: 20, optimality: 7.05e-09, constraint violation: 0.00e+00, execution time: 0.076 s.\n",
            "[0.99838816 0.99612352]\n",
            "x = [0.99838816 0.99612352]のとき最小値 : 7.72661003712857e-06\n"
          ]
        }
      ]
    },
    {
      "cell_type": "markdown",
      "metadata": {
        "id": "PfWdTx53UWyd"
      },
      "source": [
        "### 例題1.7 線形制約　　\n",
        "坂和、西崎 数理計画法入門 (森北) P5 例1.3 \n",
        "\n",
        "目的関数(Maximize) : $-x_1^2 -x_2^2 +4x_1 + 11x_2$  \n",
        "Subject to:  \n",
        "$2x_1 + 6x_2 \\leq 27$  \n",
        "$3x_1 + 2x_2 \\leq 16$  \n",
        "$4x_1 + x_2 \\leq 18$  \n",
        "$x_1 \\geq 0, x_2 \\geq 0$\n",
        "\n",
        "線形制約条件\n",
        "$  \n",
        "\\left(\n",
        "\\begin{array}{r}\n",
        "-\\infty \\\\\n",
        "-\\infty \\\\\n",
        "-\\infty \\\\\n",
        "0 \\\\\n",
        "0 \\\\\n",
        "\\end{array}\n",
        "\\right)\n",
        "\\leq\n",
        "\\left(\n",
        "\\begin{array}{rr}\n",
        "2 & 6 \\\\\n",
        "3 & 2 \\\\\n",
        "4 & 1 \\\\\n",
        "1 & 0 \\\\\n",
        "0 & 1 \\\\\n",
        "\\end{array}\n",
        "\\right)\n",
        "\\left(\n",
        "\\begin{array}{r}\n",
        "x_1 \\\\\n",
        "x_2 \\\\\n",
        "\\end{array}\n",
        "\\right)\n",
        "\\leq \n",
        "\\left(\n",
        "\\begin{array}{r}\n",
        "27 \\\\\n",
        "16 \\\\\n",
        "18 \\\\\n",
        "\\infty \\\\\n",
        "\\infty \\\\\n",
        "\\end{array}\n",
        "\\right)\n",
        "$\n",
        "\n",
        "最適解は$(x_1, x_2) = (1.5, 4)$のとき、最大値31.75"
      ]
    },
    {
      "cell_type": "code",
      "metadata": {
        "id": "rdtp2L80W9qy"
      },
      "source": [
        "#目的関数(最大化なので-1をかけている)\n",
        "def f1_7(x):\n",
        "    return -(- x[0]**2 - x[1]**2 + 4 * x[0] + 11 * x[1])"
      ],
      "execution_count": 19,
      "outputs": []
    },
    {
      "cell_type": "code",
      "metadata": {
        "id": "plS1xul6XdgR"
      },
      "source": [
        "#線形制約\n",
        "A = np.array([[2,6],[3,2],[4,1],[1,0],[0,1]])\n",
        "lb = np.array([-np.inf,-np.inf,-np.inf,0,0])\n",
        "ub = np.array([27,16,18,np.inf,np.inf])\n",
        "linear_constraint = LinearConstraint(A, lb, ub)"
      ],
      "execution_count": 20,
      "outputs": []
    },
    {
      "cell_type": "code",
      "metadata": {
        "colab": {
          "base_uri": "https://localhost:8080/"
        },
        "id": "_s8l0h-dXy8w",
        "outputId": "cdd0f70a-47a7-4e7f-95b4-2a0103bf48a9"
      },
      "source": [
        "x0 = np.array([0.5, 0.5])\n",
        "res = minimize(f1_7, x0, method='trust-constr', jac=\"2-point\", hess=BFGS(),\n",
        "               constraints=[linear_constraint],\n",
        "               options={'verbose': 2})\n",
        "print(res.x)\n",
        "print('x = {0}のとき最小値 : {1}'.format(res.x,f1_7(res.x)))"
      ],
      "execution_count": 21,
      "outputs": [
        {
          "output_type": "stream",
          "name": "stdout",
          "text": [
            "| niter |f evals|CG iter|  obj func   |tr radius |   opt    |  c viol  |\n",
            "|-------|-------|-------|-------------|----------|----------|----------|\n",
            "|   1   |   3   |   0   | -7.0000e+00 | 1.00e+00 | 4.91e+00 | 0.00e+00 |\n",
            "|   2   |   6   |   1   | -1.3200e+01 | 7.00e+00 | 4.53e+00 | 0.00e+00 |\n",
            "|   3   |   9   |   3   | -3.1654e+01 | 2.97e+01 | 1.96e-01 | 0.00e+00 |\n",
            "|   4   |  12   |   4   | -3.1700e+01 | 2.97e+01 | 1.84e-03 | 0.00e+00 |\n",
            "|   5   |  12   |   4   | -3.1700e+01 | 1.49e+02 | 1.65e-02 | 0.00e+00 |\n",
            "|   6   |  15   |   6   | -3.1730e+01 | 1.49e+02 | 2.70e-05 | 0.00e+00 |\n",
            "|   7   |  15   |   6   | -3.1730e+01 | 7.44e+02 | 3.87e-03 | 0.00e+00 |\n",
            "|   8   |  18   |   8   | -3.1746e+01 | 7.44e+02 | 3.48e-06 | 0.00e+00 |\n",
            "|   9   |  18   |   8   | -3.1746e+01 | 3.72e+03 | 7.82e-04 | 0.00e+00 |\n",
            "|  10   |  21   |  10   | -3.1749e+01 | 3.72e+03 | 1.00e-07 | 0.00e+00 |\n",
            "|  11   |  21   |  10   | -3.1749e+01 | 1.86e+04 | 1.56e-04 | 0.00e+00 |\n",
            "|  12   |  24   |  12   | -3.1750e+01 | 1.86e+04 | 1.65e-08 | 0.00e+00 |\n",
            "|  13   |  24   |  12   | -3.1750e+01 | 9.29e+04 | 3.13e-05 | 0.00e+00 |\n",
            "|  14   |  27   |  14   | -3.1750e+01 | 9.29e+04 | 5.14e-11 | 0.00e+00 |\n",
            "\n",
            "`gtol` termination condition is satisfied.\n",
            "Number of iterations: 14, function evaluations: 27, CG iterations: 14, optimality: 5.14e-11, constraint violation: 0.00e+00, execution time: 0.043 s.\n",
            "[1.49998899 3.999993  ]\n",
            "x = [1.49998899 3.999993  ]のとき最小値 : -31.749967997545347\n"
          ]
        }
      ]
    },
    {
      "cell_type": "markdown",
      "metadata": {
        "id": "DTE2B7W7uow_"
      },
      "source": [
        "### **参考 (多変数、線形制約)**\n",
        "  https://qiita.com/shotoyoo/items/83297f959e1922465288  \n",
        "$f(x_1, x_2) = x_1^2 -x_2^2 + x_1 x_2 - x_1 +x_2$  \n",
        "\n",
        "制約条件(線形制約の場合)  \n",
        "$0 \\leq x_1 + x_ 2 \\leq 1$  \n",
        "$0 \\leq x_1 \\leq 1$  \n",
        "$0 \\leq x_2 \\leq 1$  \n",
        "\n",
        "$  \n",
        "\\left(\n",
        "\\begin{array}{r}\n",
        "0 \\\\\n",
        "0 \\\\\n",
        "0 \\\\\n",
        "\\end{array}\n",
        "\\right)\n",
        "\\leq\n",
        "\\left(\n",
        "\\begin{array}{rr}\n",
        "1 & 1 \\\\\n",
        "1 & 0 \\\\\n",
        "0 & 1 \\\\\n",
        "\\end{array}\n",
        "\\right)\n",
        "\\left(\n",
        "\\begin{array}{r}\n",
        "x_1 \\\\\n",
        "x_2 \\\\\n",
        "\\end{array}\n",
        "\\right)\n",
        "\\leq \n",
        "\\left(\n",
        "\\begin{array}{r}\n",
        "1 \\\\\n",
        "1 \\\\\n",
        "1 \\\\\n",
        "\\end{array}\n",
        "\\right)\n",
        "$"
      ]
    },
    {
      "cell_type": "code",
      "metadata": {
        "id": "wXLUgYlftvxg"
      },
      "source": [
        "def f(x):\n",
        "    return x[0]**2 - x[1]**2 + x[0]*x[1] - x[0] + x[1]"
      ],
      "execution_count": 22,
      "outputs": []
    },
    {
      "cell_type": "code",
      "metadata": {
        "id": "wJj4eUv7_GIX"
      },
      "source": [
        "x0 = np.array([0,0], dtype=float)\n",
        "# 制約: 各変数と両者の和が[0,1]という線形制約\n",
        "A = np.array([[1,1],[1,0],[0,1]])\n",
        "lb = np.array([0,0,0])\n",
        "ub = np.array([1,1,1])\n",
        "const = LinearConstraint(A, lb, ub)"
      ],
      "execution_count": 23,
      "outputs": []
    },
    {
      "cell_type": "code",
      "metadata": {
        "colab": {
          "base_uri": "https://localhost:8080/"
        },
        "id": "NISlxnCG_PER",
        "outputId": "18b18963-7a72-41f4-ae92-83268eeeafee"
      },
      "source": [
        "# 最適化\n",
        "res = minimize(f,                       # 目的関数, \n",
        "                x0,                     # 初期解,\n",
        "                method=\"trust-constr\",  # 制約付き信頼領域法\n",
        "                jac=\"2-point\",          # 勾配関数\n",
        "                hess=BFGS(),            # ヘシアンの推定方法\n",
        "                constraints=const,      # 制約\n",
        "                options={\"maxiter\": 50, # 最大反復数\n",
        "                         \"verbose\":2})  # 最適化の過程を出力\n",
        "print(res[\"x\"])"
      ],
      "execution_count": 24,
      "outputs": [
        {
          "output_type": "stream",
          "name": "stdout",
          "text": [
            "| niter |f evals|CG iter|  obj func   |tr radius |   opt    |  c viol  |\n",
            "|-------|-------|-------|-------------|----------|----------|----------|\n",
            "|   1   |   3   |   0   | +0.0000e+00 | 1.00e+00 | 4.22e-01 | 0.00e+00 |\n",
            "|   2   |   6   |   1   | -4.3704e-01 | 7.00e+00 | 1.45e-01 | 1.26e-01 |\n",
            "|   3   |   9   |   3   | -3.2247e-01 | 7.00e+00 | 2.64e-02 | 5.66e-02 |\n",
            "|   4   |   9   |   3   | -3.2247e-01 | 3.50e+01 | 1.67e-02 | 5.66e-02 |\n",
            "|   5   |  12   |   5   | -2.2604e-01 | 3.84e+01 | 1.03e-02 | 0.00e+00 |\n",
            "|   6   |  15   |   6   | -2.3191e-01 | 3.84e+01 | 3.00e-03 | 0.00e+00 |\n",
            "|   7   |  15   |   6   | -2.3191e-01 | 1.92e+02 | 2.76e-03 | 0.00e+00 |\n",
            "|   8   |  18   |   8   | -2.4576e-01 | 1.92e+02 | 5.57e-05 | 0.00e+00 |\n",
            "|   9   |  18   |   8   | -2.4576e-01 | 9.60e+02 | 5.86e-05 | 0.00e+00 |\n",
            "|  10   |  21   |  10   | -2.4919e-01 | 9.60e+02 | 1.73e-04 | 0.00e+00 |\n",
            "|  11   |  21   |  10   | -2.4919e-01 | 4.80e+03 | 1.72e-04 | 0.00e+00 |\n",
            "|  12   |  24   |  12   | -2.4984e-01 | 4.80e+03 | 8.53e-05 | 0.00e+00 |\n",
            "|  13   |  27   |  13   | -2.4984e-01 | 4.80e+03 | 3.80e-05 | 0.00e+00 |\n",
            "|  14   |  27   |  13   | -2.4984e-01 | 2.40e+04 | 3.79e-05 | 0.00e+00 |\n",
            "|  15   |  30   |  15   | -2.4997e-01 | 2.40e+04 | 1.14e-08 | 0.00e+00 |\n",
            "|  16   |  30   |  15   | -2.4997e-01 | 1.20e+05 | 1.11e-08 | 0.00e+00 |\n",
            "|  17   |  33   |  17   | -2.4999e-01 | 1.20e+05 | 7.01e-07 | 0.00e+00 |\n",
            "|  18   |  33   |  17   | -2.4999e-01 | 6.00e+05 | 7.01e-07 | 0.00e+00 |\n",
            "|  19   |  36   |  19   | -2.5000e-01 | 6.00e+05 | 2.06e-07 | 0.00e+00 |\n",
            "|  20   |  36   |  19   | -2.5000e-01 | 3.00e+06 | 2.06e-07 | 0.00e+00 |\n",
            "|  21   |  39   |  21   | -2.5000e-01 | 3.00e+06 | 8.81e-08 | 0.00e+00 |\n",
            "|  22   |  39   |  21   | -2.5000e-01 | 1.50e+07 | 8.81e-08 | 0.00e+00 |\n",
            "|  23   |  42   |  23   | -2.5000e-01 | 1.50e+07 | 3.77e-08 | 0.00e+00 |\n",
            "|  24   |  45   |  24   | -2.5000e-01 | 1.50e+07 | 4.71e-09 | 0.00e+00 |\n",
            "\n",
            "`gtol` termination condition is satisfied.\n",
            "Number of iterations: 24, function evaluations: 45, CG iterations: 24, optimality: 4.71e-09, constraint violation: 0.00e+00, execution time: 0.075 s.\n",
            "[4.99999936e-01 3.41331929e-08]\n"
          ]
        }
      ]
    },
    {
      "cell_type": "markdown",
      "metadata": {
        "id": "5l6A0baf3O1O"
      },
      "source": [
        "## 定常分布の分散を最小化する\n",
        "2021年 OR学会秋 \n",
        "連続時間型マルコフ連鎖を利用した施設密集度最適化手法の提案  \n",
        "Durrett P165 Example 4.14 (Duke Basketball)  \n",
        "\n",
        "WiFi データセット - Crawdad.org  \n",
        "スウェーデン王立工科大学 Wi-Fiログデータ​(eduroamのデータ)​ 2014/09 550万件"
      ]
    },
    {
      "cell_type": "markdown",
      "metadata": {
        "id": "FgOJgy3pSu8F"
      },
      "source": [
        "\\begin{eqnarray} \n",
        "  minimize && \\sigma(a) = \\frac{1}{|S|}\\sum_{i \\in S}(\\pi_i(a) - \\bar{\\pi}_i)^2 \\\\ \n",
        "  subject \\ to && a_i \\geq 0, a_i \\in \\mathbb{R}, i \\in S \\nonumber \\\\\n",
        "  && \\sum_{i \\in S}\\frac{1}{a_i} = K, K \\in \\mathbb{R} \\nonumber \\\\\n",
        "  && a'(1-\\gamma) \\leq a \\leq a' (1 + \\gamma), \\gamma \\in \\mathbb{R} \\nonumber\n",
        "\\end{eqnarray}"
      ]
    },
    {
      "cell_type": "code",
      "metadata": {
        "id": "_5axz5Ym97mY"
      },
      "source": [
        "import numpy as np\n",
        "from numpy.linalg import solve\n",
        "import pandas as pd\n",
        "import matplotlib.pyplot as plt"
      ],
      "execution_count": 25,
      "outputs": []
    },
    {
      "cell_type": "code",
      "metadata": {
        "colab": {
          "base_uri": "https://localhost:8080/"
        },
        "id": "vS6twvcUVxln",
        "outputId": "a2766ec0-fc3d-4644-e62f-74b44cf57332"
      },
      "source": [
        "from google.colab import drive\n",
        "drive.mount('/content/drive', force_remount=True)"
      ],
      "execution_count": 26,
      "outputs": [
        {
          "output_type": "stream",
          "name": "stdout",
          "text": [
            "Mounted at /content/drive\n"
          ]
        }
      ]
    },
    {
      "cell_type": "code",
      "metadata": {
        "colab": {
          "base_uri": "https://localhost:8080/"
        },
        "id": "xK5AzNa284qU",
        "outputId": "89aa2970-2b5f-4f08-8690-3d5fab1a70d7"
      },
      "source": [
        "#推移確率行列、サービス率の設定 (Minimamモデル)\n",
        "mu = np.array([4.0, 15/2, 3.0, 10.0])\n",
        "T = sum(1 / mu) #平均滞在時間の和 (等式制約で利用)\n",
        "print(T)\n",
        "gamma = 0.25 #最適化でのmuの動く率\n",
        "p = p = np.array([[0.0, 0.7, 0.3, 0.0],[0.0, 0.0, 1.0, 0.0],[1/3, 0.0, 0.0, 2/3], [1.0, 0.0, 0.0, 0.0]])\n",
        "p"
      ],
      "execution_count": 27,
      "outputs": [
        {
          "output_type": "stream",
          "name": "stdout",
          "text": [
            "0.8166666666666665\n"
          ]
        },
        {
          "output_type": "execute_result",
          "data": {
            "text/plain": [
              "array([[0.        , 0.7       , 0.3       , 0.        ],\n",
              "       [0.        , 0.        , 1.        , 0.        ],\n",
              "       [0.33333333, 0.        , 0.        , 0.66666667],\n",
              "       [1.        , 0.        , 0.        , 0.        ]])"
            ]
          },
          "metadata": {},
          "execution_count": 27
        }
      ]
    },
    {
      "cell_type": "code",
      "metadata": {
        "colab": {
          "base_uri": "https://localhost:8080/"
        },
        "id": "90HcB8tyQQ8E",
        "outputId": "5802048d-ebef-4588-ffbe-e98209aead4d"
      },
      "source": [
        "#WiFiモデル利用\n",
        "#mu_df = pd.read_csv('/content/drive/MyDrive/研究/連続時間マルコフ連鎖最適化/csv/group_mean_duration_201409_noout.csv', engine='python', encoding='utf-8', index_col=0)\n",
        "mu_df = pd.read_csv('/content/drive/MyDrive/研究/連続時間マルコフ連鎖最適化/csv/group_mean_duration_201409_inout.csv', engine='python', encoding='utf-8', index_col=0)\n",
        "mu_mean = mu_df['duration'].values / 3600 #平均滞在時間(時)\n",
        "mu = 1 / mu_mean #滞在率に変換\n",
        "print(mu)\n",
        "T = sum(1 / mu) #平均滞在時間の和 (等式制約で利用)\n",
        "print(T)\n",
        "gamma = 0.25 #最適化でのmuの動く率\n",
        "#p = pd.read_csv('/content/drive/MyDrive/研究/連続時間マルコフ連鎖最適化/csv/group_transition_remove_201409_noout.csv', engine='python', encoding='utf-8', index_col=0)\n",
        "p = pd.read_csv('/content/drive/MyDrive/研究/連続時間マルコフ連鎖最適化/csv/group_transition_remove_201409_inout.csv', engine='python', encoding='utf-8', index_col=0)\n",
        "p = p.values\n",
        "p"
      ],
      "execution_count": 28,
      "outputs": [
        {
          "output_type": "stream",
          "name": "stdout",
          "text": [
            "[1.78443713e+00 1.88877881e+00 1.96989015e+00 1.31309518e+01\n",
            " 1.93627793e+00 1.29748959e+00 2.30542341e+00 1.01915178e+00\n",
            " 2.17644751e+00 7.65352672e-01 1.13036230e+01 2.00446348e+00\n",
            " 2.57906087e+00 4.45488932e+00 1.97332859e+00 1.36245204e+00\n",
            " 1.70550384e+00 1.93540853e+00 3.07707972e+00 5.30222792e+00\n",
            " 9.03762582e-01 2.72957148e+00 9.81365727e-01 2.71765979e+00\n",
            " 6.29870332e+00 8.50826237e+00 4.26578618e+00 2.87316207e+00\n",
            " 5.41629306e+00 2.56460754e+00 1.02095895e+01 1.34893196e+00\n",
            " 3.74019025e+00 1.24379425e+00 2.24461480e+00 4.42124718e+00\n",
            " 1.12129123e+00 8.15619935e-01 7.69485390e-01 1.14038877e+00\n",
            " 6.88817087e-01 9.02197161e-01 1.98597096e+00 3.60000000e+03]\n",
            "24.432505752694443\n"
          ]
        },
        {
          "output_type": "execute_result",
          "data": {
            "text/plain": [
              "array([[0.00000000e+00, 2.51970443e-01, 1.11576355e-01, ...,\n",
              "        2.70935961e-03, 4.53201970e-02, 3.39655172e-01],\n",
              "       [0.00000000e+00, 8.39827204e-01, 2.25151634e-02, ...,\n",
              "        2.78061229e-04, 8.40247327e-05, 7.50505448e-03],\n",
              "       [0.00000000e+00, 8.47943712e-02, 7.56743307e-01, ...,\n",
              "        2.41628577e-04, 7.76663282e-05, 7.33515322e-03],\n",
              "       ...,\n",
              "       [2.59336100e-04, 1.06651971e-02, 3.01478216e-03, ...,\n",
              "        9.47160270e-01, 9.72510373e-05, 2.04227178e-02],\n",
              "       [0.00000000e+00, 1.98396794e-02, 6.01202405e-03, ...,\n",
              "        6.01202405e-04, 6.60521042e-01, 6.59318637e-02],\n",
              "       [3.94149043e-02, 2.18602848e-01, 7.67271713e-02, ...,\n",
              "        1.92484220e-02, 1.28816362e-02, 0.00000000e+00]])"
            ]
          },
          "metadata": {},
          "execution_count": 28
        }
      ]
    },
    {
      "cell_type": "code",
      "metadata": {
        "colab": {
          "base_uri": "https://localhost:8080/",
          "height": 638
        },
        "id": "PN777NlKE7_F",
        "outputId": "8544b9e6-ed0f-4b53-98ff-a5b87dc675a6"
      },
      "source": [
        "#最適化前の滞在率\n",
        "#x_label = [i for i in range(1, len(mu)+1)]\n",
        "x_label_noout = [i for i in range(1, len(mu))]\n",
        "plt.figure(figsize=(10,10))\n",
        "plt.title('value of a in each node')\n",
        "plt.xlabel('Node Number')\n",
        "plt.ylabel('value of a')\n",
        "mu_noout = np.delete(mu, -1)\n",
        "#plt.bar(x_label, mu)\n",
        "plt.bar(x_label_noout, mu_noout)"
      ],
      "execution_count": 29,
      "outputs": [
        {
          "output_type": "execute_result",
          "data": {
            "text/plain": [
              "<BarContainer object of 43 artists>"
            ]
          },
          "metadata": {},
          "execution_count": 29
        },
        {
          "output_type": "display_data",
          "data": {
            "image/png": "[encoded data removed]",
            "text/plain": [
              "<Figure size 720x720 with 1 Axes>"
            ]
          },
          "metadata": {
            "needs_background": "light"
          }
        }
      ]
    },
    {
      "cell_type": "code",
      "metadata": {
        "id": "MBUVr1bu9T2D"
      },
      "source": [
        "#推移率行列を作成する関数\n",
        "def getTransitionRate(p, mu):\n",
        "    q = p.copy()\n",
        "    #推移率行列を求める\n",
        "    #(1)サービス率と推移確率との積をとる\n",
        "    for i in range(len(q)):\n",
        "        q[i] *= mu[i]\n",
        "    #(2)対角要素に行和のマイナス値を入れる\n",
        "    for i in range(len(q)):\n",
        "        q[i][i] = np.sum(q[i]) * (-1)\n",
        "    return q"
      ],
      "execution_count": 30,
      "outputs": []
    },
    {
      "cell_type": "code",
      "metadata": {
        "id": "rU1nil7aBr-9",
        "colab": {
          "base_uri": "https://localhost:8080/"
        },
        "outputId": "2eb55f5b-011e-4d13-8d06-218a7cc937b1"
      },
      "source": [
        "#推移率行列を作成\n",
        "q = getTransitionRate(p, mu)\n",
        "q"
      ],
      "execution_count": 31,
      "outputs": [
        {
          "output_type": "execute_result",
          "data": {
            "text/plain": [
              "array([[-1.78443713e+00,  4.49625415e-01,  1.99100990e-01, ...,\n",
              "         4.83468188e-03,  8.08710424e-02,  6.06093301e-01],\n",
              "       [ 0.00000000e+00, -1.88877881e+00,  4.25261637e-02, ...,\n",
              "         5.25196158e-04,  1.58704135e-04,  1.41753879e-02],\n",
              "       [ 0.00000000e+00,  1.67035596e-01, -1.96989015e+00, ...,\n",
              "         4.75981752e-04,  1.52994135e-04,  1.44494460e-02],\n",
              "       ...,\n",
              "       [ 2.33972293e-04,  9.62211054e-03,  2.71992790e-03, ...,\n",
              "        -9.02197161e-01,  8.77396098e-05,  1.84253181e-02],\n",
              "       [ 0.00000000e+00,  3.94010271e-02,  1.19397052e-02, ...,\n",
              "         1.19397052e-03, -1.98597096e+00,  1.30938767e-01],\n",
              "       [ 1.41893655e+02,  7.86970252e+02,  2.76217817e+02, ...,\n",
              "         6.92943191e+01,  4.63738905e+01, -3.60000000e+03]])"
            ]
          },
          "metadata": {},
          "execution_count": 31
        }
      ]
    },
    {
      "cell_type": "code",
      "metadata": {
        "id": "H_kViwAHByFE"
      },
      "source": [
        "#推移確率行列から定常分布を求める関数\n",
        "def getStationary_solve(q):#numpy.solveを使う場合\n",
        "    #定常分布を求める\n",
        "    q1 = q.copy()\n",
        "    #(3)最終列に1を代入\n",
        "    right = [0 for i in range(len(q))]\n",
        "    right[-1] = 1 #最後の要素のみ1にする\n",
        "    q1[:,-1] = 1 #最終列を1にする\n",
        "    #(4)連立方程式を解く πP=0 => P^tπ=0\n",
        "    pi = solve(q1.T, right)\n",
        "    return pi"
      ],
      "execution_count": 32,
      "outputs": []
    },
    {
      "cell_type": "code",
      "metadata": {
        "id": "tlaUvkQ5CpQ4",
        "colab": {
          "base_uri": "https://localhost:8080/"
        },
        "outputId": "39034987-521e-4a4b-c9c6-cd5d8f6a30a2"
      },
      "source": [
        "#推移確率から定常分布を求める\n",
        "pi = getStationary_solve(q)\n",
        "pi"
      ],
      "execution_count": 33,
      "outputs": [
        {
          "output_type": "execute_result",
          "data": {
            "text/plain": [
              "array([2.48783231e-02, 1.65400636e-01, 5.98197467e-02, 1.73797267e-04,\n",
              "       5.72190563e-02, 3.58075026e-03, 1.76971705e-02, 2.51645602e-02,\n",
              "       1.76448574e-03, 6.05636660e-02, 4.94672897e-05, 1.25819920e-02,\n",
              "       1.24504271e-02, 7.07845119e-03, 4.44877771e-03, 2.86568667e-03,\n",
              "       1.05656424e-02, 2.17914855e-02, 8.71623654e-03, 7.22986663e-03,\n",
              "       6.23296144e-03, 1.37561677e-02, 6.26940756e-02, 3.85095349e-03,\n",
              "       1.19143803e-03, 6.65327578e-04, 1.41132074e-03, 5.00010738e-03,\n",
              "       6.53085491e-04, 2.75279056e-03, 6.84277196e-04, 3.09899698e-02,\n",
              "       2.20481224e-03, 4.69377265e-02, 1.29259098e-02, 1.87785551e-03,\n",
              "       2.00763328e-02, 1.90129995e-03, 1.48303730e-01, 2.02836904e-02,\n",
              "       7.83038615e-02, 2.44567595e-02, 8.49311892e-03, 3.12203269e-04])"
            ]
          },
          "metadata": {},
          "execution_count": 33
        }
      ]
    },
    {
      "cell_type": "code",
      "metadata": {
        "colab": {
          "base_uri": "https://localhost:8080/",
          "height": 638
        },
        "id": "pJ5wkKBmBk51",
        "outputId": "88c6e2c1-d75b-4cc3-9039-8b3520ab4550"
      },
      "source": [
        "#初期状態での定常分布\n",
        "x_label = [i for i in range(1,len(pi)+1)]\n",
        "plt.figure(figsize=(10,10))\n",
        "plt.title('Stationary Distribution using initial values')\n",
        "plt.xlabel('Node Number')\n",
        "plt.ylabel('Probability')\n",
        "plt.bar(x_label, pi)"
      ],
      "execution_count": 34,
      "outputs": [
        {
          "output_type": "execute_result",
          "data": {
            "text/plain": [
              "<BarContainer object of 44 artists>"
            ]
          },
          "metadata": {},
          "execution_count": 34
        },
        {
          "output_type": "display_data",
          "data": {
            "image/png": "[encoded data removed]",
            "text/plain": [
              "<Figure size 720x720 with 1 Axes>"
            ]
          },
          "metadata": {
            "needs_background": "light"
          }
        }
      ]
    },
    {
      "cell_type": "code",
      "metadata": {
        "id": "cTlz1HsJC-DH"
      },
      "source": [
        "#目的関数\n",
        "def getObjective(pi):\n",
        "  return np.var(pi)"
      ],
      "execution_count": 35,
      "outputs": []
    },
    {
      "cell_type": "code",
      "metadata": {
        "id": "ZgKFGk8BE900",
        "colab": {
          "base_uri": "https://localhost:8080/"
        },
        "outputId": "35b28dab-3906-42b9-8ad7-ee39fb5c73fe"
      },
      "source": [
        "#目的間数値を求める\n",
        "getObjective(pi)"
      ],
      "execution_count": 36,
      "outputs": [
        {
          "output_type": "execute_result",
          "data": {
            "text/plain": [
              "0.0012500393907871421"
            ]
          },
          "metadata": {},
          "execution_count": 36
        }
      ]
    },
    {
      "cell_type": "code",
      "metadata": {
        "id": "GA4VtzYOWgLK"
      },
      "source": [
        "def getConstraint(mu):\n",
        "  Ts = [1/i for i in mu]#平均時間に変換\n",
        "  return T - np.sum(Ts)"
      ],
      "execution_count": 37,
      "outputs": []
    },
    {
      "cell_type": "code",
      "metadata": {
        "id": "AkeOzGOkFD0Q"
      },
      "source": [
        "#等式制約\n",
        "cons = ({'type':'eq','fun':getConstraint})\n",
        "#bounds\n",
        "lb = mu * (1 - gamma)\n",
        "ub = mu * (1 + gamma)\n",
        "#bounds = [(3,5), (5.625,9.375), (2.25,3.75), (7.5, 12.5)]\n",
        "#Boundsクラスを利用して、bounds=Bounds(lb, ub),とする"
      ],
      "execution_count": 38,
      "outputs": []
    },
    {
      "cell_type": "code",
      "metadata": {
        "id": "4M79DygpXbFm"
      },
      "source": [
        "#目的関数 (サービス率を変更して、再度定常分布を求め、目的関数を求める)\n",
        "def getOptimize(mu):\n",
        "  #(1)推移確率行列を求める\n",
        "  q = getTransitionRate(p, mu)\n",
        "  #(2)定常分布を求める\n",
        "  pi = getStationary_solve(q)\n",
        "  #(3)目的間数値を求める\n",
        "  return getObjective(pi)"
      ],
      "execution_count": 39,
      "outputs": []
    },
    {
      "cell_type": "code",
      "metadata": {
        "colab": {
          "base_uri": "https://localhost:8080/"
        },
        "id": "IevjK_UOZSa3",
        "outputId": "8385b391-0f81-4a63-bfa1-a3f459dc3565"
      },
      "source": [
        "# 最適化\n",
        "res = minimize(getOptimize,                       # 目的関数, \n",
        "                mu,                     # 初期解,\n",
        "                method=\"trust-constr\",  # 制約付き信頼領域法\n",
        "                jac=\"2-point\",          # 勾配関数\n",
        "                hess=BFGS(),            # ヘシアンの推定方法\n",
        "                constraints=cons,      # 制約\n",
        "                bounds=Bounds(lb, ub),\n",
        "                options={\"maxiter\": 3000, # 最大反復数\n",
        "                         \"verbose\":2})  # 最適化の過程を出力\n",
        "print(res[\"x\"])\n",
        "#最終結果\n",
        "q = getTransitionRate(p, res['x'])\n",
        "pi = getStationary_solve(q)\n",
        "val = getObjective(pi)\n",
        "print('定常分布pi = {0}'.format(pi))\n",
        "print('目的間数値(最終) : {0}'.format(val))"
      ],
      "execution_count": 40,
      "outputs": [
        {
          "output_type": "stream",
          "name": "stdout",
          "text": [
            "| niter |f evals|CG iter|  obj func   |tr radius |   opt    |  c viol  |\n",
            "|-------|-------|-------|-------------|----------|----------|----------|\n",
            "|   1   |  45   |   0   | +1.2500e-03 | 1.00e+00 | 1.90e-04 | 0.00e+00 |\n",
            "|   2   |  90   |   1   | +1.2498e-03 | 5.60e+00 | 1.46e-04 | 1.46e-07 |\n",
            "|   3   |  135  |   2   | +1.2487e-03 | 6.10e+00 | 6.72e-05 | 3.23e-06 |\n",
            "|   4   |  180  |   3   | +1.2501e-03 | 6.10e+00 | 5.02e-05 | 7.87e-06 |\n",
            "|   5   |  180  |   3   | +1.2501e-03 | 3.05e+01 | 3.31e-05 | 7.87e-06 |\n",
            "|   6   |  225  |   4   | +1.2488e-03 | 3.05e+01 | 5.07e-06 | 3.66e-06 |\n",
            "|   7   |  225  |   4   | +1.2488e-03 | 1.52e+02 | 2.76e-05 | 3.66e-06 |\n",
            "|   8   |  225  |   4   | +1.2488e-03 | 7.62e+02 | 3.32e-05 | 3.66e-06 |\n",
            "|   9   |  225  |   4   | +1.2488e-03 | 3.81e+03 | 3.43e-05 | 3.66e-06 |\n",
            "|  10   |  225  |   4   | +1.2488e-03 | 1.91e+04 | 3.45e-05 | 3.66e-06 |\n",
            "|  11   |  315  |   6   | +1.0943e-03 | 1.91e+04 | 5.37e-06 | 8.39e-05 |\n",
            "|  12   |  405  |  10   | +1.0727e-03 | 1.91e+04 | 1.59e-06 | 3.07e-06 |\n",
            "|  13   |  405  |  10   | +1.0727e-03 | 9.53e+04 | 3.80e-06 | 3.07e-06 |\n",
            "|  14   |  495  |  16   | +1.0175e-03 | 9.53e+04 | 1.58e-06 | 2.53e-05 |\n",
            "|  15   |  585  |  26   | +1.0106e-03 | 9.53e+04 | 1.48e-06 | 1.02e-05 |\n",
            "|  16   |  675  |  40   | +1.0106e-03 | 9.53e+03 | 1.48e-06 | 1.02e-05 |\n",
            "|  17   |  765  |  55   | +1.0106e-03 | 9.53e+02 | 1.48e-06 | 1.02e-05 |\n",
            "|  18   |  855  |  67   | +1.0106e-03 | 9.53e+01 | 1.48e-06 | 1.02e-05 |\n",
            "|  19   |  945  |  82   | +1.0106e-03 | 9.53e+00 | 1.48e-06 | 1.02e-05 |\n",
            "|  20   | 1035  |  98   | +1.0106e-03 | 9.53e-01 | 1.48e-06 | 1.02e-05 |\n",
            "|  21   | 1125  |  102  | +1.0106e-03 | 9.53e-02 | 1.48e-06 | 1.02e-05 |\n",
            "|  22   | 1215  |  103  | +1.0089e-03 | 6.67e-01 | 1.41e-06 | 1.44e-07 |\n",
            "|  23   | 1215  |  103  | +1.0089e-03 | 3.33e+00 | 1.62e-06 | 1.44e-07 |\n",
            "|  24   | 1260  |  120  | +1.0089e-03 | 3.33e-01 | 1.62e-06 | 1.44e-07 |\n",
            "|  25   | 1350  |  121  | +1.0023e-03 | 6.67e-01 | 1.51e-06 | 3.88e-06 |\n",
            "|  26   | 1440  |  123  | +1.0023e-03 | 6.67e-02 | 1.51e-06 | 3.88e-06 |\n",
            "|  27   | 1530  |  124  | +1.0011e-03 | 4.67e-01 | 1.49e-06 | 2.70e-08 |\n",
            "|  28   | 1620  |  125  | +1.0011e-03 | 4.67e-02 | 1.49e-06 | 2.70e-08 |\n",
            "|  29   | 1710  |  126  | +1.0002e-03 | 3.27e-01 | 1.48e-06 | 8.89e-09 |\n",
            "|  30   | 1800  |  127  | +9.9430e-04 | 6.54e-01 | 1.39e-06 | 2.74e-06 |\n",
            "|  31   | 1890  |  129  | +9.9430e-04 | 6.54e-02 | 1.39e-06 | 2.74e-06 |\n",
            "|  32   | 1980  |  130  | +9.9318e-04 | 4.57e-01 | 1.37e-06 | 1.81e-08 |\n",
            "|  33   | 2070  |  132  | +9.8549e-04 | 9.15e-01 | 1.23e-06 | 5.18e-06 |\n",
            "|  34   | 2160  |  135  | +9.8549e-04 | 9.15e-02 | 1.23e-06 | 5.18e-06 |\n",
            "|  35   | 2250  |  136  | +9.8408e-04 | 6.40e-01 | 1.20e-06 | 2.90e-08 |\n",
            "|  36   | 2340  |  138  | +9.7446e-04 | 6.40e-01 | 1.13e-06 | 7.30e-06 |\n",
            "|  37   | 2430  |  141  | +9.6607e-04 | 4.48e+00 | 1.11e-06 | 2.40e-06 |\n",
            "|  38   | 2520  |  161  | +9.6607e-04 | 4.48e-01 | 1.11e-06 | 2.40e-06 |\n",
            "|  39   | 2610  |  164  | +9.6093e-04 | 3.14e+00 | 1.09e-06 | 2.02e-07 |\n",
            "|  40   | 2700  |  185  | +9.6093e-04 | 3.14e-01 | 1.09e-06 | 2.02e-07 |\n",
            "|  41   | 2790  |  188  | +9.5764e-04 | 2.20e+00 | 1.08e-06 | 1.49e-09 |\n",
            "|  42   | 2880  |  210  | +9.5764e-04 | 2.20e-01 | 1.08e-06 | 1.49e-09 |\n",
            "|  43   | 2970  |  213  | +9.5548e-04 | 1.54e+00 | 1.07e-06 | 1.97e-09 |\n",
            "|  44   | 3060  |  229  | +9.4255e-04 | 3.08e+00 | 1.04e-06 | 3.60e-06 |\n",
            "|  45   | 3150  |  245  | +9.4183e-04 | 3.08e+00 | 1.03e-06 | 1.28e-08 |\n",
            "|  46   | 3150  |  245  | +9.4183e-04 | 1.54e+01 | 1.11e-06 | 1.28e-08 |\n",
            "|  47   | 3240  |  277  | +9.4183e-04 | 1.54e+00 | 1.11e-06 | 1.28e-08 |\n",
            "|  48   | 3330  |  293  | +9.4183e-04 | 1.54e-01 | 1.11e-06 | 1.28e-08 |\n",
            "|  49   | 3420  |  296  | +9.4083e-04 | 1.08e+00 | 1.11e-06 | 6.60e-08 |\n",
            "|  50   | 3510  |  306  | +9.4083e-04 | 1.08e-01 | 1.11e-06 | 6.60e-08 |\n",
            "|  51   | 3600  |  309  | +9.4013e-04 | 7.54e-01 | 1.10e-06 | 1.87e-08 |\n",
            "|  52   | 3690  |  317  | +9.4013e-04 | 7.54e-02 | 1.10e-06 | 1.87e-08 |\n",
            "|  53   | 3780  |  319  | +9.3964e-04 | 5.27e-01 | 1.10e-06 | 5.56e-09 |\n",
            "|  54   | 3870  |  326  | +9.3669e-04 | 1.05e+00 | 1.10e-06 | 1.79e-06 |\n",
            "|  55   | 3960  |  337  | +9.3669e-04 | 1.05e-01 | 1.10e-06 | 1.79e-06 |\n",
            "|  56   | 4050  |  340  | +9.3611e-04 | 7.38e-01 | 1.09e-06 | 5.30e-09 |\n",
            "|  57   | 4140  |  349  | +9.3260e-04 | 5.17e+00 | 1.09e-06 | 3.52e-07 |\n",
            "|  58   | 4230  |  377  | +9.3260e-04 | 5.17e-01 | 1.09e-06 | 3.52e-07 |\n",
            "|  59   | 4320  |  384  | +9.3053e-04 | 1.03e+00 | 1.08e-06 | 1.01e-06 |\n",
            "|  60   | 4410  |  396  | +9.3053e-04 | 1.03e-01 | 1.08e-06 | 1.01e-06 |\n",
            "|  61   | 4500  |  400  | +9.3012e-04 | 7.24e-01 | 1.08e-06 | 6.19e-09 |\n",
            "|  62   | 4590  |  409  | +9.3012e-04 | 7.24e-02 | 1.08e-06 | 6.19e-09 |\n",
            "|  63   | 4680  |  413  | +9.2983e-04 | 5.07e-01 | 1.08e-06 | 2.19e-09 |\n",
            "|  64   | 4770  |  422  | +9.2813e-04 | 3.55e+00 | 1.08e-06 | 4.76e-07 |\n",
            "|  65   | 4860  |  448  | +9.2813e-04 | 3.55e-01 | 1.08e-06 | 4.76e-07 |\n",
            "|  66   | 4950  |  458  | +9.2705e-04 | 2.48e+00 | 1.07e-06 | 1.84e-07 |\n",
            "|  67   | 5040  |  485  | +9.2705e-04 | 2.48e-01 | 1.07e-06 | 1.84e-07 |\n",
            "|  68   | 5130  |  495  | +9.2633e-04 | 1.74e+00 | 1.07e-06 | 5.71e-08 |\n",
            "|  69   | 5220  |  520  | +9.2633e-04 | 1.74e-01 | 1.07e-06 | 5.71e-08 |\n",
            "|  70   | 5310  |  529  | +9.2584e-04 | 1.22e+00 | 1.07e-06 | 2.38e-08 |\n",
            "|  71   | 5400  |  546  | +9.2584e-04 | 1.22e-01 | 1.07e-06 | 2.38e-08 |\n",
            "|  72   | 5490  |  554  | +9.2550e-04 | 8.51e-01 | 1.07e-06 | 4.13e-09 |\n",
            "|  73   | 5580  |  568  | +9.2550e-04 | 8.51e-02 | 1.07e-06 | 4.13e-09 |\n",
            "|  74   | 5670  |  574  | +9.2526e-04 | 5.96e-01 | 1.07e-06 | 3.40e-10 |\n",
            "|  75   | 5760  |  588  | +9.2389e-04 | 4.17e+00 | 1.06e-06 | 2.11e-07 |\n",
            "|  76   | 5850  |  612  | +9.2389e-04 | 4.17e-01 | 1.06e-06 | 2.11e-07 |\n",
            "|  77   | 5940  |  626  | +9.2305e-04 | 2.92e+00 | 1.06e-06 | 4.55e-08 |\n",
            "|  78   | 6030  |  650  | +9.2305e-04 | 2.92e-01 | 1.06e-06 | 4.55e-08 |\n",
            "|  79   | 6120  |  666  | +9.2251e-04 | 2.04e+00 | 1.06e-06 | 5.16e-09 |\n",
            "|  80   | 6210  |  690  | +9.2251e-04 | 2.04e-01 | 1.06e-06 | 5.16e-09 |\n",
            "|  81   | 6300  |  702  | +9.2213e-04 | 1.43e+00 | 1.06e-06 | 3.53e-08 |\n",
            "|  82   | 6390  |  726  | +9.2213e-04 | 1.43e-01 | 1.06e-06 | 3.53e-08 |\n",
            "|  83   | 6480  |  737  | +9.2188e-04 | 1.00e+00 | 1.06e-06 | 5.70e-09 |\n",
            "|  84   | 6570  |  759  | +9.2188e-04 | 1.00e-01 | 1.06e-06 | 5.70e-09 |\n",
            "|  85   | 6660  |  768  | +9.2169e-04 | 7.01e-01 | 1.05e-06 | 1.47e-08 |\n",
            "|  86   | 6750  |  790  | +9.2169e-04 | 7.01e-02 | 1.05e-06 | 1.47e-08 |\n",
            "|  87   | 6840  |  796  | +9.2153e-04 | 1.40e-01 | 1.05e-06 | 7.46e-08 |\n",
            "|  88   | 6930  |  805  | +9.2153e-04 | 1.40e-02 | 1.05e-06 | 7.46e-08 |\n",
            "|  89   | 7020  |  808  | +9.2149e-04 | 9.82e-02 | 1.05e-06 | 1.85e-10 |\n",
            "|  90   | 7110  |  816  | +9.2149e-04 | 9.82e-03 | 1.05e-06 | 1.85e-10 |\n",
            "|  91   | 7200  |  818  | +9.2145e-04 | 6.87e-02 | 1.05e-06 | 3.72e-11 |\n",
            "|  92   | 7290  |  826  | +9.2130e-04 | 4.81e-01 | 1.05e-06 | 4.66e-08 |\n",
            "|  93   | 7380  |  843  | +9.2130e-04 | 4.81e-02 | 1.05e-06 | 4.66e-08 |\n",
            "|  94   | 7470  |  850  | +9.2119e-04 | 3.37e-01 | 1.04e-06 | 1.85e-08 |\n",
            "|  95   | 7560  |  866  | +9.2119e-04 | 3.37e-02 | 1.04e-06 | 1.85e-08 |\n",
            "|  96   | 7650  |  872  | +9.2110e-04 | 2.36e-01 | 1.04e-06 | 5.91e-09 |\n",
            "|  97   | 7740  |  886  | +9.2110e-04 | 2.36e-02 | 1.04e-06 | 5.91e-09 |\n",
            "|  98   | 7830  |  890  | +9.2104e-04 | 1.65e-01 | 1.04e-06 | 1.68e-09 |\n",
            "|  99   | 7920  |  901  | +9.2104e-04 | 1.65e-02 | 1.04e-06 | 1.68e-09 |\n",
            "|  100  | 8010  |  905  | +9.2099e-04 | 1.15e-01 | 1.04e-06 | 3.38e-10 |\n",
            "|  101  | 8100  |  914  | +9.2099e-04 | 1.15e-02 | 1.04e-06 | 3.38e-10 |\n",
            "|  102  | 8190  |  917  | +9.2095e-04 | 8.08e-02 | 1.04e-06 | 6.36e-11 |\n",
            "|  103  | 8280  |  925  | +9.2079e-04 | 1.62e-01 | 1.03e-06 | 9.35e-08 |\n",
            "|  104  | 8370  |  936  | +9.2079e-04 | 1.62e-02 | 1.03e-06 | 9.35e-08 |\n",
            "|  105  | 8460  |  940  | +9.2074e-04 | 1.13e-01 | 1.03e-06 | 3.01e-10 |\n",
            "|  106  | 8550  |  950  | +9.2074e-04 | 1.13e-02 | 1.03e-06 | 3.01e-10 |\n",
            "|  107  | 8640  |  953  | +9.2071e-04 | 7.92e-02 | 1.03e-06 | 5.27e-11 |\n",
            "|  108  | 8730  |  962  | +9.2055e-04 | 1.58e-01 | 1.03e-06 | 7.86e-08 |\n",
            "|  109  | 8820  |  973  | +9.2055e-04 | 1.58e-02 | 1.03e-06 | 7.86e-08 |\n",
            "|  110  | 8910  |  977  | +9.2050e-04 | 1.11e-01 | 1.03e-06 | 2.61e-10 |\n",
            "|  111  | 9000  |  987  | +9.2050e-04 | 1.11e-02 | 1.03e-06 | 2.61e-10 |\n",
            "|  112  | 9090  |  990  | +9.2046e-04 | 7.76e-02 | 1.03e-06 | 4.09e-11 |\n",
            "|  113  | 9180  |  999  | +9.2031e-04 | 1.55e-01 | 1.02e-06 | 7.33e-08 |\n",
            "|  114  | 9270  | 1010  | +9.2031e-04 | 1.55e-02 | 1.02e-06 | 7.33e-08 |\n",
            "|  115  | 9360  | 1014  | +9.2027e-04 | 1.09e-01 | 1.02e-06 | 2.18e-10 |\n",
            "|  116  | 9450  | 1024  | +9.2027e-04 | 1.09e-02 | 1.02e-06 | 2.18e-10 |\n",
            "|  117  | 9540  | 1027  | +9.2023e-04 | 7.61e-02 | 1.02e-06 | 3.24e-11 |\n",
            "|  118  | 9630  | 1036  | +9.2008e-04 | 1.52e-01 | 1.02e-06 | 5.95e-08 |\n",
            "|  119  | 9720  | 1047  | +9.2008e-04 | 1.52e-02 | 1.02e-06 | 5.95e-08 |\n",
            "|  120  | 9810  | 1051  | +9.2004e-04 | 1.07e-01 | 1.01e-06 | 1.85e-10 |\n",
            "|  121  | 9900  | 1061  | +9.2004e-04 | 1.07e-02 | 1.01e-06 | 1.85e-10 |\n",
            "|  122  | 9990  | 1064  | +9.2001e-04 | 7.46e-02 | 1.01e-06 | 2.52e-11 |\n",
            "|  123  | 10080 | 1073  | +9.1986e-04 | 1.49e-01 | 1.01e-06 | 5.31e-08 |\n",
            "|  124  | 10170 | 1084  | +9.1986e-04 | 1.49e-02 | 1.01e-06 | 5.31e-08 |\n",
            "|  125  | 10260 | 1088  | +9.1982e-04 | 1.04e-01 | 1.01e-06 | 1.55e-10 |\n",
            "|  126  | 10350 | 1099  | +9.1963e-04 | 1.04e-01 | 1.00e-06 | 1.09e-07 |\n",
            "|  127  | 10440 | 1110  | +9.1945e-04 | 2.09e-01 | 9.98e-07 | 8.52e-08 |\n",
            "|  128  | 10530 | 1125  | +9.1945e-04 | 2.09e-02 | 9.98e-07 | 8.52e-08 |\n",
            "|  129  | 10620 | 1131  | +9.1940e-04 | 1.46e-01 | 9.97e-07 | 7.70e-10 |\n",
            "|  130  | 10710 | 1144  | +9.1940e-04 | 1.46e-02 | 9.97e-07 | 7.70e-10 |\n",
            "|  131  | 10800 | 1148  | +9.1936e-04 | 1.02e-01 | 9.96e-07 | 1.21e-10 |\n",
            "|  132  | 10890 | 1159  | +9.1918e-04 | 2.05e-01 | 9.91e-07 | 5.70e-08 |\n",
            "|  133  | 10980 | 1174  | +9.1918e-04 | 2.05e-02 | 9.91e-07 | 5.70e-08 |\n",
            "|  134  | 11070 | 1180  | +9.1913e-04 | 1.43e-01 | 9.89e-07 | 6.49e-10 |\n",
            "|  135  | 11160 | 1194  | +9.1891e-04 | 1.43e-01 | 9.84e-07 | 1.02e-07 |\n",
            "|  136  | 11250 | 1208  | +9.1869e-04 | 2.86e-01 | 9.79e-07 | 7.18e-08 |\n",
            "|  137  | 11340 | 1227  | +9.1869e-04 | 2.86e-02 | 9.79e-07 | 7.18e-08 |\n",
            "|  138  | 11430 | 1236  | +9.1863e-04 | 2.01e-01 | 9.77e-07 | 1.77e-09 |\n",
            "|  139  | 11520 | 1253  | +9.1863e-04 | 2.01e-02 | 9.77e-07 | 1.77e-09 |\n",
            "|  140  | 11610 | 1260  | +9.1858e-04 | 1.40e-01 | 9.75e-07 | 5.44e-10 |\n",
            "|  141  | 11700 | 1275  | +9.1838e-04 | 9.83e-01 | 9.71e-07 | 3.32e-08 |\n",
            "|  142  | 11790 | 1297  | +9.1838e-04 | 9.83e-02 | 9.71e-07 | 3.32e-08 |\n",
            "|  143  | 11880 | 1312  | +9.1823e-04 | 6.88e-01 | 9.68e-07 | 1.07e-08 |\n",
            "|  144  | 11970 | 1317  | +9.1819e-04 | 6.88e-01 | 9.67e-07 | 1.95e-10 |\n",
            "|  145  | 12060 | 1322  | +9.1815e-04 | 6.88e-01 | 9.65e-07 | 1.93e-10 |\n",
            "|  146  | 12150 | 1327  | +9.1811e-04 | 6.88e-01 | 9.64e-07 | 1.69e-10 |\n",
            "|  147  | 12240 | 1334  | +9.1807e-04 | 6.88e-01 | 9.63e-07 | 4.89e-10 |\n",
            "|  148  | 12330 | 1341  | +9.1803e-04 | 6.88e-01 | 9.61e-07 | 4.93e-10 |\n",
            "|  149  | 12420 | 1349  | +9.1798e-04 | 6.88e-01 | 9.59e-07 | 7.26e-10 |\n",
            "|  150  | 12510 | 1356  | +9.1793e-04 | 6.88e-01 | 9.58e-07 | 4.98e-10 |\n",
            "|  151  | 12600 | 1364  | +9.1789e-04 | 6.88e-01 | 9.56e-07 | 6.92e-10 |\n",
            "|  152  | 12690 | 1373  | +9.1784e-04 | 6.88e-01 | 9.54e-07 | 7.51e-10 |\n",
            "|  153  | 12780 | 1382  | +9.1779e-04 | 6.88e-01 | 9.53e-07 | 7.32e-10 |\n",
            "|  154  | 12870 | 1391  | +9.1774e-04 | 6.88e-01 | 9.51e-07 | 7.15e-10 |\n",
            "|  155  | 12960 | 1399  | +9.1769e-04 | 6.88e-01 | 9.49e-07 | 5.46e-10 |\n",
            "|  156  | 13050 | 1408  | +9.1764e-04 | 6.88e-01 | 9.47e-07 | 6.69e-10 |\n",
            "|  157  | 13140 | 1417  | +9.1759e-04 | 6.88e-01 | 9.46e-07 | 6.33e-10 |\n",
            "|  158  | 13230 | 1425  | +9.1755e-04 | 6.88e-01 | 9.44e-07 | 5.11e-10 |\n",
            "|  159  | 13320 | 1433  | +9.1750e-04 | 6.88e-01 | 9.42e-07 | 4.79e-10 |\n",
            "|  160  | 13410 | 1441  | +9.1746e-04 | 6.88e-01 | 9.41e-07 | 4.35e-10 |\n",
            "|  161  | 13500 | 1449  | +9.1741e-04 | 6.88e-01 | 9.39e-07 | 4.25e-10 |\n",
            "|  162  | 13590 | 1457  | +9.1737e-04 | 6.88e-01 | 9.37e-07 | 4.12e-10 |\n",
            "|  163  | 13680 | 1465  | +9.1732e-04 | 6.88e-01 | 9.36e-07 | 4.17e-10 |\n",
            "|  164  | 13770 | 1473  | +9.1728e-04 | 6.88e-01 | 9.34e-07 | 3.47e-10 |\n",
            "|  165  | 13860 | 1482  | +9.1723e-04 | 6.88e-01 | 9.32e-07 | 4.28e-10 |\n",
            "|  166  | 13950 | 1491  | +9.1718e-04 | 6.88e-01 | 9.31e-07 | 4.73e-10 |\n",
            "|  167  | 14040 | 1500  | +9.1714e-04 | 6.88e-01 | 9.29e-07 | 4.61e-10 |\n",
            "|  168  | 14130 | 1509  | +9.1709e-04 | 6.88e-01 | 9.27e-07 | 4.46e-10 |\n",
            "|  169  | 14220 | 1518  | +9.1704e-04 | 6.88e-01 | 9.25e-07 | 4.33e-10 |\n",
            "|  170  | 14310 | 1527  | +9.1700e-04 | 6.88e-01 | 9.24e-07 | 4.26e-10 |\n",
            "|  171  | 14400 | 1536  | +9.1695e-04 | 6.88e-01 | 9.22e-07 | 4.10e-10 |\n",
            "|  172  | 14490 | 1545  | +9.1691e-04 | 6.88e-01 | 9.20e-07 | 4.26e-10 |\n",
            "|  173  | 14580 | 1554  | +9.1686e-04 | 6.88e-01 | 9.18e-07 | 4.06e-10 |\n",
            "|  174  | 14670 | 1563  | +9.1682e-04 | 6.88e-01 | 9.16e-07 | 3.86e-10 |\n",
            "|  175  | 14760 | 1572  | +9.1677e-04 | 6.88e-01 | 9.15e-07 | 3.70e-10 |\n",
            "|  176  | 14850 | 1581  | +9.1673e-04 | 6.88e-01 | 9.13e-07 | 3.31e-10 |\n",
            "|  177  | 14940 | 1590  | +9.1668e-04 | 6.88e-01 | 9.11e-07 | 2.69e-10 |\n",
            "|  178  | 15030 | 1599  | +9.1664e-04 | 6.88e-01 | 9.10e-07 | 2.77e-10 |\n",
            "|  179  | 15120 | 1608  | +9.1660e-04 | 6.88e-01 | 9.08e-07 | 2.68e-10 |\n",
            "|  180  | 15210 | 1617  | +9.1655e-04 | 6.88e-01 | 9.06e-07 | 3.02e-10 |\n",
            "|  181  | 15300 | 1620  | +9.1653e-04 | 6.88e-01 | 9.05e-07 | 1.32e-11 |\n",
            "|  182  | 15390 | 1623  | +9.1652e-04 | 6.88e-01 | 9.04e-07 | 1.32e-11 |\n",
            "|  183  | 15480 | 1626  | +9.1650e-04 | 6.88e-01 | 9.03e-07 | 1.38e-11 |\n",
            "|  184  | 15570 | 1629  | +9.1648e-04 | 6.88e-01 | 9.02e-07 | 1.34e-11 |\n",
            "|  185  | 15660 | 1632  | +9.1646e-04 | 6.88e-01 | 9.01e-07 | 1.26e-11 |\n",
            "|  186  | 15750 | 1635  | +9.1644e-04 | 6.88e-01 | 9.00e-07 | 1.22e-11 |\n",
            "|  187  | 15840 | 1638  | +9.1642e-04 | 6.88e-01 | 8.98e-07 | 1.22e-11 |\n",
            "|  188  | 15930 | 1641  | +9.1641e-04 | 6.88e-01 | 8.97e-07 | 1.21e-11 |\n",
            "|  189  | 16020 | 1644  | +9.1639e-04 | 6.88e-01 | 8.96e-07 | 1.20e-11 |\n",
            "|  190  | 16110 | 1647  | +9.1637e-04 | 6.88e-01 | 8.95e-07 | 1.20e-11 |\n",
            "|  191  | 16200 | 1650  | +9.1635e-04 | 6.88e-01 | 8.94e-07 | 1.22e-11 |\n",
            "|  192  | 16290 | 1653  | +9.1633e-04 | 6.88e-01 | 8.93e-07 | 1.27e-11 |\n",
            "|  193  | 16380 | 1663  | +9.1629e-04 | 6.88e-01 | 8.91e-07 | 3.97e-10 |\n",
            "|  194  | 16470 | 1666  | +9.1627e-04 | 6.88e-01 | 8.90e-07 | 1.24e-11 |\n",
            "|  195  | 16560 | 1669  | +9.1625e-04 | 6.88e-01 | 8.88e-07 | 1.19e-11 |\n",
            "|  196  | 16650 | 1672  | +9.1623e-04 | 6.88e-01 | 8.87e-07 | 1.80e-11 |\n",
            "|  197  | 16740 | 1675  | +9.1622e-04 | 6.88e-01 | 8.86e-07 | 1.20e-11 |\n",
            "|  198  | 16830 | 1678  | +9.1620e-04 | 6.88e-01 | 8.85e-07 | 1.18e-11 |\n",
            "|  199  | 16920 | 1681  | +9.1618e-04 | 6.88e-01 | 8.84e-07 | 1.19e-11 |\n",
            "|  200  | 17010 | 1684  | +9.1616e-04 | 6.88e-01 | 8.83e-07 | 1.16e-11 |\n",
            "|  201  | 17100 | 1687  | +9.1615e-04 | 6.88e-01 | 8.82e-07 | 1.16e-11 |\n",
            "|  202  | 17190 | 1690  | +9.1613e-04 | 6.88e-01 | 8.80e-07 | 1.14e-11 |\n",
            "|  203  | 17280 | 1700  | +9.1609e-04 | 6.88e-01 | 8.78e-07 | 3.02e-10 |\n",
            "|  204  | 17370 | 1703  | +9.1607e-04 | 6.88e-01 | 8.77e-07 | 1.17e-11 |\n",
            "|  205  | 17460 | 1706  | +9.1605e-04 | 6.88e-01 | 8.76e-07 | 1.09e-11 |\n",
            "|  206  | 17550 | 1709  | +9.1604e-04 | 6.88e-01 | 8.75e-07 | 1.07e-11 |\n",
            "|  207  | 17640 | 1712  | +9.1602e-04 | 6.88e-01 | 8.74e-07 | 1.09e-11 |\n",
            "|  208  | 17730 | 1715  | +9.1600e-04 | 6.88e-01 | 8.72e-07 | 1.10e-11 |\n",
            "|  209  | 17820 | 1725  | +9.1596e-04 | 6.88e-01 | 8.70e-07 | 3.12e-10 |\n",
            "|  210  | 17910 | 1728  | +9.1594e-04 | 6.88e-01 | 8.69e-07 | 1.12e-11 |\n",
            "|  211  | 18000 | 1731  | +9.1592e-04 | 6.88e-01 | 8.68e-07 | 1.11e-11 |\n",
            "|  212  | 18090 | 1734  | +9.1591e-04 | 6.88e-01 | 8.67e-07 | 1.16e-11 |\n",
            "|  213  | 18180 | 1737  | +9.1589e-04 | 6.88e-01 | 8.65e-07 | 1.16e-11 |\n",
            "|  214  | 18270 | 1740  | +9.1587e-04 | 6.88e-01 | 8.64e-07 | 1.18e-11 |\n",
            "|  215  | 18360 | 1743  | +9.1586e-04 | 6.88e-01 | 8.63e-07 | 1.18e-11 |\n",
            "|  216  | 18450 | 1746  | +9.1584e-04 | 6.88e-01 | 8.62e-07 | 1.17e-11 |\n",
            "|  217  | 18540 | 1749  | +9.1582e-04 | 6.88e-01 | 8.60e-07 | 9.48e-12 |\n",
            "|  218  | 18630 | 1752  | +9.1581e-04 | 6.88e-01 | 8.59e-07 | 9.93e-12 |\n",
            "|  219  | 18720 | 1755  | +9.1579e-04 | 6.88e-01 | 8.58e-07 | 1.00e-11 |\n",
            "|  220  | 18810 | 1758  | +9.1577e-04 | 6.88e-01 | 8.57e-07 | 9.95e-12 |\n",
            "|  221  | 18900 | 1761  | +9.1576e-04 | 6.88e-01 | 8.55e-07 | 9.85e-12 |\n",
            "|  222  | 18990 | 1764  | +9.1574e-04 | 6.88e-01 | 8.54e-07 | 9.57e-12 |\n",
            "|  223  | 19080 | 1767  | +9.1572e-04 | 6.88e-01 | 8.53e-07 | 1.06e-11 |\n",
            "|  224  | 19170 | 1770  | +9.1571e-04 | 6.88e-01 | 8.51e-07 | 1.05e-11 |\n",
            "|  225  | 19260 | 1773  | +9.1569e-04 | 6.88e-01 | 8.50e-07 | 1.05e-11 |\n",
            "|  226  | 19350 | 1776  | +9.1567e-04 | 6.88e-01 | 8.49e-07 | 1.04e-11 |\n",
            "|  227  | 19440 | 1779  | +9.1566e-04 | 6.88e-01 | 8.47e-07 | 1.03e-11 |\n",
            "|  228  | 19530 | 1782  | +9.1564e-04 | 6.88e-01 | 8.46e-07 | 1.02e-11 |\n",
            "|  229  | 19620 | 1792  | +9.1560e-04 | 6.88e-01 | 8.44e-07 | 3.00e-10 |\n",
            "|  230  | 19710 | 1802  | +9.1556e-04 | 6.88e-01 | 8.42e-07 | 4.47e-10 |\n",
            "|  231  | 19800 | 1805  | +9.1554e-04 | 6.88e-01 | 8.40e-07 | 9.10e-12 |\n",
            "|  232  | 19890 | 1815  | +9.1550e-04 | 6.88e-01 | 8.38e-07 | 2.99e-10 |\n",
            "|  233  | 19980 | 1825  | +9.1546e-04 | 6.88e-01 | 8.36e-07 | 2.65e-10 |\n",
            "|  234  | 20070 | 1835  | +9.1542e-04 | 6.88e-01 | 8.33e-07 | 2.33e-10 |\n",
            "|  235  | 20160 | 1839  | +9.1540e-04 | 6.88e-01 | 8.32e-07 | 7.95e-12 |\n",
            "|  236  | 20250 | 1842  | +9.1539e-04 | 6.88e-01 | 8.31e-07 | 1.09e-11 |\n",
            "|  237  | 20340 | 1845  | +9.1537e-04 | 6.88e-01 | 8.29e-07 | 1.06e-11 |\n",
            "|  238  | 20430 | 1848  | +9.1535e-04 | 6.88e-01 | 8.28e-07 | 1.20e-11 |\n",
            "|  239  | 20520 | 1851  | +9.1534e-04 | 6.88e-01 | 8.27e-07 | 1.30e-11 |\n",
            "|  240  | 20610 | 1854  | +9.1532e-04 | 6.88e-01 | 8.25e-07 | 1.30e-11 |\n",
            "|  241  | 20700 | 1857  | +9.1531e-04 | 6.88e-01 | 8.24e-07 | 1.03e-11 |\n",
            "|  242  | 20790 | 1860  | +9.1529e-04 | 6.88e-01 | 8.23e-07 | 9.75e-12 |\n",
            "|  243  | 20880 | 1873  | +9.1525e-04 | 6.88e-01 | 8.20e-07 | 4.07e-10 |\n",
            "|  244  | 20970 | 1886  | +9.1520e-04 | 6.88e-01 | 8.18e-07 | 3.13e-10 |\n",
            "|  245  | 21060 | 1889  | +9.1519e-04 | 6.88e-01 | 8.16e-07 | 1.08e-11 |\n",
            "|  246  | 21150 | 1892  | +9.1517e-04 | 6.88e-01 | 8.15e-07 | 1.06e-11 |\n",
            "|  247  | 21240 | 1896  | +9.1516e-04 | 6.88e-01 | 8.14e-07 | 1.29e-11 |\n",
            "|  248  | 21330 | 1899  | +9.1514e-04 | 6.88e-01 | 8.12e-07 | 9.82e-12 |\n",
            "|  249  | 21420 | 1903  | +9.1513e-04 | 6.88e-01 | 8.11e-07 | 9.50e-12 |\n",
            "|  250  | 21510 | 1907  | +9.1511e-04 | 6.88e-01 | 8.10e-07 | 8.83e-12 |\n",
            "|  251  | 21600 | 1910  | +9.1510e-04 | 6.88e-01 | 8.08e-07 | 1.01e-11 |\n",
            "|  252  | 21690 | 1914  | +9.1508e-04 | 6.88e-01 | 8.07e-07 | 9.55e-12 |\n",
            "|  253  | 21780 | 1918  | +9.1506e-04 | 6.88e-01 | 8.06e-07 | 9.72e-12 |\n",
            "|  254  | 21870 | 1922  | +9.1505e-04 | 6.88e-01 | 8.04e-07 | 9.38e-12 |\n",
            "|  255  | 21960 | 1925  | +9.1503e-04 | 6.88e-01 | 8.03e-07 | 1.02e-11 |\n",
            "|  256  | 22050 | 1928  | +9.1502e-04 | 6.88e-01 | 8.01e-07 | 1.01e-11 |\n",
            "|  257  | 22140 | 1932  | +9.1500e-04 | 6.88e-01 | 8.00e-07 | 8.63e-12 |\n",
            "|  258  | 22230 | 1936  | +9.1499e-04 | 6.88e-01 | 7.99e-07 | 8.71e-12 |\n",
            "|  259  | 22320 | 1940  | +9.1497e-04 | 6.88e-01 | 7.97e-07 | 8.20e-12 |\n",
            "|  260  | 22410 | 1944  | +9.1496e-04 | 6.88e-01 | 7.96e-07 | 9.25e-12 |\n",
            "|  261  | 22500 | 1948  | +9.1494e-04 | 6.88e-01 | 7.95e-07 | 9.06e-12 |\n",
            "|  262  | 22590 | 1952  | +9.1493e-04 | 6.88e-01 | 7.93e-07 | 9.10e-12 |\n",
            "|  263  | 22680 | 1956  | +9.1491e-04 | 6.88e-01 | 7.92e-07 | 6.47e-12 |\n",
            "|  264  | 22770 | 1960  | +9.1489e-04 | 6.88e-01 | 7.90e-07 | 7.82e-12 |\n",
            "|  265  | 22860 | 1964  | +9.1488e-04 | 6.88e-01 | 7.89e-07 | 6.30e-12 |\n",
            "|  266  | 22950 | 1968  | +9.1486e-04 | 6.88e-01 | 7.88e-07 | 7.65e-12 |\n",
            "|  267  | 23040 | 1972  | +9.1485e-04 | 6.88e-01 | 7.86e-07 | 6.87e-12 |\n",
            "|  268  | 23130 | 1976  | +9.1483e-04 | 6.88e-01 | 7.85e-07 | 7.50e-12 |\n",
            "|  269  | 23220 | 1988  | +9.1480e-04 | 6.88e-01 | 7.83e-07 | 2.82e-11 |\n",
            "|  270  | 23310 | 1992  | +9.1479e-04 | 6.88e-01 | 7.81e-07 | 7.97e-12 |\n",
            "|  271  | 23400 | 1996  | +9.1477e-04 | 6.88e-01 | 7.80e-07 | 7.65e-12 |\n",
            "|  272  | 23490 | 2000  | +9.1476e-04 | 6.88e-01 | 7.79e-07 | 4.59e-12 |\n",
            "|  273  | 23580 | 2004  | +9.1474e-04 | 6.88e-01 | 7.77e-07 | 5.17e-12 |\n",
            "|  274  | 23670 | 2008  | +9.1473e-04 | 6.88e-01 | 7.76e-07 | 5.48e-12 |\n",
            "|  275  | 23760 | 2012  | +9.1471e-04 | 6.88e-01 | 7.74e-07 | 5.70e-12 |\n",
            "|  276  | 23850 | 2016  | +9.1470e-04 | 6.88e-01 | 7.73e-07 | 7.26e-12 |\n",
            "|  277  | 23940 | 2020  | +9.1468e-04 | 6.88e-01 | 7.72e-07 | 7.97e-12 |\n",
            "|  278  | 24030 | 2024  | +9.1467e-04 | 6.88e-01 | 7.70e-07 | 8.00e-12 |\n",
            "|  279  | 24120 | 2029  | +9.1465e-04 | 6.88e-01 | 7.69e-07 | 2.32e-12 |\n",
            "|  280  | 24210 | 2033  | +9.1463e-04 | 6.88e-01 | 7.67e-07 | 7.81e-12 |\n",
            "|  281  | 24300 | 2037  | +9.1462e-04 | 6.88e-01 | 7.66e-07 | 7.93e-12 |\n",
            "|  282  | 24390 | 2041  | +9.1460e-04 | 6.88e-01 | 7.64e-07 | 7.90e-12 |\n",
            "|  283  | 24480 | 2045  | +9.1459e-04 | 6.88e-01 | 7.63e-07 | 7.14e-12 |\n",
            "|  284  | 24570 | 2049  | +9.1457e-04 | 6.88e-01 | 7.62e-07 | 7.72e-12 |\n",
            "|  285  | 24660 | 2053  | +9.1456e-04 | 6.88e-01 | 7.60e-07 | 7.70e-12 |\n",
            "|  286  | 24750 | 2058  | +9.1454e-04 | 6.88e-01 | 7.59e-07 | 2.79e-12 |\n",
            "|  287  | 24840 | 2063  | +9.1453e-04 | 6.88e-01 | 7.57e-07 | 1.59e-12 |\n",
            "|  288  | 24930 | 2068  | +9.1451e-04 | 6.88e-01 | 7.56e-07 | 5.44e-13 |\n",
            "|  289  | 25020 | 2072  | +9.1449e-04 | 6.88e-01 | 7.54e-07 | 7.88e-12 |\n",
            "|  290  | 25110 | 2077  | +9.1448e-04 | 6.88e-01 | 7.52e-07 | 1.81e-12 |\n",
            "|  291  | 25200 | 2081  | +9.1446e-04 | 6.88e-01 | 7.51e-07 | 8.11e-12 |\n",
            "|  292  | 25290 | 2085  | +9.1445e-04 | 6.88e-01 | 7.50e-07 | 8.08e-12 |\n",
            "|  293  | 25380 | 2090  | +9.1443e-04 | 6.88e-01 | 7.48e-07 | 2.66e-12 |\n",
            "|  294  | 25470 | 2095  | +9.1442e-04 | 6.88e-01 | 7.47e-07 | 2.89e-12 |\n",
            "|  295  | 25560 | 2100  | +9.1440e-04 | 6.88e-01 | 7.45e-07 | 2.99e-12 |\n",
            "|  296  | 25650 | 2105  | +9.1438e-04 | 6.88e-01 | 7.44e-07 | 4.38e-12 |\n",
            "|  297  | 25740 | 2110  | +9.1437e-04 | 6.88e-01 | 7.42e-07 | 1.78e-11 |\n",
            "|  298  | 25830 | 2115  | +9.1435e-04 | 6.88e-01 | 7.40e-07 | 9.74e-12 |\n",
            "|  299  | 25920 | 2119  | +9.1434e-04 | 6.88e-01 | 7.39e-07 | 1.97e-11 |\n",
            "|  300  | 26010 | 2123  | +9.1433e-04 | 6.88e-01 | 7.38e-07 | 1.92e-11 |\n",
            "|  301  | 26100 | 2127  | +9.1431e-04 | 6.88e-01 | 7.36e-07 | 1.91e-11 |\n",
            "|  302  | 26190 | 2132  | +9.1430e-04 | 6.88e-01 | 7.35e-07 | 5.89e-12 |\n",
            "|  303  | 26280 | 2137  | +9.1428e-04 | 6.88e-01 | 7.33e-07 | 8.63e-13 |\n",
            "|  304  | 26370 | 2142  | +9.1426e-04 | 6.88e-01 | 7.32e-07 | 6.12e-12 |\n",
            "|  305  | 26460 | 2147  | +9.1425e-04 | 6.88e-01 | 7.30e-07 | 6.10e-12 |\n",
            "|  306  | 26550 | 2152  | +9.1423e-04 | 6.88e-01 | 7.29e-07 | 3.52e-12 |\n",
            "|  307  | 26640 | 2157  | +9.1422e-04 | 6.88e-01 | 7.27e-07 | 3.46e-12 |\n",
            "|  308  | 26730 | 2162  | +9.1420e-04 | 6.88e-01 | 7.26e-07 | 6.11e-12 |\n",
            "|  309  | 26820 | 2167  | +9.1419e-04 | 6.88e-01 | 7.24e-07 | 8.70e-12 |\n",
            "|  310  | 26910 | 2172  | +9.1417e-04 | 6.88e-01 | 7.23e-07 | 6.54e-12 |\n",
            "|  311  | 27000 | 2177  | +9.1416e-04 | 6.88e-01 | 7.21e-07 | 6.65e-12 |\n",
            "|  312  | 27090 | 2182  | +9.1414e-04 | 6.88e-01 | 7.20e-07 | 7.06e-12 |\n",
            "|  313  | 27180 | 2187  | +9.1413e-04 | 6.88e-01 | 7.19e-07 | 6.91e-12 |\n",
            "|  314  | 27270 | 2192  | +9.1411e-04 | 6.88e-01 | 7.17e-07 | 5.42e-12 |\n",
            "|  315  | 27360 | 2197  | +9.1410e-04 | 6.88e-01 | 7.16e-07 | 7.06e-12 |\n",
            "|  316  | 27450 | 2202  | +9.1408e-04 | 6.88e-01 | 7.14e-07 | 7.12e-12 |\n",
            "|  317  | 27540 | 2207  | +9.1407e-04 | 6.88e-01 | 7.13e-07 | 7.13e-12 |\n",
            "|  318  | 27630 | 2213  | +9.1405e-04 | 6.88e-01 | 7.11e-07 | 6.00e-12 |\n",
            "|  319  | 27720 | 2218  | +9.1403e-04 | 6.88e-01 | 7.10e-07 | 1.47e-12 |\n",
            "|  320  | 27810 | 2225  | +9.1402e-04 | 6.88e-01 | 7.08e-07 | 1.88e-11 |\n",
            "|  321  | 27900 | 2232  | +9.1400e-04 | 6.88e-01 | 7.06e-07 | 1.87e-11 |\n",
            "|  322  | 27990 | 2239  | +9.1398e-04 | 6.88e-01 | 7.04e-07 | 1.68e-11 |\n",
            "|  323  | 28080 | 2244  | +9.1397e-04 | 6.88e-01 | 7.03e-07 | 3.45e-12 |\n",
            "|  324  | 28170 | 2249  | +9.1395e-04 | 6.88e-01 | 7.01e-07 | 7.36e-12 |\n",
            "|  325  | 28260 | 2254  | +9.1394e-04 | 6.88e-01 | 7.00e-07 | 3.69e-13 |\n",
            "|  326  | 28350 | 2259  | +9.1392e-04 | 6.88e-01 | 6.98e-07 | 4.51e-13 |\n",
            "|  327  | 28440 | 2264  | +9.1391e-04 | 6.88e-01 | 6.97e-07 | 6.79e-13 |\n",
            "|  328  | 28530 | 2269  | +9.1389e-04 | 6.88e-01 | 6.96e-07 | 8.74e-13 |\n",
            "|  329  | 28620 | 2275  | +9.1388e-04 | 6.88e-01 | 6.94e-07 | 2.74e-13 |\n",
            "|  330  | 28710 | 2281  | +9.1386e-04 | 6.88e-01 | 6.92e-07 | 2.06e-13 |\n",
            "|  331  | 28800 | 2289  | +9.1384e-04 | 6.88e-01 | 6.90e-07 | 1.54e-11 |\n",
            "|  332  | 28890 | 2294  | +9.1383e-04 | 6.88e-01 | 6.89e-07 | 6.42e-12 |\n",
            "|  333  | 28980 | 2299  | +9.1381e-04 | 6.88e-01 | 6.87e-07 | 6.23e-12 |\n",
            "|  334  | 29070 | 2304  | +9.1380e-04 | 6.88e-01 | 6.86e-07 | 5.72e-12 |\n",
            "|  335  | 29160 | 2309  | +9.1378e-04 | 6.88e-01 | 6.84e-07 | 7.70e-12 |\n",
            "|  336  | 29250 | 2314  | +9.1377e-04 | 6.88e-01 | 6.83e-07 | 7.82e-12 |\n",
            "|  337  | 29340 | 2319  | +9.1376e-04 | 6.88e-01 | 6.81e-07 | 6.27e-12 |\n",
            "|  338  | 29430 | 2324  | +9.1374e-04 | 6.88e-01 | 6.80e-07 | 6.27e-12 |\n",
            "|  339  | 29520 | 2330  | +9.1373e-04 | 6.88e-01 | 6.78e-07 | 1.18e-12 |\n",
            "|  340  | 29610 | 2335  | +9.1371e-04 | 6.88e-01 | 6.77e-07 | 7.07e-12 |\n",
            "|  341  | 29700 | 2340  | +9.1370e-04 | 6.88e-01 | 6.75e-07 | 7.47e-12 |\n",
            "|  342  | 29790 | 2345  | +9.1368e-04 | 6.88e-01 | 6.74e-07 | 7.33e-12 |\n",
            "|  343  | 29880 | 2351  | +9.1367e-04 | 6.88e-01 | 6.73e-07 | 1.57e-11 |\n",
            "|  344  | 29970 | 2363  | +9.1367e-04 | 6.88e-02 | 6.73e-07 | 1.57e-11 |\n",
            "|  345  | 30060 | 2368  | +9.1355e-04 | 4.81e-01 | 6.57e-07 | 1.83e-08 |\n",
            "|  346  | 30150 | 2380  | +9.1355e-04 | 4.81e-02 | 6.57e-07 | 1.83e-08 |\n",
            "|  347  | 30240 | 2383  | +9.1346e-04 | 3.37e-01 | 6.40e-07 | 7.92e-09 |\n",
            "|  348  | 30330 | 2394  | +9.1346e-04 | 3.37e-02 | 6.40e-07 | 7.92e-09 |\n",
            "|  349  | 30420 | 2397  | +9.1340e-04 | 2.36e-01 | 6.26e-07 | 2.41e-09 |\n",
            "|  350  | 30510 | 2407  | +9.1340e-04 | 2.36e-02 | 6.26e-07 | 2.41e-09 |\n",
            "|  351  | 30600 | 2410  | +9.1335e-04 | 1.65e-01 | 6.17e-07 | 7.16e-10 |\n",
            "|  352  | 30690 | 2420  | +9.1307e-04 | 1.65e-01 | 5.76e-07 | 2.00e-07 |\n",
            "|  353  | 30780 | 2430  | +9.1281e-04 | 3.30e-01 | 5.36e-07 | 1.41e-07 |\n",
            "|  354  | 30870 | 2444  | +9.1235e-04 | 2.31e+00 | 4.71e-07 | 3.39e-09 |\n",
            "|  355  | 30960 | 2464  | +9.1235e-04 | 2.31e-01 | 4.71e-07 | 3.39e-09 |\n",
            "|  356  | 31050 | 2479  | +9.1207e-04 | 1.62e+00 | 4.29e-07 | 1.08e-08 |\n",
            "|  357  | 31140 | 2501  | +9.1207e-04 | 1.62e-01 | 4.29e-07 | 1.08e-08 |\n",
            "|  358  | 31230 | 2515  | +9.1207e-04 | 1.62e-02 | 4.29e-07 | 1.08e-08 |\n",
            "|  359  | 31320 | 2518  | +9.1204e-04 | 1.13e-01 | 4.21e-07 | 1.49e-10 |\n",
            "|  360  | 31410 | 2524  | +9.1188e-04 | 1.13e-01 | 3.85e-07 | 1.06e-07 |\n",
            "|  361  | 31500 | 2530  | +9.1173e-04 | 2.27e-01 | 3.51e-07 | 9.05e-08 |\n",
            "|  362  | 31590 | 2538  | +9.1173e-04 | 2.27e-02 | 3.51e-07 | 9.05e-08 |\n",
            "|  363  | 31680 | 2542  | +9.1170e-04 | 1.59e-01 | 3.41e-07 | 3.43e-10 |\n",
            "|  364  | 31770 | 2549  | +9.1170e-04 | 1.59e-02 | 3.41e-07 | 3.43e-10 |\n",
            "|  365  | 31860 | 2552  | +9.1167e-04 | 1.11e-01 | 3.34e-07 | 9.18e-11 |\n",
            "|  366  | 31950 | 2561  | +9.1153e-04 | 7.77e-01 | 3.03e-07 | 1.34e-08 |\n",
            "|  367  | 32040 | 2575  | +9.1153e-04 | 7.77e-02 | 3.03e-07 | 1.34e-08 |\n",
            "|  368  | 32130 | 2581  | +9.1143e-04 | 5.44e-01 | 3.00e-07 | 2.02e-09 |\n",
            "|  369  | 32220 | 2595  | +9.1143e-04 | 5.44e-02 | 3.00e-07 | 2.02e-09 |\n",
            "|  370  | 32310 | 2600  | +9.1135e-04 | 3.81e-01 | 2.97e-07 | 9.28e-10 |\n",
            "|  371  | 32400 | 2614  | +9.1088e-04 | 2.67e+00 | 2.82e-07 | 1.42e-07 |\n",
            "|  372  | 32490 | 2633  | +9.1025e-04 | 2.67e+00 | 2.62e-07 | 1.70e-07 |\n",
            "|  373  | 32580 | 2649  | +9.1016e-04 | 2.67e+00 | 2.61e-07 | 7.01e-09 |\n",
            "|  374  | 32670 | 2667  | +9.1016e-04 | 2.67e-01 | 2.61e-07 | 7.01e-09 |\n",
            "|  375  | 32760 | 2682  | +9.1016e-04 | 2.67e-02 | 2.61e-07 | 7.01e-09 |\n",
            "|  376  | 32850 | 2688  | +9.1014e-04 | 1.87e-01 | 2.60e-07 | 3.11e-09 |\n",
            "|  377  | 32940 | 2702  | +9.1014e-04 | 1.87e-02 | 2.60e-07 | 3.11e-09 |\n",
            "|  378  | 33030 | 2707  | +9.1012e-04 | 1.31e-01 | 2.59e-07 | 1.19e-09 |\n",
            "|  379  | 33120 | 2720  | +9.1012e-04 | 1.31e-02 | 2.59e-07 | 1.19e-09 |\n",
            "|  380  | 33210 | 2723  | +9.1011e-04 | 9.14e-02 | 2.58e-07 | 3.48e-10 |\n",
            "|  381  | 33300 | 2733  | +9.1011e-04 | 9.14e-03 | 2.58e-07 | 3.48e-10 |\n",
            "|  382  | 33390 | 2736  | +9.1010e-04 | 6.40e-02 | 2.57e-07 | 9.23e-11 |\n",
            "|  383  | 33480 | 2745  | +9.1004e-04 | 1.28e-01 | 2.54e-07 | 2.16e-08 |\n",
            "|  384  | 33570 | 2751  | +9.1004e-04 | 1.28e-02 | 2.54e-07 | 2.16e-08 |\n",
            "|  385  | 33660 | 2753  | +9.1003e-04 | 8.96e-02 | 2.52e-07 | 1.67e-10 |\n",
            "|  386  | 33750 | 2755  | +9.0993e-04 | 1.79e-01 | 2.42e-07 | 5.01e-08 |\n",
            "|  387  | 33840 | 2757  | +9.0993e-04 | 1.79e-02 | 2.42e-07 | 5.01e-08 |\n",
            "|  388  | 33930 | 2759  | +9.0991e-04 | 1.25e-01 | 2.40e-07 | 3.19e-10 |\n",
            "|  389  | 34020 | 2762  | +9.0978e-04 | 1.25e-01 | 2.26e-07 | 1.00e-07 |\n",
            "|  390  | 34110 | 2764  | +9.0966e-04 | 2.51e-01 | 2.12e-07 | 7.45e-08 |\n",
            "|  391  | 34200 | 2767  | +9.0966e-04 | 2.51e-02 | 2.12e-07 | 7.45e-08 |\n",
            "|  392  | 34290 | 2768  | +9.0963e-04 | 1.76e-01 | 2.09e-07 | 4.96e-10 |\n",
            "|  393  | 34380 | 2771  | +9.0963e-04 | 1.76e-02 | 2.09e-07 | 4.96e-10 |\n",
            "|  394  | 34470 | 2772  | +9.0962e-04 | 1.23e-01 | 2.07e-07 | 1.65e-10 |\n",
            "|  395  | 34560 | 2774  | +9.0950e-04 | 2.46e-01 | 1.94e-07 | 5.27e-08 |\n",
            "|  396  | 34560 | 2774  | +9.0950e-04 | 1.23e+00 | 2.34e-07 | 5.27e-08 |\n",
            "|  397  | 34650 | 2782  | +9.0950e-04 | 1.23e-01 | 2.34e-07 | 5.27e-08 |\n",
            "|  398  | 34740 | 2784  | +9.0930e-04 | 8.61e-01 | 2.25e-07 | 3.40e-09 |\n",
            "|  399  | 34830 | 2788  | +9.0799e-04 | 6.02e+00 | 1.99e-07 | 1.06e-07 |\n",
            "|  400  | 34920 | 2811  | +9.0799e-04 | 6.02e-01 | 1.99e-07 | 1.06e-07 |\n",
            "|  401  | 35010 | 2815  | +9.0720e-04 | 4.22e+00 | 1.92e-07 | 9.70e-08 |\n",
            "|  402  | 35055 | 2834  | +9.0720e-04 | 4.22e-01 | 1.92e-07 | 9.70e-08 |\n",
            "|  403  | 35145 | 2837  | +9.0669e-04 | 2.95e+00 | 1.87e-07 | 2.39e-08 |\n",
            "|  404  | 35190 | 2849  | +9.0669e-04 | 2.95e-01 | 1.87e-07 | 2.39e-08 |\n",
            "|  405  | 35280 | 2852  | +9.0637e-04 | 2.07e+00 | 1.82e-07 | 2.49e-09 |\n",
            "|  406  | 35370 | 2862  | +9.0637e-04 | 2.07e-01 | 1.82e-07 | 2.49e-09 |\n",
            "|  407  | 35460 | 2865  | +9.0615e-04 | 1.45e+00 | 1.79e-07 | 6.01e-10 |\n",
            "|  408  | 35550 | 2873  | +9.0615e-04 | 1.45e-01 | 1.79e-07 | 6.01e-10 |\n",
            "|  409  | 35640 | 2876  | +9.0600e-04 | 1.01e+00 | 1.76e-07 | 5.11e-10 |\n",
            "|  410  | 35730 | 2882  | +9.0499e-04 | 7.09e+00 | 1.56e-07 | 2.44e-08 |\n",
            "|  411  | 35775 | 2899  | +9.0499e-04 | 7.09e-01 | 1.56e-07 | 2.44e-08 |\n",
            "|  412  | 35865 | 2905  | +9.0439e-04 | 4.96e+00 | 1.41e-07 | 1.27e-08 |\n",
            "|  413  | 35910 | 2922  | +9.0439e-04 | 4.96e-01 | 1.41e-07 | 1.27e-08 |\n",
            "|  414  | 36000 | 2926  | +9.0403e-04 | 3.47e+00 | 1.39e-07 | 2.67e-08 |\n",
            "|  415  | 36090 | 2945  | +9.0177e-04 | 2.40e+01 | 1.48e-07 | 1.08e-07 |\n",
            "|  416  | 36180 | 2953  | +9.0177e-04 | 2.40e+01 | 1.40e-07 | 2.51e-08 |\n",
            "|  417  | 36270 | 2963  | +9.0177e-04 | 2.40e+00 | 1.40e-07 | 2.51e-08 |\n",
            "|  418  | 36360 | 2973  | +9.0177e-04 | 2.40e-01 | 1.40e-07 | 2.51e-08 |\n",
            "|  419  | 36450 | 2983  | +9.0177e-04 | 2.40e-02 | 1.40e-07 | 2.51e-08 |\n",
            "|  420  | 36540 | 2989  | +9.0176e-04 | 1.68e-01 | 1.37e-07 | 3.44e-09 |\n",
            "|  421  | 36630 | 2998  | +9.0176e-04 | 1.68e-02 | 1.37e-07 | 3.44e-09 |\n",
            "|  422  | 36720 | 3004  | +9.0176e-04 | 1.18e-01 | 1.35e-07 | 9.50e-10 |\n",
            "|  423  | 36810 | 3013  | +9.0176e-04 | 1.18e-02 | 1.35e-07 | 9.50e-10 |\n",
            "|  424  | 36900 | 3019  | +9.0176e-04 | 8.23e-02 | 1.33e-07 | 2.79e-10 |\n",
            "|  425  | 36990 | 3027  | +9.0176e-04 | 8.23e-03 | 1.33e-07 | 2.79e-10 |\n",
            "|  426  | 37080 | 3032  | +9.0176e-04 | 5.76e-02 | 1.32e-07 | 8.86e-11 |\n",
            "|  427  | 37170 | 3040  | +9.0176e-04 | 5.76e-03 | 1.32e-07 | 8.86e-11 |\n",
            "|  428  | 37260 | 3045  | +9.0176e-04 | 4.03e-02 | 1.31e-07 | 2.88e-11 |\n",
            "|  429  | 37350 | 3053  | +9.0174e-04 | 8.06e-02 | 1.27e-07 | 6.25e-09 |\n",
            "|  430  | 37440 | 3061  | +9.0174e-04 | 8.06e-03 | 1.27e-07 | 6.25e-09 |\n",
            "|  431  | 37530 | 3064  | +9.0174e-04 | 5.64e-02 | 1.27e-07 | 3.01e-11 |\n",
            "|  432  | 37620 | 3070  | +9.0172e-04 | 5.64e-02 | 1.27e-07 | 1.62e-08 |\n",
            "|  433  | 37710 | 3076  | +9.0171e-04 | 3.95e-01 | 1.27e-07 | 3.16e-09 |\n",
            "|  434  | 37800 | 3086  | +9.0171e-04 | 3.95e-02 | 1.27e-07 | 3.16e-09 |\n",
            "|  435  | 37890 | 3093  | +9.0170e-04 | 2.77e-01 | 1.27e-07 | 4.49e-10 |\n",
            "|  436  | 37980 | 3102  | +9.0167e-04 | 5.53e-01 | 1.25e-07 | 1.03e-08 |\n",
            "|  437  | 38070 | 3111  | +9.0161e-04 | 1.11e+00 | 1.23e-07 | 1.72e-08 |\n",
            "|  438  | 38160 | 3123  | +9.0161e-04 | 1.11e-01 | 1.23e-07 | 1.72e-08 |\n",
            "|  439  | 38250 | 3132  | +9.0161e-04 | 1.11e-02 | 1.23e-07 | 1.72e-08 |\n",
            "|  440  | 38340 | 3137  | +9.0161e-04 | 7.74e-02 | 1.23e-07 | 1.02e-10 |\n",
            "|  441  | 38430 | 3145  | +9.0161e-04 | 7.74e-03 | 1.23e-07 | 1.02e-10 |\n",
            "|  442  | 38520 | 3150  | +9.0161e-04 | 5.42e-02 | 1.23e-07 | 1.87e-11 |\n",
            "|  443  | 38610 | 3158  | +9.0161e-04 | 5.42e-03 | 1.23e-07 | 1.87e-11 |\n",
            "|  444  | 38700 | 3162  | +9.0160e-04 | 3.79e-02 | 1.23e-07 | 2.77e-12 |\n",
            "|  445  | 38790 | 3168  | +9.0160e-04 | 3.79e-03 | 1.23e-07 | 2.77e-12 |\n",
            "|  446  | 38880 | 3171  | +9.0160e-04 | 2.66e-02 | 1.23e-07 | 5.36e-13 |\n",
            "|  447  | 38970 | 3176  | +9.0160e-04 | 5.31e-02 | 1.23e-07 | 2.32e-09 |\n",
            "|  448  | 39060 | 3181  | +9.0159e-04 | 3.72e-01 | 1.24e-07 | 1.48e-09 |\n",
            "|  449  | 39150 | 3190  | +9.0159e-04 | 3.72e-02 | 1.24e-07 | 1.48e-09 |\n",
            "|  450  | 39240 | 3195  | +9.0158e-04 | 2.60e-01 | 1.24e-07 | 1.82e-10 |\n",
            "|  451  | 39330 | 3203  | +9.0158e-04 | 2.60e-02 | 1.24e-07 | 1.82e-10 |\n",
            "|  452  | 39420 | 3208  | +9.0158e-04 | 1.82e-01 | 1.24e-07 | 2.57e-11 |\n",
            "|  453  | 39510 | 3216  | +9.0158e-04 | 1.82e-02 | 1.24e-07 | 2.57e-11 |\n",
            "|  454  | 39600 | 3221  | +9.0158e-04 | 1.28e-01 | 1.24e-07 | 1.49e-13 |\n",
            "|  455  | 39690 | 3227  | +9.0158e-04 | 1.28e-02 | 1.24e-07 | 1.49e-13 |\n",
            "|  456  | 39780 | 3231  | +9.0157e-04 | 8.93e-02 | 1.24e-07 | 8.35e-13 |\n",
            "|  457  | 39870 | 3238  | +9.0157e-04 | 8.93e-03 | 1.24e-07 | 8.35e-13 |\n",
            "|  458  | 39960 | 3242  | +9.0157e-04 | 6.25e-02 | 1.24e-07 | 2.18e-12 |\n",
            "|  459  | 40050 | 3248  | +9.0156e-04 | 4.37e-01 | 1.24e-07 | 6.75e-10 |\n",
            "|  460  | 40140 | 3256  | +9.0156e-04 | 4.37e-02 | 1.24e-07 | 6.75e-10 |\n",
            "|  461  | 40230 | 3261  | +9.0156e-04 | 3.06e-01 | 1.24e-07 | 8.79e-11 |\n",
            "|  462  | 40320 | 3268  | +9.0156e-04 | 3.06e-02 | 1.24e-07 | 8.79e-11 |\n",
            "|  463  | 40410 | 3272  | +9.0155e-04 | 2.14e-01 | 1.25e-07 | 1.06e-10 |\n",
            "|  464  | 40500 | 3278  | +9.0152e-04 | 1.50e+00 | 1.25e-07 | 5.42e-09 |\n",
            "|  465  | 40590 | 3291  | +9.0152e-04 | 1.50e-01 | 1.25e-07 | 5.42e-09 |\n",
            "|  466  | 40680 | 3296  | +9.0150e-04 | 3.00e-01 | 1.26e-07 | 1.02e-08 |\n",
            "|  467  | 40770 | 3302  | +9.0147e-04 | 2.10e+00 | 1.26e-07 | 1.96e-09 |\n",
            "|  468  | 40860 | 3320  | +9.0144e-04 | 3.55e+00 | 1.28e-07 | 4.31e-09 |\n",
            "|  469  | 40950 | 3325  | +9.0144e-04 | 3.55e+00 | 1.28e-07 | 5.88e-10 |\n",
            "|  470  | 41040 | 3330  | +9.0144e-04 | 3.55e+00 | 1.28e-07 | 2.92e-10 |\n",
            "|  471  | 41130 | 3335  | +9.0144e-04 | 3.55e-01 | 1.28e-07 | 2.92e-10 |\n",
            "|  472  | 41220 | 3340  | +9.0144e-04 | 3.55e-01 | 1.28e-07 | 1.15e-10 |\n",
            "|  473  | 41310 | 3345  | +9.0144e-04 | 3.55e-02 | 1.28e-07 | 1.15e-10 |\n",
            "|  474  | 41400 | 3350  | +9.0144e-04 | 3.55e-03 | 1.28e-07 | 1.15e-10 |\n",
            "|  475  | 41490 | 3354  | +9.0144e-04 | 2.48e-02 | 1.28e-07 | 1.96e-12 |\n",
            "|  476  | 41580 | 3359  | +9.0144e-04 | 1.61e-01 | 1.28e-07 | 1.14e-10 |\n",
            "|  477  | 41670 | 3363  | +9.0143e-04 | 1.61e-01 | 1.28e-07 | 1.71e-11 |\n",
            "|  478  | 41760 | 3371  | +9.0143e-04 | 1.61e-02 | 1.28e-07 | 1.71e-11 |\n",
            "|  479  | 41850 | 3375  | +9.0143e-04 | 1.13e-01 | 1.27e-07 | 3.19e-10 |\n",
            "|  480  | 41940 | 3380  | +9.0143e-04 | 1.13e-02 | 1.27e-07 | 3.19e-10 |\n",
            "|  481  | 42030 | 3384  | +9.0143e-04 | 7.90e-02 | 1.27e-07 | 1.11e-11 |\n",
            "|  482  | 42120 | 3390  | +9.0143e-04 | 7.90e-03 | 1.27e-07 | 1.11e-11 |\n",
            "|  483  | 42210 | 3393  | +9.0143e-04 | 5.53e-02 | 1.27e-07 | 3.98e-13 |\n",
            "|  484  | 42300 | 3399  | +9.0143e-04 | 5.53e-03 | 1.27e-07 | 3.98e-13 |\n",
            "|  485  | 42390 | 3402  | +9.0143e-04 | 3.87e-02 | 1.27e-07 | 1.39e-13 |\n",
            "|  486  | 42480 | 3407  | +9.0142e-04 | 2.71e-01 | 1.25e-07 | 1.20e-09 |\n",
            "|  487  | 42570 | 3413  | +9.0142e-04 | 2.71e-02 | 1.25e-07 | 1.20e-09 |\n",
            "|  488  | 42660 | 3418  | +9.0142e-04 | 1.90e-01 | 1.25e-07 | 5.58e-11 |\n",
            "|  489  | 42750 | 3425  | +9.0142e-04 | 1.90e-02 | 1.25e-07 | 5.58e-11 |\n",
            "|  490  | 42840 | 3429  | +9.0142e-04 | 1.33e-01 | 1.24e-07 | 4.92e-12 |\n",
            "|  491  | 42930 | 3435  | +9.0142e-04 | 1.33e-02 | 1.24e-07 | 4.92e-12 |\n",
            "|  492  | 43020 | 3439  | +9.0142e-04 | 9.29e-02 | 1.24e-07 | 2.90e-12 |\n",
            "|  493  | 43110 | 3445  | +9.0142e-04 | 9.29e-03 | 1.24e-07 | 2.90e-12 |\n",
            "|  494  | 43200 | 3448  | +9.0141e-04 | 6.50e-02 | 1.23e-07 | 1.91e-12 |\n",
            "|  495  | 43290 | 3452  | +9.0140e-04 | 4.55e-01 | 1.21e-07 | 1.37e-11 |\n",
            "|  496  | 43380 | 3456  | +9.0140e-04 | 4.55e-02 | 1.21e-07 | 1.37e-11 |\n",
            "|  497  | 43470 | 3460  | +9.0140e-04 | 3.19e-01 | 1.20e-07 | 5.26e-10 |\n",
            "|  498  | 43560 | 3464  | +9.0135e-04 | 3.19e-01 | 1.09e-07 | 3.60e-08 |\n",
            "|  499  | 43650 | 3469  | +9.0132e-04 | 3.19e-01 | 9.67e-08 | 5.69e-08 |\n",
            "|  500  | 43740 | 3474  | +9.0132e-04 | 3.19e-02 | 9.67e-08 | 5.69e-08 |\n",
            "|  501  | 43830 | 3477  | +9.0131e-04 | 2.23e-01 | 9.55e-08 | 1.81e-09 |\n",
            "|  502  | 43920 | 3481  | +9.0131e-04 | 2.23e-02 | 9.55e-08 | 1.81e-09 |\n",
            "|  503  | 44010 | 3484  | +9.0131e-04 | 1.56e-01 | 9.46e-08 | 1.24e-10 |\n",
            "|  504  | 44100 | 3487  | +9.0131e-04 | 1.56e-02 | 9.46e-08 | 1.24e-10 |\n",
            "|  505  | 44190 | 3490  | +9.0131e-04 | 1.09e-01 | 9.40e-08 | 2.48e-11 |\n",
            "|  506  | 44280 | 3493  | +9.0129e-04 | 2.19e-01 | 8.94e-08 | 7.06e-09 |\n",
            "|  507  | 44370 | 3497  | +9.0127e-04 | 1.53e+00 | 7.97e-08 | 6.64e-09 |\n",
            "|  508  | 44460 | 3504  | +9.0127e-04 | 1.53e-01 | 7.97e-08 | 6.64e-09 |\n",
            "|  509  | 44550 | 3507  | +9.0125e-04 | 3.06e-01 | 7.26e-08 | 9.15e-09 |\n",
            "|  510  | 44640 | 3512  | +9.0125e-04 | 3.06e-02 | 7.26e-08 | 9.15e-09 |\n",
            "|  511  | 44730 | 3515  | +9.0125e-04 | 2.14e-01 | 7.12e-08 | 1.21e-10 |\n",
            "|  512  | 44820 | 3519  | +9.0123e-04 | 1.50e+00 | 6.05e-08 | 2.33e-10 |\n",
            "|  513  | 44910 | 3526  | +9.0123e-04 | 1.50e-01 | 6.05e-08 | 2.33e-10 |\n",
            "|  514  | 45000 | 3530  | +9.0122e-04 | 3.00e-01 | 5.29e-08 | 5.11e-09 |\n",
            "|  515  | 45090 | 3535  | +9.0122e-04 | 3.00e-02 | 5.29e-08 | 5.11e-09 |\n",
            "|  516  | 45180 | 3538  | +9.0121e-04 | 2.10e-01 | 5.15e-08 | 4.26e-11 |\n",
            "|  517  | 45270 | 3541  | +9.0119e-04 | 1.47e+00 | 5.17e-08 | 2.39e-09 |\n",
            "|  518  | 45360 | 3552  | +9.0119e-04 | 1.47e-01 | 5.17e-08 | 2.39e-09 |\n",
            "|  519  | 45450 | 3557  | +9.0119e-04 | 1.47e-02 | 5.17e-08 | 2.39e-09 |\n",
            "|  520  | 45540 | 3560  | +9.0119e-04 | 1.03e-01 | 5.15e-08 | 6.17e-11 |\n",
            "|  521  | 45630 | 3563  | +9.0119e-04 | 1.03e-02 | 5.15e-08 | 6.17e-11 |\n",
            "|  522  | 45720 | 3566  | +9.0119e-04 | 7.20e-02 | 5.15e-08 | 6.20e-12 |\n",
            "|  523  | 45810 | 3570  | +9.0119e-04 | 7.20e-03 | 5.15e-08 | 6.20e-12 |\n",
            "|  524  | 45900 | 3573  | +9.0119e-04 | 5.04e-02 | 5.15e-08 | 3.69e-13 |\n",
            "|  525  | 45990 | 3576  | +9.0119e-04 | 3.53e-01 | 5.14e-08 | 1.41e-10 |\n",
            "|  526  | 46080 | 3580  | +9.0116e-04 | 7.06e-01 | 5.20e-08 | 5.19e-09 |\n",
            "|  527  | 46170 | 3590  | +9.0116e-04 | 7.06e-02 | 5.20e-08 | 5.19e-09 |\n",
            "|  528  | 46260 | 3596  | +9.0116e-04 | 1.41e-01 | 5.24e-08 | 3.51e-09 |\n",
            "|  529  | 46350 | 3602  | +9.0116e-04 | 1.41e-02 | 5.24e-08 | 3.51e-09 |\n",
            "|  530  | 46440 | 3606  | +9.0116e-04 | 9.88e-02 | 5.25e-08 | 4.21e-11 |\n",
            "|  531  | 46530 | 3611  | +9.0115e-04 | 6.91e-01 | 5.27e-08 | 3.35e-10 |\n",
            "|  532  | 46620 | 3618  | +9.0115e-04 | 6.91e-02 | 5.27e-08 | 3.35e-10 |\n",
            "|  533  | 46710 | 3624  | +9.0115e-04 | 6.91e-03 | 5.27e-08 | 3.35e-10 |\n",
            "|  534  | 46800 | 3629  | +9.0115e-04 | 4.84e-02 | 5.26e-08 | 1.18e-11 |\n",
            "|  535  | 46890 | 3635  | +9.0115e-04 | 4.84e-03 | 5.26e-08 | 1.18e-11 |\n",
            "|  536  | 46980 | 3639  | +9.0115e-04 | 3.39e-02 | 5.26e-08 | 3.62e-12 |\n",
            "|  537  | 47070 | 3644  | +9.0115e-04 | 2.37e-01 | 5.20e-08 | 1.86e-10 |\n",
            "|  538  | 47160 | 3649  | +9.0115e-04 | 2.37e-01 | 5.22e-08 | 1.04e-10 |\n",
            "|  539  | 47250 | 3656  | +9.0114e-04 | 2.83e-01 | 5.09e-08 | 1.44e-09 |\n",
            "|  540  | 47250 | 3656  | +9.0114e-04 | 1.42e+00 | 6.54e-08 | 1.44e-09 |\n",
            "|  541  | 47340 | 3662  | +9.0114e-04 | 1.42e-01 | 6.54e-08 | 1.44e-09 |\n",
            "|  542  | 47430 | 3666  | +9.0110e-04 | 9.92e-01 | 6.52e-08 | 5.86e-09 |\n",
            "|  543  | 47520 | 3670  | +9.0110e-04 | 9.92e-02 | 6.52e-08 | 5.86e-09 |\n",
            "|  544  | 47610 | 3674  | +9.0107e-04 | 6.94e-01 | 6.45e-08 | 8.34e-10 |\n",
            "|  545  | 47700 | 3678  | +9.0107e-04 | 6.94e-02 | 6.45e-08 | 8.34e-10 |\n",
            "|  546  | 47790 | 3681  | +9.0105e-04 | 4.86e-01 | 6.39e-08 | 2.46e-10 |\n",
            "|  547  | 47880 | 3685  | +9.0105e-04 | 4.86e-02 | 6.39e-08 | 2.46e-10 |\n",
            "|  548  | 47970 | 3688  | +9.0104e-04 | 3.40e-01 | 6.35e-08 | 7.52e-11 |\n",
            "|  549  | 48060 | 3692  | +9.0094e-04 | 6.81e-01 | 6.18e-08 | 3.67e-08 |\n",
            "|  550  | 48150 | 3696  | +9.0094e-04 | 6.81e-02 | 6.18e-08 | 3.67e-08 |\n",
            "|  551  | 48240 | 3700  | +9.0092e-04 | 4.76e-01 | 6.12e-08 | 1.18e-09 |\n",
            "|  552  | 48330 | 3704  | +9.0092e-04 | 4.76e-02 | 6.12e-08 | 1.18e-09 |\n",
            "|  553  | 48420 | 3707  | +9.0091e-04 | 3.33e-01 | 6.04e-08 | 6.65e-11 |\n",
            "|  554  | 48510 | 3711  | +9.0082e-04 | 6.67e-01 | 5.46e-08 | 3.80e-08 |\n",
            "|  555  | 48600 | 3715  | +9.0066e-04 | 6.67e-01 | 4.17e-08 | 1.30e-07 |\n",
            "|  556  | 48690 | 3720  | +9.0066e-04 | 6.67e-02 | 4.17e-08 | 1.30e-07 |\n",
            "|  557  | 48780 | 3724  | +9.0064e-04 | 4.67e-01 | 4.08e-08 | 6.37e-09 |\n",
            "|  558  | 48870 | 3728  | +9.0055e-04 | 9.34e-01 | 3.28e-08 | 4.75e-08 |\n",
            "|  559  | 48960 | 3733  | +9.0055e-04 | 9.34e-02 | 3.28e-08 | 4.75e-08 |\n",
            "|  560  | 49050 | 3737  | +9.0053e-04 | 1.87e-01 | 3.13e-08 | 3.94e-08 |\n",
            "|  561  | 49140 | 3741  | +9.0049e-04 | 1.31e+00 | 2.83e-08 | 1.22e-09 |\n",
            "|  562  | 49230 | 3745  | +9.0049e-04 | 1.31e-01 | 2.83e-08 | 1.22e-09 |\n",
            "|  563  | 49320 | 3748  | +9.0046e-04 | 9.15e-01 | 2.62e-08 | 1.21e-09 |\n",
            "|  564  | 49410 | 3752  | +9.0046e-04 | 9.15e-02 | 2.62e-08 | 1.21e-09 |\n",
            "|  565  | 49500 | 3754  | +9.0044e-04 | 6.41e-01 | 2.49e-08 | 4.19e-10 |\n",
            "|  566  | 49590 | 3757  | +9.0044e-04 | 6.41e-02 | 2.49e-08 | 4.19e-10 |\n",
            "|  567  | 49680 | 3759  | +9.0043e-04 | 4.48e-01 | 2.39e-08 | 1.91e-10 |\n",
            "|  568  | 49770 | 3763  | +9.0035e-04 | 3.14e+00 | 1.77e-08 | 1.27e-08 |\n",
            "|  569  | 49815 | 3769  | +9.0035e-04 | 3.14e-01 | 1.77e-08 | 1.27e-08 |\n",
            "|  570  | 49905 | 3773  | +9.0029e-04 | 3.14e-01 | 1.53e-08 | 4.30e-08 |\n",
            "|  571  | 49995 | 3778  | +9.0029e-04 | 3.14e-02 | 1.53e-08 | 4.30e-08 |\n",
            "|  572  | 50085 | 3780  | +9.0029e-04 | 2.20e-01 | 1.40e-08 | 6.53e-10 |\n",
            "|  573  | 50175 | 3783  | +9.0025e-04 | 2.20e-01 | 1.43e-08 | 1.97e-08 |\n",
            "|  574  | 50265 | 3787  | +9.0025e-04 | 2.20e-02 | 1.43e-08 | 1.97e-08 |\n",
            "|  575  | 50355 | 3790  | +9.0025e-04 | 1.54e-01 | 1.20e-08 | 7.50e-10 |\n",
            "|  576  | 50445 | 3794  | +9.0025e-04 | 1.54e-02 | 1.20e-08 | 7.50e-10 |\n",
            "|  577  | 50535 | 3796  | +9.0025e-04 | 1.08e-01 | 1.19e-08 | 1.14e-10 |\n",
            "|  578  | 50625 | 3799  | +9.0025e-04 | 1.08e-02 | 1.19e-08 | 1.14e-10 |\n",
            "|  579  | 50715 | 3801  | +9.0025e-04 | 7.54e-02 | 1.18e-08 | 2.17e-11 |\n",
            "|  580  | 50805 | 3804  | +9.0024e-04 | 1.51e-01 | 1.16e-08 | 3.12e-09 |\n",
            "|  581  | 50895 | 3806  | +9.0021e-04 | 1.06e+00 | 1.12e-08 | 3.16e-09 |\n",
            "|  582  | 50985 | 3810  | +9.0021e-04 | 1.06e-01 | 1.12e-08 | 3.16e-09 |\n",
            "|  583  | 51075 | 3812  | +9.0021e-04 | 1.06e-02 | 1.12e-08 | 3.16e-09 |\n",
            "|  584  | 51165 | 3814  | +9.0021e-04 | 7.39e-02 | 1.11e-08 | 1.86e-11 |\n",
            "|  585  | 51255 | 3816  | +9.0020e-04 | 1.48e-01 | 1.10e-08 | 2.63e-09 |\n",
            "|  586  | 51345 | 3818  | +9.0018e-04 | 2.95e-01 | 1.46e-08 | 4.84e-09 |\n",
            "|  587  | 51435 | 3822  | +9.0018e-04 | 2.95e-02 | 1.46e-08 | 4.84e-09 |\n",
            "|  588  | 51525 | 3824  | +9.0018e-04 | 5.91e-02 | 1.09e-08 | 1.08e-09 |\n",
            "|  589  | 51615 | 3826  | +9.0017e-04 | 1.18e-01 | 1.07e-08 | 8.49e-10 |\n",
            "|  590  | 51705 | 3828  | +9.0015e-04 | 8.27e-01 | 1.10e-08 | 3.18e-11 |\n",
            "|  591  | 51795 | 3832  | +9.0015e-04 | 8.27e-02 | 1.10e-08 | 3.18e-11 |\n",
            "|  592  | 51885 | 3834  | +9.0014e-04 | 8.27e-02 | 1.03e-08 | 5.57e-09 |\n",
            "|  593  | 51975 | 3837  | +9.0013e-04 | 5.79e-01 | 1.08e-08 | 1.31e-09 |\n",
            "|  594  | 52065 | 3840  | +9.0013e-04 | 5.79e-02 | 1.08e-08 | 1.31e-09 |\n",
            "|  595  | 52155 | 3842  | +9.0012e-04 | 1.16e-01 | 1.00e-08 | 2.03e-09 |\n",
            "|  596  | 52245 | 3844  | +9.0011e-04 | 2.32e-01 | 1.40e-08 | 3.20e-09 |\n",
            "|  597  | 52335 | 3847  | +9.0011e-04 | 2.32e-02 | 1.40e-08 | 3.20e-09 |\n",
            "|  598  | 52425 | 3849  | +9.0011e-04 | 1.62e-01 | 1.06e-08 | 2.24e-10 |\n",
            "|  599  | 52515 | 3851  | +9.0011e-04 | 1.62e-02 | 1.06e-08 | 2.24e-10 |\n",
            "|  600  | 52605 | 3853  | +9.0010e-04 | 1.13e-01 | 1.03e-08 | 3.37e-11 |\n",
            "|  601  | 52695 | 3855  | +9.0009e-04 | 7.94e-01 | 9.47e-09 | 1.54e-09 |\n",
            "\n",
            "`gtol` termination condition is satisfied.\n",
            "Number of iterations: 601, function evaluations: 52695, CG iterations: 3855, optimality: 9.47e-09, constraint violation: 1.54e-09, execution time: 8.9e+01 s.\n",
            "[1.34025381e+00 2.36086872e+00 2.21803101e+00 1.61890925e+01\n",
            " 2.09765611e+00 1.61955667e+00 1.73091867e+00 8.64867803e-01\n",
            " 2.71464874e+00 9.55097700e-01 1.40095370e+01 1.50650405e+00\n",
            " 1.93701860e+00 3.34718947e+00 2.45694564e+00 1.70076150e+00\n",
            " 1.29279200e+00 1.45330653e+00 2.31220194e+00 3.98265745e+00\n",
            " 1.12848821e+00 2.04951413e+00 1.22339676e+00 3.36954324e+00\n",
            " 7.79182022e+00 1.05346873e+01 5.30389618e+00 2.61581014e+00\n",
            " 6.73426114e+00 3.19408422e+00 1.24875115e+01 1.02560532e+00\n",
            " 4.64399218e+00 1.25710857e+00 1.68610146e+00 5.48196369e+00\n",
            " 8.91198283e-01 1.01885131e+00 9.61802297e-01 8.83791960e-01\n",
            " 8.60670572e-01 8.84039043e-01 1.50861864e+00 3.59965542e+03]\n",
            "定常分布pi = [3.46131370e-02 1.38277683e-01 5.55168247e-02 1.47306633e-04\n",
            " 5.51924598e-02 2.99769483e-03 2.46310840e-02 3.09873286e-02\n",
            " 1.47828565e-03 5.07144376e-02 4.17078357e-05 1.74937495e-02\n",
            " 1.73227846e-02 9.84465541e-03 3.73379285e-03 2.39890011e-03\n",
            " 1.45655070e-02 3.03254964e-02 1.21212567e-02 1.00582258e-02\n",
            " 5.21623831e-03 1.91446166e-02 5.25527827e-02 3.24562233e-03\n",
            " 1.00644337e-03 5.61513764e-04 1.18613862e-03 5.73903524e-03\n",
            " 5.48893252e-04 2.30968832e-03 5.84615200e-04 4.25928386e-02\n",
            " 1.85557913e-03 4.85292369e-02 1.79814577e-02 1.58261934e-03\n",
            " 2.63957573e-02 1.59049870e-03 1.23985899e-01 2.73498855e-02\n",
            " 6.54871050e-02 2.60816209e-02 1.16833203e-02 3.26275657e-04]\n",
            "目的間数値(最終) : 0.000900089183699121\n"
          ]
        }
      ]
    },
    {
      "cell_type": "code",
      "metadata": {
        "colab": {
          "base_uri": "https://localhost:8080/",
          "height": 638
        },
        "id": "MCLnP3VxCExH",
        "outputId": "340e3551-6840-4e30-8395-3cf02d54bde7"
      },
      "source": [
        "#最適化後の定常分布\n",
        "x_label = [i for i in range(1,len(pi)+1)]\n",
        "plt.figure(figsize=(10,10))\n",
        "plt.title('Stationary Distribution using optimal values')\n",
        "plt.xlabel('Node Number')\n",
        "plt.ylabel('Probability')\n",
        "plt.bar(x_label, pi)"
      ],
      "execution_count": 41,
      "outputs": [
        {
          "output_type": "execute_result",
          "data": {
            "text/plain": [
              "<BarContainer object of 44 artists>"
            ]
          },
          "metadata": {},
          "execution_count": 41
        },
        {
          "output_type": "display_data",
          "data": {
            "image/png": "[encoded data removed]",
            "text/plain": [
              "<Figure size 720x720 with 1 Axes>"
            ]
          },
          "metadata": {
            "needs_background": "light"
          }
        }
      ]
    },
    {
      "cell_type": "code",
      "metadata": {
        "colab": {
          "base_uri": "https://localhost:8080/",
          "height": 638
        },
        "id": "5a9mbwCEEAsU",
        "outputId": "7445f2d8-5211-4e7d-ef7a-5b9bb825fe42"
      },
      "source": [
        "#最適化後の滞在率\n",
        "x_label = [i for i in range(1, len(pi)+1)]\n",
        "x_label_noout = [i for i in range(1, len(pi))]\n",
        "plt.figure(figsize=(10,10))\n",
        "plt.title('value of a in each node')\n",
        "plt.xlabel('Node Number')\n",
        "plt.ylabel('value of a')\n",
        "mu_noout = np.delete(res['x'], -1)\n",
        "#plt.bar(x_label, res['x'])\n",
        "plt.bar(x_label_noout, mu_noout)"
      ],
      "execution_count": 42,
      "outputs": [
        {
          "output_type": "execute_result",
          "data": {
            "text/plain": [
              "<BarContainer object of 43 artists>"
            ]
          },
          "metadata": {},
          "execution_count": 42
        },
        {
          "output_type": "display_data",
          "data": {
            "image/png": "[encoded data removed]",
            "text/plain": [
              "<Figure size 720x720 with 1 Axes>"
            ]
          },
          "metadata": {
            "needs_background": "light"
          }
        }
      ]
    },
    {
      "cell_type": "markdown",
      "metadata": {
        "id": "VWlMnDTpDyfb"
      },
      "source": [
        "## 浜名湖ガーデンパークの滞在率を最適化して混雑を改善する\n",
        "33拠点, クラス1, 網内人数500人 で実施する"
      ]
    },
    {
      "cell_type": "code",
      "metadata": {
        "id": "0NmaUk4vaYhe"
      },
      "source": [
        "#推移確率行列、サービス率の設定\n",
        "N = 33\n",
        "mu = np.ones(N)\n",
        "T = sum(1 / mu) #平均滞在時間の和 (等式制約で利用)\n",
        "gamma = 0.25 #最適化でのmuの動く率"
      ],
      "execution_count": 43,
      "outputs": []
    },
    {
      "cell_type": "code",
      "metadata": {
        "colab": {
          "base_uri": "https://localhost:8080/"
        },
        "id": "WeHF_f77coIE",
        "outputId": "cfc92cac-b6d9-4050-8159-6c69f0c50c7d"
      },
      "source": [
        "from google.colab import drive\n",
        "drive.mount('/content/drive', force_remount=True)"
      ],
      "execution_count": 44,
      "outputs": [
        {
          "output_type": "stream",
          "name": "stdout",
          "text": [
            "Mounted at /content/drive\n"
          ]
        }
      ]
    },
    {
      "cell_type": "code",
      "metadata": {
        "id": "oXPDvqXhEnLY"
      },
      "source": [
        "import pandas as pd\n",
        "import matplotlib.pyplot as plt"
      ],
      "execution_count": 45,
      "outputs": []
    },
    {
      "cell_type": "code",
      "metadata": {
        "colab": {
          "base_uri": "https://localhost:8080/"
        },
        "id": "5ekhs1bmdJ0I",
        "outputId": "bb55fdac-710d-479a-f9a0-1839815237c1"
      },
      "source": [
        "p = pd.read_csv('/content/drive/MyDrive/研究/BCMP/csv/transition33.csv')\n",
        "p = p.iloc[:N, :N] #今回は最初のクラスのみ利用\n",
        "p = np.array(p)\n",
        "p"
      ],
      "execution_count": 46,
      "outputs": [
        {
          "output_type": "execute_result",
          "data": {
            "text/plain": [
              "array([[0.   , 0.047, 0.046, ..., 0.035, 0.038, 0.018],\n",
              "       [0.042, 0.   , 0.05 , ..., 0.033, 0.037, 0.017],\n",
              "       [0.037, 0.045, 0.   , ..., 0.031, 0.034, 0.015],\n",
              "       ...,\n",
              "       [0.016, 0.017, 0.017, ..., 0.   , 0.084, 0.06 ],\n",
              "       [0.016, 0.017, 0.017, ..., 0.076, 0.   , 0.037],\n",
              "       [0.016, 0.017, 0.017, ..., 0.119, 0.081, 0.   ]])"
            ]
          },
          "metadata": {},
          "execution_count": 46
        }
      ]
    },
    {
      "cell_type": "code",
      "metadata": {
        "colab": {
          "base_uri": "https://localhost:8080/"
        },
        "id": "5QVh6n_IdctV",
        "outputId": "d33f6afb-1ae3-4da5-a55f-ee50215ba9dd"
      },
      "source": [
        "#推移率行列を作成\n",
        "q = getTransitionRate(p, mu)\n",
        "q"
      ],
      "execution_count": 47,
      "outputs": [
        {
          "output_type": "execute_result",
          "data": {
            "text/plain": [
              "array([[-1.001,  0.047,  0.046, ...,  0.035,  0.038,  0.018],\n",
              "       [ 0.042, -0.999,  0.05 , ...,  0.033,  0.037,  0.017],\n",
              "       [ 0.037,  0.045, -1.003, ...,  0.031,  0.034,  0.015],\n",
              "       ...,\n",
              "       [ 0.016,  0.017,  0.017, ..., -0.996,  0.084,  0.06 ],\n",
              "       [ 0.016,  0.017,  0.017, ...,  0.076, -1.001,  0.037],\n",
              "       [ 0.016,  0.017,  0.017, ...,  0.119,  0.081, -1.001]])"
            ]
          },
          "metadata": {},
          "execution_count": 47
        }
      ]
    },
    {
      "cell_type": "code",
      "metadata": {
        "colab": {
          "base_uri": "https://localhost:8080/"
        },
        "id": "6L_y54PUgLAj",
        "outputId": "f0892aa1-ce8d-4cd3-e1ba-540f7298e2db"
      },
      "source": [
        "#推移確率から定常分布を求める\n",
        "pi = getStationary_solve(q)\n",
        "print(pi)\n",
        "np.sum(pi)"
      ],
      "execution_count": 48,
      "outputs": [
        {
          "output_type": "stream",
          "name": "stdout",
          "text": [
            "[0.01933797 0.0215444  0.02380094 0.02448347 0.02502658 0.02648525\n",
            " 0.02766109 0.05184957 0.02679539 0.02739965 0.02901152 0.02832282\n",
            " 0.02722483 0.05467196 0.0287907  0.02842202 0.02910552 0.02679775\n",
            " 0.0556468  0.02931604 0.02692018 0.02940556 0.02556521 0.02300526\n",
            " 0.05023485 0.02653398 0.0259687  0.02366611 0.02326739 0.02390243\n",
            " 0.0420844  0.04656493 0.02118675]\n"
          ]
        },
        {
          "output_type": "execute_result",
          "data": {
            "text/plain": [
              "0.9999999999999997"
            ]
          },
          "metadata": {},
          "execution_count": 48
        }
      ]
    },
    {
      "cell_type": "code",
      "metadata": {
        "colab": {
          "base_uri": "https://localhost:8080/",
          "height": 638
        },
        "id": "2ZjIiyrxoPXd",
        "outputId": "75aadfb1-765f-4197-9431-fdc57267cd04"
      },
      "source": [
        "#初期状態での定常分布\n",
        "x_label = [i for i in range(N)]\n",
        "plt.figure(figsize=(10,10))\n",
        "plt.title('Stationary Distribution using initial values')\n",
        "plt.xlabel('Node Number')\n",
        "plt.ylabel('Probability')\n",
        "plt.bar(x_label, pi)"
      ],
      "execution_count": 49,
      "outputs": [
        {
          "output_type": "execute_result",
          "data": {
            "text/plain": [
              "<BarContainer object of 33 artists>"
            ]
          },
          "metadata": {},
          "execution_count": 49
        },
        {
          "output_type": "display_data",
          "data": {
            "image/png": "[encoded data removed]",
            "text/plain": [
              "<Figure size 720x720 with 1 Axes>"
            ]
          },
          "metadata": {
            "needs_background": "light"
          }
        }
      ]
    },
    {
      "cell_type": "code",
      "metadata": {
        "colab": {
          "base_uri": "https://localhost:8080/"
        },
        "id": "ZZL9CwTXgm2q",
        "outputId": "a6e74146-2576-4729-b3ba-e654e34347ea"
      },
      "source": [
        "#目的間数値を求める\n",
        "getObjective(pi)"
      ],
      "execution_count": 50,
      "outputs": [
        {
          "output_type": "execute_result",
          "data": {
            "text/plain": [
              "9.752442244352505e-05"
            ]
          },
          "metadata": {},
          "execution_count": 50
        }
      ]
    },
    {
      "cell_type": "code",
      "metadata": {
        "id": "aD8R86_liYvk"
      },
      "source": [
        "#等式制約\n",
        "cons = ({'type':'eq','fun':getConstraint})\n",
        "#bounds\n",
        "lb = mu * (1 - gamma)\n",
        "ub = mu * (1 + gamma)\n",
        "#bounds = [(3,5), (5.625,9.375), (2.25,3.75), (7.5, 12.5)]\n",
        "#Boundsクラスを利用して、bounds=Bounds(lb, ub),とする"
      ],
      "execution_count": 51,
      "outputs": []
    },
    {
      "cell_type": "code",
      "metadata": {
        "colab": {
          "base_uri": "https://localhost:8080/"
        },
        "id": "6FPrN6IVg2Kp",
        "outputId": "19068be4-9241-48bc-cd01-b69f747c5ec1"
      },
      "source": [
        "# 最適化\n",
        "res = minimize(getOptimize,             # 目的関数, \n",
        "                mu,                     # 初期解,\n",
        "                method=\"trust-constr\",  # 制約付き信頼領域法\n",
        "                jac=\"2-point\",          # 勾配関数\n",
        "                hess=BFGS(),            # ヘシアンの推定方法\n",
        "                constraints=cons,      # 制約\n",
        "                bounds=Bounds(lb, ub),\n",
        "                options={\"maxiter\": 50, # 最大反復数\n",
        "                         \"verbose\":2})  # 最適化の過程を出力\n",
        "print('説明変数μ = {0}'.format(res[\"x\"]))\n",
        "#最終結果\n",
        "q = getTransitionRate(p, res['x'])\n",
        "pi = getStationary_solve(q)\n",
        "val = getObjective(pi)\n",
        "print('定常分布pi = {0}'.format(pi))\n",
        "print('目的間数値(最終) : {0}'.format(val))"
      ],
      "execution_count": 52,
      "outputs": [
        {
          "output_type": "stream",
          "name": "stdout",
          "text": [
            "| niter |f evals|CG iter|  obj func   |tr radius |   opt    |  c viol  |\n",
            "|-------|-------|-------|-------------|----------|----------|----------|\n",
            "|   1   |  34   |   0   | +9.7524e-05 | 1.00e+00 | 2.49e-05 | 0.00e+00 |\n",
            "|   2   |  68   |   1   | +9.7515e-05 | 5.60e+00 | 1.93e-05 | 3.97e-09 |\n",
            "|   3   |  102  |   2   | +9.7473e-05 | 8.08e+00 | 8.98e-06 | 8.30e-08 |\n",
            "|   4   |  136  |   3   | +9.7536e-05 | 8.08e+00 | 6.19e-06 | 1.84e-07 |\n",
            "|   5   |  136  |   3   | +9.7536e-05 | 4.04e+01 | 3.05e-06 | 1.84e-07 |\n",
            "|   6   |  136  |   3   | +9.7536e-05 | 2.02e+02 | 2.42e-06 | 1.84e-07 |\n",
            "|   7   |  136  |   3   | +9.7536e-05 | 1.01e+03 | 2.29e-06 | 1.84e-07 |\n",
            "|   8   |  136  |   3   | +9.7536e-05 | 5.05e+03 | 2.27e-06 | 1.84e-07 |\n",
            "|   9   |  136  |   3   | +9.7536e-05 | 2.53e+04 | 2.26e-06 | 1.84e-07 |\n",
            "|  10   |  136  |   3   | +9.7536e-05 | 1.26e+05 | 2.26e-06 | 1.84e-07 |\n",
            "|  11   |  204  |   4   | +9.7536e-05 | 1.26e+04 | 2.26e-06 | 1.84e-07 |\n",
            "|  12   |  272  |   5   | +9.7536e-05 | 1.26e+03 | 2.26e-06 | 1.84e-07 |\n",
            "|  13   |  340  |   6   | +9.7536e-05 | 1.26e+02 | 2.26e-06 | 1.84e-07 |\n",
            "|  14   |  408  |   7   | +9.7536e-05 | 1.26e+01 | 2.26e-06 | 1.84e-07 |\n",
            "|  15   |  476  |   8   | +9.7536e-05 | 1.26e+00 | 2.26e-06 | 1.84e-07 |\n",
            "|  16   |  544  |   9   | +9.7536e-05 | 1.26e-01 | 2.26e-06 | 1.84e-07 |\n",
            "|  17   |  612  |  10   | +9.4323e-05 | 8.84e-01 | 2.10e-06 | 1.37e-08 |\n",
            "|  18   |  680  |  11   | +9.4323e-05 | 8.84e-02 | 2.10e-06 | 1.37e-08 |\n",
            "|  19   |  748  |  12   | +9.2136e-05 | 6.19e-01 | 1.98e-06 | 1.83e-08 |\n",
            "|  20   |  816  |  13   | +9.2136e-05 | 6.19e-02 | 1.98e-06 | 1.83e-08 |\n",
            "|  21   |  884  |  14   | +9.0637e-05 | 4.33e-01 | 1.89e-06 | 9.77e-09 |\n",
            "|  22   |  952  |  15   | +8.0775e-05 | 8.66e-01 | 1.23e-06 | 5.44e-06 |\n",
            "|  23   | 1020  |  16   | +8.0775e-05 | 8.66e-02 | 1.23e-06 | 5.44e-06 |\n",
            "|  24   | 1088  |  17   | +7.9004e-05 | 6.06e-01 | 1.11e-06 | 7.87e-08 |\n",
            "|  25   | 1088  |  17   | +7.9004e-05 | 3.03e+00 | 1.41e-06 | 7.87e-08 |\n",
            "|  26   | 1156  |  18   | +7.9004e-05 | 3.03e-01 | 1.41e-06 | 7.87e-08 |\n",
            "|  27   | 1224  |  19   | +7.3142e-05 | 6.06e-01 | 1.08e-06 | 3.72e-06 |\n",
            "|  28   | 1292  |  20   | +7.3142e-05 | 6.06e-02 | 1.08e-06 | 3.72e-06 |\n",
            "|  29   | 1360  |  21   | +7.2077e-05 | 4.25e-01 | 1.02e-06 | 3.32e-08 |\n",
            "|  30   | 1428  |  22   | +7.2077e-05 | 4.25e-02 | 1.02e-06 | 3.32e-08 |\n",
            "|  31   | 1496  |  23   | +7.1349e-05 | 2.97e-01 | 9.84e-07 | 1.15e-08 |\n",
            "|  32   | 1564  |  24   | +6.6465e-05 | 2.97e-01 | 7.40e-07 | 4.00e-06 |\n",
            "|  33   | 1632  |  25   | +6.2170e-05 | 5.94e-01 | 5.69e-07 | 3.90e-06 |\n",
            "|  34   | 1700  |  26   | +6.2170e-05 | 5.94e-02 | 5.69e-07 | 3.90e-06 |\n",
            "|  35   | 1768  |  27   | +6.1403e-05 | 4.16e-01 | 5.40e-07 | 2.86e-08 |\n",
            "|  36   | 1836  |  28   | +6.1403e-05 | 4.16e-02 | 5.40e-07 | 2.86e-08 |\n",
            "|  37   | 1904  |  29   | +6.0879e-05 | 2.91e-01 | 5.20e-07 | 9.59e-09 |\n",
            "|  38   | 1972  |  30   | +6.0879e-05 | 2.91e-02 | 5.20e-07 | 9.59e-09 |\n",
            "|  39   | 2040  |  31   | +6.0519e-05 | 2.04e-01 | 5.07e-07 | 3.24e-09 |\n",
            "|  40   | 2108  |  32   | +5.8063e-05 | 4.08e-01 | 4.28e-07 | 1.10e-06 |\n",
            "|  41   | 2176  |  33   | +5.8063e-05 | 4.08e-02 | 4.28e-07 | 1.10e-06 |\n",
            "|  42   | 2244  |  34   | +5.7610e-05 | 2.85e-01 | 4.14e-07 | 8.03e-09 |\n",
            "|  43   | 2312  |  35   | +5.7610e-05 | 2.85e-02 | 4.14e-07 | 8.03e-09 |\n",
            "|  44   | 2380  |  36   | +5.7297e-05 | 2.00e-01 | 4.04e-07 | 2.70e-09 |\n",
            "|  45   | 2448  |  37   | +5.5168e-05 | 4.00e-01 | 3.37e-07 | 9.16e-07 |\n",
            "|  46   | 2516  |  38   | +5.5168e-05 | 4.00e-02 | 3.37e-07 | 9.16e-07 |\n",
            "|  47   | 2584  |  39   | +5.4774e-05 | 2.80e-01 | 3.25e-07 | 6.64e-09 |\n",
            "|  48   | 2652  |  40   | +5.4774e-05 | 2.80e-02 | 3.25e-07 | 6.64e-09 |\n",
            "|  49   | 2720  |  41   | +5.4503e-05 | 1.96e-01 | 3.17e-07 | 2.23e-09 |\n",
            "|  50   | 2788  |  42   | +5.2652e-05 | 3.92e-01 | 2.69e-07 | 7.56e-07 |\n",
            "|  51   | 2856  |  43   | +5.2652e-05 | 3.92e-02 | 2.69e-07 | 7.56e-07 |\n",
            "\n",
            "The maximum number of function evaluations is exceeded.\n",
            "Number of iterations: 51, function evaluations: 2856, CG iterations: 43, optimality: 2.69e-07, constraint violation: 7.56e-07, execution time:  4.5 s.\n",
            "説明変数μ = [0.94246881 0.94930979 0.95935035 0.96297708 0.96605224 0.97510805\n",
            " 0.98319738 1.15399347 0.97717643 0.98134172 0.99325555 0.98803083\n",
            " 0.98011862 1.164875   0.99155991 0.98877167 0.99398294 0.97719235\n",
            " 1.16825422 0.99562387 0.97802217 0.99632648 0.96926361 0.9554643\n",
            " 1.14695095 0.97542983 0.97177201 0.95866577 0.95670346 0.95987267\n",
            " 1.10020382 1.12838289 0.94799912]\n",
            "定常分布pi = [0.02093585 0.02315651 0.02531416 0.02594201 0.02643307 0.02771392\n",
            " 0.02870617 0.04584463 0.0279791  0.02848862 0.02980274 0.02924911\n",
            " 0.02834217 0.04788858 0.02962647 0.02932957 0.02987742 0.02798111\n",
            " 0.04860148 0.03004392 0.0280851  0.03011441 0.02691251 0.0245674\n",
            " 0.04468965 0.02775575 0.02726669 0.02518873 0.02481516 0.02540827\n",
            " 0.03902965 0.0421065  0.02280358]\n",
            "目的間数値(最終) : 5.2651618633507486e-05\n"
          ]
        }
      ]
    },
    {
      "cell_type": "code",
      "metadata": {
        "colab": {
          "base_uri": "https://localhost:8080/",
          "height": 638
        },
        "id": "XOb1XDhvh4II",
        "outputId": "0153d2bf-f020-4aaa-a4eb-274c1121d174"
      },
      "source": [
        "#最適化後の定常分布\n",
        "x_label = [i for i in range(N)]\n",
        "plt.figure(figsize=(10,10))\n",
        "plt.title('Stationary Distribution using optimal values')\n",
        "plt.xlabel('Node Number')\n",
        "plt.ylabel('Probability')\n",
        "plt.bar(x_label, pi)"
      ],
      "execution_count": 53,
      "outputs": [
        {
          "output_type": "execute_result",
          "data": {
            "text/plain": [
              "<BarContainer object of 33 artists>"
            ]
          },
          "metadata": {},
          "execution_count": 53
        },
        {
          "output_type": "display_data",
          "data": {
            "image/png": "[encoded data removed]",
            "text/plain": [
              "<Figure size 720x720 with 1 Axes>"
            ]
          },
          "metadata": {
            "needs_background": "light"
          }
        }
      ]
    },
    {
      "cell_type": "code",
      "metadata": {
        "colab": {
          "base_uri": "https://localhost:8080/",
          "height": 638
        },
        "id": "kh2U8RdOtcmZ",
        "outputId": "5fd2fce7-7830-48a3-cfa9-2f5edbdc60fe"
      },
      "source": [
        "#最適化後の滞在率グラフ\n",
        "x_label = [i for i in range(N)]\n",
        "plt.figure(figsize=(10,10))\n",
        "plt.title('value of a in each node')\n",
        "plt.xlabel('Node Number')\n",
        "plt.ylabel('value of a')\n",
        "plt.bar(x_label, res['x'])"
      ],
      "execution_count": 54,
      "outputs": [
        {
          "output_type": "execute_result",
          "data": {
            "text/plain": [
              "<BarContainer object of 33 artists>"
            ]
          },
          "metadata": {},
          "execution_count": 54
        },
        {
          "output_type": "display_data",
          "data": {
            "image/png": "[encoded data removed]",
            "text/plain": [
              "<Figure size 720x720 with 1 Axes>"
            ]
          },
          "metadata": {
            "needs_background": "light"
          }
        }
      ]
    },
    {
      "cell_type": "code",
      "metadata": {
        "colab": {
          "base_uri": "https://localhost:8080/"
        },
        "id": "J2XnQg1Ft1iD",
        "outputId": "bd3dc38b-8286-499f-c62a-e3ce35b692de"
      },
      "source": [
        "#滞在率の平均\n",
        "sum(res['x']) / len(res['x'])"
      ],
      "execution_count": 55,
      "outputs": [
        {
          "output_type": "execute_result",
          "data": {
            "text/plain": [
              "1.0041726467915684"
            ]
          },
          "metadata": {},
          "execution_count": 55
        }
      ]
    },
    {
      "cell_type": "markdown",
      "metadata": {
        "id": "UPbKR56V6NVy"
      },
      "source": [
        "### 定常分布の最適化の結果を待ち行列(BCMP)としてみてみる\n",
        "連続時間型マルコフ連鎖をそのまま待ち行列に持っていくのは、推移率と推移確率の作り方で少しギャップがある。参考程度とする。  \n",
        "\n",
        "N = 33, R = 1, K = 500  \n",
        "パラメタ：サービス率(上記の結果を利用)  \n",
        "\n",
        "\\begin{equation}\n",
        " D = \\sum^K_{n=1}(|L_n-CP_n|+PT_n*I(\\bar{A_n}))\n",
        "\\end{equation}\n",
        "\n",
        "$L_n$: 拠点$n$における平均系内人数，$L_n = \\sum_{r=1}^R L_{n,r} $  \n",
        "$CP_n$: 拠点$n$における最大収容客数  \n",
        "$PT_n$: 拠点$n$におけるペナルティ値  \n",
        "$A_n$: 拠点$n$で安定が保たれている状態  \n",
        "$I(A_n)$: 事象$A_n$に対する指示関数 \n",
        "\n",
        "結果より  \n",
        "ペナルティの値がBCMPでは影響が大きく、K * 0.1では目的関数値が逆に大きくなってしまった。このとき$\\gamma$の値を0.5まであげたが、目的関数が元の値より下がらなかった。ペナルティをK * 0.05まで下げたら目的間数が元の値より下回った。\n"
      ]
    },
    {
      "cell_type": "code",
      "metadata": {
        "colab": {
          "base_uri": "https://localhost:8080/"
        },
        "id": "9OkmZ9Lc7ROB",
        "outputId": "ac67069d-9b85-4f74-952c-0f6adec89081"
      },
      "source": [
        "#理論値の取り込み (最適化前)\n",
        "path = '/content/drive/MyDrive/研究/BCMP'\n",
        "theoretical = pd.read_csv(path +'/csv/Theoretical33_K500_R1.csv')\n",
        "N = 33\n",
        "R = 1\n",
        "K = [500]\n",
        "K_total = 500\n",
        "theoretical = np.array(theoretical) #numpy形式に変換\n",
        "theoretical"
      ],
      "execution_count": 56,
      "outputs": [
        {
          "output_type": "execute_result",
          "data": {
            "text/plain": [
              "array([[  0.53302896],\n",
              "       [  0.63099924],\n",
              "       [  0.7513782 ],\n",
              "       [  0.79128012],\n",
              "       [  0.81464212],\n",
              "       [  0.91015121],\n",
              "       [  0.98848987],\n",
              "       [ 13.66139811],\n",
              "       [  0.93042897],\n",
              "       [  0.96815144],\n",
              "       [  1.08693283],\n",
              "       [  1.03449082],\n",
              "       [  0.95427038],\n",
              "       [ 48.41505181],\n",
              "       [  1.07191611],\n",
              "       [  1.04794388],\n",
              "       [  1.094384  ],\n",
              "       [  0.93064907],\n",
              "       [396.5084686 ],\n",
              "       [  1.1089108 ],\n",
              "       [  0.93712643],\n",
              "       [  1.12284333],\n",
              "       [  0.84850507],\n",
              "       [  0.70610036],\n",
              "       [  9.30116624],\n",
              "       [  0.90993801],\n",
              "       [  0.88173076],\n",
              "       [  0.74523001],\n",
              "       [  0.72008531],\n",
              "       [  0.75433664],\n",
              "       [  3.05955881],\n",
              "       [  5.16459673],\n",
              "       [  0.61581572]])"
            ]
          },
          "metadata": {},
          "execution_count": 56
        }
      ]
    },
    {
      "cell_type": "code",
      "metadata": {
        "id": "30z9QXQOBsNK"
      },
      "source": [
        "capacity = np.full(N, K_total // N + 1) #各拠点のキャパ：今は平均\n",
        "pnenalty = np.full(N , K_total * 0.05) #ペナルティ値は網内人数の5%としてみる"
      ],
      "execution_count": 57,
      "outputs": []
    },
    {
      "cell_type": "code",
      "metadata": {
        "id": "Rqq-49oFCabZ"
      },
      "source": [
        "def getObjective(l, capacity, pnenalty):\n",
        "  sum = 0\n",
        "  cnt = 0\n",
        "  for i in range(len(l)):\n",
        "    sum += np.abs(l[i] - capacity[i])\n",
        "    if l[i] > capacity[i]:\n",
        "      sum += pnenalty[i]\n",
        "      cnt += 1\n",
        "  return sum, cnt"
      ],
      "execution_count": 58,
      "outputs": []
    },
    {
      "cell_type": "code",
      "metadata": {
        "colab": {
          "base_uri": "https://localhost:8080/"
        },
        "id": "vJ7b8jDuGExg",
        "outputId": "64552966-6f61-47d5-dd83-c21ce95fe5ba"
      },
      "source": [
        "#最適化前の目的間数値\n",
        "getObjective(theoretical, capacity, pnenalty)"
      ],
      "execution_count": 59,
      "outputs": [
        {
          "output_type": "execute_result",
          "data": {
            "text/plain": [
              "(array([903.84704086]), 2)"
            ]
          },
          "metadata": {},
          "execution_count": 59
        }
      ]
    },
    {
      "cell_type": "code",
      "metadata": {
        "id": "1ILr2_2OGZ0X"
      },
      "source": [
        "#パラメタ設定\n",
        "mu = np.array(res['x']).reshape(R, N)\n",
        "type_list = np.full(N, 1) #サービスタイプはFCFS\n",
        "m = np.full(N, 1) #今回は窓口数1(複数窓口は実装できていない)"
      ],
      "execution_count": 60,
      "outputs": []
    },
    {
      "cell_type": "code",
      "metadata": {
        "id": "Y0cCR5z0Lwm0"
      },
      "source": [
        "import sys\n",
        "sys.path.append('/content/drive/MyDrive/研究/BCMP/')\n",
        "import BCMP_MVA_Class as mdl\n",
        "bcmp = mdl.BCMP_MVA_Class(N, R, K, mu, type_list, p, m)"
      ],
      "execution_count": 61,
      "outputs": []
    },
    {
      "cell_type": "code",
      "metadata": {
        "colab": {
          "base_uri": "https://localhost:8080/"
        },
        "id": "7wu-zb3bI-_J",
        "outputId": "5a167018-d870-4f5a-9eb8-9798afb74c1f"
      },
      "source": [
        "import time\n",
        "start = time.time()\n",
        "L = bcmp.getMVA()\n",
        "elapsed_time = time.time() - start\n",
        "print (\"calclation_time:{0}\".format(elapsed_time) + \"[sec]\")\n",
        "print('L = \\n{0}'.format(L))"
      ],
      "execution_count": 62,
      "outputs": [
        {
          "output_type": "stream",
          "name": "stdout",
          "text": [
            "calclation_time:1.1358656883239746[sec]\n",
            "L = \n",
            "[[  0.75743806]\n",
            " [  0.90877147]\n",
            " [  1.09397038]\n",
            " [  1.15471179]\n",
            " [  1.18763947]\n",
            " [  1.3302208 ]\n",
            " [  1.44299072]\n",
            " [ 16.63581592]\n",
            " [  1.35972739]\n",
            " [  1.41310424]\n",
            " [  1.5812157 ]\n",
            " [  1.50765337]\n",
            " [  1.39248844]\n",
            " [ 56.304825  ]\n",
            " [  1.56109142]\n",
            " [  1.52899011]\n",
            " [  1.59162012]\n",
            " [  1.36006831]\n",
            " [370.28101677]\n",
            " [  1.61088391]\n",
            " [  1.36890091]\n",
            " [  1.63297821]\n",
            " [  1.23841435]\n",
            " [  1.02443713]\n",
            " [ 11.45091109]\n",
            " [  1.32881905]\n",
            " [  1.28995577]\n",
            " [  1.08489782]\n",
            " [  1.04582353]\n",
            " [  1.09786955]\n",
            " [  4.00692942]\n",
            " [  6.54023287]\n",
            " [  0.88558694]]\n"
          ]
        }
      ]
    },
    {
      "cell_type": "code",
      "metadata": {
        "colab": {
          "base_uri": "https://localhost:8080/"
        },
        "id": "WhEwbYISPPf-",
        "outputId": "91b1b747-4824-4678-b24c-aee1e7c66860"
      },
      "source": [
        "#最適化後の目的関数値\n",
        "getObjective(L, capacity, pnenalty)"
      ],
      "execution_count": 63,
      "outputs": [
        {
          "output_type": "execute_result",
          "data": {
            "text/plain": [
              "(array([893.44331536]), 3)"
            ]
          },
          "metadata": {},
          "execution_count": 63
        }
      ]
    },
    {
      "cell_type": "markdown",
      "metadata": {
        "id": "5anFaPKa6Xbr"
      },
      "source": [
        "## 実社会における施設内密集度評価のためのシミュレーション構築\n",
        "2021年度第3回(IOT通算第55回)研究会 2021年9月6日(月)\n",
        "\n",
        "閉鎖型BCMP待ち行列から得られる平均系内人数(MVAで算出)した結果を用いて算出した目的関数をサービス時間をパラメタとして最適化を行う。  \n",
        "->最適化がされないので、違う方法で実施する必要がある。"
      ]
    },
    {
      "cell_type": "code",
      "metadata": {
        "id": "FvcyJjwWQWux"
      },
      "source": [
        "path = '/content/drive/MyDrive/研究/BCMP'\n",
        "theoretical = pd.read_csv(path +'/csv/Theoretical33_K500.csv')\n",
        "\n",
        "N = 33 #33\n",
        "R = 2\n",
        "K_total = 100\n",
        "K = [(K_total + i) // R for i in range(R)] #クラス人数を自動的に配分する\n",
        "mu = np.full(N, 1) #サービス率を同じ値で生成(サービス率は調整が必要)\n",
        "type_list = np.full(N, 1) #サービスタイプはFCFS\n",
        "m = np.full(N, 1) #今回は窓口数1(複数窓口は実装できていない)\n",
        "p = pd.read_csv('/content/drive/MyDrive/研究/BCMP/csv/transition33.csv')\n",
        "capacity = np.full(N, K_total // N + 1) #各拠点のキャパ：今は平均\n",
        "pnenalty = np.full(N , K_total * 0.05) #ペナルティ値は網内人数の5%としてみる\n",
        "\n",
        "L_class = np.array(theoretical) #numpy形式に変換\n",
        "L = [] #クラスを拠点にまとめる\n",
        "for i in range(len(L_class)):\n",
        "  sum = 0\n",
        "  for j in range(len(L_class[i])):\n",
        "    sum += L_class[i,j]\n",
        "  L.append(sum)"
      ],
      "execution_count": 64,
      "outputs": []
    },
    {
      "cell_type": "code",
      "metadata": {
        "colab": {
          "base_uri": "https://localhost:8080/"
        },
        "id": "geYM1znwO44W",
        "outputId": "ac6a94e7-4aee-4131-d48c-e8f37f5024b3"
      },
      "source": [
        "#最適化前の目的間数値\n",
        "getObjective(L, capacity, pnenalty)"
      ],
      "execution_count": 65,
      "outputs": [
        {
          "output_type": "execute_result",
          "data": {
            "text/plain": [
              "(527.432045518, 10)"
            ]
          },
          "metadata": {},
          "execution_count": 65
        }
      ]
    },
    {
      "cell_type": "code",
      "metadata": {
        "id": "g6RXmtZegdYj"
      },
      "source": [
        "import sys\n",
        "sys.path.append('/content/drive/MyDrive/研究/BCMP/')\n",
        "import BCMP_MVA_FCFS as mdl"
      ],
      "execution_count": 66,
      "outputs": []
    },
    {
      "cell_type": "code",
      "metadata": {
        "id": "7s-3nEM-PMBj"
      },
      "source": [
        "def getOptimizeBCMP(mu):\n",
        "  # (1)MVAクラスのインスタンス生成\n",
        "  bcmp = mdl.BCMP_MVA_FCFS(N, R, K, mu, type_list, p, m)\n",
        "  # (2)平均系内人数を取得\n",
        "  L_class = bcmp.getMVA()\n",
        "  L = [] #クラスを拠点にまとめる\n",
        "  for i in range(len(L_class)):\n",
        "    sum = 0\n",
        "    for j in range(len(L_class[i])):\n",
        "      sum += L_class[i,j]\n",
        "    L.append(sum)\n",
        "  # (3)目的関数値を計算\n",
        "  value, cnt = getObjective(L, capacity, pnenalty)\n",
        "  # 現状を出力\n",
        "  print('current mu = {0}'.format(mu))\n",
        "  print('current Objective = {0}'.format(value))\n",
        "  return value"
      ],
      "execution_count": 67,
      "outputs": []
    },
    {
      "cell_type": "code",
      "metadata": {
        "id": "PkcDqkhgRr56"
      },
      "source": [
        "#等式制約\n",
        "cons = ({'type':'eq','fun':getConstraint})\n",
        "#bounds\n",
        "gamma = 0.5\n",
        "lb = mu * (1 - gamma)\n",
        "ub = mu * (1 + gamma)\n",
        "#bounds = [(3,5), (5.625,9.375), (2.25,3.75), (7.5, 12.5)]\n",
        "#Boundsクラスを利用して、bounds=Bounds(lb, ub),とする"
      ],
      "execution_count": 68,
      "outputs": []
    },
    {
      "cell_type": "code",
      "metadata": {
        "id": "x3w8tpixjEet"
      },
      "source": [
        "# 最適化 (muは一次元である必要がある)\n",
        "#res = minimize(getOptimizeBCMP,             # 目的関数, \n",
        "#                mu,                     # 初期解,\n",
        "#                method=\"trust-constr\",  # 制約付き信頼領域法\n",
        "#                jac=\"2-point\",          # 勾配関数\n",
        "#                hess=BFGS(),            # ヘシアンの推定方法\n",
        "#                constraints=cons,      # 制約\n",
        "#                bounds=Bounds(lb, ub),\n",
        "#                options={\"maxiter\": 50, # 最大反復数\n",
        "#                         \"verbose\":2})  # 最適化の過程を出力\n",
        "#print('説明変数μ = {0}'.format(res[\"x\"]))\n",
        "#最終結果\n",
        "#val = getOptimizeBCMP(res['x'])\n",
        "#print('目的間数値(最終) : {0}'.format(val))"
      ],
      "execution_count": 69,
      "outputs": []
    },
    {
      "cell_type": "code",
      "metadata": {
        "id": "IQ4SE2U1j2rF"
      },
      "source": [
        ""
      ],
      "execution_count": 69,
      "outputs": []
    }
  ]
}