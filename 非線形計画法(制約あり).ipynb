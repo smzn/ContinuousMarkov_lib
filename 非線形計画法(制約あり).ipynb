{
  "nbformat": 4,
  "nbformat_minor": 0,
  "metadata": {
    "colab": {
      "name": "非線形計画法(制約あり).ipynb",
      "provenance": []
    },
    "kernelspec": {
      "name": "python3",
      "display_name": "Python 3"
    },
    "language_info": {
      "name": "python"
    }
  },
  "cells": [
    {
      "cell_type": "markdown",
      "metadata": {
        "id": "qtG1oavZt9l3"
      },
      "source": [
        "# 非線形計画法(制約あり)\n",
        "非線形計画の制約がある場合をやっていきます。制約も線形で表せる線形制約と線形で表せない非線形制約があります。  \n",
        "\n",
        "## Constrained minimization of multivariate scalar functions (minimize)\n",
        "https://docs.scipy.org/doc/scipy/reference/tutorial/optimize.html#constrained-minimization-of-multivariate-scalar-functions-minimize  \n",
        "https://docs.scipy.org/doc/scipy/reference/tutorial/optimize.html#trust-region-constrained-algorithm-method-trust-constr"
      ]
    },
    {
      "cell_type": "code",
      "metadata": {
        "id": "mty0C2FIw8KT"
      },
      "source": [
        "from scipy.optimize import minimize, BFGS, LinearConstraint, NonlinearConstraint, Bounds\n",
        "import numpy as np"
      ],
      "execution_count": 404,
      "outputs": []
    },
    {
      "cell_type": "markdown",
      "metadata": {
        "id": "CxBKDntJyfhF"
      },
      "source": [
        "### 例題1.1 １変数、線形制約\n",
        "わかりやすい数理計画法 (森北). \n",
        "P128 例6.1  \n",
        "minimize $f(x) = x^2 -2x$  \n",
        "subject to :  \n",
        "$g_1(x) = -x \\leq 0$  \n",
        "$g_2(x) = x - 2 \\leq 0$  \n",
        "\n",
        "$x \\geq 0$  \n",
        "$x \\leq 2$  \n",
        "\n",
        "$0 \\leq x \\leq 2$\n",
        "\n",
        "最適値は$x = 1$のとき、最小値-1"
      ]
    },
    {
      "cell_type": "code",
      "metadata": {
        "id": "m3Uw7Y1RyP-w"
      },
      "source": [
        "#目的関数\n",
        "def f1_1(x):\n",
        "    return x**2 -2 * x"
      ],
      "execution_count": 405,
      "outputs": []
    },
    {
      "cell_type": "code",
      "metadata": {
        "id": "F1fgxDFiyvj3"
      },
      "source": [
        "#線形制約\n",
        "A = np.array([1])\n",
        "lb = np.array([0])\n",
        "ub = np.array([2])\n",
        "linear_constraint = LinearConstraint(A, lb, ub)"
      ],
      "execution_count": 406,
      "outputs": []
    },
    {
      "cell_type": "code",
      "metadata": {
        "colab": {
          "base_uri": "https://localhost:8080/"
        },
        "id": "qzwoYb3EzCkC",
        "outputId": "9f8d4e1e-5d24-46d0-e7b6-0c76f4524309"
      },
      "source": [
        "x0 = np.array([0.5])\n",
        "res = minimize(f1_1, x0, method='trust-constr', jac=\"2-point\", hess=BFGS(),\n",
        "               constraints=[linear_constraint],\n",
        "               options={'verbose': 2})\n",
        "print(res.x)\n",
        "print('x = {0}のとき最小値 : {1}'.format(res.x[0],f1_1(res.x[0])))"
      ],
      "execution_count": 407,
      "outputs": [
        {
          "output_type": "stream",
          "name": "stdout",
          "text": [
            "| niter |f evals|CG iter|  obj func   |tr radius |   opt    |  c viol  |\n",
            "|-------|-------|-------|-------------|----------|----------|----------|\n",
            "|   1   |   2   |   0   | -7.5000e-01 | 1.00e+00 | 4.80e-01 | 0.00e+00 |\n",
            "|   2   |   4   |   1   | -9.5046e-01 | 2.00e+00 | 1.48e-01 | 0.00e+00 |\n",
            "|   3   |   6   |   2   | -9.9990e-01 | 2.71e+00 | 7.26e-03 | 0.00e+00 |\n",
            "|   4   |   6   |   2   | -9.9990e-01 | 1.36e+01 | 6.73e-03 | 0.00e+00 |\n",
            "|   5   |   6   |   2   | -9.9990e-01 | 6.79e+01 | 6.63e-03 | 0.00e+00 |\n",
            "|   6   |   8   |   3   | -1.0000e+00 | 6.79e+01 | 2.12e-05 | 0.00e+00 |\n",
            "|   7   |   8   |   3   | -1.0000e+00 | 3.39e+02 | 2.11e-05 | 0.00e+00 |\n",
            "|   8   |   8   |   3   | -1.0000e+00 | 1.70e+03 | 2.11e-05 | 0.00e+00 |\n",
            "|   9   |   8   |   3   | -1.0000e+00 | 8.48e+03 | 2.11e-05 | 0.00e+00 |\n",
            "|  10   |   8   |   3   | -1.0000e+00 | 4.24e+04 | 2.11e-05 | 0.00e+00 |\n",
            "|  11   |  10   |   4   | -1.0000e+00 | 4.24e+04 | 4.97e-09 | 0.00e+00 |\n",
            "\n",
            "`gtol` termination condition is satisfied.\n",
            "Number of iterations: 11, function evaluations: 10, CG iterations: 4, optimality: 4.97e-09, constraint violation: 0.00e+00, execution time: 0.042 s.\n",
            "[0.99999999]\n",
            "x = 0.9999999868129473のとき最小値 : -0.9999999999999998\n"
          ]
        }
      ]
    },
    {
      "cell_type": "markdown",
      "metadata": {
        "id": "SFcNqYn60m4X"
      },
      "source": [
        "### 例題1.2 1変数、線形制約 \n",
        "わかりやすい数理計画法 (森北) P128 例6.2  \n",
        "minimize $f(x) = x^2 -2x$  \n",
        "subject to  \n",
        "$g_1(x) = -x + 2 \\leq 0$  \n",
        "$g_2(x) = x - 3 \\leq 0$\n",
        "\n",
        "$2 \\leq x \\leq 3$  \n",
        "$x = 2$のとき、最小値0  \n"
      ]
    },
    {
      "cell_type": "code",
      "metadata": {
        "id": "MrG2Ohvx0_72"
      },
      "source": [
        "#線形制約\n",
        "A = np.array([1])\n",
        "lb = np.array([2])\n",
        "ub = np.array([3])\n",
        "linear_constraint = LinearConstraint(A, lb, ub)"
      ],
      "execution_count": 408,
      "outputs": []
    },
    {
      "cell_type": "code",
      "metadata": {
        "colab": {
          "base_uri": "https://localhost:8080/"
        },
        "id": "CpnIg82Q1Sh8",
        "outputId": "07bd77d9-9056-42eb-a6c2-8b311cf8440c"
      },
      "source": [
        "x0 = np.array([0.5])\n",
        "res = minimize(f1_1, x0, method='trust-constr', jac=\"2-point\", hess=BFGS(),\n",
        "               constraints=[linear_constraint],\n",
        "               options={'verbose': 2})\n",
        "print(res.x)\n",
        "print('x = {0}のとき最小値 : {1}'.format(res.x[0],f1_1(res.x[0])))"
      ],
      "execution_count": 409,
      "outputs": [
        {
          "output_type": "stream",
          "name": "stdout",
          "text": [
            "| niter |f evals|CG iter|  obj func   |tr radius |   opt    |  c viol  |\n",
            "|-------|-------|-------|-------------|----------|----------|----------|\n",
            "|   1   |   2   |   0   | -7.5000e-01 | 1.00e+00 | 5.18e-01 | 1.50e+00 |\n",
            "|   2   |   4   |   1   | -8.1652e-01 | 2.00e+00 | 3.66e-01 | 5.72e-01 |\n",
            "|   3   |   6   |   2   | -9.1604e-01 | 2.02e+00 | 4.83e-04 | 7.10e-01 |\n",
            "|   4   |   8   |   3   | -3.0262e-02 | 4.05e+00 | 1.00e-03 | 1.52e-02 |\n",
            "|   5   |   8   |   3   | -3.0262e-02 | 2.02e+01 | 1.14e-04 | 1.52e-02 |\n",
            "|   6   |  10   |   4   | +1.9485e-02 | 2.02e+01 | 2.18e-06 | 0.00e+00 |\n",
            "|   7   |  10   |   4   | +1.9485e-02 | 1.01e+02 | 1.51e-04 | 0.00e+00 |\n",
            "|   8   |  12   |   5   | +4.1024e-03 | 1.01e+02 | 2.35e-07 | 0.00e+00 |\n",
            "|   9   |  12   |   5   | +4.1024e-03 | 5.06e+02 | 6.78e-06 | 0.00e+00 |\n",
            "|  10   |  14   |   6   | +8.0492e-04 | 5.06e+02 | 2.17e-09 | 0.00e+00 |\n",
            "\n",
            "`gtol` termination condition is satisfied.\n",
            "Number of iterations: 10, function evaluations: 14, CG iterations: 6, optimality: 2.17e-09, constraint violation: 0.00e+00, execution time: 0.022 s.\n",
            "[2.00040238]\n",
            "x = 2.000402378675703のとき最小値 : 0.0008049192600045885\n"
          ]
        }
      ]
    },
    {
      "cell_type": "markdown",
      "metadata": {
        "id": "SZiAJk7e13R1"
      },
      "source": [
        "### 例題1.3 1変数、線形制約   \n",
        "わかりやすい数理計画法 (森北) P129 例6.3  \n",
        "minimize $f(x) = x^2 -2x$  \n",
        "subject to  \n",
        "$g_1(x) = -x - 1 \\leq 0$  \n",
        "$g_2(x) = x \\leq 0$  \n",
        "\n",
        "$-1 \\leq x \\leq 0$   \n",
        "$x = 0$のとき、最小値0"
      ]
    },
    {
      "cell_type": "code",
      "metadata": {
        "id": "j3XTm9rr3BTM"
      },
      "source": [
        "#線形制約\n",
        "A = np.array([1])\n",
        "lb = np.array([-1])\n",
        "ub = np.array([0])\n",
        "linear_constraint = LinearConstraint(A, lb, ub)"
      ],
      "execution_count": 410,
      "outputs": []
    },
    {
      "cell_type": "code",
      "metadata": {
        "colab": {
          "base_uri": "https://localhost:8080/"
        },
        "id": "vEa4iLEr3FFZ",
        "outputId": "7307a4a9-f899-4a15-de1a-c11ad26737c1"
      },
      "source": [
        "x0 = np.array([0.5])\n",
        "res = minimize(f1_1, x0, method='trust-constr', jac=\"2-point\", hess=BFGS(),\n",
        "               constraints=[linear_constraint],\n",
        "               options={'verbose': 2})\n",
        "print(res.x)\n",
        "print('x = {0}のとき最小値 : {1}'.format(res.x[0],f1_1(res.x[0])))"
      ],
      "execution_count": 411,
      "outputs": [
        {
          "output_type": "stream",
          "name": "stdout",
          "text": [
            "| niter |f evals|CG iter|  obj func   |tr radius |   opt    |  c viol  |\n",
            "|-------|-------|-------|-------------|----------|----------|----------|\n",
            "|   1   |   2   |   0   | -7.5000e-01 | 1.00e+00 | 4.30e-01 | 5.00e-01 |\n",
            "|   2   |   4   |   1   | -8.6962e-01 | 7.00e+00 | 1.53e-03 | 6.39e-01 |\n",
            "|   3   |   6   |   2   | +1.9058e-01 | 8.93e+00 | 1.10e-02 | 0.00e+00 |\n",
            "|   4   |   8   |   3   | +9.6146e-02 | 8.93e+00 | 1.53e-04 | 0.00e+00 |\n",
            "|   5   |   8   |   3   | +9.6146e-02 | 4.47e+01 | 3.71e-03 | 0.00e+00 |\n",
            "|   6   |  10   |   4   | +2.1997e-02 | 4.47e+01 | 2.56e-05 | 0.00e+00 |\n",
            "|   7   |  10   |   4   | +2.1997e-02 | 2.23e+02 | 1.99e-04 | 0.00e+00 |\n",
            "|   8   |  12   |   5   | +4.1415e-03 | 2.23e+02 | 3.19e-07 | 0.00e+00 |\n",
            "|   9   |  12   |   5   | +4.1415e-03 | 1.12e+03 | 6.92e-06 | 0.00e+00 |\n",
            "|  10   |  14   |   6   | +8.0505e-04 | 1.12e+03 | 2.23e-09 | 0.00e+00 |\n",
            "\n",
            "`gtol` termination condition is satisfied.\n",
            "Number of iterations: 10, function evaluations: 14, CG iterations: 6, optimality: 2.23e-09, constraint violation: 0.00e+00, execution time: 0.032 s.\n",
            "[-0.00040244]\n",
            "x = -0.00040244268091493363のとき最小値 : 0.0008050473219412893\n"
          ]
        }
      ]
    },
    {
      "cell_type": "markdown",
      "metadata": {
        "id": "gJwgjDTx5pJZ"
      },
      "source": [
        "### 例題1.4 多変数、線形制約\n",
        "わかりやすい数理計画法 (森北) P133 例6.4  \n",
        "minimize $f(x_1, x_2) = 3x_1^2 - 18x_1 + 2x_2^2 - 8x_2$  \n",
        "subject to  \n",
        "$g_1(x) = 3x_1 + 12x_2 -48 \\leq 0$  \n",
        "$g_2(x) = 9x_1 + 6x_2 - 54 \\leq 0$  \n",
        "$g_3(x) = -x_1 \\leq 0$  \n",
        "$g_4(x) = -x_2 \\leq 0$  \n",
        "\n",
        "$x_1 + 4x_2 \\leq 16$  \n",
        "$3x_1 + 2x_2 \\leq 18$  \n",
        "$x_1 \\geq 0$  \n",
        "$x_2 \\geq 0$  \n",
        "\n",
        "制約条件(線形制約)  \n",
        "$  \n",
        "\\left(\n",
        "\\begin{array}{r}\n",
        "-\\infty \\\\\n",
        "-\\infty \\\\\n",
        "0 \\\\\n",
        "0 \\\\\n",
        "\\end{array}\n",
        "\\right)\n",
        "\\leq\n",
        "\\left(\n",
        "\\begin{array}{rr}\n",
        "1 & 4 \\\\\n",
        "3 & 2 \\\\\n",
        "1 & 0 \\\\\n",
        "0 & 1 \\\\\n",
        "\\end{array}\n",
        "\\right)\n",
        "\\left(\n",
        "\\begin{array}{r}\n",
        "x_1 \\\\\n",
        "x_2 \\\\\n",
        "\\end{array}\n",
        "\\right)\n",
        "\\leq \n",
        "\\left(\n",
        "\\begin{array}{r}\n",
        "16 \\\\\n",
        "18 \\\\\n",
        "\\infty \\\\\n",
        "\\infty \\\\\n",
        "\\end{array}\n",
        "\\right)\n",
        "$ \n",
        "   \n",
        "$(x_1, x_2) = (3, 2)$のとき、最小値-35"
      ]
    },
    {
      "cell_type": "code",
      "metadata": {
        "id": "F5bsrBU65noU"
      },
      "source": [
        "#目的関数\n",
        "def f1_4(x):\n",
        "    return 3 * x[0]**2 - 18 * x[0] + 2 * x[1]**2 -8 * x[1]"
      ],
      "execution_count": 412,
      "outputs": []
    },
    {
      "cell_type": "code",
      "metadata": {
        "id": "kf-R8Bki6SjT"
      },
      "source": [
        "#線形制約\n",
        "A = np.array([[1,4],[3,2],[1,0],[0,1]])\n",
        "lb = np.array([-np.inf,-np.inf,0,0])\n",
        "ub = np.array([16,18,np.inf,np.inf])\n",
        "linear_constraint = LinearConstraint(A, lb, ub)"
      ],
      "execution_count": 413,
      "outputs": []
    },
    {
      "cell_type": "code",
      "metadata": {
        "colab": {
          "base_uri": "https://localhost:8080/"
        },
        "id": "ABw6jMyy6evj",
        "outputId": "415b6e56-e8ea-4f08-a921-0d36f5a8d426"
      },
      "source": [
        "x0 = np.array([0.5, 0.5])\n",
        "res = minimize(f1_4, x0, method='trust-constr', jac=\"2-point\", hess=BFGS(),\n",
        "               constraints=[linear_constraint],\n",
        "               options={'verbose': 2})\n",
        "print(res.x)\n",
        "print('x = {0}のとき最小値 : {1}'.format(res.x,f1_4(res.x)))"
      ],
      "execution_count": 414,
      "outputs": [
        {
          "output_type": "stream",
          "name": "stdout",
          "text": [
            "| niter |f evals|CG iter|  obj func   |tr radius |   opt    |  c viol  |\n",
            "|-------|-------|-------|-------------|----------|----------|----------|\n",
            "|   1   |   3   |   0   | -1.1750e+01 | 1.00e+00 | 7.44e+00 | 0.00e+00 |\n",
            "|   2   |   6   |   1   | -2.2224e+01 | 7.00e+00 | 6.08e+00 | 0.00e+00 |\n",
            "|   3   |   9   |   3   | -3.4960e+01 | 2.05e+01 | 1.93e-01 | 0.00e+00 |\n",
            "|   4   |  12   |   5   | -3.4998e+01 | 2.05e+01 | 3.92e-02 | 0.00e+00 |\n",
            "|   5   |  12   |   5   | -3.4998e+01 | 1.02e+02 | 6.20e-02 | 0.00e+00 |\n",
            "|   6   |  15   |   7   | -3.5000e+01 | 1.02e+02 | 9.32e-03 | 0.00e+00 |\n",
            "|   7   |  15   |   7   | -3.5000e+01 | 5.12e+02 | 1.07e-02 | 0.00e+00 |\n",
            "|   8   |  18   |   9   | -3.5000e+01 | 5.12e+02 | 8.21e-04 | 0.00e+00 |\n",
            "|   9   |  18   |   9   | -3.5000e+01 | 2.56e+03 | 1.19e-03 | 0.00e+00 |\n",
            "|  10   |  21   |  10   | -3.5000e+01 | 2.56e+03 | 4.13e-04 | 0.00e+00 |\n",
            "|  11   |  21   |  10   | -3.5000e+01 | 1.28e+04 | 5.60e-04 | 0.00e+00 |\n",
            "|  12   |  24   |  12   | -3.5000e+01 | 1.28e+04 | 8.50e-05 | 0.00e+00 |\n",
            "|  13   |  24   |  12   | -3.5000e+01 | 6.40e+04 | 1.15e-04 | 0.00e+00 |\n",
            "|  14   |  27   |  14   | -3.5000e+01 | 6.40e+04 | 2.58e-07 | 0.00e+00 |\n",
            "|  15   |  27   |  14   | -3.5000e+01 | 3.20e+05 | 7.43e-06 | 0.00e+00 |\n",
            "|  16   |  30   |  16   | -3.5000e+01 | 3.20e+05 | 2.88e-07 | 0.00e+00 |\n",
            "|  17   |  30   |  16   | -3.5000e+01 | 1.60e+06 | 1.81e-06 | 0.00e+00 |\n",
            "|  18   |  33   |  17   | -3.5000e+01 | 1.60e+06 | 6.79e-07 | 0.00e+00 |\n",
            "|  19   |  33   |  17   | -3.5000e+01 | 8.01e+06 | 5.81e-07 | 0.00e+00 |\n",
            "|  20   |  36   |  19   | -3.5000e+01 | 8.01e+06 | 9.14e-08 | 0.00e+00 |\n",
            "|  21   |  36   |  19   | -3.5000e+01 | 4.00e+07 | 1.07e-07 | 0.00e+00 |\n",
            "|  22   |  42   |  21   | -3.5000e+01 | 4.00e+06 | 1.07e-07 | 0.00e+00 |\n",
            "|  23   |  45   |  23   | -3.5000e+01 | 4.00e+06 | 1.38e-07 | 0.00e+00 |\n",
            "|  24   |  48   |  24   | -3.5000e+01 | 4.00e+05 | 1.38e-07 | 0.00e+00 |\n",
            "|  25   |  54   |  25   | -3.5000e+01 | 4.00e+04 | 1.38e-07 | 0.00e+00 |\n",
            "|  26   |  60   |  26   | -3.5000e+01 | 4.00e+03 | 1.38e-07 | 0.00e+00 |\n",
            "|  27   |  66   |  27   | -3.5000e+01 | 4.00e+02 | 1.38e-07 | 0.00e+00 |\n",
            "|  28   |  72   |  28   | -3.5000e+01 | 4.00e+01 | 1.38e-07 | 0.00e+00 |\n",
            "|  29   |  78   |  29   | -3.5000e+01 | 4.00e+00 | 1.38e-07 | 0.00e+00 |\n",
            "|  30   |  84   |  30   | -3.5000e+01 | 4.00e-01 | 1.38e-07 | 0.00e+00 |\n",
            "|  31   |  90   |  31   | -3.5000e+01 | 4.00e-02 | 1.38e-07 | 0.00e+00 |\n",
            "|  32   |  96   |  32   | -3.5000e+01 | 4.00e-03 | 1.38e-07 | 0.00e+00 |\n",
            "|  33   |  102  |  33   | -3.5000e+01 | 4.00e-04 | 1.38e-07 | 0.00e+00 |\n",
            "|  34   |  108  |  34   | -3.5000e+01 | 4.00e-05 | 1.38e-07 | 0.00e+00 |\n",
            "|  35   |  114  |  35   | -3.5000e+01 | 4.00e-06 | 1.38e-07 | 0.00e+00 |\n",
            "|  36   |  120  |  36   | -3.5000e+01 | 4.00e-07 | 1.38e-07 | 0.00e+00 |\n",
            "|  37   |  126  |  37   | -3.5000e+01 | 6.06e-08 | 1.38e-07 | 0.00e+00 |\n",
            "|  38   |  129  |  38   | -3.5000e+01 | 3.03e-08 | 1.38e-07 | 0.00e+00 |\n",
            "|  39   |  135  |  39   | -3.5000e+01 | 1.51e-08 | 1.38e-07 | 0.00e+00 |\n",
            "|  40   |  138  |  40   | -3.5000e+01 | 7.57e-09 | 1.38e-07 | 0.00e+00 |\n",
            "|  41   |  141  |  40   | -3.5000e+01 | 1.00e+00 | 1.26e-07 | 0.00e+00 |\n",
            "|  42   |  147  |  41   | -3.5000e+01 | 1.00e-01 | 1.26e-07 | 0.00e+00 |\n",
            "|  43   |  150  |  42   | -3.5000e+01 | 1.00e-02 | 1.26e-07 | 0.00e+00 |\n",
            "|  44   |  150  |  43   | -3.5000e+01 | 1.00e-03 | 1.26e-07 | 0.00e+00 |\n",
            "|  45   |  150  |  44   | -3.5000e+01 | 1.00e-04 | 1.26e-07 | 0.00e+00 |\n",
            "|  46   |  150  |  45   | -3.5000e+01 | 1.00e-05 | 1.26e-07 | 0.00e+00 |\n",
            "|  47   |  150  |  46   | -3.5000e+01 | 1.00e-06 | 1.26e-07 | 0.00e+00 |\n",
            "|  48   |  150  |  47   | -3.5000e+01 | 1.00e-07 | 1.26e-07 | 0.00e+00 |\n",
            "|  49   |  150  |  48   | -3.5000e+01 | 3.15e-08 | 1.26e-07 | 0.00e+00 |\n",
            "|  50   |  153  |  49   | -3.5000e+01 | 1.57e-08 | 1.26e-07 | 0.00e+00 |\n",
            "|  51   |  159  |  50   | -3.5000e+01 | 7.87e-09 | 1.26e-07 | 0.00e+00 |\n",
            "|  52   |  162  |  50   | -3.5000e+01 | 1.00e+00 | 1.23e-07 | 0.00e+00 |\n",
            "|  53   |  165  |  51   | -3.5000e+01 | 1.00e-01 | 1.23e-07 | 0.00e+00 |\n",
            "|  54   |  165  |  52   | -3.5000e+01 | 1.00e-02 | 1.23e-07 | 0.00e+00 |\n",
            "|  55   |  165  |  53   | -3.5000e+01 | 1.00e-03 | 1.23e-07 | 0.00e+00 |\n",
            "|  56   |  165  |  54   | -3.5000e+01 | 1.00e-04 | 1.23e-07 | 0.00e+00 |\n",
            "|  57   |  165  |  55   | -3.5000e+01 | 1.00e-05 | 1.23e-07 | 0.00e+00 |\n",
            "|  58   |  165  |  56   | -3.5000e+01 | 1.00e-06 | 1.23e-07 | 0.00e+00 |\n",
            "|  59   |  165  |  57   | -3.5000e+01 | 1.00e-07 | 1.23e-07 | 0.00e+00 |\n",
            "|  60   |  165  |  58   | -3.5000e+01 | 1.00e-08 | 1.23e-07 | 0.00e+00 |\n",
            "|  61   |  168  |  59   | -3.5000e+01 | 1.52e-09 | 1.23e-07 | 0.00e+00 |\n",
            "\n",
            "`xtol` termination condition is satisfied.\n",
            "Number of iterations: 61, function evaluations: 168, CG iterations: 59, optimality: 1.23e-07, constraint violation: 0.00e+00, execution time: 0.19 s.\n",
            "[2.99999998 2.00000003]\n",
            "x = [2.99999998 2.00000003]のとき最小値 : -35.0\n"
          ]
        },
        {
          "output_type": "stream",
          "name": "stderr",
          "text": [
            "/usr/local/lib/python3.7/dist-packages/scipy/optimize/_hessian_update_strategy.py:187: UserWarning: delta_grad == 0.0. Check if the approximated function is linear. If the function is linear better results can be obtained by defining the Hessian as zero instead of using quasi-Newton approximations.\n",
            "  'approximations.', UserWarning)\n"
          ]
        }
      ]
    },
    {
      "cell_type": "markdown",
      "metadata": {
        "id": "d2EpOWaS8Hkh"
      },
      "source": [
        "### 例題1.5 多変数、線形制約\n",
        "わかりやすい数理計画法 (森北) P133 例6.5  \n",
        "minimize $f(x_1, x_2) = 3x_1^2 - 18x_1 + 2x_2^2 - 8x_2$  \n",
        "subject to  \n",
        "$g_1(x) = 3x_1 + x_2 -9 \\leq 0$  \n",
        "$g_2(x) = 3x_1 + 5x_2 - 15 \\leq 0$  \n",
        "$g_3(x) = -x_1 \\leq 0$  \n",
        "$g_4(x) = -x_2 \\leq 0$  \n",
        "\n",
        "$3x_1 + x_2 \\leq 9$  \n",
        "$3x_1 + 5x_2 \\leq 15$  \n",
        "$x_1 \\geq 0$  \n",
        "$x_2 \\geq 0$  \n",
        "\n",
        "制約条件(線形制約)  \n",
        "$  \n",
        "\\left(\n",
        "\\begin{array}{r}\n",
        "-\\infty \\\\\n",
        "-\\infty \\\\\n",
        "0 \\\\\n",
        "0 \\\\\n",
        "\\end{array}\n",
        "\\right)\n",
        "\\leq\n",
        "\\left(\n",
        "\\begin{array}{rr}\n",
        "3 & 1 \\\\\n",
        "3 & 5 \\\\\n",
        "1 & 0 \\\\\n",
        "0 & 1 \\\\\n",
        "\\end{array}\n",
        "\\right)\n",
        "\\left(\n",
        "\\begin{array}{r}\n",
        "x_1 \\\\\n",
        "x_2 \\\\\n",
        "\\end{array}\n",
        "\\right)\n",
        "\\leq \n",
        "\\left(\n",
        "\\begin{array}{r}\n",
        "9 \\\\\n",
        "15 \\\\\n",
        "\\infty \\\\\n",
        "\\infty \\\\\n",
        "\\end{array}\n",
        "\\right)\n",
        "$\n",
        "\n",
        "$(x_1, x_2) = (2.5, 1.5)$のとき、最小値-33.75"
      ]
    },
    {
      "cell_type": "code",
      "metadata": {
        "id": "R7SQcRLs8flg"
      },
      "source": [
        "#線形制約\n",
        "A = np.array([[3,1],[3,5],[1,0],[0,1]])\n",
        "lb = np.array([-np.inf,-np.inf,0,0])\n",
        "ub = np.array([9,15,np.inf,np.inf])\n",
        "linear_constraint = LinearConstraint(A, lb, ub)"
      ],
      "execution_count": 415,
      "outputs": []
    },
    {
      "cell_type": "code",
      "metadata": {
        "colab": {
          "base_uri": "https://localhost:8080/"
        },
        "id": "46oGbzyj8sMz",
        "outputId": "ba374761-bf8f-41a0-d244-3de570685f77"
      },
      "source": [
        "x0 = np.array([0.5, 0.5])\n",
        "res = minimize(f1_4, x0, method='trust-constr', jac=\"2-point\", hess=BFGS(),\n",
        "               constraints=[linear_constraint],\n",
        "               options={'verbose': 2})\n",
        "print(res.x)\n",
        "print('x = {0}のとき最小値 : {1}'.format(res.x,f1_4(res.x)))"
      ],
      "execution_count": 416,
      "outputs": [
        {
          "output_type": "stream",
          "name": "stdout",
          "text": [
            "| niter |f evals|CG iter|  obj func   |tr radius |   opt    |  c viol  |\n",
            "|-------|-------|-------|-------------|----------|----------|----------|\n",
            "|   1   |   3   |   0   | -1.1750e+01 | 1.00e+00 | 7.02e+00 | 0.00e+00 |\n",
            "|   2   |   6   |   1   | -2.0859e+01 | 7.00e+00 | 4.70e+00 | 0.00e+00 |\n",
            "|   3   |   9   |   3   | -3.3661e+01 | 1.84e+01 | 1.25e-03 | 0.00e+00 |\n",
            "|   4   |   9   |   3   | -3.3661e+01 | 9.21e+01 | 1.53e-03 | 0.00e+00 |\n",
            "|   5   |  12   |   4   | -3.3702e+01 | 9.21e+01 | 1.13e-04 | 0.00e+00 |\n",
            "|   6   |  12   |   4   | -3.3702e+01 | 4.60e+02 | 2.51e-04 | 0.00e+00 |\n",
            "|   7   |  15   |   5   | -3.3740e+01 | 4.60e+02 | 2.64e-05 | 0.00e+00 |\n",
            "|   8   |  15   |   5   | -3.3740e+01 | 2.30e+03 | 4.71e-05 | 0.00e+00 |\n",
            "|   9   |  18   |   6   | -3.3747e+01 | 2.30e+03 | 1.06e-06 | 0.00e+00 |\n",
            "|  10   |  21   |   7   | -3.3748e+01 | 2.30e+03 | 1.63e-08 | 0.00e+00 |\n",
            "|  11   |  21   |   7   | -3.3748e+01 | 1.15e+04 | 3.10e-07 | 0.00e+00 |\n",
            "|  12   |  24   |   8   | -3.3750e+01 | 1.15e+04 | 2.00e-09 | 0.00e+00 |\n",
            "\n",
            "`gtol` termination condition is satisfied.\n",
            "Number of iterations: 12, function evaluations: 24, CG iterations: 8, optimality: 2.00e-09, constraint violation: 0.00e+00, execution time: 0.026 s.\n",
            "[2.49997212 1.49988133]\n",
            "x = [2.49997212 1.49988133]のとき最小値 : -33.74967898101941\n"
          ]
        }
      ]
    },
    {
      "cell_type": "markdown",
      "metadata": {
        "id": "Lyi0KscDwSZY"
      },
      "source": [
        "### 例題1.6 多変数、非線形制約  \n",
        "非線形制約付きの場合 新版数理計画入門 福島雅夫 朝倉書店 P114 (4.19)  \n",
        "目的関数(最小化) : $f(x_1, x_2) = (x_1 - 1)^2 + (x_2 -2)^2$  \n",
        "制約条件 :   \n",
        "$c_1(x_1, x_2) = x_1^2 + x_2^2 -2 \\leq 0$   \n",
        "$c_2(x_1, x_2) = -x_1 + x_2 \\leq 0$  \n",
        "$c_3(x_1, x_2) = -x_2 \\leq 0$  \n",
        "\n",
        "制約条件(線形制約)  \n",
        "$  \n",
        "\\left(\n",
        "\\begin{array}{r}\n",
        "-\\infty \\\\\n",
        "-\\infty \\\\\n",
        "\\end{array}\n",
        "\\right)\n",
        "\\leq\n",
        "\\left(\n",
        "\\begin{array}{rr}\n",
        "-1 & 1 \\\\\n",
        "0 & -1 \\\\\n",
        "\\end{array}\n",
        "\\right)\n",
        "\\left(\n",
        "\\begin{array}{r}\n",
        "x_1 \\\\\n",
        "x_2 \\\\\n",
        "\\end{array}\n",
        "\\right)\n",
        "\\leq \n",
        "\\left(\n",
        "\\begin{array}{r}\n",
        "0 \\\\\n",
        "0 \\\\\n",
        "\\end{array}\n",
        "\\right)\n",
        "$\n",
        "\n",
        "$(x_1, x_2) = (1, 1)$のとき、最小値0"
      ]
    },
    {
      "cell_type": "code",
      "metadata": {
        "id": "PqM6-C8wxmoY"
      },
      "source": [
        "#目的関数\n",
        "def f1_6(x):\n",
        "    return (x[0] - 1)**2 + (x[0] - x[1])**2"
      ],
      "execution_count": 417,
      "outputs": []
    },
    {
      "cell_type": "code",
      "metadata": {
        "id": "eF8nNL0Axceh"
      },
      "source": [
        "#線形制約\n",
        "A = np.array([[-1,1],[0,-1]])\n",
        "lb = np.array([-np.inf,-np.inf])\n",
        "ub = np.array([0,0])\n",
        "linear_constraint = LinearConstraint(A, lb, ub)"
      ],
      "execution_count": 418,
      "outputs": []
    },
    {
      "cell_type": "code",
      "metadata": {
        "id": "q1iLmNnkxrHy"
      },
      "source": [
        "#非線形制約\n",
        "def cons_f(x):\n",
        "    return x[0]**2 + x[1]**2"
      ],
      "execution_count": 419,
      "outputs": []
    },
    {
      "cell_type": "code",
      "metadata": {
        "id": "HzV2g9kC988n"
      },
      "source": [
        "#非線形制約\n",
        "nonlinear_constraint = NonlinearConstraint(cons_f, -np.inf, 2, jac=\"2-point\", hess=BFGS())"
      ],
      "execution_count": 420,
      "outputs": []
    },
    {
      "cell_type": "code",
      "metadata": {
        "colab": {
          "base_uri": "https://localhost:8080/"
        },
        "id": "tUrKXM2K-E8o",
        "outputId": "882a9e7a-b367-47bb-c30d-397adbb27369"
      },
      "source": [
        "x0 = np.array([0.5, 0])\n",
        "res = minimize(f1_6, x0, method='trust-constr', jac=\"2-point\", hess=BFGS(),\n",
        "               constraints=[linear_constraint, nonlinear_constraint],\n",
        "               options={'verbose': 2})\n",
        "print(res.x)\n",
        "print('x = {0}のとき最小値 : {1}'.format(res.x,f1_6(res.x)))"
      ],
      "execution_count": 421,
      "outputs": [
        {
          "output_type": "stream",
          "name": "stdout",
          "text": [
            "| niter |f evals|CG iter|  obj func   |tr radius |   opt    |  c viol  |\n",
            "|-------|-------|-------|-------------|----------|----------|----------|\n",
            "|   1   |   3   |   0   | +5.0000e-01 | 1.00e+00 | 4.06e-01 | 0.00e+00 |\n",
            "|   2   |   6   |   2   | +1.8856e-01 | 6.14e+00 | 1.75e-01 | 0.00e+00 |\n",
            "|   3   |   9   |   4   | +6.4718e-02 | 6.14e+00 | 1.06e-03 | 0.00e+00 |\n",
            "|   4   |  12   |   5   | +6.7011e-02 | 6.14e+00 | 7.49e-04 | 0.00e+00 |\n",
            "|   5   |  12   |   5   | +6.7011e-02 | 3.07e+01 | 1.66e-02 | 0.00e+00 |\n",
            "|   6   |  15   |   6   | +2.7663e-02 | 3.07e+01 | 3.82e-03 | 0.00e+00 |\n",
            "|   7   |  15   |   6   | +2.7663e-02 | 1.54e+02 | 6.76e-03 | 0.00e+00 |\n",
            "|   8   |  18   |   8   | +8.8081e-03 | 1.54e+02 | 8.60e-04 | 0.00e+00 |\n",
            "|   9   |  21   |  10   | +4.5134e-03 | 1.54e+02 | 9.32e-05 | 0.00e+00 |\n",
            "|  10   |  21   |  10   | +4.5134e-03 | 7.68e+02 | 3.78e-04 | 0.00e+00 |\n",
            "|  11   |  24   |  11   | +1.6144e-03 | 7.68e+02 | 4.23e-05 | 0.00e+00 |\n",
            "|  12   |  27   |  12   | +9.6051e-04 | 7.68e+02 | 1.09e-05 | 0.00e+00 |\n",
            "|  13   |  27   |  12   | +9.6051e-04 | 3.84e+03 | 3.81e-05 | 0.00e+00 |\n",
            "|  14   |  30   |  13   | +3.6373e-04 | 3.84e+03 | 4.57e-06 | 0.00e+00 |\n",
            "|  15   |  33   |  15   | +1.8826e-04 | 3.84e+03 | 4.45e-07 | 0.00e+00 |\n",
            "|  16   |  33   |  15   | +1.8826e-04 | 1.92e+04 | 2.82e-06 | 0.00e+00 |\n",
            "|  17   |  36   |  16   | +6.7516e-05 | 1.92e+04 | 4.77e-07 | 0.00e+00 |\n",
            "|  18   |  39   |  18   | +3.6683e-05 | 1.92e+04 | 4.96e-08 | 0.00e+00 |\n",
            "|  19   |  39   |  18   | +3.6683e-05 | 9.60e+04 | 2.64e-07 | 0.00e+00 |\n",
            "|  20   |  42   |  19   | +1.2963e-05 | 9.60e+04 | 2.92e-08 | 0.00e+00 |\n",
            "|  21   |  45   |  20   | +7.7266e-06 | 9.60e+04 | 7.05e-09 | 0.00e+00 |\n",
            "\n",
            "`gtol` termination condition is satisfied.\n",
            "Number of iterations: 21, function evaluations: 45, CG iterations: 20, optimality: 7.05e-09, constraint violation: 0.00e+00, execution time: 0.068 s.\n",
            "[0.99838816 0.99612352]\n",
            "x = [0.99838816 0.99612352]のとき最小値 : 7.72661003712857e-06\n"
          ]
        }
      ]
    },
    {
      "cell_type": "markdown",
      "metadata": {
        "id": "PfWdTx53UWyd"
      },
      "source": [
        "### 例題1.7 線形制約　　\n",
        "坂和、西崎 数理計画法入門 (森北) P5 例1.3 \n",
        "\n",
        "目的関数(Maximize) : $-x_1^2 -x_2^2 +4x_1 + 11x_2$  \n",
        "Subject to:  \n",
        "$2x_1 + 6x_2 \\leq 27$  \n",
        "$3x_1 + 2x_2 \\leq 16$  \n",
        "$4x_1 + x_2 \\leq 18$  \n",
        "$x_1 \\geq 0, x_2 \\geq 0$\n",
        "\n",
        "線形制約条件\n",
        "$  \n",
        "\\left(\n",
        "\\begin{array}{r}\n",
        "-\\infty \\\\\n",
        "-\\infty \\\\\n",
        "-\\infty \\\\\n",
        "0 \\\\\n",
        "0 \\\\\n",
        "\\end{array}\n",
        "\\right)\n",
        "\\leq\n",
        "\\left(\n",
        "\\begin{array}{rr}\n",
        "2 & 6 \\\\\n",
        "3 & 2 \\\\\n",
        "4 & 1 \\\\\n",
        "1 & 0 \\\\\n",
        "0 & 1 \\\\\n",
        "\\end{array}\n",
        "\\right)\n",
        "\\left(\n",
        "\\begin{array}{r}\n",
        "x_1 \\\\\n",
        "x_2 \\\\\n",
        "\\end{array}\n",
        "\\right)\n",
        "\\leq \n",
        "\\left(\n",
        "\\begin{array}{r}\n",
        "27 \\\\\n",
        "16 \\\\\n",
        "18 \\\\\n",
        "\\infty \\\\\n",
        "\\infty \\\\\n",
        "\\end{array}\n",
        "\\right)\n",
        "$\n",
        "\n",
        "最適解は$(x_1, x_2) = (1.5, 4)$のとき、最大値31.75"
      ]
    },
    {
      "cell_type": "code",
      "metadata": {
        "id": "rdtp2L80W9qy"
      },
      "source": [
        "#目的関数(最大化なので-1をかけている)\n",
        "def f1_7(x):\n",
        "    return -(- x[0]**2 - x[1]**2 + 4 * x[0] + 11 * x[1])"
      ],
      "execution_count": 422,
      "outputs": []
    },
    {
      "cell_type": "code",
      "metadata": {
        "id": "plS1xul6XdgR"
      },
      "source": [
        "#線形制約\n",
        "A = np.array([[2,6],[3,2],[4,1],[1,0],[0,1]])\n",
        "lb = np.array([-np.inf,-np.inf,-np.inf,0,0])\n",
        "ub = np.array([27,16,18,np.inf,np.inf])\n",
        "linear_constraint = LinearConstraint(A, lb, ub)"
      ],
      "execution_count": 423,
      "outputs": []
    },
    {
      "cell_type": "code",
      "metadata": {
        "colab": {
          "base_uri": "https://localhost:8080/"
        },
        "id": "_s8l0h-dXy8w",
        "outputId": "305135c2-7c53-49b4-d635-165d8ca3904e"
      },
      "source": [
        "x0 = np.array([0.5, 0.5])\n",
        "res = minimize(f1_7, x0, method='trust-constr', jac=\"2-point\", hess=BFGS(),\n",
        "               constraints=[linear_constraint],\n",
        "               options={'verbose': 2})\n",
        "print(res.x)\n",
        "print('x = {0}のとき最小値 : {1}'.format(res.x,f1_7(res.x)))"
      ],
      "execution_count": 424,
      "outputs": [
        {
          "output_type": "stream",
          "name": "stdout",
          "text": [
            "| niter |f evals|CG iter|  obj func   |tr radius |   opt    |  c viol  |\n",
            "|-------|-------|-------|-------------|----------|----------|----------|\n",
            "|   1   |   3   |   0   | -7.0000e+00 | 1.00e+00 | 4.91e+00 | 0.00e+00 |\n",
            "|   2   |   6   |   1   | -1.3200e+01 | 7.00e+00 | 4.53e+00 | 0.00e+00 |\n",
            "|   3   |   9   |   3   | -3.1654e+01 | 2.97e+01 | 1.96e-01 | 0.00e+00 |\n",
            "|   4   |  12   |   4   | -3.1700e+01 | 2.97e+01 | 1.84e-03 | 0.00e+00 |\n",
            "|   5   |  12   |   4   | -3.1700e+01 | 1.49e+02 | 1.65e-02 | 0.00e+00 |\n",
            "|   6   |  15   |   6   | -3.1730e+01 | 1.49e+02 | 2.71e-05 | 0.00e+00 |\n",
            "|   7   |  15   |   6   | -3.1730e+01 | 7.44e+02 | 3.87e-03 | 0.00e+00 |\n",
            "|   8   |  18   |   8   | -3.1746e+01 | 7.44e+02 | 3.42e-06 | 0.00e+00 |\n",
            "|   9   |  18   |   8   | -3.1746e+01 | 3.72e+03 | 7.82e-04 | 0.00e+00 |\n",
            "|  10   |  21   |  10   | -3.1749e+01 | 3.72e+03 | 4.97e-08 | 0.00e+00 |\n",
            "|  11   |  21   |  10   | -3.1749e+01 | 1.86e+04 | 1.56e-04 | 0.00e+00 |\n",
            "|  12   |  24   |  12   | -3.1750e+01 | 1.86e+04 | 2.72e-08 | 0.00e+00 |\n",
            "|  13   |  24   |  12   | -3.1750e+01 | 9.29e+04 | 3.13e-05 | 0.00e+00 |\n",
            "|  14   |  27   |  14   | -3.1750e+01 | 9.29e+04 | 7.79e-09 | 0.00e+00 |\n",
            "\n",
            "`gtol` termination condition is satisfied.\n",
            "Number of iterations: 14, function evaluations: 27, CG iterations: 14, optimality: 7.79e-09, constraint violation: 0.00e+00, execution time: 0.038 s.\n",
            "[1.49998894 3.99999302]\n",
            "x = [1.49998894 3.99999302]のとき最小値 : -31.749967997545998\n"
          ]
        }
      ]
    },
    {
      "cell_type": "markdown",
      "metadata": {
        "id": "DTE2B7W7uow_"
      },
      "source": [
        "### **参考 (多変数、線形制約)**\n",
        "  https://qiita.com/shotoyoo/items/83297f959e1922465288  \n",
        "$f(x_1, x_2) = x_1^2 -x_2^2 + x_1 x_2 - x_1 +x_2$  \n",
        "\n",
        "制約条件(線形制約の場合)  \n",
        "$0 \\leq x_1 + x_ 2 \\leq 1$  \n",
        "$0 \\leq x_1 \\leq 1$  \n",
        "$0 \\leq x_2 \\leq 1$  \n",
        "\n",
        "$  \n",
        "\\left(\n",
        "\\begin{array}{r}\n",
        "0 \\\\\n",
        "0 \\\\\n",
        "0 \\\\\n",
        "\\end{array}\n",
        "\\right)\n",
        "\\leq\n",
        "\\left(\n",
        "\\begin{array}{rr}\n",
        "1 & 1 \\\\\n",
        "1 & 0 \\\\\n",
        "0 & 1 \\\\\n",
        "\\end{array}\n",
        "\\right)\n",
        "\\left(\n",
        "\\begin{array}{r}\n",
        "x_1 \\\\\n",
        "x_2 \\\\\n",
        "\\end{array}\n",
        "\\right)\n",
        "\\leq \n",
        "\\left(\n",
        "\\begin{array}{r}\n",
        "1 \\\\\n",
        "1 \\\\\n",
        "1 \\\\\n",
        "\\end{array}\n",
        "\\right)\n",
        "$"
      ]
    },
    {
      "cell_type": "code",
      "metadata": {
        "id": "wXLUgYlftvxg"
      },
      "source": [
        "def f(x):\n",
        "    return x[0]**2 - x[1]**2 + x[0]*x[1] - x[0] + x[1]"
      ],
      "execution_count": 425,
      "outputs": []
    },
    {
      "cell_type": "code",
      "metadata": {
        "id": "wJj4eUv7_GIX"
      },
      "source": [
        "x0 = np.array([0,0], dtype=float)\n",
        "# 制約: 各変数と両者の和が[0,1]という線形制約\n",
        "A = np.array([[1,1],[1,0],[0,1]])\n",
        "lb = np.array([0,0,0])\n",
        "ub = np.array([1,1,1])\n",
        "const = LinearConstraint(A, lb, ub)"
      ],
      "execution_count": 426,
      "outputs": []
    },
    {
      "cell_type": "code",
      "metadata": {
        "colab": {
          "base_uri": "https://localhost:8080/"
        },
        "id": "NISlxnCG_PER",
        "outputId": "a24074ab-3c28-4d03-f99d-4bddad894da5"
      },
      "source": [
        "# 最適化\n",
        "res = minimize(f,                       # 目的関数, \n",
        "                x0,                     # 初期解,\n",
        "                method=\"trust-constr\",  # 制約付き信頼領域法\n",
        "                jac=\"2-point\",          # 勾配関数\n",
        "                hess=BFGS(),            # ヘシアンの推定方法\n",
        "                constraints=const,      # 制約\n",
        "                options={\"maxiter\": 50, # 最大反復数\n",
        "                         \"verbose\":2})  # 最適化の過程を出力\n",
        "print(res[\"x\"])"
      ],
      "execution_count": 427,
      "outputs": [
        {
          "output_type": "stream",
          "name": "stdout",
          "text": [
            "| niter |f evals|CG iter|  obj func   |tr radius |   opt    |  c viol  |\n",
            "|-------|-------|-------|-------------|----------|----------|----------|\n",
            "|   1   |   3   |   0   | +0.0000e+00 | 1.00e+00 | 4.22e-01 | 0.00e+00 |\n",
            "|   2   |   6   |   1   | -4.3704e-01 | 7.00e+00 | 1.45e-01 | 1.26e-01 |\n",
            "|   3   |   9   |   3   | -3.2247e-01 | 7.00e+00 | 2.64e-02 | 5.66e-02 |\n",
            "|   4   |   9   |   3   | -3.2247e-01 | 3.50e+01 | 1.67e-02 | 5.66e-02 |\n",
            "|   5   |  12   |   5   | -2.2604e-01 | 3.84e+01 | 1.03e-02 | 0.00e+00 |\n",
            "|   6   |  15   |   6   | -2.3191e-01 | 3.84e+01 | 3.00e-03 | 0.00e+00 |\n",
            "|   7   |  15   |   6   | -2.3191e-01 | 1.92e+02 | 2.76e-03 | 0.00e+00 |\n",
            "|   8   |  18   |   8   | -2.4576e-01 | 1.92e+02 | 5.57e-05 | 0.00e+00 |\n",
            "|   9   |  18   |   8   | -2.4576e-01 | 9.60e+02 | 5.86e-05 | 0.00e+00 |\n",
            "|  10   |  21   |  10   | -2.4919e-01 | 9.60e+02 | 1.73e-04 | 0.00e+00 |\n",
            "|  11   |  21   |  10   | -2.4919e-01 | 4.80e+03 | 1.72e-04 | 0.00e+00 |\n",
            "|  12   |  24   |  12   | -2.4984e-01 | 4.80e+03 | 8.53e-05 | 0.00e+00 |\n",
            "|  13   |  27   |  13   | -2.4984e-01 | 4.80e+03 | 3.80e-05 | 0.00e+00 |\n",
            "|  14   |  27   |  13   | -2.4984e-01 | 2.40e+04 | 3.79e-05 | 0.00e+00 |\n",
            "|  15   |  30   |  15   | -2.4997e-01 | 2.40e+04 | 1.16e-08 | 0.00e+00 |\n",
            "|  16   |  30   |  15   | -2.4997e-01 | 1.20e+05 | 1.14e-08 | 0.00e+00 |\n",
            "|  17   |  33   |  17   | -2.4999e-01 | 1.20e+05 | 7.01e-07 | 0.00e+00 |\n",
            "|  18   |  33   |  17   | -2.4999e-01 | 6.00e+05 | 7.00e-07 | 0.00e+00 |\n",
            "|  19   |  36   |  19   | -2.5000e-01 | 6.00e+05 | 2.06e-07 | 0.00e+00 |\n",
            "|  20   |  36   |  19   | -2.5000e-01 | 3.00e+06 | 2.06e-07 | 0.00e+00 |\n",
            "|  21   |  39   |  21   | -2.5000e-01 | 3.00e+06 | 8.83e-08 | 0.00e+00 |\n",
            "|  22   |  39   |  21   | -2.5000e-01 | 1.50e+07 | 8.83e-08 | 0.00e+00 |\n",
            "|  23   |  42   |  23   | -2.5000e-01 | 1.50e+07 | 3.76e-08 | 0.00e+00 |\n",
            "|  24   |  45   |  24   | -2.5000e-01 | 1.50e+07 | 4.93e-09 | 0.00e+00 |\n",
            "\n",
            "`gtol` termination condition is satisfied.\n",
            "Number of iterations: 24, function evaluations: 45, CG iterations: 24, optimality: 4.93e-09, constraint violation: 0.00e+00, execution time: 0.089 s.\n",
            "[4.99999933e-01 3.41331925e-08]\n"
          ]
        }
      ]
    },
    {
      "cell_type": "markdown",
      "metadata": {
        "id": "5l6A0baf3O1O"
      },
      "source": [
        "## 定常分布の分散を最小化する\n",
        "2021年 OR学会秋 \n",
        "連続時間型マルコフ連鎖を利用した施設密集度最適化手法の提案  \n",
        "Durrett P165 Example 4.14 (Duke Basketball)"
      ]
    },
    {
      "cell_type": "markdown",
      "metadata": {
        "id": "FgOJgy3pSu8F"
      },
      "source": [
        "\\begin{eqnarray} \n",
        "  minimize && \\sigma(a) = \\frac{1}{|S|}\\sum_{i \\in S}(\\pi_i(a) - \\bar{\\pi}_i)^2 \\\\ \n",
        "  subject \\ to && a_i \\geq 0, a_i \\in \\mathbb{R}, i \\in S \\nonumber \\\\\n",
        "  && \\sum_{i \\in S}\\frac{1}{a_i} = K, K \\in \\mathbb{R} \\nonumber \\\\\n",
        "  && a'(1-\\gamma) \\leq a \\leq a' (1 + \\gamma), \\gamma \\in \\mathbb{R} \\nonumber\n",
        "\\end{eqnarray}"
      ]
    },
    {
      "cell_type": "code",
      "metadata": {
        "id": "_5axz5Ym97mY"
      },
      "source": [
        "import numpy as np\n",
        "from numpy.linalg import solve\n",
        "import pandas as pd"
      ],
      "execution_count": 428,
      "outputs": []
    },
    {
      "cell_type": "code",
      "metadata": {
        "colab": {
          "base_uri": "https://localhost:8080/"
        },
        "id": "xK5AzNa284qU",
        "outputId": "c249282a-bfec-42f6-87f0-e918a0aaeae4"
      },
      "source": [
        "#推移確率行列、サービス率の設定\n",
        "mu = np.array([4.0, 15/2, 3.0, 10.0])\n",
        "T = sum(1 / mu) #平均滞在時間の和 (等式制約で利用)\n",
        "print(T)\n",
        "gamma = 0.25 #最適化でのmuの動く率\n",
        "p = p = np.array([[0.0, 0.7, 0.3, 0.0],[0.0, 0.0, 1.0, 0.0],[1/3, 0.0, 0.0, 2/3], [1.0, 0.0, 0.0, 0.0]])\n",
        "p"
      ],
      "execution_count": 429,
      "outputs": [
        {
          "output_type": "stream",
          "name": "stdout",
          "text": [
            "0.8166666666666665\n"
          ]
        },
        {
          "output_type": "execute_result",
          "data": {
            "text/plain": [
              "array([[0.        , 0.7       , 0.3       , 0.        ],\n",
              "       [0.        , 0.        , 1.        , 0.        ],\n",
              "       [0.33333333, 0.        , 0.        , 0.66666667],\n",
              "       [1.        , 0.        , 0.        , 0.        ]])"
            ]
          },
          "metadata": {},
          "execution_count": 429
        }
      ]
    },
    {
      "cell_type": "code",
      "metadata": {
        "id": "MBUVr1bu9T2D"
      },
      "source": [
        "#推移率行列を作成する関数\n",
        "def getTransitionRate(p, mu):\n",
        "    q = p.copy()\n",
        "    #推移率行列を求める\n",
        "    #(1)サービス率と推移確率との積をとる\n",
        "    for i in range(len(q)):\n",
        "        q[i] *= mu[i]\n",
        "    #(2)対角要素に行和のマイナス値を入れる\n",
        "    for i in range(len(q)):\n",
        "        q[i][i] = np.sum(q[i]) * (-1)\n",
        "    return q"
      ],
      "execution_count": 430,
      "outputs": []
    },
    {
      "cell_type": "code",
      "metadata": {
        "id": "rU1nil7aBr-9"
      },
      "source": [
        "#推移率行列を作成\n",
        "#q = getTransitionRate(p, mu)\n",
        "#q"
      ],
      "execution_count": 431,
      "outputs": []
    },
    {
      "cell_type": "code",
      "metadata": {
        "id": "H_kViwAHByFE"
      },
      "source": [
        "#推移確率行列から定常分布を求める関数\n",
        "def getStationary_solve(q):#numpy.solveを使う場合\n",
        "    #定常分布を求める\n",
        "    q1 = q.copy()\n",
        "    #(3)最終列に1を代入\n",
        "    right = [0 for i in range(len(q))]\n",
        "    right[-1] = 1 #最後の要素のみ1にする\n",
        "    q1[:,-1] = 1 #最終列を1にする\n",
        "    #(4)連立方程式を解く πP=0 => P^tπ=0\n",
        "    pi = solve(q1.T, right)\n",
        "    return pi"
      ],
      "execution_count": 432,
      "outputs": []
    },
    {
      "cell_type": "code",
      "metadata": {
        "id": "tlaUvkQ5CpQ4"
      },
      "source": [
        "#推移確率から定常分布を求める\n",
        "#pi = getStationary_solve(q)\n",
        "#pi"
      ],
      "execution_count": 433,
      "outputs": []
    },
    {
      "cell_type": "code",
      "metadata": {
        "id": "cTlz1HsJC-DH"
      },
      "source": [
        "#目的関数\n",
        "def getObjective(pi):\n",
        "  return np.var(pi)"
      ],
      "execution_count": 434,
      "outputs": []
    },
    {
      "cell_type": "code",
      "metadata": {
        "id": "ZgKFGk8BE900"
      },
      "source": [
        "#目的間数値を求める\n",
        "#getObjective(pi)"
      ],
      "execution_count": 435,
      "outputs": []
    },
    {
      "cell_type": "code",
      "metadata": {
        "id": "GA4VtzYOWgLK"
      },
      "source": [
        "def getConstraint(mu):\n",
        "  Ts = [1/i for i in mu]#平均時間に変換\n",
        "  return T - np.sum(Ts)"
      ],
      "execution_count": 436,
      "outputs": []
    },
    {
      "cell_type": "code",
      "metadata": {
        "id": "AkeOzGOkFD0Q"
      },
      "source": [
        "#等式制約\n",
        "cons = ({'type':'eq','fun':getConstraint})\n",
        "#bounds\n",
        "lb = mu * (1 - gamma)\n",
        "ub = mu * (1 + gamma)\n",
        "#bounds = [(3,5), (5.625,9.375), (2.25,3.75), (7.5, 12.5)]\n",
        "#Boundsクラスを利用して、bounds=Bounds(lb, ub),とする"
      ],
      "execution_count": 437,
      "outputs": []
    },
    {
      "cell_type": "code",
      "metadata": {
        "id": "4M79DygpXbFm"
      },
      "source": [
        "#目的関数 (サービス率を変更して、再度定常分布を求め、目的関数を求める)\n",
        "def getOptimize(mu):\n",
        "  #(1)推移確率行列を求める\n",
        "  q = getTransitionRate(p, mu)\n",
        "  #(2)定常分布を求める\n",
        "  pi = getStationary_solve(q)\n",
        "  #(3)目的間数値を求める\n",
        "  return getObjective(pi)"
      ],
      "execution_count": 438,
      "outputs": []
    },
    {
      "cell_type": "code",
      "metadata": {
        "colab": {
          "base_uri": "https://localhost:8080/"
        },
        "id": "IevjK_UOZSa3",
        "outputId": "03e3da55-714f-470a-f2a5-517c5858b2c4"
      },
      "source": [
        "# 最適化\n",
        "res = minimize(getOptimize,                       # 目的関数, \n",
        "                mu,                     # 初期解,\n",
        "                method=\"trust-constr\",  # 制約付き信頼領域法\n",
        "                jac=\"2-point\",          # 勾配関数\n",
        "                hess=BFGS(),            # ヘシアンの推定方法\n",
        "                constraints=cons,      # 制約\n",
        "                bounds=Bounds(lb, ub),\n",
        "                options={\"maxiter\": 50, # 最大反復数\n",
        "                         \"verbose\":2})  # 最適化の過程を出力\n",
        "print(res[\"x\"])\n",
        "#最終結果\n",
        "q = getTransitionRate(p, res['x'])\n",
        "pi = getStationary_solve(q)\n",
        "val = getObjective(pi)\n",
        "print('定常分布pi = {0}'.format(pi))\n",
        "print('目的間数値(最終) : {0}'.format(val))"
      ],
      "execution_count": 439,
      "outputs": [
        {
          "output_type": "stream",
          "name": "stdout",
          "text": [
            "| niter |f evals|CG iter|  obj func   |tr radius |   opt    |  c viol  |\n",
            "|-------|-------|-------|-------------|----------|----------|----------|\n",
            "|   1   |   5   |   0   | +2.2003e-02 | 1.00e+00 | 2.05e-03 | 0.00e+00 |\n",
            "|   2   |  10   |   1   | +2.1992e-02 | 5.60e+00 | 1.62e-03 | 5.00e-08 |\n",
            "|   3   |  15   |   3   | +2.1754e-02 | 5.60e+00 | 2.12e-04 | 1.57e-05 |\n",
            "|   4   |  15   |   3   | +2.1754e-02 | 2.80e+01 | 1.24e-03 | 1.57e-05 |\n",
            "|   5   |  15   |   3   | +2.1754e-02 | 1.40e+02 | 1.52e-03 | 1.57e-05 |\n",
            "|   6   |  15   |   3   | +2.1754e-02 | 7.00e+02 | 1.57e-03 | 1.57e-05 |\n",
            "|   7   |  25   |   5   | +1.7846e-02 | 7.00e+02 | 9.95e-04 | 3.06e-04 |\n",
            "|   8   |  30   |   6   | +1.5899e-02 | 7.00e+02 | 7.47e-04 | 1.26e-03 |\n",
            "|   9   |  35   |   8   | +1.4438e-02 | 7.00e+02 | 5.98e-04 | 7.52e-04 |\n",
            "|  10   |  35   |   8   | +1.4438e-02 | 3.50e+03 | 7.97e-04 | 7.52e-04 |\n",
            "|  11   |  40   |  10   | +1.2709e-02 | 3.50e+03 | 5.52e-04 | 1.15e-03 |\n",
            "|  12   |  45   |  11   | +1.2218e-02 | 3.50e+03 | 3.17e-04 | 2.00e-04 |\n",
            "|  13   |  50   |  12   | +1.1827e-02 | 3.50e+03 | 1.29e-04 | 1.23e-04 |\n",
            "|  14   |  55   |  13   | +1.1540e-02 | 3.50e+03 | 3.41e-05 | 5.94e-05 |\n",
            "|  15   |  60   |  14   | +1.1372e-02 | 3.50e+03 | 6.78e-06 | 1.56e-05 |\n",
            "|  16   |  60   |  14   | +1.1372e-02 | 1.75e+04 | 2.18e-05 | 1.56e-05 |\n",
            "|  17   |  65   |  16   | +1.0985e-02 | 1.75e+04 | 3.11e-06 | 6.04e-05 |\n",
            "|  18   |  70   |  17   | +1.0937e-02 | 1.75e+04 | 2.51e-07 | 1.48e-05 |\n",
            "|  19   |  70   |  17   | +1.0937e-02 | 8.75e+04 | 7.69e-07 | 1.48e-05 |\n",
            "|  20   |  75   |  18   | +1.0846e-02 | 8.75e+04 | 2.34e-08 | 9.47e-06 |\n",
            "|  21   |  80   |  19   | +1.0838e-02 | 8.75e+04 | 2.29e-09 | 7.92e-08 |\n",
            "|  22   |  80   |  19   | +1.0838e-02 | 4.38e+05 | 2.07e-08 | 7.92e-08 |\n",
            "|  23   |  85   |  20   | +1.0824e-02 | 4.38e+05 | 4.28e-10 | 1.36e-07 |\n",
            "|  24   |  85   |  20   | +1.0824e-02 | 2.19e+06 | 1.24e-09 | 1.36e-07 |\n",
            "|  25   |  90   |  21   | +1.0821e-02 | 2.19e+06 | 7.37e-11 | 2.03e-08 |\n",
            "|  26   |  95   |  23   | +1.0820e-02 | 2.19e+06 | 1.63e-12 | 3.91e-10 |\n",
            "\n",
            "`gtol` termination condition is satisfied.\n",
            "Number of iterations: 26, function evaluations: 95, CG iterations: 23, optimality: 1.63e-12, constraint violation: 3.91e-10, execution time:  0.1 s.\n",
            "[4.1861203  5.62508772 3.74986762 7.50013673]\n",
            "定常分布pi = [0.33229632 0.17310355 0.37095506 0.12364507]\n",
            "目的間数値(最終) : 0.010820360959842002\n"
          ]
        }
      ]
    },
    {
      "cell_type": "markdown",
      "metadata": {
        "id": "VWlMnDTpDyfb"
      },
      "source": [
        "## 浜名湖ガーデンパークの滞在率を最適化して混雑を改善する\n",
        "33拠点, クラス1, 網内人数500人 で実施する"
      ]
    },
    {
      "cell_type": "code",
      "metadata": {
        "id": "0NmaUk4vaYhe"
      },
      "source": [
        "#推移確率行列、サービス率の設定\n",
        "N = 33\n",
        "mu = np.ones(N)\n",
        "T = sum(1 / mu) #平均滞在時間の和 (等式制約で利用)\n",
        "gamma = 0.25 #最適化でのmuの動く率"
      ],
      "execution_count": 440,
      "outputs": []
    },
    {
      "cell_type": "code",
      "metadata": {
        "colab": {
          "base_uri": "https://localhost:8080/"
        },
        "id": "WeHF_f77coIE",
        "outputId": "b3dabec2-703c-453d-9baf-0ab9f936016c"
      },
      "source": [
        "from google.colab import drive\n",
        "drive.mount('/content/drive', force_remount=True)"
      ],
      "execution_count": 441,
      "outputs": [
        {
          "output_type": "stream",
          "name": "stdout",
          "text": [
            "Mounted at /content/drive\n"
          ]
        }
      ]
    },
    {
      "cell_type": "code",
      "metadata": {
        "id": "oXPDvqXhEnLY"
      },
      "source": [
        "import pandas as pd\n",
        "import matplotlib.pyplot as plt"
      ],
      "execution_count": 442,
      "outputs": []
    },
    {
      "cell_type": "code",
      "metadata": {
        "colab": {
          "base_uri": "https://localhost:8080/"
        },
        "id": "5ekhs1bmdJ0I",
        "outputId": "88a84371-c280-4e8c-b331-d748bb668a19"
      },
      "source": [
        "p = pd.read_csv('/content/drive/MyDrive/研究/BCMP/csv/transition33.csv')\n",
        "p = p.iloc[:N, :N] #今回は最初のクラスのみ利用\n",
        "p = np.array(p)\n",
        "p"
      ],
      "execution_count": 443,
      "outputs": [
        {
          "output_type": "execute_result",
          "data": {
            "text/plain": [
              "array([[0.   , 0.047, 0.046, ..., 0.035, 0.038, 0.018],\n",
              "       [0.042, 0.   , 0.05 , ..., 0.033, 0.037, 0.017],\n",
              "       [0.037, 0.045, 0.   , ..., 0.031, 0.034, 0.015],\n",
              "       ...,\n",
              "       [0.016, 0.017, 0.017, ..., 0.   , 0.084, 0.06 ],\n",
              "       [0.016, 0.017, 0.017, ..., 0.076, 0.   , 0.037],\n",
              "       [0.016, 0.017, 0.017, ..., 0.119, 0.081, 0.   ]])"
            ]
          },
          "metadata": {},
          "execution_count": 443
        }
      ]
    },
    {
      "cell_type": "code",
      "metadata": {
        "colab": {
          "base_uri": "https://localhost:8080/"
        },
        "id": "5QVh6n_IdctV",
        "outputId": "cdf64fc6-355b-4e08-ab2f-fe6f79b9d21e"
      },
      "source": [
        "#推移率行列を作成\n",
        "q = getTransitionRate(p, mu)\n",
        "q"
      ],
      "execution_count": 444,
      "outputs": [
        {
          "output_type": "execute_result",
          "data": {
            "text/plain": [
              "array([[-1.001,  0.047,  0.046, ...,  0.035,  0.038,  0.018],\n",
              "       [ 0.042, -0.999,  0.05 , ...,  0.033,  0.037,  0.017],\n",
              "       [ 0.037,  0.045, -1.003, ...,  0.031,  0.034,  0.015],\n",
              "       ...,\n",
              "       [ 0.016,  0.017,  0.017, ..., -0.996,  0.084,  0.06 ],\n",
              "       [ 0.016,  0.017,  0.017, ...,  0.076, -1.001,  0.037],\n",
              "       [ 0.016,  0.017,  0.017, ...,  0.119,  0.081, -1.001]])"
            ]
          },
          "metadata": {},
          "execution_count": 444
        }
      ]
    },
    {
      "cell_type": "code",
      "metadata": {
        "colab": {
          "base_uri": "https://localhost:8080/"
        },
        "id": "6L_y54PUgLAj",
        "outputId": "27aaea32-6af8-4bdc-ccb1-c4cab6cb27e2"
      },
      "source": [
        "#推移確率から定常分布を求める\n",
        "pi = getStationary_solve(q)\n",
        "print(pi)\n",
        "np.sum(pi)"
      ],
      "execution_count": 445,
      "outputs": [
        {
          "output_type": "stream",
          "name": "stdout",
          "text": [
            "[0.01933797 0.0215444  0.02380094 0.02448347 0.02502658 0.02648525\n",
            " 0.02766109 0.05184957 0.02679539 0.02739965 0.02901152 0.02832282\n",
            " 0.02722483 0.05467196 0.0287907  0.02842202 0.02910552 0.02679775\n",
            " 0.0556468  0.02931604 0.02692018 0.02940556 0.02556521 0.02300526\n",
            " 0.05023485 0.02653398 0.0259687  0.02366611 0.02326739 0.02390243\n",
            " 0.0420844  0.04656493 0.02118675]\n"
          ]
        },
        {
          "output_type": "execute_result",
          "data": {
            "text/plain": [
              "0.9999999999999998"
            ]
          },
          "metadata": {},
          "execution_count": 445
        }
      ]
    },
    {
      "cell_type": "code",
      "metadata": {
        "colab": {
          "base_uri": "https://localhost:8080/",
          "height": 638
        },
        "id": "2ZjIiyrxoPXd",
        "outputId": "acbf9e2c-e48c-4f34-c65e-681bfc6af838"
      },
      "source": [
        "#初期状態での定常分布\n",
        "x_label = [i for i in range(N)]\n",
        "plt.figure(figsize=(10,10))\n",
        "plt.title('Stationary Distribution using initial values')\n",
        "plt.xlabel('Node Number')\n",
        "plt.ylabel('Probability')\n",
        "plt.bar(x_label, pi)"
      ],
      "execution_count": 446,
      "outputs": [
        {
          "output_type": "execute_result",
          "data": {
            "text/plain": [
              "<BarContainer object of 33 artists>"
            ]
          },
          "metadata": {},
          "execution_count": 446
        },
        {
          "output_type": "display_data",
          "data": {
            "image/png": "[encoded data removed]",
            "text/plain": [
              "<Figure size 720x720 with 1 Axes>"
            ]
          },
          "metadata": {
            "needs_background": "light"
          }
        }
      ]
    },
    {
      "cell_type": "code",
      "metadata": {
        "colab": {
          "base_uri": "https://localhost:8080/"
        },
        "id": "ZZL9CwTXgm2q",
        "outputId": "6d17448d-0244-4f67-dd36-9e6e3462750f"
      },
      "source": [
        "#目的間数値を求める\n",
        "getObjective(pi)"
      ],
      "execution_count": 447,
      "outputs": [
        {
          "output_type": "execute_result",
          "data": {
            "text/plain": [
              "9.752442244352513e-05"
            ]
          },
          "metadata": {},
          "execution_count": 447
        }
      ]
    },
    {
      "cell_type": "code",
      "metadata": {
        "id": "aD8R86_liYvk"
      },
      "source": [
        "#等式制約\n",
        "cons = ({'type':'eq','fun':getConstraint})\n",
        "#bounds\n",
        "lb = mu * (1 - gamma)\n",
        "ub = mu * (1 + gamma)\n",
        "#bounds = [(3,5), (5.625,9.375), (2.25,3.75), (7.5, 12.5)]\n",
        "#Boundsクラスを利用して、bounds=Bounds(lb, ub),とする"
      ],
      "execution_count": 448,
      "outputs": []
    },
    {
      "cell_type": "code",
      "metadata": {
        "colab": {
          "base_uri": "https://localhost:8080/"
        },
        "id": "6FPrN6IVg2Kp",
        "outputId": "d1f8a029-c2ce-425a-ae86-77225a96c02a"
      },
      "source": [
        "# 最適化\n",
        "res = minimize(getOptimize,             # 目的関数, \n",
        "                mu,                     # 初期解,\n",
        "                method=\"trust-constr\",  # 制約付き信頼領域法\n",
        "                jac=\"2-point\",          # 勾配関数\n",
        "                hess=BFGS(),            # ヘシアンの推定方法\n",
        "                constraints=cons,      # 制約\n",
        "                bounds=Bounds(lb, ub),\n",
        "                options={\"maxiter\": 50, # 最大反復数\n",
        "                         \"verbose\":2})  # 最適化の過程を出力\n",
        "print('説明変数μ = {0}'.format(res[\"x\"]))\n",
        "#最終結果\n",
        "q = getTransitionRate(p, res['x'])\n",
        "pi = getStationary_solve(q)\n",
        "val = getObjective(pi)\n",
        "print('定常分布pi = {0}'.format(pi))\n",
        "print('目的間数値(最終) : {0}'.format(val))"
      ],
      "execution_count": 449,
      "outputs": [
        {
          "output_type": "stream",
          "name": "stdout",
          "text": [
            "| niter |f evals|CG iter|  obj func   |tr radius |   opt    |  c viol  |\n",
            "|-------|-------|-------|-------------|----------|----------|----------|\n",
            "|   1   |  34   |   0   | +9.7524e-05 | 1.00e+00 | 2.49e-05 | 0.00e+00 |\n",
            "|   2   |  68   |   1   | +9.7515e-05 | 5.60e+00 | 1.93e-05 | 3.97e-09 |\n",
            "|   3   |  102  |   2   | +9.7473e-05 | 8.08e+00 | 8.98e-06 | 8.31e-08 |\n",
            "|   4   |  136  |   3   | +9.7536e-05 | 8.08e+00 | 6.19e-06 | 1.84e-07 |\n",
            "|   5   |  136  |   3   | +9.7536e-05 | 4.04e+01 | 3.05e-06 | 1.84e-07 |\n",
            "|   6   |  136  |   3   | +9.7536e-05 | 2.02e+02 | 2.42e-06 | 1.84e-07 |\n",
            "|   7   |  136  |   3   | +9.7536e-05 | 1.01e+03 | 2.29e-06 | 1.84e-07 |\n",
            "|   8   |  136  |   3   | +9.7536e-05 | 5.05e+03 | 2.27e-06 | 1.84e-07 |\n",
            "|   9   |  136  |   3   | +9.7536e-05 | 2.53e+04 | 2.26e-06 | 1.84e-07 |\n",
            "|  10   |  136  |   3   | +9.7536e-05 | 1.26e+05 | 2.26e-06 | 1.84e-07 |\n",
            "|  11   |  204  |   4   | +9.7536e-05 | 1.26e+04 | 2.26e-06 | 1.84e-07 |\n",
            "|  12   |  272  |   5   | +9.7536e-05 | 1.26e+03 | 2.26e-06 | 1.84e-07 |\n",
            "|  13   |  340  |   6   | +9.7536e-05 | 1.26e+02 | 2.26e-06 | 1.84e-07 |\n",
            "|  14   |  408  |   7   | +9.7536e-05 | 1.26e+01 | 2.26e-06 | 1.84e-07 |\n",
            "|  15   |  476  |   8   | +9.7536e-05 | 1.26e+00 | 2.26e-06 | 1.84e-07 |\n",
            "|  16   |  544  |   9   | +9.7536e-05 | 1.26e-01 | 2.26e-06 | 1.84e-07 |\n",
            "|  17   |  612  |  10   | +9.4323e-05 | 8.84e-01 | 2.10e-06 | 1.37e-08 |\n",
            "|  18   |  680  |  11   | +9.0640e-05 | 1.05e+00 | 1.89e-06 | 9.91e-08 |\n",
            "|  19   |  748  |  12   | +9.0640e-05 | 1.05e-01 | 1.89e-06 | 9.91e-08 |\n",
            "|  20   |  816  |  13   | +8.8156e-05 | 7.35e-01 | 1.73e-06 | 6.26e-08 |\n",
            "|  21   |  884  |  14   | +8.8156e-05 | 7.35e-02 | 1.73e-06 | 6.26e-08 |\n",
            "|  22   |  952  |  15   | +8.6466e-05 | 5.14e-01 | 1.63e-06 | 2.84e-08 |\n",
            "|  23   | 1020  |  16   | +8.6466e-05 | 5.14e-02 | 1.63e-06 | 2.84e-08 |\n",
            "|  24   | 1088  |  17   | +8.5308e-05 | 3.60e-01 | 1.55e-06 | 1.13e-08 |\n",
            "|  25   | 1156  |  18   | +7.7618e-05 | 3.60e-01 | 1.02e-06 | 4.68e-06 |\n",
            "|  26   | 1156  |  18   | +7.7618e-05 | 1.80e+00 | 1.33e-06 | 4.68e-06 |\n",
            "|  27   | 1224  |  19   | +7.7618e-05 | 1.80e-01 | 1.33e-06 | 4.68e-06 |\n",
            "|  28   | 1292  |  20   | +7.4182e-05 | 1.26e+00 | 1.14e-06 | 8.01e-07 |\n",
            "|  29   | 1360  |  21   | +7.4182e-05 | 1.26e-01 | 1.14e-06 | 8.01e-07 |\n",
            "|  30   | 1428  |  22   | +7.1931e-05 | 8.82e-01 | 1.02e-06 | 2.95e-07 |\n",
            "|  31   | 1496  |  23   | +7.1931e-05 | 8.82e-02 | 1.02e-06 | 2.95e-07 |\n",
            "|  32   | 1564  |  24   | +7.0429e-05 | 6.17e-01 | 9.42e-07 | 1.03e-07 |\n",
            "|  33   | 1632  |  25   | +7.0429e-05 | 6.17e-02 | 9.42e-07 | 1.03e-07 |\n",
            "|  34   | 1700  |  26   | +6.9413e-05 | 4.32e-01 | 8.90e-07 | 3.56e-08 |\n",
            "|  35   | 1768  |  27   | +6.9413e-05 | 4.32e-02 | 8.90e-07 | 3.56e-08 |\n",
            "|  36   | 1836  |  28   | +6.8719e-05 | 3.03e-01 | 8.55e-07 | 1.22e-08 |\n",
            "|  37   | 1904  |  29   | +6.8719e-05 | 3.03e-02 | 8.55e-07 | 1.22e-08 |\n",
            "|  38   | 1972  |  30   | +6.8241e-05 | 2.12e-01 | 8.31e-07 | 4.18e-09 |\n",
            "|  39   | 2040  |  31   | +6.4996e-05 | 4.24e-01 | 6.80e-07 | 1.44e-06 |\n",
            "|  40   | 2108  |  32   | +6.4996e-05 | 4.24e-02 | 6.80e-07 | 1.44e-06 |\n",
            "|  41   | 2176  |  33   | +6.4396e-05 | 2.97e-01 | 6.56e-07 | 1.10e-08 |\n",
            "|  42   | 2244  |  34   | +6.4396e-05 | 2.97e-02 | 6.56e-07 | 1.10e-08 |\n",
            "|  43   | 2312  |  35   | +6.3982e-05 | 2.08e-01 | 6.39e-07 | 3.73e-09 |\n",
            "|  44   | 2380  |  36   | +6.1172e-05 | 4.15e-01 | 5.31e-07 | 1.27e-06 |\n",
            "|  45   | 2448  |  37   | +6.1172e-05 | 4.15e-02 | 5.31e-07 | 1.27e-06 |\n",
            "|  46   | 2516  |  38   | +6.0653e-05 | 2.91e-01 | 5.12e-07 | 9.45e-09 |\n",
            "|  47   | 2584  |  39   | +6.0653e-05 | 2.91e-02 | 5.12e-07 | 9.45e-09 |\n",
            "|  48   | 2652  |  40   | +6.0296e-05 | 2.03e-01 | 4.98e-07 | 3.18e-09 |\n",
            "|  49   | 2720  |  41   | +5.7863e-05 | 4.07e-01 | 4.19e-07 | 1.08e-06 |\n",
            "|  50   | 2788  |  42   | +5.7863e-05 | 4.07e-02 | 4.19e-07 | 1.08e-06 |\n",
            "|  51   | 2856  |  43   | +5.7414e-05 | 2.85e-01 | 4.05e-07 | 7.89e-09 |\n",
            "\n",
            "The maximum number of function evaluations is exceeded.\n",
            "Number of iterations: 51, function evaluations: 2856, CG iterations: 43, optimality: 4.05e-07, constraint violation: 7.89e-09, execution time:  4.8 s.\n",
            "説明変数μ = [0.95393041 0.95882552 0.96611834 0.96876784 0.97101956 0.97767807\n",
            " 0.98366506 1.13407496 0.97920511 0.98228803 0.99117227 0.98726304\n",
            " 0.98138165 1.14592158 0.98990114 0.98781602 0.99171832 0.97921686\n",
            " 1.14966156 0.99295182 0.9798302  0.99348069 0.97337597 0.96328727\n",
            " 1.12656791 0.97791546 0.97522018 0.96561897 0.96418904 0.9664995\n",
            " 1.07992655 1.10737945 0.95788035]\n",
            "定常分布pi = [0.02063084 0.02286744 0.02507185 0.02572029 0.02622988 0.02756962\n",
            " 0.02861836 0.04652926 0.02784897 0.02838761 0.02978819 0.0291962\n",
            " 0.02823254 0.04855483 0.02959941 0.02928206 0.02986824 0.02785109\n",
            " 0.04925982 0.03004691 0.02796082 0.03012261 0.02672954 0.02430491\n",
            " 0.04538062 0.02761364 0.02710005 0.02494272 0.02455886 0.02516884\n",
            " 0.03965972 0.04279423 0.02251002]\n",
            "目的間数値(最終) : 5.741350460997724e-05\n"
          ]
        }
      ]
    },
    {
      "cell_type": "code",
      "metadata": {
        "colab": {
          "base_uri": "https://localhost:8080/",
          "height": 638
        },
        "id": "XOb1XDhvh4II",
        "outputId": "cc23c9b5-65fb-4e1f-d1c2-5b417e2c02e0"
      },
      "source": [
        "#最適化後の定常分布\n",
        "x_label = [i for i in range(N)]\n",
        "plt.figure(figsize=(10,10))\n",
        "plt.title('Stationary Distribution using optimal values')\n",
        "plt.xlabel('Node Number')\n",
        "plt.ylabel('Probability')\n",
        "plt.bar(x_label, pi)"
      ],
      "execution_count": 450,
      "outputs": [
        {
          "output_type": "execute_result",
          "data": {
            "text/plain": [
              "<BarContainer object of 33 artists>"
            ]
          },
          "metadata": {},
          "execution_count": 450
        },
        {
          "output_type": "display_data",
          "data": {
            "image/png": "[encoded data removed]",
            "text/plain": [
              "<Figure size 720x720 with 1 Axes>"
            ]
          },
          "metadata": {
            "needs_background": "light"
          }
        }
      ]
    },
    {
      "cell_type": "code",
      "metadata": {
        "colab": {
          "base_uri": "https://localhost:8080/",
          "height": 638
        },
        "id": "kh2U8RdOtcmZ",
        "outputId": "cd391a3e-9a9e-4871-9fbc-46b10d20ded3"
      },
      "source": [
        "#最適化後の滞在率グラフ\n",
        "x_label = [i for i in range(N)]\n",
        "plt.figure(figsize=(10,10))\n",
        "plt.title('value of a in each node')\n",
        "plt.xlabel('Node Number')\n",
        "plt.ylabel('value of a')\n",
        "plt.bar(x_label, res['x'])"
      ],
      "execution_count": 451,
      "outputs": [
        {
          "output_type": "execute_result",
          "data": {
            "text/plain": [
              "<BarContainer object of 33 artists>"
            ]
          },
          "metadata": {},
          "execution_count": 451
        },
        {
          "output_type": "display_data",
          "data": {
            "image/png": "[encoded data removed]",
            "text/plain": [
              "<Figure size 720x720 with 1 Axes>"
            ]
          },
          "metadata": {
            "needs_background": "light"
          }
        }
      ]
    },
    {
      "cell_type": "code",
      "metadata": {
        "colab": {
          "base_uri": "https://localhost:8080/"
        },
        "id": "J2XnQg1Ft1iD",
        "outputId": "e44b71af-ff55-4d10-f489-9a510813ce63"
      },
      "source": [
        "#滞在率の平均\n",
        "sum(res['x']) / len(res['x'])"
      ],
      "execution_count": 452,
      "outputs": [
        {
          "output_type": "execute_result",
          "data": {
            "text/plain": [
              "1.003143900221374"
            ]
          },
          "metadata": {},
          "execution_count": 452
        }
      ]
    },
    {
      "cell_type": "markdown",
      "metadata": {
        "id": "UPbKR56V6NVy"
      },
      "source": [
        "### 定常分布の最適化の結果を待ち行列(BCMP)としてみてみる\n",
        "N = 33, R = 1, K = 500  \n",
        "パラメタ：サービス率(上記の結果を利用)  \n",
        "\n",
        "\\begin{equation}\n",
        " D = \\sum^K_{n=1}(|L_n-CP_n|+PT_n*I(\\bar{A_n}))\n",
        "\\end{equation}\n",
        "\n",
        "$L_n$: 拠点$n$における平均系内人数，$L_n = \\sum_{r=1}^R L_{n,r} $  \n",
        "$CP_n$: 拠点$n$における最大収容客数  \n",
        "$PT_n$: 拠点$n$におけるペナルティ値  \n",
        "$A_n$: 拠点$n$で安定が保たれている状態  \n",
        "$I(A_n)$: 事象$A_n$に対する指示関数 \n",
        "\n",
        "結果より  \n",
        "ペナルティの値がBCMPでは影響が大きく、K * 0.1では目的関数値が逆に大きくなってしまった。このとき$\\gamma$の値を0.5まであげたが、目的関数が元の値より下がらなかった。ペナルティをK * 0.05まで下げたら目的間数が元の値より下回った。\n"
      ]
    },
    {
      "cell_type": "code",
      "metadata": {
        "colab": {
          "base_uri": "https://localhost:8080/"
        },
        "id": "9OkmZ9Lc7ROB",
        "outputId": "cba0a0a7-4a9d-44d0-d801-16c993650ae3"
      },
      "source": [
        "#理論値の取り込み (最適化前)\n",
        "path = '/content/drive/MyDrive/研究/BCMP'\n",
        "theoretical = pd.read_csv(path +'/csv/Theoretical33_K500_R1.csv')\n",
        "N = 33\n",
        "R = 1\n",
        "K = [500]\n",
        "K_total = 500\n",
        "theoretical = np.array(theoretical) #numpy形式に変換\n",
        "theoretical"
      ],
      "execution_count": 453,
      "outputs": [
        {
          "output_type": "execute_result",
          "data": {
            "text/plain": [
              "array([[  0.53302896],\n",
              "       [  0.63099924],\n",
              "       [  0.7513782 ],\n",
              "       [  0.79128012],\n",
              "       [  0.81464212],\n",
              "       [  0.91015121],\n",
              "       [  0.98848987],\n",
              "       [ 13.66139811],\n",
              "       [  0.93042897],\n",
              "       [  0.96815144],\n",
              "       [  1.08693283],\n",
              "       [  1.03449082],\n",
              "       [  0.95427038],\n",
              "       [ 48.41505181],\n",
              "       [  1.07191611],\n",
              "       [  1.04794388],\n",
              "       [  1.094384  ],\n",
              "       [  0.93064907],\n",
              "       [396.5084686 ],\n",
              "       [  1.1089108 ],\n",
              "       [  0.93712643],\n",
              "       [  1.12284333],\n",
              "       [  0.84850507],\n",
              "       [  0.70610036],\n",
              "       [  9.30116624],\n",
              "       [  0.90993801],\n",
              "       [  0.88173076],\n",
              "       [  0.74523001],\n",
              "       [  0.72008531],\n",
              "       [  0.75433664],\n",
              "       [  3.05955881],\n",
              "       [  5.16459673],\n",
              "       [  0.61581572]])"
            ]
          },
          "metadata": {},
          "execution_count": 453
        }
      ]
    },
    {
      "cell_type": "code",
      "metadata": {
        "id": "30z9QXQOBsNK"
      },
      "source": [
        "capacity = np.full(N, K_total // N + 1) #各拠点のキャパ：今は平均\n",
        "pnenalty = np.full(N , K_total * 0.05) #ペナルティ値は網内人数の5%としてみる"
      ],
      "execution_count": 454,
      "outputs": []
    },
    {
      "cell_type": "code",
      "metadata": {
        "id": "Rqq-49oFCabZ"
      },
      "source": [
        "def getObjective(l, capacity, pnenalty):\n",
        "  sum = 0\n",
        "  for i in range(len(l)):\n",
        "    sum += np.abs(l[i] - capacity[i])\n",
        "    if l[i] > capacity[i]:\n",
        "      sum += pnenalty[i]\n",
        "  return sum"
      ],
      "execution_count": 455,
      "outputs": []
    },
    {
      "cell_type": "code",
      "metadata": {
        "colab": {
          "base_uri": "https://localhost:8080/"
        },
        "id": "vJ7b8jDuGExg",
        "outputId": "375d5767-9ca4-49d9-fab7-be04ef7e621b"
      },
      "source": [
        "#最適化前の目的間数値\n",
        "getObjective(theoretical, capacity, pnenalty)"
      ],
      "execution_count": 456,
      "outputs": [
        {
          "output_type": "execute_result",
          "data": {
            "text/plain": [
              "array([903.84704086])"
            ]
          },
          "metadata": {},
          "execution_count": 456
        }
      ]
    },
    {
      "cell_type": "code",
      "metadata": {
        "id": "1ILr2_2OGZ0X"
      },
      "source": [
        "#パラメタ設定\n",
        "mu = np.array(res['x']).reshape(R, N)\n",
        "type_list = np.full(N, 1) #サービスタイプはFCFS\n",
        "m = np.full(N, 1) #今回は窓口数1(複数窓口は実装できていない)"
      ],
      "execution_count": 457,
      "outputs": []
    },
    {
      "cell_type": "code",
      "metadata": {
        "id": "Y0cCR5z0Lwm0"
      },
      "source": [
        "import sys\n",
        "sys.path.append('/content/drive/MyDrive/研究/BCMP/')\n",
        "import BCMP_MVA_Class as mdl\n",
        "bcmp = mdl.BCMP_MVA_Class(N, R, K, mu, type_list, p, m)"
      ],
      "execution_count": 458,
      "outputs": []
    },
    {
      "cell_type": "code",
      "metadata": {
        "colab": {
          "base_uri": "https://localhost:8080/"
        },
        "id": "7wu-zb3bI-_J",
        "outputId": "e791af2c-7187-4597-912f-4ded20bdac34"
      },
      "source": [
        "import time\n",
        "start = time.time()\n",
        "L = bcmp.getMVA()\n",
        "elapsed_time = time.time() - start\n",
        "print (\"calclation_time:{0}\".format(elapsed_time) + \"[sec]\")\n",
        "print('L = \\n{0}'.format(L))"
      ],
      "execution_count": 459,
      "outputs": [
        {
          "output_type": "stream",
          "name": "stdout",
          "text": [
            "calclation_time:0.7132124900817871[sec]\n",
            "L = \n",
            "[[  0.72127155]\n",
            " [  0.86523731]\n",
            " [  1.0429903 ]\n",
            " [  1.10180686]\n",
            " [  1.13452891]\n",
            " [  1.27424404]\n",
            " [  1.38656683]\n",
            " [ 17.04625407]\n",
            " [  1.30348981]\n",
            " [  1.35693578]\n",
            " [  1.52590682]\n",
            " [  1.45165149]\n",
            " [  1.33658123]\n",
            " [ 57.46704403]\n",
            " [  1.50529204]\n",
            " [  1.47242044]\n",
            " [  1.53643709]\n",
            " [  1.30382171]\n",
            " [369.66932683]\n",
            " [  1.55624803]\n",
            " [  1.31276172]\n",
            " [  1.57784355]\n",
            " [  1.1841175 ]\n",
            " [  0.97603909]\n",
            " [ 11.72609205]\n",
            " [  1.27318572]\n",
            " [  1.23406003]\n",
            " [  1.03413524]\n",
            " [  0.99663482]\n",
            " [  1.04693799]\n",
            " [  4.05884696]\n",
            " [  6.67825047]\n",
            " [  0.84303968]]\n"
          ]
        }
      ]
    },
    {
      "cell_type": "code",
      "metadata": {
        "colab": {
          "base_uri": "https://localhost:8080/"
        },
        "id": "WhEwbYISPPf-",
        "outputId": "6520507a-6ef7-441f-e251-fb9c20942f3b"
      },
      "source": [
        "#最適化後の目的関数値\n",
        "getObjective(L, capacity, pnenalty)"
      ],
      "execution_count": 460,
      "outputs": [
        {
          "output_type": "execute_result",
          "data": {
            "text/plain": [
              "array([895.36524986])"
            ]
          },
          "metadata": {},
          "execution_count": 460
        }
      ]
    },
    {
      "cell_type": "code",
      "metadata": {
        "id": "FvcyJjwWQWux"
      },
      "source": [
        ""
      ],
      "execution_count": 460,
      "outputs": []
    }
  ]
}