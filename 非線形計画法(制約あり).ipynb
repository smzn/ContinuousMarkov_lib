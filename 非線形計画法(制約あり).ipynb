{
  "nbformat": 4,
  "nbformat_minor": 0,
  "metadata": {
    "colab": {
      "name": "非線形計画法(制約あり).ipynb",
      "provenance": []
    },
    "kernelspec": {
      "name": "python3",
      "display_name": "Python 3"
    },
    "language_info": {
      "name": "python"
    }
  },
  "cells": [
    {
      "cell_type": "markdown",
      "metadata": {
        "id": "qtG1oavZt9l3"
      },
      "source": [
        "# 非線形計画法(制約あり)\n",
        "非線形計画の制約がある場合をやっていきます。制約も線形で表せる線形制約と線形で表せない非線形制約があります。  \n",
        "\n",
        "## Constrained minimization of multivariate scalar functions (minimize)\n",
        "https://docs.scipy.org/doc/scipy/reference/tutorial/optimize.html#constrained-minimization-of-multivariate-scalar-functions-minimize  \n",
        "https://docs.scipy.org/doc/scipy/reference/tutorial/optimize.html#trust-region-constrained-algorithm-method-trust-constr"
      ]
    },
    {
      "cell_type": "code",
      "metadata": {
        "id": "mty0C2FIw8KT"
      },
      "source": [
        "from scipy.optimize import minimize, BFGS, LinearConstraint, NonlinearConstraint\n",
        "import numpy as np"
      ],
      "execution_count": 2,
      "outputs": []
    },
    {
      "cell_type": "markdown",
      "metadata": {
        "id": "CxBKDntJyfhF"
      },
      "source": [
        "### 例題1.1 １変数、線形制約\n",
        "わかりやすい数理計画法 (森北). \n",
        "P128 例6.1  \n",
        "minimize $f(x) = x^2 -2x$  \n",
        "subject to :  \n",
        "$g_1(x) = -x \\leq 0$  \n",
        "$g_2(x) = x - 2 \\leq 0$  \n",
        "\n",
        "$x \\geq 0$  \n",
        "$x \\leq 2$  \n",
        "\n",
        "$0 \\leq x \\leq 2$\n",
        "\n",
        "最適値は$x = 1$のとき、最小値-1"
      ]
    },
    {
      "cell_type": "code",
      "metadata": {
        "id": "m3Uw7Y1RyP-w"
      },
      "source": [
        "#目的関数\n",
        "def f1_1(x):\n",
        "    return x**2 -2 * x"
      ],
      "execution_count": null,
      "outputs": []
    },
    {
      "cell_type": "code",
      "metadata": {
        "id": "F1fgxDFiyvj3"
      },
      "source": [
        "#線形制約\n",
        "A = np.array([1])\n",
        "lb = np.array([0])\n",
        "ub = np.array([2])\n",
        "linear_constraint = LinearConstraint(A, lb, ub)"
      ],
      "execution_count": null,
      "outputs": []
    },
    {
      "cell_type": "code",
      "metadata": {
        "colab": {
          "base_uri": "https://localhost:8080/"
        },
        "id": "qzwoYb3EzCkC",
        "outputId": "64018135-feca-4505-ca49-c0b879b709d7"
      },
      "source": [
        "x0 = np.array([0.5])\n",
        "res = minimize(f1_1, x0, method='trust-constr', jac=\"2-point\", hess=BFGS(),\n",
        "               constraints=[linear_constraint],\n",
        "               options={'verbose': 2})\n",
        "print(res.x)\n",
        "print('x = {0}のとき最小値 : {1}'.format(res.x[0],f1_1(res.x[0])))"
      ],
      "execution_count": null,
      "outputs": [
        {
          "output_type": "stream",
          "text": [
            "| niter |f evals|CG iter|  obj func   |tr radius |   opt    |  c viol  |\n",
            "|-------|-------|-------|-------------|----------|----------|----------|\n",
            "|   1   |   2   |   0   | -7.5000e-01 | 1.00e+00 | 4.80e-01 | 0.00e+00 |\n",
            "|   2   |   4   |   1   | -9.5046e-01 | 2.00e+00 | 1.48e-01 | 0.00e+00 |\n",
            "|   3   |   6   |   2   | -9.9990e-01 | 2.71e+00 | 7.26e-03 | 0.00e+00 |\n",
            "|   4   |   6   |   2   | -9.9990e-01 | 1.36e+01 | 6.73e-03 | 0.00e+00 |\n",
            "|   5   |   6   |   2   | -9.9990e-01 | 6.79e+01 | 6.63e-03 | 0.00e+00 |\n",
            "|   6   |   8   |   3   | -1.0000e+00 | 6.79e+01 | 2.12e-05 | 0.00e+00 |\n",
            "|   7   |   8   |   3   | -1.0000e+00 | 3.39e+02 | 2.11e-05 | 0.00e+00 |\n",
            "|   8   |   8   |   3   | -1.0000e+00 | 1.70e+03 | 2.11e-05 | 0.00e+00 |\n",
            "|   9   |   8   |   3   | -1.0000e+00 | 8.48e+03 | 2.11e-05 | 0.00e+00 |\n",
            "|  10   |   8   |   3   | -1.0000e+00 | 4.24e+04 | 2.11e-05 | 0.00e+00 |\n",
            "|  11   |  10   |   4   | -1.0000e+00 | 4.24e+04 | 4.97e-09 | 0.00e+00 |\n",
            "\n",
            "`gtol` termination condition is satisfied.\n",
            "Number of iterations: 11, function evaluations: 10, CG iterations: 4, optimality: 4.97e-09, constraint violation: 0.00e+00, execution time: 0.048 s.\n",
            "[0.99999999]\n",
            "x = 0.9999999868129473のとき最小値 : -0.9999999999999998\n"
          ],
          "name": "stdout"
        }
      ]
    },
    {
      "cell_type": "markdown",
      "metadata": {
        "id": "SFcNqYn60m4X"
      },
      "source": [
        "### 例題1.2 1変数、線形制約 \n",
        "わかりやすい数理計画法 (森北) P128 例6.2  \n",
        "minimize $f(x) = x^2 -2x$  \n",
        "subject to  \n",
        "$g_1(x) = -x + 2 \\leq 0$  \n",
        "$g_2(x) = x - 3 \\leq 0$\n",
        "\n",
        "$2 \\leq x \\leq 3$  \n",
        "$x = 2$のとき、最小値0  \n"
      ]
    },
    {
      "cell_type": "code",
      "metadata": {
        "id": "MrG2Ohvx0_72"
      },
      "source": [
        "#線形制約\n",
        "A = np.array([1])\n",
        "lb = np.array([2])\n",
        "ub = np.array([3])\n",
        "linear_constraint = LinearConstraint(A, lb, ub)"
      ],
      "execution_count": null,
      "outputs": []
    },
    {
      "cell_type": "code",
      "metadata": {
        "colab": {
          "base_uri": "https://localhost:8080/"
        },
        "id": "CpnIg82Q1Sh8",
        "outputId": "538fde94-b026-48e6-e016-af9fb7741504"
      },
      "source": [
        "x0 = np.array([0.5])\n",
        "res = minimize(f1_1, x0, method='trust-constr', jac=\"2-point\", hess=BFGS(),\n",
        "               constraints=[linear_constraint],\n",
        "               options={'verbose': 2})\n",
        "print(res.x)\n",
        "print('x = {0}のとき最小値 : {1}'.format(res.x[0],f1_1(res.x[0])))"
      ],
      "execution_count": null,
      "outputs": [
        {
          "output_type": "stream",
          "text": [
            "| niter |f evals|CG iter|  obj func   |tr radius |   opt    |  c viol  |\n",
            "|-------|-------|-------|-------------|----------|----------|----------|\n",
            "|   1   |   2   |   0   | -7.5000e-01 | 1.00e+00 | 5.18e-01 | 1.50e+00 |\n",
            "|   2   |   4   |   1   | -8.1652e-01 | 2.00e+00 | 3.66e-01 | 5.72e-01 |\n",
            "|   3   |   6   |   2   | -9.1604e-01 | 2.02e+00 | 4.83e-04 | 7.10e-01 |\n",
            "|   4   |   8   |   3   | -3.0262e-02 | 4.05e+00 | 1.00e-03 | 1.52e-02 |\n",
            "|   5   |   8   |   3   | -3.0262e-02 | 2.02e+01 | 1.14e-04 | 1.52e-02 |\n",
            "|   6   |  10   |   4   | +1.9485e-02 | 2.02e+01 | 2.18e-06 | 0.00e+00 |\n",
            "|   7   |  10   |   4   | +1.9485e-02 | 1.01e+02 | 1.51e-04 | 0.00e+00 |\n",
            "|   8   |  12   |   5   | +4.1024e-03 | 1.01e+02 | 2.35e-07 | 0.00e+00 |\n",
            "|   9   |  12   |   5   | +4.1024e-03 | 5.06e+02 | 6.78e-06 | 0.00e+00 |\n",
            "|  10   |  14   |   6   | +8.0492e-04 | 5.06e+02 | 2.17e-09 | 0.00e+00 |\n",
            "\n",
            "`gtol` termination condition is satisfied.\n",
            "Number of iterations: 10, function evaluations: 14, CG iterations: 6, optimality: 2.17e-09, constraint violation: 0.00e+00, execution time: 0.034 s.\n",
            "[2.00040238]\n",
            "x = 2.000402378675703のとき最小値 : 0.0008049192600045885\n"
          ],
          "name": "stdout"
        }
      ]
    },
    {
      "cell_type": "markdown",
      "metadata": {
        "id": "SZiAJk7e13R1"
      },
      "source": [
        "### 例題1.3 1変数、線形制約   \n",
        "わかりやすい数理計画法 (森北) P129 例6.3  \n",
        "minimize $f(x) = x^2 -2x$  \n",
        "subject to  \n",
        "$g_1(x) = -x - 1 \\leq 0$  \n",
        "$g_2(x) = x \\leq 0$  \n",
        "\n",
        "$-1 \\leq x \\leq 0$   \n",
        "$x = 0$のとき、最小値0"
      ]
    },
    {
      "cell_type": "code",
      "metadata": {
        "id": "j3XTm9rr3BTM"
      },
      "source": [
        "#線形制約\n",
        "A = np.array([1])\n",
        "lb = np.array([-1])\n",
        "ub = np.array([0])\n",
        "linear_constraint = LinearConstraint(A, lb, ub)"
      ],
      "execution_count": null,
      "outputs": []
    },
    {
      "cell_type": "code",
      "metadata": {
        "colab": {
          "base_uri": "https://localhost:8080/"
        },
        "id": "vEa4iLEr3FFZ",
        "outputId": "b86aef4c-769b-49d1-bbfa-393da7895f04"
      },
      "source": [
        "x0 = np.array([0.5])\n",
        "res = minimize(f1_1, x0, method='trust-constr', jac=\"2-point\", hess=BFGS(),\n",
        "               constraints=[linear_constraint],\n",
        "               options={'verbose': 2})\n",
        "print(res.x)\n",
        "print('x = {0}のとき最小値 : {1}'.format(res.x[0],f1_1(res.x[0])))"
      ],
      "execution_count": null,
      "outputs": [
        {
          "output_type": "stream",
          "text": [
            "| niter |f evals|CG iter|  obj func   |tr radius |   opt    |  c viol  |\n",
            "|-------|-------|-------|-------------|----------|----------|----------|\n",
            "|   1   |   2   |   0   | -7.5000e-01 | 1.00e+00 | 4.30e-01 | 5.00e-01 |\n",
            "|   2   |   4   |   1   | -8.6962e-01 | 7.00e+00 | 1.53e-03 | 6.39e-01 |\n",
            "|   3   |   6   |   2   | +1.9058e-01 | 8.93e+00 | 1.10e-02 | 0.00e+00 |\n",
            "|   4   |   8   |   3   | +9.6146e-02 | 8.93e+00 | 1.53e-04 | 0.00e+00 |\n",
            "|   5   |   8   |   3   | +9.6146e-02 | 4.47e+01 | 3.71e-03 | 0.00e+00 |\n",
            "|   6   |  10   |   4   | +2.1997e-02 | 4.47e+01 | 2.56e-05 | 0.00e+00 |\n",
            "|   7   |  10   |   4   | +2.1997e-02 | 2.23e+02 | 1.99e-04 | 0.00e+00 |\n",
            "|   8   |  12   |   5   | +4.1415e-03 | 2.23e+02 | 3.19e-07 | 0.00e+00 |\n",
            "|   9   |  12   |   5   | +4.1415e-03 | 1.12e+03 | 6.92e-06 | 0.00e+00 |\n",
            "|  10   |  14   |   6   | +8.0505e-04 | 1.12e+03 | 2.23e-09 | 0.00e+00 |\n",
            "\n",
            "`gtol` termination condition is satisfied.\n",
            "Number of iterations: 10, function evaluations: 14, CG iterations: 6, optimality: 2.23e-09, constraint violation: 0.00e+00, execution time: 0.025 s.\n",
            "[-0.00040244]\n",
            "x = -0.00040244268091493363のとき最小値 : 0.0008050473219412893\n"
          ],
          "name": "stdout"
        }
      ]
    },
    {
      "cell_type": "markdown",
      "metadata": {
        "id": "gJwgjDTx5pJZ"
      },
      "source": [
        "### 例題1.4 多変数、線形制約\n",
        "わかりやすい数理計画法 (森北) P133 例6.4  \n",
        "minimize $f(x_1, x_2) = 3x_1^2 - 18x_1 + 2x_2^2 - 8x_2$  \n",
        "subject to  \n",
        "$g_1(x) = 3x_1 + 12x_2 -48 \\leq 0$  \n",
        "$g_2(x) = 9x_1 + 6x_2 - 54 \\leq 0$  \n",
        "$g_3(x) = -x_1 \\leq 0$  \n",
        "$g_4(x) = -x_2 \\leq 0$  \n",
        "\n",
        "$x_1 + 4x_2 \\leq 16$  \n",
        "$3x_1 + 2x_2 \\leq 18$  \n",
        "$x_1 \\geq 0$  \n",
        "$x_2 \\geq 0$  \n",
        "\n",
        "制約条件(線形制約)  \n",
        "$  \n",
        "\\left(\n",
        "\\begin{array}{r}\n",
        "-\\infty \\\\\n",
        "-\\infty \\\\\n",
        "0 \\\\\n",
        "0 \\\\\n",
        "\\end{array}\n",
        "\\right)\n",
        "\\leq\n",
        "\\left(\n",
        "\\begin{array}{rr}\n",
        "1 & 4 \\\\\n",
        "3 & 2 \\\\\n",
        "1 & 0 \\\\\n",
        "0 & 1 \\\\\n",
        "\\end{array}\n",
        "\\right)\n",
        "\\left(\n",
        "\\begin{array}{r}\n",
        "x_1 \\\\\n",
        "x_2 \\\\\n",
        "\\end{array}\n",
        "\\right)\n",
        "\\leq \n",
        "\\left(\n",
        "\\begin{array}{r}\n",
        "16 \\\\\n",
        "18 \\\\\n",
        "\\infty \\\\\n",
        "\\infty \\\\\n",
        "\\end{array}\n",
        "\\right)\n",
        "$ \n",
        "   \n",
        "$(x_1, x_2) = (3, 2)$のとき、最小値-35"
      ]
    },
    {
      "cell_type": "code",
      "metadata": {
        "id": "F5bsrBU65noU"
      },
      "source": [
        "#目的関数\n",
        "def f1_4(x):\n",
        "    return 3 * x[0]**2 - 18 * x[0] + 2 * x[1]**2 -8 * x[1]"
      ],
      "execution_count": null,
      "outputs": []
    },
    {
      "cell_type": "code",
      "metadata": {
        "id": "kf-R8Bki6SjT"
      },
      "source": [
        "#線形制約\n",
        "A = np.array([[1,4],[3,2],[1,0],[0,1]])\n",
        "lb = np.array([-np.inf,-np.inf,0,0])\n",
        "ub = np.array([16,18,np.inf,np.inf])\n",
        "linear_constraint = LinearConstraint(A, lb, ub)"
      ],
      "execution_count": null,
      "outputs": []
    },
    {
      "cell_type": "code",
      "metadata": {
        "colab": {
          "base_uri": "https://localhost:8080/"
        },
        "id": "ABw6jMyy6evj",
        "outputId": "99b4567e-2c72-40f0-b62e-985ff2d74993"
      },
      "source": [
        "x0 = np.array([0.5, 0.5])\n",
        "res = minimize(f1_4, x0, method='trust-constr', jac=\"2-point\", hess=BFGS(),\n",
        "               constraints=[linear_constraint],\n",
        "               options={'verbose': 2})\n",
        "print(res.x)\n",
        "print('x = {0}のとき最小値 : {1}'.format(res.x,f1_4(res.x)))"
      ],
      "execution_count": null,
      "outputs": [
        {
          "output_type": "stream",
          "text": [
            "| niter |f evals|CG iter|  obj func   |tr radius |   opt    |  c viol  |\n",
            "|-------|-------|-------|-------------|----------|----------|----------|\n",
            "|   1   |   3   |   0   | -1.1750e+01 | 1.00e+00 | 7.44e+00 | 0.00e+00 |\n",
            "|   2   |   6   |   1   | -2.2224e+01 | 7.00e+00 | 6.08e+00 | 0.00e+00 |\n",
            "|   3   |   9   |   3   | -3.4960e+01 | 2.05e+01 | 1.93e-01 | 0.00e+00 |\n",
            "|   4   |  12   |   5   | -3.4998e+01 | 2.05e+01 | 3.92e-02 | 0.00e+00 |\n",
            "|   5   |  12   |   5   | -3.4998e+01 | 1.02e+02 | 6.20e-02 | 0.00e+00 |\n",
            "|   6   |  15   |   7   | -3.5000e+01 | 1.02e+02 | 9.32e-03 | 0.00e+00 |\n",
            "|   7   |  15   |   7   | -3.5000e+01 | 5.12e+02 | 1.07e-02 | 0.00e+00 |\n",
            "|   8   |  18   |   9   | -3.5000e+01 | 5.12e+02 | 8.21e-04 | 0.00e+00 |\n",
            "|   9   |  18   |   9   | -3.5000e+01 | 2.56e+03 | 1.19e-03 | 0.00e+00 |\n",
            "|  10   |  21   |  10   | -3.5000e+01 | 2.56e+03 | 4.13e-04 | 0.00e+00 |\n",
            "|  11   |  21   |  10   | -3.5000e+01 | 1.28e+04 | 5.60e-04 | 0.00e+00 |\n",
            "|  12   |  24   |  12   | -3.5000e+01 | 1.28e+04 | 8.50e-05 | 0.00e+00 |\n",
            "|  13   |  24   |  12   | -3.5000e+01 | 6.40e+04 | 1.15e-04 | 0.00e+00 |\n",
            "|  14   |  27   |  14   | -3.5000e+01 | 6.40e+04 | 2.58e-07 | 0.00e+00 |\n",
            "|  15   |  27   |  14   | -3.5000e+01 | 3.20e+05 | 7.43e-06 | 0.00e+00 |\n",
            "|  16   |  30   |  16   | -3.5000e+01 | 3.20e+05 | 2.88e-07 | 0.00e+00 |\n",
            "|  17   |  30   |  16   | -3.5000e+01 | 1.60e+06 | 1.81e-06 | 0.00e+00 |\n",
            "|  18   |  33   |  17   | -3.5000e+01 | 1.60e+06 | 6.79e-07 | 0.00e+00 |\n",
            "|  19   |  33   |  17   | -3.5000e+01 | 8.01e+06 | 5.81e-07 | 0.00e+00 |\n",
            "|  20   |  36   |  19   | -3.5000e+01 | 8.01e+06 | 9.14e-08 | 0.00e+00 |\n",
            "|  21   |  36   |  19   | -3.5000e+01 | 4.00e+07 | 1.07e-07 | 0.00e+00 |\n",
            "|  22   |  42   |  21   | -3.5000e+01 | 4.00e+06 | 1.07e-07 | 0.00e+00 |\n",
            "|  23   |  45   |  23   | -3.5000e+01 | 4.00e+06 | 1.38e-07 | 0.00e+00 |\n",
            "|  24   |  48   |  24   | -3.5000e+01 | 4.00e+05 | 1.38e-07 | 0.00e+00 |\n",
            "|  25   |  54   |  25   | -3.5000e+01 | 4.00e+04 | 1.38e-07 | 0.00e+00 |\n",
            "|  26   |  60   |  26   | -3.5000e+01 | 4.00e+03 | 1.38e-07 | 0.00e+00 |\n",
            "|  27   |  66   |  27   | -3.5000e+01 | 4.00e+02 | 1.38e-07 | 0.00e+00 |\n",
            "|  28   |  72   |  28   | -3.5000e+01 | 4.00e+01 | 1.38e-07 | 0.00e+00 |\n",
            "|  29   |  78   |  29   | -3.5000e+01 | 4.00e+00 | 1.38e-07 | 0.00e+00 |\n",
            "|  30   |  84   |  30   | -3.5000e+01 | 4.00e-01 | 1.38e-07 | 0.00e+00 |\n",
            "|  31   |  90   |  31   | -3.5000e+01 | 4.00e-02 | 1.38e-07 | 0.00e+00 |\n",
            "|  32   |  96   |  32   | -3.5000e+01 | 4.00e-03 | 1.38e-07 | 0.00e+00 |\n",
            "|  33   |  102  |  33   | -3.5000e+01 | 4.00e-04 | 1.38e-07 | 0.00e+00 |\n",
            "|  34   |  108  |  34   | -3.5000e+01 | 4.00e-05 | 1.38e-07 | 0.00e+00 |\n",
            "|  35   |  114  |  35   | -3.5000e+01 | 4.00e-06 | 1.38e-07 | 0.00e+00 |\n",
            "|  36   |  120  |  36   | -3.5000e+01 | 4.00e-07 | 1.38e-07 | 0.00e+00 |\n",
            "|  37   |  126  |  37   | -3.5000e+01 | 6.06e-08 | 1.38e-07 | 0.00e+00 |\n",
            "|  38   |  129  |  38   | -3.5000e+01 | 3.03e-08 | 1.38e-07 | 0.00e+00 |\n",
            "|  39   |  135  |  39   | -3.5000e+01 | 1.51e-08 | 1.38e-07 | 0.00e+00 |\n",
            "|  40   |  138  |  40   | -3.5000e+01 | 7.57e-09 | 1.38e-07 | 0.00e+00 |\n",
            "|  41   |  141  |  40   | -3.5000e+01 | 1.00e+00 | 1.26e-07 | 0.00e+00 |\n",
            "|  42   |  147  |  41   | -3.5000e+01 | 1.00e-01 | 1.26e-07 | 0.00e+00 |\n",
            "|  43   |  150  |  42   | -3.5000e+01 | 1.00e-02 | 1.26e-07 | 0.00e+00 |\n",
            "|  44   |  150  |  43   | -3.5000e+01 | 1.00e-03 | 1.26e-07 | 0.00e+00 |\n",
            "|  45   |  150  |  44   | -3.5000e+01 | 1.00e-04 | 1.26e-07 | 0.00e+00 |\n",
            "|  46   |  150  |  45   | -3.5000e+01 | 1.00e-05 | 1.26e-07 | 0.00e+00 |\n",
            "|  47   |  150  |  46   | -3.5000e+01 | 1.00e-06 | 1.26e-07 | 0.00e+00 |\n",
            "|  48   |  150  |  47   | -3.5000e+01 | 1.00e-07 | 1.26e-07 | 0.00e+00 |\n",
            "|  49   |  150  |  48   | -3.5000e+01 | 3.15e-08 | 1.26e-07 | 0.00e+00 |\n",
            "|  50   |  153  |  49   | -3.5000e+01 | 1.57e-08 | 1.26e-07 | 0.00e+00 |\n",
            "|  51   |  159  |  50   | -3.5000e+01 | 7.87e-09 | 1.26e-07 | 0.00e+00 |\n",
            "|  52   |  162  |  50   | -3.5000e+01 | 1.00e+00 | 1.23e-07 | 0.00e+00 |\n",
            "|  53   |  165  |  51   | -3.5000e+01 | 1.00e-01 | 1.23e-07 | 0.00e+00 |\n",
            "|  54   |  165  |  52   | -3.5000e+01 | 1.00e-02 | 1.23e-07 | 0.00e+00 |\n",
            "|  55   |  165  |  53   | -3.5000e+01 | 1.00e-03 | 1.23e-07 | 0.00e+00 |\n",
            "|  56   |  165  |  54   | -3.5000e+01 | 1.00e-04 | 1.23e-07 | 0.00e+00 |\n",
            "|  57   |  165  |  55   | -3.5000e+01 | 1.00e-05 | 1.23e-07 | 0.00e+00 |\n",
            "|  58   |  165  |  56   | -3.5000e+01 | 1.00e-06 | 1.23e-07 | 0.00e+00 |\n",
            "|  59   |  165  |  57   | -3.5000e+01 | 1.00e-07 | 1.23e-07 | 0.00e+00 |\n",
            "|  60   |  165  |  58   | -3.5000e+01 | 1.00e-08 | 1.23e-07 | 0.00e+00 |\n",
            "|  61   |  168  |  59   | -3.5000e+01 | 1.52e-09 | 1.23e-07 | 0.00e+00 |\n",
            "\n",
            "`xtol` termination condition is satisfied.\n",
            "Number of iterations: 61, function evaluations: 168, CG iterations: 59, optimality: 1.23e-07, constraint violation: 0.00e+00, execution time: 0.17 s.\n",
            "[2.99999998 2.00000003]\n",
            "x = [2.99999998 2.00000003]のとき最小値 : -35.0\n"
          ],
          "name": "stdout"
        },
        {
          "output_type": "stream",
          "text": [
            "/usr/local/lib/python3.7/dist-packages/scipy/optimize/_hessian_update_strategy.py:187: UserWarning: delta_grad == 0.0. Check if the approximated function is linear. If the function is linear better results can be obtained by defining the Hessian as zero instead of using quasi-Newton approximations.\n",
            "  'approximations.', UserWarning)\n"
          ],
          "name": "stderr"
        }
      ]
    },
    {
      "cell_type": "markdown",
      "metadata": {
        "id": "d2EpOWaS8Hkh"
      },
      "source": [
        "### 例題1.5 多変数、線形制約\n",
        "わかりやすい数理計画法 (森北) P133 例6.5  \n",
        "minimize $f(x_1, x_2) = 3x_1^2 - 18x_1 + 2x_2^2 - 8x_2$  \n",
        "subject to  \n",
        "$g_1(x) = 3x_1 + x_2 -9 \\leq 0$  \n",
        "$g_2(x) = 3x_1 + 5x_2 - 15 \\leq 0$  \n",
        "$g_3(x) = -x_1 \\leq 0$  \n",
        "$g_4(x) = -x_2 \\leq 0$  \n",
        "\n",
        "$3x_1 + x_2 \\leq 9$  \n",
        "$3x_1 + 5x_2 \\leq 15$  \n",
        "$x_1 \\geq 0$  \n",
        "$x_2 \\geq 0$  \n",
        "\n",
        "制約条件(線形制約)  \n",
        "$  \n",
        "\\left(\n",
        "\\begin{array}{r}\n",
        "-\\infty \\\\\n",
        "-\\infty \\\\\n",
        "0 \\\\\n",
        "0 \\\\\n",
        "\\end{array}\n",
        "\\right)\n",
        "\\leq\n",
        "\\left(\n",
        "\\begin{array}{rr}\n",
        "3 & 1 \\\\\n",
        "3 & 5 \\\\\n",
        "1 & 0 \\\\\n",
        "0 & 1 \\\\\n",
        "\\end{array}\n",
        "\\right)\n",
        "\\left(\n",
        "\\begin{array}{r}\n",
        "x_1 \\\\\n",
        "x_2 \\\\\n",
        "\\end{array}\n",
        "\\right)\n",
        "\\leq \n",
        "\\left(\n",
        "\\begin{array}{r}\n",
        "9 \\\\\n",
        "15 \\\\\n",
        "\\infty \\\\\n",
        "\\infty \\\\\n",
        "\\end{array}\n",
        "\\right)\n",
        "$\n",
        "\n",
        "$(x_1, x_2) = (2.5, 1.5)$のとき、最小値-33.75"
      ]
    },
    {
      "cell_type": "code",
      "metadata": {
        "id": "R7SQcRLs8flg"
      },
      "source": [
        "#線形制約\n",
        "A = np.array([[3,1],[3,5],[1,0],[0,1]])\n",
        "lb = np.array([-np.inf,-np.inf,0,0])\n",
        "ub = np.array([9,15,np.inf,np.inf])\n",
        "linear_constraint = LinearConstraint(A, lb, ub)"
      ],
      "execution_count": null,
      "outputs": []
    },
    {
      "cell_type": "code",
      "metadata": {
        "colab": {
          "base_uri": "https://localhost:8080/"
        },
        "id": "46oGbzyj8sMz",
        "outputId": "ac701424-2772-43df-e65e-ebf70f5bf8f2"
      },
      "source": [
        "x0 = np.array([0.5, 0.5])\n",
        "res = minimize(f1_4, x0, method='trust-constr', jac=\"2-point\", hess=BFGS(),\n",
        "               constraints=[linear_constraint],\n",
        "               options={'verbose': 2})\n",
        "print(res.x)\n",
        "print('x = {0}のとき最小値 : {1}'.format(res.x,f1_4(res.x)))"
      ],
      "execution_count": null,
      "outputs": [
        {
          "output_type": "stream",
          "text": [
            "| niter |f evals|CG iter|  obj func   |tr radius |   opt    |  c viol  |\n",
            "|-------|-------|-------|-------------|----------|----------|----------|\n",
            "|   1   |   3   |   0   | -1.1750e+01 | 1.00e+00 | 7.02e+00 | 0.00e+00 |\n",
            "|   2   |   6   |   1   | -2.0859e+01 | 7.00e+00 | 4.70e+00 | 0.00e+00 |\n",
            "|   3   |   9   |   3   | -3.3661e+01 | 1.84e+01 | 1.25e-03 | 0.00e+00 |\n",
            "|   4   |   9   |   3   | -3.3661e+01 | 9.21e+01 | 1.53e-03 | 0.00e+00 |\n",
            "|   5   |  12   |   4   | -3.3702e+01 | 9.21e+01 | 1.13e-04 | 0.00e+00 |\n",
            "|   6   |  12   |   4   | -3.3702e+01 | 4.60e+02 | 2.51e-04 | 0.00e+00 |\n",
            "|   7   |  15   |   5   | -3.3740e+01 | 4.60e+02 | 2.64e-05 | 0.00e+00 |\n",
            "|   8   |  15   |   5   | -3.3740e+01 | 2.30e+03 | 4.71e-05 | 0.00e+00 |\n",
            "|   9   |  18   |   6   | -3.3747e+01 | 2.30e+03 | 1.06e-06 | 0.00e+00 |\n",
            "|  10   |  21   |   7   | -3.3748e+01 | 2.30e+03 | 1.63e-08 | 0.00e+00 |\n",
            "|  11   |  21   |   7   | -3.3748e+01 | 1.15e+04 | 3.10e-07 | 0.00e+00 |\n",
            "|  12   |  24   |   8   | -3.3750e+01 | 1.15e+04 | 2.00e-09 | 0.00e+00 |\n",
            "\n",
            "`gtol` termination condition is satisfied.\n",
            "Number of iterations: 12, function evaluations: 24, CG iterations: 8, optimality: 2.00e-09, constraint violation: 0.00e+00, execution time: 0.041 s.\n",
            "[2.49997212 1.49988133]\n",
            "x = [2.49997212 1.49988133]のとき最小値 : -33.74967898101941\n"
          ],
          "name": "stdout"
        }
      ]
    },
    {
      "cell_type": "markdown",
      "metadata": {
        "id": "Lyi0KscDwSZY"
      },
      "source": [
        "### 例題1.6 多変数、非線形制約  \n",
        "非線形制約付きの場合 新版数理計画入門 福島雅夫 朝倉書店 P114 (4.19)  \n",
        "目的関数(最小化) : $f(x_1, x_2) = (x_1 - 1)^2 + (x_2 -2)^2$  \n",
        "制約条件 :   \n",
        "$c_1(x_1, x_2) = x_1^2 + x_2^2 -2 \\leq 0$   \n",
        "$c_2(x_1, x_2) = -x_1 + x_2 \\leq 0$  \n",
        "$c_3(x_1, x_2) = -x_2 \\leq 0$  \n",
        "\n",
        "制約条件(線形制約)  \n",
        "$  \n",
        "\\left(\n",
        "\\begin{array}{r}\n",
        "-\\infty \\\\\n",
        "-\\infty \\\\\n",
        "\\end{array}\n",
        "\\right)\n",
        "\\leq\n",
        "\\left(\n",
        "\\begin{array}{rr}\n",
        "-1 & 1 \\\\\n",
        "0 & -1 \\\\\n",
        "\\end{array}\n",
        "\\right)\n",
        "\\left(\n",
        "\\begin{array}{r}\n",
        "x_1 \\\\\n",
        "x_2 \\\\\n",
        "\\end{array}\n",
        "\\right)\n",
        "\\leq \n",
        "\\left(\n",
        "\\begin{array}{r}\n",
        "0 \\\\\n",
        "0 \\\\\n",
        "\\end{array}\n",
        "\\right)\n",
        "$\n",
        "\n",
        "$(x_1, x_2) = (1, 1)$のとき、最小値0"
      ]
    },
    {
      "cell_type": "code",
      "metadata": {
        "id": "PqM6-C8wxmoY"
      },
      "source": [
        "#目的関数\n",
        "def f1_6(x):\n",
        "    return (x[0] - 1)**2 + (x[0] - x[1])**2"
      ],
      "execution_count": null,
      "outputs": []
    },
    {
      "cell_type": "code",
      "metadata": {
        "id": "eF8nNL0Axceh"
      },
      "source": [
        "#線形制約\n",
        "A = np.array([[-1,1],[0,-1]])\n",
        "lb = np.array([-np.inf,-np.inf])\n",
        "ub = np.array([0,0])\n",
        "linear_constraint = LinearConstraint(A, lb, ub)"
      ],
      "execution_count": null,
      "outputs": []
    },
    {
      "cell_type": "code",
      "metadata": {
        "id": "q1iLmNnkxrHy"
      },
      "source": [
        "#非線形制約\n",
        "def cons_f(x):\n",
        "    return x[0]**2 + x[1]**2"
      ],
      "execution_count": null,
      "outputs": []
    },
    {
      "cell_type": "code",
      "metadata": {
        "id": "HzV2g9kC988n"
      },
      "source": [
        "#非線形制約\n",
        "nonlinear_constraint = NonlinearConstraint(cons_f, -np.inf, 2, jac=\"2-point\", hess=BFGS())"
      ],
      "execution_count": null,
      "outputs": []
    },
    {
      "cell_type": "code",
      "metadata": {
        "colab": {
          "base_uri": "https://localhost:8080/"
        },
        "id": "tUrKXM2K-E8o",
        "outputId": "bfd372b2-fe4d-4301-b738-3d1adf8a27ca"
      },
      "source": [
        "x0 = np.array([0.5, 0])\n",
        "res = minimize(f1_6, x0, method='trust-constr', jac=\"2-point\", hess=BFGS(),\n",
        "               constraints=[linear_constraint, nonlinear_constraint],\n",
        "               options={'verbose': 2})\n",
        "print(res.x)\n",
        "print('x = {0}のとき最小値 : {1}'.format(res.x,f1_6(res.x)))"
      ],
      "execution_count": null,
      "outputs": [
        {
          "output_type": "stream",
          "text": [
            "| niter |f evals|CG iter|  obj func   |tr radius |   opt    |  c viol  |\n",
            "|-------|-------|-------|-------------|----------|----------|----------|\n",
            "|   1   |   3   |   0   | +5.0000e-01 | 1.00e+00 | 4.06e-01 | 0.00e+00 |\n",
            "|   2   |   6   |   2   | +1.8856e-01 | 6.14e+00 | 1.75e-01 | 0.00e+00 |\n",
            "|   3   |   9   |   4   | +6.4718e-02 | 6.14e+00 | 1.06e-03 | 0.00e+00 |\n",
            "|   4   |  12   |   5   | +6.7011e-02 | 6.14e+00 | 7.49e-04 | 0.00e+00 |\n",
            "|   5   |  12   |   5   | +6.7011e-02 | 3.07e+01 | 1.66e-02 | 0.00e+00 |\n",
            "|   6   |  15   |   6   | +2.7663e-02 | 3.07e+01 | 3.82e-03 | 0.00e+00 |\n",
            "|   7   |  15   |   6   | +2.7663e-02 | 1.54e+02 | 6.76e-03 | 0.00e+00 |\n",
            "|   8   |  18   |   8   | +8.8081e-03 | 1.54e+02 | 8.60e-04 | 0.00e+00 |\n",
            "|   9   |  21   |  10   | +4.5134e-03 | 1.54e+02 | 9.32e-05 | 0.00e+00 |\n",
            "|  10   |  21   |  10   | +4.5134e-03 | 7.68e+02 | 3.78e-04 | 0.00e+00 |\n",
            "|  11   |  24   |  11   | +1.6144e-03 | 7.68e+02 | 4.23e-05 | 0.00e+00 |\n",
            "|  12   |  27   |  12   | +9.6051e-04 | 7.68e+02 | 1.09e-05 | 0.00e+00 |\n",
            "|  13   |  27   |  12   | +9.6051e-04 | 3.84e+03 | 3.81e-05 | 0.00e+00 |\n",
            "|  14   |  30   |  13   | +3.6373e-04 | 3.84e+03 | 4.57e-06 | 0.00e+00 |\n",
            "|  15   |  33   |  15   | +1.8826e-04 | 3.84e+03 | 4.45e-07 | 0.00e+00 |\n",
            "|  16   |  33   |  15   | +1.8826e-04 | 1.92e+04 | 2.82e-06 | 0.00e+00 |\n",
            "|  17   |  36   |  16   | +6.7516e-05 | 1.92e+04 | 4.77e-07 | 0.00e+00 |\n",
            "|  18   |  39   |  18   | +3.6683e-05 | 1.92e+04 | 4.96e-08 | 0.00e+00 |\n",
            "|  19   |  39   |  18   | +3.6683e-05 | 9.60e+04 | 2.64e-07 | 0.00e+00 |\n",
            "|  20   |  42   |  19   | +1.2963e-05 | 9.60e+04 | 2.92e-08 | 0.00e+00 |\n",
            "|  21   |  45   |  20   | +7.7266e-06 | 9.60e+04 | 7.05e-09 | 0.00e+00 |\n",
            "\n",
            "`gtol` termination condition is satisfied.\n",
            "Number of iterations: 21, function evaluations: 45, CG iterations: 20, optimality: 7.05e-09, constraint violation: 0.00e+00, execution time:  0.1 s.\n",
            "[0.99838816 0.99612352]\n",
            "x = [0.99838816 0.99612352]のとき最小値 : 7.72661003712857e-06\n"
          ],
          "name": "stdout"
        }
      ]
    },
    {
      "cell_type": "markdown",
      "metadata": {
        "id": "PfWdTx53UWyd"
      },
      "source": [
        "### 例題1.7 線形制約　　\n",
        "坂和、西崎 数理計画法入門 (森北) P5 例1.3 \n",
        "\n",
        "目的関数(Maximize) : $-x_1^2 -x_2^2 +4x_1 + 11x_2$  \n",
        "Subject to:  \n",
        "$2x_1 + 6x_2 \\leq 27$  \n",
        "$3x_1 + 2x_2 \\leq 16$  \n",
        "$4x_1 + x_2 \\leq 18$  \n",
        "$x_1 \\geq 0, x_2 \\geq 0$\n",
        "\n",
        "線形制約条件\n",
        "$  \n",
        "\\left(\n",
        "\\begin{array}{r}\n",
        "-\\infty \\\\\n",
        "-\\infty \\\\\n",
        "-\\infty \\\\\n",
        "0 \\\\\n",
        "0 \\\\\n",
        "\\end{array}\n",
        "\\right)\n",
        "\\leq\n",
        "\\left(\n",
        "\\begin{array}{rr}\n",
        "2 & 6 \\\\\n",
        "3 & 2 \\\\\n",
        "4 & 1 \\\\\n",
        "1 & 0 \\\\\n",
        "0 & 1 \\\\\n",
        "\\end{array}\n",
        "\\right)\n",
        "\\left(\n",
        "\\begin{array}{r}\n",
        "x_1 \\\\\n",
        "x_2 \\\\\n",
        "\\end{array}\n",
        "\\right)\n",
        "\\leq \n",
        "\\left(\n",
        "\\begin{array}{r}\n",
        "27 \\\\\n",
        "16 \\\\\n",
        "18 \\\\\n",
        "\\infty \\\\\n",
        "\\infty \\\\\n",
        "\\end{array}\n",
        "\\right)\n",
        "$\n",
        "\n",
        "最適解は$(x_1, x_2) = (1.5, 4)$のとき、最大値31.75"
      ]
    },
    {
      "cell_type": "code",
      "metadata": {
        "id": "rdtp2L80W9qy"
      },
      "source": [
        "#目的関数(最大化なので-1をかけている)\n",
        "def f1_7(x):\n",
        "    return -(- x[0]**2 - x[1]**2 + 4 * x[0] + 11 * x[1])"
      ],
      "execution_count": 1,
      "outputs": []
    },
    {
      "cell_type": "code",
      "metadata": {
        "id": "plS1xul6XdgR"
      },
      "source": [
        "#線形制約\n",
        "A = np.array([[2,6],[3,2],[4,1],[1,0],[0,1]])\n",
        "lb = np.array([-np.inf,-np.inf,-np.inf,0,0])\n",
        "ub = np.array([27,16,18,np.inf,np.inf])\n",
        "linear_constraint = LinearConstraint(A, lb, ub)"
      ],
      "execution_count": 3,
      "outputs": []
    },
    {
      "cell_type": "code",
      "metadata": {
        "colab": {
          "base_uri": "https://localhost:8080/"
        },
        "id": "_s8l0h-dXy8w",
        "outputId": "cf73a87f-4897-44b8-f2ef-1761e74efb8c"
      },
      "source": [
        "x0 = np.array([0.5, 0.5])\n",
        "res = minimize(f1_7, x0, method='trust-constr', jac=\"2-point\", hess=BFGS(),\n",
        "               constraints=[linear_constraint],\n",
        "               options={'verbose': 2})\n",
        "print(res.x)\n",
        "print('x = {0}のとき最小値 : {1}'.format(res.x,f1_7(res.x)))"
      ],
      "execution_count": 4,
      "outputs": [
        {
          "output_type": "stream",
          "text": [
            "| niter |f evals|CG iter|  obj func   |tr radius |   opt    |  c viol  |\n",
            "|-------|-------|-------|-------------|----------|----------|----------|\n",
            "|   1   |   3   |   0   | -7.0000e+00 | 1.00e+00 | 4.91e+00 | 0.00e+00 |\n",
            "|   2   |   6   |   1   | -1.3200e+01 | 7.00e+00 | 4.53e+00 | 0.00e+00 |\n",
            "|   3   |   9   |   3   | -3.1654e+01 | 2.97e+01 | 1.96e-01 | 0.00e+00 |\n",
            "|   4   |  12   |   4   | -3.1700e+01 | 2.97e+01 | 1.84e-03 | 0.00e+00 |\n",
            "|   5   |  12   |   4   | -3.1700e+01 | 1.49e+02 | 1.65e-02 | 0.00e+00 |\n",
            "|   6   |  15   |   6   | -3.1730e+01 | 1.49e+02 | 2.70e-05 | 0.00e+00 |\n",
            "|   7   |  15   |   6   | -3.1730e+01 | 7.44e+02 | 3.87e-03 | 0.00e+00 |\n",
            "|   8   |  18   |   8   | -3.1746e+01 | 7.44e+02 | 3.48e-06 | 0.00e+00 |\n",
            "|   9   |  18   |   8   | -3.1746e+01 | 3.72e+03 | 7.82e-04 | 0.00e+00 |\n",
            "|  10   |  21   |  10   | -3.1749e+01 | 3.72e+03 | 1.00e-07 | 0.00e+00 |\n",
            "|  11   |  21   |  10   | -3.1749e+01 | 1.86e+04 | 1.56e-04 | 0.00e+00 |\n",
            "|  12   |  24   |  12   | -3.1750e+01 | 1.86e+04 | 1.65e-08 | 0.00e+00 |\n",
            "|  13   |  24   |  12   | -3.1750e+01 | 9.29e+04 | 3.13e-05 | 0.00e+00 |\n",
            "|  14   |  27   |  14   | -3.1750e+01 | 9.29e+04 | 5.14e-11 | 0.00e+00 |\n",
            "\n",
            "`gtol` termination condition is satisfied.\n",
            "Number of iterations: 14, function evaluations: 27, CG iterations: 14, optimality: 5.14e-11, constraint violation: 0.00e+00, execution time: 0.065 s.\n",
            "[1.49998899 3.999993  ]\n",
            "x = [1.49998899 3.999993  ]のとき最小値 : -31.749967997545347\n"
          ],
          "name": "stdout"
        }
      ]
    },
    {
      "cell_type": "markdown",
      "metadata": {
        "id": "DTE2B7W7uow_"
      },
      "source": [
        "### **参考 (多変数、線形制約)**\n",
        "  https://qiita.com/shotoyoo/items/83297f959e1922465288  \n",
        "$f(x_1, x_2) = x_1^2 -x_2^2 + x_1 x_2 - x_1 +x_2$  \n",
        "\n",
        "制約条件(線形制約の場合)  \n",
        "$0 \\leq x_1 + x_ 2 \\leq 1$  \n",
        "$0 \\leq x_1 \\leq 1$  \n",
        "$0 \\leq x_2 \\leq 1$  \n",
        "\n",
        "$  \n",
        "\\left(\n",
        "\\begin{array}{r}\n",
        "0 \\\\\n",
        "0 \\\\\n",
        "0 \\\\\n",
        "\\end{array}\n",
        "\\right)\n",
        "\\leq\n",
        "\\left(\n",
        "\\begin{array}{rr}\n",
        "1 & 1 \\\\\n",
        "1 & 0 \\\\\n",
        "0 & 1 \\\\\n",
        "\\end{array}\n",
        "\\right)\n",
        "\\left(\n",
        "\\begin{array}{r}\n",
        "x_1 \\\\\n",
        "x_2 \\\\\n",
        "\\end{array}\n",
        "\\right)\n",
        "\\leq \n",
        "\\left(\n",
        "\\begin{array}{r}\n",
        "1 \\\\\n",
        "1 \\\\\n",
        "1 \\\\\n",
        "\\end{array}\n",
        "\\right)\n",
        "$"
      ]
    },
    {
      "cell_type": "code",
      "metadata": {
        "id": "wXLUgYlftvxg"
      },
      "source": [
        "def f(x):\n",
        "    return x[0]**2 - x[1]**2 + x[0]*x[1] - x[0] + x[1]"
      ],
      "execution_count": null,
      "outputs": []
    },
    {
      "cell_type": "code",
      "metadata": {
        "id": "wJj4eUv7_GIX"
      },
      "source": [
        "x0 = np.array([0,0], dtype=float)\n",
        "# 制約: 各変数と両者の和が[0,1]という線形制約\n",
        "A = np.array([[1,1],[1,0],[0,1]])\n",
        "lb = np.array([0,0,0])\n",
        "ub = np.array([1,1,1])\n",
        "const = LinearConstraint(A, lb, ub)"
      ],
      "execution_count": null,
      "outputs": []
    },
    {
      "cell_type": "code",
      "metadata": {
        "colab": {
          "base_uri": "https://localhost:8080/"
        },
        "id": "NISlxnCG_PER",
        "outputId": "963d51b0-6d6c-45c5-b7bb-d29af6017483"
      },
      "source": [
        "# 最適化\n",
        "res = minimize(f,                       # 目的関数, \n",
        "                x0,                     # 初期解,\n",
        "                method=\"trust-constr\",  # 制約付き信頼領域法\n",
        "                jac=\"2-point\",          # 勾配関数\n",
        "                hess=BFGS(),            # ヘシアンの推定方法\n",
        "                constraints=const,      # 制約\n",
        "                options={\"maxiter\": 50, # 最大反復数\n",
        "                         \"verbose\":2})  # 最適化の過程を出力\n",
        "print(res[\"x\"])"
      ],
      "execution_count": null,
      "outputs": [
        {
          "output_type": "stream",
          "text": [
            "| niter |f evals|CG iter|  obj func   |tr radius |   opt    |  c viol  |\n",
            "|-------|-------|-------|-------------|----------|----------|----------|\n",
            "|   1   |   3   |   0   | +0.0000e+00 | 1.00e+00 | 4.22e-01 | 0.00e+00 |\n",
            "|   2   |   6   |   1   | -4.3704e-01 | 7.00e+00 | 1.45e-01 | 1.26e-01 |\n",
            "|   3   |   9   |   3   | -3.2247e-01 | 7.00e+00 | 2.64e-02 | 5.66e-02 |\n",
            "|   4   |   9   |   3   | -3.2247e-01 | 3.50e+01 | 1.67e-02 | 5.66e-02 |\n",
            "|   5   |  12   |   5   | -2.2604e-01 | 3.84e+01 | 1.03e-02 | 0.00e+00 |\n",
            "|   6   |  15   |   6   | -2.3191e-01 | 3.84e+01 | 3.00e-03 | 0.00e+00 |\n",
            "|   7   |  15   |   6   | -2.3191e-01 | 1.92e+02 | 2.76e-03 | 0.00e+00 |\n",
            "|   8   |  18   |   8   | -2.4576e-01 | 1.92e+02 | 5.57e-05 | 0.00e+00 |\n",
            "|   9   |  18   |   8   | -2.4576e-01 | 9.60e+02 | 5.86e-05 | 0.00e+00 |\n",
            "|  10   |  21   |  10   | -2.4919e-01 | 9.60e+02 | 1.73e-04 | 0.00e+00 |\n",
            "|  11   |  21   |  10   | -2.4919e-01 | 4.80e+03 | 1.72e-04 | 0.00e+00 |\n",
            "|  12   |  24   |  12   | -2.4984e-01 | 4.80e+03 | 8.53e-05 | 0.00e+00 |\n",
            "|  13   |  27   |  13   | -2.4984e-01 | 4.80e+03 | 3.80e-05 | 0.00e+00 |\n",
            "|  14   |  27   |  13   | -2.4984e-01 | 2.40e+04 | 3.79e-05 | 0.00e+00 |\n",
            "|  15   |  30   |  15   | -2.4997e-01 | 2.40e+04 | 1.16e-08 | 0.00e+00 |\n",
            "|  16   |  30   |  15   | -2.4997e-01 | 1.20e+05 | 1.14e-08 | 0.00e+00 |\n",
            "|  17   |  33   |  17   | -2.4999e-01 | 1.20e+05 | 7.01e-07 | 0.00e+00 |\n",
            "|  18   |  33   |  17   | -2.4999e-01 | 6.00e+05 | 7.00e-07 | 0.00e+00 |\n",
            "|  19   |  36   |  19   | -2.5000e-01 | 6.00e+05 | 2.06e-07 | 0.00e+00 |\n",
            "|  20   |  36   |  19   | -2.5000e-01 | 3.00e+06 | 2.06e-07 | 0.00e+00 |\n",
            "|  21   |  39   |  21   | -2.5000e-01 | 3.00e+06 | 8.83e-08 | 0.00e+00 |\n",
            "|  22   |  39   |  21   | -2.5000e-01 | 1.50e+07 | 8.83e-08 | 0.00e+00 |\n",
            "|  23   |  42   |  23   | -2.5000e-01 | 1.50e+07 | 3.76e-08 | 0.00e+00 |\n",
            "|  24   |  45   |  24   | -2.5000e-01 | 1.50e+07 | 4.93e-09 | 0.00e+00 |\n",
            "\n",
            "`gtol` termination condition is satisfied.\n",
            "Number of iterations: 24, function evaluations: 45, CG iterations: 24, optimality: 4.93e-09, constraint violation: 0.00e+00, execution time: 0.075 s.\n",
            "[4.99999933e-01 3.41331925e-08]\n"
          ],
          "name": "stdout"
        }
      ]
    },
    {
      "cell_type": "code",
      "metadata": {
        "id": "5ngqISgr_Q9R"
      },
      "source": [
        ""
      ],
      "execution_count": null,
      "outputs": []
    }
  ]
}