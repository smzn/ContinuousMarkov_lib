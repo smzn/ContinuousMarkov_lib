{
 "cells": [
  {
   "cell_type": "markdown",
   "metadata": {},
   "source": [
    "# 非線形計画法をpythonで実行するための方法"
   ]
  },
  {
   "cell_type": "markdown",
   "metadata": {},
   "source": [
    "## 1. 非線形計画法 : 制約無し (目的関数が非線形)  \n",
    "Unconstrained minimization of multivariate scalar functions (minimize)  \n",
    "今回は  \n",
    "from scipy.optimize import minimize  \n",
    "でscipy.optimize を利用する。  \n",
    "https://docs.scipy.org/doc/scipy/reference/tutorial/optimize.html#unconstrained-minimization-of-multivariate-scalar-functions-minimize  \n",
    "今回は、Nelder-Mead Simplex algorithm (method='Nelder-Mead')を利用する  \n",
    "https://docs.scipy.org/doc/scipy/reference/optimize.minimize-neldermead.html"
   ]
  },
  {
   "cell_type": "markdown",
   "metadata": {},
   "source": [
    "### 例題1.1 ローゼンブロック関数 $f(x) = \\sum_{i = 1}^{N-1}(100(x_{i+1} - x_i^2)^2 + (1 - x_i)^2)$  の最小値を求める。理論値は$x = 1$となる。"
   ]
  },
  {
   "cell_type": "code",
   "execution_count": 1,
   "metadata": {},
   "outputs": [],
   "source": [
    "import numpy as np\n",
    "from scipy.optimize import minimize"
   ]
  },
  {
   "cell_type": "code",
   "execution_count": 3,
   "metadata": {},
   "outputs": [],
   "source": [
    "def rosenbrock(x):\n",
    "    value = 0\n",
    "    for i in range(len(x)-1):\n",
    "        value += 100 * (x[i+1] - x[i])**2 + (1 - x[i])**2.0\n",
    "    return value"
   ]
  },
  {
   "cell_type": "code",
   "execution_count": 12,
   "metadata": {},
   "outputs": [
    {
     "name": "stdout",
     "output_type": "stream",
     "text": [
      "Optimization terminated successfully.\n",
      "         Current function value: 0.000000\n",
      "         Iterations: 456\n",
      "         Function evaluations: 735\n",
      "[1. 1. 1. 1. 1.]\n"
     ]
    }
   ],
   "source": [
    "x0 = np.array([1.3, 0.7, 0.8, 1.9, 1.2]) #5変数で実施する。今回の初期値\n",
    "res = minimize(rosenbrock, #目的関数\n",
    "               x0, #初期値 \n",
    "               method='nelder-mead', #最適化手法(今回は'Nelder-Mead')\n",
    "               options={'xatol': 1e-8, #収束判定値(Nelder-Mead法)\n",
    "                        'disp': True, #結果表示\n",
    "                        'maxiter': 500 #繰り返し回数\n",
    "                       })\n",
    "print(res['x'])"
   ]
  },
  {
   "cell_type": "markdown",
   "metadata": {},
   "source": [
    "### 例題1.2 $f(x_1, x_2) = \\frac{1}{2}(x_1 - x_2^2)^2 + \\frac{1}{4}(x_2 - 2)^4$  \n",
    "最小解は$(x_1, x_2) = (4, 2)$  \n",
    "矢部博 八巻直一, 非線形計画法, 朝倉書店, 1999, P32"
   ]
  },
  {
   "cell_type": "code",
   "execution_count": 14,
   "metadata": {},
   "outputs": [],
   "source": [
    "def f1_2(x):\n",
    "    return 1 / 2 * (x[0] - x[1]**2)**2 + 1 / 4 * (x[1] - 2)**4"
   ]
  },
  {
   "cell_type": "code",
   "execution_count": 16,
   "metadata": {},
   "outputs": [
    {
     "name": "stdout",
     "output_type": "stream",
     "text": [
      "Optimization terminated successfully.\n",
      "         Current function value: 0.000000\n",
      "         Iterations: 124\n",
      "         Function evaluations: 240\n",
      "[4.00000008 2.00000002]\n"
     ]
    }
   ],
   "source": [
    "x0 = np.array([1.3, 0.7]) #5変数で実施する。今回の初期値\n",
    "res = minimize(f1_2, #目的関数\n",
    "               x0, #初期値 \n",
    "               method='nelder-mead', #最適化手法(今回は'Nelder-Mead')\n",
    "               options={'xatol': 1e-8, #収束判定値(Nelder-Mead法)\n",
    "                        'disp': True, #結果表示\n",
    "                        'maxiter': 500 #繰り返し回数\n",
    "                       })\n",
    "print(res['x'])"
   ]
  },
  {
   "cell_type": "markdown",
   "metadata": {},
   "source": [
    "### 例題1.3 $f(x_1, x_2) = x_1^2 + (x_2 - 1)^4 + x_1$\n",
    "最小解は$(x_1, x_2) = (-\\frac{1}{2}, 1)$  \n",
    "矢部博 八巻直一, 非線形計画法, 朝倉書店, 1999, P128"
   ]
  },
  {
   "cell_type": "code",
   "execution_count": 17,
   "metadata": {},
   "outputs": [],
   "source": [
    "def f1_3(x):\n",
    "    return x[0]**2 + (x[1] - 1)**4 + x[0]"
   ]
  },
  {
   "cell_type": "code",
   "execution_count": 18,
   "metadata": {},
   "outputs": [
    {
     "name": "stdout",
     "output_type": "stream",
     "text": [
      "Optimization terminated successfully.\n",
      "         Current function value: -0.250000\n",
      "         Iterations: 77\n",
      "         Function evaluations: 174\n",
      "[-0.5         1.00002561]\n"
     ]
    }
   ],
   "source": [
    "x0 = np.array([1.3, 0.7]) #5変数で実施する。今回の初期値\n",
    "res = minimize(f1_3, #目的関数\n",
    "               x0, #初期値 \n",
    "               method='nelder-mead', #最適化手法(今回は'Nelder-Mead')\n",
    "               options={'xatol': 1e-8, #収束判定値(Nelder-Mead法)\n",
    "                        'disp': True, #結果表示\n",
    "                        'maxiter': 500 #繰り返し回数\n",
    "                       })\n",
    "print(res['x'])"
   ]
  },
  {
   "cell_type": "markdown",
   "metadata": {},
   "source": [
    "### 例題1.4 $f(\\mathbf{x}) = \\sum_{i = 1}^{n-1}(x_{i} - x_{i+1})^4 + \\sum_{i=1}^n (x_i - 1)^2$\n",
    "最小解は$\\mathbf{x}^* = (1, 1, \\cdots, 1)$  \n",
    "$n = 10$, 初期値 $x_0 = (-1, -1, \\cdots, -1, 0)$  \n",
    "矢部博 八巻直一, 非線形計画法, 朝倉書店, 1999, P131"
   ]
  },
  {
   "cell_type": "code",
   "execution_count": 19,
   "metadata": {},
   "outputs": [],
   "source": [
    "def f1_4(x):\n",
    "    sum0 = 0\n",
    "    sum1 = 0\n",
    "    for i in range(len(x)):\n",
    "        if i < len(x) - 1:\n",
    "            sum0 += (x[i] - x[i+1])**4\n",
    "        sum1 += (x[0] - 1)**2\n",
    "    return sum0 + sum1"
   ]
  },
  {
   "cell_type": "code",
   "execution_count": 22,
   "metadata": {},
   "outputs": [
    {
     "name": "stdout",
     "output_type": "stream",
     "text": [
      "Optimization terminated successfully.\n",
      "         Current function value: 0.000000\n",
      "         Iterations: 7212\n",
      "         Function evaluations: 10001\n",
      "[1.         0.99999981 0.99999988 0.99999995 0.99999985 0.99999976\n",
      " 0.99999959 0.9999995  0.99999933 0.99999945]\n"
     ]
    }
   ],
   "source": [
    "x0 = np.array([-1, -1, -1, -1, -1, -1, -1, -1, -1, 0]) #5変数で実施する。今回の初期値\n",
    "res = minimize(f1_4, #目的関数\n",
    "               x0, #初期値 \n",
    "               method='nelder-mead', #最適化手法(今回は'Nelder-Mead')\n",
    "               options={'xatol': 1e-8, #収束判定値(Nelder-Mead法)\n",
    "                        'disp': True, #結果表示\n",
    "                        'maxiter': 10000 #繰り返し回数\n",
    "                       })\n",
    "print(res['x'])"
   ]
  },
  {
   "cell_type": "code",
   "execution_count": null,
   "metadata": {},
   "outputs": [],
   "source": []
  }
 ],
 "metadata": {
  "kernelspec": {
   "display_name": "Python 3",
   "language": "python",
   "name": "python3"
  },
  "language_info": {
   "codemirror_mode": {
    "name": "ipython",
    "version": 3
   },
   "file_extension": ".py",
   "mimetype": "text/x-python",
   "name": "python",
   "nbconvert_exporter": "python",
   "pygments_lexer": "ipython3",
   "version": "3.8.3"
  }
 },
 "nbformat": 4,
 "nbformat_minor": 4
}
