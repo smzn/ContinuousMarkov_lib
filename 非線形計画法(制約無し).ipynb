{
  "nbformat": 4,
  "nbformat_minor": 0,
  "metadata": {
    "kernelspec": {
      "display_name": "Python 3",
      "language": "python",
      "name": "python3"
    },
    "language_info": {
      "codemirror_mode": {
        "name": "ipython",
        "version": 3
      },
      "file_extension": ".py",
      "mimetype": "text/x-python",
      "name": "python",
      "nbconvert_exporter": "python",
      "pygments_lexer": "ipython3",
      "version": "3.8.3"
    },
    "colab": {
      "name": "非線形計画法(制約無し).ipynb",
      "provenance": [],
      "collapsed_sections": []
    }
  },
  "cells": [
    {
      "cell_type": "markdown",
      "metadata": {
        "id": "6a54WxjPimLH"
      },
      "source": [
        "# 非線形計画法をpythonで実行するための方法"
      ]
    },
    {
      "cell_type": "markdown",
      "metadata": {
        "id": "YH0kWB9bimLJ"
      },
      "source": [
        "## 1. 非線形計画法 : 制約無し (目的関数が非線形)  \n",
        "Unconstrained minimization of multivariate scalar functions (minimize)  \n",
        "今回は  \n",
        "from scipy.optimize import minimize  \n",
        "でscipy.optimize を利用する。  \n",
        "https://docs.scipy.org/doc/scipy/reference/tutorial/optimize.html#unconstrained-minimization-of-multivariate-scalar-functions-minimize  \n",
        "今回は、Nelder-Mead Simplex algorithm (method='Nelder-Mead')を利用する  \n",
        "https://docs.scipy.org/doc/scipy/reference/optimize.minimize-neldermead.html"
      ]
    },
    {
      "cell_type": "markdown",
      "metadata": {
        "id": "0Il-eB46imLK"
      },
      "source": [
        "### 例題1.1 ローゼンブロック関数 $f(x) = \\sum_{i = 1}^{N-1}(100(x_{i+1} - x_i^2)^2 + (1 - x_i)^2)$  の最小値を求める。理論値は$x = 1$となる。"
      ]
    },
    {
      "cell_type": "code",
      "metadata": {
        "id": "ZwhKywSWimLK"
      },
      "source": [
        "import numpy as np\n",
        "from scipy.optimize import minimize"
      ],
      "execution_count": 59,
      "outputs": []
    },
    {
      "cell_type": "code",
      "metadata": {
        "id": "IxOOJYtSimLL"
      },
      "source": [
        "def rosenbrock(x):\n",
        "    value = 0\n",
        "    for i in range(len(x)-1):\n",
        "        value += 100 * (x[i+1] - x[i])**2 + (1 - x[i])**2.0\n",
        "    return value"
      ],
      "execution_count": 60,
      "outputs": []
    },
    {
      "cell_type": "code",
      "metadata": {
        "colab": {
          "base_uri": "https://localhost:8080/"
        },
        "id": "PnaGyJbXimLM",
        "outputId": "dc8c54eb-8f50-46de-c7ab-dece406cdeed"
      },
      "source": [
        "x0 = np.array([1.3, 0.7, 0.8, 1.9, 1.2]) #5変数で実施する。今回の初期値\n",
        "res = minimize(rosenbrock, #目的関数\n",
        "               x0, #初期値 \n",
        "               method='nelder-mead', #最適化手法(今回は'Nelder-Mead')\n",
        "               options={'xatol': 1e-8, #収束判定値(Nelder-Mead法)\n",
        "                        'disp': True, #結果表示\n",
        "                        'maxiter': 500 #繰り返し回数\n",
        "                       })\n",
        "print(res['x'])"
      ],
      "execution_count": 61,
      "outputs": [
        {
          "output_type": "stream",
          "text": [
            "Optimization terminated successfully.\n",
            "         Current function value: 0.000000\n",
            "         Iterations: 456\n",
            "         Function evaluations: 735\n",
            "[1. 1. 1. 1. 1.]\n"
          ],
          "name": "stdout"
        }
      ]
    },
    {
      "cell_type": "markdown",
      "metadata": {
        "id": "k02xbzqximLN"
      },
      "source": [
        "### 例題1.2 $f(x_1, x_2) = \\frac{1}{2}(x_1 - x_2^2)^2 + \\frac{1}{4}(x_2 - 2)^4$  \n",
        "最小解は$(x_1, x_2) = (4, 2)$  \n",
        "矢部博 八巻直一, 非線形計画法, 朝倉書店, 1999, P32"
      ]
    },
    {
      "cell_type": "code",
      "metadata": {
        "id": "5jtEtBx3imLO"
      },
      "source": [
        "def f1_2(x):\n",
        "    return 1 / 2 * (x[0] - x[1]**2)**2 + 1 / 4 * (x[1] - 2)**4"
      ],
      "execution_count": 62,
      "outputs": []
    },
    {
      "cell_type": "code",
      "metadata": {
        "colab": {
          "base_uri": "https://localhost:8080/"
        },
        "id": "D0URnlcuimLP",
        "outputId": "e903f059-2bd5-4a45-c3aa-0af8606e42df"
      },
      "source": [
        "x0 = np.array([1.3, 0.7]) #2変数で実施する。今回の初期値\n",
        "res = minimize(f1_2, #目的関数\n",
        "               x0, #初期値 \n",
        "               method='nelder-mead', #最適化手法(今回は'Nelder-Mead')\n",
        "               options={'xatol': 1e-8, #収束判定値(Nelder-Mead法)\n",
        "                        'disp': True, #結果表示\n",
        "                        'maxiter': 500 #繰り返し回数\n",
        "                       })\n",
        "print(res['x'])"
      ],
      "execution_count": 63,
      "outputs": [
        {
          "output_type": "stream",
          "text": [
            "Optimization terminated successfully.\n",
            "         Current function value: 0.000000\n",
            "         Iterations: 124\n",
            "         Function evaluations: 240\n",
            "[4.00000008 2.00000002]\n"
          ],
          "name": "stdout"
        }
      ]
    },
    {
      "cell_type": "markdown",
      "metadata": {
        "id": "Ks8DvD7wimLQ"
      },
      "source": [
        "### 例題1.3 $f(x_1, x_2) = x_1^2 + (x_2 - 1)^4 + x_1$\n",
        "最小解は$(x_1, x_2) = (-\\frac{1}{2}, 1)$  \n",
        "矢部博 八巻直一, 非線形計画法, 朝倉書店, 1999, P128"
      ]
    },
    {
      "cell_type": "code",
      "metadata": {
        "id": "L7TcAeagimLQ"
      },
      "source": [
        "def f1_3(x):\n",
        "    return x[0]**2 + (x[1] - 1)**4 + x[0]"
      ],
      "execution_count": 64,
      "outputs": []
    },
    {
      "cell_type": "code",
      "metadata": {
        "colab": {
          "base_uri": "https://localhost:8080/"
        },
        "id": "LBVzGlKbimLQ",
        "outputId": "20e61cb4-e198-4cd8-c2ea-75f12d7f3f1f"
      },
      "source": [
        "x0 = np.array([1.3, 0.7]) #2変数で実施する。今回の初期値\n",
        "res = minimize(f1_3, #目的関数\n",
        "               x0, #初期値 \n",
        "               method='nelder-mead', #最適化手法(今回は'Nelder-Mead')\n",
        "               options={'xatol': 1e-8, #収束判定値(Nelder-Mead法)\n",
        "                        'disp': True, #結果表示\n",
        "                        'maxiter': 500 #繰り返し回数\n",
        "                       })\n",
        "print(res['x'])"
      ],
      "execution_count": 65,
      "outputs": [
        {
          "output_type": "stream",
          "text": [
            "Optimization terminated successfully.\n",
            "         Current function value: -0.250000\n",
            "         Iterations: 77\n",
            "         Function evaluations: 174\n",
            "[-0.5         1.00002561]\n"
          ],
          "name": "stdout"
        }
      ]
    },
    {
      "cell_type": "markdown",
      "metadata": {
        "id": "vUiFgGYOimLR"
      },
      "source": [
        "### 例題1.4 $f(\\mathbf{x}) = \\sum_{i = 1}^{n-1}(x_{i} - x_{i+1})^4 + \\sum_{i=1}^n (x_i - 1)^2$\n",
        "最小解は$\\mathbf{x}^* = (1, 1, \\cdots, 1)$  \n",
        "$n = 10$, 初期値 $x_0 = (-1, -1, \\cdots, -1, 0)$  \n",
        "矢部博 八巻直一, 非線形計画法, 朝倉書店, 1999, P131"
      ]
    },
    {
      "cell_type": "code",
      "metadata": {
        "id": "T3pMZHkmimLR"
      },
      "source": [
        "def f1_4(x):\n",
        "    sum0 = 0\n",
        "    sum1 = 0\n",
        "    for i in range(len(x)):\n",
        "        if i < len(x) - 1:\n",
        "            sum0 += (x[i] - x[i+1])**4\n",
        "        sum1 += (x[0] - 1)**2\n",
        "    return sum0 + sum1"
      ],
      "execution_count": 66,
      "outputs": []
    },
    {
      "cell_type": "code",
      "metadata": {
        "colab": {
          "base_uri": "https://localhost:8080/"
        },
        "id": "CoaF6r-CimLS",
        "outputId": "ebbafa48-b854-453d-9dde-e57f9648d8a8"
      },
      "source": [
        "x0 = np.array([-1, -1, -1, -1, -1, -1, -1, -1, -1, 0]) #10変数で実施する。今回の初期値\n",
        "res = minimize(f1_4, #目的関数\n",
        "               x0, #初期値 \n",
        "               method='nelder-mead', #最適化手法(今回は'Nelder-Mead')\n",
        "               options={'xatol': 1e-8, #収束判定値(Nelder-Mead法)\n",
        "                        'disp': True, #結果表示\n",
        "                        'maxiter': 10000 #繰り返し回数\n",
        "                       })\n",
        "print(res['x'])"
      ],
      "execution_count": 67,
      "outputs": [
        {
          "output_type": "stream",
          "text": [
            "Optimization terminated successfully.\n",
            "         Current function value: 0.000000\n",
            "         Iterations: 7212\n",
            "         Function evaluations: 10001\n",
            "[1.         0.99999981 0.99999988 0.99999995 0.99999985 0.99999976\n",
            " 0.99999959 0.9999995  0.99999933 0.99999945]\n"
          ],
          "name": "stdout"
        }
      ]
    },
    {
      "cell_type": "markdown",
      "metadata": {
        "id": "JJwPQUjtjPBr"
      },
      "source": [
        "### 例題1.5 $f(x) = 2x_1^2 - x_1x_2 + 2x_2^2$  \n",
        "初期点 $(x_1, x_2) = (2, 3)$、最適解は $(x_1, x_2) = (0, 0)$のとき  \n",
        "坂和、西崎 : 数理計画法入門、森北出版、P126 例4.11"
      ]
    },
    {
      "cell_type": "code",
      "metadata": {
        "id": "ZY_tGVrLimLS"
      },
      "source": [
        "def f1_5(x):\n",
        "  return 2 * x[0]**2 -x[0] * x[1] + 2 * x[1]**2"
      ],
      "execution_count": 68,
      "outputs": []
    },
    {
      "cell_type": "code",
      "metadata": {
        "colab": {
          "base_uri": "https://localhost:8080/"
        },
        "id": "eWJMik52kI9a",
        "outputId": "547f678a-abc8-45df-debb-ce18a394d9f4"
      },
      "source": [
        "x0 = np.array([2, 3]) #2変数で実施する。今回の初期値\n",
        "res = minimize(f1_5, #目的関数\n",
        "               x0, #初期値 \n",
        "               method='nelder-mead', #最適化手法(今回は'Nelder-Mead')\n",
        "               options={'xatol': 1e-8, #収束判定値(Nelder-Mead法)\n",
        "                        'disp': True, #結果表示\n",
        "                        'maxiter': 10000 #繰り返し回数\n",
        "                       })\n",
        "print(res['x'])"
      ],
      "execution_count": 69,
      "outputs": [
        {
          "output_type": "stream",
          "text": [
            "Optimization terminated successfully.\n",
            "         Current function value: 0.000000\n",
            "         Iterations: 70\n",
            "         Function evaluations: 135\n",
            "[ 5.34851632e-10 -3.86452770e-09]\n"
          ],
          "name": "stdout"
        }
      ]
    },
    {
      "cell_type": "markdown",
      "metadata": {
        "id": "3juTeVgteZEE"
      },
      "source": [
        "## ニュートン法について\n",
        "ニュートン法の公式  \n",
        "$H \\Delta x = -\\nabla f$  \n",
        "$\\Delta x = -H^{-1} \\nabla f$  \n",
        "ニュートン法の更新式  \n",
        "$x_{n + 1} = x_n - H^{-1} \\nabla f$"
      ]
    },
    {
      "cell_type": "code",
      "metadata": {
        "id": "pIx8e9pGkRiG"
      },
      "source": [
        "import sympy\n",
        "def custom_latex_printer(exp,**options):\n",
        "    from google.colab.output._publish import javascript\n",
        "    url = \"https://cdnjs.cloudflare.com/ajax/libs/mathjax/2.7.3/latest.js?config=default\"\n",
        "    javascript(url=url)\n",
        "    return sympy.printing.latex(exp,**options)\n",
        "\n",
        "sympy.init_printing(use_latex=\"mathjax\",latex_printer=custom_latex_printer)"
      ],
      "execution_count": 70,
      "outputs": []
    },
    {
      "cell_type": "markdown",
      "metadata": {
        "id": "LO7jFoNCTfsU"
      },
      "source": [
        "### ニュートン法アルゴリズム\n",
        "\n",
        "\n",
        "1.   $x$の初期値を与える\n",
        "2.   勾配$\\nabla f$とヘッセ行列$H$の$x$における値を計算する\n",
        "3.   次の連立方程式の解$\\Delta x$を計算する。またはヘッセ行列の逆行列$H^{-1}$を求めて、$\\Delta x = -H^{-1}\\nabla f$を計算する\n",
        "4.   $x$を次の式で更新する。$x \\leftarrow x + \\Delta x$または、$x \\leftarrow x - H^{-1}\\nabla f$\n",
        "5.   $||\\Delta x|| < \\delta$ なら$x$を返して終了する。そうでなければステップ2に戻る\n",
        "\n",
        "金谷、これならわかる最適化数学、共立出版、P90 アルゴリズム3.4 多変数のニュートン法\n",
        "\n",
        "ニュートン法は収束が非常に速い優れた方法であるが、欠点が２つある。\n",
        "\n",
        "\n",
        "1.   ヘッセ行列を計算するために、全ての2階導関数が必要になる\n",
        "2.   ヘッセ行列からその逆関数を計算しなければならない。逆行列を計算することは連立１次方程式の回を求めることに等価であり、一般には$n$個の変数に対して、$n^3$に比例する回数の演算が必要になる。\n",
        "\n",
        "\n",
        "\n",
        "\n",
        "\n",
        "\n"
      ]
    },
    {
      "cell_type": "markdown",
      "metadata": {
        "id": "HE6hczdA_8Ap"
      },
      "source": [
        "### 例題1.6 ニュートン法\n",
        "数理計画法入門、森北 P129 例4.12  \n",
        "$f(x) = 2x_1^2 - x_1 x_2 + 2x_2^2$  \n",
        "最適解 $(x_1, x_2) = (0, 0)$\n",
        "\n",
        "ニュートン法では、ヘッセ行列の逆行列を計算するので、1回当たりの計算量が多くて、しかもかなりの記憶容量を必要とする欠点がある。またヘッセ行列が正定でなければ、降下方向を定めるために行列に修正を施さなければならない。"
      ]
    },
    {
      "cell_type": "code",
      "metadata": {
        "colab": {
          "base_uri": "https://localhost:8080/",
          "height": 39
        },
        "id": "o6jcvJQ7-ky3",
        "outputId": "1a6ffa8a-f660-48a1-dc2c-87de7679b94d"
      },
      "source": [
        "sympy.var('x1')\n",
        "sympy.var('x2')\n",
        "f = 2*x1**2 -x1*x2 + 2*x2**2 #数理計画法入門\n",
        "f "
      ],
      "execution_count": 71,
      "outputs": [
        {
          "output_type": "display_data",
          "data": {
            "text/html": [
              "<script src='https://cdnjs.cloudflare.com/ajax/libs/mathjax/2.7.3/latest.js?config=default'></script>"
            ],
            "text/plain": [
              "<IPython.core.display.HTML object>"
            ]
          },
          "metadata": {}
        },
        {
          "output_type": "execute_result",
          "data": {
            "text/latex": "$\\displaystyle 2 x_{1}^{2} - x_{1} x_{2} + 2 x_{2}^{2}$",
            "text/plain": [
              "    2               2\n",
              "2⋅x₁  - x₁⋅x₂ + 2⋅x₂ "
            ]
          },
          "metadata": {},
          "execution_count": 71
        }
      ]
    },
    {
      "cell_type": "code",
      "metadata": {
        "id": "dsMlUf4b_tua"
      },
      "source": [
        "#微分\n",
        "dfx1 = sympy.diff(f, x1, 1)\n",
        "dfx2 = sympy.diff(f, x2, 1)\n",
        "d2fx1 = sympy.diff(f, x1, 2)\n",
        "d2fx1x2 = sympy.diff(f, x1, x2, 1)\n",
        "d2fx2 = sympy.diff(f, x2, 2)"
      ],
      "execution_count": 72,
      "outputs": []
    },
    {
      "cell_type": "code",
      "metadata": {
        "colab": {
          "base_uri": "https://localhost:8080/",
          "height": 57
        },
        "id": "olthHf-M_txG",
        "outputId": "6ce75c56-c82b-46ee-8b17-d6af98a399a1"
      },
      "source": [
        "#Δf\n",
        "deltaf = sympy.Matrix([dfx1, dfx2])\n",
        "deltaf"
      ],
      "execution_count": 73,
      "outputs": [
        {
          "output_type": "display_data",
          "data": {
            "text/html": [
              "<script src='https://cdnjs.cloudflare.com/ajax/libs/mathjax/2.7.3/latest.js?config=default'></script>"
            ],
            "text/plain": [
              "<IPython.core.display.HTML object>"
            ]
          },
          "metadata": {}
        },
        {
          "output_type": "execute_result",
          "data": {
            "text/latex": "$\\displaystyle \\left[\\begin{matrix}4 x_{1} - x_{2}\\\\- x_{1} + 4 x_{2}\\end{matrix}\\right]$",
            "text/plain": [
              "⎡4⋅x₁ - x₂ ⎤\n",
              "⎢          ⎥\n",
              "⎣-x₁ + 4⋅x₂⎦"
            ]
          },
          "metadata": {},
          "execution_count": 73
        }
      ]
    },
    {
      "cell_type": "code",
      "metadata": {
        "colab": {
          "base_uri": "https://localhost:8080/",
          "height": 57
        },
        "id": "rfR8U3rNAuPL",
        "outputId": "ea154454-8ce2-4b8d-d9fa-3ee4712f880f"
      },
      "source": [
        "#ヘッセ行列\n",
        "H = sympy.Matrix([[d2fx1,d2fx1x2], [d2fx1x2, d2fx2]])\n",
        "H"
      ],
      "execution_count": 74,
      "outputs": [
        {
          "output_type": "display_data",
          "data": {
            "text/html": [
              "<script src='https://cdnjs.cloudflare.com/ajax/libs/mathjax/2.7.3/latest.js?config=default'></script>"
            ],
            "text/plain": [
              "<IPython.core.display.HTML object>"
            ]
          },
          "metadata": {}
        },
        {
          "output_type": "execute_result",
          "data": {
            "text/latex": "$\\displaystyle \\left[\\begin{matrix}4 & -1\\\\-1 & 4\\end{matrix}\\right]$",
            "text/plain": [
              "⎡4   -1⎤\n",
              "⎢      ⎥\n",
              "⎣-1  4 ⎦"
            ]
          },
          "metadata": {},
          "execution_count": 74
        }
      ]
    },
    {
      "cell_type": "code",
      "metadata": {
        "colab": {
          "base_uri": "https://localhost:8080/",
          "height": 58
        },
        "id": "Iy7b1rd4H2Hq",
        "outputId": "d4d59d48-0bc4-4ed2-dc6d-0a666300f6ab"
      },
      "source": [
        "#ヘッセ行列の逆行列\n",
        "H_inv = H.inv()\n",
        "H_inv"
      ],
      "execution_count": 75,
      "outputs": [
        {
          "output_type": "display_data",
          "data": {
            "text/html": [
              "<script src='https://cdnjs.cloudflare.com/ajax/libs/mathjax/2.7.3/latest.js?config=default'></script>"
            ],
            "text/plain": [
              "<IPython.core.display.HTML object>"
            ]
          },
          "metadata": {}
        },
        {
          "output_type": "execute_result",
          "data": {
            "text/latex": "$\\displaystyle \\left[\\begin{matrix}\\frac{4}{15} & \\frac{1}{15}\\\\\\frac{1}{15} & \\frac{4}{15}\\end{matrix}\\right]$",
            "text/plain": [
              "⎡4/15  1/15⎤\n",
              "⎢          ⎥\n",
              "⎣1/15  4/15⎦"
            ]
          },
          "metadata": {},
          "execution_count": 75
        }
      ]
    },
    {
      "cell_type": "code",
      "metadata": {
        "id": "5wXqAqBVIcQy"
      },
      "source": [
        "#ヘッセ行列の逆行列の値を返す\n",
        "def getHinv(val):\n",
        "  return H_inv.subs({x1:val[0], x2: val[1]})"
      ],
      "execution_count": 76,
      "outputs": []
    },
    {
      "cell_type": "code",
      "metadata": {
        "id": "oxxJxDaEJHC4"
      },
      "source": [
        "#Δfの値を返す関数\n",
        "def getDf(val):\n",
        "  return [dfx1.subs({x1:val[0], x2:val[1]}), dfx2.subs({x1:val[0],x2:val[1]})]"
      ],
      "execution_count": 77,
      "outputs": []
    },
    {
      "cell_type": "code",
      "metadata": {
        "id": "GwaOJ21WKpdb"
      },
      "source": [
        "#ヘッセ行列の逆行列とΔfの積を返す関数\n",
        "def getHinvDeltaf(val):\n",
        "  return np.dot(np.array(getHinv(val).tolist(), dtype=float), np.array(getDf(val), dtype=float))"
      ],
      "execution_count": 78,
      "outputs": []
    },
    {
      "cell_type": "code",
      "metadata": {
        "colab": {
          "base_uri": "https://localhost:8080/"
        },
        "id": "Ec32WFoPM5A2",
        "outputId": "e21d40ad-0046-40f4-a649-8b33ae303dfc"
      },
      "source": [
        "getHinvDeltaf([2,3]) "
      ],
      "execution_count": 79,
      "outputs": [
        {
          "output_type": "execute_result",
          "data": {
            "text/plain": [
              "array([2., 3.])"
            ]
          },
          "metadata": {},
          "execution_count": 79
        }
      ]
    },
    {
      "cell_type": "code",
      "metadata": {
        "colab": {
          "base_uri": "https://localhost:8080/"
        },
        "id": "qmOHmIP7MkN9",
        "outputId": "753957b2-918a-49e4-914b-ebd39e3cb72c"
      },
      "source": [
        "#ニュートン法で収束まで繰り返し\n",
        "x = np.array([2, 3], dtype=float)\n",
        "for i in range(10):\n",
        "  x -= getHinvDeltaf(x)\n",
        "  print('{0}回目のx = {1}'.format(i, x)) \n",
        "#この場合は1回で収束"
      ],
      "execution_count": 80,
      "outputs": [
        {
          "output_type": "stream",
          "text": [
            "0回目のx = [0. 0.]\n",
            "1回目のx = [0. 0.]\n",
            "2回目のx = [0. 0.]\n",
            "3回目のx = [0. 0.]\n",
            "4回目のx = [0. 0.]\n",
            "5回目のx = [0. 0.]\n",
            "6回目のx = [0. 0.]\n",
            "7回目のx = [0. 0.]\n",
            "8回目のx = [0. 0.]\n",
            "9回目のx = [0. 0.]\n"
          ],
          "name": "stdout"
        }
      ]
    },
    {
      "cell_type": "code",
      "metadata": {
        "id": "HIcovujLDpQt"
      },
      "source": [
        "#ヘッセ行列の値を返す関数 (複数の変数に代入するときは、辞書を使う)\n",
        "def getHesse(val):\n",
        "  return H.subs({x1:val[0], x2: val[1]})"
      ],
      "execution_count": 81,
      "outputs": []
    },
    {
      "cell_type": "markdown",
      "metadata": {
        "id": "P_Jw1wejipbw"
      },
      "source": [
        "### 例題1.7 ニュートン法\n",
        "福島、新版 数理計画入門 P118 表4.2  \n",
        "$f(x) = (x_1 - 1)^2 + 10(x_1^2 - x_2)^2$  \n",
        "最適解は$(x_1, x_2) = (1, 1)$のとき\n",
        "\n",
        "全ての点において、ヘッセ行列が半正定値になるような関数が凸関数であるから、全ての点においてヘッセ行列が正定値であるような関数は凸関数のさらに特別な場合にあたる。一般の非線形関数に対しては、ヘッセ行列の正定値性は普通局所的にしか保証されない。"
      ]
    },
    {
      "cell_type": "code",
      "metadata": {
        "colab": {
          "base_uri": "https://localhost:8080/",
          "height": 42
        },
        "id": "5QXQHml4EeRD",
        "outputId": "cf6d98fa-57b4-4321-db51-2536b1008458"
      },
      "source": [
        "sympy.var('x1')\n",
        "sympy.var('x2')\n",
        "f = (x1 -1)**2 + 10*(x1**2 -x2)**2\n",
        "f "
      ],
      "execution_count": 82,
      "outputs": [
        {
          "output_type": "display_data",
          "data": {
            "text/html": [
              "<script src='https://cdnjs.cloudflare.com/ajax/libs/mathjax/2.7.3/latest.js?config=default'></script>"
            ],
            "text/plain": [
              "<IPython.core.display.HTML object>"
            ]
          },
          "metadata": {}
        },
        {
          "output_type": "execute_result",
          "data": {
            "text/latex": "$\\displaystyle \\left(x_{1} - 1\\right)^{2} + 10 \\left(x_{1}^{2} - x_{2}\\right)^{2}$",
            "text/plain": [
              "                         2\n",
              "        2      ⎛  2     ⎞ \n",
              "(x₁ - 1)  + 10⋅⎝x₁  - x₂⎠ "
            ]
          },
          "metadata": {},
          "execution_count": 82
        }
      ]
    },
    {
      "cell_type": "code",
      "metadata": {
        "id": "R-cw-96MkISK"
      },
      "source": [
        "#微分\n",
        "dfx1 = sympy.diff(f, x1, 1)\n",
        "dfx2 = sympy.diff(f, x2, 1)\n",
        "d2fx1 = sympy.diff(f, x1, 2)\n",
        "d2fx1x2 = sympy.diff(f, x1, x2, 1)\n",
        "d2fx2 = sympy.diff(f, x2, 2)"
      ],
      "execution_count": 83,
      "outputs": []
    },
    {
      "cell_type": "code",
      "metadata": {
        "colab": {
          "base_uri": "https://localhost:8080/",
          "height": 58
        },
        "id": "XVCeq4KckR7x",
        "outputId": "c53e7c0d-6457-4e96-ee17-f39006196068"
      },
      "source": [
        "#Δf\n",
        "deltaf = sympy.Matrix([dfx1, dfx2])\n",
        "deltaf"
      ],
      "execution_count": 84,
      "outputs": [
        {
          "output_type": "display_data",
          "data": {
            "text/html": [
              "<script src='https://cdnjs.cloudflare.com/ajax/libs/mathjax/2.7.3/latest.js?config=default'></script>"
            ],
            "text/plain": [
              "<IPython.core.display.HTML object>"
            ]
          },
          "metadata": {}
        },
        {
          "output_type": "execute_result",
          "data": {
            "text/latex": "$\\displaystyle \\left[\\begin{matrix}40 x_{1} \\left(x_{1}^{2} - x_{2}\\right) + 2 x_{1} - 2\\\\- 20 x_{1}^{2} + 20 x_{2}\\end{matrix}\\right]$",
            "text/plain": [
              "⎡      ⎛  2     ⎞           ⎤\n",
              "⎢40⋅x₁⋅⎝x₁  - x₂⎠ + 2⋅x₁ - 2⎥\n",
              "⎢                           ⎥\n",
              "⎢            2              ⎥\n",
              "⎣     - 20⋅x₁  + 20⋅x₂      ⎦"
            ]
          },
          "metadata": {},
          "execution_count": 84
        }
      ]
    },
    {
      "cell_type": "code",
      "metadata": {
        "colab": {
          "base_uri": "https://localhost:8080/",
          "height": 58
        },
        "id": "f74QoWjbkV4s",
        "outputId": "8947340d-6d94-4291-df38-93fa079126ec"
      },
      "source": [
        "#ヘッセ行列\n",
        "H = sympy.Matrix([[d2fx1,d2fx1x2], [d2fx1x2, d2fx2]])\n",
        "H"
      ],
      "execution_count": 85,
      "outputs": [
        {
          "output_type": "display_data",
          "data": {
            "text/html": [
              "<script src='https://cdnjs.cloudflare.com/ajax/libs/mathjax/2.7.3/latest.js?config=default'></script>"
            ],
            "text/plain": [
              "<IPython.core.display.HTML object>"
            ]
          },
          "metadata": {}
        },
        {
          "output_type": "execute_result",
          "data": {
            "text/latex": "$\\displaystyle \\left[\\begin{matrix}2 \\left(60 x_{1}^{2} - 20 x_{2} + 1\\right) & - 40 x_{1}\\\\- 40 x_{1} & 20\\end{matrix}\\right]$",
            "text/plain": [
              "⎡  ⎛     2            ⎞        ⎤\n",
              "⎢2⋅⎝60⋅x₁  - 20⋅x₂ + 1⎠  -40⋅x₁⎥\n",
              "⎢                              ⎥\n",
              "⎣        -40⋅x₁            20  ⎦"
            ]
          },
          "metadata": {},
          "execution_count": 85
        }
      ]
    },
    {
      "cell_type": "code",
      "metadata": {
        "id": "-FnvNusWkfpy"
      },
      "source": [
        "#ヘッセ行列の値を返す関数 (複数の変数に代入するときは、辞書を使う)\n",
        "def getHesse(val):\n",
        "  return H.subs({x1:val[0], x2: val[1]})"
      ],
      "execution_count": 86,
      "outputs": []
    },
    {
      "cell_type": "code",
      "metadata": {
        "colab": {
          "base_uri": "https://localhost:8080/",
          "height": 71
        },
        "id": "_Uq7d6JBltLI",
        "outputId": "2dcdb9c5-fdb1-49a5-e0fc-9e28fcb6c59c"
      },
      "source": [
        "#ヘッセ行列の逆行列\n",
        "H_inv = H.inv()\n",
        "H_inv"
      ],
      "execution_count": 87,
      "outputs": [
        {
          "output_type": "display_data",
          "data": {
            "text/html": [
              "<script src='https://cdnjs.cloudflare.com/ajax/libs/mathjax/2.7.3/latest.js?config=default'></script>"
            ],
            "text/plain": [
              "<IPython.core.display.HTML object>"
            ]
          },
          "metadata": {}
        },
        {
          "output_type": "execute_result",
          "data": {
            "text/latex": "$\\displaystyle \\left[\\begin{matrix}\\frac{1}{40 x_{1}^{2} - 40 x_{2} + 2} & \\frac{x_{1}}{20 x_{1}^{2} - 20 x_{2} + 1}\\\\\\frac{x_{1}}{20 x_{1}^{2} - 20 x_{2} + 1} & \\frac{60 x_{1}^{2} - 20 x_{2} + 1}{400 x_{1}^{2} - 400 x_{2} + 20}\\end{matrix}\\right]$",
            "text/plain": [
              "⎡        1                    x₁          ⎤\n",
              "⎢──────────────────   ──────────────────  ⎥\n",
              "⎢     2                    2              ⎥\n",
              "⎢40⋅x₁  - 40⋅x₂ + 2   20⋅x₁  - 20⋅x₂ + 1  ⎥\n",
              "⎢                                         ⎥\n",
              "⎢                           2             ⎥\n",
              "⎢        x₁            60⋅x₁  - 20⋅x₂ + 1 ⎥\n",
              "⎢──────────────────  ─────────────────────⎥\n",
              "⎢     2                    2              ⎥\n",
              "⎣20⋅x₁  - 20⋅x₂ + 1  400⋅x₁  - 400⋅x₂ + 20⎦"
            ]
          },
          "metadata": {},
          "execution_count": 87
        }
      ]
    },
    {
      "cell_type": "code",
      "metadata": {
        "id": "rsLtCF3hl012"
      },
      "source": [
        "#ヘッセ行列の逆行列の値を返す\n",
        "def getHinv(val):\n",
        "  return H_inv.subs({x1:val[0], x2: val[1]})"
      ],
      "execution_count": 88,
      "outputs": []
    },
    {
      "cell_type": "code",
      "metadata": {
        "id": "V0pK1hh0l59e"
      },
      "source": [
        "#Δfの値を返す関数\n",
        "def getDf(val):\n",
        "  return [dfx1.subs({x1:val[0], x2:val[1]}), dfx2.subs({x1:val[0],x2:val[1]})]"
      ],
      "execution_count": 89,
      "outputs": []
    },
    {
      "cell_type": "code",
      "metadata": {
        "id": "uf_nCZM_l-0Y"
      },
      "source": [
        "#ヘッセ行列の逆行列とΔfの積を返す関数\n",
        "def getHinvDeltaf(val):\n",
        "  return np.dot(np.array(getHinv(val).tolist(), dtype=float), np.array(getDf(val), dtype=float))"
      ],
      "execution_count": 90,
      "outputs": []
    },
    {
      "cell_type": "code",
      "metadata": {
        "colab": {
          "base_uri": "https://localhost:8080/"
        },
        "id": "pe7mbO5nmCwx",
        "outputId": "f8ba5fcf-d44e-44e6-e162-fbba69385690"
      },
      "source": [
        "#ニュートン法で収束まで繰り返し\n",
        "x = np.array([0, 0], dtype=float)\n",
        "for i in range(10):\n",
        "  x -= getHinvDeltaf(x)\n",
        "  print('{0}回目のx = {1}'.format(i, x)) \n",
        "#この場合は1回で収束"
      ],
      "execution_count": 91,
      "outputs": [
        {
          "output_type": "stream",
          "text": [
            "0回目のx = [1. 0.]\n",
            "1回目のx = [1. 1.]\n",
            "2回目のx = [1. 1.]\n",
            "3回目のx = [1. 1.]\n",
            "4回目のx = [1. 1.]\n",
            "5回目のx = [1. 1.]\n",
            "6回目のx = [1. 1.]\n",
            "7回目のx = [1. 1.]\n",
            "8回目のx = [1. 1.]\n",
            "9回目のx = [1. 1.]\n"
          ],
          "name": "stdout"
        }
      ]
    },
    {
      "cell_type": "markdown",
      "metadata": {
        "id": "cu4MGotkrQi6"
      },
      "source": [
        "## 準ニュートン法\n",
        "準ニュートン法は、ヘッセ行列を計算することなく、ニュートン法のような速い収束性を持たせようと考案された方法\n",
        "\n",
        "### 準ニュートン法アルゴリズム\n",
        "\n",
        "\n",
        "1.   初期設定：初期点$x_0$、正定値対称な初期行列$B_0$を与える。$k=0$とおく\n",
        "2.   停止条件が満たされていれば、$x_k$を近似解として停止する。さもなければ、3へいく\n",
        "1.   連立1次方程式 $B_k d = -\\nabla f(x_k)$ を解いて探索方法$d_k$を求める\n",
        "2.   $d_k$方向でのステップ幅$\\alpha_k$を求める(直線探索)\n",
        "1.   $x_{k+1} = x_k +\\alpha_k d_k$とおく\n",
        "2.   $B_k$を更新して$B_{k+1}$を生成する。2へ戻る\n",
        "\n",
        "八巻、非線形計画法、朝倉書店 P31\n"
      ]
    },
    {
      "cell_type": "markdown",
      "metadata": {
        "id": "jLqX9NIBuirG"
      },
      "source": [
        "### 例1.8 準ニュートン法\n",
        "$f(x_1, x_2) = \\frac{1}{2}(x_1 - x_2^2)^2 + \\frac{1}{4}(x_2 -2)^4$  \n",
        "最適解は$(x_1, x_2) = (4, 2)$のとき\n",
        "\n",
        "八巻、非線形計画法、朝倉書店 P32 例2.1\n"
      ]
    },
    {
      "cell_type": "code",
      "metadata": {
        "colab": {
          "base_uri": "https://localhost:8080/",
          "height": 42
        },
        "id": "EOirpZGOlP6r",
        "outputId": "e4e820ae-7fed-4e0e-bb4e-83877171f27e"
      },
      "source": [
        "sympy.var('x1')\n",
        "sympy.var('x2')\n",
        "f = 1 / 2 * (x1 - x2**2)**2 + 1 / 4 * (x2 - 2)**4 \n",
        "f "
      ],
      "execution_count": 92,
      "outputs": [
        {
          "output_type": "display_data",
          "data": {
            "text/html": [
              "<script src='https://cdnjs.cloudflare.com/ajax/libs/mathjax/2.7.3/latest.js?config=default'></script>"
            ],
            "text/plain": [
              "<IPython.core.display.HTML object>"
            ]
          },
          "metadata": {}
        },
        {
          "output_type": "execute_result",
          "data": {
            "text/latex": "$\\displaystyle 0.5 \\left(x_{1} - x_{2}^{2}\\right)^{2} + 0.25 \\left(x_{2} - 2\\right)^{4}$",
            "text/plain": [
              "              2                 \n",
              "    ⎛       2⎞                 4\n",
              "0.5⋅⎝x₁ - x₂ ⎠  + 0.25⋅(x₂ - 2) "
            ]
          },
          "metadata": {},
          "execution_count": 92
        }
      ]
    },
    {
      "cell_type": "code",
      "metadata": {
        "id": "xDTEAC6CvdDZ"
      },
      "source": [
        "#微分\n",
        "dfx1 = sympy.diff(f, x1, 1)\n",
        "dfx2 = sympy.diff(f, x2, 1)"
      ],
      "execution_count": 93,
      "outputs": []
    },
    {
      "cell_type": "code",
      "metadata": {
        "colab": {
          "base_uri": "https://localhost:8080/",
          "height": 60
        },
        "id": "qWQ22JaLvkCv",
        "outputId": "b76fdad2-a3a0-4f5f-d73c-188340212afc"
      },
      "source": [
        "#Δf\n",
        "deltaf = sympy.Matrix([dfx1, dfx2])\n",
        "deltaf"
      ],
      "execution_count": 94,
      "outputs": [
        {
          "output_type": "display_data",
          "data": {
            "text/html": [
              "<script src='https://cdnjs.cloudflare.com/ajax/libs/mathjax/2.7.3/latest.js?config=default'></script>"
            ],
            "text/plain": [
              "<IPython.core.display.HTML object>"
            ]
          },
          "metadata": {}
        },
        {
          "output_type": "execute_result",
          "data": {
            "text/latex": "$\\displaystyle \\left[\\begin{matrix}1.0 x_{1} - 1.0 x_{2}^{2}\\\\- 2.0 x_{2} \\left(x_{1} - x_{2}^{2}\\right) + 1.0 \\left(x_{2} - 2\\right)^{3}\\end{matrix}\\right]$",
            "text/plain": [
              "⎡                      2            ⎤\n",
              "⎢           1.0⋅x₁ - x₂             ⎥\n",
              "⎢                                   ⎥\n",
              "⎢         ⎛       2⎞               3⎥\n",
              "⎣- 2.0⋅x₂⋅⎝x₁ - x₂ ⎠ + 1.0⋅(x₂ - 2) ⎦"
            ]
          },
          "metadata": {},
          "execution_count": 94
        }
      ]
    },
    {
      "cell_type": "code",
      "metadata": {
        "id": "FJIJTFp0vrtM"
      },
      "source": [
        "#Δfの値を返す関数\n",
        "def getDf(val):\n",
        "  return [dfx1.subs({x1:val[0], x2:val[1]}), dfx2.subs({x1:val[0],x2:val[1]})]"
      ],
      "execution_count": 95,
      "outputs": []
    },
    {
      "cell_type": "code",
      "metadata": {
        "id": "S0GpCeOUw29C"
      },
      "source": [
        "#Bの逆行列と∇fとの行列計算\n",
        "def getBf(B, val):\n",
        "  return np.dot(np.linalg.inv(B), np.array(getDf(val), dtype=float))"
      ],
      "execution_count": 96,
      "outputs": []
    },
    {
      "cell_type": "code",
      "metadata": {
        "id": "4dYFludazYqt"
      },
      "source": [
        "# Bの更新\n",
        "def getB(B, s, y):\n",
        "  bs = np.dot(B, s) #第2項 分子 第１要素\n",
        "  bsbs = np.dot(bs.reshape(len(bs), 1), bs.reshape(1,len(bs))) #第2項分子：2行1列と1行2列の計算\n",
        "  sbs = np.dot(s, bs) #第2項 分母 (積の順序に注意: 右側から)\n",
        "  yy = np.dot(y.reshape(len(y), 1), y.reshape(1,len(y))) # 第3項 分子 2行1列と1行2列の計算\n",
        "  sy = np.dot(s.T, y) #第3項 分母\n",
        "  return B - bsbs / sbs + yy / sy"
      ],
      "execution_count": 97,
      "outputs": []
    },
    {
      "cell_type": "code",
      "metadata": {
        "colab": {
          "base_uri": "https://localhost:8080/"
        },
        "id": "1DOQpOId8WXN",
        "outputId": "76ccdff7-c86f-4eff-f0d1-fce81413199e"
      },
      "source": [
        "#1. 初期値の設定\n",
        "B = np.array([[1, -2], [-2, 12]])\n",
        "x = [0,0]\n",
        "\n",
        "for i in range(30):\n",
        "  s = x.copy() #更新前のx\n",
        "  y = np.array(getDf(x), dtype=float) #更新前の∇f\n",
        "  x -= + getBf(B, x) #xの更新 3.探索方向を求めて、5. xを更新\n",
        "  \n",
        "  s = np.array(x, dtype=float) - np.array(s, dtype=float) #x_k+1 - x_k\n",
        "  y = np.array(getDf(x), dtype=float) - y #∇f(x_k+1) - ∇f(x_k)\n",
        "  B = getB(B, s, y)\n",
        "  print('{0}回目 : x = {1}'.format(i, x))\n",
        "  print('{0}回目 : s = {1}'.format(i, s))\n",
        "  print('{0}回目 : y = {1}'.format(i, y))\n",
        "  print('{0}回目 : B = {1}'.format(i, B))\n"
      ],
      "execution_count": 98,
      "outputs": [
        {
          "output_type": "stream",
          "text": [
            "0回目 : x = [2. 1.]\n",
            "0回目 : s = [2. 1.]\n",
            "0回目 : y = [1. 5.]\n",
            "0回目 : B = [[ 1.14285714 -1.28571429]\n",
            " [-1.28571429  7.57142857]]\n",
            "1回目 : x = [1.46938776 1.30612245]\n",
            "1回目 : s = [-0.53061224  0.30612245]\n",
            "1回目 : y = [-1.2365681   3.28389532]\n",
            "1回目 : B = [[ 1.37307827 -1.65945344]\n",
            " [-1.65945344  7.85100539]]\n",
            "2回目 : x = [1.64209416 1.30646673]\n",
            "2回目 : s = [0.1727064  0.00034428]\n",
            "2回目 : y = [ 0.17180695 -0.44826021]\n",
            "2回目 : B = [[ 1.00001633 -2.62078273]\n",
            " [-2.62078273 12.68093241]]\n",
            "3回目 : x = [1.8574863  1.36394364]\n",
            "3回目 : s = [0.21539214 0.05747692]\n",
            "3回目 : y = [ 0.06190519 -0.08517222]\n",
            "3回目 : B = [[ 1.2748979  -3.70057779]\n",
            " [-3.70057779 12.38589673]]\n",
            "4回目 : x = [2.31482725 1.52073188]\n",
            "4回目 : s = [0.45734096 0.15678824]\n",
            "4回目 : y = [0.00505777 0.13275349]\n",
            "4回目 : B = [[ 1.27580226 -3.68917253]\n",
            " [-3.68917253 11.60777897]]\n",
            "5回目 : x = [2.65277292 1.63819823]\n",
            "5回目 : s = [0.33794566 0.11746635]\n",
            "5回目 : y = [-0.03312234  0.1707315 ]\n",
            "5回目 : B = [[ 1.39923045 -4.307499  ]\n",
            " [-4.307499   13.84594009]]\n",
            "6回目 : x = [2.89174274 1.70864591]\n",
            "6回目 : s = [0.23896982 0.07044768]\n",
            "6回目 : y = [0.00319241 0.01607497]\n",
            "6回目 : B = [[ 1.13818418 -3.81558701]\n",
            " [-3.81558701 13.17126542]]\n",
            "7回目 : x = [3.11835222 1.76897614]\n",
            "7回目 : s = [0.22660949 0.06033022]\n",
            "7回目 : y = [ 0.01680378 -0.04370325]\n",
            "7回目 : B = [[ 1.00584626 -3.49958148]\n",
            " [-3.49958148 12.42055952]]\n",
            "8回目 : x = [3.29542822 1.81674953]\n",
            "8回目 : s = [0.177076   0.04777339]\n",
            "8回目 : y = [ 0.00577371 -0.01375847]\n",
            "8回目 : B = [[ 0.92088947 -3.292496  ]\n",
            " [-3.292496   11.91591176]]\n",
            "9回目 : x = [3.44626348 1.8573728 ]\n",
            "9回目 : s = [0.15083525 0.04062327]\n",
            "9回目 : y = [ 0.00158038 -0.00219994]\n",
            "9回目 : B = [[ 0.83815075 -3.07317192]\n",
            " [-3.07317192 11.3566113 ]]\n",
            "10回目 : x = [3.56362454 1.88821911]\n",
            "10回目 : s = [0.11736106 0.03084631]\n",
            "10回目 : y = [ 0.00182338 -0.00516092]\n",
            "10回目 : B = [[ 0.77059166 -2.87276116]\n",
            " [-2.87276116 10.76269401]]\n",
            "11回目 : x = [3.65808223 1.91294843]\n",
            "11回目 : s = [0.09445769 0.02472932]\n",
            "11回目 : y = [ 0.0004574  -0.00092653]\n",
            "11回目 : B = [[ 0.69708272 -2.64412543]\n",
            " [-2.64412543 10.06220297]]\n",
            "12回目 : x = [3.73157073 1.93183486]\n",
            "12回目 : s = [0.0734885  0.01888643]\n",
            "12回目 : y = [ 0.00087428 -0.00298626]\n",
            "12回目 : B = [[ 0.6760826  -2.58439657]\n",
            " [-2.58439657  9.89796301]]\n",
            "13回目 : x = [3.79300081 1.94774442]\n",
            "13回目 : s = [0.06143009 0.01590956]\n",
            "13回目 : y = [-0.00029231  0.00132594]\n",
            "13回目 : B = [[ 0.66898495 -2.60146194]\n",
            " [-2.60146194 10.12812279]]\n",
            "14回目 : x = [3.83913016 1.95933495]\n",
            "14回目 : s = [0.04612935 0.01159053]\n",
            "14回目 : y = [ 0.00084422 -0.00321637]\n",
            "14回目 : B = [[ 0.88398047 -3.44533132]\n",
            " [-3.44533132 13.43463063]]\n",
            "15回目 : x = [3.88179661 1.97032171]\n",
            "15回目 : s = [0.04266645 0.01098676]\n",
            "15回目 : y = [-0.00050773  0.00203889]\n",
            "15回目 : B = [[ 1.20983421 -4.74453599]\n",
            " [-4.74453599 18.61071507]]\n",
            "16回目 : x = [3.89932958 1.97471433]\n",
            "16回目 : s = [0.01753296 0.00439262]\n",
            "16回目 : y = [ 0.00020391 -0.00079209]\n",
            "16回目 : B = [[ 0.94746096 -3.73532872]\n",
            " [-3.73532872 14.72908039]]\n",
            "17回目 : x = [3.92149983 1.98029305]\n",
            "17回目 : s = [0.02217025 0.00557871]\n",
            "17回目 : y = [ 0.00010639 -0.000411  ]\n",
            "17回目 : B = [[ 0.87244996 -3.44811351]\n",
            " [-3.44811351 13.62940111]]\n",
            "18回目 : x = [3.93817459 1.98449453]\n",
            "18回目 : s = [0.01667477 0.00420148]\n",
            "18回目 : y = [ 1.67922965e-05 -6.22125568e-05]\n",
            "18回目 : B = [[ 0.77993345 -3.0913909 ]\n",
            " [-3.0913909  12.25425647]]\n",
            "19回目 : x = [3.95161712 1.98787176]\n",
            "19回目 : s = [0.01344252 0.00337723]\n",
            "19回目 : y = [ 2.69197285e-05 -1.04785395e-04]\n",
            "19回目 : B = [[ 0.7354963  -2.91955237]\n",
            " [-2.91955237 11.589776  ]]\n",
            "20回目 : x = [3.96249324 1.99060585]\n",
            "20回目 : s = [0.01087612 0.0027341 ]\n",
            "20回目 : y = [-1.42084377e-06  6.70464892e-06]\n",
            "20回目 : B = [[ 0.67811266 -2.69802333]\n",
            " [-2.69802333 10.73507554]]\n",
            "21回目 : x = [3.97062284 1.99264229]\n",
            "21回目 : s = [0.0081296  0.00203644]\n",
            "21回目 : y = [ 1.79652706e-05 -7.10909373e-05]\n",
            "21回目 : B = [[ 0.76854734 -3.05927291]\n",
            " [-3.05927291 12.17792232]]\n",
            "22回目 : x = [3.97824254 1.99455635]\n",
            "22回目 : s = [0.0076197  0.00191406]\n",
            "22回目 : y = [-1.20425334e-05  4.82778033e-05]\n",
            "22回目 : B = [[ 0.99269294 -3.95810993]\n",
            " [-3.95810993 15.78209035]]\n",
            "23回目 : x = [3.98228478 1.99556699]\n",
            "23回目 : s = [0.00404225 0.00101064]\n",
            "23回目 : y = [ 9.68994494e-06 -3.85743912e-05]\n",
            "23回目 : B = [[ 0.97483389 -3.88946616]\n",
            " [-3.88946616 15.51857336]]\n",
            "24回目 : x = [3.9861484  1.99653462]\n",
            "24回目 : s = [0.00386362 0.00096763]\n",
            "24回目 : y = [ 7.35915417e-07 -2.88760922e-06]\n",
            "24回目 : B = [[ 0.89669926 -3.57963601]\n",
            " [-3.57963601 14.29000888]]\n",
            "25回目 : x = [3.98918545 1.99729482]\n",
            "25回目 : s = [0.00303705 0.0007602 ]\n",
            "25回目 : y = [ 9.40653861e-07 -3.73254341e-06]\n",
            "25回目 : B = [[ 0.81800911 -3.26676366]\n",
            " [-3.26676366 13.04602913]]\n",
            "26回目 : x = [3.9915408  1.99788426]\n",
            "26回目 : s = [0.00235535 0.00058944]\n",
            "26回目 : y = [ 4.36279858e-07 -1.73160329e-06]\n",
            "26回目 : B = [[ 0.74200795 -2.9642637 ]\n",
            " [-2.9642637  11.84202062]]\n",
            "27回目 : x = [3.993391   1.99834716]\n",
            "27回目 : s = [0.0018502 0.0004629]\n",
            "27回目 : y = [ 3.42638228e-07 -1.36381295e-06]\n",
            "27回目 : B = [[ 0.6826908  -2.72795553]\n",
            " [-2.72795553 10.90061458]]\n",
            "28回目 : x = [3.99485708 1.99871392]\n",
            "28回目 : s = [0.00146608 0.00036677]\n",
            "28回目 : y = [ 9.89719986e-08 -3.92980070e-07]\n",
            "28回目 : B = [[ 0.61773056 -2.46900364]\n",
            " [-2.46900364  9.86835314]]\n",
            "29回目 : x = [3.99597762 1.99899417]\n",
            "29回目 : s = [0.00112054 0.00028025]\n",
            "29回目 : y = [ 1.96782359e-07 -7.85476891e-07]\n",
            "29回目 : B = [[ 0.6177956  -2.46949811]\n",
            " [-2.46949811  9.87126379]]\n"
          ],
          "name": "stdout"
        }
      ]
    },
    {
      "cell_type": "code",
      "metadata": {
        "id": "-Kla7R9XJ_Xz"
      },
      "source": [
        "\n"
      ],
      "execution_count": 98,
      "outputs": []
    }
  ]
}