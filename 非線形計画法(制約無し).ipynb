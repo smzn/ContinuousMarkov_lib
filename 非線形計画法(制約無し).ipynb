{
  "nbformat": 4,
  "nbformat_minor": 0,
  "metadata": {
    "kernelspec": {
      "display_name": "Python 3",
      "language": "python",
      "name": "python3"
    },
    "language_info": {
      "codemirror_mode": {
        "name": "ipython",
        "version": 3
      },
      "file_extension": ".py",
      "mimetype": "text/x-python",
      "name": "python",
      "nbconvert_exporter": "python",
      "pygments_lexer": "ipython3",
      "version": "3.8.3"
    },
    "colab": {
      "name": "非線形計画法(制約無し).ipynb",
      "provenance": [],
      "collapsed_sections": []
    }
  },
  "cells": [
    {
      "cell_type": "markdown",
      "metadata": {
        "id": "6a54WxjPimLH"
      },
      "source": [
        "# 非線形計画法をpythonで実行するための方法"
      ]
    },
    {
      "cell_type": "markdown",
      "metadata": {
        "id": "YH0kWB9bimLJ"
      },
      "source": [
        "## 1. 非線形計画法 : 制約無し (目的関数が非線形)  \n",
        "Unconstrained minimization of multivariate scalar functions (minimize)  \n",
        "今回は  \n",
        "from scipy.optimize import minimize  \n",
        "でscipy.optimize を利用する。  \n",
        "https://docs.scipy.org/doc/scipy/reference/tutorial/optimize.html#unconstrained-minimization-of-multivariate-scalar-functions-minimize  \n",
        "今回は、Nelder-Mead Simplex algorithm (method='Nelder-Mead')を利用する  \n",
        "https://docs.scipy.org/doc/scipy/reference/optimize.minimize-neldermead.html"
      ]
    },
    {
      "cell_type": "markdown",
      "metadata": {
        "id": "0Il-eB46imLK"
      },
      "source": [
        "### 例題1.1 ローゼンブロック関数 $f(x) = \\sum_{i = 1}^{N-1}(100(x_{i+1} - x_i^2)^2 + (1 - x_i)^2)$  の最小値を求める。理論値は$x = 1$となる。"
      ]
    },
    {
      "cell_type": "code",
      "metadata": {
        "id": "ZwhKywSWimLK"
      },
      "source": [
        "import numpy as np\n",
        "from scipy.optimize import minimize"
      ],
      "execution_count": 1,
      "outputs": []
    },
    {
      "cell_type": "code",
      "metadata": {
        "id": "IxOOJYtSimLL"
      },
      "source": [
        "def rosenbrock(x):\n",
        "    value = 0\n",
        "    for i in range(len(x)-1):\n",
        "        value += 100 * (x[i+1] - x[i])**2 + (1 - x[i])**2.0\n",
        "    return value"
      ],
      "execution_count": 2,
      "outputs": []
    },
    {
      "cell_type": "code",
      "metadata": {
        "colab": {
          "base_uri": "https://localhost:8080/"
        },
        "id": "PnaGyJbXimLM",
        "outputId": "0d982a3e-560e-450c-a83c-526666c8d25b"
      },
      "source": [
        "x0 = np.array([1.3, 0.7, 0.8, 1.9, 1.2]) #5変数で実施する。今回の初期値\n",
        "res = minimize(rosenbrock, #目的関数\n",
        "               x0, #初期値 \n",
        "               method='nelder-mead', #最適化手法(今回は'Nelder-Mead')\n",
        "               options={'xatol': 1e-8, #収束判定値(Nelder-Mead法)\n",
        "                        'disp': True, #結果表示\n",
        "                        'maxiter': 500 #繰り返し回数\n",
        "                       })\n",
        "print(res['x'])"
      ],
      "execution_count": 3,
      "outputs": [
        {
          "output_type": "stream",
          "name": "stdout",
          "text": [
            "Optimization terminated successfully.\n",
            "         Current function value: 0.000000\n",
            "         Iterations: 456\n",
            "         Function evaluations: 735\n",
            "[1. 1. 1. 1. 1.]\n"
          ]
        }
      ]
    },
    {
      "cell_type": "markdown",
      "metadata": {
        "id": "k02xbzqximLN"
      },
      "source": [
        "### 例題1.2 $f(x_1, x_2) = \\frac{1}{2}(x_1 - x_2^2)^2 + \\frac{1}{4}(x_2 - 2)^4$  \n",
        "最小解は$(x_1, x_2) = (4, 2)$  \n",
        "矢部博 八巻直一, 非線形計画法, 朝倉書店, 1999, P32"
      ]
    },
    {
      "cell_type": "code",
      "metadata": {
        "id": "5jtEtBx3imLO"
      },
      "source": [
        "def f1_2(x):\n",
        "    return 1 / 2 * (x[0] - x[1]**2)**2 + 1 / 4 * (x[1] - 2)**4"
      ],
      "execution_count": 4,
      "outputs": []
    },
    {
      "cell_type": "code",
      "metadata": {
        "colab": {
          "base_uri": "https://localhost:8080/"
        },
        "id": "D0URnlcuimLP",
        "outputId": "b22b98fd-38b6-4051-8be1-afdcd402d5e6"
      },
      "source": [
        "x0 = np.array([1.3, 0.7]) #2変数で実施する。今回の初期値\n",
        "res = minimize(f1_2, #目的関数\n",
        "               x0, #初期値 \n",
        "               method='nelder-mead', #最適化手法(今回は'Nelder-Mead')\n",
        "               options={'xatol': 1e-8, #収束判定値(Nelder-Mead法)\n",
        "                        'disp': True, #結果表示\n",
        "                        'maxiter': 500 #繰り返し回数\n",
        "                       })\n",
        "print(res['x'])"
      ],
      "execution_count": 5,
      "outputs": [
        {
          "output_type": "stream",
          "name": "stdout",
          "text": [
            "Optimization terminated successfully.\n",
            "         Current function value: 0.000000\n",
            "         Iterations: 124\n",
            "         Function evaluations: 240\n",
            "[4.00000008 2.00000002]\n"
          ]
        }
      ]
    },
    {
      "cell_type": "markdown",
      "metadata": {
        "id": "Ks8DvD7wimLQ"
      },
      "source": [
        "### 例題1.3 $f(x_1, x_2) = x_1^2 + (x_2 - 1)^4 + x_1$\n",
        "最小解は$(x_1, x_2) = (-\\frac{1}{2}, 1)$  \n",
        "矢部博 八巻直一, 非線形計画法, 朝倉書店, 1999, P128"
      ]
    },
    {
      "cell_type": "code",
      "metadata": {
        "id": "L7TcAeagimLQ"
      },
      "source": [
        "def f1_3(x):\n",
        "    return x[0]**2 + (x[1] - 1)**4 + x[0]"
      ],
      "execution_count": 6,
      "outputs": []
    },
    {
      "cell_type": "code",
      "metadata": {
        "colab": {
          "base_uri": "https://localhost:8080/"
        },
        "id": "LBVzGlKbimLQ",
        "outputId": "610cc363-88a7-402f-d7b6-655a7bca4915"
      },
      "source": [
        "x0 = np.array([1.3, 0.7]) #2変数で実施する。今回の初期値\n",
        "res = minimize(f1_3, #目的関数\n",
        "               x0, #初期値 \n",
        "               method='nelder-mead', #最適化手法(今回は'Nelder-Mead')\n",
        "               options={'xatol': 1e-8, #収束判定値(Nelder-Mead法)\n",
        "                        'disp': True, #結果表示\n",
        "                        'maxiter': 500 #繰り返し回数\n",
        "                       })\n",
        "print(res['x'])"
      ],
      "execution_count": 7,
      "outputs": [
        {
          "output_type": "stream",
          "name": "stdout",
          "text": [
            "Optimization terminated successfully.\n",
            "         Current function value: -0.250000\n",
            "         Iterations: 77\n",
            "         Function evaluations: 174\n",
            "[-0.5         1.00002561]\n"
          ]
        }
      ]
    },
    {
      "cell_type": "markdown",
      "metadata": {
        "id": "vUiFgGYOimLR"
      },
      "source": [
        "### 例題1.4 $f(\\mathbf{x}) = \\sum_{i = 1}^{n-1}(x_{i} - x_{i+1})^4 + \\sum_{i=1}^n (x_i - 1)^2$\n",
        "最小解は$\\mathbf{x}^* = (1, 1, \\cdots, 1)$  \n",
        "$n = 10$, 初期値 $x_0 = (-1, -1, \\cdots, -1, 0)$  \n",
        "矢部博 八巻直一, 非線形計画法, 朝倉書店, 1999, P131"
      ]
    },
    {
      "cell_type": "code",
      "metadata": {
        "id": "T3pMZHkmimLR"
      },
      "source": [
        "def f1_4(x):\n",
        "    sum0 = 0\n",
        "    sum1 = 0\n",
        "    for i in range(len(x)):\n",
        "        if i < len(x) - 1:\n",
        "            sum0 += (x[i] - x[i+1])**4\n",
        "        sum1 += (x[0] - 1)**2\n",
        "    return sum0 + sum1"
      ],
      "execution_count": 8,
      "outputs": []
    },
    {
      "cell_type": "code",
      "metadata": {
        "colab": {
          "base_uri": "https://localhost:8080/"
        },
        "id": "CoaF6r-CimLS",
        "outputId": "a241dce1-8730-4f31-e156-116cbb7853bb"
      },
      "source": [
        "x0 = np.array([-1, -1, -1, -1, -1, -1, -1, -1, -1, 0]) #10変数で実施する。今回の初期値\n",
        "res = minimize(f1_4, #目的関数\n",
        "               x0, #初期値 \n",
        "               method='nelder-mead', #最適化手法(今回は'Nelder-Mead')\n",
        "               options={'xatol': 1e-8, #収束判定値(Nelder-Mead法)\n",
        "                        'disp': True, #結果表示\n",
        "                        'maxiter': 10000 #繰り返し回数\n",
        "                       })\n",
        "print(res['x'])"
      ],
      "execution_count": 9,
      "outputs": [
        {
          "output_type": "stream",
          "name": "stdout",
          "text": [
            "Optimization terminated successfully.\n",
            "         Current function value: 0.000000\n",
            "         Iterations: 7212\n",
            "         Function evaluations: 10001\n",
            "[1.         0.99999981 0.99999988 0.99999995 0.99999985 0.99999976\n",
            " 0.99999959 0.9999995  0.99999933 0.99999945]\n"
          ]
        }
      ]
    },
    {
      "cell_type": "markdown",
      "metadata": {
        "id": "JJwPQUjtjPBr"
      },
      "source": [
        "### 例題1.5 $f(x) = 2x_1^2 - x_1x_2 + 2x_2^2$  \n",
        "初期点 $(x_1, x_2) = (2, 3)$、最適解は $(x_1, x_2) = (0, 0)$のとき  \n",
        "坂和、西崎 : 数理計画法入門、森北出版、P126 例4.11"
      ]
    },
    {
      "cell_type": "code",
      "metadata": {
        "id": "ZY_tGVrLimLS"
      },
      "source": [
        "def f1_5(x):\n",
        "  return 2 * x[0]**2 -x[0] * x[1] + 2 * x[1]**2"
      ],
      "execution_count": 10,
      "outputs": []
    },
    {
      "cell_type": "code",
      "metadata": {
        "colab": {
          "base_uri": "https://localhost:8080/"
        },
        "id": "eWJMik52kI9a",
        "outputId": "32ac3f84-60e7-4b85-e898-bc5230631760"
      },
      "source": [
        "x0 = np.array([2, 3]) #2変数で実施する。今回の初期値\n",
        "res = minimize(f1_5, #目的関数\n",
        "               x0, #初期値 \n",
        "               method='nelder-mead', #最適化手法(今回は'Nelder-Mead')\n",
        "               options={'xatol': 1e-8, #収束判定値(Nelder-Mead法)\n",
        "                        'disp': True, #結果表示\n",
        "                        'maxiter': 10000 #繰り返し回数\n",
        "                       })\n",
        "print(res['x'])"
      ],
      "execution_count": 11,
      "outputs": [
        {
          "output_type": "stream",
          "name": "stdout",
          "text": [
            "Optimization terminated successfully.\n",
            "         Current function value: 0.000000\n",
            "         Iterations: 70\n",
            "         Function evaluations: 135\n",
            "[ 5.34851632e-10 -3.86452770e-09]\n"
          ]
        }
      ]
    },
    {
      "cell_type": "markdown",
      "metadata": {
        "id": "3juTeVgteZEE"
      },
      "source": [
        "## ニュートン法について\n",
        "ニュートン法の公式  \n",
        "$H \\Delta x = -\\nabla f$  \n",
        "$\\Delta x = -H^{-1} \\nabla f$  \n",
        "ニュートン法の更新式  \n",
        "$x_{n + 1} = x_n - H^{-1} \\nabla f$"
      ]
    },
    {
      "cell_type": "code",
      "metadata": {
        "id": "pIx8e9pGkRiG"
      },
      "source": [
        "import sympy\n",
        "def custom_latex_printer(exp,**options):\n",
        "    from google.colab.output._publish import javascript\n",
        "    url = \"https://cdnjs.cloudflare.com/ajax/libs/mathjax/2.7.3/latest.js?config=default\"\n",
        "    javascript(url=url)\n",
        "    return sympy.printing.latex(exp,**options)\n",
        "\n",
        "sympy.init_printing(use_latex=\"mathjax\",latex_printer=custom_latex_printer)"
      ],
      "execution_count": 12,
      "outputs": []
    },
    {
      "cell_type": "markdown",
      "metadata": {
        "id": "LO7jFoNCTfsU"
      },
      "source": [
        "### ニュートン法アルゴリズム\n",
        "\n",
        "\n",
        "1.   $x$の初期値を与える\n",
        "2.   勾配$\\nabla f$とヘッセ行列$H$の$x$における値を計算する\n",
        "3.   次の連立方程式の解$\\Delta x$を計算する。またはヘッセ行列の逆行列$H^{-1}$を求めて、$\\Delta x = -H^{-1}\\nabla f$を計算する\n",
        "4.   $x$を次の式で更新する。$x \\leftarrow x + \\Delta x$または、$x \\leftarrow x - H^{-1}\\nabla f$\n",
        "5.   $||\\Delta x|| < \\delta$ なら$x$を返して終了する。そうでなければステップ2に戻る\n",
        "\n",
        "金谷、これならわかる最適化数学、共立出版、P90 アルゴリズム3.4 多変数のニュートン法\n",
        "\n",
        "ニュートン法は収束が非常に速い優れた方法であるが、欠点が２つある。\n",
        "\n",
        "\n",
        "1.   ヘッセ行列を計算するために、全ての2階導関数が必要になる\n",
        "2.   ヘッセ行列からその逆関数を計算しなければならない。逆行列を計算することは連立１次方程式の回を求めることに等価であり、一般には$n$個の変数に対して、$n^3$に比例する回数の演算が必要になる。\n",
        "\n",
        "\n",
        "\n",
        "\n",
        "\n",
        "\n"
      ]
    },
    {
      "cell_type": "markdown",
      "metadata": {
        "id": "HE6hczdA_8Ap"
      },
      "source": [
        "### 例題1.6 ニュートン法\n",
        "数理計画法入門、森北 P129 例4.12  \n",
        "$f(x) = 2x_1^2 - x_1 x_2 + 2x_2^2$  \n",
        "最適解 $(x_1, x_2) = (0, 0)$\n",
        "\n",
        "ニュートン法では、ヘッセ行列の逆行列を計算するので、1回当たりの計算量が多くて、しかもかなりの記憶容量を必要とする欠点がある。またヘッセ行列が正定でなければ、降下方向を定めるために行列に修正を施さなければならない。"
      ]
    },
    {
      "cell_type": "code",
      "metadata": {
        "colab": {
          "base_uri": "https://localhost:8080/",
          "height": 39
        },
        "id": "o6jcvJQ7-ky3",
        "outputId": "ef054055-a40b-4c6c-8466-111125a5c5aa"
      },
      "source": [
        "sympy.var('x1')\n",
        "sympy.var('x2')\n",
        "f = 2*x1**2 -x1*x2 + 2*x2**2 #数理計画法入門\n",
        "f "
      ],
      "execution_count": 13,
      "outputs": [
        {
          "output_type": "display_data",
          "data": {
            "text/html": [
              "<script src='https://cdnjs.cloudflare.com/ajax/libs/mathjax/2.7.3/latest.js?config=default'></script>"
            ],
            "text/plain": [
              "<IPython.core.display.HTML object>"
            ]
          },
          "metadata": {}
        },
        {
          "output_type": "execute_result",
          "data": {
            "text/latex": "$\\displaystyle 2 x_{1}^{2} - x_{1} x_{2} + 2 x_{2}^{2}$",
            "text/plain": [
              "    2               2\n",
              "2⋅x₁  - x₁⋅x₂ + 2⋅x₂ "
            ]
          },
          "metadata": {},
          "execution_count": 13
        }
      ]
    },
    {
      "cell_type": "code",
      "metadata": {
        "id": "dsMlUf4b_tua"
      },
      "source": [
        "#微分\n",
        "dfx1 = sympy.diff(f, x1, 1)\n",
        "dfx2 = sympy.diff(f, x2, 1)\n",
        "d2fx1 = sympy.diff(f, x1, 2)\n",
        "d2fx1x2 = sympy.diff(f, x1, x2, 1)\n",
        "d2fx2 = sympy.diff(f, x2, 2)"
      ],
      "execution_count": 14,
      "outputs": []
    },
    {
      "cell_type": "code",
      "metadata": {
        "colab": {
          "base_uri": "https://localhost:8080/",
          "height": 57
        },
        "id": "olthHf-M_txG",
        "outputId": "e90525b9-7737-45a7-cfaf-5f5a9950e02e"
      },
      "source": [
        "#Δf\n",
        "deltaf = sympy.Matrix([dfx1, dfx2])\n",
        "deltaf"
      ],
      "execution_count": 15,
      "outputs": [
        {
          "output_type": "display_data",
          "data": {
            "text/html": [
              "<script src='https://cdnjs.cloudflare.com/ajax/libs/mathjax/2.7.3/latest.js?config=default'></script>"
            ],
            "text/plain": [
              "<IPython.core.display.HTML object>"
            ]
          },
          "metadata": {}
        },
        {
          "output_type": "execute_result",
          "data": {
            "text/latex": "$\\displaystyle \\left[\\begin{matrix}4 x_{1} - x_{2}\\\\- x_{1} + 4 x_{2}\\end{matrix}\\right]$",
            "text/plain": [
              "⎡4⋅x₁ - x₂ ⎤\n",
              "⎢          ⎥\n",
              "⎣-x₁ + 4⋅x₂⎦"
            ]
          },
          "metadata": {},
          "execution_count": 15
        }
      ]
    },
    {
      "cell_type": "code",
      "metadata": {
        "colab": {
          "base_uri": "https://localhost:8080/",
          "height": 57
        },
        "id": "rfR8U3rNAuPL",
        "outputId": "e172af8a-6f4b-4973-d336-d0490221fbc4"
      },
      "source": [
        "#ヘッセ行列\n",
        "H = sympy.Matrix([[d2fx1,d2fx1x2], [d2fx1x2, d2fx2]])\n",
        "H"
      ],
      "execution_count": 16,
      "outputs": [
        {
          "output_type": "display_data",
          "data": {
            "text/html": [
              "<script src='https://cdnjs.cloudflare.com/ajax/libs/mathjax/2.7.3/latest.js?config=default'></script>"
            ],
            "text/plain": [
              "<IPython.core.display.HTML object>"
            ]
          },
          "metadata": {}
        },
        {
          "output_type": "execute_result",
          "data": {
            "text/latex": "$\\displaystyle \\left[\\begin{matrix}4 & -1\\\\-1 & 4\\end{matrix}\\right]$",
            "text/plain": [
              "⎡4   -1⎤\n",
              "⎢      ⎥\n",
              "⎣-1  4 ⎦"
            ]
          },
          "metadata": {},
          "execution_count": 16
        }
      ]
    },
    {
      "cell_type": "code",
      "metadata": {
        "colab": {
          "base_uri": "https://localhost:8080/",
          "height": 58
        },
        "id": "Iy7b1rd4H2Hq",
        "outputId": "cc4fbc4e-78d6-4ede-f0c4-4733b005a1c1"
      },
      "source": [
        "#ヘッセ行列の逆行列\n",
        "H_inv = H.inv()\n",
        "H_inv"
      ],
      "execution_count": 17,
      "outputs": [
        {
          "output_type": "display_data",
          "data": {
            "text/html": [
              "<script src='https://cdnjs.cloudflare.com/ajax/libs/mathjax/2.7.3/latest.js?config=default'></script>"
            ],
            "text/plain": [
              "<IPython.core.display.HTML object>"
            ]
          },
          "metadata": {}
        },
        {
          "output_type": "execute_result",
          "data": {
            "text/latex": "$\\displaystyle \\left[\\begin{matrix}\\frac{4}{15} & \\frac{1}{15}\\\\\\frac{1}{15} & \\frac{4}{15}\\end{matrix}\\right]$",
            "text/plain": [
              "⎡4/15  1/15⎤\n",
              "⎢          ⎥\n",
              "⎣1/15  4/15⎦"
            ]
          },
          "metadata": {},
          "execution_count": 17
        }
      ]
    },
    {
      "cell_type": "code",
      "metadata": {
        "id": "5wXqAqBVIcQy"
      },
      "source": [
        "#ヘッセ行列の逆行列の値を返す\n",
        "def getHinv(val):\n",
        "  return H_inv.subs({x1:val[0], x2: val[1]})"
      ],
      "execution_count": 18,
      "outputs": []
    },
    {
      "cell_type": "code",
      "metadata": {
        "id": "oxxJxDaEJHC4"
      },
      "source": [
        "#Δfの値を返す関数\n",
        "def getDf(val):\n",
        "  return [dfx1.subs({x1:val[0], x2:val[1]}), dfx2.subs({x1:val[0],x2:val[1]})]"
      ],
      "execution_count": 19,
      "outputs": []
    },
    {
      "cell_type": "code",
      "metadata": {
        "id": "GwaOJ21WKpdb"
      },
      "source": [
        "#ヘッセ行列の逆行列とΔfの積を返す関数\n",
        "def getHinvDeltaf(val):\n",
        "  return np.dot(np.array(getHinv(val).tolist(), dtype=float), np.array(getDf(val), dtype=float))"
      ],
      "execution_count": 20,
      "outputs": []
    },
    {
      "cell_type": "code",
      "metadata": {
        "colab": {
          "base_uri": "https://localhost:8080/"
        },
        "id": "Ec32WFoPM5A2",
        "outputId": "48294dc8-f0a5-446a-a7c0-742b096e4ead"
      },
      "source": [
        "getHinvDeltaf([2,3]) "
      ],
      "execution_count": 21,
      "outputs": [
        {
          "output_type": "execute_result",
          "data": {
            "text/plain": [
              "array([2., 3.])"
            ]
          },
          "metadata": {},
          "execution_count": 21
        }
      ]
    },
    {
      "cell_type": "code",
      "metadata": {
        "colab": {
          "base_uri": "https://localhost:8080/"
        },
        "id": "qmOHmIP7MkN9",
        "outputId": "1c29a035-4b22-4bc2-8bfa-f1c2b13f5834"
      },
      "source": [
        "#ニュートン法で収束まで繰り返し\n",
        "x = np.array([2, 3], dtype=float)\n",
        "for i in range(10):\n",
        "  x -= getHinvDeltaf(x)\n",
        "  print('{0}回目のx = {1}'.format(i, x)) \n",
        "#この場合は1回で収束"
      ],
      "execution_count": 22,
      "outputs": [
        {
          "output_type": "stream",
          "name": "stdout",
          "text": [
            "0回目のx = [0. 0.]\n",
            "1回目のx = [0. 0.]\n",
            "2回目のx = [0. 0.]\n",
            "3回目のx = [0. 0.]\n",
            "4回目のx = [0. 0.]\n",
            "5回目のx = [0. 0.]\n",
            "6回目のx = [0. 0.]\n",
            "7回目のx = [0. 0.]\n",
            "8回目のx = [0. 0.]\n",
            "9回目のx = [0. 0.]\n"
          ]
        }
      ]
    },
    {
      "cell_type": "code",
      "metadata": {
        "id": "HIcovujLDpQt"
      },
      "source": [
        "#ヘッセ行列の値を返す関数 (複数の変数に代入するときは、辞書を使う)\n",
        "def getHesse(val):\n",
        "  return H.subs({x1:val[0], x2: val[1]})"
      ],
      "execution_count": 23,
      "outputs": []
    },
    {
      "cell_type": "markdown",
      "metadata": {
        "id": "P_Jw1wejipbw"
      },
      "source": [
        "### 例題1.7 ニュートン法\n",
        "福島、新版 数理計画入門 P118 表4.2  \n",
        "$f(x) = (x_1 - 1)^2 + 10(x_1^2 - x_2)^2$  \n",
        "最適解は$(x_1, x_2) = (1, 1)$のとき\n",
        "\n",
        "全ての点において、ヘッセ行列が半正定値になるような関数が凸関数であるから、全ての点においてヘッセ行列が正定値であるような関数は凸関数のさらに特別な場合にあたる。一般の非線形関数に対しては、ヘッセ行列の正定値性は普通局所的にしか保証されない。"
      ]
    },
    {
      "cell_type": "code",
      "metadata": {
        "colab": {
          "base_uri": "https://localhost:8080/",
          "height": 42
        },
        "id": "5QXQHml4EeRD",
        "outputId": "d64c4e2c-f3d3-4b7e-88a0-16eff6056f34"
      },
      "source": [
        "sympy.var('x1')\n",
        "sympy.var('x2')\n",
        "f = (x1 -1)**2 + 10*(x1**2 -x2)**2\n",
        "f "
      ],
      "execution_count": 24,
      "outputs": [
        {
          "output_type": "display_data",
          "data": {
            "text/html": [
              "<script src='https://cdnjs.cloudflare.com/ajax/libs/mathjax/2.7.3/latest.js?config=default'></script>"
            ],
            "text/plain": [
              "<IPython.core.display.HTML object>"
            ]
          },
          "metadata": {}
        },
        {
          "output_type": "execute_result",
          "data": {
            "text/latex": "$\\displaystyle \\left(x_{1} - 1\\right)^{2} + 10 \\left(x_{1}^{2} - x_{2}\\right)^{2}$",
            "text/plain": [
              "                         2\n",
              "        2      ⎛  2     ⎞ \n",
              "(x₁ - 1)  + 10⋅⎝x₁  - x₂⎠ "
            ]
          },
          "metadata": {},
          "execution_count": 24
        }
      ]
    },
    {
      "cell_type": "code",
      "metadata": {
        "id": "R-cw-96MkISK"
      },
      "source": [
        "#微分\n",
        "dfx1 = sympy.diff(f, x1, 1)\n",
        "dfx2 = sympy.diff(f, x2, 1)\n",
        "d2fx1 = sympy.diff(f, x1, 2)\n",
        "d2fx1x2 = sympy.diff(f, x1, x2, 1)\n",
        "d2fx2 = sympy.diff(f, x2, 2)"
      ],
      "execution_count": 25,
      "outputs": []
    },
    {
      "cell_type": "code",
      "metadata": {
        "colab": {
          "base_uri": "https://localhost:8080/",
          "height": 58
        },
        "id": "XVCeq4KckR7x",
        "outputId": "b2ada876-db6c-4e7d-c033-df9a5b37e64f"
      },
      "source": [
        "#Δf\n",
        "deltaf = sympy.Matrix([dfx1, dfx2])\n",
        "deltaf"
      ],
      "execution_count": 26,
      "outputs": [
        {
          "output_type": "display_data",
          "data": {
            "text/html": [
              "<script src='https://cdnjs.cloudflare.com/ajax/libs/mathjax/2.7.3/latest.js?config=default'></script>"
            ],
            "text/plain": [
              "<IPython.core.display.HTML object>"
            ]
          },
          "metadata": {}
        },
        {
          "output_type": "execute_result",
          "data": {
            "text/latex": "$\\displaystyle \\left[\\begin{matrix}40 x_{1} \\left(x_{1}^{2} - x_{2}\\right) + 2 x_{1} - 2\\\\- 20 x_{1}^{2} + 20 x_{2}\\end{matrix}\\right]$",
            "text/plain": [
              "⎡      ⎛  2     ⎞           ⎤\n",
              "⎢40⋅x₁⋅⎝x₁  - x₂⎠ + 2⋅x₁ - 2⎥\n",
              "⎢                           ⎥\n",
              "⎢            2              ⎥\n",
              "⎣     - 20⋅x₁  + 20⋅x₂      ⎦"
            ]
          },
          "metadata": {},
          "execution_count": 26
        }
      ]
    },
    {
      "cell_type": "code",
      "metadata": {
        "colab": {
          "base_uri": "https://localhost:8080/",
          "height": 58
        },
        "id": "f74QoWjbkV4s",
        "outputId": "1a162956-4cff-4619-b149-f67f9be1ed97"
      },
      "source": [
        "#ヘッセ行列\n",
        "H = sympy.Matrix([[d2fx1,d2fx1x2], [d2fx1x2, d2fx2]])\n",
        "H"
      ],
      "execution_count": 27,
      "outputs": [
        {
          "output_type": "display_data",
          "data": {
            "text/html": [
              "<script src='https://cdnjs.cloudflare.com/ajax/libs/mathjax/2.7.3/latest.js?config=default'></script>"
            ],
            "text/plain": [
              "<IPython.core.display.HTML object>"
            ]
          },
          "metadata": {}
        },
        {
          "output_type": "execute_result",
          "data": {
            "text/latex": "$\\displaystyle \\left[\\begin{matrix}2 \\left(60 x_{1}^{2} - 20 x_{2} + 1\\right) & - 40 x_{1}\\\\- 40 x_{1} & 20\\end{matrix}\\right]$",
            "text/plain": [
              "⎡  ⎛     2            ⎞        ⎤\n",
              "⎢2⋅⎝60⋅x₁  - 20⋅x₂ + 1⎠  -40⋅x₁⎥\n",
              "⎢                              ⎥\n",
              "⎣        -40⋅x₁            20  ⎦"
            ]
          },
          "metadata": {},
          "execution_count": 27
        }
      ]
    },
    {
      "cell_type": "code",
      "metadata": {
        "id": "-FnvNusWkfpy"
      },
      "source": [
        "#ヘッセ行列の値を返す関数 (複数の変数に代入するときは、辞書を使う)\n",
        "def getHesse(val):\n",
        "  return H.subs({x1:val[0], x2: val[1]})"
      ],
      "execution_count": 28,
      "outputs": []
    },
    {
      "cell_type": "code",
      "metadata": {
        "colab": {
          "base_uri": "https://localhost:8080/",
          "height": 71
        },
        "id": "_Uq7d6JBltLI",
        "outputId": "b8cd4a65-fa2e-4ede-9b61-1afb77ef239d"
      },
      "source": [
        "#ヘッセ行列の逆行列\n",
        "H_inv = H.inv()\n",
        "H_inv"
      ],
      "execution_count": 29,
      "outputs": [
        {
          "output_type": "display_data",
          "data": {
            "text/html": [
              "<script src='https://cdnjs.cloudflare.com/ajax/libs/mathjax/2.7.3/latest.js?config=default'></script>"
            ],
            "text/plain": [
              "<IPython.core.display.HTML object>"
            ]
          },
          "metadata": {}
        },
        {
          "output_type": "execute_result",
          "data": {
            "text/latex": "$\\displaystyle \\left[\\begin{matrix}\\frac{1}{40 x_{1}^{2} - 40 x_{2} + 2} & \\frac{x_{1}}{20 x_{1}^{2} - 20 x_{2} + 1}\\\\\\frac{x_{1}}{20 x_{1}^{2} - 20 x_{2} + 1} & \\frac{60 x_{1}^{2} - 20 x_{2} + 1}{400 x_{1}^{2} - 400 x_{2} + 20}\\end{matrix}\\right]$",
            "text/plain": [
              "⎡        1                    x₁          ⎤\n",
              "⎢──────────────────   ──────────────────  ⎥\n",
              "⎢     2                    2              ⎥\n",
              "⎢40⋅x₁  - 40⋅x₂ + 2   20⋅x₁  - 20⋅x₂ + 1  ⎥\n",
              "⎢                                         ⎥\n",
              "⎢                           2             ⎥\n",
              "⎢        x₁            60⋅x₁  - 20⋅x₂ + 1 ⎥\n",
              "⎢──────────────────  ─────────────────────⎥\n",
              "⎢     2                    2              ⎥\n",
              "⎣20⋅x₁  - 20⋅x₂ + 1  400⋅x₁  - 400⋅x₂ + 20⎦"
            ]
          },
          "metadata": {},
          "execution_count": 29
        }
      ]
    },
    {
      "cell_type": "code",
      "metadata": {
        "id": "rsLtCF3hl012"
      },
      "source": [
        "#ヘッセ行列の逆行列の値を返す\n",
        "def getHinv(val):\n",
        "  return H_inv.subs({x1:val[0], x2: val[1]})"
      ],
      "execution_count": 30,
      "outputs": []
    },
    {
      "cell_type": "code",
      "metadata": {
        "id": "V0pK1hh0l59e"
      },
      "source": [
        "#Δfの値を返す関数\n",
        "def getDf(val):\n",
        "  return [dfx1.subs({x1:val[0], x2:val[1]}), dfx2.subs({x1:val[0],x2:val[1]})]"
      ],
      "execution_count": 31,
      "outputs": []
    },
    {
      "cell_type": "code",
      "metadata": {
        "id": "uf_nCZM_l-0Y"
      },
      "source": [
        "#ヘッセ行列の逆行列とΔfの積を返す関数\n",
        "def getHinvDeltaf(val):\n",
        "  return np.dot(np.array(getHinv(val).tolist(), dtype=float), np.array(getDf(val), dtype=float))"
      ],
      "execution_count": 32,
      "outputs": []
    },
    {
      "cell_type": "code",
      "metadata": {
        "colab": {
          "base_uri": "https://localhost:8080/"
        },
        "id": "pe7mbO5nmCwx",
        "outputId": "a0bd2baf-8d38-4bf1-db7b-52640db0b139"
      },
      "source": [
        "#ニュートン法で収束まで繰り返し\n",
        "x = np.array([0, 0], dtype=float)\n",
        "for i in range(10):\n",
        "  x -= getHinvDeltaf(x)\n",
        "  print('{0}回目のx = {1}'.format(i, x)) \n",
        "#この場合は1回で収束"
      ],
      "execution_count": 33,
      "outputs": [
        {
          "output_type": "stream",
          "name": "stdout",
          "text": [
            "0回目のx = [1. 0.]\n",
            "1回目のx = [1. 1.]\n",
            "2回目のx = [1. 1.]\n",
            "3回目のx = [1. 1.]\n",
            "4回目のx = [1. 1.]\n",
            "5回目のx = [1. 1.]\n",
            "6回目のx = [1. 1.]\n",
            "7回目のx = [1. 1.]\n",
            "8回目のx = [1. 1.]\n",
            "9回目のx = [1. 1.]\n"
          ]
        }
      ]
    },
    {
      "cell_type": "markdown",
      "metadata": {
        "id": "cu4MGotkrQi6"
      },
      "source": [
        "## 準ニュートン法\n",
        "準ニュートン法は、ヘッセ行列を計算することなく、ニュートン法のような速い収束性を持たせようと考案された方法\n",
        "\n",
        "### 準ニュートン法アルゴリズム\n",
        "\n",
        "\n",
        "1.   初期設定：初期点$x_0$、正定値対称な初期行列$B_0$を与える。$k=0$とおく\n",
        "2.   停止条件が満たされていれば、$x_k$を近似解として停止する。さもなければ、3へいく\n",
        "1.   連立1次方程式 $B_k d = -\\nabla f(x_k)$ を解いて探索方法$d_k$を求める\n",
        "2.   $d_k$方向でのステップ幅$\\alpha_k$を求める(直線探索)\n",
        "1.   $x_{k+1} = x_k +\\alpha_k d_k$とおく\n",
        "2.   $B_k$を更新して$B_{k+1}$を生成する。2へ戻る\n",
        "\n",
        "八巻、非線形計画法、朝倉書店 P31\n"
      ]
    },
    {
      "cell_type": "markdown",
      "metadata": {
        "id": "jLqX9NIBuirG"
      },
      "source": [
        "### 例1.8 準ニュートン法 (BFGS)\n",
        "$f(x_1, x_2) = \\frac{1}{2}(x_1 - x_2^2)^2 + \\frac{1}{4}(x_2 -2)^4$  \n",
        "最適解は$(x_1, x_2) = (4, 2)$のとき\n",
        "\n",
        "八巻、非線形計画法、朝倉書店 P32 例2.1\n"
      ]
    },
    {
      "cell_type": "code",
      "metadata": {
        "colab": {
          "base_uri": "https://localhost:8080/",
          "height": 42
        },
        "id": "EOirpZGOlP6r",
        "outputId": "a13b4154-1c89-46bb-e429-5d72f819b97e"
      },
      "source": [
        "sympy.var('x1')\n",
        "sympy.var('x2')\n",
        "f = 1 / 2 * (x1 - x2**2)**2 + 1 / 4 * (x2 - 2)**4 \n",
        "f "
      ],
      "execution_count": 34,
      "outputs": [
        {
          "output_type": "display_data",
          "data": {
            "text/html": [
              "<script src='https://cdnjs.cloudflare.com/ajax/libs/mathjax/2.7.3/latest.js?config=default'></script>"
            ],
            "text/plain": [
              "<IPython.core.display.HTML object>"
            ]
          },
          "metadata": {}
        },
        {
          "output_type": "execute_result",
          "data": {
            "text/latex": "$\\displaystyle 0.5 \\left(x_{1} - x_{2}^{2}\\right)^{2} + 0.25 \\left(x_{2} - 2\\right)^{4}$",
            "text/plain": [
              "              2                 \n",
              "    ⎛       2⎞                 4\n",
              "0.5⋅⎝x₁ - x₂ ⎠  + 0.25⋅(x₂ - 2) "
            ]
          },
          "metadata": {},
          "execution_count": 34
        }
      ]
    },
    {
      "cell_type": "code",
      "metadata": {
        "id": "xDTEAC6CvdDZ"
      },
      "source": [
        "#微分\n",
        "dfx1 = sympy.diff(f, x1, 1)\n",
        "dfx2 = sympy.diff(f, x2, 1)"
      ],
      "execution_count": 35,
      "outputs": []
    },
    {
      "cell_type": "code",
      "metadata": {
        "colab": {
          "base_uri": "https://localhost:8080/",
          "height": 60
        },
        "id": "qWQ22JaLvkCv",
        "outputId": "6466cf84-1f80-4239-8dbd-af214fe34bb1"
      },
      "source": [
        "#Δf\n",
        "deltaf = sympy.Matrix([dfx1, dfx2])\n",
        "deltaf"
      ],
      "execution_count": 36,
      "outputs": [
        {
          "output_type": "display_data",
          "data": {
            "text/html": [
              "<script src='https://cdnjs.cloudflare.com/ajax/libs/mathjax/2.7.3/latest.js?config=default'></script>"
            ],
            "text/plain": [
              "<IPython.core.display.HTML object>"
            ]
          },
          "metadata": {}
        },
        {
          "output_type": "execute_result",
          "data": {
            "text/latex": "$\\displaystyle \\left[\\begin{matrix}1.0 x_{1} - 1.0 x_{2}^{2}\\\\- 2.0 x_{2} \\left(x_{1} - x_{2}^{2}\\right) + 1.0 \\left(x_{2} - 2\\right)^{3}\\end{matrix}\\right]$",
            "text/plain": [
              "⎡                      2            ⎤\n",
              "⎢           1.0⋅x₁ - x₂             ⎥\n",
              "⎢                                   ⎥\n",
              "⎢         ⎛       2⎞               3⎥\n",
              "⎣- 2.0⋅x₂⋅⎝x₁ - x₂ ⎠ + 1.0⋅(x₂ - 2) ⎦"
            ]
          },
          "metadata": {},
          "execution_count": 36
        }
      ]
    },
    {
      "cell_type": "code",
      "metadata": {
        "id": "FJIJTFp0vrtM"
      },
      "source": [
        "#Δfの値を返す関数\n",
        "def getDf(val):\n",
        "  return [dfx1.subs({x1:val[0], x2:val[1]}), dfx2.subs({x1:val[0],x2:val[1]})]"
      ],
      "execution_count": 37,
      "outputs": []
    },
    {
      "cell_type": "code",
      "metadata": {
        "id": "S0GpCeOUw29C"
      },
      "source": [
        "#Bの逆行列と∇fとの行列計算\n",
        "def getBf(B, val):\n",
        "  return np.dot(np.linalg.inv(B), np.array(getDf(val), dtype=float))"
      ],
      "execution_count": 38,
      "outputs": []
    },
    {
      "cell_type": "code",
      "metadata": {
        "id": "4dYFludazYqt"
      },
      "source": [
        "# Bの更新\n",
        "def getB(B, s, y):\n",
        "  bs = np.dot(B, s) #第2項 分子 第１要素\n",
        "  bsbs = np.dot(bs.reshape(len(bs), 1), bs.reshape(1,len(bs))) #第2項分子：2行1列と1行2列の計算\n",
        "  sbs = np.dot(s, bs) #第2項 分母 (積の順序に注意: 右側から)\n",
        "  yy = np.dot(y.reshape(len(y), 1), y.reshape(1,len(y))) # 第3項 分子 2行1列と1行2列の計算\n",
        "  sy = np.dot(s.T, y) #第3項 分母\n",
        "  return B - bsbs / sbs + yy / sy"
      ],
      "execution_count": 39,
      "outputs": []
    },
    {
      "cell_type": "code",
      "metadata": {
        "colab": {
          "base_uri": "https://localhost:8080/"
        },
        "id": "1DOQpOId8WXN",
        "outputId": "30d5ca32-f6ac-4cdb-844c-5ead069c2292"
      },
      "source": [
        "#1. 初期値の設定\n",
        "B = np.array([[1, -2], [-2, 12]])\n",
        "x = [0,0]\n",
        "\n",
        "for i in range(30):\n",
        "  s = x.copy() #更新前のx\n",
        "  y = np.array(getDf(x), dtype=float) #更新前の∇f\n",
        "  x -= + getBf(B, x) #xの更新 3.探索方向を求めて、5. xを更新\n",
        "  \n",
        "  s = np.array(x, dtype=float) - np.array(s, dtype=float) #x_k+1 - x_k\n",
        "  y = np.array(getDf(x), dtype=float) - y #∇f(x_k+1) - ∇f(x_k)\n",
        "  B = getB(B, s, y)\n",
        "  print('{0}回目 : x = {1}'.format(i, x))\n",
        "  print('{0}回目 : s = {1}'.format(i, s))\n",
        "  print('{0}回目 : y = {1}'.format(i, y))\n",
        "  print('{0}回目 : B = {1}'.format(i, B))\n"
      ],
      "execution_count": 40,
      "outputs": [
        {
          "output_type": "stream",
          "name": "stdout",
          "text": [
            "0回目 : x = [2. 1.]\n",
            "0回目 : s = [2. 1.]\n",
            "0回目 : y = [1. 5.]\n",
            "0回目 : B = [[ 1.14285714 -1.28571429]\n",
            " [-1.28571429  7.57142857]]\n",
            "1回目 : x = [1.46938776 1.30612245]\n",
            "1回目 : s = [-0.53061224  0.30612245]\n",
            "1回目 : y = [-1.2365681   3.28389532]\n",
            "1回目 : B = [[ 1.37307827 -1.65945344]\n",
            " [-1.65945344  7.85100539]]\n",
            "2回目 : x = [1.64209416 1.30646673]\n",
            "2回目 : s = [0.1727064  0.00034428]\n",
            "2回目 : y = [ 0.17180695 -0.44826021]\n",
            "2回目 : B = [[ 1.00001633 -2.62078273]\n",
            " [-2.62078273 12.68093241]]\n",
            "3回目 : x = [1.8574863  1.36394364]\n",
            "3回目 : s = [0.21539214 0.05747692]\n",
            "3回目 : y = [ 0.06190519 -0.08517222]\n",
            "3回目 : B = [[ 1.2748979  -3.70057779]\n",
            " [-3.70057779 12.38589673]]\n",
            "4回目 : x = [2.31482725 1.52073188]\n",
            "4回目 : s = [0.45734096 0.15678824]\n",
            "4回目 : y = [0.00505777 0.13275349]\n",
            "4回目 : B = [[ 1.27580226 -3.68917253]\n",
            " [-3.68917253 11.60777897]]\n",
            "5回目 : x = [2.65277292 1.63819823]\n",
            "5回目 : s = [0.33794566 0.11746635]\n",
            "5回目 : y = [-0.03312234  0.1707315 ]\n",
            "5回目 : B = [[ 1.39923045 -4.307499  ]\n",
            " [-4.307499   13.84594009]]\n",
            "6回目 : x = [2.89174274 1.70864591]\n",
            "6回目 : s = [0.23896982 0.07044768]\n",
            "6回目 : y = [0.00319241 0.01607497]\n",
            "6回目 : B = [[ 1.13818418 -3.81558701]\n",
            " [-3.81558701 13.17126542]]\n",
            "7回目 : x = [3.11835222 1.76897614]\n",
            "7回目 : s = [0.22660949 0.06033022]\n",
            "7回目 : y = [ 0.01680378 -0.04370325]\n",
            "7回目 : B = [[ 1.00584626 -3.49958148]\n",
            " [-3.49958148 12.42055952]]\n",
            "8回目 : x = [3.29542822 1.81674953]\n",
            "8回目 : s = [0.177076   0.04777339]\n",
            "8回目 : y = [ 0.00577371 -0.01375847]\n",
            "8回目 : B = [[ 0.92088947 -3.292496  ]\n",
            " [-3.292496   11.91591176]]\n",
            "9回目 : x = [3.44626348 1.8573728 ]\n",
            "9回目 : s = [0.15083525 0.04062327]\n",
            "9回目 : y = [ 0.00158038 -0.00219994]\n",
            "9回目 : B = [[ 0.83815075 -3.07317192]\n",
            " [-3.07317192 11.3566113 ]]\n",
            "10回目 : x = [3.56362454 1.88821911]\n",
            "10回目 : s = [0.11736106 0.03084631]\n",
            "10回目 : y = [ 0.00182338 -0.00516092]\n",
            "10回目 : B = [[ 0.77059166 -2.87276116]\n",
            " [-2.87276116 10.76269401]]\n",
            "11回目 : x = [3.65808223 1.91294843]\n",
            "11回目 : s = [0.09445769 0.02472932]\n",
            "11回目 : y = [ 0.0004574  -0.00092653]\n",
            "11回目 : B = [[ 0.69708272 -2.64412543]\n",
            " [-2.64412543 10.06220297]]\n",
            "12回目 : x = [3.73157073 1.93183486]\n",
            "12回目 : s = [0.0734885  0.01888643]\n",
            "12回目 : y = [ 0.00087428 -0.00298626]\n",
            "12回目 : B = [[ 0.6760826  -2.58439657]\n",
            " [-2.58439657  9.89796301]]\n",
            "13回目 : x = [3.79300081 1.94774442]\n",
            "13回目 : s = [0.06143009 0.01590956]\n",
            "13回目 : y = [-0.00029231  0.00132594]\n",
            "13回目 : B = [[ 0.66898495 -2.60146194]\n",
            " [-2.60146194 10.12812279]]\n",
            "14回目 : x = [3.83913016 1.95933495]\n",
            "14回目 : s = [0.04612935 0.01159053]\n",
            "14回目 : y = [ 0.00084422 -0.00321637]\n",
            "14回目 : B = [[ 0.88398047 -3.44533132]\n",
            " [-3.44533132 13.43463063]]\n",
            "15回目 : x = [3.88179661 1.97032171]\n",
            "15回目 : s = [0.04266645 0.01098676]\n",
            "15回目 : y = [-0.00050773  0.00203889]\n",
            "15回目 : B = [[ 1.20983421 -4.74453599]\n",
            " [-4.74453599 18.61071507]]\n",
            "16回目 : x = [3.89932958 1.97471433]\n",
            "16回目 : s = [0.01753296 0.00439262]\n",
            "16回目 : y = [ 0.00020391 -0.00079209]\n",
            "16回目 : B = [[ 0.94746096 -3.73532872]\n",
            " [-3.73532872 14.72908039]]\n",
            "17回目 : x = [3.92149983 1.98029305]\n",
            "17回目 : s = [0.02217025 0.00557871]\n",
            "17回目 : y = [ 0.00010639 -0.000411  ]\n",
            "17回目 : B = [[ 0.87244996 -3.44811351]\n",
            " [-3.44811351 13.62940111]]\n",
            "18回目 : x = [3.93817459 1.98449453]\n",
            "18回目 : s = [0.01667477 0.00420148]\n",
            "18回目 : y = [ 1.67922965e-05 -6.22125568e-05]\n",
            "18回目 : B = [[ 0.77993345 -3.0913909 ]\n",
            " [-3.0913909  12.25425647]]\n",
            "19回目 : x = [3.95161712 1.98787176]\n",
            "19回目 : s = [0.01344252 0.00337723]\n",
            "19回目 : y = [ 2.69197285e-05 -1.04785395e-04]\n",
            "19回目 : B = [[ 0.7354963  -2.91955237]\n",
            " [-2.91955237 11.589776  ]]\n",
            "20回目 : x = [3.96249324 1.99060585]\n",
            "20回目 : s = [0.01087612 0.0027341 ]\n",
            "20回目 : y = [-1.42084377e-06  6.70464892e-06]\n",
            "20回目 : B = [[ 0.67811266 -2.69802333]\n",
            " [-2.69802333 10.73507554]]\n",
            "21回目 : x = [3.97062284 1.99264229]\n",
            "21回目 : s = [0.0081296  0.00203644]\n",
            "21回目 : y = [ 1.79652706e-05 -7.10909373e-05]\n",
            "21回目 : B = [[ 0.76854734 -3.05927291]\n",
            " [-3.05927291 12.17792232]]\n",
            "22回目 : x = [3.97824254 1.99455635]\n",
            "22回目 : s = [0.0076197  0.00191406]\n",
            "22回目 : y = [-1.20425334e-05  4.82778033e-05]\n",
            "22回目 : B = [[ 0.99269294 -3.95810993]\n",
            " [-3.95810993 15.78209035]]\n",
            "23回目 : x = [3.98228478 1.99556699]\n",
            "23回目 : s = [0.00404225 0.00101064]\n",
            "23回目 : y = [ 9.68994494e-06 -3.85743912e-05]\n",
            "23回目 : B = [[ 0.97483389 -3.88946616]\n",
            " [-3.88946616 15.51857336]]\n",
            "24回目 : x = [3.9861484  1.99653462]\n",
            "24回目 : s = [0.00386362 0.00096763]\n",
            "24回目 : y = [ 7.35915417e-07 -2.88760922e-06]\n",
            "24回目 : B = [[ 0.89669926 -3.57963601]\n",
            " [-3.57963601 14.29000888]]\n",
            "25回目 : x = [3.98918545 1.99729482]\n",
            "25回目 : s = [0.00303705 0.0007602 ]\n",
            "25回目 : y = [ 9.40653861e-07 -3.73254341e-06]\n",
            "25回目 : B = [[ 0.81800911 -3.26676366]\n",
            " [-3.26676366 13.04602913]]\n",
            "26回目 : x = [3.9915408  1.99788426]\n",
            "26回目 : s = [0.00235535 0.00058944]\n",
            "26回目 : y = [ 4.36279858e-07 -1.73160329e-06]\n",
            "26回目 : B = [[ 0.74200795 -2.9642637 ]\n",
            " [-2.9642637  11.84202062]]\n",
            "27回目 : x = [3.993391   1.99834716]\n",
            "27回目 : s = [0.0018502 0.0004629]\n",
            "27回目 : y = [ 3.42638228e-07 -1.36381295e-06]\n",
            "27回目 : B = [[ 0.6826908  -2.72795553]\n",
            " [-2.72795553 10.90061458]]\n",
            "28回目 : x = [3.99485708 1.99871392]\n",
            "28回目 : s = [0.00146608 0.00036677]\n",
            "28回目 : y = [ 9.89719986e-08 -3.92980070e-07]\n",
            "28回目 : B = [[ 0.61773056 -2.46900364]\n",
            " [-2.46900364  9.86835314]]\n",
            "29回目 : x = [3.99597762 1.99899417]\n",
            "29回目 : s = [0.00112054 0.00028025]\n",
            "29回目 : y = [ 1.96782359e-07 -7.85476891e-07]\n",
            "29回目 : B = [[ 0.6177956  -2.46949811]\n",
            " [-2.46949811  9.87126379]]\n"
          ]
        }
      ]
    },
    {
      "cell_type": "markdown",
      "metadata": {
        "id": "XMbnmApFNxZS"
      },
      "source": [
        "### 例1.9 scipy.optimize.minimize の利用 : Broyden-Fletcher-Goldfarb-Shanno algorithm (method='BFGS')\n",
        "https://docs.scipy.org/doc/scipy/reference/tutorial/optimize.html#broyden-fletcher-goldfarb-shanno-algorithm-method-bfgs  \n",
        "\n",
        "$f(x_1, x_2) = \\frac{1}{2}(x_1 - x_2^2)^2 + \\frac{1}{4}(x_2 -2)^4$  \n",
        "最適解は$(x_1, x_2) = (4, 2)$のとき\n",
        "\n",
        "八巻、非線形計画法、朝倉書店 P32 例2.1"
      ]
    },
    {
      "cell_type": "code",
      "metadata": {
        "colab": {
          "base_uri": "https://localhost:8080/",
          "height": 42
        },
        "id": "-Kla7R9XJ_Xz",
        "outputId": "2ba9f13c-df83-4a2b-fc7c-07525d7b42bb"
      },
      "source": [
        "sympy.var('x1')\n",
        "sympy.var('x2')\n",
        "f = 1 / 2 * (x1 - x2**2)**2 + 1 / 4 * (x2 - 2)**4 \n",
        "f \n"
      ],
      "execution_count": 41,
      "outputs": [
        {
          "output_type": "display_data",
          "data": {
            "text/html": [
              "<script src='https://cdnjs.cloudflare.com/ajax/libs/mathjax/2.7.3/latest.js?config=default'></script>"
            ],
            "text/plain": [
              "<IPython.core.display.HTML object>"
            ]
          },
          "metadata": {}
        },
        {
          "output_type": "execute_result",
          "data": {
            "text/latex": "$\\displaystyle 0.5 \\left(x_{1} - x_{2}^{2}\\right)^{2} + 0.25 \\left(x_{2} - 2\\right)^{4}$",
            "text/plain": [
              "              2                 \n",
              "    ⎛       2⎞                 4\n",
              "0.5⋅⎝x₁ - x₂ ⎠  + 0.25⋅(x₂ - 2) "
            ]
          },
          "metadata": {},
          "execution_count": 41
        }
      ]
    },
    {
      "cell_type": "code",
      "metadata": {
        "id": "bh5i_dstPWWo"
      },
      "source": [
        "#目的関数\n",
        "def f1_9(x):\n",
        "  return 1 / 2 * (x[0] - x[1]**2)**2 + 1 / 4 * (x[1] - 2)**4 "
      ],
      "execution_count": 42,
      "outputs": []
    },
    {
      "cell_type": "code",
      "metadata": {
        "id": "mCaGwwr7OkeV"
      },
      "source": [
        "#微分\n",
        "dfx1 = sympy.diff(f, x1, 1)\n",
        "dfx2 = sympy.diff(f, x2, 1)"
      ],
      "execution_count": 43,
      "outputs": []
    },
    {
      "cell_type": "code",
      "metadata": {
        "id": "sup4j8qmOw6B"
      },
      "source": [
        "#Δfの値を返す関数\n",
        "def getDf(x):\n",
        "  return np.array([dfx1.subs({x1:x[0], x2:x[1]}), dfx2.subs({x1:x[0],x2:x[1]})], dtype=float)"
      ],
      "execution_count": 44,
      "outputs": []
    },
    {
      "cell_type": "code",
      "metadata": {
        "colab": {
          "base_uri": "https://localhost:8080/"
        },
        "id": "DdPLNZpGPLyr",
        "outputId": "c8a5eba8-bc28-42f8-a827-4516a71b7117"
      },
      "source": [
        "res = minimize(f1_9, [0,0], method='BFGS', jac=getDf, options={'disp': True})\n",
        "res.x"
      ],
      "execution_count": 45,
      "outputs": [
        {
          "output_type": "stream",
          "name": "stdout",
          "text": [
            "Optimization terminated successfully.\n",
            "         Current function value: 0.000000\n",
            "         Iterations: 24\n",
            "         Function evaluations: 25\n",
            "         Gradient evaluations: 25\n"
          ]
        },
        {
          "output_type": "execute_result",
          "data": {
            "text/plain": [
              "array([3.98110703, 1.9952718 ])"
            ]
          },
          "metadata": {},
          "execution_count": 45
        }
      ]
    },
    {
      "cell_type": "markdown",
      "metadata": {
        "id": "Q74-7xA-kX1C"
      },
      "source": [
        "### 例1.10 scipy.optimize.minimizeの利用 Newton-Conjugate-Gradient algorithm (method='Newton-CG')  \n",
        "https://docs.scipy.org/doc/scipy/reference/tutorial/optimize.html#newton-conjugate-gradient-algorithm-method-newton-cg\n",
        "\n",
        "$f(x_1, x_2) = \\frac{1}{2}(x_1 - x_2^2)^2 + \\frac{1}{4}(x_2 -2)^4$  \n",
        "最適解は$(x_1, x_2) = (4, 2)$のとき\n",
        "\n",
        "八巻、非線形計画法、朝倉書店 P32 例2.1"
      ]
    },
    {
      "cell_type": "code",
      "metadata": {
        "colab": {
          "base_uri": "https://localhost:8080/",
          "height": 42
        },
        "id": "2DHL4cHjlBr_",
        "outputId": "72079dab-2735-4499-c1f7-94dcddc6af1f"
      },
      "source": [
        "sympy.var('x1')\n",
        "sympy.var('x2')\n",
        "f = 1 / 2 * (x1 - x2**2)**2 + 1 / 4 * (x2 - 2)**4 \n",
        "f "
      ],
      "execution_count": 46,
      "outputs": [
        {
          "output_type": "display_data",
          "data": {
            "text/html": [
              "<script src='https://cdnjs.cloudflare.com/ajax/libs/mathjax/2.7.3/latest.js?config=default'></script>"
            ],
            "text/plain": [
              "<IPython.core.display.HTML object>"
            ]
          },
          "metadata": {}
        },
        {
          "output_type": "execute_result",
          "data": {
            "text/latex": "$\\displaystyle 0.5 \\left(x_{1} - x_{2}^{2}\\right)^{2} + 0.25 \\left(x_{2} - 2\\right)^{4}$",
            "text/plain": [
              "              2                 \n",
              "    ⎛       2⎞                 4\n",
              "0.5⋅⎝x₁ - x₂ ⎠  + 0.25⋅(x₂ - 2) "
            ]
          },
          "metadata": {},
          "execution_count": 46
        }
      ]
    },
    {
      "cell_type": "code",
      "metadata": {
        "id": "jtccpZboQchN"
      },
      "source": [
        "#目的関数\n",
        "def f1_9(x):\n",
        "  return 1 / 2 * (x[0] - x[1]**2)**2 + 1 / 4 * (x[1] - 2)**4 "
      ],
      "execution_count": 47,
      "outputs": []
    },
    {
      "cell_type": "code",
      "metadata": {
        "id": "pySg984Eme1g"
      },
      "source": [
        "#微分\n",
        "dfx1 = sympy.diff(f, x1, 1)\n",
        "dfx2 = sympy.diff(f, x2, 1)\n",
        "d2fx1 = sympy.diff(f, x1, 2)\n",
        "d2fx1x2 = sympy.diff(f, x1, x2, 1)\n",
        "d2fx2 = sympy.diff(f, x2, 2)"
      ],
      "execution_count": 48,
      "outputs": []
    },
    {
      "cell_type": "code",
      "metadata": {
        "id": "vWPq_jOSsZMU"
      },
      "source": [
        "#Δfの値を返す関数\n",
        "def getDf(x):\n",
        "  return np.array([dfx1.subs({x1:x[0], x2:x[1]}), dfx2.subs({x1:x[0],x2:x[1]})], dtype=float)"
      ],
      "execution_count": 49,
      "outputs": []
    },
    {
      "cell_type": "code",
      "metadata": {
        "colab": {
          "base_uri": "https://localhost:8080/",
          "height": 60
        },
        "id": "e3abHzaFrvSw",
        "outputId": "b55b1ee6-646f-48e7-d4d0-9521ae0b5598"
      },
      "source": [
        "#ヘッセ行列\n",
        "H = sympy.Matrix([[d2fx1,d2fx1x2], [d2fx1x2, d2fx2]])\n",
        "H"
      ],
      "execution_count": 50,
      "outputs": [
        {
          "output_type": "display_data",
          "data": {
            "text/html": [
              "<script src='https://cdnjs.cloudflare.com/ajax/libs/mathjax/2.7.3/latest.js?config=default'></script>"
            ],
            "text/plain": [
              "<IPython.core.display.HTML object>"
            ]
          },
          "metadata": {}
        },
        {
          "output_type": "execute_result",
          "data": {
            "text/latex": "$\\displaystyle \\left[\\begin{matrix}1.0 & - 2.0 x_{2}\\\\- 2.0 x_{2} & - 2.0 x_{1} + 6.0 x_{2}^{2} + 3.0 \\left(x_{2} - 2\\right)^{2}\\end{matrix}\\right]$",
            "text/plain": [
              "⎡  1.0                 -2.0⋅x₂             ⎤\n",
              "⎢                                          ⎥\n",
              "⎢                         2               2⎥\n",
              "⎣-2.0⋅x₂  -2.0⋅x₁ + 6.0⋅x₂  + 3.0⋅(x₂ - 2) ⎦"
            ]
          },
          "metadata": {},
          "execution_count": 50
        }
      ]
    },
    {
      "cell_type": "code",
      "metadata": {
        "id": "jYyjgaX5r1ff"
      },
      "source": [
        "#ヘッセ行列の値を返す関数 (複数の変数に代入するときは、辞書を使う)\n",
        "def getHesse(x):\n",
        "  return np.array(H.subs({x1:x[0], x2: x[1]}), dtype=float)"
      ],
      "execution_count": 51,
      "outputs": []
    },
    {
      "cell_type": "code",
      "metadata": {
        "colab": {
          "base_uri": "https://localhost:8080/"
        },
        "id": "W9g2zaxDsES1",
        "outputId": "55b2674c-34c7-491f-e867-340b21db6aef"
      },
      "source": [
        "res = minimize(f1_9, [0,0], method='Newton-CG',\n",
        "               jac=getDf, hess=getHesse,\n",
        "               options={'xtol': 1e-8, 'disp': True})\n",
        "res.x"
      ],
      "execution_count": 52,
      "outputs": [
        {
          "output_type": "stream",
          "name": "stdout",
          "text": [
            "Optimization terminated successfully.\n",
            "         Current function value: 0.000000\n",
            "         Iterations: 28\n",
            "         Function evaluations: 32\n",
            "         Gradient evaluations: 59\n",
            "         Hessian evaluations: 28\n"
          ]
        },
        {
          "output_type": "execute_result",
          "data": {
            "text/plain": [
              "array([3.9394992 , 1.98481738])"
            ]
          },
          "metadata": {},
          "execution_count": 52
        }
      ]
    },
    {
      "cell_type": "markdown",
      "metadata": {
        "id": "5SqyT1-SthII"
      },
      "source": [
        "### 例1.11 scipy.optimize.minimizeの利用 Trust-Region Newton-Conjugate-Gradient Algorithm (method='trust-ncg')  \n",
        "https://docs.scipy.org/doc/scipy/reference/tutorial/optimize.html#trust-region-newton-conjugate-gradient-algorithm-method-trust-ncg\n",
        "\n",
        "$f(x_1, x_2) = \\frac{1}{2}(x_1 - x_2^2)^2 + \\frac{1}{4}(x_2 -2)^4$  \n",
        "最適解は$(x_1, x_2) = (4, 2)$のとき\n",
        "\n",
        "八巻、非線形計画法、朝倉書店 P32 例2.1"
      ]
    },
    {
      "cell_type": "code",
      "metadata": {
        "colab": {
          "base_uri": "https://localhost:8080/"
        },
        "id": "rjfJX41AsH3B",
        "outputId": "150da3b5-b384-43ce-95dc-4e72d5e18e55"
      },
      "source": [
        "res = minimize(f1_9, [0,0], method='trust-ncg',\n",
        "               jac=getDf, hess=getHesse,\n",
        "               options={'gtol': 1e-8, 'disp': True})\n",
        "res.x"
      ],
      "execution_count": 53,
      "outputs": [
        {
          "output_type": "stream",
          "name": "stdout",
          "text": [
            "Optimization terminated successfully.\n",
            "         Current function value: 0.000000\n",
            "         Iterations: 31\n",
            "         Function evaluations: 32\n",
            "         Gradient evaluations: 32\n",
            "         Hessian evaluations: 31\n"
          ]
        },
        {
          "output_type": "execute_result",
          "data": {
            "text/plain": [
              "array([3.98939988, 1.99734821])"
            ]
          },
          "metadata": {},
          "execution_count": 53
        }
      ]
    },
    {
      "cell_type": "markdown",
      "metadata": {
        "id": "wsAz7Y46uKsD"
      },
      "source": [
        "### 例1.12 scipy.optimize.minimizeの利用 Trust-Region Truncated Generalized Lanczos / Conjugate Gradient Algorithm (method='trust-krylov')  \n",
        "https://docs.scipy.org/doc/scipy/reference/tutorial/optimize.html#trust-region-truncated-generalized-lanczos-conjugate-gradient-algorithm-method-trust-krylov\n",
        "\n",
        "$f(x_1, x_2) = \\frac{1}{2}(x_1 - x_2^2)^2 + \\frac{1}{4}(x_2 -2)^4$  \n",
        "最適解は$(x_1, x_2) = (4, 2)$のとき\n",
        "\n",
        "八巻、非線形計画法、朝倉書店 P32 例2.1"
      ]
    },
    {
      "cell_type": "code",
      "metadata": {
        "colab": {
          "base_uri": "https://localhost:8080/"
        },
        "id": "mjN30cyDuAP2",
        "outputId": "a463ff6f-ff72-484e-9401-08b45c26a7a7"
      },
      "source": [
        "res = minimize(f1_9, [0,0], method='trust-krylov',\n",
        "               jac=getDf, hess=getHesse,\n",
        "               options={'gtol': 1e-8, 'disp': True})\n",
        "res.x"
      ],
      "execution_count": 54,
      "outputs": [
        {
          "output_type": "stream",
          "name": "stdout",
          "text": [
            " iter inewton type    objective     âgââ_Mâ»Â¹      leftmost         Î»             Î³             Î´             Î±             Î²       \n",
            "     0     0  cg_i -2.412102e-01  7.433205e-01  0.000000e+00  0.000000e+00  1.832491e+00  6.960784e+00  1.436620e-01  1.645388e-01\n",
            "\n",
            " iter inewton type    objective     âgââ_Mâ»Â¹      leftmost         Î»             Î³             Î´             Î±             Î²       \n",
            "     0     0  cg_i -1.419805e-01  1.186689e+00  0.000000e+00  0.000000e+00  8.108135e-01  2.315172e+00  4.319334e-01  2.142060e+00\n",
            "\n",
            " TR Solving trust region problem, radius 1.000000e+00; starting on first irreducible block\n",
            " TR Coldstart. Seeking suitable initial Î»â, starting with 0\n",
            " TR Starting Newton iteration for Î»â with initial choice 0.000000e+00\n",
            " TR  iter        Î»            dÎ»       âhâ(Î»)â-radius\n",
            " TR      1  1.522945e-01  1.522945e-01  8.574606e-05\n",
            " TR      2  1.523565e-01  6.194353e-05  1.577516e-11\n",
            " TR      3  1.523565e-01  1.139706e-11  0.000000e+00\n",
            "\n",
            " iter inewton type    objective     âgââ_Mâ»Â¹      leftmost         Î»             Î³             Î´             Î±             Î²       \n",
            "     0     0  cg_i -1.599414e-02  3.639222e-01  0.000000e+00  0.000000e+00  3.491436e-01  3.810811e+00  2.624113e-01  1.086448e+00\n",
            "\n",
            " iter inewton type    objective     âgââ_Mâ»Â¹      leftmost         Î»             Î³             Î´             Î±             Î²       \n",
            "     0     0  cg_i -1.869655e-03  1.579054e-01  0.000000e+00  0.000000e+00  9.912951e-02  2.627934e+00  3.805270e-01  2.537396e+00\n",
            "\n",
            " iter inewton type    objective     âgââ_Mâ»Â¹      leftmost         Î»             Î³             Î´             Î±             Î²       \n",
            "     0     0  cg_i -1.395127e-04  3.420067e-02  0.000000e+00  0.000000e+00  4.441496e-02  7.069924e+00  1.414442e-01  5.929397e-01\n",
            "\n",
            " iter inewton type    objective     âgââ_Mâ»Â¹      leftmost         Î»             Î³             Î´             Î±             Î²       \n",
            "     0     0  cg_i -4.635659e-05  9.133302e-03  0.000000e+00  0.000000e+00  3.307638e-02  1.180034e+01  8.474333e-02  7.624646e-02\n",
            "\n",
            " iter inewton type    objective     âgââ_Mâ»Â¹      leftmost         Î»             Î³             Î´             Î±             Î²       \n",
            "     0     0  cg_i -1.779679e-05  2.920877e-03  0.000000e+00  0.000000e+00  2.200144e-02  1.359974e+01  7.353082e-02  1.762480e-02\n",
            "\n",
            " iter inewton type    objective     âgââ_Mâ»Â¹      leftmost         Î»             Î³             Î´             Î±             Î²       \n",
            "     0     0  cg_i -5.561924e-06  9.688777e-04  0.000000e+00  0.000000e+00  1.275478e-02  1.462483e+01  6.837688e-02  5.770218e-03\n",
            "\n",
            " iter inewton type    objective     âgââ_Mâ»Â¹      leftmost         Î»             Î³             Î´             Î±             Î²       \n",
            "     0     0  cg_i -1.592682e-06  3.260347e-04  0.000000e+00  0.000000e+00  6.986307e-03  1.532273e+01  6.526251e-02  2.177872e-03\n",
            "\n",
            " iter inewton type    objective     âgââ_Mâ»Â¹      leftmost         Î»             Î³             Î´             Î±             Î²       \n",
            "     0     0  cg_i -4.293815e-07  1.107168e-04  0.000000e+00  0.000000e+00  3.685149e-03  1.581382e+01  6.323583e-02  9.026449e-04\n",
            "\n",
            " iter inewton type    objective     âgââ_Mâ»Â¹      leftmost         Î»             Î³             Î´             Î±             Î²       \n",
            "     0     0  cg_i -1.118602e-07  3.782422e-05  0.000000e+00  0.000000e+00  1.901516e-03  1.616198e+01  6.187361e-02  3.956761e-04\n",
            "\n",
            " iter inewton type    objective     âgââ_Mâ»Â¹      leftmost         Î»             Î³             Î´             Î±             Î²       \n",
            "     0     0  cg_i -2.849129e-08  1.297608e-05  0.000000e+00  0.000000e+00  9.669606e-04  1.640874e+01  6.094312e-02  1.800815e-04\n",
            "\n",
            " iter inewton type    objective     âgââ_Mâ»Â¹      leftmost         Î»             Î³             Î´             Î±             Î²       \n",
            "     0     0  cg_i -7.152142e-09  4.464566e-06  0.000000e+00  0.000000e+00  4.870450e-04  1.658334e+01  6.030148e-02  8.402730e-05\n",
            "\n",
            " iter inewton type    objective     âgââ_Mâ»Â¹      leftmost         Î»             Î³             Î´             Î±             Î²       \n",
            "     0     0  cg_i -1.777917e-09  1.539220e-06  0.000000e+00  0.000000e+00  2.437336e-04  1.670665e+01  5.985639e-02  3.988141e-05\n",
            "\n",
            " TR Solving trust region problem, radius 2.000000e+00; starting on first irreducible block\n",
            " TR Coldstart. Seeking suitable initial Î»â, starting with 0\n",
            "\n",
            " iter inewton type    objective     âgââ_Mâ»Â¹      leftmost         Î»             Î³             Î´             Î±             Î²       \n",
            "     0     0  cg_i -1.777917e-09  1.539220e-06  0.000000e+00  0.000000e+00  2.437336e-04  1.670665e+01  5.985639e-02  3.988141e-05\n",
            "\n",
            " TR Solving trust region problem, radius 2.000000e+00; starting on first irreducible block\n",
            " TR Coldstart. Seeking suitable initial Î»â, starting with 0\n",
            "\n",
            " iter inewton type    objective     âgââ_Mâ»Â¹      leftmost         Î»             Î³             Î´             Î±             Î²       \n",
            "     0     0  cg_i -1.777917e-09  1.539220e-06  0.000000e+00  0.000000e+00  2.437336e-04  1.670665e+01  5.985639e-02  3.988141e-05\n",
            "\n",
            " TR Solving trust region problem, radius 2.000000e+00; starting on first irreducible block\n",
            " TR Coldstart. Seeking suitable initial Î»â, starting with 0\n",
            "\n",
            "Warning: A bad approximation caused failure to predict improvement.\n",
            "         Current function value: 0.000000\n",
            "         Iterations: 16\n",
            "         Function evaluations: 18\n",
            "         Gradient evaluations: 18\n",
            "         Hessian evaluations: 17\n"
          ]
        },
        {
          "output_type": "execute_result",
          "data": {
            "text/plain": [
              "array([3.92650023, 1.98155528])"
            ]
          },
          "metadata": {},
          "execution_count": 54
        }
      ]
    },
    {
      "cell_type": "markdown",
      "metadata": {
        "id": "GTJpoO69u9ze"
      },
      "source": [
        "### 例1.13 scipy.optimize.minimizeの利用 Trust-Region Nearly Exact Algorithm (method='trust-exact')  \n",
        "https://docs.scipy.org/doc/scipy/reference/tutorial/optimize.html#trust-region-nearly-exact-algorithm-method-trust-exact\n",
        "\n",
        "$f(x_1, x_2) = \\frac{1}{2}(x_1 - x_2^2)^2 + \\frac{1}{4}(x_2 -2)^4$  \n",
        "最適解は$(x_1, x_2) = (4, 2)$のとき\n",
        "\n",
        "八巻、非線形計画法、朝倉書店 P32 例2.1"
      ]
    },
    {
      "cell_type": "code",
      "metadata": {
        "colab": {
          "base_uri": "https://localhost:8080/"
        },
        "id": "NQD_RuHRuxOy",
        "outputId": "35d02cf2-c2c3-4e66-ad32-22bb5f750421"
      },
      "source": [
        "res = minimize(f1_9, [0,0], method='trust-exact',\n",
        "               jac=getDf, hess=getHesse,\n",
        "               options={'gtol': 1e-8, 'disp': True})\n",
        "res.x"
      ],
      "execution_count": 55,
      "outputs": [
        {
          "output_type": "stream",
          "name": "stdout",
          "text": [
            "Optimization terminated successfully.\n",
            "         Current function value: 0.000000\n",
            "         Iterations: 28\n",
            "         Function evaluations: 29\n",
            "         Gradient evaluations: 29\n",
            "         Hessian evaluations: 29\n"
          ]
        },
        {
          "output_type": "execute_result",
          "data": {
            "text/plain": [
              "array([3.99961177, 1.99990294])"
            ]
          },
          "metadata": {},
          "execution_count": 55
        }
      ]
    },
    {
      "cell_type": "markdown",
      "metadata": {
        "id": "k9obvjJhRJb0"
      },
      "source": [
        "### 例題1.14 ローゼンブロック関数 $f(x) = \\sum_{i = 1}^{N-1}(100(x_{i+1} - x_i^2)^2 + (1 - x_i)^2)$  の最小値を求める。理論値は$x = 1$となる。  \n",
        "GA : deapライブラリを用いて解く"
      ]
    },
    {
      "cell_type": "code",
      "metadata": {
        "id": "ctiTv2PivXOm",
        "colab": {
          "base_uri": "https://localhost:8080/"
        },
        "outputId": "6638df88-04f1-4c7b-f35d-dcc9a4238bf0"
      },
      "source": [
        "!pip install deap"
      ],
      "execution_count": 56,
      "outputs": [
        {
          "output_type": "stream",
          "name": "stdout",
          "text": [
            "Collecting deap\n",
            "  Downloading deap-1.3.1-cp37-cp37m-manylinux_2_5_x86_64.manylinux1_x86_64.manylinux_2_12_x86_64.manylinux2010_x86_64.whl (160 kB)\n",
            "\u001b[?25l\r\u001b[K     |██                              | 10 kB 19.6 MB/s eta 0:00:01\r\u001b[K     |████                            | 20 kB 22.9 MB/s eta 0:00:01\r\u001b[K     |██████                          | 30 kB 26.3 MB/s eta 0:00:01\r\u001b[K     |████████▏                       | 40 kB 26.9 MB/s eta 0:00:01\r\u001b[K     |██████████▏                     | 51 kB 28.6 MB/s eta 0:00:01\r\u001b[K     |████████████▏                   | 61 kB 31.0 MB/s eta 0:00:01\r\u001b[K     |██████████████▎                 | 71 kB 31.7 MB/s eta 0:00:01\r\u001b[K     |████████████████▎               | 81 kB 33.2 MB/s eta 0:00:01\r\u001b[K     |██████████████████▎             | 92 kB 34.6 MB/s eta 0:00:01\r\u001b[K     |████████████████████▍           | 102 kB 34.8 MB/s eta 0:00:01\r\u001b[K     |██████████████████████▍         | 112 kB 34.8 MB/s eta 0:00:01\r\u001b[K     |████████████████████████▍       | 122 kB 34.8 MB/s eta 0:00:01\r\u001b[K     |██████████████████████████▌     | 133 kB 34.8 MB/s eta 0:00:01\r\u001b[K     |████████████████████████████▌   | 143 kB 34.8 MB/s eta 0:00:01\r\u001b[K     |██████████████████████████████▌ | 153 kB 34.8 MB/s eta 0:00:01\r\u001b[K     |████████████████████████████████| 160 kB 34.8 MB/s \n",
            "\u001b[?25hRequirement already satisfied: numpy in /usr/local/lib/python3.7/dist-packages (from deap) (1.19.5)\n",
            "Installing collected packages: deap\n",
            "Successfully installed deap-1.3.1\n"
          ]
        }
      ]
    },
    {
      "cell_type": "code",
      "metadata": {
        "id": "t5ToRtBvRpNf"
      },
      "source": [
        "import random\n",
        "from deap import base\n",
        "from deap import creator\n",
        "from deap import tools\n",
        "from deap import algorithms"
      ],
      "execution_count": 57,
      "outputs": []
    },
    {
      "cell_type": "code",
      "metadata": {
        "id": "DhPxHIF3Sldk"
      },
      "source": [
        "creator.create(\"FitnessMin\", base.Fitness, weights=(-1.0,)) #最小化\n",
        "creator.create(\"Individual\", list, fitness=creator.FitnessMin)"
      ],
      "execution_count": 58,
      "outputs": []
    },
    {
      "cell_type": "code",
      "metadata": {
        "id": "owz3pj23Sw_K"
      },
      "source": [
        "def rosenbrock(x):\n",
        "    value = 0\n",
        "    for i in range(len(x)-1):\n",
        "        value += 100 * (x[i+1] - x[i])**2 + (1 - x[i])**2.0\n",
        "    return value, #,が必要"
      ],
      "execution_count": 59,
      "outputs": []
    },
    {
      "cell_type": "code",
      "metadata": {
        "id": "sXTk-t1DTAWt"
      },
      "source": [
        "toolbox = base.Toolbox()\n",
        "toolbox.register(\"attribute\", random.uniform, -2,2) #xは a<=x<=b\n",
        "toolbox.register(\"individual\", tools.initRepeat, creator.Individual, toolbox.attribute, 2) #2変数がせいぜい\n",
        "toolbox.register(\"population\", tools.initRepeat, list, toolbox.individual)\n",
        "toolbox.register(\"select\", tools.selTournament, tournsize=10)\n",
        "toolbox.register(\"mate\", tools.cxBlend,alpha=0.3) #ブレンド交叉\n",
        "toolbox.register(\"mutate\", tools.mutGaussian, mu=0.0, sigma=10.0, indpb=0.2)\n",
        "toolbox.register(\"evaluate\", rosenbrock)"
      ],
      "execution_count": 147,
      "outputs": []
    },
    {
      "cell_type": "code",
      "metadata": {
        "id": "Sf5vUrqGTvf3"
      },
      "source": [
        "random.seed(64)\n",
        "NGEN = 500 #繰り返し世代数\n",
        "POP = 100 #個体の数\n",
        "CXPB = 0.9 #交叉確率\n",
        "MUTPB = 0.1 #突然変異確率"
      ],
      "execution_count": 140,
      "outputs": []
    },
    {
      "cell_type": "code",
      "metadata": {
        "colab": {
          "base_uri": "https://localhost:8080/"
        },
        "id": "u-APJzbEUD4A",
        "outputId": "7e3e89bb-5725-4c7a-eb06-2b1252bab88a"
      },
      "source": [
        "pop = toolbox.population(n=POP)\n",
        "for individual in pop:\n",
        "    individual.fitness.values = toolbox.evaluate(individual)\n",
        "hof = tools.ParetoFront()\n",
        "stats = tools.Statistics(lambda ind: ind.fitness.values)\n",
        "stats.register(\"avg\", np.mean, axis=0)\n",
        "stats.register(\"std\", np.std, axis=0)\n",
        "stats.register(\"min\", np.min, axis=0)\n",
        "stats.register(\"max\", np.max, axis=0)\n",
        "\n",
        "algorithms.eaSimple(pop, toolbox, cxpb=CXPB, mutpb=MUTPB, ngen=NGEN, stats=stats, halloffame=hof) #Simple GA\n",
        "best_ind = tools.selBest(pop, 1)[0]\n",
        "#結果表示\n",
        "print(\"最も良い個体は %sで、そのときの目的関数の値は %s\" % (best_ind, best_ind.fitness.values))"
      ],
      "execution_count": 149,
      "outputs": [
        {
          "output_type": "stream",
          "name": "stdout",
          "text": [
            "gen\tnevals\tavg           \tstd           \tmin         \tmax            \n",
            "0  \t0     \t[282.32805784]\t[310.07090452]\t[0.31668598]\t[1203.19249549]\n",
            "1  \t88    \t[150.82661624]\t[500.46941522]\t[0.00147288]\t[4106.59088877]\n",
            "2  \t93    \t[124.48597956]\t[967.58973206]\t[0.00147288]\t[9456.74209403]\n",
            "3  \t94    \t[715.13160093]\t[4718.28725329]\t[0.00140014]\t[44724.57257064]\n",
            "4  \t92    \t[290.94491886]\t[2202.31829169]\t[0.00063654]\t[20794.26824397]\n",
            "5  \t91    \t[37.96655341] \t[377.03338808] \t[0.00034213]\t[3789.40119532] \n",
            "6  \t83    \t[18.54173198] \t[172.35125716] \t[0.00034213]\t[1731.1299123]  \n",
            "7  \t86    \t[444.21881006]\t[3870.82197912]\t[0.00019161]\t[38552.70814186]\n",
            "8  \t86    \t[452.33631798]\t[4313.86799441]\t[0.00019161]\t[43333.60863099]\n",
            "9  \t94    \t[564.60919241]\t[3310.6734252] \t[0.00017158]\t[24470.14136461]\n",
            "10 \t86    \t[228.99390637]\t[1521.19501239]\t[0.00017158]\t[14023.09705206]\n",
            "11 \t94    \t[160.12737376]\t[1170.76749295]\t[8.33090149e-05]\t[10928.38640843]\n",
            "12 \t89    \t[186.77070774]\t[1317.4061854] \t[5.72642168e-05]\t[10484.83980003]\n",
            "13 \t92    \t[385.74680981]\t[2903.98068765]\t[5.37142248e-05]\t[28325.15775699]\n",
            "14 \t91    \t[1202.5635444]\t[6195.55391453]\t[5.32817722e-05]\t[54309.9341567] \n",
            "15 \t88    \t[10.83031599] \t[106.97690469] \t[5.30224472e-05]\t[1075.20894708] \n",
            "16 \t81    \t[629.59192603]\t[4036.90333206]\t[5.30224472e-05]\t[37936.72605637]\n",
            "17 \t91    \t[786.46225379]\t[5879.15769173]\t[5.29152885e-05]\t[56202.37116942]\n",
            "18 \t98    \t[31.86610453] \t[312.61059279] \t[5.28546049e-05]\t[3141.98862024] \n",
            "19 \t93    \t[251.46174427]\t[1961.85937595]\t[5.28061638e-05]\t[18698.75226729]\n",
            "20 \t97    \t[234.79714269]\t[1673.06614968]\t[5.278692e-05]  \t[13951.14765854]\n",
            "21 \t90    \t[415.4083453] \t[3379.12945354]\t[5.27708806e-05]\t[33194.95349768]\n",
            "22 \t98    \t[652.1677303] \t[4652.01108555]\t[5.27579654e-05]\t[38934.50375071]\n",
            "23 \t82    \t[493.47694274]\t[3407.24459792]\t[5.27403638e-05]\t[29206.26112532]\n",
            "24 \t99    \t[633.29477642]\t[3570.69926714]\t[5.27375081e-05]\t[29040.12425974]\n",
            "25 \t88    \t[938.74756385]\t[5581.86805929]\t[5.27317903e-05]\t[43161.60799025]\n",
            "26 \t92    \t[790.61148891]\t[5697.11388528]\t[5.27299843e-05]\t[55276.94105666]\n",
            "27 \t93    \t[1647.99652009]\t[9057.73428805]\t[5.27294679e-05]\t[76324.75745285]\n",
            "28 \t92    \t[92.63149734]  \t[624.27062766] \t[5.27283141e-05]\t[4579.61032989] \n",
            "29 \t96    \t[202.42509978] \t[1385.93571438]\t[5.2728161e-05] \t[13414.81573628]\n",
            "30 \t91    \t[198.33514878] \t[1962.85160981]\t[5.27279007e-05]\t[19728.29223219]\n",
            "31 \t90    \t[23.66609747]  \t[235.47417205] \t[5.27272922e-05]\t[2366.60452696] \n",
            "32 \t90    \t[57.31677425]  \t[328.81456688] \t[5.27271358e-05]\t[2179.8385463]  \n",
            "33 \t96    \t[45.90283184]  \t[456.72688548] \t[5.27269572e-05]\t[4590.27796423] \n",
            "34 \t94    \t[246.01454788] \t[2007.82199023]\t[5.27269226e-05]\t[19600.43605461]\n",
            "35 \t87    \t[23.47603915]  \t[108.54044395] \t[5.27268765e-05]\t[611.28987922]  \n",
            "36 \t86    \t[714.41350896] \t[4089.57416404]\t[5.27268541e-05]\t[29892.10399435]\n",
            "37 \t93    \t[972.47715409] \t[7276.9430527] \t[5.2726851e-05] \t[66872.82522691]\n",
            "38 \t99    \t[5.27268596e-05]\t[6.1511455e-12]\t[5.27268409e-05]\t[5.27268752e-05]\n",
            "39 \t87    \t[448.90673796]  \t[2468.58349726]\t[5.27268396e-05]\t[17329.05761134]\n",
            "40 \t90    \t[37.59039019]   \t[298.30347373] \t[5.2726837e-05] \t[2873.15474683] \n",
            "41 \t87    \t[25.61949004]   \t[254.91018274] \t[5.27268355e-05]\t[2561.94378421] \n",
            "42 \t94    \t[216.52777475]  \t[1235.4818672] \t[5.2726834e-05] \t[9589.26102791] \n",
            "43 \t89    \t[5.27268355e-05]\t[6.27980238e-13]\t[5.2726834e-05] \t[5.27268369e-05]\n",
            "44 \t96    \t[451.29514833]  \t[3286.17501953] \t[5.27268337e-05]\t[28964.95153567]\n",
            "45 \t87    \t[713.02982386]  \t[4531.03106004] \t[5.27268336e-05]\t[41436.73869975]\n",
            "46 \t89    \t[209.90067732]  \t[1656.11806546] \t[5.27268333e-05]\t[15902.29709436]\n",
            "47 \t94    \t[136.36149379]  \t[1112.5906952]  \t[5.27268333e-05]\t[10859.91801601]\n",
            "48 \t84    \t[59.30841857]   \t[568.09201374]  \t[5.27268333e-05]\t[5707.42404676] \n",
            "49 \t96    \t[72.71807173]   \t[541.59916003]  \t[5.27268333e-05]\t[5044.77703754] \n",
            "50 \t85    \t[891.76864804]  \t[6499.41256109] \t[5.27268333e-05]\t[59317.58317719]\n",
            "51 \t84    \t[594.54851859]  \t[3180.39671089] \t[5.27268333e-05]\t[25366.80091737]\n",
            "52 \t98    \t[120.543439]    \t[698.32209033]  \t[5.27268332e-05]\t[4860.82249341] \n",
            "53 \t92    \t[631.453172]    \t[5496.71646207] \t[5.27268332e-05]\t[54676.73878785]\n",
            "54 \t91    \t[860.18583045]  \t[6380.31605123] \t[5.27268332e-05]\t[63117.41743407]\n",
            "55 \t93    \t[1190.21809399] \t[11212.64108883]\t[5.27268332e-05]\t[112571.71151667]\n",
            "56 \t93    \t[468.49030432]  \t[2658.39550605] \t[5.27268332e-05]\t[18320.94075542] \n",
            "57 \t97    \t[427.78038283]  \t[2848.81986941] \t[5.27268332e-05]\t[26713.42385092] \n",
            "58 \t92    \t[74.83619121]   \t[524.84066884]  \t[5.27268332e-05]\t[3969.38049755]  \n",
            "59 \t93    \t[409.02343759]  \t[2668.44090604] \t[5.27268332e-05]\t[21578.20229128] \n",
            "60 \t81    \t[348.39175533]  \t[3060.93350088] \t[5.27268332e-05]\t[30515.81905701] \n",
            "61 \t89    \t[226.48064462]  \t[1671.18140377] \t[5.27268332e-05]\t[16234.13947432] \n",
            "62 \t87    \t[222.47334272]  \t[1168.67245717] \t[5.27268332e-05]\t[9713.03731894]  \n",
            "63 \t87    \t[445.51565446]  \t[2528.91341925] \t[5.27268332e-05]\t[19578.81273058] \n",
            "64 \t94    \t[201.02507545]  \t[1156.76703733] \t[5.27268332e-05]\t[10717.47219549] \n",
            "65 \t88    \t[396.33229658]  \t[1703.86882019] \t[5.27268332e-05]\t[10940.25280497] \n",
            "66 \t95    \t[211.90382328]  \t[1435.48321915] \t[5.27268332e-05]\t[11121.78415947] \n",
            "67 \t94    \t[165.51645716]  \t[1211.34658233] \t[5.27268332e-05]\t[11251.66062597] \n",
            "68 \t94    \t[102.58290354]  \t[735.42070617]  \t[5.27268332e-05]\t[6251.74653809]  \n",
            "69 \t91    \t[439.51845335]  \t[2651.34902016] \t[5.27268332e-05]\t[20558.1252365]  \n",
            "70 \t89    \t[671.48929955]  \t[6300.17565291] \t[5.27268332e-05]\t[63285.47561049] \n",
            "71 \t91    \t[152.02571697]  \t[1017.33122365] \t[5.27268332e-05]\t[7869.71931593]  \n",
            "72 \t86    \t[307.39472681]  \t[2355.27690318] \t[5.27268332e-05]\t[22141.90657493] \n",
            "73 \t88    \t[676.86541654]  \t[4462.86261652] \t[5.27268332e-05]\t[41057.56903304] \n",
            "74 \t92    \t[1374.21275609] \t[7667.95700017] \t[5.27268332e-05]\t[64336.37186128] \n",
            "75 \t93    \t[675.44728861]  \t[4485.43158702] \t[5.27268332e-05]\t[32127.95290053] \n",
            "76 \t97    \t[50.11923534]   \t[452.4713395]   \t[5.27268332e-05]\t[4526.42475154]  \n",
            "77 \t90    \t[163.32221428]  \t[1044.12742679] \t[5.27268332e-05]\t[7873.11685662]  \n",
            "78 \t89    \t[235.47989554]  \t[1627.99088855] \t[5.27268332e-05]\t[11891.24614774] \n",
            "79 \t91    \t[423.74818313]  \t[2546.73020867] \t[5.27268332e-05]\t[17640.90921682] \n",
            "80 \t90    \t[401.08150978]  \t[2236.89339218] \t[5.27268332e-05]\t[15400.72822952] \n",
            "81 \t86    \t[113.98001153]  \t[801.55918778]  \t[5.27268332e-05]\t[7227.95680962]  \n",
            "82 \t84    \t[411.01580508]  \t[3957.28319659] \t[5.27268332e-05]\t[39770.96361602] \n",
            "83 \t95    \t[625.18102987]  \t[3616.85198513] \t[5.27268332e-05]\t[30834.34549185] \n",
            "84 \t88    \t[890.47769505]  \t[4294.27703302] \t[5.27268332e-05]\t[33341.22334251] \n",
            "85 \t90    \t[570.70023098]  \t[5668.77029927] \t[5.27268332e-05]\t[56974.1727421]  \n",
            "86 \t91    \t[761.93888455]  \t[6348.32799651] \t[5.27268332e-05]\t[63274.58156815] \n",
            "87 \t92    \t[1739.73253107] \t[11908.10449122]\t[5.27268332e-05]\t[114870.70128264]\n",
            "88 \t88    \t[67.6909885]    \t[528.59563876]  \t[5.27268332e-05]\t[5041.2343921]   \n",
            "89 \t93    \t[4.41340672]    \t[43.91231777]   \t[5.27268332e-05]\t[441.33545183]   \n",
            "90 \t94    \t[79.75346345]   \t[640.81499516]  \t[5.27268332e-05]\t[6246.35901391]  \n",
            "91 \t88    \t[6.72961364]    \t[47.15436665]   \t[5.27268332e-05]\t[351.43099157]   \n",
            "92 \t97    \t[24.15170867]   \t[240.30594252]  \t[5.27268332e-05]\t[2415.16564741]  \n",
            "93 \t86    \t[264.51985165]  \t[2077.12265924] \t[5.27268332e-05]\t[20595.62894519] \n",
            "94 \t87    \t[328.92218426]  \t[3226.87561979] \t[5.27268332e-05]\t[32432.70664873] \n",
            "95 \t88    \t[486.08576711]  \t[3262.38199282] \t[5.27268332e-05]\t[29652.65028255] \n",
            "96 \t98    \t[474.24461873]  \t[3383.74069977] \t[5.27268332e-05]\t[29097.61574301] \n",
            "97 \t93    \t[522.22422895]  \t[3060.88354283] \t[5.27268332e-05]\t[24577.60732591] \n",
            "98 \t91    \t[792.14079047]  \t[6755.07539788] \t[5.27268332e-05]\t[67395.64141331] \n",
            "99 \t94    \t[215.71049899]  \t[1103.24413064] \t[5.27268332e-05]\t[7898.72629795]  \n",
            "100\t86    \t[651.84643869]  \t[3466.19578264] \t[5.27268332e-05]\t[27060.82789889] \n",
            "101\t92    \t[981.93909393]  \t[6815.5281612]  \t[5.27268332e-05]\t[64095.1023388]  \n",
            "102\t94    \t[11.32617358]   \t[103.91817519]  \t[5.27268332e-05]\t[1041.80447713]  \n",
            "103\t92    \t[427.74585457]  \t[3583.50402973] \t[5.27268332e-05]\t[35418.34322682] \n",
            "104\t99    \t[43.25061956]   \t[408.89362938]  \t[5.27268332e-05]\t[4105.90220184]  \n",
            "105\t94    \t[1036.88820347] \t[6264.45714968] \t[5.27268332e-05]\t[46672.954781]   \n",
            "106\t88    \t[82.73784585]   \t[577.61551977]  \t[5.27268332e-05]\t[4747.68100896]  \n",
            "107\t98    \t[56.94886925]   \t[566.63357003]  \t[5.27268332e-05]\t[5694.88170551]  \n",
            "108\t85    \t[300.31914986]  \t[1678.94695559] \t[5.27268332e-05]\t[10669.02574997] \n",
            "109\t93    \t[258.61881622]  \t[1757.53501848] \t[5.27268332e-05]\t[14164.49843042] \n",
            "110\t95    \t[30.699694]     \t[235.90548592]  \t[5.27268332e-05]\t[2223.11246528]  \n",
            "111\t89    \t[256.92972937]  \t[1769.080046]   \t[5.27268332e-05]\t[13503.69565446] \n",
            "112\t91    \t[823.12629198]  \t[6066.50045162] \t[5.27268332e-05]\t[54578.54031011] \n",
            "113\t88    \t[378.01422885]  \t[3223.35333184] \t[5.27268332e-05]\t[32166.97609095] \n",
            "114\t93    \t[423.62221213]  \t[2341.89634758] \t[5.27268332e-05]\t[19500.67355875] \n",
            "115\t92    \t[40.47490106]   \t[295.62592451]  \t[5.27268332e-05]\t[2620.49338928]  \n",
            "116\t92    \t[560.96005002]  \t[3462.65234544] \t[5.27268332e-05]\t[26877.88866104] \n",
            "117\t89    \t[5.27268332e-05]\t[1.07309531e-18]\t[5.27268332e-05]\t[5.27268332e-05] \n",
            "118\t89    \t[88.53178711]   \t[645.20987037]  \t[5.27268332e-05]\t[5696.23721953]  \n",
            "119\t91    \t[51.33667232]   \t[510.79291554]  \t[5.27268332e-05]\t[5133.6620116]   \n",
            "120\t95    \t[568.93364031]  \t[3659.95317336] \t[5.27268332e-05]\t[34431.65519632] \n",
            "121\t92    \t[56.90754427]   \t[522.27445483]  \t[5.27268332e-05]\t[5242.85007226]  \n",
            "122\t92    \t[5.27268332e-05]\t[1.07322774e-18]\t[5.27268332e-05]\t[5.27268332e-05] \n",
            "123\t94    \t[509.62965322]  \t[2715.05287062] \t[5.27268332e-05]\t[18091.65971477] \n",
            "124\t93    \t[682.9332922]   \t[4550.60171235] \t[5.27268332e-05]\t[36040.22315381] \n",
            "125\t89    \t[184.22465388]  \t[1145.5086818]  \t[5.27268332e-05]\t[9476.67460043]  \n",
            "126\t96    \t[0.77971083]    \t[7.75750022]    \t[5.27268332e-05]\t[77.96586343]    \n",
            "127\t88    \t[58.85665828]   \t[401.22720915]  \t[5.27268332e-05]\t[3267.63545324]  \n",
            "128\t88    \t[208.85778626]  \t[1286.427684]   \t[5.27268332e-05]\t[11190.81011388] \n",
            "129\t100   \t[291.40460961]  \t[2856.55972728] \t[5.27268332e-05]\t[28712.2315983]  \n",
            "130\t87    \t[254.71864808]  \t[1897.80491623] \t[5.27268332e-05]\t[17394.88542786] \n",
            "131\t88    \t[169.93175445]  \t[1690.79908385] \t[5.27268332e-05]\t[16993.17022544] \n",
            "132\t86    \t[458.53201182]  \t[3534.00296155] \t[5.27268332e-05]\t[33930.01823923] \n",
            "133\t88    \t[582.99475479]  \t[4603.81634794] \t[5.27268332e-05]\t[44217.692311]   \n",
            "134\t93    \t[459.71865887]  \t[3989.5012166]  \t[5.27268332e-05]\t[39811.98508049] \n",
            "135\t90    \t[93.9527048]    \t[907.67718066]  \t[5.27268332e-05]\t[9121.14892479]  \n",
            "136\t98    \t[230.18143868]  \t[2290.27587279] \t[5.27268332e-05]\t[23018.13864806] \n",
            "137\t93    \t[21.43389773]   \t[162.07018102]  \t[5.27268332e-05]\t[1505.0321064]   \n",
            "138\t86    \t[681.12431002]  \t[5591.93952952] \t[5.27268332e-05]\t[55780.70416721] \n",
            "139\t93    \t[793.56911092]  \t[6531.82360049] \t[5.27268332e-05]\t[64888.44132226] \n",
            "140\t90    \t[506.24761045]  \t[2309.93203308] \t[5.27268332e-05]\t[13734.95982222] \n",
            "141\t91    \t[464.93122907]  \t[3324.20871013] \t[5.27268332e-05]\t[28034.43214657] \n",
            "142\t89    \t[202.03281125]  \t[1992.76637736] \t[5.27268332e-05]\t[20029.05782096] \n",
            "143\t94    \t[441.04766563]  \t[2909.2801585]  \t[5.27268332e-05]\t[23471.41392658] \n",
            "144\t92    \t[391.52708261]  \t[2976.93296301] \t[5.27268332e-05]\t[28747.85538827] \n",
            "145\t90    \t[36.08494433]   \t[359.04013817]  \t[5.27268332e-05]\t[3608.48921328]  \n",
            "146\t92    \t[359.22178224]  \t[2144.73809907] \t[5.27268332e-05]\t[15935.88710443] \n",
            "147\t96    \t[64.20957719]   \t[399.69402623]  \t[5.27268332e-05]\t[3652.92360649]  \n",
            "148\t96    \t[12.79039789]   \t[125.27640056]  \t[5.27268332e-05]\t[1259.11891667]  \n",
            "149\t87    \t[321.25350531]  \t[1604.65987286] \t[5.27268332e-05]\t[12572.70445605] \n",
            "150\t92    \t[53.11433504]   \t[528.48043632]  \t[5.27268332e-05]\t[5311.42828397]  \n",
            "151\t93    \t[424.08361878]  \t[2950.19374314] \t[5.27268332e-05]\t[26394.46368375] \n",
            "152\t87    \t[213.01677118]  \t[1642.45157198] \t[5.27268332e-05]\t[16119.65372344] \n",
            "153\t94    \t[21.96288725]   \t[210.30867676]  \t[5.27268332e-05]\t[2112.87821277]  \n",
            "154\t96    \t[105.72787964]  \t[794.82896802]  \t[5.27268332e-05]\t[7536.14750025]  \n",
            "155\t90    \t[399.29485277]  \t[3662.8997537]  \t[5.27268332e-05]\t[36710.61910093] \n",
            "156\t90    \t[590.7845927]   \t[4438.21893326] \t[5.27268332e-05]\t[40996.89496127] \n",
            "157\t94    \t[177.89989706]  \t[1315.65439255] \t[5.27268332e-05]\t[12432.46353467] \n",
            "158\t96    \t[235.73105001]  \t[1919.12041717] \t[5.27268332e-05]\t[18715.24793546] \n",
            "159\t96    \t[347.00431052]  \t[2055.27236163] \t[5.27268332e-05]\t[16263.12399094] \n",
            "160\t93    \t[463.73338864]  \t[3003.38141852] \t[5.27268332e-05]\t[27709.56262913] \n",
            "161\t88    \t[128.3258763]   \t[641.03622353]  \t[5.27268332e-05]\t[4485.5814472]   \n",
            "162\t89    \t[424.92896423]  \t[4043.50890546] \t[5.27268332e-05]\t[40632.03602006] \n",
            "163\t90    \t[128.48233374]  \t[1231.2563723]  \t[5.27268332e-05]\t[12370.1847561]  \n",
            "164\t89    \t[67.869177]     \t[669.62182003]  \t[5.27268332e-05]\t[6730.28633709]  \n",
            "165\t91    \t[307.36204032]  \t[2163.14658933] \t[5.27268332e-05]\t[18579.74129335] \n",
            "166\t95    \t[394.93505585]  \t[2632.49923726] \t[5.27268332e-05]\t[23315.98404342] \n",
            "167\t88    \t[107.4577374]   \t[1017.30941968] \t[5.27268332e-05]\t[10215.96135365] \n",
            "168\t91    \t[1789.76261807] \t[11456.4192043] \t[5.27268332e-05]\t[88861.57441312] \n",
            "169\t93    \t[508.31936943]  \t[5032.78395408] \t[5.27268332e-05]\t[50583.2824607]  \n",
            "170\t90    \t[262.24230824]  \t[1897.31124006] \t[5.27268332e-05]\t[16530.40781595] \n",
            "171\t93    \t[474.63668203]  \t[2131.66326911] \t[5.27268332e-05]\t[12591.89494372] \n",
            "172\t88    \t[894.1085628]   \t[5100.30679172] \t[5.27268332e-05]\t[46180.5441809]  \n",
            "173\t92    \t[281.35529589]  \t[2184.50895599] \t[5.27268332e-05]\t[20750.58163436] \n",
            "174\t85    \t[300.66569533]  \t[2991.58537157] \t[5.27268332e-05]\t[30066.56431275] \n",
            "175\t94    \t[20.07671849]   \t[199.76030209]  \t[5.27268332e-05]\t[2007.66662864]  \n",
            "176\t88    \t[1.14713019]    \t[11.41327667]   \t[5.27268332e-05]\t[114.70779926]   \n",
            "177\t90    \t[427.57113621]  \t[2099.82056839] \t[5.27268332e-05]\t[14970.37077575] \n",
            "178\t95    \t[635.45297696]  \t[5832.72676493] \t[5.27268332e-05]\t[58577.98302139] \n",
            "179\t94    \t[541.66861786]  \t[4803.98482668] \t[5.27268332e-05]\t[48082.45291055] \n",
            "180\t93    \t[437.55515243]  \t[2214.47134213] \t[5.27268332e-05]\t[18615.78175536] \n",
            "181\t90    \t[1007.08718103] \t[7311.01294714] \t[5.27268332e-05]\t[68525.43970815] \n",
            "182\t88    \t[1631.36222783] \t[8362.95874613] \t[5.27268332e-05]\t[68498.47391602] \n",
            "183\t94    \t[109.73748711]  \t[1040.92135005] \t[5.27268332e-05]\t[10453.9853011]  \n",
            "184\t92    \t[1063.14158926] \t[5661.67226683] \t[5.27268332e-05]\t[50788.7765023]  \n",
            "185\t92    \t[331.86362736]  \t[2989.68431129] \t[5.27268332e-05]\t[29906.94174524] \n",
            "186\t81    \t[443.48620685]  \t[2560.04175819] \t[5.27268332e-05]\t[18522.09514215] \n",
            "187\t86    \t[130.3430612]   \t[760.66962428]  \t[5.27268332e-05]\t[5375.00250844]  \n",
            "188\t92    \t[46.10555784]   \t[458.74398368]  \t[5.27268332e-05]\t[4610.55056396]  \n",
            "189\t92    \t[1312.02785425] \t[12435.51268628]\t[5.27268332e-05]\t[124939.59717775]\n",
            "190\t93    \t[5.74352635]    \t[57.14684101]   \t[5.27268332e-05]\t[574.34741507]   \n",
            "191\t90    \t[846.7664578]   \t[4105.01822118] \t[5.27268332e-05]\t[25319.22486633] \n",
            "192\t81    \t[141.7846996]   \t[1127.40618421] \t[5.27268332e-05]\t[10870.78819968] \n",
            "193\t99    \t[1057.02808097] \t[6087.33202902] \t[5.27268332e-05]\t[47272.55217406] \n",
            "194\t84    \t[253.09200505]  \t[2517.56144896] \t[5.27268332e-05]\t[25302.51126973] \n",
            "195\t88    \t[377.86254278]  \t[2396.60680909] \t[5.27268332e-05]\t[22549.69408226] \n",
            "196\t93    \t[274.43033354]  \t[1766.69300505] \t[5.27268332e-05]\t[13210.22164759] \n",
            "197\t89    \t[148.41948239]  \t[1431.14640651] \t[5.27268332e-05]\t[14380.82788819] \n",
            "198\t88    \t[914.37428727]  \t[8992.67012745] \t[5.27268332e-05]\t[90385.45125088] \n",
            "199\t89    \t[349.58520219]  \t[2127.16969287] \t[5.27268332e-05]\t[16822.11297776] \n",
            "200\t87    \t[423.25490743]  \t[2243.18174927] \t[5.27268332e-05]\t[16711.08482995] \n",
            "201\t94    \t[730.44194153]  \t[5916.63854118] \t[5.27268332e-05]\t[58688.2289743]  \n",
            "202\t91    \t[163.22471173]  \t[987.71701168]  \t[5.27268332e-05]\t[7734.09053799]  \n",
            "203\t89    \t[233.14236074]  \t[1531.89506321] \t[5.27268332e-05]\t[11971.64931668] \n",
            "204\t95    \t[208.20599818]  \t[1005.78879903] \t[5.27268332e-05]\t[6579.06252683]  \n",
            "205\t87    \t[367.37130714]  \t[2166.06146978] \t[5.27268332e-05]\t[16905.16792079] \n",
            "206\t96    \t[333.49531236]  \t[1686.55114872] \t[5.27268332e-05]\t[14002.1259123]  \n",
            "207\t85    \t[1273.26392769] \t[9131.51059982] \t[5.27268332e-05]\t[90237.28407947] \n",
            "208\t81    \t[173.10300014]  \t[1185.15919317] \t[5.27268332e-05]\t[9708.94044387]  \n",
            "209\t88    \t[533.83069655]  \t[3166.31341744] \t[5.27268332e-05]\t[22262.65917521] \n",
            "210\t90    \t[265.2249399]   \t[1906.53552111] \t[5.27268332e-05]\t[18428.26921863] \n",
            "211\t92    \t[444.55263613]  \t[3729.14712704] \t[5.27268332e-05]\t[36758.3128336]  \n",
            "212\t88    \t[110.40570503]  \t[832.89291359]  \t[5.27268332e-05]\t[7716.06966305]  \n",
            "213\t97    \t[11.41440819]   \t[110.75597255]  \t[5.27268332e-05]\t[1113.09307966]  \n",
            "214\t85    \t[29.39051556]   \t[292.43141285]  \t[5.27268332e-05]\t[2939.04633557]  \n",
            "215\t96    \t[71.96473058]   \t[501.54588184]  \t[5.27268332e-05]\t[4765.30926548]  \n",
            "216\t92    \t[42.55286901]   \t[314.43498719]  \t[5.27268332e-05]\t[3032.89989435]  \n",
            "217\t94    \t[60.29228399]   \t[374.6947583]   \t[5.27268332e-05]\t[3190.15998736]  \n",
            "218\t94    \t[293.25527178]  \t[2841.9315843]  \t[5.27268332e-05]\t[28563.65720486] \n",
            "219\t93    \t[39.80569481]   \t[324.21553168]  \t[5.27268332e-05]\t[3162.36882285]  \n",
            "220\t88    \t[2170.6745886]  \t[10341.2360708] \t[5.27268332e-05]\t[80896.73423894] \n",
            "221\t96    \t[543.00731738]  \t[3559.02670118] \t[5.27268332e-05]\t[32448.7686406]  \n",
            "222\t88    \t[752.92296382]  \t[5277.59343751] \t[5.27268332e-05]\t[42852.72786004] \n",
            "223\t92    \t[22.32550151]   \t[154.67976652]  \t[5.27268332e-05]\t[1497.9757145]   \n",
            "224\t90    \t[334.6091567]   \t[2409.90518392] \t[5.27268332e-05]\t[21072.33959795] \n",
            "225\t96    \t[131.00440894]  \t[1256.26558575] \t[5.27268332e-05]\t[12621.89394381] \n",
            "226\t89    \t[168.72311372]  \t[1436.25866578] \t[5.27268332e-05]\t[14217.22961785] \n",
            "227\t89    \t[1239.09455021] \t[9262.05520451] \t[5.27268332e-05]\t[91417.35794748] \n",
            "228\t93    \t[378.70214344]  \t[2923.2792087]  \t[5.27268332e-05]\t[27647.7761937]  \n",
            "229\t94    \t[660.56607205]  \t[5264.2994913]  \t[5.27268332e-05]\t[50958.60625323] \n",
            "230\t87    \t[150.65475667]  \t[1013.03953706] \t[5.27268332e-05]\t[8028.19207444]  \n",
            "231\t92    \t[269.9064151]   \t[2601.86294906] \t[5.27268332e-05]\t[26150.42034522] \n",
            "232\t81    \t[74.87026311]   \t[744.94918748]  \t[5.27268332e-05]\t[7487.02109136]  \n",
            "233\t89    \t[376.14695005]  \t[3053.99085148] \t[5.27268332e-05]\t[29748.14514329] \n",
            "234\t91    \t[268.72310448]  \t[1890.74093356] \t[5.27268332e-05]\t[15179.01492248] \n",
            "235\t88    \t[171.65179081]  \t[1133.81548538] \t[5.27268332e-05]\t[10675.47946243] \n",
            "236\t94    \t[60.05999107]   \t[597.58884122]  \t[5.27268332e-05]\t[6005.99388675]  \n",
            "237\t86    \t[91.65918791]   \t[631.14672703]  \t[5.27268332e-05]\t[5296.05030545]  \n",
            "238\t88    \t[5.48534808]    \t[54.57799968]   \t[5.27268332e-05]\t[548.52958832]   \n",
            "239\t96    \t[678.03233535]  \t[4263.35141011] \t[5.27268332e-05]\t[37727.53155126] \n",
            "240\t92    \t[106.91468044]  \t[760.86012475]  \t[5.27268332e-05]\t[6315.31862203]  \n",
            "241\t85    \t[542.62614302]  \t[4286.15491722] \t[5.27268332e-05]\t[41869.96460128] \n",
            "242\t97    \t[2591.06467433] \t[14306.19836389]\t[5.27268332e-05]\t[108178.21535094]\n",
            "243\t86    \t[623.17722729]  \t[3937.27494413] \t[5.27268332e-05]\t[28922.27248203] \n",
            "244\t95    \t[877.66988138]  \t[4417.31135539] \t[5.27268332e-05]\t[39193.01998371] \n",
            "245\t84    \t[137.87148996]  \t[946.74228837]  \t[5.27268332e-05]\t[8867.32426907]  \n",
            "246\t93    \t[635.15236564]  \t[3758.89963448] \t[5.27268332e-05]\t[33977.95742546] \n",
            "247\t95    \t[929.21553874]  \t[4841.03744686] \t[5.27268332e-05]\t[37065.48659526] \n",
            "248\t88    \t[1616.04071835] \t[12292.8054854] \t[5.27268332e-05]\t[121675.42758427]\n",
            "249\t80    \t[869.41903889]  \t[8386.12676743] \t[5.27268332e-05]\t[84268.34073455] \n",
            "250\t92    \t[193.52158601]  \t[1531.40012502] \t[5.27268332e-05]\t[15035.81528089] \n",
            "251\t94    \t[465.87566054]  \t[4466.08508395] \t[5.27268332e-05]\t[44873.45465553] \n",
            "252\t93    \t[77.94107261]   \t[575.16860629]  \t[5.27268332e-05]\t[5442.76104511]  \n",
            "253\t94    \t[331.16666673]  \t[2189.61741975] \t[5.27268332e-05]\t[20123.97936111] \n",
            "254\t91    \t[65.54688809]   \t[652.18277725]  \t[5.27268332e-05]\t[6554.68358869]  \n",
            "255\t98    \t[292.5484042]   \t[2257.44662642] \t[5.27268332e-05]\t[21783.81201587] \n",
            "256\t94    \t[8.04209145]    \t[80.01727497]   \t[5.27268332e-05]\t[804.20392489]   \n",
            "257\t87    \t[5.27268332e-05]\t[9.71709109e-19]\t[5.27268332e-05]\t[5.27268332e-05] \n",
            "258\t90    \t[161.08436764]  \t[1121.70163927] \t[5.27268332e-05]\t[8528.43003731]  \n",
            "259\t90    \t[211.06492262]  \t[2100.06893956] \t[5.27268332e-05]\t[21106.48704181] \n",
            "260\t89    \t[264.78613938]  \t[1592.87505032] \t[5.27268332e-05]\t[12571.03758427] \n",
            "261\t89    \t[340.74608921]  \t[2564.02654993] \t[5.27268332e-05]\t[25496.65966682] \n",
            "262\t97    \t[49.99737984]   \t[321.20199243]  \t[5.27268332e-05]\t[2788.1889047]   \n",
            "263\t91    \t[505.96722441]  \t[3988.97990272] \t[5.27268332e-05]\t[39321.06250196] \n",
            "264\t93    \t[577.91041092]  \t[3058.03176026] \t[5.27268332e-05]\t[21507.59125518] \n",
            "265\t95    \t[172.16019628]  \t[1281.79293098] \t[5.27268332e-05]\t[11988.9237822]  \n",
            "266\t93    \t[906.16751653]  \t[4823.65173275] \t[5.27268332e-05]\t[36227.09699995] \n",
            "267\t95    \t[28.28926411]   \t[251.69826791]  \t[5.27268332e-05]\t[2516.55649227]  \n",
            "268\t93    \t[0.18769845]    \t[1.86705138]    \t[5.27268332e-05]\t[18.76462514]    \n",
            "269\t87    \t[1102.0068156]  \t[6071.73483212] \t[5.27268332e-05]\t[45019.87795983] \n",
            "270\t89    \t[1246.05746504] \t[6817.26362511] \t[5.27268332e-05]\t[51479.2965338]  \n",
            "271\t84    \t[86.67209405]   \t[637.92951067]  \t[5.27268332e-05]\t[5727.58859658]  \n",
            "272\t98    \t[955.35140754]  \t[7552.1648615]  \t[5.27268332e-05]\t[74384.19318856] \n",
            "273\t87    \t[275.30263813]  \t[2005.93090112] \t[5.27268332e-05]\t[18548.09438994] \n",
            "274\t95    \t[276.12696418]  \t[2334.78433497] \t[5.27268332e-05]\t[23307.41188888] \n",
            "275\t91    \t[115.74543397]  \t[1000.05295405] \t[5.27268332e-05]\t[9988.36145844]  \n",
            "276\t92    \t[170.04684064]  \t[1211.77035512] \t[5.27268332e-05]\t[10641.33948047] \n",
            "277\t90    \t[25.859617]     \t[257.29941585]  \t[5.27268332e-05]\t[2585.9564805]   \n",
            "278\t91    \t[128.8100024]   \t[843.57518942]  \t[5.27268332e-05]\t[7358.76717946]  \n",
            "279\t90    \t[633.01852447]  \t[2464.84247119] \t[5.27268332e-05]\t[13909.54298656] \n",
            "280\t97    \t[601.30975843]  \t[2614.49100996] \t[5.27268332e-05]\t[19678.36644606] \n",
            "281\t90    \t[157.46582734]  \t[1047.49716806] \t[5.27268332e-05]\t[9502.33642894]  \n",
            "282\t93    \t[109.58510701]  \t[993.94331561]  \t[5.27268332e-05]\t[9948.52559726]  \n",
            "283\t90    \t[448.80446382]  \t[2834.79450789] \t[5.27268332e-05]\t[24927.33803426] \n",
            "284\t93    \t[80.19559953]   \t[598.29976305]  \t[5.27268332e-05]\t[5800.37710128]  \n",
            "285\t89    \t[361.20766311]  \t[2310.63101398] \t[5.27268332e-05]\t[20002.71844869] \n",
            "286\t85    \t[10.97647832]   \t[93.58445189]   \t[5.27268332e-05]\t[926.6066956]    \n",
            "287\t87    \t[962.40533098]  \t[5837.81317717] \t[5.27268332e-05]\t[47200.09455728] \n",
            "288\t96    \t[73.33757832]   \t[703.47405819]  \t[5.27268332e-05]\t[7067.86523416]  \n",
            "289\t93    \t[84.82325678]   \t[747.81496301]  \t[5.27268332e-05]\t[7477.72124875]  \n",
            "290\t89    \t[789.26905071]  \t[7085.27624621] \t[5.27268332e-05]\t[70998.49120405] \n",
            "291\t90    \t[444.35549578]  \t[3236.99443488] \t[5.27268332e-05]\t[31772.44676568] \n",
            "292\t93    \t[116.0321477]   \t[1154.50476795] \t[5.27268332e-05]\t[11603.20954954] \n",
            "293\t90    \t[372.43325857]  \t[2385.26502571] \t[5.27268332e-05]\t[19587.77759376] \n",
            "294\t93    \t[302.17119017]  \t[2585.86997646] \t[5.27268332e-05]\t[25626.78186137] \n",
            "295\t77    \t[610.00639391]  \t[3615.25633601] \t[5.27268332e-05]\t[26342.41183144] \n",
            "296\t93    \t[1228.97046906] \t[9578.69426189] \t[5.27268332e-05]\t[91985.65596337] \n",
            "297\t88    \t[29.29326994]   \t[264.80482624]  \t[5.27268332e-05]\t[2651.54788392]  \n",
            "298\t88    \t[613.55145202]  \t[3935.95665379] \t[5.27268332e-05]\t[34602.14616725] \n",
            "299\t89    \t[306.31702252]  \t[2152.27592955] \t[5.27268332e-05]\t[18997.534675]   \n",
            "300\t92    \t[44.53321363]   \t[362.80205829]  \t[5.27268332e-05]\t[3539.06837901]  \n",
            "301\t89    \t[1506.77173262] \t[8182.6269667]  \t[5.27268332e-05]\t[56703.95796082] \n",
            "302\t94    \t[442.15221765]  \t[2599.14516643] \t[5.27268332e-05]\t[22923.31946334] \n",
            "303\t87    \t[1146.61796004] \t[8076.02640427] \t[5.27268332e-05]\t[63656.6516562]  \n",
            "304\t91    \t[197.08499019]  \t[1960.97036816] \t[5.27268332e-05]\t[19708.49379872] \n",
            "305\t93    \t[427.5025134]   \t[2717.07344057] \t[5.27268332e-05]\t[24242.37707204] \n",
            "306\t87    \t[539.95528593]  \t[4182.87042517] \t[5.27268332e-05]\t[41601.39735031] \n",
            "307\t88    \t[73.78083469]   \t[467.68420886]  \t[5.27268332e-05]\t[4280.81795731]  \n",
            "308\t87    \t[465.69009103]  \t[2229.95978795] \t[5.27268332e-05]\t[17997.915189]   \n",
            "309\t92    \t[143.88086005]  \t[974.61217855]  \t[5.27268332e-05]\t[8835.05629905]  \n",
            "310\t98    \t[279.32175939]  \t[2718.06417493] \t[5.27268332e-05]\t[27319.32397525] \n",
            "311\t94    \t[27.47095707]   \t[198.81975884]  \t[5.27268332e-05]\t[1738.7226818]   \n",
            "312\t94    \t[30.90527988]   \t[284.89734697]  \t[5.27268332e-05]\t[2856.08134669]  \n",
            "313\t94    \t[54.16787347]   \t[499.41665813]  \t[5.27268332e-05]\t[5006.68949328]  \n",
            "314\t84    \t[20.6950844]    \t[162.88390889]  \t[5.27268332e-05]\t[1561.30815326]  \n",
            "315\t94    \t[463.33777224]  \t[2349.39435933] \t[5.27268332e-05]\t[15743.29699807] \n",
            "316\t96    \t[528.09649594]  \t[3505.15584163] \t[5.27268332e-05]\t[30175.07331888] \n",
            "317\t88    \t[15.43927312]   \t[115.91631134]  \t[5.27268332e-05]\t[1119.72241198]  \n",
            "318\t96    \t[167.47002745]  \t[1196.723426]   \t[5.27268332e-05]\t[10169.4673978]  \n",
            "319\t98    \t[157.17856354]  \t[1086.4047935]  \t[5.27268332e-05]\t[8184.53323681]  \n",
            "320\t87    \t[476.43480099]  \t[4412.06111133] \t[5.27268332e-05]\t[44246.93006208] \n",
            "321\t92    \t[284.50269793]  \t[1773.10142302] \t[5.27268332e-05]\t[16393.39271561] \n",
            "322\t90    \t[293.04482861]  \t[1473.24021542] \t[5.27268332e-05]\t[11412.60577418] \n",
            "323\t92    \t[49.02884226]   \t[487.83029646]  \t[5.27268332e-05]\t[4902.87900649]  \n",
            "324\t90    \t[1248.0607582]  \t[6948.91765318] \t[5.27268332e-05]\t[57947.11357287] \n",
            "325\t88    \t[310.95318651]  \t[1674.59766375] \t[5.27268332e-05]\t[12361.18983688] \n",
            "326\t88    \t[83.92190128]   \t[629.97124215]  \t[5.27268332e-05]\t[5804.86234218]  \n",
            "327\t88    \t[64.24550798]   \t[627.09185119]  \t[5.27268332e-05]\t[6302.56197917]  \n",
            "328\t98    \t[600.17598191]  \t[5218.02827566] \t[5.27268332e-05]\t[52242.86515821] \n",
            "329\t98    \t[245.60270247]  \t[1403.46887061] \t[5.27268332e-05]\t[8772.1817007]   \n",
            "330\t90    \t[0.67139722]    \t[6.67979339]    \t[5.27268332e-05]\t[67.1345023]     \n",
            "331\t93    \t[274.67896903]  \t[1562.70230816] \t[5.27268332e-05]\t[12138.47029324] \n",
            "332\t87    \t[244.12013307]  \t[1289.12457329] \t[5.27268332e-05]\t[11433.76804148] \n",
            "333\t90    \t[743.98607471]  \t[3335.64917713] \t[5.27268332e-05]\t[27164.02446673] \n",
            "334\t92    \t[7.5309657]     \t[47.28658391]   \t[5.27268332e-05]\t[391.86721165]   \n",
            "335\t89    \t[1044.26074679] \t[7031.30696821] \t[5.27268332e-05]\t[60058.07686039] \n",
            "336\t94    \t[794.49481749]  \t[7869.20740078] \t[5.27268332e-05]\t[79091.31706394] \n",
            "337\t88    \t[0.02689831]    \t[0.26711018]    \t[5.27268332e-05]\t[2.68461105]     \n",
            "338\t96    \t[113.23805212]  \t[657.18174928]  \t[5.27268332e-05]\t[4743.35556119]  \n",
            "339\t88    \t[178.94595718]  \t[1348.36414308] \t[5.27268332e-05]\t[12489.63248882] \n",
            "340\t92    \t[1584.6357167]  \t[10968.99285991]\t[5.27268332e-05]\t[81550.84231924] \n",
            "341\t83    \t[266.90709193]  \t[2655.69150882] \t[5.27268332e-05]\t[26690.70397298] \n",
            "342\t92    \t[658.51997823]  \t[3288.25225085] \t[5.27268332e-05]\t[25403.48345883] \n",
            "343\t94    \t[88.75245284]   \t[518.94954208]  \t[5.27268332e-05]\t[4643.86324154]  \n",
            "344\t94    \t[70.06271689]   \t[491.70769412]  \t[5.27268332e-05]\t[3752.7717904]   \n",
            "345\t90    \t[230.75278684]  \t[1995.23873919] \t[5.27268332e-05]\t[19950.96674984] \n",
            "346\t96    \t[7.09938598]    \t[70.63747397]   \t[5.27268332e-05]\t[709.9333779]    \n",
            "347\t88    \t[721.5773319]   \t[6240.77160181] \t[5.27268332e-05]\t[62044.49428202] \n",
            "348\t88    \t[39.75686442]   \t[380.37031826]  \t[5.27268332e-05]\t[3821.30701676]  \n",
            "349\t94    \t[9.17635026]    \t[91.30300762]   \t[5.27268332e-05]\t[917.62980576]   \n",
            "350\t94    \t[453.37717488]  \t[2974.34963928] \t[5.27268332e-05]\t[23864.6268446]  \n",
            "351\t90    \t[339.28447547]  \t[2162.45066551] \t[5.27268332e-05]\t[15805.02834949] \n",
            "352\t89    \t[405.50569175]  \t[3071.6551335]  \t[5.27268332e-05]\t[29057.42833704] \n",
            "353\t87    \t[164.93732498]  \t[1156.81197243] \t[5.27268332e-05]\t[10776.86258827] \n",
            "354\t98    \t[136.01964376]  \t[972.78651622]  \t[5.27268332e-05]\t[9135.60156741]  \n",
            "355\t98    \t[12.30104058]   \t[122.39328381]  \t[5.27268332e-05]\t[1230.09883833]  \n",
            "356\t89    \t[955.26641509]  \t[7268.25507449] \t[5.27268332e-05]\t[67904.53771925] \n",
            "357\t87    \t[196.08732288]  \t[1173.15992455] \t[5.27268332e-05]\t[10725.97676917] \n",
            "358\t90    \t[353.90774867]  \t[3036.21708569] \t[5.27268332e-05]\t[30320.52302591] \n",
            "359\t93    \t[46.93845749]   \t[467.03123053]  \t[5.27268332e-05]\t[4693.84052865]  \n",
            "360\t90    \t[728.89679944]  \t[5490.16366669] \t[5.27268332e-05]\t[52098.27076122] \n",
            "361\t94    \t[572.48971304]  \t[3669.36524947] \t[5.27268332e-05]\t[34759.12434132] \n",
            "362\t95    \t[162.15981418]  \t[1350.40605306] \t[5.27268332e-05]\t[13417.75851416] \n",
            "363\t96    \t[250.63417928]  \t[1386.40123126] \t[5.27268332e-05]\t[11202.2635531]  \n",
            "364\t84    \t[183.08105829]  \t[1262.74662895] \t[5.27268332e-05]\t[9105.17617403]  \n",
            "365\t93    \t[605.62041425]  \t[3595.12008621] \t[5.27268332e-05]\t[31600.20503696] \n",
            "366\t92    \t[82.87916074]   \t[824.6367127]   \t[5.27268332e-05]\t[8287.91085387]  \n",
            "367\t92    \t[1573.71556826] \t[11448.72344227]\t[5.27268332e-05]\t[113994.03776236]\n",
            "368\t87    \t[202.25431261]  \t[1434.8571063]  \t[5.27268332e-05]\t[11761.68877557] \n",
            "369\t84    \t[536.49714512]  \t[3423.48916365] \t[5.27268332e-05]\t[31222.21704839] \n",
            "370\t92    \t[791.91944129]  \t[4835.22463414] \t[5.27268332e-05]\t[45424.43356942] \n",
            "371\t81    \t[114.21869273]  \t[800.16250823]  \t[5.27268332e-05]\t[5935.77100024]  \n",
            "372\t90    \t[274.63695618]  \t[1478.6994843]  \t[5.27268332e-05]\t[12772.24421934] \n",
            "373\t91    \t[315.15244472]  \t[3135.7267081]  \t[5.27268332e-05]\t[31515.23925236] \n",
            "374\t94    \t[559.60080238]  \t[3532.10615928] \t[5.27268332e-05]\t[27590.40990836] \n",
            "375\t91    \t[295.76567577]  \t[2646.70859137] \t[5.27268332e-05]\t[26447.35167113] \n",
            "376\t93    \t[52.75076384]   \t[389.33396781]  \t[5.27268332e-05]\t[3572.87370549]  \n",
            "377\t93    \t[170.13058544]  \t[1356.92804582] \t[5.27268332e-05]\t[13105.32115896] \n",
            "378\t88    \t[99.61136036]   \t[484.84989854]  \t[5.27268332e-05]\t[3878.51630221]  \n",
            "379\t97    \t[570.9387935]   \t[2978.91245409] \t[5.27268332e-05]\t[19185.65410956] \n",
            "380\t93    \t[127.88170915]  \t[1071.82294294] \t[5.27268332e-05]\t[10619.90974252] \n",
            "381\t90    \t[215.94140672]  \t[1467.12430254] \t[5.27268332e-05]\t[12650.46983653] \n",
            "382\t93    \t[2.77032472]    \t[27.56385828]   \t[5.27268332e-05]\t[277.02725182]   \n",
            "383\t97    \t[53.08036203]   \t[486.5344259]   \t[5.27268332e-05]\t[4875.02097761]  \n",
            "384\t97    \t[335.18109939]  \t[2540.82724335] \t[5.27268332e-05]\t[24989.87070938] \n",
            "385\t98    \t[82.73252339]   \t[741.7598196]   \t[5.27268332e-05]\t[7413.96402116]  \n",
            "386\t92    \t[174.12770254]  \t[1482.15286074] \t[5.27268332e-05]\t[14669.08167874] \n",
            "387\t93    \t[228.12668568]  \t[1550.65297295] \t[5.27268332e-05]\t[13925.69859801] \n",
            "388\t94    \t[355.78367466]  \t[3025.77084348] \t[5.27268332e-05]\t[30174.73400002] \n",
            "389\t90    \t[130.92700642]  \t[868.68900397]  \t[5.27268332e-05]\t[7846.82708122]  \n",
            "390\t92    \t[379.7306222]   \t[2686.10002108] \t[5.27268332e-05]\t[25324.23148133] \n",
            "391\t87    \t[527.88478163]  \t[3394.60211461] \t[5.27268332e-05]\t[26520.86359753] \n",
            "392\t91    \t[346.79185402]  \t[1589.93080582] \t[5.27268332e-05]\t[12455.70541447] \n",
            "393\t89    \t[3.51750736]    \t[34.99823169]   \t[5.27268332e-05]\t[351.74551586]   \n",
            "394\t93    \t[380.87833636]  \t[3387.74740553] \t[5.27268332e-05]\t[33823.10129509] \n",
            "395\t90    \t[198.12611196]  \t[1405.84808158] \t[5.27268332e-05]\t[11533.66278454] \n",
            "396\t97    \t[187.85137801]  \t[1319.64472251] \t[5.27268332e-05]\t[10178.19643132] \n",
            "397\t91    \t[204.72657623]  \t[1909.10396827] \t[5.27268332e-05]\t[19155.24835958] \n",
            "398\t82    \t[164.6679022]   \t[1638.29112346] \t[5.27268332e-05]\t[16465.45871102] \n",
            "399\t84    \t[5.27268332e-05]\t[9.49285601e-19]\t[5.27268332e-05]\t[5.27268332e-05] \n",
            "400\t89    \t[121.72697354]  \t[851.80956515]  \t[5.27268332e-05]\t[6329.33396808]  \n",
            "401\t90    \t[741.00103129]  \t[3716.93010622] \t[5.27268332e-05]\t[32980.2338089]  \n",
            "402\t89    \t[31.52885175]   \t[307.65628556]  \t[5.27268332e-05]\t[3092.07843071]  \n",
            "403\t83    \t[399.56943991]  \t[2173.45103759] \t[5.27268332e-05]\t[13899.1727137]  \n",
            "404\t97    \t[1210.53901552] \t[5950.15180125] \t[5.27268332e-05]\t[42724.10726809] \n",
            "405\t94    \t[129.81604678]  \t[942.7113902]   \t[5.27268332e-05]\t[8546.3576285]   \n",
            "406\t94    \t[260.60086298]  \t[1864.17244226] \t[5.27268332e-05]\t[17511.66320796] \n",
            "407\t84    \t[10.07582201]   \t[100.25263857]  \t[5.27268332e-05]\t[1007.57698117]  \n",
            "408\t96    \t[200.26419861]  \t[1590.15197781] \t[5.27268332e-05]\t[15320.76155939] \n",
            "409\t89    \t[173.63374985]  \t[1425.19944071] \t[5.27268332e-05]\t[14104.87538386] \n",
            "410\t89    \t[312.50165253]  \t[3022.37549366] \t[5.27268332e-05]\t[30372.19566012] \n",
            "411\t85    \t[704.46687518]  \t[4875.11533645] \t[5.27268332e-05]\t[47089.14319068] \n",
            "412\t90    \t[164.11998831]  \t[1262.27268198] \t[5.27268332e-05]\t[12223.08728685] \n",
            "413\t85    \t[839.1230461]   \t[5299.57781769] \t[5.27268332e-05]\t[49935.73232232] \n",
            "414\t94    \t[310.84953153]  \t[2871.15561116] \t[5.27268332e-05]\t[28834.98560026] \n",
            "415\t90    \t[342.3969825]   \t[2563.18397052] \t[5.27268332e-05]\t[25340.77799921] \n",
            "416\t80    \t[192.17791021]  \t[1644.35845801] \t[5.27268332e-05]\t[16295.56108808] \n",
            "417\t92    \t[268.29843192]  \t[1923.33621369] \t[5.27268332e-05]\t[16347.53897765] \n",
            "418\t89    \t[1185.51864048] \t[5664.72645681] \t[5.27268332e-05]\t[43943.64192516] \n",
            "419\t94    \t[500.2123075]   \t[3101.92335712] \t[5.27268332e-05]\t[26736.79904595] \n",
            "420\t92    \t[44.78337873]   \t[434.94211433]  \t[5.27268332e-05]\t[4371.10062381]  \n",
            "421\t91    \t[194.23022738]  \t[1025.21163056] \t[5.27268332e-05]\t[6985.72976498]  \n",
            "422\t95    \t[63.54482182]   \t[344.7659767]   \t[5.27268332e-05]\t[2636.40012221]  \n",
            "423\t96    \t[107.35482437]  \t[1068.16649099] \t[5.27268332e-05]\t[10735.47721713] \n",
            "424\t90    \t[161.16006726]  \t[1175.84688667] \t[5.27268332e-05]\t[11343.60288059] \n",
            "425\t89    \t[683.008999]    \t[5030.65683331] \t[5.27268332e-05]\t[47739.56876331] \n",
            "426\t80    \t[126.63906942]  \t[620.98782044]  \t[5.27268332e-05]\t[4977.6460143]   \n",
            "427\t88    \t[636.80898548]  \t[4094.70632412] \t[5.27268332e-05]\t[38572.49755051] \n",
            "428\t90    \t[474.44729408]  \t[4720.69044715] \t[5.27268332e-05]\t[47444.72418787] \n",
            "429\t87    \t[199.22656134]  \t[1797.268525]   \t[5.27268332e-05]\t[18033.18044943] \n",
            "430\t84    \t[309.95403903]  \t[2706.75794578] \t[5.27268332e-05]\t[27108.12384898] \n",
            "431\t93    \t[1046.88335331] \t[7746.86891021] \t[5.27268332e-05]\t[75588.75342128] \n",
            "432\t88    \t[102.75449258]  \t[1022.3937676]  \t[5.27268332e-05]\t[10275.44403799] \n",
            "433\t90    \t[11.69659956]   \t[116.37917153]  \t[5.27268332e-05]\t[1169.65473567]  \n",
            "434\t96    \t[71.22594395]   \t[708.60606748]  \t[5.27268332e-05]\t[7121.76724698]  \n",
            "435\t96    \t[192.72853423]  \t[1808.97131718] \t[5.27268332e-05]\t[18176.97951118] \n",
            "436\t94    \t[8.65548669]    \t[81.1634735]    \t[5.27268332e-05]\t[815.52522425]   \n",
            "437\t94    \t[221.81092183]  \t[1654.69403371] \t[5.27268332e-05]\t[15135.35082227] \n",
            "438\t90    \t[811.2367518]   \t[8071.67327455] \t[5.27268332e-05]\t[81123.37179732] \n",
            "439\t93    \t[2847.67669327] \t[15466.38269358]\t[5.27268332e-05]\t[132632.63477083]\n",
            "440\t93    \t[5.27268332e-05]\t[1.02245173e-18]\t[5.27268332e-05]\t[5.27268332e-05] \n",
            "441\t86    \t[799.16253544]  \t[4130.36640881] \t[5.27268332e-05]\t[27876.96642933] \n",
            "442\t95    \t[792.04139007]  \t[5378.34138628] \t[5.27268332e-05]\t[50661.36120247] \n",
            "443\t90    \t[2045.01380507] \t[11222.71655061]\t[5.27268332e-05]\t[90364.96531234] \n",
            "444\t91    \t[237.24701322]  \t[1361.7066583]  \t[5.27268332e-05]\t[9292.92559162]  \n",
            "445\t91    \t[326.06891935]  \t[2291.73977142] \t[5.27268332e-05]\t[17758.55157041] \n",
            "446\t94    \t[521.37947937]  \t[3870.64242223] \t[5.27268332e-05]\t[36386.95251665] \n",
            "447\t95    \t[426.2077372]   \t[2727.28339523] \t[5.27268332e-05]\t[19877.06830148] \n",
            "448\t91    \t[252.52172324]  \t[2212.70698272] \t[5.27268332e-05]\t[22079.95839972] \n",
            "449\t91    \t[711.92353695]  \t[4258.64726823] \t[5.27268332e-05]\t[39411.36331217] \n",
            "450\t94    \t[234.32915501]  \t[2331.49027437] \t[5.27268332e-05]\t[23432.3644761]  \n",
            "451\t96    \t[16.92721213]   \t[121.37133256]  \t[5.27268332e-05]\t[1032.24680888]  \n",
            "452\t91    \t[224.27538124]  \t[2231.51134319] \t[5.27268332e-05]\t[22427.53290362] \n",
            "453\t97    \t[279.04083953]  \t[2191.11928672] \t[5.27268332e-05]\t[21133.24593592] \n",
            "454\t94    \t[201.73793122]  \t[1479.15472204] \t[5.27268332e-05]\t[13672.70762251] \n",
            "455\t94    \t[497.46543465]  \t[3422.54750443] \t[5.27268332e-05]\t[28108.36126178] \n",
            "456\t90    \t[41.24794641]   \t[410.41136023]  \t[5.27268332e-05]\t[4124.78942113]  \n",
            "457\t93    \t[166.85136049]  \t[1621.21772948] \t[5.27268332e-05]\t[16294.56163138] \n",
            "458\t93    \t[82.99618213]   \t[645.92071582]  \t[5.27268332e-05]\t[6418.571946]    \n",
            "459\t85    \t[466.25952504]  \t[2980.64502165] \t[5.27268332e-05]\t[26646.50204081] \n",
            "460\t96    \t[504.08069856]  \t[4438.58172923] \t[5.27268332e-05]\t[44260.80969167] \n",
            "461\t88    \t[1415.88490466] \t[8402.82231006] \t[5.27268332e-05]\t[66699.57762545] \n",
            "462\t95    \t[54.14452201]   \t[472.62489393]  \t[5.27268332e-05]\t[4703.77975466]  \n",
            "463\t97    \t[358.65512311]  \t[2304.66888601] \t[5.27268332e-05]\t[20396.02462102] \n",
            "464\t92    \t[320.02629318]  \t[3184.22088796] \t[5.27268332e-05]\t[32002.62409814] \n",
            "465\t89    \t[401.83051605]  \t[2906.62392643] \t[5.27268332e-05]\t[26111.71192658] \n",
            "466\t90    \t[453.46198868]  \t[4511.88929483] \t[5.27268332e-05]\t[45346.19364841] \n",
            "467\t97    \t[1559.4689095]  \t[8234.37409243] \t[5.27268332e-05]\t[68031.27465475] \n",
            "468\t90    \t[199.25532294]  \t[1216.14011509] \t[5.27268332e-05]\t[8783.12452111]  \n",
            "469\t96    \t[620.2302428]   \t[4615.47504569] \t[5.27268332e-05]\t[44746.1619208]  \n",
            "470\t92    \t[5.27268332e-05]\t[1.62048149e-18]\t[5.27268332e-05]\t[5.27268332e-05] \n",
            "471\t98    \t[32.14868192]   \t[197.95565393]  \t[5.27268332e-05]\t[1689.95778674]  \n",
            "472\t99    \t[1206.89219551] \t[9410.57457286] \t[5.27268332e-05]\t[93028.99777705] \n",
            "473\t100   \t[459.66520294]  \t[3225.65586739] \t[5.27268332e-05]\t[24588.64395276] \n",
            "474\t93    \t[72.81452541]   \t[490.87933052]  \t[5.27268332e-05]\t[4531.22176515]  \n",
            "475\t89    \t[5.81786265]    \t[57.88647789]   \t[5.27268332e-05]\t[581.78104541]   \n",
            "476\t93    \t[1141.09268593] \t[5074.15466474] \t[5.27268332e-05]\t[38892.15544818] \n",
            "477\t94    \t[7.84391632]    \t[77.82473478]   \t[5.27268332e-05]\t[782.1871898]    \n",
            "478\t91    \t[72.46512903]   \t[716.22249014]  \t[5.27268332e-05]\t[7198.63131992]  \n",
            "479\t92    \t[300.79104069]  \t[1882.4285439]  \t[5.27268332e-05]\t[16073.00558386] \n",
            "480\t94    \t[26.36039444]   \t[262.28208847]  \t[5.27268332e-05]\t[2636.03422453]  \n",
            "481\t92    \t[15.63561398]   \t[155.57187018]  \t[5.27268332e-05]\t[1563.55617792]  \n",
            "482\t94    \t[457.94443765]  \t[3192.38396032] \t[5.27268332e-05]\t[30338.29455771] \n",
            "483\t89    \t[484.53277849]  \t[3092.51086755] \t[5.27268332e-05]\t[28384.20014147] \n",
            "484\t86    \t[267.9544538]   \t[1675.35112082] \t[5.27268332e-05]\t[13884.78993227] \n",
            "485\t89    \t[94.18890922]   \t[687.01730813]  \t[5.27268332e-05]\t[6580.74823009]  \n",
            "486\t93    \t[127.31856025]  \t[987.02232409]  \t[5.27268332e-05]\t[9575.5878]      \n",
            "487\t99    \t[67.22198159]   \t[668.84974718]  \t[5.27268332e-05]\t[6722.19293918]  \n",
            "488\t96    \t[399.55210785]  \t[2633.40551325] \t[5.27268332e-05]\t[21698.272873]   \n",
            "489\t95    \t[173.23392637]  \t[1723.65527956] \t[5.27268332e-05]\t[17323.38741703] \n",
            "490\t94    \t[226.28174752]  \t[1048.13557326] \t[5.27268332e-05]\t[7214.03586986]  \n",
            "491\t93    \t[78.81730991]   \t[588.78848053]  \t[5.27268332e-05]\t[5548.77766197]  \n",
            "492\t86    \t[372.81239394]  \t[2241.67905761] \t[5.27268332e-05]\t[18796.3392429]  \n",
            "493\t95    \t[210.47577978]  \t[1567.98818508] \t[5.27268332e-05]\t[15443.63779201] \n",
            "494\t92    \t[2.6006518]     \t[25.87563403]   \t[5.27268332e-05]\t[260.0599597]    \n",
            "495\t88    \t[94.75316608]   \t[601.77144216]  \t[5.27268332e-05]\t[5238.07097869]  \n",
            "496\t97    \t[951.10994914]  \t[7054.55527377] \t[5.27268332e-05]\t[69785.72359714] \n",
            "497\t91    \t[51.66692594]   \t[312.54213124]  \t[5.27268332e-05]\t[2571.19865516]  \n",
            "498\t96    \t[78.87031008]   \t[647.70394789]  \t[5.27268332e-05]\t[6443.58413245]  \n",
            "499\t97    \t[528.15835601]  \t[4387.63046745] \t[5.27268332e-05]\t[43115.23793159] \n",
            "500\t91    \t[46.68419588]   \t[464.50135948]  \t[5.27268332e-05]\t[4668.41436793]  \n",
            "最も良い個体は [0.9927743511083537, 0.9927024601267654]で、そのときの目的関数の値は (5.2726833228721754e-05,)\n"
          ]
        }
      ]
    },
    {
      "cell_type": "code",
      "metadata": {
        "id": "VWe9zVdSURVx"
      },
      "source": [
        ""
      ],
      "execution_count": null,
      "outputs": []
    }
  ]
}