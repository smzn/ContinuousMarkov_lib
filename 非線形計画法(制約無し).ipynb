{
  "nbformat": 4,
  "nbformat_minor": 0,
  "metadata": {
    "kernelspec": {
      "display_name": "Python 3",
      "language": "python",
      "name": "python3"
    },
    "language_info": {
      "codemirror_mode": {
        "name": "ipython",
        "version": 3
      },
      "file_extension": ".py",
      "mimetype": "text/x-python",
      "name": "python",
      "nbconvert_exporter": "python",
      "pygments_lexer": "ipython3",
      "version": "3.8.3"
    },
    "colab": {
      "name": "非線形計画法(制約無し).ipynb",
      "provenance": [],
      "collapsed_sections": []
    }
  },
  "cells": [
    {
      "cell_type": "markdown",
      "metadata": {
        "id": "6a54WxjPimLH"
      },
      "source": [
        "# 非線形計画法をpythonで実行するための方法"
      ]
    },
    {
      "cell_type": "markdown",
      "metadata": {
        "id": "YH0kWB9bimLJ"
      },
      "source": [
        "## 1. 非線形計画法 : 制約無し (目的関数が非線形)  \n",
        "Unconstrained minimization of multivariate scalar functions (minimize)  \n",
        "今回は  \n",
        "from scipy.optimize import minimize  \n",
        "でscipy.optimize を利用する。  \n",
        "https://docs.scipy.org/doc/scipy/reference/tutorial/optimize.html#unconstrained-minimization-of-multivariate-scalar-functions-minimize  \n",
        "今回は、Nelder-Mead Simplex algorithm (method='Nelder-Mead')を利用する  \n",
        "https://docs.scipy.org/doc/scipy/reference/optimize.minimize-neldermead.html"
      ]
    },
    {
      "cell_type": "markdown",
      "metadata": {
        "id": "0Il-eB46imLK"
      },
      "source": [
        "### 例題1.1 ローゼンブロック関数 $f(x) = \\sum_{i = 1}^{N-1}(100(x_{i+1} - x_i^2)^2 + (1 - x_i)^2)$  の最小値を求める。理論値は$x = 1$となる。"
      ]
    },
    {
      "cell_type": "code",
      "metadata": {
        "id": "ZwhKywSWimLK"
      },
      "source": [
        "import numpy as np\n",
        "from scipy.optimize import minimize"
      ],
      "execution_count": 1,
      "outputs": []
    },
    {
      "cell_type": "code",
      "metadata": {
        "id": "IxOOJYtSimLL"
      },
      "source": [
        "def rosenbrock(x):\n",
        "    value = 0\n",
        "    for i in range(len(x)-1):\n",
        "        value += 100 * (x[i+1] - x[i])**2 + (1 - x[i])**2.0\n",
        "    return value"
      ],
      "execution_count": 2,
      "outputs": []
    },
    {
      "cell_type": "code",
      "metadata": {
        "colab": {
          "base_uri": "https://localhost:8080/"
        },
        "id": "PnaGyJbXimLM",
        "outputId": "436268fb-31cd-46d3-c1cd-7e679a2545ff"
      },
      "source": [
        "x0 = np.array([1.3, 0.7, 0.8, 1.9, 1.2]) #5変数で実施する。今回の初期値\n",
        "res = minimize(rosenbrock, #目的関数\n",
        "               x0, #初期値 \n",
        "               method='nelder-mead', #最適化手法(今回は'Nelder-Mead')\n",
        "               options={'xatol': 1e-8, #収束判定値(Nelder-Mead法)\n",
        "                        'disp': True, #結果表示\n",
        "                        'maxiter': 500 #繰り返し回数\n",
        "                       })\n",
        "print(res['x'])"
      ],
      "execution_count": 3,
      "outputs": [
        {
          "output_type": "stream",
          "name": "stdout",
          "text": [
            "Optimization terminated successfully.\n",
            "         Current function value: 0.000000\n",
            "         Iterations: 456\n",
            "         Function evaluations: 735\n",
            "[1. 1. 1. 1. 1.]\n"
          ]
        }
      ]
    },
    {
      "cell_type": "markdown",
      "metadata": {
        "id": "k02xbzqximLN"
      },
      "source": [
        "### 例題1.2 $f(x_1, x_2) = \\frac{1}{2}(x_1 - x_2^2)^2 + \\frac{1}{4}(x_2 - 2)^4$  \n",
        "最小解は$(x_1, x_2) = (4, 2)$  \n",
        "矢部博 八巻直一, 非線形計画法, 朝倉書店, 1999, P32"
      ]
    },
    {
      "cell_type": "code",
      "metadata": {
        "id": "5jtEtBx3imLO"
      },
      "source": [
        "def f1_2(x):\n",
        "    return 1 / 2 * (x[0] - x[1]**2)**2 + 1 / 4 * (x[1] - 2)**4"
      ],
      "execution_count": 4,
      "outputs": []
    },
    {
      "cell_type": "code",
      "metadata": {
        "colab": {
          "base_uri": "https://localhost:8080/"
        },
        "id": "D0URnlcuimLP",
        "outputId": "eaedffa1-3e3f-4d7e-8fd7-c823106417ce"
      },
      "source": [
        "x0 = np.array([1.3, 0.7]) #2変数で実施する。今回の初期値\n",
        "res = minimize(f1_2, #目的関数\n",
        "               x0, #初期値 \n",
        "               method='nelder-mead', #最適化手法(今回は'Nelder-Mead')\n",
        "               options={'xatol': 1e-8, #収束判定値(Nelder-Mead法)\n",
        "                        'disp': True, #結果表示\n",
        "                        'maxiter': 500 #繰り返し回数\n",
        "                       })\n",
        "print(res['x'])"
      ],
      "execution_count": 5,
      "outputs": [
        {
          "output_type": "stream",
          "name": "stdout",
          "text": [
            "Optimization terminated successfully.\n",
            "         Current function value: 0.000000\n",
            "         Iterations: 124\n",
            "         Function evaluations: 240\n",
            "[4.00000008 2.00000002]\n"
          ]
        }
      ]
    },
    {
      "cell_type": "markdown",
      "metadata": {
        "id": "Ks8DvD7wimLQ"
      },
      "source": [
        "### 例題1.3 $f(x_1, x_2) = x_1^2 + (x_2 - 1)^4 + x_1$\n",
        "最小解は$(x_1, x_2) = (-\\frac{1}{2}, 1)$  \n",
        "矢部博 八巻直一, 非線形計画法, 朝倉書店, 1999, P128"
      ]
    },
    {
      "cell_type": "code",
      "metadata": {
        "id": "L7TcAeagimLQ"
      },
      "source": [
        "def f1_3(x):\n",
        "    return x[0]**2 + (x[1] - 1)**4 + x[0]"
      ],
      "execution_count": 6,
      "outputs": []
    },
    {
      "cell_type": "code",
      "metadata": {
        "colab": {
          "base_uri": "https://localhost:8080/"
        },
        "id": "LBVzGlKbimLQ",
        "outputId": "25ec0d6f-0f6c-4483-884c-de7ca47e7427"
      },
      "source": [
        "x0 = np.array([1.3, 0.7]) #2変数で実施する。今回の初期値\n",
        "res = minimize(f1_3, #目的関数\n",
        "               x0, #初期値 \n",
        "               method='nelder-mead', #最適化手法(今回は'Nelder-Mead')\n",
        "               options={'xatol': 1e-8, #収束判定値(Nelder-Mead法)\n",
        "                        'disp': True, #結果表示\n",
        "                        'maxiter': 500 #繰り返し回数\n",
        "                       })\n",
        "print(res['x'])"
      ],
      "execution_count": 7,
      "outputs": [
        {
          "output_type": "stream",
          "name": "stdout",
          "text": [
            "Optimization terminated successfully.\n",
            "         Current function value: -0.250000\n",
            "         Iterations: 77\n",
            "         Function evaluations: 174\n",
            "[-0.5         1.00002561]\n"
          ]
        }
      ]
    },
    {
      "cell_type": "markdown",
      "metadata": {
        "id": "vUiFgGYOimLR"
      },
      "source": [
        "### 例題1.4 $f(\\mathbf{x}) = \\sum_{i = 1}^{n-1}(x_{i} - x_{i+1})^4 + \\sum_{i=1}^n (x_i - 1)^2$\n",
        "最小解は$\\mathbf{x}^* = (1, 1, \\cdots, 1)$  \n",
        "$n = 10$, 初期値 $x_0 = (-1, -1, \\cdots, -1, 0)$  \n",
        "矢部博 八巻直一, 非線形計画法, 朝倉書店, 1999, P131"
      ]
    },
    {
      "cell_type": "code",
      "metadata": {
        "id": "T3pMZHkmimLR"
      },
      "source": [
        "def f1_4(x):\n",
        "    sum0 = 0\n",
        "    sum1 = 0\n",
        "    for i in range(len(x)):\n",
        "        if i < len(x) - 1:\n",
        "            sum0 += (x[i] - x[i+1])**4\n",
        "        sum1 += (x[0] - 1)**2\n",
        "    return sum0 + sum1"
      ],
      "execution_count": 8,
      "outputs": []
    },
    {
      "cell_type": "code",
      "metadata": {
        "colab": {
          "base_uri": "https://localhost:8080/"
        },
        "id": "CoaF6r-CimLS",
        "outputId": "d76eb543-e52c-4656-e2bd-e81c5729c929"
      },
      "source": [
        "x0 = np.array([-1, -1, -1, -1, -1, -1, -1, -1, -1, 0]) #10変数で実施する。今回の初期値\n",
        "res = minimize(f1_4, #目的関数\n",
        "               x0, #初期値 \n",
        "               method='nelder-mead', #最適化手法(今回は'Nelder-Mead')\n",
        "               options={'xatol': 1e-8, #収束判定値(Nelder-Mead法)\n",
        "                        'disp': True, #結果表示\n",
        "                        'maxiter': 10000 #繰り返し回数\n",
        "                       })\n",
        "print(res['x'])"
      ],
      "execution_count": 9,
      "outputs": [
        {
          "output_type": "stream",
          "name": "stdout",
          "text": [
            "Optimization terminated successfully.\n",
            "         Current function value: 0.000000\n",
            "         Iterations: 7212\n",
            "         Function evaluations: 10001\n",
            "[1.         0.99999981 0.99999988 0.99999995 0.99999985 0.99999976\n",
            " 0.99999959 0.9999995  0.99999933 0.99999945]\n"
          ]
        }
      ]
    },
    {
      "cell_type": "markdown",
      "metadata": {
        "id": "JJwPQUjtjPBr"
      },
      "source": [
        "### 例題1.5 $f(x) = 2x_1^2 - x_1x_2 + 2x_2^2$  \n",
        "初期点 $(x_1, x_2) = (2, 3)$、最適解は $(x_1, x_2) = (0, 0)$のとき  \n",
        "坂和、西崎 : 数理計画法入門、森北出版、P126 例4.11"
      ]
    },
    {
      "cell_type": "code",
      "metadata": {
        "id": "ZY_tGVrLimLS"
      },
      "source": [
        "def f1_5(x):\n",
        "  return 2 * x[0]**2 -x[0] * x[1] + 2 * x[1]**2"
      ],
      "execution_count": 10,
      "outputs": []
    },
    {
      "cell_type": "code",
      "metadata": {
        "colab": {
          "base_uri": "https://localhost:8080/"
        },
        "id": "eWJMik52kI9a",
        "outputId": "a8d461ee-ef6e-4150-a065-52ed12a54837"
      },
      "source": [
        "x0 = np.array([2, 3]) #2変数で実施する。今回の初期値\n",
        "res = minimize(f1_5, #目的関数\n",
        "               x0, #初期値 \n",
        "               method='nelder-mead', #最適化手法(今回は'Nelder-Mead')\n",
        "               options={'xatol': 1e-8, #収束判定値(Nelder-Mead法)\n",
        "                        'disp': True, #結果表示\n",
        "                        'maxiter': 10000 #繰り返し回数\n",
        "                       })\n",
        "print(res['x'])"
      ],
      "execution_count": 11,
      "outputs": [
        {
          "output_type": "stream",
          "name": "stdout",
          "text": [
            "Optimization terminated successfully.\n",
            "         Current function value: 0.000000\n",
            "         Iterations: 70\n",
            "         Function evaluations: 135\n",
            "[ 5.34851632e-10 -3.86452770e-09]\n"
          ]
        }
      ]
    },
    {
      "cell_type": "markdown",
      "metadata": {
        "id": "3juTeVgteZEE"
      },
      "source": [
        "## ニュートン法について\n",
        "ニュートン法の公式  \n",
        "$H \\Delta x = -\\nabla f$  \n",
        "$\\Delta x = -H^{-1} \\nabla f$  \n",
        "ニュートン法の更新式  \n",
        "$x_{n + 1} = x_n - H^{-1} \\nabla f$"
      ]
    },
    {
      "cell_type": "code",
      "metadata": {
        "id": "pIx8e9pGkRiG"
      },
      "source": [
        "import sympy\n",
        "def custom_latex_printer(exp,**options):\n",
        "    from google.colab.output._publish import javascript\n",
        "    url = \"https://cdnjs.cloudflare.com/ajax/libs/mathjax/2.7.3/latest.js?config=default\"\n",
        "    javascript(url=url)\n",
        "    return sympy.printing.latex(exp,**options)\n",
        "\n",
        "sympy.init_printing(use_latex=\"mathjax\",latex_printer=custom_latex_printer)"
      ],
      "execution_count": 12,
      "outputs": []
    },
    {
      "cell_type": "markdown",
      "metadata": {
        "id": "LO7jFoNCTfsU"
      },
      "source": [
        "### ニュートン法アルゴリズム\n",
        "\n",
        "\n",
        "1.   $x$の初期値を与える\n",
        "2.   勾配$\\nabla f$とヘッセ行列$H$の$x$における値を計算する\n",
        "3.   次の連立方程式の解$\\Delta x$を計算する。またはヘッセ行列の逆行列$H^{-1}$を求めて、$\\Delta x = -H^{-1}\\nabla f$を計算する\n",
        "4.   $x$を次の式で更新する。$x \\leftarrow x + \\Delta x$または、$x \\leftarrow x - H^{-1}\\nabla f$\n",
        "5.   $||\\Delta x|| < \\delta$ なら$x$を返して終了する。そうでなければステップ2に戻る\n",
        "\n",
        "金谷、これならわかる最適化数学、共立出版、P90 アルゴリズム3.4 多変数のニュートン法\n",
        "\n",
        "ニュートン法は収束が非常に速い優れた方法であるが、欠点が２つある。\n",
        "\n",
        "\n",
        "1.   ヘッセ行列を計算するために、全ての2階導関数が必要になる\n",
        "2.   ヘッセ行列からその逆関数を計算しなければならない。逆行列を計算することは連立１次方程式の回を求めることに等価であり、一般には$n$個の変数に対して、$n^3$に比例する回数の演算が必要になる。\n",
        "\n",
        "\n",
        "\n",
        "\n",
        "\n",
        "\n"
      ]
    },
    {
      "cell_type": "markdown",
      "metadata": {
        "id": "HE6hczdA_8Ap"
      },
      "source": [
        "### 例題1.6 ニュートン法\n",
        "数理計画法入門、森北 P129 例4.12  \n",
        "$f(x) = 2x_1^2 - x_1 x_2 + 2x_2^2$  \n",
        "最適解 $(x_1, x_2) = (0, 0)$\n",
        "\n",
        "ニュートン法では、ヘッセ行列の逆行列を計算するので、1回当たりの計算量が多くて、しかもかなりの記憶容量を必要とする欠点がある。またヘッセ行列が正定でなければ、降下方向を定めるために行列に修正を施さなければならない。"
      ]
    },
    {
      "cell_type": "code",
      "metadata": {
        "colab": {
          "base_uri": "https://localhost:8080/",
          "height": 37
        },
        "id": "o6jcvJQ7-ky3",
        "outputId": "478e8aee-9968-4e95-ae2d-9cdd62ee96d6"
      },
      "source": [
        "sympy.var('x1')\n",
        "sympy.var('x2')\n",
        "f = 2*x1**2 -x1*x2 + 2*x2**2 #数理計画法入門\n",
        "f "
      ],
      "execution_count": 13,
      "outputs": [
        {
          "output_type": "display_data",
          "data": {
            "text/html": [
              "<script src='https://cdnjs.cloudflare.com/ajax/libs/mathjax/2.7.3/latest.js?config=default'></script>"
            ],
            "text/plain": [
              "<IPython.core.display.HTML object>"
            ]
          },
          "metadata": {}
        },
        {
          "output_type": "execute_result",
          "data": {
            "text/latex": "$\\displaystyle 2 x_{1}^{2} - x_{1} x_{2} + 2 x_{2}^{2}$",
            "text/plain": [
              "    2               2\n",
              "2⋅x₁  - x₁⋅x₂ + 2⋅x₂ "
            ]
          },
          "metadata": {},
          "execution_count": 13
        }
      ]
    },
    {
      "cell_type": "code",
      "metadata": {
        "id": "dsMlUf4b_tua"
      },
      "source": [
        "#微分\n",
        "dfx1 = sympy.diff(f, x1, 1)\n",
        "dfx2 = sympy.diff(f, x2, 1)\n",
        "d2fx1 = sympy.diff(f, x1, 2)\n",
        "d2fx1x2 = sympy.diff(f, x1, x2, 1)\n",
        "d2fx2 = sympy.diff(f, x2, 2)"
      ],
      "execution_count": 14,
      "outputs": []
    },
    {
      "cell_type": "code",
      "metadata": {
        "colab": {
          "base_uri": "https://localhost:8080/",
          "height": 57
        },
        "id": "olthHf-M_txG",
        "outputId": "7ca53c12-8acb-41e6-8df5-82adf0432d14"
      },
      "source": [
        "#Δf\n",
        "deltaf = sympy.Matrix([dfx1, dfx2])\n",
        "deltaf"
      ],
      "execution_count": 15,
      "outputs": [
        {
          "output_type": "display_data",
          "data": {
            "text/html": [
              "<script src='https://cdnjs.cloudflare.com/ajax/libs/mathjax/2.7.3/latest.js?config=default'></script>"
            ],
            "text/plain": [
              "<IPython.core.display.HTML object>"
            ]
          },
          "metadata": {}
        },
        {
          "output_type": "execute_result",
          "data": {
            "text/latex": "$\\displaystyle \\left[\\begin{matrix}4 x_{1} - x_{2}\\\\- x_{1} + 4 x_{2}\\end{matrix}\\right]$",
            "text/plain": [
              "⎡4⋅x₁ - x₂ ⎤\n",
              "⎢          ⎥\n",
              "⎣-x₁ + 4⋅x₂⎦"
            ]
          },
          "metadata": {},
          "execution_count": 15
        }
      ]
    },
    {
      "cell_type": "code",
      "metadata": {
        "colab": {
          "base_uri": "https://localhost:8080/",
          "height": 57
        },
        "id": "rfR8U3rNAuPL",
        "outputId": "d9e3d73f-761f-498d-e2e3-dfb54ec2abf2"
      },
      "source": [
        "#ヘッセ行列\n",
        "H = sympy.Matrix([[d2fx1,d2fx1x2], [d2fx1x2, d2fx2]])\n",
        "H"
      ],
      "execution_count": 16,
      "outputs": [
        {
          "output_type": "display_data",
          "data": {
            "text/html": [
              "<script src='https://cdnjs.cloudflare.com/ajax/libs/mathjax/2.7.3/latest.js?config=default'></script>"
            ],
            "text/plain": [
              "<IPython.core.display.HTML object>"
            ]
          },
          "metadata": {}
        },
        {
          "output_type": "execute_result",
          "data": {
            "text/latex": "$\\displaystyle \\left[\\begin{matrix}4 & -1\\\\-1 & 4\\end{matrix}\\right]$",
            "text/plain": [
              "⎡4   -1⎤\n",
              "⎢      ⎥\n",
              "⎣-1  4 ⎦"
            ]
          },
          "metadata": {},
          "execution_count": 16
        }
      ]
    },
    {
      "cell_type": "code",
      "metadata": {
        "colab": {
          "base_uri": "https://localhost:8080/",
          "height": 58
        },
        "id": "Iy7b1rd4H2Hq",
        "outputId": "466937b7-5c14-473a-c6d3-6c71b650447b"
      },
      "source": [
        "#ヘッセ行列の逆行列\n",
        "H_inv = H.inv()\n",
        "H_inv"
      ],
      "execution_count": 17,
      "outputs": [
        {
          "output_type": "display_data",
          "data": {
            "text/html": [
              "<script src='https://cdnjs.cloudflare.com/ajax/libs/mathjax/2.7.3/latest.js?config=default'></script>"
            ],
            "text/plain": [
              "<IPython.core.display.HTML object>"
            ]
          },
          "metadata": {}
        },
        {
          "output_type": "execute_result",
          "data": {
            "text/latex": "$\\displaystyle \\left[\\begin{matrix}\\frac{4}{15} & \\frac{1}{15}\\\\\\frac{1}{15} & \\frac{4}{15}\\end{matrix}\\right]$",
            "text/plain": [
              "⎡4/15  1/15⎤\n",
              "⎢          ⎥\n",
              "⎣1/15  4/15⎦"
            ]
          },
          "metadata": {},
          "execution_count": 17
        }
      ]
    },
    {
      "cell_type": "code",
      "metadata": {
        "id": "5wXqAqBVIcQy"
      },
      "source": [
        "#ヘッセ行列の逆行列の値を返す\n",
        "def getHinv(val):\n",
        "  return H_inv.subs({x1:val[0], x2: val[1]})"
      ],
      "execution_count": 18,
      "outputs": []
    },
    {
      "cell_type": "code",
      "metadata": {
        "id": "oxxJxDaEJHC4"
      },
      "source": [
        "#Δfの値を返す関数\n",
        "def getDf(val):\n",
        "  return [dfx1.subs({x1:val[0], x2:val[1]}), dfx2.subs({x1:val[0],x2:val[1]})]"
      ],
      "execution_count": 19,
      "outputs": []
    },
    {
      "cell_type": "code",
      "metadata": {
        "id": "GwaOJ21WKpdb"
      },
      "source": [
        "#ヘッセ行列の逆行列とΔfの積を返す関数\n",
        "def getHinvDeltaf(val):\n",
        "  return np.dot(np.array(getHinv(val).tolist(), dtype=float), np.array(getDf(val), dtype=float))"
      ],
      "execution_count": 20,
      "outputs": []
    },
    {
      "cell_type": "code",
      "metadata": {
        "colab": {
          "base_uri": "https://localhost:8080/"
        },
        "id": "Ec32WFoPM5A2",
        "outputId": "152c743e-14da-4728-abcf-b15261586222"
      },
      "source": [
        "getHinvDeltaf([2,3]) "
      ],
      "execution_count": 21,
      "outputs": [
        {
          "output_type": "execute_result",
          "data": {
            "text/plain": [
              "array([2., 3.])"
            ]
          },
          "metadata": {},
          "execution_count": 21
        }
      ]
    },
    {
      "cell_type": "code",
      "metadata": {
        "colab": {
          "base_uri": "https://localhost:8080/"
        },
        "id": "qmOHmIP7MkN9",
        "outputId": "85ee9b62-ed67-4a8c-c87e-a03f58087023"
      },
      "source": [
        "#ニュートン法で収束まで繰り返し\n",
        "x = np.array([2, 3], dtype=float)\n",
        "for i in range(10):\n",
        "  x -= getHinvDeltaf(x)\n",
        "  print('{0}回目のx = {1}'.format(i, x)) \n",
        "#この場合は1回で収束"
      ],
      "execution_count": 22,
      "outputs": [
        {
          "output_type": "stream",
          "name": "stdout",
          "text": [
            "0回目のx = [0. 0.]\n",
            "1回目のx = [0. 0.]\n",
            "2回目のx = [0. 0.]\n",
            "3回目のx = [0. 0.]\n",
            "4回目のx = [0. 0.]\n",
            "5回目のx = [0. 0.]\n",
            "6回目のx = [0. 0.]\n",
            "7回目のx = [0. 0.]\n",
            "8回目のx = [0. 0.]\n",
            "9回目のx = [0. 0.]\n"
          ]
        }
      ]
    },
    {
      "cell_type": "code",
      "metadata": {
        "id": "HIcovujLDpQt"
      },
      "source": [
        "#ヘッセ行列の値を返す関数 (複数の変数に代入するときは、辞書を使う)\n",
        "def getHesse(val):\n",
        "  return H.subs({x1:val[0], x2: val[1]})"
      ],
      "execution_count": 23,
      "outputs": []
    },
    {
      "cell_type": "markdown",
      "metadata": {
        "id": "P_Jw1wejipbw"
      },
      "source": [
        "### 例題1.7 ニュートン法\n",
        "福島、新版 数理計画入門 P118 表4.2  \n",
        "$f(x) = (x_1 - 1)^2 + 10(x_1^2 - x_2)^2$  \n",
        "最適解は$(x_1, x_2) = (1, 1)$のとき\n",
        "\n",
        "全ての点において、ヘッセ行列が半正定値になるような関数が凸関数であるから、全ての点においてヘッセ行列が正定値であるような関数は凸関数のさらに特別な場合にあたる。一般の非線形関数に対しては、ヘッセ行列の正定値性は普通局所的にしか保証されない。"
      ]
    },
    {
      "cell_type": "code",
      "metadata": {
        "colab": {
          "base_uri": "https://localhost:8080/",
          "height": 42
        },
        "id": "5QXQHml4EeRD",
        "outputId": "b1938212-5654-491c-9505-3109624172b6"
      },
      "source": [
        "sympy.var('x1')\n",
        "sympy.var('x2')\n",
        "f = (x1 -1)**2 + 10*(x1**2 -x2)**2\n",
        "f "
      ],
      "execution_count": 24,
      "outputs": [
        {
          "output_type": "display_data",
          "data": {
            "text/html": [
              "<script src='https://cdnjs.cloudflare.com/ajax/libs/mathjax/2.7.3/latest.js?config=default'></script>"
            ],
            "text/plain": [
              "<IPython.core.display.HTML object>"
            ]
          },
          "metadata": {}
        },
        {
          "output_type": "execute_result",
          "data": {
            "text/latex": "$\\displaystyle \\left(x_{1} - 1\\right)^{2} + 10 \\left(x_{1}^{2} - x_{2}\\right)^{2}$",
            "text/plain": [
              "                         2\n",
              "        2      ⎛  2     ⎞ \n",
              "(x₁ - 1)  + 10⋅⎝x₁  - x₂⎠ "
            ]
          },
          "metadata": {},
          "execution_count": 24
        }
      ]
    },
    {
      "cell_type": "code",
      "metadata": {
        "id": "R-cw-96MkISK"
      },
      "source": [
        "#微分\n",
        "dfx1 = sympy.diff(f, x1, 1)\n",
        "dfx2 = sympy.diff(f, x2, 1)\n",
        "d2fx1 = sympy.diff(f, x1, 2)\n",
        "d2fx1x2 = sympy.diff(f, x1, x2, 1)\n",
        "d2fx2 = sympy.diff(f, x2, 2)"
      ],
      "execution_count": 25,
      "outputs": []
    },
    {
      "cell_type": "code",
      "metadata": {
        "colab": {
          "base_uri": "https://localhost:8080/",
          "height": 58
        },
        "id": "XVCeq4KckR7x",
        "outputId": "4d86b518-83ad-45a5-b6ed-74f5961ad1e3"
      },
      "source": [
        "#Δf\n",
        "deltaf = sympy.Matrix([dfx1, dfx2])\n",
        "deltaf"
      ],
      "execution_count": 26,
      "outputs": [
        {
          "output_type": "display_data",
          "data": {
            "text/html": [
              "<script src='https://cdnjs.cloudflare.com/ajax/libs/mathjax/2.7.3/latest.js?config=default'></script>"
            ],
            "text/plain": [
              "<IPython.core.display.HTML object>"
            ]
          },
          "metadata": {}
        },
        {
          "output_type": "execute_result",
          "data": {
            "text/latex": "$\\displaystyle \\left[\\begin{matrix}40 x_{1} \\left(x_{1}^{2} - x_{2}\\right) + 2 x_{1} - 2\\\\- 20 x_{1}^{2} + 20 x_{2}\\end{matrix}\\right]$",
            "text/plain": [
              "⎡      ⎛  2     ⎞           ⎤\n",
              "⎢40⋅x₁⋅⎝x₁  - x₂⎠ + 2⋅x₁ - 2⎥\n",
              "⎢                           ⎥\n",
              "⎢            2              ⎥\n",
              "⎣     - 20⋅x₁  + 20⋅x₂      ⎦"
            ]
          },
          "metadata": {},
          "execution_count": 26
        }
      ]
    },
    {
      "cell_type": "code",
      "metadata": {
        "colab": {
          "base_uri": "https://localhost:8080/",
          "height": 58
        },
        "id": "f74QoWjbkV4s",
        "outputId": "141aae9b-c59c-41c3-ee67-632510714e3c"
      },
      "source": [
        "#ヘッセ行列\n",
        "H = sympy.Matrix([[d2fx1,d2fx1x2], [d2fx1x2, d2fx2]])\n",
        "H"
      ],
      "execution_count": 27,
      "outputs": [
        {
          "output_type": "display_data",
          "data": {
            "text/html": [
              "<script src='https://cdnjs.cloudflare.com/ajax/libs/mathjax/2.7.3/latest.js?config=default'></script>"
            ],
            "text/plain": [
              "<IPython.core.display.HTML object>"
            ]
          },
          "metadata": {}
        },
        {
          "output_type": "execute_result",
          "data": {
            "text/latex": "$\\displaystyle \\left[\\begin{matrix}2 \\left(60 x_{1}^{2} - 20 x_{2} + 1\\right) & - 40 x_{1}\\\\- 40 x_{1} & 20\\end{matrix}\\right]$",
            "text/plain": [
              "⎡  ⎛     2            ⎞        ⎤\n",
              "⎢2⋅⎝60⋅x₁  - 20⋅x₂ + 1⎠  -40⋅x₁⎥\n",
              "⎢                              ⎥\n",
              "⎣        -40⋅x₁            20  ⎦"
            ]
          },
          "metadata": {},
          "execution_count": 27
        }
      ]
    },
    {
      "cell_type": "code",
      "metadata": {
        "id": "-FnvNusWkfpy"
      },
      "source": [
        "#ヘッセ行列の値を返す関数 (複数の変数に代入するときは、辞書を使う)\n",
        "def getHesse(val):\n",
        "  return H.subs({x1:val[0], x2: val[1]})"
      ],
      "execution_count": 28,
      "outputs": []
    },
    {
      "cell_type": "code",
      "metadata": {
        "colab": {
          "base_uri": "https://localhost:8080/",
          "height": 71
        },
        "id": "_Uq7d6JBltLI",
        "outputId": "0d7a2a7d-b492-464a-b881-7684480c8481"
      },
      "source": [
        "#ヘッセ行列の逆行列\n",
        "H_inv = H.inv()\n",
        "H_inv"
      ],
      "execution_count": 29,
      "outputs": [
        {
          "output_type": "display_data",
          "data": {
            "text/html": [
              "<script src='https://cdnjs.cloudflare.com/ajax/libs/mathjax/2.7.3/latest.js?config=default'></script>"
            ],
            "text/plain": [
              "<IPython.core.display.HTML object>"
            ]
          },
          "metadata": {}
        },
        {
          "output_type": "execute_result",
          "data": {
            "text/latex": "$\\displaystyle \\left[\\begin{matrix}\\frac{1}{40 x_{1}^{2} - 40 x_{2} + 2} & \\frac{x_{1}}{20 x_{1}^{2} - 20 x_{2} + 1}\\\\\\frac{x_{1}}{20 x_{1}^{2} - 20 x_{2} + 1} & \\frac{60 x_{1}^{2} - 20 x_{2} + 1}{400 x_{1}^{2} - 400 x_{2} + 20}\\end{matrix}\\right]$",
            "text/plain": [
              "⎡        1                    x₁          ⎤\n",
              "⎢──────────────────   ──────────────────  ⎥\n",
              "⎢     2                    2              ⎥\n",
              "⎢40⋅x₁  - 40⋅x₂ + 2   20⋅x₁  - 20⋅x₂ + 1  ⎥\n",
              "⎢                                         ⎥\n",
              "⎢                           2             ⎥\n",
              "⎢        x₁            60⋅x₁  - 20⋅x₂ + 1 ⎥\n",
              "⎢──────────────────  ─────────────────────⎥\n",
              "⎢     2                    2              ⎥\n",
              "⎣20⋅x₁  - 20⋅x₂ + 1  400⋅x₁  - 400⋅x₂ + 20⎦"
            ]
          },
          "metadata": {},
          "execution_count": 29
        }
      ]
    },
    {
      "cell_type": "code",
      "metadata": {
        "id": "rsLtCF3hl012"
      },
      "source": [
        "#ヘッセ行列の逆行列の値を返す\n",
        "def getHinv(val):\n",
        "  return H_inv.subs({x1:val[0], x2: val[1]})"
      ],
      "execution_count": 30,
      "outputs": []
    },
    {
      "cell_type": "code",
      "metadata": {
        "id": "V0pK1hh0l59e"
      },
      "source": [
        "#Δfの値を返す関数\n",
        "def getDf(val):\n",
        "  return [dfx1.subs({x1:val[0], x2:val[1]}), dfx2.subs({x1:val[0],x2:val[1]})]"
      ],
      "execution_count": 31,
      "outputs": []
    },
    {
      "cell_type": "code",
      "metadata": {
        "id": "uf_nCZM_l-0Y"
      },
      "source": [
        "#ヘッセ行列の逆行列とΔfの積を返す関数\n",
        "def getHinvDeltaf(val):\n",
        "  return np.dot(np.array(getHinv(val).tolist(), dtype=float), np.array(getDf(val), dtype=float))"
      ],
      "execution_count": 32,
      "outputs": []
    },
    {
      "cell_type": "code",
      "metadata": {
        "colab": {
          "base_uri": "https://localhost:8080/"
        },
        "id": "pe7mbO5nmCwx",
        "outputId": "48ca60a9-66b6-4b51-9830-6a6358113991"
      },
      "source": [
        "#ニュートン法で収束まで繰り返し\n",
        "x = np.array([0, 0], dtype=float)\n",
        "for i in range(10):\n",
        "  x -= getHinvDeltaf(x)\n",
        "  print('{0}回目のx = {1}'.format(i, x)) \n",
        "#この場合は1回で収束"
      ],
      "execution_count": 33,
      "outputs": [
        {
          "output_type": "stream",
          "name": "stdout",
          "text": [
            "0回目のx = [1. 0.]\n",
            "1回目のx = [1. 1.]\n",
            "2回目のx = [1. 1.]\n",
            "3回目のx = [1. 1.]\n",
            "4回目のx = [1. 1.]\n",
            "5回目のx = [1. 1.]\n",
            "6回目のx = [1. 1.]\n",
            "7回目のx = [1. 1.]\n",
            "8回目のx = [1. 1.]\n",
            "9回目のx = [1. 1.]\n"
          ]
        }
      ]
    },
    {
      "cell_type": "markdown",
      "metadata": {
        "id": "cu4MGotkrQi6"
      },
      "source": [
        "## 準ニュートン法\n",
        "準ニュートン法は、ヘッセ行列を計算することなく、ニュートン法のような速い収束性を持たせようと考案された方法\n",
        "\n",
        "### 準ニュートン法アルゴリズム\n",
        "\n",
        "\n",
        "1.   初期設定：初期点$x_0$、正定値対称な初期行列$B_0$を与える。$k=0$とおく\n",
        "2.   停止条件が満たされていれば、$x_k$を近似解として停止する。さもなければ、3へいく\n",
        "1.   連立1次方程式 $B_k d = -\\nabla f(x_k)$ を解いて探索方法$d_k$を求める\n",
        "2.   $d_k$方向でのステップ幅$\\alpha_k$を求める(直線探索)\n",
        "1.   $x_{k+1} = x_k +\\alpha_k d_k$とおく\n",
        "2.   $B_k$を更新して$B_{k+1}$を生成する。2へ戻る\n",
        "\n",
        "八巻、非線形計画法、朝倉書店 P31\n"
      ]
    },
    {
      "cell_type": "markdown",
      "metadata": {
        "id": "jLqX9NIBuirG"
      },
      "source": [
        "### 例1.8 準ニュートン法 (BFGS)\n",
        "$f(x_1, x_2) = \\frac{1}{2}(x_1 - x_2^2)^2 + \\frac{1}{4}(x_2 -2)^4$  \n",
        "最適解は$(x_1, x_2) = (4, 2)$のとき\n",
        "\n",
        "八巻、非線形計画法、朝倉書店 P32 例2.1\n"
      ]
    },
    {
      "cell_type": "code",
      "metadata": {
        "colab": {
          "base_uri": "https://localhost:8080/",
          "height": 42
        },
        "id": "EOirpZGOlP6r",
        "outputId": "8285236d-4d37-4d61-e07b-6fc4f62bd5e1"
      },
      "source": [
        "sympy.var('x1')\n",
        "sympy.var('x2')\n",
        "f = 1 / 2 * (x1 - x2**2)**2 + 1 / 4 * (x2 - 2)**4 \n",
        "f "
      ],
      "execution_count": 34,
      "outputs": [
        {
          "output_type": "display_data",
          "data": {
            "text/html": [
              "<script src='https://cdnjs.cloudflare.com/ajax/libs/mathjax/2.7.3/latest.js?config=default'></script>"
            ],
            "text/plain": [
              "<IPython.core.display.HTML object>"
            ]
          },
          "metadata": {}
        },
        {
          "output_type": "execute_result",
          "data": {
            "text/latex": "$\\displaystyle 0.5 \\left(x_{1} - x_{2}^{2}\\right)^{2} + 0.25 \\left(x_{2} - 2\\right)^{4}$",
            "text/plain": [
              "              2                 \n",
              "    ⎛       2⎞                 4\n",
              "0.5⋅⎝x₁ - x₂ ⎠  + 0.25⋅(x₂ - 2) "
            ]
          },
          "metadata": {},
          "execution_count": 34
        }
      ]
    },
    {
      "cell_type": "code",
      "metadata": {
        "id": "xDTEAC6CvdDZ"
      },
      "source": [
        "#微分\n",
        "dfx1 = sympy.diff(f, x1, 1)\n",
        "dfx2 = sympy.diff(f, x2, 1)"
      ],
      "execution_count": 35,
      "outputs": []
    },
    {
      "cell_type": "code",
      "metadata": {
        "colab": {
          "base_uri": "https://localhost:8080/",
          "height": 60
        },
        "id": "qWQ22JaLvkCv",
        "outputId": "9bbd6a62-b9ab-4674-d233-f919a073aeec"
      },
      "source": [
        "#Δf\n",
        "deltaf = sympy.Matrix([dfx1, dfx2])\n",
        "deltaf"
      ],
      "execution_count": 36,
      "outputs": [
        {
          "output_type": "display_data",
          "data": {
            "text/html": [
              "<script src='https://cdnjs.cloudflare.com/ajax/libs/mathjax/2.7.3/latest.js?config=default'></script>"
            ],
            "text/plain": [
              "<IPython.core.display.HTML object>"
            ]
          },
          "metadata": {}
        },
        {
          "output_type": "execute_result",
          "data": {
            "text/latex": "$\\displaystyle \\left[\\begin{matrix}1.0 x_{1} - 1.0 x_{2}^{2}\\\\- 2.0 x_{2} \\left(x_{1} - x_{2}^{2}\\right) + 1.0 \\left(x_{2} - 2\\right)^{3}\\end{matrix}\\right]$",
            "text/plain": [
              "⎡                      2            ⎤\n",
              "⎢           1.0⋅x₁ - x₂             ⎥\n",
              "⎢                                   ⎥\n",
              "⎢         ⎛       2⎞               3⎥\n",
              "⎣- 2.0⋅x₂⋅⎝x₁ - x₂ ⎠ + 1.0⋅(x₂ - 2) ⎦"
            ]
          },
          "metadata": {},
          "execution_count": 36
        }
      ]
    },
    {
      "cell_type": "code",
      "metadata": {
        "id": "FJIJTFp0vrtM"
      },
      "source": [
        "#Δfの値を返す関数\n",
        "def getDf(val):\n",
        "  return [dfx1.subs({x1:val[0], x2:val[1]}), dfx2.subs({x1:val[0],x2:val[1]})]"
      ],
      "execution_count": 37,
      "outputs": []
    },
    {
      "cell_type": "code",
      "metadata": {
        "id": "S0GpCeOUw29C"
      },
      "source": [
        "#Bの逆行列と∇fとの行列計算\n",
        "def getBf(B, val):\n",
        "  return np.dot(np.linalg.inv(B), np.array(getDf(val), dtype=float))"
      ],
      "execution_count": 38,
      "outputs": []
    },
    {
      "cell_type": "code",
      "metadata": {
        "id": "4dYFludazYqt"
      },
      "source": [
        "# Bの更新\n",
        "def getB(B, s, y):\n",
        "  bs = np.dot(B, s) #第2項 分子 第１要素\n",
        "  bsbs = np.dot(bs.reshape(len(bs), 1), bs.reshape(1,len(bs))) #第2項分子：2行1列と1行2列の計算\n",
        "  sbs = np.dot(s, bs) #第2項 分母 (積の順序に注意: 右側から)\n",
        "  yy = np.dot(y.reshape(len(y), 1), y.reshape(1,len(y))) # 第3項 分子 2行1列と1行2列の計算\n",
        "  sy = np.dot(s.T, y) #第3項 分母\n",
        "  return B - bsbs / sbs + yy / sy"
      ],
      "execution_count": 39,
      "outputs": []
    },
    {
      "cell_type": "code",
      "metadata": {
        "colab": {
          "base_uri": "https://localhost:8080/"
        },
        "id": "1DOQpOId8WXN",
        "outputId": "99d7f4ed-8161-46ce-c1a8-cdfb6a23ea34"
      },
      "source": [
        "#1. 初期値の設定\n",
        "B = np.array([[1, -2], [-2, 12]])\n",
        "x = [0,0]\n",
        "\n",
        "for i in range(30):\n",
        "  s = x.copy() #更新前のx\n",
        "  y = np.array(getDf(x), dtype=float) #更新前の∇f\n",
        "  x -= + getBf(B, x) #xの更新 3.探索方向を求めて、5. xを更新\n",
        "  \n",
        "  s = np.array(x, dtype=float) - np.array(s, dtype=float) #x_k+1 - x_k\n",
        "  y = np.array(getDf(x), dtype=float) - y #∇f(x_k+1) - ∇f(x_k)\n",
        "  B = getB(B, s, y)\n",
        "  print('{0}回目 : x = {1}'.format(i, x))\n",
        "  print('{0}回目 : s = {1}'.format(i, s))\n",
        "  print('{0}回目 : y = {1}'.format(i, y))\n",
        "  print('{0}回目 : B = {1}'.format(i, B))\n"
      ],
      "execution_count": 40,
      "outputs": [
        {
          "output_type": "stream",
          "name": "stdout",
          "text": [
            "0回目 : x = [2. 1.]\n",
            "0回目 : s = [2. 1.]\n",
            "0回目 : y = [1. 5.]\n",
            "0回目 : B = [[ 1.14285714 -1.28571429]\n",
            " [-1.28571429  7.57142857]]\n",
            "1回目 : x = [1.46938776 1.30612245]\n",
            "1回目 : s = [-0.53061224  0.30612245]\n",
            "1回目 : y = [-1.2365681   3.28389532]\n",
            "1回目 : B = [[ 1.37307827 -1.65945344]\n",
            " [-1.65945344  7.85100539]]\n",
            "2回目 : x = [1.64209416 1.30646673]\n",
            "2回目 : s = [0.1727064  0.00034428]\n",
            "2回目 : y = [ 0.17180695 -0.44826021]\n",
            "2回目 : B = [[ 1.00001633 -2.62078273]\n",
            " [-2.62078273 12.68093241]]\n",
            "3回目 : x = [1.8574863  1.36394364]\n",
            "3回目 : s = [0.21539214 0.05747692]\n",
            "3回目 : y = [ 0.06190519 -0.08517222]\n",
            "3回目 : B = [[ 1.2748979  -3.70057779]\n",
            " [-3.70057779 12.38589673]]\n",
            "4回目 : x = [2.31482725 1.52073188]\n",
            "4回目 : s = [0.45734096 0.15678824]\n",
            "4回目 : y = [0.00505777 0.13275349]\n",
            "4回目 : B = [[ 1.27580226 -3.68917253]\n",
            " [-3.68917253 11.60777897]]\n",
            "5回目 : x = [2.65277292 1.63819823]\n",
            "5回目 : s = [0.33794566 0.11746635]\n",
            "5回目 : y = [-0.03312234  0.1707315 ]\n",
            "5回目 : B = [[ 1.39923045 -4.307499  ]\n",
            " [-4.307499   13.84594009]]\n",
            "6回目 : x = [2.89174274 1.70864591]\n",
            "6回目 : s = [0.23896982 0.07044768]\n",
            "6回目 : y = [0.00319241 0.01607497]\n",
            "6回目 : B = [[ 1.13818418 -3.81558701]\n",
            " [-3.81558701 13.17126542]]\n",
            "7回目 : x = [3.11835222 1.76897614]\n",
            "7回目 : s = [0.22660949 0.06033022]\n",
            "7回目 : y = [ 0.01680378 -0.04370325]\n",
            "7回目 : B = [[ 1.00584626 -3.49958148]\n",
            " [-3.49958148 12.42055952]]\n",
            "8回目 : x = [3.29542822 1.81674953]\n",
            "8回目 : s = [0.177076   0.04777339]\n",
            "8回目 : y = [ 0.00577371 -0.01375847]\n",
            "8回目 : B = [[ 0.92088947 -3.292496  ]\n",
            " [-3.292496   11.91591176]]\n",
            "9回目 : x = [3.44626348 1.8573728 ]\n",
            "9回目 : s = [0.15083525 0.04062327]\n",
            "9回目 : y = [ 0.00158038 -0.00219994]\n",
            "9回目 : B = [[ 0.83815075 -3.07317192]\n",
            " [-3.07317192 11.3566113 ]]\n",
            "10回目 : x = [3.56362454 1.88821911]\n",
            "10回目 : s = [0.11736106 0.03084631]\n",
            "10回目 : y = [ 0.00182338 -0.00516092]\n",
            "10回目 : B = [[ 0.77059166 -2.87276116]\n",
            " [-2.87276116 10.76269401]]\n",
            "11回目 : x = [3.65808223 1.91294843]\n",
            "11回目 : s = [0.09445769 0.02472932]\n",
            "11回目 : y = [ 0.0004574  -0.00092653]\n",
            "11回目 : B = [[ 0.69708272 -2.64412543]\n",
            " [-2.64412543 10.06220297]]\n",
            "12回目 : x = [3.73157073 1.93183486]\n",
            "12回目 : s = [0.0734885  0.01888643]\n",
            "12回目 : y = [ 0.00087428 -0.00298626]\n",
            "12回目 : B = [[ 0.6760826  -2.58439657]\n",
            " [-2.58439657  9.89796301]]\n",
            "13回目 : x = [3.79300081 1.94774442]\n",
            "13回目 : s = [0.06143009 0.01590956]\n",
            "13回目 : y = [-0.00029231  0.00132594]\n",
            "13回目 : B = [[ 0.66898495 -2.60146194]\n",
            " [-2.60146194 10.12812279]]\n",
            "14回目 : x = [3.83913016 1.95933495]\n",
            "14回目 : s = [0.04612935 0.01159053]\n",
            "14回目 : y = [ 0.00084422 -0.00321637]\n",
            "14回目 : B = [[ 0.88398047 -3.44533132]\n",
            " [-3.44533132 13.43463063]]\n",
            "15回目 : x = [3.88179661 1.97032171]\n",
            "15回目 : s = [0.04266645 0.01098676]\n",
            "15回目 : y = [-0.00050773  0.00203889]\n",
            "15回目 : B = [[ 1.20983421 -4.74453599]\n",
            " [-4.74453599 18.61071507]]\n",
            "16回目 : x = [3.89932958 1.97471433]\n",
            "16回目 : s = [0.01753296 0.00439262]\n",
            "16回目 : y = [ 0.00020391 -0.00079209]\n",
            "16回目 : B = [[ 0.94746096 -3.73532872]\n",
            " [-3.73532872 14.72908039]]\n",
            "17回目 : x = [3.92149983 1.98029305]\n",
            "17回目 : s = [0.02217025 0.00557871]\n",
            "17回目 : y = [ 0.00010639 -0.000411  ]\n",
            "17回目 : B = [[ 0.87244996 -3.44811351]\n",
            " [-3.44811351 13.62940111]]\n",
            "18回目 : x = [3.93817459 1.98449453]\n",
            "18回目 : s = [0.01667477 0.00420148]\n",
            "18回目 : y = [ 1.67922965e-05 -6.22125568e-05]\n",
            "18回目 : B = [[ 0.77993345 -3.0913909 ]\n",
            " [-3.0913909  12.25425647]]\n",
            "19回目 : x = [3.95161712 1.98787176]\n",
            "19回目 : s = [0.01344252 0.00337723]\n",
            "19回目 : y = [ 2.69197285e-05 -1.04785395e-04]\n",
            "19回目 : B = [[ 0.7354963  -2.91955237]\n",
            " [-2.91955237 11.589776  ]]\n",
            "20回目 : x = [3.96249324 1.99060585]\n",
            "20回目 : s = [0.01087612 0.0027341 ]\n",
            "20回目 : y = [-1.42084377e-06  6.70464892e-06]\n",
            "20回目 : B = [[ 0.67811266 -2.69802333]\n",
            " [-2.69802333 10.73507554]]\n",
            "21回目 : x = [3.97062284 1.99264229]\n",
            "21回目 : s = [0.0081296  0.00203644]\n",
            "21回目 : y = [ 1.79652706e-05 -7.10909373e-05]\n",
            "21回目 : B = [[ 0.76854734 -3.05927291]\n",
            " [-3.05927291 12.17792232]]\n",
            "22回目 : x = [3.97824254 1.99455635]\n",
            "22回目 : s = [0.0076197  0.00191406]\n",
            "22回目 : y = [-1.20425334e-05  4.82778033e-05]\n",
            "22回目 : B = [[ 0.99269294 -3.95810993]\n",
            " [-3.95810993 15.78209035]]\n",
            "23回目 : x = [3.98228478 1.99556699]\n",
            "23回目 : s = [0.00404225 0.00101064]\n",
            "23回目 : y = [ 9.68994494e-06 -3.85743912e-05]\n",
            "23回目 : B = [[ 0.97483389 -3.88946616]\n",
            " [-3.88946616 15.51857336]]\n",
            "24回目 : x = [3.9861484  1.99653462]\n",
            "24回目 : s = [0.00386362 0.00096763]\n",
            "24回目 : y = [ 7.35915417e-07 -2.88760922e-06]\n",
            "24回目 : B = [[ 0.89669926 -3.57963601]\n",
            " [-3.57963601 14.29000888]]\n",
            "25回目 : x = [3.98918545 1.99729482]\n",
            "25回目 : s = [0.00303705 0.0007602 ]\n",
            "25回目 : y = [ 9.40653861e-07 -3.73254341e-06]\n",
            "25回目 : B = [[ 0.81800911 -3.26676366]\n",
            " [-3.26676366 13.04602913]]\n",
            "26回目 : x = [3.9915408  1.99788426]\n",
            "26回目 : s = [0.00235535 0.00058944]\n",
            "26回目 : y = [ 4.36279858e-07 -1.73160329e-06]\n",
            "26回目 : B = [[ 0.74200795 -2.9642637 ]\n",
            " [-2.9642637  11.84202062]]\n",
            "27回目 : x = [3.993391   1.99834716]\n",
            "27回目 : s = [0.0018502 0.0004629]\n",
            "27回目 : y = [ 3.42638228e-07 -1.36381295e-06]\n",
            "27回目 : B = [[ 0.6826908  -2.72795553]\n",
            " [-2.72795553 10.90061458]]\n",
            "28回目 : x = [3.99485708 1.99871392]\n",
            "28回目 : s = [0.00146608 0.00036677]\n",
            "28回目 : y = [ 9.89719986e-08 -3.92980070e-07]\n",
            "28回目 : B = [[ 0.61773056 -2.46900364]\n",
            " [-2.46900364  9.86835314]]\n",
            "29回目 : x = [3.99597762 1.99899417]\n",
            "29回目 : s = [0.00112054 0.00028025]\n",
            "29回目 : y = [ 1.96782359e-07 -7.85476891e-07]\n",
            "29回目 : B = [[ 0.6177956  -2.46949811]\n",
            " [-2.46949811  9.87126379]]\n"
          ]
        }
      ]
    },
    {
      "cell_type": "markdown",
      "metadata": {
        "id": "XMbnmApFNxZS"
      },
      "source": [
        "### 例1.9 scipy.optimize.minimize の利用 : Broyden-Fletcher-Goldfarb-Shanno algorithm (method='BFGS')\n",
        "https://docs.scipy.org/doc/scipy/reference/tutorial/optimize.html#broyden-fletcher-goldfarb-shanno-algorithm-method-bfgs  \n",
        "\n",
        "$f(x_1, x_2) = \\frac{1}{2}(x_1 - x_2^2)^2 + \\frac{1}{4}(x_2 -2)^4$  \n",
        "最適解は$(x_1, x_2) = (4, 2)$のとき\n",
        "\n",
        "八巻、非線形計画法、朝倉書店 P32 例2.1"
      ]
    },
    {
      "cell_type": "code",
      "metadata": {
        "colab": {
          "base_uri": "https://localhost:8080/",
          "height": 42
        },
        "id": "-Kla7R9XJ_Xz",
        "outputId": "6e715982-663f-4946-f42b-70fc83dc0994"
      },
      "source": [
        "sympy.var('x1')\n",
        "sympy.var('x2')\n",
        "f = 1 / 2 * (x1 - x2**2)**2 + 1 / 4 * (x2 - 2)**4 \n",
        "f \n"
      ],
      "execution_count": 41,
      "outputs": [
        {
          "output_type": "display_data",
          "data": {
            "text/html": [
              "<script src='https://cdnjs.cloudflare.com/ajax/libs/mathjax/2.7.3/latest.js?config=default'></script>"
            ],
            "text/plain": [
              "<IPython.core.display.HTML object>"
            ]
          },
          "metadata": {}
        },
        {
          "output_type": "execute_result",
          "data": {
            "text/latex": "$\\displaystyle 0.5 \\left(x_{1} - x_{2}^{2}\\right)^{2} + 0.25 \\left(x_{2} - 2\\right)^{4}$",
            "text/plain": [
              "              2                 \n",
              "    ⎛       2⎞                 4\n",
              "0.5⋅⎝x₁ - x₂ ⎠  + 0.25⋅(x₂ - 2) "
            ]
          },
          "metadata": {},
          "execution_count": 41
        }
      ]
    },
    {
      "cell_type": "code",
      "metadata": {
        "id": "bh5i_dstPWWo"
      },
      "source": [
        "#目的関数\n",
        "def f1_9(x):\n",
        "  return 1 / 2 * (x[0] - x[1]**2)**2 + 1 / 4 * (x[1] - 2)**4 "
      ],
      "execution_count": 42,
      "outputs": []
    },
    {
      "cell_type": "code",
      "metadata": {
        "id": "mCaGwwr7OkeV"
      },
      "source": [
        "#微分\n",
        "dfx1 = sympy.diff(f, x1, 1)\n",
        "dfx2 = sympy.diff(f, x2, 1)"
      ],
      "execution_count": 43,
      "outputs": []
    },
    {
      "cell_type": "code",
      "metadata": {
        "id": "sup4j8qmOw6B"
      },
      "source": [
        "#Δfの値を返す関数\n",
        "def getDf(x):\n",
        "  return np.array([dfx1.subs({x1:x[0], x2:x[1]}), dfx2.subs({x1:x[0],x2:x[1]})], dtype=float)"
      ],
      "execution_count": 44,
      "outputs": []
    },
    {
      "cell_type": "code",
      "metadata": {
        "colab": {
          "base_uri": "https://localhost:8080/"
        },
        "id": "DdPLNZpGPLyr",
        "outputId": "1e4a5350-d705-4536-deea-906236c2271f"
      },
      "source": [
        "res = minimize(f1_9, [0,0], method='BFGS', jac=getDf, options={'disp': True})\n",
        "res.x"
      ],
      "execution_count": 45,
      "outputs": [
        {
          "output_type": "stream",
          "name": "stdout",
          "text": [
            "Optimization terminated successfully.\n",
            "         Current function value: 0.000000\n",
            "         Iterations: 24\n",
            "         Function evaluations: 25\n",
            "         Gradient evaluations: 25\n"
          ]
        },
        {
          "output_type": "execute_result",
          "data": {
            "text/plain": [
              "array([3.98110703, 1.9952718 ])"
            ]
          },
          "metadata": {},
          "execution_count": 45
        }
      ]
    },
    {
      "cell_type": "markdown",
      "metadata": {
        "id": "Q74-7xA-kX1C"
      },
      "source": [
        "### 例1.10 scipy.optimize.minimizeの利用 Newton-Conjugate-Gradient algorithm (method='Newton-CG')  \n",
        "https://docs.scipy.org/doc/scipy/reference/tutorial/optimize.html#newton-conjugate-gradient-algorithm-method-newton-cg\n",
        "\n",
        "$f(x_1, x_2) = \\frac{1}{2}(x_1 - x_2^2)^2 + \\frac{1}{4}(x_2 -2)^4$  \n",
        "最適解は$(x_1, x_2) = (4, 2)$のとき\n",
        "\n",
        "八巻、非線形計画法、朝倉書店 P32 例2.1"
      ]
    },
    {
      "cell_type": "code",
      "metadata": {
        "colab": {
          "base_uri": "https://localhost:8080/",
          "height": 42
        },
        "id": "2DHL4cHjlBr_",
        "outputId": "906c321b-7c5e-443c-ccf8-2cb2efa5eb7f"
      },
      "source": [
        "sympy.var('x1')\n",
        "sympy.var('x2')\n",
        "f = 1 / 2 * (x1 - x2**2)**2 + 1 / 4 * (x2 - 2)**4 \n",
        "f "
      ],
      "execution_count": 46,
      "outputs": [
        {
          "output_type": "display_data",
          "data": {
            "text/html": [
              "<script src='https://cdnjs.cloudflare.com/ajax/libs/mathjax/2.7.3/latest.js?config=default'></script>"
            ],
            "text/plain": [
              "<IPython.core.display.HTML object>"
            ]
          },
          "metadata": {}
        },
        {
          "output_type": "execute_result",
          "data": {
            "text/latex": "$\\displaystyle 0.5 \\left(x_{1} - x_{2}^{2}\\right)^{2} + 0.25 \\left(x_{2} - 2\\right)^{4}$",
            "text/plain": [
              "              2                 \n",
              "    ⎛       2⎞                 4\n",
              "0.5⋅⎝x₁ - x₂ ⎠  + 0.25⋅(x₂ - 2) "
            ]
          },
          "metadata": {},
          "execution_count": 46
        }
      ]
    },
    {
      "cell_type": "code",
      "metadata": {
        "id": "jtccpZboQchN"
      },
      "source": [
        "#目的関数\n",
        "def f1_9(x):\n",
        "  return 1 / 2 * (x[0] - x[1]**2)**2 + 1 / 4 * (x[1] - 2)**4 "
      ],
      "execution_count": 47,
      "outputs": []
    },
    {
      "cell_type": "code",
      "metadata": {
        "id": "pySg984Eme1g"
      },
      "source": [
        "#微分\n",
        "dfx1 = sympy.diff(f, x1, 1)\n",
        "dfx2 = sympy.diff(f, x2, 1)\n",
        "d2fx1 = sympy.diff(f, x1, 2)\n",
        "d2fx1x2 = sympy.diff(f, x1, x2, 1)\n",
        "d2fx2 = sympy.diff(f, x2, 2)"
      ],
      "execution_count": 48,
      "outputs": []
    },
    {
      "cell_type": "code",
      "metadata": {
        "id": "vWPq_jOSsZMU"
      },
      "source": [
        "#Δfの値を返す関数\n",
        "def getDf(x):\n",
        "  return np.array([dfx1.subs({x1:x[0], x2:x[1]}), dfx2.subs({x1:x[0],x2:x[1]})], dtype=float)"
      ],
      "execution_count": 49,
      "outputs": []
    },
    {
      "cell_type": "code",
      "metadata": {
        "colab": {
          "base_uri": "https://localhost:8080/",
          "height": 60
        },
        "id": "e3abHzaFrvSw",
        "outputId": "6d31ca53-2eef-41a2-ac99-4777d0f22925"
      },
      "source": [
        "#ヘッセ行列\n",
        "H = sympy.Matrix([[d2fx1,d2fx1x2], [d2fx1x2, d2fx2]])\n",
        "H"
      ],
      "execution_count": 50,
      "outputs": [
        {
          "output_type": "display_data",
          "data": {
            "text/html": [
              "<script src='https://cdnjs.cloudflare.com/ajax/libs/mathjax/2.7.3/latest.js?config=default'></script>"
            ],
            "text/plain": [
              "<IPython.core.display.HTML object>"
            ]
          },
          "metadata": {}
        },
        {
          "output_type": "execute_result",
          "data": {
            "text/latex": "$\\displaystyle \\left[\\begin{matrix}1.0 & - 2.0 x_{2}\\\\- 2.0 x_{2} & - 2.0 x_{1} + 6.0 x_{2}^{2} + 3.0 \\left(x_{2} - 2\\right)^{2}\\end{matrix}\\right]$",
            "text/plain": [
              "⎡  1.0                 -2.0⋅x₂             ⎤\n",
              "⎢                                          ⎥\n",
              "⎢                         2               2⎥\n",
              "⎣-2.0⋅x₂  -2.0⋅x₁ + 6.0⋅x₂  + 3.0⋅(x₂ - 2) ⎦"
            ]
          },
          "metadata": {},
          "execution_count": 50
        }
      ]
    },
    {
      "cell_type": "code",
      "metadata": {
        "id": "jYyjgaX5r1ff"
      },
      "source": [
        "#ヘッセ行列の値を返す関数 (複数の変数に代入するときは、辞書を使う)\n",
        "def getHesse(x):\n",
        "  return np.array(H.subs({x1:x[0], x2: x[1]}), dtype=float)"
      ],
      "execution_count": 51,
      "outputs": []
    },
    {
      "cell_type": "code",
      "metadata": {
        "colab": {
          "base_uri": "https://localhost:8080/"
        },
        "id": "W9g2zaxDsES1",
        "outputId": "379966e0-0082-4850-d2d4-6f1524324513"
      },
      "source": [
        "res = minimize(f1_9, [0,0], method='Newton-CG',\n",
        "               jac=getDf, hess=getHesse,\n",
        "               options={'xtol': 1e-8, 'disp': True})\n",
        "res.x"
      ],
      "execution_count": 52,
      "outputs": [
        {
          "output_type": "stream",
          "name": "stdout",
          "text": [
            "Optimization terminated successfully.\n",
            "         Current function value: 0.000000\n",
            "         Iterations: 28\n",
            "         Function evaluations: 32\n",
            "         Gradient evaluations: 59\n",
            "         Hessian evaluations: 28\n"
          ]
        },
        {
          "output_type": "execute_result",
          "data": {
            "text/plain": [
              "array([3.9394992 , 1.98481738])"
            ]
          },
          "metadata": {},
          "execution_count": 52
        }
      ]
    },
    {
      "cell_type": "markdown",
      "metadata": {
        "id": "5SqyT1-SthII"
      },
      "source": [
        "### 例1.11 scipy.optimize.minimizeの利用 Trust-Region Newton-Conjugate-Gradient Algorithm (method='trust-ncg')  \n",
        "https://docs.scipy.org/doc/scipy/reference/tutorial/optimize.html#trust-region-newton-conjugate-gradient-algorithm-method-trust-ncg\n",
        "\n",
        "$f(x_1, x_2) = \\frac{1}{2}(x_1 - x_2^2)^2 + \\frac{1}{4}(x_2 -2)^4$  \n",
        "最適解は$(x_1, x_2) = (4, 2)$のとき\n",
        "\n",
        "八巻、非線形計画法、朝倉書店 P32 例2.1"
      ]
    },
    {
      "cell_type": "code",
      "metadata": {
        "colab": {
          "base_uri": "https://localhost:8080/"
        },
        "id": "rjfJX41AsH3B",
        "outputId": "33d1c5d5-5a6b-4bf2-c02a-ae48d8e8d1ef"
      },
      "source": [
        "res = minimize(f1_9, [0,0], method='trust-ncg',\n",
        "               jac=getDf, hess=getHesse,\n",
        "               options={'gtol': 1e-8, 'disp': True})\n",
        "res.x"
      ],
      "execution_count": 53,
      "outputs": [
        {
          "output_type": "stream",
          "name": "stdout",
          "text": [
            "Optimization terminated successfully.\n",
            "         Current function value: 0.000000\n",
            "         Iterations: 31\n",
            "         Function evaluations: 32\n",
            "         Gradient evaluations: 32\n",
            "         Hessian evaluations: 31\n"
          ]
        },
        {
          "output_type": "execute_result",
          "data": {
            "text/plain": [
              "array([3.98939988, 1.99734821])"
            ]
          },
          "metadata": {},
          "execution_count": 53
        }
      ]
    },
    {
      "cell_type": "markdown",
      "metadata": {
        "id": "wsAz7Y46uKsD"
      },
      "source": [
        "### 例1.12 scipy.optimize.minimizeの利用 Trust-Region Truncated Generalized Lanczos / Conjugate Gradient Algorithm (method='trust-krylov')  \n",
        "https://docs.scipy.org/doc/scipy/reference/tutorial/optimize.html#trust-region-truncated-generalized-lanczos-conjugate-gradient-algorithm-method-trust-krylov\n",
        "\n",
        "$f(x_1, x_2) = \\frac{1}{2}(x_1 - x_2^2)^2 + \\frac{1}{4}(x_2 -2)^4$  \n",
        "最適解は$(x_1, x_2) = (4, 2)$のとき\n",
        "\n",
        "八巻、非線形計画法、朝倉書店 P32 例2.1"
      ]
    },
    {
      "cell_type": "code",
      "metadata": {
        "colab": {
          "base_uri": "https://localhost:8080/"
        },
        "id": "mjN30cyDuAP2",
        "outputId": "79ff5d14-0e25-48df-8274-cbaca9769cd2"
      },
      "source": [
        "res = minimize(f1_9, [0,0], method='trust-krylov',\n",
        "               jac=getDf, hess=getHesse,\n",
        "               options={'gtol': 1e-8, 'disp': True})\n",
        "res.x"
      ],
      "execution_count": 54,
      "outputs": [
        {
          "output_type": "stream",
          "name": "stdout",
          "text": [
            " iter inewton type    objective     âgââ_Mâ»Â¹      leftmost         Î»             Î³             Î´             Î±             Î²       \n",
            "     0     0  cg_i -2.412102e-01  7.433205e-01  0.000000e+00  0.000000e+00  1.832491e+00  6.960784e+00  1.436620e-01  1.645388e-01\n",
            "\n",
            " iter inewton type    objective     âgââ_Mâ»Â¹      leftmost         Î»             Î³             Î´             Î±             Î²       \n",
            "     0     0  cg_i -1.419805e-01  1.186689e+00  0.000000e+00  0.000000e+00  8.108135e-01  2.315172e+00  4.319334e-01  2.142060e+00\n",
            "\n",
            " TR Solving trust region problem, radius 1.000000e+00; starting on first irreducible block\n",
            " TR Coldstart. Seeking suitable initial Î»â, starting with 0\n",
            " TR Starting Newton iteration for Î»â with initial choice 0.000000e+00\n",
            " TR  iter        Î»            dÎ»       âhâ(Î»)â-radius\n",
            " TR      1  1.522945e-01  1.522945e-01  8.574606e-05\n",
            " TR      2  1.523565e-01  6.194353e-05  1.577516e-11\n",
            " TR      3  1.523565e-01  1.139706e-11  0.000000e+00\n",
            "\n",
            " iter inewton type    objective     âgââ_Mâ»Â¹      leftmost         Î»             Î³             Î´             Î±             Î²       \n",
            "     0     0  cg_i -1.599414e-02  3.639222e-01  0.000000e+00  0.000000e+00  3.491436e-01  3.810811e+00  2.624113e-01  1.086448e+00\n",
            "\n",
            " iter inewton type    objective     âgââ_Mâ»Â¹      leftmost         Î»             Î³             Î´             Î±             Î²       \n",
            "     0     0  cg_i -1.869655e-03  1.579054e-01  0.000000e+00  0.000000e+00  9.912951e-02  2.627934e+00  3.805270e-01  2.537396e+00\n",
            "\n",
            " iter inewton type    objective     âgââ_Mâ»Â¹      leftmost         Î»             Î³             Î´             Î±             Î²       \n",
            "     0     0  cg_i -1.395127e-04  3.420067e-02  0.000000e+00  0.000000e+00  4.441496e-02  7.069924e+00  1.414442e-01  5.929397e-01\n",
            "\n",
            " iter inewton type    objective     âgââ_Mâ»Â¹      leftmost         Î»             Î³             Î´             Î±             Î²       \n",
            "     0     0  cg_i -4.635659e-05  9.133302e-03  0.000000e+00  0.000000e+00  3.307638e-02  1.180034e+01  8.474333e-02  7.624646e-02\n",
            "\n",
            " iter inewton type    objective     âgââ_Mâ»Â¹      leftmost         Î»             Î³             Î´             Î±             Î²       \n",
            "     0     0  cg_i -1.779679e-05  2.920877e-03  0.000000e+00  0.000000e+00  2.200144e-02  1.359974e+01  7.353082e-02  1.762480e-02\n",
            "\n",
            " iter inewton type    objective     âgââ_Mâ»Â¹      leftmost         Î»             Î³             Î´             Î±             Î²       \n",
            "     0     0  cg_i -5.561924e-06  9.688777e-04  0.000000e+00  0.000000e+00  1.275478e-02  1.462483e+01  6.837688e-02  5.770218e-03\n",
            "\n",
            " iter inewton type    objective     âgââ_Mâ»Â¹      leftmost         Î»             Î³             Î´             Î±             Î²       \n",
            "     0     0  cg_i -1.592682e-06  3.260347e-04  0.000000e+00  0.000000e+00  6.986307e-03  1.532273e+01  6.526251e-02  2.177872e-03\n",
            "\n",
            " iter inewton type    objective     âgââ_Mâ»Â¹      leftmost         Î»             Î³             Î´             Î±             Î²       \n",
            "     0     0  cg_i -4.293815e-07  1.107168e-04  0.000000e+00  0.000000e+00  3.685149e-03  1.581382e+01  6.323583e-02  9.026449e-04\n",
            "\n",
            " iter inewton type    objective     âgââ_Mâ»Â¹      leftmost         Î»             Î³             Î´             Î±             Î²       \n",
            "     0     0  cg_i -1.118602e-07  3.782422e-05  0.000000e+00  0.000000e+00  1.901516e-03  1.616198e+01  6.187361e-02  3.956761e-04\n",
            "\n",
            " iter inewton type    objective     âgââ_Mâ»Â¹      leftmost         Î»             Î³             Î´             Î±             Î²       \n",
            "     0     0  cg_i -2.849129e-08  1.297608e-05  0.000000e+00  0.000000e+00  9.669606e-04  1.640874e+01  6.094312e-02  1.800815e-04\n",
            "\n",
            " iter inewton type    objective     âgââ_Mâ»Â¹      leftmost         Î»             Î³             Î´             Î±             Î²       \n",
            "     0     0  cg_i -7.152142e-09  4.464566e-06  0.000000e+00  0.000000e+00  4.870450e-04  1.658334e+01  6.030148e-02  8.402730e-05\n",
            "\n",
            " iter inewton type    objective     âgââ_Mâ»Â¹      leftmost         Î»             Î³             Î´             Î±             Î²       \n",
            "     0     0  cg_i -1.777917e-09  1.539220e-06  0.000000e+00  0.000000e+00  2.437336e-04  1.670665e+01  5.985639e-02  3.988141e-05\n",
            "\n",
            " TR Solving trust region problem, radius 2.000000e+00; starting on first irreducible block\n",
            " TR Coldstart. Seeking suitable initial Î»â, starting with 0\n",
            "\n",
            " iter inewton type    objective     âgââ_Mâ»Â¹      leftmost         Î»             Î³             Î´             Î±             Î²       \n",
            "     0     0  cg_i -1.777917e-09  1.539220e-06  0.000000e+00  0.000000e+00  2.437336e-04  1.670665e+01  5.985639e-02  3.988141e-05\n",
            "\n",
            " TR Solving trust region problem, radius 2.000000e+00; starting on first irreducible block\n",
            " TR Coldstart. Seeking suitable initial Î»â, starting with 0\n",
            "\n",
            " iter inewton type    objective     âgââ_Mâ»Â¹      leftmost         Î»             Î³             Î´             Î±             Î²       \n",
            "     0     0  cg_i -1.777917e-09  1.539220e-06  0.000000e+00  0.000000e+00  2.437336e-04  1.670665e+01  5.985639e-02  3.988141e-05\n",
            "\n",
            " TR Solving trust region problem, radius 2.000000e+00; starting on first irreducible block\n",
            " TR Coldstart. Seeking suitable initial Î»â, starting with 0\n",
            "\n",
            "Warning: A bad approximation caused failure to predict improvement.\n",
            "         Current function value: 0.000000\n",
            "         Iterations: 16\n",
            "         Function evaluations: 18\n",
            "         Gradient evaluations: 18\n",
            "         Hessian evaluations: 17\n"
          ]
        },
        {
          "output_type": "execute_result",
          "data": {
            "text/plain": [
              "array([3.92650023, 1.98155528])"
            ]
          },
          "metadata": {},
          "execution_count": 54
        }
      ]
    },
    {
      "cell_type": "markdown",
      "metadata": {
        "id": "GTJpoO69u9ze"
      },
      "source": [
        "### 例1.13 scipy.optimize.minimizeの利用 Trust-Region Nearly Exact Algorithm (method='trust-exact')  \n",
        "https://docs.scipy.org/doc/scipy/reference/tutorial/optimize.html#trust-region-nearly-exact-algorithm-method-trust-exact\n",
        "\n",
        "$f(x_1, x_2) = \\frac{1}{2}(x_1 - x_2^2)^2 + \\frac{1}{4}(x_2 -2)^4$  \n",
        "最適解は$(x_1, x_2) = (4, 2)$のとき\n",
        "\n",
        "八巻、非線形計画法、朝倉書店 P32 例2.1"
      ]
    },
    {
      "cell_type": "code",
      "metadata": {
        "colab": {
          "base_uri": "https://localhost:8080/"
        },
        "id": "NQD_RuHRuxOy",
        "outputId": "d04cb2ce-cc02-4ea1-f4a6-8d01d4f51cc8"
      },
      "source": [
        "res = minimize(f1_9, [0,0], method='trust-exact',\n",
        "               jac=getDf, hess=getHesse,\n",
        "               options={'gtol': 1e-8, 'disp': True})\n",
        "res.x"
      ],
      "execution_count": 55,
      "outputs": [
        {
          "output_type": "stream",
          "name": "stdout",
          "text": [
            "Optimization terminated successfully.\n",
            "         Current function value: 0.000000\n",
            "         Iterations: 28\n",
            "         Function evaluations: 29\n",
            "         Gradient evaluations: 29\n",
            "         Hessian evaluations: 29\n"
          ]
        },
        {
          "output_type": "execute_result",
          "data": {
            "text/plain": [
              "array([3.99961177, 1.99990294])"
            ]
          },
          "metadata": {},
          "execution_count": 55
        }
      ]
    },
    {
      "cell_type": "markdown",
      "metadata": {
        "id": "k9obvjJhRJb0"
      },
      "source": [
        "### 例題1.14 ローゼンブロック関数 $f(x) = \\sum_{i = 1}^{N-1}(100(x_{i+1} - x_i^2)^2 + (1 - x_i)^2)$  の最小値を求める。理論値は$x = 1$となる。  \n",
        "GA : deapライブラリを用いて解く"
      ]
    },
    {
      "cell_type": "code",
      "metadata": {
        "id": "ctiTv2PivXOm",
        "colab": {
          "base_uri": "https://localhost:8080/"
        },
        "outputId": "3eb1cfc4-d6cd-41f3-9824-9cd870e48892"
      },
      "source": [
        "!pip install deap"
      ],
      "execution_count": 56,
      "outputs": [
        {
          "output_type": "stream",
          "name": "stdout",
          "text": [
            "Collecting deap\n",
            "  Downloading deap-1.3.1-cp37-cp37m-manylinux_2_5_x86_64.manylinux1_x86_64.manylinux_2_12_x86_64.manylinux2010_x86_64.whl (160 kB)\n",
            "\u001b[?25l\r\u001b[K     |██                              | 10 kB 24.0 MB/s eta 0:00:01\r\u001b[K     |████                            | 20 kB 28.1 MB/s eta 0:00:01\r\u001b[K     |██████                          | 30 kB 28.9 MB/s eta 0:00:01\r\u001b[K     |████████▏                       | 40 kB 20.4 MB/s eta 0:00:01\r\u001b[K     |██████████▏                     | 51 kB 9.5 MB/s eta 0:00:01\r\u001b[K     |████████████▏                   | 61 kB 10.4 MB/s eta 0:00:01\r\u001b[K     |██████████████▎                 | 71 kB 8.3 MB/s eta 0:00:01\r\u001b[K     |████████████████▎               | 81 kB 9.2 MB/s eta 0:00:01\r\u001b[K     |██████████████████▎             | 92 kB 8.0 MB/s eta 0:00:01\r\u001b[K     |████████████████████▍           | 102 kB 8.7 MB/s eta 0:00:01\r\u001b[K     |██████████████████████▍         | 112 kB 8.7 MB/s eta 0:00:01\r\u001b[K     |████████████████████████▍       | 122 kB 8.7 MB/s eta 0:00:01\r\u001b[K     |██████████████████████████▌     | 133 kB 8.7 MB/s eta 0:00:01\r\u001b[K     |████████████████████████████▌   | 143 kB 8.7 MB/s eta 0:00:01\r\u001b[K     |██████████████████████████████▌ | 153 kB 8.7 MB/s eta 0:00:01\r\u001b[K     |████████████████████████████████| 160 kB 8.7 MB/s \n",
            "\u001b[?25hRequirement already satisfied: numpy in /usr/local/lib/python3.7/dist-packages (from deap) (1.19.5)\n",
            "Installing collected packages: deap\n",
            "Successfully installed deap-1.3.1\n"
          ]
        }
      ]
    },
    {
      "cell_type": "code",
      "metadata": {
        "id": "t5ToRtBvRpNf"
      },
      "source": [
        "import random\n",
        "from deap import base\n",
        "from deap import creator\n",
        "from deap import tools\n",
        "from deap import algorithms"
      ],
      "execution_count": 57,
      "outputs": []
    },
    {
      "cell_type": "code",
      "metadata": {
        "id": "DhPxHIF3Sldk"
      },
      "source": [
        "creator.create(\"FitnessMin\", base.Fitness, weights=(-1.0,)) #最小化\n",
        "creator.create(\"Individual\", list, fitness=creator.FitnessMin)"
      ],
      "execution_count": 58,
      "outputs": []
    },
    {
      "cell_type": "code",
      "metadata": {
        "id": "owz3pj23Sw_K"
      },
      "source": [
        "def rosenbrock(x):\n",
        "    value = 0\n",
        "    for i in range(len(x)-1):\n",
        "        value += 100 * (x[i+1] - x[i])**2 + (1 - x[i])**2.0\n",
        "    return value, #,が必要"
      ],
      "execution_count": 59,
      "outputs": []
    },
    {
      "cell_type": "code",
      "metadata": {
        "id": "sXTk-t1DTAWt"
      },
      "source": [
        "toolbox = base.Toolbox()\n",
        "toolbox.register(\"attribute\", random.uniform, -2,2) #xは a<=x<=b\n",
        "toolbox.register(\"individual\", tools.initRepeat, creator.Individual, toolbox.attribute, 2) #2変数がせいぜい\n",
        "toolbox.register(\"population\", tools.initRepeat, list, toolbox.individual)\n",
        "toolbox.register(\"select\", tools.selTournament, tournsize=10)\n",
        "toolbox.register(\"mate\", tools.cxBlend,alpha=0.3) #ブレンド交叉\n",
        "toolbox.register(\"mutate\", tools.mutGaussian, mu=[0.0, 0.0], sigma=[10.0,10.0], indpb=0.2)\n",
        "toolbox.register(\"evaluate\", rosenbrock)"
      ],
      "execution_count": 63,
      "outputs": []
    },
    {
      "cell_type": "code",
      "metadata": {
        "id": "Sf5vUrqGTvf3"
      },
      "source": [
        "random.seed(64)\n",
        "NGEN = 500 #繰り返し世代数\n",
        "POP = 100 #個体の数\n",
        "CXPB = 0.9 #交叉確率\n",
        "MUTPB = 0.1 #突然変異確率"
      ],
      "execution_count": 61,
      "outputs": []
    },
    {
      "cell_type": "code",
      "metadata": {
        "colab": {
          "base_uri": "https://localhost:8080/"
        },
        "id": "u-APJzbEUD4A",
        "outputId": "e2ae97db-39bf-4b76-a9b2-41e03e5ea731"
      },
      "source": [
        "pop = toolbox.population(n=POP)\n",
        "for individual in pop:\n",
        "    individual.fitness.values = toolbox.evaluate(individual)\n",
        "hof = tools.ParetoFront()\n",
        "stats = tools.Statistics(lambda ind: ind.fitness.values)\n",
        "stats.register(\"avg\", np.mean, axis=0)\n",
        "stats.register(\"std\", np.std, axis=0)\n",
        "stats.register(\"min\", np.min, axis=0)\n",
        "stats.register(\"max\", np.max, axis=0)\n",
        "\n",
        "algorithms.eaSimple(pop, toolbox, cxpb=CXPB, mutpb=MUTPB, ngen=NGEN, stats=stats, halloffame=hof) #Simple GA\n",
        "best_ind = tools.selBest(pop, 1)[0]\n",
        "#結果表示\n",
        "print(\"最も良い個体は %sで、そのときの目的関数の値は %s\" % (best_ind, best_ind.fitness.values))"
      ],
      "execution_count": 64,
      "outputs": [
        {
          "output_type": "stream",
          "name": "stdout",
          "text": [
            "gen\tnevals\tavg           \tstd           \tmin         \tmax            \n",
            "0  \t0     \t[269.50660361]\t[311.41795476]\t[0.17451204]\t[1360.90707797]\n",
            "1  \t99    \t[1388.42756551]\t[8647.48253738]\t[0.00147562]\t[79770.38791465]\n",
            "2  \t90    \t[1007.53610863]\t[5713.14107727]\t[0.00147562]\t[49930.96776207]\n",
            "3  \t90    \t[575.78154093] \t[5188.90127873]\t[0.00515973]\t[52004.13208961]\n",
            "4  \t94    \t[411.6715738]  \t[2012.74014658]\t[0.00237568]\t[15549.6008604] \n",
            "5  \t98    \t[417.53812281] \t[2469.10390223]\t[0.00219692]\t[19128.38506495]\n",
            "6  \t92    \t[686.67336222] \t[5215.46587247]\t[0.00213091]\t[51749.40282766]\n",
            "7  \t86    \t[270.23428394] \t[1397.59466329]\t[0.00213091]\t[11430.86443839]\n",
            "8  \t96    \t[10.21607925]  \t[101.62540804] \t[0.00211913]\t[1021.37612217] \n",
            "9  \t93    \t[1510.07649771]\t[6879.50374846]\t[0.00211521]\t[53729.54262646]\n",
            "10 \t88    \t[172.45592743] \t[1088.7728372] \t[0.00211288]\t[9912.46738982] \n",
            "11 \t86    \t[636.90875988] \t[3758.16429346]\t[0.00210382]\t[32948.07350907]\n",
            "12 \t90    \t[265.98161228] \t[1550.80858744]\t[0.00210382]\t[14172.10262944]\n",
            "13 \t90    \t[165.8238799]  \t[1317.24753558]\t[0.00210312]\t[12694.46961882]\n",
            "14 \t92    \t[110.12487203] \t[1046.8190952] \t[0.00210296]\t[10514.26667153]\n",
            "15 \t94    \t[43.42920057]  \t[412.46735468] \t[0.00210292]\t[4142.64579043] \n",
            "16 \t90    \t[563.58741031] \t[4268.90987653]\t[0.00210283]\t[41663.95586995]\n",
            "17 \t95    \t[17.44222385]  \t[173.52701249] \t[0.0021028] \t[1744.01419808] \n",
            "18 \t97    \t[242.45286688] \t[1372.91106884]\t[0.00210279]\t[11892.85798066]\n",
            "19 \t94    \t[716.42411689] \t[4495.24845202]\t[0.00210278]\t[39548.75673874]\n",
            "20 \t92    \t[44.82591891]  \t[445.99133928] \t[0.00210277]\t[4482.38371537] \n",
            "21 \t94    \t[28.15939525]  \t[280.16152272] \t[0.00210277]\t[2815.73134993] \n",
            "22 \t92    \t[546.46166427] \t[3235.23156183]\t[0.00210277]\t[24491.95040087]\n",
            "23 \t88    \t[473.62754694] \t[3247.14580924]\t[0.00210277]\t[30092.0393655] \n",
            "24 \t91    \t[617.08863465] \t[5237.74977819]\t[0.00210277]\t[51975.95805744]\n",
            "25 \t83    \t[737.08117769] \t[7327.2567348] \t[0.00210277]\t[73642.3362739] \n",
            "26 \t83    \t[462.22042668] \t[4451.65445282]\t[0.00210277]\t[44731.02953567]\n",
            "27 \t89    \t[147.60441341] \t[969.42127961] \t[0.00210277]\t[8793.34124404] \n",
            "28 \t83    \t[50.63783184]  \t[503.81914291] \t[0.00210277]\t[5063.57500951] \n",
            "29 \t98    \t[300.64870919] \t[1615.02619515]\t[0.00210277]\t[11828.50146283]\n",
            "30 \t87    \t[515.87002058] \t[4347.70698791]\t[0.00210277]\t[42934.41131592]\n",
            "31 \t86    \t[1131.20822247]\t[5922.32163498]\t[0.00210277]\t[45736.29441917]\n",
            "32 \t84    \t[32.97579347]  \t[228.06681811] \t[0.00210277]\t[1777.99609482] \n",
            "33 \t87    \t[44.29526803]  \t[440.71142986] \t[0.00210277]\t[4429.31862899] \n",
            "34 \t92    \t[46.65509942]  \t[461.7927006]  \t[0.00210277]\t[4641.37339537] \n",
            "35 \t88    \t[129.43315676] \t[1210.32095789]\t[0.00210277]\t[12159.51749448]\n",
            "36 \t90    \t[121.47140937] \t[946.19881258] \t[0.00210277]\t[9173.70131574] \n",
            "37 \t94    \t[406.4699814]  \t[2280.65048191]\t[0.00210277]\t[18154.51054828]\n",
            "38 \t84    \t[58.44782894]  \t[499.51757376] \t[0.00210277]\t[4957.80104603] \n",
            "39 \t89    \t[35.10302357]  \t[348.86903122] \t[0.00210277]\t[3506.30402832] \n",
            "40 \t92    \t[1117.94237367]\t[7383.6406094] \t[0.00210277]\t[59200.17934787]\n",
            "41 \t92    \t[1094.0577595] \t[6374.80854446]\t[0.00210277]\t[53970.71494719]\n",
            "42 \t97    \t[0.00210277]   \t[4.41932111e-14]\t[0.00210277]\t[0.00210277]    \n",
            "43 \t93    \t[65.90192161]  \t[562.86073802]  \t[0.00210277]\t[5575.51590543] \n",
            "44 \t96    \t[625.31361928] \t[4048.94899711] \t[0.00210277]\t[33422.2356323] \n",
            "45 \t87    \t[1032.63232789]\t[4709.81845956] \t[0.00210277]\t[30985.42004206]\n",
            "46 \t88    \t[135.20242242] \t[838.47261157]  \t[0.00210277]\t[7497.53536759] \n",
            "47 \t94    \t[129.58949174] \t[1209.79697677] \t[0.00210277]\t[12141.11194272]\n",
            "48 \t81    \t[0.00210277]   \t[1.89254783e-15]\t[0.00210277]\t[0.00210277]    \n",
            "49 \t92    \t[66.32263875]  \t[601.2638609]   \t[0.00210277]\t[6017.84282273] \n",
            "50 \t93    \t[939.40834346] \t[7229.06812532] \t[0.00210277]\t[69703.5304743] \n",
            "51 \t92    \t[341.54796755] \t[2246.27321525] \t[0.00210277]\t[20386.16126524]\n",
            "52 \t93    \t[438.73144698] \t[2723.68902783] \t[0.00210277]\t[24646.06226594]\n",
            "53 \t91    \t[60.59101438]  \t[354.93386121]  \t[0.00210277]\t[3139.49331346] \n",
            "54 \t93    \t[116.46194204] \t[742.0148271]   \t[0.00210277]\t[5804.62063696] \n",
            "55 \t95    \t[640.67483313] \t[4659.63030188] \t[0.00210277]\t[40976.62113772]\n",
            "56 \t94    \t[156.81302813] \t[1105.7047698]  \t[0.00210277]\t[9155.95854159] \n",
            "57 \t96    \t[407.07975182] \t[2576.11801278] \t[0.00210277]\t[19812.43909333]\n",
            "58 \t96    \t[462.68271196] \t[2720.60655584] \t[0.00210277]\t[23168.64806785]\n",
            "59 \t91    \t[97.49771313]  \t[573.82479557]  \t[0.00210277]\t[4307.39885371] \n",
            "60 \t82    \t[7.95270484]   \t[79.10749179]   \t[0.00210277]\t[795.06230991]  \n",
            "61 \t91    \t[618.59020787] \t[3270.48857316] \t[0.00210277]\t[24898.32193056]\n",
            "62 \t96    \t[363.83162314] \t[3079.00711792] \t[0.00210277]\t[30426.79740069]\n",
            "63 \t86    \t[336.16185515] \t[1668.31443184] \t[0.00210277]\t[10970.6064843] \n",
            "64 \t91    \t[146.84883157] \t[1461.10650343] \t[0.00210277]\t[14684.67498347]\n",
            "65 \t92    \t[1275.90916735]\t[5875.0008749]  \t[0.00210277]\t[41204.29362061]\n",
            "66 \t89    \t[2499.21481875]\t[20594.12833793]\t[0.00210277]\t[204603.44603113]\n",
            "67 \t89    \t[181.90967605] \t[1783.93205739] \t[0.00210277]\t[17929.93137718] \n",
            "68 \t94    \t[98.66968356]  \t[508.52096102]  \t[0.00210277]\t[3839.88954631]  \n",
            "69 \t98    \t[337.61737323] \t[2011.44338586] \t[0.00210277]\t[18949.5234523]  \n",
            "70 \t87    \t[384.96567831] \t[2231.59765761] \t[0.00210277]\t[21057.48135236] \n",
            "71 \t82    \t[350.45253767] \t[2505.81188247] \t[0.00210277]\t[21647.16924159] \n",
            "72 \t88    \t[283.62346516] \t[2821.99692471] \t[0.00210277]\t[28362.13834155] \n",
            "73 \t97    \t[102.85284684] \t[892.52758623]  \t[0.00210277]\t[8872.61966696]  \n",
            "74 \t94    \t[72.00268579]  \t[408.01460573]  \t[0.00210277]\t[2884.04537178]  \n",
            "75 \t94    \t[607.8124899]  \t[3553.21717473] \t[0.00210277]\t[26025.76499418] \n",
            "76 \t91    \t[594.78489253] \t[3953.4472184]  \t[0.00210277]\t[36642.85500039] \n",
            "77 \t91    \t[153.22107776] \t[1413.21041217] \t[0.00210277]\t[14168.01243371] \n",
            "78 \t96    \t[1.97427702]   \t[13.61345038]   \t[0.00210277]\t[127.79624514]   \n",
            "79 \t94    \t[159.68153993] \t[980.75515757]  \t[0.00210277]\t[7799.15485952]  \n",
            "80 \t89    \t[727.83413623] \t[3727.62692082] \t[0.00210277]\t[25604.59671264] \n",
            "81 \t91    \t[523.15155623] \t[3270.29563826] \t[0.00210277]\t[31194.19141615] \n",
            "82 \t99    \t[724.91335251] \t[6828.38411946] \t[0.00210277]\t[68606.70949485] \n",
            "83 \t87    \t[1147.95079369]\t[6657.69575382] \t[0.00210277]\t[46515.66528138] \n",
            "84 \t91    \t[47.40010953]  \t[459.97890702]  \t[0.00210277]\t[4623.11091517]  \n",
            "85 \t88    \t[1087.70307907]\t[10701.0501605] \t[0.00210277]\t[107557.09173404]\n",
            "86 \t93    \t[62.16769478]  \t[440.80991024]  \t[0.00210277]\t[3605.77021011]  \n",
            "87 \t86    \t[394.62496927] \t[3114.38497643] \t[0.00210277]\t[30743.05770295] \n",
            "88 \t93    \t[518.14559721] \t[4010.21976112] \t[0.00210277]\t[39571.56978829] \n",
            "89 \t89    \t[342.73834192] \t[3128.92041687] \t[0.00210277]\t[31381.41521127] \n",
            "90 \t88    \t[21.28097878]  \t[182.23061286]  \t[0.00210277]\t[1810.08640687]  \n",
            "91 \t88    \t[655.15600328] \t[6518.69900377] \t[0.00210277]\t[65515.39215357] \n",
            "92 \t95    \t[235.86797881] \t[2346.83583509] \t[0.00210277]\t[23586.58970746] \n",
            "93 \t91    \t[839.99417533] \t[6525.27727912] \t[0.00210277]\t[63934.78527271] \n",
            "94 \t86    \t[256.17021261] \t[2533.2276087]  \t[0.00210277]\t[25460.99466818] \n",
            "95 \t92    \t[0.00210277]   \t[8.98808178e-18]\t[0.00210277]\t[0.00210277]     \n",
            "96 \t90    \t[865.61385836] \t[7584.83212663] \t[0.00210277]\t[76086.63708873] \n",
            "97 \t89    \t[412.19865082] \t[3827.84844166] \t[0.00210277]\t[38419.7164876]  \n",
            "98 \t100   \t[283.78228277] \t[2812.56780607] \t[0.00210277]\t[28268.26769942] \n",
            "99 \t96    \t[300.31844086] \t[1331.25396569] \t[0.00210277]\t[8840.71967693]  \n",
            "100\t92    \t[90.52688306]  \t[900.71019138]  \t[0.00210277]\t[9052.48013207]  \n",
            "101\t91    \t[212.90638035] \t[1312.76730574] \t[0.00210277]\t[11406.3796719]  \n",
            "102\t89    \t[362.94749349] \t[2064.50171446] \t[0.00210277]\t[15639.20202711] \n",
            "103\t92    \t[196.85326358] \t[1388.28520439] \t[0.00210277]\t[11037.7005664]  \n",
            "104\t93    \t[139.63629624] \t[991.59912469]  \t[0.00210277]\t[8162.41353166]  \n",
            "105\t83    \t[593.11708241] \t[3074.59246809] \t[0.00210277]\t[24493.05952645] \n",
            "106\t85    \t[105.38111154] \t[830.98012395]  \t[0.00210277]\t[7974.46476075]  \n",
            "107\t90    \t[435.83540139] \t[3197.55591487] \t[0.00210277]\t[31025.24605445] \n",
            "108\t91    \t[190.82100195] \t[1353.49544557] \t[0.00210277]\t[11086.41073253] \n",
            "109\t96    \t[704.33914043] \t[5586.75316304] \t[0.00210277]\t[55278.64438996] \n",
            "110\t97    \t[598.35852002] \t[4509.22124066] \t[0.00210277]\t[41727.95949294] \n",
            "111\t94    \t[66.01250052]  \t[478.2875513]   \t[0.00210277]\t[4475.19200816]  \n",
            "112\t98    \t[189.19336771] \t[1444.05700606] \t[0.00210277]\t[14105.15815225] \n",
            "113\t96    \t[593.23101493] \t[3498.47242734] \t[0.00210277]\t[25117.96099765] \n",
            "114\t96    \t[1598.58826309]\t[9919.16514735] \t[0.00210277]\t[94850.85134732] \n",
            "115\t89    \t[160.25043564] \t[1594.4507802]  \t[0.00210277]\t[16024.83538952] \n",
            "116\t80    \t[57.34228499]  \t[319.46998295]  \t[0.00210277]\t[2654.14865407]  \n",
            "117\t89    \t[315.87000579] \t[1860.1181517]  \t[0.00210277]\t[13559.68941408] \n",
            "118\t94    \t[0.00210277]   \t[8.73110642e-18]\t[0.00210277]\t[0.00210277]     \n",
            "119\t90    \t[243.08544609] \t[1359.77125521] \t[0.00210277]\t[10764.31868514] \n",
            "120\t98    \t[499.70975901] \t[3478.01579176] \t[0.00210277]\t[30987.36972338] \n",
            "121\t94    \t[719.02715659] \t[4997.39657487] \t[0.00210277]\t[42122.63337717] \n",
            "122\t94    \t[694.13154305] \t[6654.19493538] \t[0.00210277]\t[66871.47562147] \n",
            "123\t98    \t[88.43775069]  \t[549.57969107]  \t[0.00210277]\t[4761.07658207]  \n",
            "124\t92    \t[389.52185285] \t[2500.06698526] \t[0.00210277]\t[22139.96440862] \n",
            "125\t94    \t[813.73436216] \t[4361.31983325] \t[0.00210277]\t[35086.17947883] \n",
            "126\t95    \t[196.00086528] \t[1916.848819]   \t[0.00210277]\t[19265.53361834] \n",
            "127\t90    \t[177.45707647] \t[831.55287546]  \t[0.00210277]\t[5564.97412129]  \n",
            "128\t84    \t[319.87287865] \t[2260.94150807] \t[0.00210277]\t[18210.61276009] \n",
            "129\t89    \t[617.32381845] \t[3458.74334658] \t[0.00210277]\t[28711.14280345] \n",
            "130\t91    \t[201.40466811] \t[1084.01606644] \t[0.00210277]\t[6965.28585672]  \n",
            "131\t95    \t[137.55783356] \t[805.82647475]  \t[0.00210277]\t[6862.60213111]  \n",
            "132\t94    \t[264.9124575]  \t[1865.8465798]  \t[0.00210277]\t[16603.27820303] \n",
            "133\t96    \t[276.61914301] \t[2304.30730153] \t[0.00210277]\t[22874.22532622] \n",
            "134\t90    \t[856.31864084] \t[7824.93194189] \t[0.00210277]\t[78587.9828459]  \n",
            "135\t86    \t[1814.20287916]\t[15471.0614657] \t[0.00210277]\t[154964.77039661]\n",
            "136\t87    \t[42.61851209]  \t[311.91925485]  \t[0.00210277]\t[2834.87758117]  \n",
            "137\t91    \t[0.00210277]   \t[9.18502909e-18]\t[0.00210277]\t[0.00210277]     \n",
            "138\t88    \t[461.51287311] \t[4231.59922448] \t[0.00210277]\t[42488.03692591] \n",
            "139\t85    \t[421.41035416] \t[2590.31237364] \t[0.00210277]\t[21661.61770109] \n",
            "140\t89    \t[928.82891865] \t[5134.65188738] \t[0.00210277]\t[40500.57747385] \n",
            "141\t83    \t[670.79371557] \t[4423.28811092] \t[0.00210277]\t[36305.33949608] \n",
            "142\t87    \t[101.50326574] \t[565.92087087]  \t[0.00210277]\t[4490.54575204]  \n",
            "143\t90    \t[407.12086377] \t[3063.84715814] \t[0.00210277]\t[28310.87829233] \n",
            "144\t93    \t[1132.75821949]\t[7905.90473494] \t[0.00210277]\t[61236.5565585]  \n",
            "145\t90    \t[510.56714125] \t[2544.50714799] \t[0.00210277]\t[16078.8388379]  \n",
            "146\t97    \t[438.21827918] \t[3048.73244232] \t[0.00210277]\t[29247.23099969] \n",
            "147\t89    \t[339.92901287] \t[2749.2393151]  \t[0.00210277]\t[26733.78029148] \n",
            "148\t87    \t[316.74928945] \t[2377.72724177] \t[0.00210277]\t[22225.84289668] \n",
            "149\t92    \t[514.87120746] \t[3566.23427478] \t[0.00210277]\t[32365.51617915] \n",
            "150\t90    \t[149.0290741]  \t[1430.09098776] \t[0.00210277]\t[14368.42144476] \n",
            "151\t95    \t[90.44392406]  \t[774.60468057]  \t[0.00210277]\t[7722.26768582]  \n",
            "152\t89    \t[347.66933758] \t[2243.83221751] \t[0.00210277]\t[20803.23206326] \n",
            "153\t95    \t[1106.16231772]\t[4837.8141752]  \t[0.00210277]\t[36176.20798919] \n",
            "154\t98    \t[29.23079557]  \t[290.82182142]  \t[0.00210277]\t[2922.87138309]  \n",
            "155\t96    \t[22.75291387]  \t[152.94519414]  \t[0.00210277]\t[1388.52254853]  \n",
            "156\t88    \t[1065.98925277]\t[5699.7138769]  \t[0.00210277]\t[40064.67991113] \n",
            "157\t93    \t[689.17890076] \t[4548.65423075] \t[0.00210277]\t[43650.7526109]  \n",
            "158\t87    \t[429.26475692] \t[4259.02043422] \t[0.00210277]\t[42805.82564569] \n",
            "159\t91    \t[12.95373202]  \t[87.54504256]   \t[0.00210277]\t[750.83118132]   \n",
            "160\t86    \t[200.92558787] \t[1655.06793229] \t[0.00210277]\t[16215.08130145] \n",
            "161\t96    \t[0.29652831]   \t[2.92949719]    \t[0.00210277]\t[29.44465736]    \n",
            "162\t95    \t[0.97877627]   \t[9.71777868]    \t[0.00210277]\t[97.66945327]    \n",
            "163\t95    \t[90.21316298]  \t[732.89535033]  \t[0.00210277]\t[7140.87696345]  \n",
            "164\t88    \t[523.68074939] \t[4012.15120197] \t[0.00210277]\t[39126.53447977] \n",
            "165\t93    \t[1050.33884726]\t[4691.17955893] \t[0.00210277]\t[29542.97082514] \n",
            "166\t93    \t[482.61891531] \t[2628.25922755] \t[0.00210277]\t[20076.94593137] \n",
            "167\t95    \t[710.65756431] \t[5453.1987862]  \t[0.00210277]\t[53518.52935913] \n",
            "168\t89    \t[426.79925255] \t[3126.32132747] \t[0.00210277]\t[30012.74027253] \n",
            "169\t96    \t[151.99585759] \t[973.05796593]  \t[0.00210277]\t[8407.04233511]  \n",
            "170\t93    \t[204.13559492] \t[1645.72933513] \t[0.00210277]\t[16453.59844072] \n",
            "171\t90    \t[412.61757653] \t[2966.04220536] \t[0.00210277]\t[26392.81223852] \n",
            "172\t88    \t[280.46392433] \t[2790.55989044] \t[0.00210277]\t[28046.18425917] \n",
            "173\t91    \t[223.48379002] \t[1557.32945321] \t[0.00210277]\t[13692.11113746] \n",
            "174\t92    \t[331.59789677] \t[2114.59650743] \t[0.00210277]\t[18621.19479266] \n",
            "175\t95    \t[227.70821898] \t[1573.57722026] \t[0.00210277]\t[15204.99606247] \n",
            "176\t85    \t[276.03782455] \t[2302.19319127] \t[0.00210277]\t[22753.36982626] \n",
            "177\t90    \t[198.47336029] \t[1548.85876169] \t[0.00210277]\t[14886.19914777] \n",
            "178\t91    \t[588.91459297] \t[5762.58826672] \t[0.00210277]\t[57921.72540384] \n",
            "179\t87    \t[55.96208088]  \t[556.794752]    \t[0.00210277]\t[5595.99991376]  \n",
            "180\t88    \t[803.03010761] \t[5776.22255119] \t[0.00210277]\t[50385.82823723] \n",
            "181\t93    \t[0.18867139]   \t[1.85633432]    \t[0.00210277]\t[18.65896464]    \n",
            "182\t93    \t[542.55849994] \t[3724.55041737] \t[0.00210277]\t[27288.21593055] \n",
            "183\t95    \t[220.3124757]  \t[1977.67515539] \t[0.00210277]\t[19821.5479297]  \n",
            "184\t95    \t[564.92900572] \t[4702.57330178] \t[0.00210277]\t[46980.23351262] \n",
            "185\t95    \t[304.82026782] \t[2355.67035316] \t[0.00210277]\t[22448.38512384] \n",
            "186\t93    \t[286.36504457] \t[2229.02226989] \t[0.00210277]\t[21211.4694821]  \n",
            "187\t92    \t[702.03394735] \t[6231.80708256] \t[0.00210277]\t[62205.61334206] \n",
            "188\t90    \t[1417.22195895]\t[10552.53616155]\t[0.00210277]\t[103197.94722361]\n",
            "189\t93    \t[167.69014554] \t[1668.47495911] \t[0.00210277]\t[16768.80637997] \n",
            "190\t98    \t[754.02930905] \t[7172.09727187] \t[0.00210277]\t[72091.1313823]  \n",
            "191\t96    \t[898.98922311] \t[6761.77275817] \t[0.00210277]\t[67230.77842614] \n",
            "192\t93    \t[24.39580586]  \t[242.71428118]  \t[0.00210277]\t[2439.3724117]   \n",
            "193\t90    \t[49.8219268]   \t[302.1692027]   \t[0.00210277]\t[2425.71657233]  \n",
            "194\t89    \t[1038.83908231]\t[6733.36725471] \t[0.00210277]\t[60011.83622771] \n",
            "195\t95    \t[157.06764145] \t[863.21158104]  \t[0.00210277]\t[6120.17240039]  \n",
            "196\t95    \t[291.48286527] \t[1761.48577984] \t[0.00210277]\t[14072.12783533] \n",
            "197\t89    \t[639.95418637] \t[3259.23423131] \t[0.00210277]\t[23513.06745955] \n",
            "198\t91    \t[213.47594479] \t[1278.80383899] \t[0.00210277]\t[10727.58608227] \n",
            "199\t96    \t[751.31253305] \t[5647.31473441] \t[0.00210277]\t[55628.05944991] \n",
            "200\t90    \t[203.87758911] \t[2016.92584115] \t[0.00210277]\t[20271.8731602]  \n",
            "201\t87    \t[33.96169665]  \t[240.83241898]  \t[0.00210277]\t[1971.00260456]  \n",
            "202\t97    \t[211.1842959]  \t[1690.39166277] \t[0.00210277]\t[16751.10454061] \n",
            "203\t91    \t[62.59581113]  \t[445.3327268]   \t[0.00210277]\t[3692.74140699]  \n",
            "204\t96    \t[6.01234712]   \t[59.80117623]   \t[0.00210277]\t[601.0265379]    \n",
            "205\t92    \t[473.41484003] \t[3332.17425901] \t[0.00210277]\t[26135.63310683] \n",
            "206\t89    \t[186.45341089] \t[1593.86036616] \t[0.00210277]\t[15792.39214859] \n",
            "207\t90    \t[55.57781264]  \t[394.15231308]  \t[0.00210277]\t[3365.42662241]  \n",
            "208\t96    \t[303.50323683] \t[2108.24225771] \t[0.00210277]\t[16958.75063161] \n",
            "209\t92    \t[422.14156387] \t[3032.72486542] \t[0.00210277]\t[26169.78561467] \n",
            "210\t87    \t[54.3297343]   \t[389.75239756]  \t[0.00210277]\t[3379.07579609]  \n",
            "211\t94    \t[972.16819825] \t[5394.15928723] \t[0.00210277]\t[38361.81876377] \n",
            "212\t96    \t[557.3084032]  \t[4881.82066485] \t[0.00210277]\t[48889.61076796] \n",
            "213\t87    \t[506.32874215] \t[2452.11794243] \t[0.00210277]\t[18749.92299093] \n",
            "214\t89    \t[443.69941296] \t[3710.67677646] \t[0.00210277]\t[37014.80721257] \n",
            "215\t90    \t[1258.9174252] \t[7025.73769252] \t[0.00210277]\t[53233.75379942] \n",
            "216\t90    \t[756.20368322] \t[4183.30063023] \t[0.00210277]\t[35258.47484015] \n",
            "217\t88    \t[653.91910031] \t[5594.35517406] \t[0.00210277]\t[55457.49346982] \n",
            "218\t96    \t[673.65923463] \t[4794.49855091] \t[0.00210277]\t[46427.72966197] \n",
            "219\t89    \t[5.32742094]   \t[50.53399278]   \t[0.00210277]\t[507.52438518]   \n",
            "220\t93    \t[1023.8986351] \t[7624.01606858] \t[0.00210277]\t[69792.71401378] \n",
            "221\t90    \t[465.46855917] \t[3607.33594153] \t[0.00210277]\t[34952.86156968] \n",
            "222\t94    \t[752.67383769] \t[3798.64115822] \t[0.00210277]\t[31019.43072446] \n",
            "223\t87    \t[241.66419249] \t[1697.26119718] \t[0.00210277]\t[13059.52496024] \n",
            "224\t91    \t[1.8707677]    \t[18.59298133]   \t[0.00210277]\t[186.86859617]   \n",
            "225\t93    \t[1199.16870484]\t[7138.90062271] \t[0.00210277]\t[51886.98890544] \n",
            "226\t91    \t[338.92738503] \t[1845.61727625] \t[0.00210277]\t[15396.10397448] \n",
            "227\t90    \t[175.20160752] \t[902.92273824]  \t[0.00210277]\t[6097.34667415]  \n",
            "228\t94    \t[46.11334666]  \t[378.67626897]  \t[0.00210277]\t[3705.73612302]  \n",
            "229\t82    \t[383.72370238] \t[3555.28045903] \t[0.00210277]\t[35693.91886615] \n",
            "230\t92    \t[21.69338255]  \t[215.82550882]  \t[0.00210277]\t[2169.13008142]  \n",
            "231\t92    \t[436.44337998] \t[2878.09841518] \t[0.00210277]\t[22584.71844176] \n",
            "232\t93    \t[39.01945894]  \t[388.2177922]   \t[0.00210277]\t[3901.73771992]  \n",
            "233\t98    \t[382.13364509] \t[2674.89222115] \t[0.00210277]\t[21894.22069065] \n",
            "234\t85    \t[51.47269718]  \t[512.1259482]   \t[0.00210277]\t[5147.0615439]   \n",
            "235\t96    \t[0.00210277]   \t[7.26942801e-18]\t[0.00210277]\t[0.00210277]     \n",
            "236\t96    \t[743.10028174] \t[4324.99172027] \t[0.00210277]\t[31467.53500524] \n",
            "237\t92    \t[812.83624922] \t[5504.38073781] \t[0.00210277]\t[54008.47509162] \n",
            "238\t82    \t[97.83217282]  \t[973.39690673]  \t[0.00210277]\t[9783.00910796]  \n",
            "239\t91    \t[1290.38339309]\t[8873.03097341] \t[0.00210277]\t[83804.9978755]  \n",
            "240\t88    \t[260.82700812] \t[1595.69846643] \t[0.00210277]\t[13795.59103326] \n",
            "241\t86    \t[1100.48044605]\t[6340.68315275] \t[0.00210277]\t[57107.94983401] \n",
            "242\t92    \t[433.34214112] \t[2717.86113027] \t[0.00210277]\t[25629.48727354] \n",
            "243\t91    \t[1072.96191425]\t[5301.36191675] \t[0.00210277]\t[43514.2400555]  \n",
            "244\t91    \t[652.30374231] \t[4471.81079117] \t[0.00210277]\t[33076.44814687] \n",
            "245\t87    \t[698.56771953] \t[4025.013626]   \t[0.00210277]\t[31768.37624674] \n",
            "246\t93    \t[464.52796392] \t[3598.54571337] \t[0.00210277]\t[34126.06979803] \n",
            "247\t92    \t[574.86814335] \t[3495.88625721] \t[0.00210277]\t[31766.8014079]  \n",
            "248\t89    \t[631.77732557] \t[5536.84287793] \t[0.00210277]\t[55442.27819852] \n",
            "249\t96    \t[112.68656946] \t[876.39615197]  \t[0.00210277]\t[8362.48299581]  \n",
            "250\t92    \t[465.60978761] \t[3272.98317737] \t[0.00210277]\t[32055.27659668] \n",
            "251\t93    \t[263.98687122] \t[2626.61528195] \t[0.00210277]\t[26398.4789477]  \n",
            "252\t95    \t[519.00585979] \t[3121.73414876] \t[0.00210277]\t[23360.30832639] \n",
            "253\t91    \t[234.68900288] \t[2116.36288453] \t[0.00210277]\t[21168.78600503] \n",
            "254\t83    \t[914.80655622] \t[7067.79436961] \t[0.00210277]\t[69806.97646883] \n",
            "255\t81    \t[3.8249926]    \t[38.0372736]    \t[0.00210277]\t[382.29108639]   \n",
            "256\t91    \t[239.13123241] \t[1526.43464454] \t[0.00210277]\t[14312.11495605] \n",
            "257\t97    \t[41.35672674]  \t[411.4733132]   \t[0.00210277]\t[4135.46450012]  \n",
            "258\t88    \t[1673.15996864]\t[14658.8444729] \t[0.00210277]\t[146608.78056656]\n",
            "259\t91    \t[558.38743008] \t[3913.86789448] \t[0.00210277]\t[29341.36869776] \n",
            "260\t96    \t[427.92169633] \t[3100.03784083] \t[0.00210277]\t[27042.17902103] \n",
            "261\t91    \t[23.30878371]  \t[209.83677184]  \t[0.00210277]\t[2098.4653844]   \n",
            "262\t89    \t[1.45503435]   \t[14.45648667]   \t[0.00210277]\t[145.29526059]   \n",
            "263\t94    \t[785.31477003] \t[4140.07246038] \t[0.00210277]\t[33041.46803941] \n",
            "264\t93    \t[164.10434109] \t[1573.27134762] \t[0.00210277]\t[15806.54495898] \n",
            "265\t93    \t[146.31519348] \t[1117.87823813] \t[0.00210277]\t[10965.9725192]  \n",
            "266\t96    \t[834.0457846]  \t[5389.92093576] \t[0.00210277]\t[38767.78524538] \n",
            "267\t100   \t[300.28565664] \t[1937.50006958] \t[0.00210277]\t[16004.60086936] \n",
            "268\t98    \t[294.14944079] \t[1552.2335957]  \t[0.00210277]\t[11445.23100004] \n",
            "269\t89    \t[0.00210277]   \t[5.32068281e-18]\t[0.00210277]\t[0.00210277]     \n",
            "270\t96    \t[266.97372676] \t[2298.46288559] \t[0.00210277]\t[22972.90986457] \n",
            "271\t87    \t[150.72625448] \t[1175.61324632] \t[0.00210277]\t[11249.55978332] \n",
            "272\t91    \t[707.69030966] \t[4344.05449251] \t[0.00210277]\t[31668.90823233] \n",
            "273\t94    \t[193.98765794] \t[1181.81672682] \t[0.00210277]\t[9610.25487334]  \n",
            "274\t89    \t[0.00210277]   \t[7.53182693e-18]\t[0.00210277]\t[0.00210277]     \n",
            "275\t88    \t[487.55885288] \t[3442.89816756] \t[0.00210277]\t[30582.1871339]  \n",
            "276\t96    \t[221.25380051] \t[1594.29886608] \t[0.00210277]\t[14252.48375097] \n",
            "277\t95    \t[223.84455729] \t[1342.10442312] \t[0.00210277]\t[10555.15814047] \n",
            "278\t93    \t[850.25357573] \t[5584.3676245]  \t[0.00210277]\t[40551.34376838] \n",
            "279\t92    \t[216.37747779] \t[1478.17051271] \t[0.00210277]\t[10719.97066435] \n",
            "280\t94    \t[338.57407207] \t[2399.65493487] \t[0.00210277]\t[23133.55922]    \n",
            "281\t92    \t[222.23785924] \t[1414.27673039] \t[0.00210277]\t[12090.53985781] \n",
            "282\t88    \t[221.64361053] \t[2010.11132905] \t[0.00210277]\t[20119.29115159] \n",
            "283\t97    \t[309.51388947] \t[2048.99612678] \t[0.00210277]\t[18283.84818115] \n",
            "284\t89    \t[170.34802245] \t[1617.57023983] \t[0.00210277]\t[16246.02565199] \n",
            "285\t93    \t[264.66772433] \t[1618.46005411] \t[0.00210277]\t[13101.31731641] \n",
            "286\t96    \t[116.05033584] \t[1059.64360349] \t[0.00210277]\t[10613.6097556]  \n",
            "287\t91    \t[409.85280258] \t[3021.69747522] \t[0.00210277]\t[27199.82201763] \n",
            "288\t93    \t[367.26725264] \t[2211.96909578] \t[0.00210277]\t[20389.27261371] \n",
            "289\t86    \t[260.90691151] \t[1808.45844392] \t[0.00210277]\t[17077.7072585]  \n",
            "290\t96    \t[282.29261599] \t[1806.06575357] \t[0.00210277]\t[16433.53906097] \n",
            "291\t92    \t[247.48252384] \t[1720.01586411] \t[0.00210277]\t[15414.25897454] \n",
            "292\t91    \t[179.06861722] \t[1311.87603033] \t[0.00210277]\t[12580.0130529]  \n",
            "293\t89    \t[618.83052391] \t[4959.72716168] \t[0.00210277]\t[49465.75833318] \n",
            "294\t87    \t[749.87040235] \t[5212.14595519] \t[0.00210277]\t[47771.82535545] \n",
            "295\t87    \t[1692.72743805]\t[11648.76063036]\t[0.00210277]\t[103388.94927163]\n",
            "296\t80    \t[443.66349267] \t[4253.50188928] \t[0.00210277]\t[42734.64368672] \n",
            "297\t96    \t[783.12061313] \t[4901.30909076] \t[0.00210277]\t[40699.50496823] \n",
            "298\t87    \t[882.90287483] \t[4107.38363334] \t[0.00210277]\t[28355.48352833] \n",
            "299\t90    \t[754.84282885] \t[3504.46024825] \t[0.00210277]\t[23139.6651634]  \n",
            "300\t93    \t[124.72028854] \t[644.05947593]  \t[0.00210277]\t[4584.35102622]  \n",
            "301\t90    \t[735.24592144] \t[4579.94856811] \t[0.00210277]\t[35439.58280064] \n",
            "302\t94    \t[314.25498198] \t[2991.27060918] \t[0.00210277]\t[30058.21944891] \n",
            "303\t92    \t[4.70253116]   \t[37.47284855]   \t[0.00210277]\t[361.83185242]   \n",
            "304\t98    \t[71.0511683]   \t[500.20528163]  \t[0.00210277]\t[4356.21808053]  \n",
            "305\t85    \t[40.08656833]  \t[398.2910573]   \t[0.00210277]\t[4003.02891967]  \n",
            "306\t95    \t[375.66413503] \t[2047.66303402] \t[0.00210277]\t[15315.01573246] \n",
            "307\t87    \t[708.97669673] \t[5921.78827747] \t[0.00210277]\t[58455.04686484] \n",
            "308\t88    \t[396.77053849] \t[3945.49817123] \t[0.00210277]\t[39653.97514477] \n",
            "309\t84    \t[376.36026278] \t[2657.6985624]  \t[0.00210277]\t[23786.06523564] \n",
            "310\t95    \t[331.87350762] \t[2134.48001308] \t[0.00210277]\t[18235.20409756] \n",
            "311\t96    \t[590.23048845] \t[4532.69874454] \t[0.00210277]\t[44827.15413065] \n",
            "312\t89    \t[462.83195004] \t[3889.53718885] \t[0.00210277]\t[38360.13046741] \n",
            "313\t90    \t[339.10866931] \t[2669.40549004] \t[0.00210277]\t[26463.38128474] \n",
            "314\t94    \t[294.87994427] \t[2289.25822927] \t[0.00210277]\t[21743.92671781] \n",
            "315\t87    \t[1168.83353239]\t[8788.18630109] \t[0.00210277]\t[86415.64045907] \n",
            "316\t92    \t[0.00210277]   \t[7.35149837e-18]\t[0.00210277]\t[0.00210277]     \n",
            "317\t90    \t[1345.61797696]\t[12753.86335164]\t[0.00210277]\t[128161.32710722]\n",
            "318\t91    \t[666.41739181] \t[4522.32527816] \t[0.00210277]\t[39858.35545908] \n",
            "319\t91    \t[581.82536039] \t[2846.61753884] \t[0.00210277]\t[24692.99232119] \n",
            "320\t95    \t[174.50854663] \t[1716.07458038] \t[0.00210277]\t[17248.05718179] \n",
            "321\t87    \t[3446.3702268] \t[26402.67273667]\t[0.00210277]\t[257204.47083851]\n",
            "322\t95    \t[1513.35683907]\t[9665.28480785] \t[0.00210277]\t[75993.09064431] \n",
            "323\t81    \t[270.89074678] \t[1740.99281523] \t[0.00210277]\t[15359.41824155] \n",
            "324\t90    \t[176.73129082] \t[1758.43321878] \t[0.00210277]\t[17672.92090757] \n",
            "325\t91    \t[50.10707594]  \t[414.03575323]  \t[0.00210277]\t[4110.91155922]  \n",
            "326\t93    \t[262.86032193] \t[1578.98996002] \t[0.00210277]\t[14550.08103542] \n",
            "327\t89    \t[313.08773282] \t[2928.73339947] \t[0.00210277]\t[29426.43934878] \n",
            "328\t92    \t[234.25731162] \t[1754.17160792] \t[0.00210277]\t[17073.87299465] \n",
            "329\t92    \t[89.85486752]  \t[749.94639336]  \t[0.00210277]\t[7405.81791304]  \n",
            "330\t92    \t[49.75385939]  \t[452.51913836]  \t[0.00210277]\t[4541.97486171]  \n",
            "331\t90    \t[559.47613275] \t[3981.75061574] \t[0.00210277]\t[37999.78754989] \n",
            "332\t83    \t[311.40104717] \t[2062.41681365] \t[0.00210277]\t[18942.46366585] \n",
            "333\t90    \t[911.91702423] \t[5336.10295562] \t[0.00210277]\t[47671.19225114] \n",
            "334\t81    \t[37.9385267]   \t[377.46265219]  \t[0.00210277]\t[3793.64449577]  \n",
            "335\t92    \t[758.13239986] \t[6221.63120729] \t[0.00210277]\t[60868.85466338] \n",
            "336\t85    \t[389.35586912] \t[2878.05745419] \t[0.00210277]\t[26729.53649599] \n",
            "337\t86    \t[862.68805118] \t[6125.54770358] \t[0.00210277]\t[51171.70862022] \n",
            "338\t96    \t[536.45424681] \t[3319.87583124] \t[0.00210277]\t[23381.6303899]  \n",
            "339\t87    \t[784.57071043] \t[3961.63995541] \t[0.00210277]\t[26597.84952156] \n",
            "340\t90    \t[7.92992287]   \t[78.88081407]   \t[0.00210277]\t[792.78411314]   \n",
            "341\t96    \t[80.00504924]  \t[725.83740922]  \t[0.00210277]\t[7278.58875064]  \n",
            "342\t89    \t[286.86123706] \t[2746.12368594] \t[0.00210277]\t[27588.85500271] \n",
            "343\t87    \t[493.92923044] \t[4858.10366058] \t[0.00210277]\t[48828.22000994] \n",
            "344\t96    \t[0.00210277]   \t[8.03902097e-18]\t[0.00210277]\t[0.00210277]     \n",
            "345\t91    \t[345.63938969] \t[2289.25914987] \t[0.00210277]\t[21386.54040169] \n",
            "346\t96    \t[1267.21804282]\t[11312.01272944]\t[0.00210277]\t[113623.88623906]\n",
            "347\t85    \t[528.26887158] \t[2983.32201454] \t[0.00210277]\t[21932.18190544] \n",
            "348\t88    \t[142.74368558] \t[1274.79169339] \t[0.00210277]\t[12734.89799558] \n",
            "349\t92    \t[821.11261675] \t[5635.30787806] \t[0.00210277]\t[50055.90062257] \n",
            "350\t93    \t[37.60876378]  \t[248.6707968]   \t[0.00210277]\t[2028.45687111]  \n",
            "351\t96    \t[269.84497721] \t[2681.54891256] \t[0.00210277]\t[26950.89930164] \n",
            "352\t93    \t[234.47944173] \t[1286.62148903] \t[0.00210277]\t[8707.53360063]  \n",
            "353\t86    \t[62.87633181]  \t[625.5906801]   \t[0.00210277]\t[6287.42500655]  \n",
            "354\t91    \t[505.8931473]  \t[3539.33179962] \t[0.00210277]\t[26320.70820166] \n",
            "355\t94    \t[1080.95090225]\t[7559.44056876] \t[0.00210277]\t[71923.63142361] \n",
            "356\t89    \t[100.15242004] \t[709.75706872]  \t[0.00210277]\t[6524.03890728]  \n",
            "357\t86    \t[530.26837438] \t[2994.76071646] \t[0.00210277]\t[21854.95594739] \n",
            "358\t92    \t[10.93423635]  \t[108.77335578]  \t[0.00210277]\t[1093.21546131]  \n",
            "359\t92    \t[248.56904832] \t[1574.77102957] \t[0.00210277]\t[12403.00857755] \n",
            "360\t83    \t[70.44814234]  \t[641.1951343]   \t[0.00210277]\t[6422.02037239]  \n",
            "361\t98    \t[161.92225751] \t[1217.18295431] \t[0.00210277]\t[12035.29728292] \n",
            "362\t92    \t[304.65879826] \t[1948.5364323]  \t[0.00210277]\t[17907.60110291] \n",
            "363\t88    \t[133.99137535] \t[1001.55794644] \t[0.00210277]\t[9183.56704701]  \n",
            "364\t96    \t[81.28794802]  \t[808.52419945]  \t[0.00210277]\t[8126.00175153]  \n",
            "365\t83    \t[126.88063945] \t[846.85655999]  \t[0.00210277]\t[7516.7483188]   \n",
            "366\t86    \t[281.0268567]  \t[1504.88880994] \t[0.00210277]\t[12016.29853156] \n",
            "367\t88    \t[521.89042289] \t[3051.76877686] \t[0.00210277]\t[23197.88175819] \n",
            "368\t93    \t[917.40837619] \t[8563.95509762] \t[0.00210277]\t[85978.25388916] \n",
            "369\t84    \t[158.24191179] \t[1538.1034973]  \t[0.00210277]\t[15457.88662809] \n",
            "370\t91    \t[266.06155871] \t[2103.6107917]  \t[0.00210277]\t[20233.49704902] \n",
            "371\t84    \t[324.6437626]  \t[1639.91621823] \t[0.00210277]\t[10767.36425894] \n",
            "372\t89    \t[782.85418271] \t[6207.52375031] \t[0.00210277]\t[61710.73017493] \n",
            "373\t90    \t[352.03676988] \t[2205.25075163] \t[0.00210277]\t[16677.22358242] \n",
            "374\t99    \t[317.0733277]  \t[2797.17113654] \t[0.00210277]\t[28000.02156699] \n",
            "375\t94    \t[226.5558551]  \t[1750.99587442] \t[0.00210277]\t[17182.02080098] \n",
            "376\t95    \t[394.28399746] \t[2485.02866278] \t[0.00210277]\t[21140.4143987]  \n",
            "377\t89    \t[303.08161334] \t[1770.61824756] \t[0.00210277]\t[14708.05318439] \n",
            "378\t91    \t[53.05192001]  \t[527.83901701]  \t[0.00210277]\t[5304.98382746]  \n",
            "379\t92    \t[0.00210277]   \t[9.07429937e-18]\t[0.00210277]\t[0.00210277]     \n",
            "380\t89    \t[449.69330237] \t[4154.32586338] \t[0.00210277]\t[41655.19174784] \n",
            "381\t87    \t[411.99100206] \t[3412.21151867] \t[0.00210277]\t[33975.77559666] \n",
            "382\t90    \t[1050.82667866]\t[5618.8540846]  \t[0.00210277]\t[38304.76051111] \n",
            "383\t87    \t[292.46550298] \t[1851.13401246] \t[0.00210277]\t[17045.25743106] \n",
            "384\t92    \t[29.66124623]  \t[240.19719376]  \t[0.00210277]\t[2337.09969579]  \n",
            "385\t94    \t[203.95876279] \t[1831.51392144] \t[0.00210277]\t[18318.96205741] \n",
            "386\t87    \t[1175.42382983]\t[8594.49013099] \t[0.00210277]\t[80413.70907384] \n",
            "387\t85    \t[303.44470701] \t[2300.63836441] \t[0.00210277]\t[22171.81880661] \n",
            "388\t94    \t[100.1641556]  \t[996.59984245]  \t[0.00210277]\t[10016.20738617] \n",
            "389\t97    \t[481.92410832] \t[2436.53903605] \t[0.00210277]\t[15980.73764968] \n",
            "390\t96    \t[241.89791277] \t[1702.56899958] \t[0.00210277]\t[13351.28845344] \n",
            "391\t88    \t[392.6694323]  \t[3104.55297698] \t[0.00210277]\t[30685.76080787] \n",
            "392\t91    \t[610.18067359] \t[4134.70707577] \t[0.00210277]\t[38692.08650198] \n",
            "393\t84    \t[319.43462732] \t[2238.09741989] \t[0.00210277]\t[16652.08080842] \n",
            "394\t95    \t[309.88853663] \t[2198.77329463] \t[0.00210277]\t[21063.52863069] \n",
            "395\t92    \t[458.62499377] \t[2670.31148499] \t[0.00210277]\t[19543.52711176] \n",
            "396\t91    \t[9.1566233]    \t[91.08632925]   \t[0.00210277]\t[915.4541563]    \n",
            "397\t91    \t[284.92473377] \t[1646.92167411] \t[0.00210277]\t[11585.49712633] \n",
            "398\t92    \t[419.0062181]  \t[3193.92358013] \t[0.00210277]\t[29890.25778843] \n",
            "399\t89    \t[70.86994698]  \t[705.12614687]  \t[0.00210277]\t[7086.7865241]   \n",
            "400\t88    \t[399.71795145] \t[2580.03873853] \t[0.00210277]\t[21664.77076887] \n",
            "401\t88    \t[431.77626297] \t[2952.22524528] \t[0.00210277]\t[26824.1904658]  \n",
            "402\t88    \t[326.16569029] \t[2978.59960659] \t[0.00210277]\t[29834.64445139] \n",
            "403\t89    \t[705.25712013] \t[4341.73034215] \t[0.00210277]\t[33992.45813045] \n",
            "404\t90    \t[772.79032062] \t[4580.91019727] \t[0.00210277]\t[33306.92447206] \n",
            "405\t95    \t[491.98243514] \t[3121.83178933] \t[0.00210277]\t[27690.40540522] \n",
            "406\t94    \t[1813.67893162]\t[16661.10298968]\t[0.00210277]\t[167300.01149843]\n",
            "407\t94    \t[887.55716426] \t[4136.85585931] \t[0.00210277]\t[24702.03463278] \n",
            "408\t92    \t[37.21421608]  \t[279.36127832]  \t[0.00210277]\t[2574.4143368]   \n",
            "409\t88    \t[289.43270124] \t[1677.62464538] \t[0.00210277]\t[14543.90168068] \n",
            "410\t88    \t[49.29110281]  \t[360.32027085]  \t[0.00210277]\t[3486.16186613]  \n",
            "411\t91    \t[422.78051167] \t[2435.50255084] \t[0.00210277]\t[16645.46477341] \n",
            "412\t94    \t[130.87259859] \t[904.7341392]   \t[0.00210277]\t[8470.8030748]   \n",
            "413\t94    \t[0.00210277]   \t[6.99948025e-18]\t[0.00210277]\t[0.00210277]     \n",
            "414\t92    \t[838.75788583] \t[5064.46216779] \t[0.00210277]\t[42837.52498474] \n",
            "415\t88    \t[91.13601208]  \t[851.26372211]  \t[0.00210277]\t[8551.51473821]  \n",
            "416\t91    \t[75.15721876]  \t[747.7839625]   \t[0.00210277]\t[7515.51370234]  \n",
            "417\t89    \t[1053.94710785]\t[5644.39665115] \t[0.00210277]\t[40084.71438409] \n",
            "418\t96    \t[202.73097028] \t[1253.70466503] \t[0.00210277]\t[10121.4592713]  \n",
            "419\t94    \t[121.23781531] \t[868.77648157]  \t[0.00210277]\t[8297.81390768]  \n",
            "420\t92    \t[16.44404964]  \t[163.59530577]  \t[0.00210277]\t[1644.19678979]  \n",
            "421\t91    \t[54.66339511]  \t[543.87299173]  \t[0.00210277]\t[5466.1313366]   \n",
            "422\t92    \t[584.16574958] \t[3162.18889429] \t[0.00210277]\t[25167.12160026] \n",
            "423\t86    \t[145.68255753] \t[1418.87586121] \t[0.00210277]\t[14261.64706751] \n",
            "424\t90    \t[208.7263466]  \t[1475.61894975] \t[0.00210277]\t[13148.3403134]  \n",
            "425\t94    \t[258.5039791]  \t[2317.37009038] \t[0.00210277]\t[23161.95665039] \n",
            "426\t93    \t[786.60699672] \t[6615.32333041] \t[0.00210277]\t[65866.55301123] \n",
            "427\t91    \t[732.89251181] \t[4040.95461306] \t[0.00210277]\t[31360.28463161] \n",
            "428\t89    \t[338.66748795] \t[2138.93305862] \t[0.00210277]\t[19045.88643461] \n",
            "429\t95    \t[136.67886905] \t[702.49559239]  \t[0.00210277]\t[4395.29657655]  \n",
            "430\t96    \t[947.56582853] \t[6519.93833811] \t[0.00210277]\t[60967.40169261] \n",
            "431\t96    \t[379.74338983] \t[3100.09574285] \t[0.00210277]\t[30948.01679909] \n",
            "432\t86    \t[304.21265176] \t[2466.32369153] \t[0.00210277]\t[24008.52279985] \n",
            "433\t92    \t[22.7876769]   \t[213.34665566]  \t[0.00210277]\t[2141.20042801]  \n",
            "434\t89    \t[372.51338296] \t[1941.78433155] \t[0.00210277]\t[14091.79111271] \n",
            "435\t82    \t[340.75434693] \t[2398.31667178] \t[0.00210277]\t[19127.71455838] \n",
            "436\t87    \t[144.95699448] \t[1172.64043104] \t[0.00210277]\t[11404.07601588] \n",
            "437\t96    \t[84.2817376]   \t[838.57177866]  \t[0.00210277]\t[8427.96558643]  \n",
            "438\t91    \t[744.87899524] \t[3603.86508318] \t[0.00210277]\t[29965.21753547] \n",
            "439\t93    \t[786.95391498] \t[5003.05015511] \t[0.00210277]\t[39657.8267143]  \n",
            "440\t98    \t[404.61380141] \t[2762.91275548] \t[0.00210277]\t[24777.3554919]  \n",
            "441\t89    \t[629.55028879] \t[4870.31376133] \t[0.00210277]\t[48542.04328167] \n",
            "442\t82    \t[1247.20619711]\t[6411.90459205] \t[0.00210277]\t[45665.55732496] \n",
            "443\t99    \t[115.97793084] \t[867.56775464]  \t[0.00210277]\t[8141.74171255]  \n",
            "444\t92    \t[107.41685212] \t[931.15569022]  \t[0.00210277]\t[9254.63213382]  \n",
            "445\t94    \t[46.14496142]  \t[323.0125694]   \t[0.00210277]\t[2327.28599234]  \n",
            "446\t90    \t[11.29858345]  \t[112.39856367]  \t[0.00210277]\t[1129.65017145]  \n",
            "447\t91    \t[537.85562337] \t[3774.28969664] \t[0.00210277]\t[29968.89190293] \n",
            "448\t89    \t[394.10226179] \t[3550.50398755] \t[0.00210277]\t[35620.92095551] \n",
            "449\t88    \t[378.2769646]  \t[2729.92533296] \t[0.00210277]\t[24101.06075785] \n",
            "450\t90    \t[0.00210277]   \t[7.95328621e-18]\t[0.00210277]\t[0.00210277]     \n",
            "451\t92    \t[79.26981299]  \t[547.14997825]  \t[0.00210277]\t[5003.43133267]  \n",
            "452\t92    \t[71.05054415]  \t[379.36235453]  \t[0.00210277]\t[3010.92531548]  \n",
            "453\t91    \t[0.26495176]   \t[2.61531445]    \t[0.00210277]\t[26.28700194]    \n",
            "454\t92    \t[617.0811194]  \t[4497.85374651] \t[0.00210277]\t[43720.14711639] \n",
            "455\t92    \t[757.17208965] \t[7245.79001316] \t[0.00210277]\t[72794.85998644] \n",
            "456\t92    \t[815.99927125] \t[7392.40726781] \t[0.00210277]\t[74249.03389664] \n",
            "457\t96    \t[222.01336298] \t[1684.62920143] \t[0.00210277]\t[15892.33177363] \n",
            "458\t93    \t[1096.87400881]\t[8073.33428628] \t[0.00210277]\t[79774.19336989] \n",
            "459\t90    \t[1266.1471894] \t[6913.70529154] \t[0.00210277]\t[47204.89991805] \n",
            "460\t96    \t[311.8061574]  \t[2435.44290681] \t[0.00210277]\t[23230.60893538] \n",
            "461\t95    \t[814.2138826]  \t[3861.51583377] \t[0.00210277]\t[27491.12227025] \n",
            "462\t89    \t[1580.89015636]\t[10348.32504132]\t[0.00210277]\t[87057.00773983] \n",
            "463\t89    \t[137.11543086] \t[1223.28194667] \t[0.00210277]\t[12218.57606183] \n",
            "464\t91    \t[42.88628759]  \t[405.03515224]  \t[0.00210277]\t[4066.96799073]  \n",
            "465\t90    \t[867.93247763] \t[4217.95110586] \t[0.00210277]\t[26058.91591633] \n",
            "466\t88    \t[84.54656544]  \t[493.45540425]  \t[0.00210277]\t[3587.80936209]  \n",
            "467\t96    \t[24.74988172]  \t[246.23729158]  \t[0.00210277]\t[2474.77999841]  \n",
            "468\t88    \t[28.15306721]  \t[202.07354323]  \t[0.00210277]\t[1723.96411477]  \n",
            "469\t81    \t[481.59628929] \t[4791.80165374] \t[0.00210277]\t[48159.42075511] \n",
            "470\t82    \t[529.92690361] \t[2525.56648429] \t[0.00210277]\t[18821.27139252] \n",
            "471\t94    \t[401.45815937] \t[1732.94307147] \t[0.00210277]\t[11130.42080893] \n",
            "472\t88    \t[955.82800262] \t[4721.68371587] \t[0.00210277]\t[30220.26283898] \n",
            "473\t95    \t[293.85350519] \t[2367.83898549] \t[0.00210277]\t[22985.876067]   \n",
            "474\t94    \t[1574.46834781]\t[9252.04199519] \t[0.00210277]\t[68782.45922319] \n",
            "475\t89    \t[87.77034726]  \t[604.2796057]   \t[0.00210277]\t[5540.64594921]  \n",
            "476\t93    \t[83.40211144]  \t[537.69081305]  \t[0.00210277]\t[4964.17423167]  \n",
            "477\t96    \t[226.47540201] \t[1246.85610027] \t[0.00210277]\t[7814.37276496]  \n",
            "478\t89    \t[273.32194987] \t[2150.77708355] \t[0.00210277]\t[21221.32788901] \n",
            "479\t93    \t[448.10295364] \t[2854.06637468] \t[0.00210277]\t[23861.55170633] \n",
            "480\t91    \t[717.6839121]  \t[3724.13764424] \t[0.00210277]\t[27698.157798]   \n",
            "481\t93    \t[220.77178222] \t[2150.93267103] \t[0.00210277]\t[21617.4464175]  \n",
            "482\t87    \t[240.32038699] \t[1617.6217673]  \t[0.00210277]\t[14991.62948337] \n",
            "483\t91    \t[284.83780811] \t[1790.19827149] \t[0.00210277]\t[15027.14097977] \n",
            "484\t93    \t[370.6696096]  \t[3032.76332753] \t[0.00210277]\t[29635.91717713] \n",
            "485\t86    \t[385.85106283] \t[3202.50307387] \t[0.00210277]\t[31648.08621516] \n",
            "486\t80    \t[146.21854774] \t[1183.5414505]  \t[0.00210277]\t[11746.22406313] \n",
            "487\t91    \t[847.72200369] \t[6000.7398431]  \t[0.00210277]\t[54094.47081339] \n",
            "488\t92    \t[46.71703445]  \t[464.80770144]  \t[0.00210277]\t[4671.49527051]  \n",
            "489\t94    \t[701.42480361] \t[3155.0885454]  \t[0.00210277]\t[23941.59192527] \n",
            "490\t95    \t[286.47258822] \t[1728.71430115] \t[0.00210277]\t[16285.65933087] \n",
            "491\t92    \t[284.45818011] \t[2127.22020518] \t[0.00210277]\t[20412.49284409] \n",
            "492\t84    \t[921.3897884]  \t[8708.16716984] \t[0.00210277]\t[87487.54704847] \n",
            "493\t87    \t[405.8449413]  \t[2772.24248503] \t[0.00210277]\t[26049.12550969] \n",
            "494\t92    \t[30.0196949]   \t[235.05995818]  \t[0.00210277]\t[2245.91351751]  \n",
            "495\t95    \t[140.21798045] \t[938.00661884]  \t[0.00210277]\t[8882.63930356]  \n",
            "496\t89    \t[170.39453384] \t[1695.38328298] \t[0.00210277]\t[17039.24521026] \n",
            "497\t87    \t[227.87261418] \t[1777.84674529] \t[0.00210277]\t[16945.17392101] \n",
            "498\t96    \t[49.61795616]  \t[268.76871054]  \t[0.00210277]\t[2182.24286553]  \n",
            "499\t88    \t[1188.33421031]\t[7081.75799966] \t[0.00210277]\t[52575.42893469] \n",
            "500\t91    \t[254.28349453] \t[1998.50010093] \t[0.00210277]\t[19258.57506657] \n",
            "最も良い個体は [0.9541440555522284, 0.9541442097783396]で、そのときの目的関数の値は (0.0021027676435756873,)\n"
          ]
        }
      ]
    },
    {
      "cell_type": "markdown",
      "metadata": {
        "id": "lcVmTgMkYi6f"
      },
      "source": [
        "### 例題1.15 Ackley test objective function\n",
        "https://deap.readthedocs.io/en/master/api/benchmarks.html#deap.benchmarks.ackley"
      ]
    },
    {
      "cell_type": "markdown",
      "metadata": {
        "id": "c4k2n9SBbr3j"
      },
      "source": [
        "グラフ描画  \n",
        "https://deap.readthedocs.io/en/master/code/benchmarks/ackley.py"
      ]
    },
    {
      "cell_type": "code",
      "metadata": {
        "colab": {
          "base_uri": "https://localhost:8080/",
          "height": 319
        },
        "id": "VWe9zVdSURVx",
        "outputId": "e8f200b1-9b87-47d3-c568-5adc8cf20964"
      },
      "source": [
        "from mpl_toolkits.mplot3d import Axes3D\n",
        "from matplotlib import cm\n",
        "from matplotlib.colors import LogNorm\n",
        "import matplotlib.pyplot as plt\n",
        "from deap.benchmarks import ackley\n",
        "\n",
        "try:\n",
        "    import numpy as np\n",
        "except:\n",
        "    exit()\n",
        "\n",
        "from deap import benchmarks\n",
        "\n",
        "def ackley_arg0(sol):\n",
        "    return benchmarks.ackley(sol)[0]\n",
        "\n",
        "fig = plt.figure()\n",
        "# ax = Axes3D(fig, azim = -29, elev = 50)\n",
        "ax = Axes3D(fig)\n",
        "X = np.arange(-30, 30, 0.5)\n",
        "Y = np.arange(-30, 30, 0.5)\n",
        "X, Y = np.meshgrid(X, Y)\n",
        "Z = np.fromiter(map(ackley_arg0, zip(X.flat,Y.flat)), dtype=np.float, count=X.shape[0]*X.shape[1]).reshape(X.shape)\n",
        "\n",
        "ax.plot_surface(X, Y, Z, rstride=1, cstride=1,  norm=LogNorm(), cmap=cm.jet, linewidth=0.2)\n",
        " \n",
        "plt.xlabel(\"x\")\n",
        "plt.ylabel(\"y\")\n",
        "\n",
        "plt.show()"
      ],
      "execution_count": 71,
      "outputs": [
        {
          "output_type": "display_data",
          "data": {
            "image/png": "[encoded data removed]",
            "text/plain": [
              "<Figure size 432x288 with 1 Axes>"
            ]
          },
          "metadata": {
            "needs_background": "light"
          }
        }
      ]
    },
    {
      "cell_type": "code",
      "metadata": {
        "colab": {
          "base_uri": "https://localhost:8080/"
        },
        "id": "E0BLNdHlbmQ-",
        "outputId": "e4aa7dc7-391c-4b08-ba38-63ed24b60b5d"
      },
      "source": [
        "creator.create(\"FitnessMin\", base.Fitness, weights=(-1.0,)) #最小化\n",
        "creator.create(\"Individual\", list, fitness=creator.FitnessMin)\n",
        "toolbox = base.Toolbox()\n",
        "toolbox.register(\"attribute\", random.uniform, -15,30) #xは a<=x<=b\n",
        "toolbox.register(\"individual\", tools.initRepeat, creator.Individual, toolbox.attribute, 2) #2変数がせいぜい\n",
        "toolbox.register(\"population\", tools.initRepeat, list, toolbox.individual)\n",
        "toolbox.register(\"select\", tools.selTournament, tournsize=10)\n",
        "toolbox.register(\"mate\", tools.cxBlend,alpha=0.3) #ブレンド交叉\n",
        "toolbox.register(\"mutate\", tools.mutGaussian, mu=[0.0, 0.0], sigma=[10.0,10.0], indpb=0.2)\n",
        "toolbox.register(\"evaluate\", ackley)\n",
        "random.seed(64)\n",
        "NGEN = 100 #繰り返し世代数\n",
        "POP = 100 #個体の数\n",
        "CXPB = 0.9 #交叉確率\n",
        "MUTPB = 0.1 #突然変異確率"
      ],
      "execution_count": 75,
      "outputs": [
        {
          "output_type": "stream",
          "name": "stderr",
          "text": [
            "/usr/local/lib/python3.7/dist-packages/deap/creator.py:141: RuntimeWarning: A class named 'FitnessMin' has already been created and it will be overwritten. Consider deleting previous creation of that class or rename it.\n",
            "  RuntimeWarning)\n",
            "/usr/local/lib/python3.7/dist-packages/deap/creator.py:141: RuntimeWarning: A class named 'Individual' has already been created and it will be overwritten. Consider deleting previous creation of that class or rename it.\n",
            "  RuntimeWarning)\n"
          ]
        }
      ]
    },
    {
      "cell_type": "code",
      "metadata": {
        "colab": {
          "base_uri": "https://localhost:8080/"
        },
        "id": "OcabSBkqdN7n",
        "outputId": "563b2e1c-5480-4d04-eb4d-3a7cc877c0d1"
      },
      "source": [
        "pop = toolbox.population(n=POP)\n",
        "for individual in pop:\n",
        "    individual.fitness.values = toolbox.evaluate(individual)\n",
        "hof = tools.ParetoFront()\n",
        "stats = tools.Statistics(lambda ind: ind.fitness.values)\n",
        "stats.register(\"avg\", np.mean, axis=0)\n",
        "stats.register(\"std\", np.std, axis=0)\n",
        "stats.register(\"min\", np.min, axis=0)\n",
        "stats.register(\"max\", np.max, axis=0)\n",
        "\n",
        "algorithms.eaSimple(pop, toolbox, cxpb=CXPB, mutpb=MUTPB, ngen=NGEN, stats=stats, halloffame=hof) #Simple GA\n",
        "best_ind = tools.selBest(pop, 1)[0]\n",
        "#結果表示\n",
        "print(\"最も良い個体は %sで、そのときの目的関数の値は %s\" % (best_ind, best_ind.fitness.values))"
      ],
      "execution_count": 76,
      "outputs": [
        {
          "output_type": "stream",
          "name": "stdout",
          "text": [
            "gen\tnevals\tavg          \tstd         \tmin         \tmax          \n",
            "0  \t0     \t[19.12769848]\t[2.93317242]\t[6.43510559]\t[22.10131928]\n",
            "1  \t92    \t[12.91516601]\t[4.02574676]\t[1.55214534]\t[21.3970931] \n",
            "2  \t93    \t[6.565852]   \t[3.00017777]\t[1.1538011] \t[19.77103453]\n",
            "3  \t90    \t[3.41228297] \t[1.45435086]\t[0.74841369]\t[9.98742721] \n",
            "4  \t90    \t[1.51011338] \t[1.92751412]\t[0.16101535]\t[18.96016441]\n",
            "5  \t91    \t[1.08875625] \t[3.2446978] \t[0.04515491]\t[18.38015243]\n",
            "6  \t93    \t[0.66989941] \t[2.90449273]\t[0.01728016]\t[20.19783313]\n",
            "7  \t92    \t[0.43129177] \t[2.77113256]\t[0.00621886]\t[20.02043421]\n",
            "8  \t93    \t[0.01695833] \t[0.00686854]\t[0.00195672]\t[0.03209867] \n",
            "9  \t96    \t[0.56244228] \t[3.01395355]\t[0.00075254]\t[19.42023125]\n",
            "10 \t91    \t[0.25604111] \t[1.91225686]\t[0.0003065] \t[17.674427]  \n",
            "11 \t92    \t[0.00064138] \t[0.00032613]\t[0.00018824]\t[0.00172461] \n",
            "12 \t93    \t[0.58441669] \t[3.14256901]\t[5.59124893e-05]\t[21.11038738]\n",
            "13 \t93    \t[0.78918115] \t[3.31349538]\t[1.72585916e-05]\t[18.89157062]\n",
            "14 \t91    \t[0.26752022] \t[1.8789647] \t[8.88698596e-06]\t[14.48964185]\n",
            "15 \t92    \t[0.78617451] \t[3.38158484]\t[5.09695996e-06]\t[19.60003799]\n",
            "16 \t89    \t[0.13927286] \t[1.38567037]\t[9.42548974e-07]\t[13.92651891]\n",
            "17 \t88    \t[0.19934839] \t[1.98346553]\t[2.00287189e-07]\t[19.93458127]\n",
            "18 \t95    \t[0.14084215] \t[1.29233127]\t[3.07998311e-08]\t[12.95029168]\n",
            "19 \t95    \t[0.531688]   \t[3.03726969]\t[1.15629821e-08]\t[19.81124838]\n",
            "20 \t89    \t[0.46357655] \t[2.8352858] \t[7.39008854e-09]\t[20.031691]  \n",
            "21 \t92    \t[0.20292167] \t[2.01904496]\t[1.96755323e-09]\t[20.29216533]\n",
            "22 \t87    \t[0.51396619] \t[2.59368087]\t[8.11620993e-10]\t[16.22317128]\n",
            "23 \t92    \t[0.1199834]  \t[1.19381978]\t[2.3759128e-10] \t[11.99834025]\n",
            "24 \t90    \t[0.68473658] \t[3.37105855]\t[1.14667387e-10]\t[18.97541397]\n",
            "25 \t95    \t[0.74266453] \t[3.50292771]\t[9.7788444e-11] \t[20.89447328]\n",
            "26 \t89    \t[0.3414421]  \t[2.2450636] \t[3.68984843e-11]\t[18.62985023]\n",
            "27 \t91    \t[0.38785655] \t[2.11869852]\t[1.5845103e-11] \t[15.09376615]\n",
            "28 \t93    \t[0.44767824] \t[2.94517313]\t[9.6349595e-12] \t[21.54197329]\n",
            "29 \t93    \t[0.36387583] \t[2.1209214] \t[5.72342174e-12]\t[15.18908011]\n",
            "30 \t92    \t[0.3593221]  \t[2.08529107]\t[4.22772928e-13]\t[15.37789785]\n",
            "31 \t96    \t[0.65248489] \t[3.01449568]\t[1.42108547e-13]\t[18.09411127]\n",
            "32 \t88    \t[0.19568954] \t[1.69957078]\t[3.19744231e-14]\t[16.89825037]\n",
            "33 \t87    \t[0.85844242] \t[3.46666045]\t[1.0658141e-14] \t[17.01657034]\n",
            "34 \t92    \t[0.34459449] \t[2.12725307]\t[7.10542736e-15]\t[18.17308333]\n",
            "35 \t99    \t[0.74302902] \t[3.33762786]\t[3.55271368e-15]\t[18.57585881]\n",
            "36 \t90    \t[0.25979855] \t[1.84067522]\t[0.]            \t[15.00010411]\n",
            "37 \t91    \t[0.21567609] \t[1.3003442] \t[0.]            \t[9.53302242] \n",
            "38 \t90    \t[0.05448264] \t[0.5420954] \t[0.]            \t[5.44826376] \n",
            "39 \t90    \t[0.11957144] \t[1.18972076]\t[0.]            \t[11.95714355]\n",
            "40 \t92    \t[0.75542557] \t[3.136756]  \t[0.]            \t[17.79718436]\n",
            "41 \t84    \t[0.09066295] \t[0.90208494]\t[0.]            \t[9.06629476] \n",
            "42 \t94    \t[0.2564883]  \t[2.07445541]\t[0.]            \t[20.17233693]\n",
            "43 \t90    \t[0.]         \t[0.]        \t[0.]            \t[0.]         \n",
            "44 \t85    \t[0.34874101] \t[2.44119323]\t[0.]            \t[17.47591955]\n",
            "45 \t93    \t[0.08646419] \t[0.86030784]\t[0.]            \t[8.64641917] \n",
            "46 \t84    \t[0.38605145] \t[2.08651424]\t[0.]            \t[15.53576066]\n",
            "47 \t93    \t[0.54957635] \t[2.47863388]\t[0.]            \t[15.68895265]\n",
            "48 \t100   \t[0.2880243]  \t[1.66235344]\t[0.]            \t[11.64890047]\n",
            "49 \t90    \t[0.323967]   \t[2.33393257]\t[0.]            \t[20.10004785]\n",
            "50 \t87    \t[0.80497084] \t[3.46297826]\t[0.]            \t[21.44405929]\n",
            "51 \t90    \t[0.28322495] \t[1.99798176]\t[0.]            \t[15.91237516]\n",
            "52 \t86    \t[0.4885613]  \t[2.57938465]\t[0.]            \t[18.48477739]\n",
            "53 \t90    \t[0.53574864] \t[2.63783873]\t[0.]            \t[19.74340786]\n",
            "54 \t93    \t[0.83715294] \t[3.38334543]\t[0.]            \t[19.89142072]\n",
            "55 \t98    \t[0.28929025] \t[2.0923244] \t[0.]            \t[18.18652747]\n",
            "56 \t92    \t[0.6617679]  \t[2.78093732]\t[0.]            \t[16.30077531]\n",
            "57 \t86    \t[0.26506086] \t[2.03004168]\t[0.]            \t[19.08893617]\n",
            "58 \t92    \t[0.21902846] \t[1.36667464]\t[0.]            \t[11.1457191] \n",
            "59 \t96    \t[0.48386542] \t[2.79959185]\t[0.]            \t[19.98431569]\n",
            "60 \t89    \t[0.3501262]  \t[2.45135778]\t[0.]            \t[17.84731039]\n",
            "61 \t92    \t[0.9028466]  \t[3.56978353]\t[0.]            \t[19.8754124] \n",
            "62 \t88    \t[0.89037844] \t[3.8009069] \t[0.]            \t[20.75376597]\n",
            "63 \t88    \t[1.11332244] \t[4.38568853]\t[0.]            \t[20.8191791] \n",
            "64 \t91    \t[0.172316]   \t[1.7145225] \t[0.]            \t[17.23159952]\n",
            "65 \t96    \t[0.67788591] \t[3.11952386]\t[0.]            \t[19.33129619]\n",
            "66 \t89    \t[0.680844]   \t[3.36822207]\t[0.]            \t[20.33634812]\n",
            "67 \t95    \t[0.34711642] \t[2.43769897]\t[0.]            \t[18.74102104]\n",
            "68 \t88    \t[0.20351021] \t[1.78109583]\t[0.]            \t[17.73493674]\n",
            "69 \t93    \t[0.2478623]  \t[1.8561474] \t[0.]            \t[17.05644519]\n",
            "70 \t96    \t[0.35008132] \t[2.46404157]\t[0.]            \t[19.32356115]\n",
            "71 \t86    \t[0.6831064]  \t[3.37494482]\t[0.]            \t[19.72483206]\n",
            "72 \t93    \t[0.63419519] \t[3.12392506]\t[0.]            \t[18.40384564]\n",
            "73 \t89    \t[0.19705586] \t[1.960681]  \t[0.]            \t[19.70558553]\n",
            "74 \t94    \t[0.72192249] \t[3.25754666]\t[0.]            \t[18.91932734]\n",
            "75 \t87    \t[0.]         \t[0.]        \t[0.]            \t[0.]         \n",
            "76 \t95    \t[0.57226566] \t[2.44125911]\t[0.]            \t[13.48148621]\n",
            "77 \t93    \t[0.93157902] \t[4.08871383]\t[0.]            \t[20.27633467]\n",
            "78 \t88    \t[0.25140884] \t[1.77293829]\t[0.]            \t[14.09025001]\n",
            "79 \t90    \t[0.20458716] \t[2.03561657]\t[0.]            \t[20.45871629]\n",
            "80 \t79    \t[0.29385812] \t[2.08729721]\t[0.]            \t[17.19822455]\n",
            "81 \t83    \t[0.19887775] \t[1.30877773]\t[0.]            \t[11.13528923]\n",
            "82 \t94    \t[0.1341509]  \t[1.08363511]\t[0.]            \t[10.53140628]\n",
            "83 \t92    \t[0.20096074] \t[1.99953407]\t[0.]            \t[20.09607356]\n",
            "84 \t94    \t[0.6850309]  \t[3.39967681]\t[0.]            \t[19.72210782]\n",
            "85 \t94    \t[0.43174238] \t[2.60994847]\t[0.]            \t[19.97010093]\n",
            "86 \t94    \t[0.4906547]  \t[2.84994618]\t[0.]            \t[21.06336076]\n",
            "87 \t90    \t[0.56289018] \t[3.21143862]\t[0.]            \t[20.90001943]\n",
            "88 \t95    \t[0.33147451] \t[1.71710868]\t[0.]            \t[13.75704126]\n",
            "89 \t94    \t[0.59614559] \t[3.00694022]\t[0.]            \t[20.44161772]\n",
            "90 \t83    \t[0.]         \t[0.]        \t[0.]            \t[0.]         \n",
            "91 \t95    \t[0.17556612] \t[1.74686084]\t[0.]            \t[17.55661198]\n",
            "92 \t95    \t[0.77611346] \t[3.5947258] \t[0.]            \t[19.93527918]\n",
            "93 \t90    \t[0.47712535] \t[2.79587584]\t[0.]            \t[19.93749545]\n",
            "94 \t94    \t[0.38095405] \t[2.06886582]\t[0.]            \t[15.65628642]\n",
            "95 \t94    \t[0.00057443] \t[0.00571546]\t[0.]            \t[0.05744251] \n",
            "96 \t93    \t[0.36907607] \t[2.22995233]\t[0.]            \t[18.1757641] \n",
            "97 \t86    \t[0.26576984] \t[1.8839661] \t[0.]            \t[15.38946166]\n",
            "98 \t89    \t[0.09146702] \t[0.91008536]\t[0.]            \t[9.14670197] \n",
            "99 \t89    \t[0.8753578]  \t[2.97030701]\t[0.]            \t[16.51327529]\n",
            "100\t88    \t[0.3878152]  \t[2.2343887] \t[0.]            \t[17.90738379]\n",
            "最も良い個体は [7.171080006694423e-17, 2.336652458941498e-16]で、そのときの目的関数の値は (0.0,)\n"
          ]
        }
      ]
    },
    {
      "cell_type": "code",
      "metadata": {
        "id": "fjNvUQ2xfPvv"
      },
      "source": [
        ""
      ],
      "execution_count": null,
      "outputs": []
    }
  ]
}