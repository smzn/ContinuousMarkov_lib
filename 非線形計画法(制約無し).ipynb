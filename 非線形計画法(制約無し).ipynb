{
  "nbformat": 4,
  "nbformat_minor": 0,
  "metadata": {
    "kernelspec": {
      "display_name": "Python 3",
      "language": "python",
      "name": "python3"
    },
    "language_info": {
      "codemirror_mode": {
        "name": "ipython",
        "version": 3
      },
      "file_extension": ".py",
      "mimetype": "text/x-python",
      "name": "python",
      "nbconvert_exporter": "python",
      "pygments_lexer": "ipython3",
      "version": "3.8.3"
    },
    "colab": {
      "name": "非線形計画法(制約無し).ipynb",
      "provenance": [],
      "collapsed_sections": []
    }
  },
  "cells": [
    {
      "cell_type": "markdown",
      "metadata": {
        "id": "6a54WxjPimLH"
      },
      "source": [
        "# 非線形計画法をpythonで実行するための方法"
      ]
    },
    {
      "cell_type": "markdown",
      "metadata": {
        "id": "YH0kWB9bimLJ"
      },
      "source": [
        "## 1. 非線形計画法 : 制約無し (目的関数が非線形)  \n",
        "Unconstrained minimization of multivariate scalar functions (minimize)  \n",
        "今回は  \n",
        "from scipy.optimize import minimize  \n",
        "でscipy.optimize を利用する。  \n",
        "https://docs.scipy.org/doc/scipy/reference/tutorial/optimize.html#unconstrained-minimization-of-multivariate-scalar-functions-minimize  \n",
        "今回は、Nelder-Mead Simplex algorithm (method='Nelder-Mead')を利用する  \n",
        "https://docs.scipy.org/doc/scipy/reference/optimize.minimize-neldermead.html"
      ]
    },
    {
      "cell_type": "markdown",
      "metadata": {
        "id": "0Il-eB46imLK"
      },
      "source": [
        "### 例題1.1 ローゼンブロック関数 $f(x) = \\sum_{i = 1}^{N-1}(100(x_{i+1} - x_i^2)^2 + (1 - x_i)^2)$  の最小値を求める。理論値は$x = 1$となる。"
      ]
    },
    {
      "cell_type": "code",
      "metadata": {
        "id": "ZwhKywSWimLK"
      },
      "source": [
        "import numpy as np\n",
        "from scipy.optimize import minimize"
      ],
      "execution_count": 1,
      "outputs": []
    },
    {
      "cell_type": "code",
      "metadata": {
        "id": "IxOOJYtSimLL"
      },
      "source": [
        "def rosenbrock(x):\n",
        "    value = 0\n",
        "    for i in range(len(x)-1):\n",
        "        value += 100 * (x[i+1] - x[i])**2 + (1 - x[i])**2.0\n",
        "    return value"
      ],
      "execution_count": 2,
      "outputs": []
    },
    {
      "cell_type": "code",
      "metadata": {
        "colab": {
          "base_uri": "https://localhost:8080/"
        },
        "id": "PnaGyJbXimLM",
        "outputId": "c212613d-850d-46d3-efe2-66949c165d12"
      },
      "source": [
        "x0 = np.array([1.3, 0.7, 0.8, 1.9, 1.2]) #5変数で実施する。今回の初期値\n",
        "res = minimize(rosenbrock, #目的関数\n",
        "               x0, #初期値 \n",
        "               method='nelder-mead', #最適化手法(今回は'Nelder-Mead')\n",
        "               options={'xatol': 1e-8, #収束判定値(Nelder-Mead法)\n",
        "                        'disp': True, #結果表示\n",
        "                        'maxiter': 500 #繰り返し回数\n",
        "                       })\n",
        "print(res['x'])"
      ],
      "execution_count": 3,
      "outputs": [
        {
          "output_type": "stream",
          "text": [
            "Optimization terminated successfully.\n",
            "         Current function value: 0.000000\n",
            "         Iterations: 456\n",
            "         Function evaluations: 735\n",
            "[1. 1. 1. 1. 1.]\n"
          ],
          "name": "stdout"
        }
      ]
    },
    {
      "cell_type": "markdown",
      "metadata": {
        "id": "k02xbzqximLN"
      },
      "source": [
        "### 例題1.2 $f(x_1, x_2) = \\frac{1}{2}(x_1 - x_2^2)^2 + \\frac{1}{4}(x_2 - 2)^4$  \n",
        "最小解は$(x_1, x_2) = (4, 2)$  \n",
        "矢部博 八巻直一, 非線形計画法, 朝倉書店, 1999, P32"
      ]
    },
    {
      "cell_type": "code",
      "metadata": {
        "id": "5jtEtBx3imLO"
      },
      "source": [
        "def f1_2(x):\n",
        "    return 1 / 2 * (x[0] - x[1]**2)**2 + 1 / 4 * (x[1] - 2)**4"
      ],
      "execution_count": 4,
      "outputs": []
    },
    {
      "cell_type": "code",
      "metadata": {
        "colab": {
          "base_uri": "https://localhost:8080/"
        },
        "id": "D0URnlcuimLP",
        "outputId": "84cf5137-1fae-42c9-de33-5a5f3d8434eb"
      },
      "source": [
        "x0 = np.array([1.3, 0.7]) #2変数で実施する。今回の初期値\n",
        "res = minimize(f1_2, #目的関数\n",
        "               x0, #初期値 \n",
        "               method='nelder-mead', #最適化手法(今回は'Nelder-Mead')\n",
        "               options={'xatol': 1e-8, #収束判定値(Nelder-Mead法)\n",
        "                        'disp': True, #結果表示\n",
        "                        'maxiter': 500 #繰り返し回数\n",
        "                       })\n",
        "print(res['x'])"
      ],
      "execution_count": 5,
      "outputs": [
        {
          "output_type": "stream",
          "text": [
            "Optimization terminated successfully.\n",
            "         Current function value: 0.000000\n",
            "         Iterations: 124\n",
            "         Function evaluations: 240\n",
            "[4.00000008 2.00000002]\n"
          ],
          "name": "stdout"
        }
      ]
    },
    {
      "cell_type": "markdown",
      "metadata": {
        "id": "Ks8DvD7wimLQ"
      },
      "source": [
        "### 例題1.3 $f(x_1, x_2) = x_1^2 + (x_2 - 1)^4 + x_1$\n",
        "最小解は$(x_1, x_2) = (-\\frac{1}{2}, 1)$  \n",
        "矢部博 八巻直一, 非線形計画法, 朝倉書店, 1999, P128"
      ]
    },
    {
      "cell_type": "code",
      "metadata": {
        "id": "L7TcAeagimLQ"
      },
      "source": [
        "def f1_3(x):\n",
        "    return x[0]**2 + (x[1] - 1)**4 + x[0]"
      ],
      "execution_count": 6,
      "outputs": []
    },
    {
      "cell_type": "code",
      "metadata": {
        "colab": {
          "base_uri": "https://localhost:8080/"
        },
        "id": "LBVzGlKbimLQ",
        "outputId": "b1dfa2e5-70ef-4ff9-9f88-d79599b9f330"
      },
      "source": [
        "x0 = np.array([1.3, 0.7]) #2変数で実施する。今回の初期値\n",
        "res = minimize(f1_3, #目的関数\n",
        "               x0, #初期値 \n",
        "               method='nelder-mead', #最適化手法(今回は'Nelder-Mead')\n",
        "               options={'xatol': 1e-8, #収束判定値(Nelder-Mead法)\n",
        "                        'disp': True, #結果表示\n",
        "                        'maxiter': 500 #繰り返し回数\n",
        "                       })\n",
        "print(res['x'])"
      ],
      "execution_count": 7,
      "outputs": [
        {
          "output_type": "stream",
          "text": [
            "Optimization terminated successfully.\n",
            "         Current function value: -0.250000\n",
            "         Iterations: 77\n",
            "         Function evaluations: 174\n",
            "[-0.5         1.00002561]\n"
          ],
          "name": "stdout"
        }
      ]
    },
    {
      "cell_type": "markdown",
      "metadata": {
        "id": "vUiFgGYOimLR"
      },
      "source": [
        "### 例題1.4 $f(\\mathbf{x}) = \\sum_{i = 1}^{n-1}(x_{i} - x_{i+1})^4 + \\sum_{i=1}^n (x_i - 1)^2$\n",
        "最小解は$\\mathbf{x}^* = (1, 1, \\cdots, 1)$  \n",
        "$n = 10$, 初期値 $x_0 = (-1, -1, \\cdots, -1, 0)$  \n",
        "矢部博 八巻直一, 非線形計画法, 朝倉書店, 1999, P131"
      ]
    },
    {
      "cell_type": "code",
      "metadata": {
        "id": "T3pMZHkmimLR"
      },
      "source": [
        "def f1_4(x):\n",
        "    sum0 = 0\n",
        "    sum1 = 0\n",
        "    for i in range(len(x)):\n",
        "        if i < len(x) - 1:\n",
        "            sum0 += (x[i] - x[i+1])**4\n",
        "        sum1 += (x[0] - 1)**2\n",
        "    return sum0 + sum1"
      ],
      "execution_count": 8,
      "outputs": []
    },
    {
      "cell_type": "code",
      "metadata": {
        "colab": {
          "base_uri": "https://localhost:8080/"
        },
        "id": "CoaF6r-CimLS",
        "outputId": "b0ba15e1-7efd-4f56-b9eb-6ecee55716f0"
      },
      "source": [
        "x0 = np.array([-1, -1, -1, -1, -1, -1, -1, -1, -1, 0]) #10変数で実施する。今回の初期値\n",
        "res = minimize(f1_4, #目的関数\n",
        "               x0, #初期値 \n",
        "               method='nelder-mead', #最適化手法(今回は'Nelder-Mead')\n",
        "               options={'xatol': 1e-8, #収束判定値(Nelder-Mead法)\n",
        "                        'disp': True, #結果表示\n",
        "                        'maxiter': 10000 #繰り返し回数\n",
        "                       })\n",
        "print(res['x'])"
      ],
      "execution_count": 9,
      "outputs": [
        {
          "output_type": "stream",
          "text": [
            "Optimization terminated successfully.\n",
            "         Current function value: 0.000000\n",
            "         Iterations: 7212\n",
            "         Function evaluations: 10001\n",
            "[1.         0.99999981 0.99999988 0.99999995 0.99999985 0.99999976\n",
            " 0.99999959 0.9999995  0.99999933 0.99999945]\n"
          ],
          "name": "stdout"
        }
      ]
    },
    {
      "cell_type": "markdown",
      "metadata": {
        "id": "JJwPQUjtjPBr"
      },
      "source": [
        "### 例題1.5 $f(x) = 2x_1^2 - x_1x_2 + 2x_2^2$  \n",
        "初期点 $(x_1, x_2) = (2, 3)$、最適解は $(x_1, x_2) = (0, 0)$のとき  \n",
        "坂和、西崎 : 数理計画法入門、森北出版、P126 例4.11"
      ]
    },
    {
      "cell_type": "code",
      "metadata": {
        "id": "ZY_tGVrLimLS"
      },
      "source": [
        "def f1_5(x):\n",
        "  return 2 * x[0]**2 -x[0] * x[1] + 2 * x[1]**2"
      ],
      "execution_count": 10,
      "outputs": []
    },
    {
      "cell_type": "code",
      "metadata": {
        "colab": {
          "base_uri": "https://localhost:8080/"
        },
        "id": "eWJMik52kI9a",
        "outputId": "174ad0d1-cb2e-43af-8be7-df0e23e6fb69"
      },
      "source": [
        "x0 = np.array([2, 3]) #2変数で実施する。今回の初期値\n",
        "res = minimize(f1_5, #目的関数\n",
        "               x0, #初期値 \n",
        "               method='nelder-mead', #最適化手法(今回は'Nelder-Mead')\n",
        "               options={'xatol': 1e-8, #収束判定値(Nelder-Mead法)\n",
        "                        'disp': True, #結果表示\n",
        "                        'maxiter': 10000 #繰り返し回数\n",
        "                       })\n",
        "print(res['x'])"
      ],
      "execution_count": 11,
      "outputs": [
        {
          "output_type": "stream",
          "text": [
            "Optimization terminated successfully.\n",
            "         Current function value: 0.000000\n",
            "         Iterations: 70\n",
            "         Function evaluations: 135\n",
            "[ 5.34851632e-10 -3.86452770e-09]\n"
          ],
          "name": "stdout"
        }
      ]
    },
    {
      "cell_type": "markdown",
      "metadata": {
        "id": "3juTeVgteZEE"
      },
      "source": [
        "## ニュートン法について\n",
        "ニュートン法の公式  \n",
        "$H \\Delta x = -\\nabla f$  \n",
        "$\\Delta x = -H^{-1} \\nabla f$  \n",
        "ニュートン法の更新式  \n",
        "$x_{n + 1} = x_n - H^{-1} \\nabla f$"
      ]
    },
    {
      "cell_type": "code",
      "metadata": {
        "id": "pIx8e9pGkRiG"
      },
      "source": [
        "import sympy\n",
        "def custom_latex_printer(exp,**options):\n",
        "    from google.colab.output._publish import javascript\n",
        "    url = \"https://cdnjs.cloudflare.com/ajax/libs/mathjax/2.7.3/latest.js?config=default\"\n",
        "    javascript(url=url)\n",
        "    return sympy.printing.latex(exp,**options)\n",
        "\n",
        "sympy.init_printing(use_latex=\"mathjax\",latex_printer=custom_latex_printer)"
      ],
      "execution_count": 12,
      "outputs": []
    },
    {
      "cell_type": "markdown",
      "metadata": {
        "id": "LO7jFoNCTfsU"
      },
      "source": [
        "### ニュートン法アルゴリズム\n",
        "\n",
        "\n",
        "1.   $x$の初期値を与える\n",
        "2.   勾配$\\nabla f$とヘッセ行列$H$の$x$における値を計算する\n",
        "3.   次の連立方程式の解$\\Delta x$を計算する。またはヘッセ行列の逆行列$H^{-1}$を求めて、$\\Delta x = -H^{-1}\\nabla f$を計算する\n",
        "4.   $x$を次の式で更新する。$x \\leftarrow x + \\Delta x$または、$x \\leftarrow x - H^{-1}\\nabla f$\n",
        "5.   $||\\Delta x|| < \\delta$ なら$x$を返して終了する。そうでなければステップ2に戻る\n",
        "\n",
        "金谷、これならわかる最適化数学、共立出版、P90 アルゴリズム3.4 多変数のニュートン法\n",
        "\n",
        "ニュートン法は収束が非常に速い優れた方法であるが、欠点が２つある。\n",
        "\n",
        "\n",
        "1.   ヘッセ行列を計算するために、全ての2階導関数が必要になる\n",
        "2.   ヘッセ行列からその逆関数を計算しなければならない。逆行列を計算することは連立１次方程式の回を求めることに等価であり、一般には$n$個の変数に対して、$n^3$に比例する回数の演算が必要になる。\n",
        "\n",
        "\n",
        "\n",
        "\n",
        "\n",
        "\n"
      ]
    },
    {
      "cell_type": "markdown",
      "metadata": {
        "id": "HE6hczdA_8Ap"
      },
      "source": [
        "### 例題1.6 ニュートン法\n",
        "数理計画法入門、森北 P129 例4.12  \n",
        "$f(x) = 2x_1^2 - x_1 x_2 + 2x_2^2$  \n",
        "最適解 $(x_1, x_2) = (0, 0)$\n",
        "\n",
        "ニュートン法では、ヘッセ行列の逆行列を計算するので、1回当たりの計算量が多くて、しかもかなりの記憶容量を必要とする欠点がある。またヘッセ行列が正定でなければ、降下方向を定めるために行列に修正を施さなければならない。"
      ]
    },
    {
      "cell_type": "code",
      "metadata": {
        "colab": {
          "base_uri": "https://localhost:8080/",
          "height": 39
        },
        "id": "o6jcvJQ7-ky3",
        "outputId": "f2a3ae70-06f0-44be-fc25-b4d8b3912a96"
      },
      "source": [
        "sympy.var('x1')\n",
        "sympy.var('x2')\n",
        "f = 2*x1**2 -x1*x2 + 2*x2**2 #数理計画法入門\n",
        "f "
      ],
      "execution_count": 27,
      "outputs": [
        {
          "output_type": "display_data",
          "data": {
            "text/html": [
              "<script src='https://cdnjs.cloudflare.com/ajax/libs/mathjax/2.7.3/latest.js?config=default'></script>"
            ],
            "text/plain": [
              "<IPython.core.display.HTML object>"
            ]
          },
          "metadata": {}
        },
        {
          "output_type": "execute_result",
          "data": {
            "text/latex": "$\\displaystyle 2 x_{1}^{2} - x_{1} x_{2} + 2 x_{2}^{2}$",
            "text/plain": [
              "    2               2\n",
              "2⋅x₁  - x₁⋅x₂ + 2⋅x₂ "
            ]
          },
          "metadata": {},
          "execution_count": 27
        }
      ]
    },
    {
      "cell_type": "code",
      "metadata": {
        "id": "dsMlUf4b_tua"
      },
      "source": [
        "#微分\n",
        "dfx1 = sympy.diff(f, x1, 1)\n",
        "dfx2 = sympy.diff(f, x2, 1)\n",
        "d2fx1 = sympy.diff(f, x1, 2)\n",
        "d2fx1x2 = sympy.diff(f, x1, x2, 1)\n",
        "d2fx2 = sympy.diff(f, x2, 2)"
      ],
      "execution_count": 28,
      "outputs": []
    },
    {
      "cell_type": "code",
      "metadata": {
        "colab": {
          "base_uri": "https://localhost:8080/",
          "height": 57
        },
        "id": "olthHf-M_txG",
        "outputId": "e54a68ba-631e-49c4-c01d-5389a379d686"
      },
      "source": [
        "#Δf\n",
        "deltaf = sympy.Matrix([dfx1, dfx2])\n",
        "deltaf"
      ],
      "execution_count": 29,
      "outputs": [
        {
          "output_type": "display_data",
          "data": {
            "text/html": [
              "<script src='https://cdnjs.cloudflare.com/ajax/libs/mathjax/2.7.3/latest.js?config=default'></script>"
            ],
            "text/plain": [
              "<IPython.core.display.HTML object>"
            ]
          },
          "metadata": {}
        },
        {
          "output_type": "execute_result",
          "data": {
            "text/latex": "$\\displaystyle \\left[\\begin{matrix}4 x_{1} - x_{2}\\\\- x_{1} + 4 x_{2}\\end{matrix}\\right]$",
            "text/plain": [
              "⎡4⋅x₁ - x₂ ⎤\n",
              "⎢          ⎥\n",
              "⎣-x₁ + 4⋅x₂⎦"
            ]
          },
          "metadata": {},
          "execution_count": 29
        }
      ]
    },
    {
      "cell_type": "code",
      "metadata": {
        "colab": {
          "base_uri": "https://localhost:8080/",
          "height": 57
        },
        "id": "rfR8U3rNAuPL",
        "outputId": "722f3c7b-7812-4280-e957-fa13446bc85c"
      },
      "source": [
        "#ヘッセ行列\n",
        "H = sympy.Matrix([[d2fx1,d2fx1x2], [d2fx1x2, d2fx2]])\n",
        "H"
      ],
      "execution_count": 16,
      "outputs": [
        {
          "output_type": "display_data",
          "data": {
            "text/html": [
              "<script src='https://cdnjs.cloudflare.com/ajax/libs/mathjax/2.7.3/latest.js?config=default'></script>"
            ],
            "text/plain": [
              "<IPython.core.display.HTML object>"
            ]
          },
          "metadata": {}
        },
        {
          "output_type": "execute_result",
          "data": {
            "text/latex": "$\\displaystyle \\left[\\begin{matrix}4 & -1\\\\-1 & 4\\end{matrix}\\right]$",
            "text/plain": [
              "⎡4   -1⎤\n",
              "⎢      ⎥\n",
              "⎣-1  4 ⎦"
            ]
          },
          "metadata": {},
          "execution_count": 16
        }
      ]
    },
    {
      "cell_type": "code",
      "metadata": {
        "colab": {
          "base_uri": "https://localhost:8080/",
          "height": 58
        },
        "id": "Iy7b1rd4H2Hq",
        "outputId": "7ceddb40-1749-47f9-b25f-f8fe61d2f83f"
      },
      "source": [
        "#ヘッセ行列の逆行列\n",
        "H_inv = H.inv()\n",
        "H_inv"
      ],
      "execution_count": 17,
      "outputs": [
        {
          "output_type": "display_data",
          "data": {
            "text/html": [
              "<script src='https://cdnjs.cloudflare.com/ajax/libs/mathjax/2.7.3/latest.js?config=default'></script>"
            ],
            "text/plain": [
              "<IPython.core.display.HTML object>"
            ]
          },
          "metadata": {}
        },
        {
          "output_type": "execute_result",
          "data": {
            "text/latex": "$\\displaystyle \\left[\\begin{matrix}\\frac{4}{15} & \\frac{1}{15}\\\\\\frac{1}{15} & \\frac{4}{15}\\end{matrix}\\right]$",
            "text/plain": [
              "⎡4/15  1/15⎤\n",
              "⎢          ⎥\n",
              "⎣1/15  4/15⎦"
            ]
          },
          "metadata": {},
          "execution_count": 17
        }
      ]
    },
    {
      "cell_type": "code",
      "metadata": {
        "id": "5wXqAqBVIcQy"
      },
      "source": [
        "#ヘッセ行列の逆行列の値を返す\n",
        "def getHinv(val):\n",
        "  return H_inv.subs({x1:val[0], x2: val[1]})"
      ],
      "execution_count": 18,
      "outputs": []
    },
    {
      "cell_type": "code",
      "metadata": {
        "id": "oxxJxDaEJHC4"
      },
      "source": [
        "#Δfの値を返す関数\n",
        "def getDf(val):\n",
        "  return [dfx1.subs({x1:val[0], x2:val[1]}), dfx2.subs({x1:val[0],x2:val[1]})]"
      ],
      "execution_count": 19,
      "outputs": []
    },
    {
      "cell_type": "code",
      "metadata": {
        "id": "GwaOJ21WKpdb"
      },
      "source": [
        "#ヘッセ行列の逆行列とΔfの積を返す関数\n",
        "def getHinvDeltaf(val):\n",
        "  return np.dot(np.array(getHinv(val).tolist(), dtype=float), np.array(getDf(val), dtype=float))"
      ],
      "execution_count": 20,
      "outputs": []
    },
    {
      "cell_type": "code",
      "metadata": {
        "colab": {
          "base_uri": "https://localhost:8080/"
        },
        "id": "Ec32WFoPM5A2",
        "outputId": "c0c71600-d8d5-46ce-a2e0-01bf8c15ed08"
      },
      "source": [
        "getHinvDeltaf([2,3]) "
      ],
      "execution_count": 30,
      "outputs": [
        {
          "output_type": "execute_result",
          "data": {
            "text/plain": [
              "array([2., 3.])"
            ]
          },
          "metadata": {},
          "execution_count": 30
        }
      ]
    },
    {
      "cell_type": "code",
      "metadata": {
        "colab": {
          "base_uri": "https://localhost:8080/"
        },
        "id": "qmOHmIP7MkN9",
        "outputId": "1e254dc2-e5b8-43a8-bec5-3c0df1a1c278"
      },
      "source": [
        "#ニュートン法で収束まで繰り返し\n",
        "x = np.array([2, 3], dtype=float)\n",
        "for i in range(10):\n",
        "  x -= getHinvDeltaf(x)\n",
        "  print('{0}回目のx = {1}'.format(i, x)) \n",
        "#この場合は1回で収束"
      ],
      "execution_count": 31,
      "outputs": [
        {
          "output_type": "stream",
          "text": [
            "0回目のx = [0. 0.]\n",
            "1回目のx = [0. 0.]\n",
            "2回目のx = [0. 0.]\n",
            "3回目のx = [0. 0.]\n",
            "4回目のx = [0. 0.]\n",
            "5回目のx = [0. 0.]\n",
            "6回目のx = [0. 0.]\n",
            "7回目のx = [0. 0.]\n",
            "8回目のx = [0. 0.]\n",
            "9回目のx = [0. 0.]\n"
          ],
          "name": "stdout"
        }
      ]
    },
    {
      "cell_type": "code",
      "metadata": {
        "id": "HIcovujLDpQt"
      },
      "source": [
        "#ヘッセ行列の値を返す関数 (複数の変数に代入するときは、辞書を使う)\n",
        "def getHesse(val):\n",
        "  return H.subs({x1:val[0], x2: val[1]})"
      ],
      "execution_count": 25,
      "outputs": []
    },
    {
      "cell_type": "markdown",
      "metadata": {
        "id": "P_Jw1wejipbw"
      },
      "source": [
        "### 例題1.7 ニュートン法\n",
        "福島、新版 数理計画入門 P118 表4.2  \n",
        "$f(x) = (x_1 - 1)^2 + 10(x_1^2 - x_2)^2$  \n",
        "最適解は$(x_1, x_2) = (1, 1)$のとき\n",
        "\n",
        "全ての点において、ヘッセ行列が半正定値になるような関数が凸関数であるから、全ての点においてヘッセ行列が正定値であるような関数は凸関数のさらに特別な場合にあたる。一般の非線形関数に対しては、ヘッセ行列の正定値性は普通局所的にしか保証されない。"
      ]
    },
    {
      "cell_type": "code",
      "metadata": {
        "colab": {
          "base_uri": "https://localhost:8080/",
          "height": 42
        },
        "id": "5QXQHml4EeRD",
        "outputId": "02494ca9-75d4-49ef-888c-9374d59c7471"
      },
      "source": [
        "sympy.var('x1')\n",
        "sympy.var('x2')\n",
        "f = (x1 -1)**2 + 10*(x1**2 -x2)**2\n",
        "f "
      ],
      "execution_count": 41,
      "outputs": [
        {
          "output_type": "display_data",
          "data": {
            "text/html": [
              "<script src='https://cdnjs.cloudflare.com/ajax/libs/mathjax/2.7.3/latest.js?config=default'></script>"
            ],
            "text/plain": [
              "<IPython.core.display.HTML object>"
            ]
          },
          "metadata": {}
        },
        {
          "output_type": "execute_result",
          "data": {
            "text/latex": "$\\displaystyle \\left(x_{1} - 1\\right)^{2} + 10 \\left(x_{1}^{2} - x_{2}\\right)^{2}$",
            "text/plain": [
              "                         2\n",
              "        2      ⎛  2     ⎞ \n",
              "(x₁ - 1)  + 10⋅⎝x₁  - x₂⎠ "
            ]
          },
          "metadata": {},
          "execution_count": 41
        }
      ]
    },
    {
      "cell_type": "code",
      "metadata": {
        "id": "R-cw-96MkISK"
      },
      "source": [
        "#微分\n",
        "dfx1 = sympy.diff(f, x1, 1)\n",
        "dfx2 = sympy.diff(f, x2, 1)\n",
        "d2fx1 = sympy.diff(f, x1, 2)\n",
        "d2fx1x2 = sympy.diff(f, x1, x2, 1)\n",
        "d2fx2 = sympy.diff(f, x2, 2)"
      ],
      "execution_count": 42,
      "outputs": []
    },
    {
      "cell_type": "code",
      "metadata": {
        "colab": {
          "base_uri": "https://localhost:8080/",
          "height": 58
        },
        "id": "XVCeq4KckR7x",
        "outputId": "719c34c7-797f-4635-ff14-76487f2ca3c0"
      },
      "source": [
        "#Δf\n",
        "deltaf = sympy.Matrix([dfx1, dfx2])\n",
        "deltaf"
      ],
      "execution_count": 43,
      "outputs": [
        {
          "output_type": "display_data",
          "data": {
            "text/html": [
              "<script src='https://cdnjs.cloudflare.com/ajax/libs/mathjax/2.7.3/latest.js?config=default'></script>"
            ],
            "text/plain": [
              "<IPython.core.display.HTML object>"
            ]
          },
          "metadata": {}
        },
        {
          "output_type": "execute_result",
          "data": {
            "text/latex": "$\\displaystyle \\left[\\begin{matrix}40 x_{1} \\left(x_{1}^{2} - x_{2}\\right) + 2 x_{1} - 2\\\\- 20 x_{1}^{2} + 20 x_{2}\\end{matrix}\\right]$",
            "text/plain": [
              "⎡      ⎛  2     ⎞           ⎤\n",
              "⎢40⋅x₁⋅⎝x₁  - x₂⎠ + 2⋅x₁ - 2⎥\n",
              "⎢                           ⎥\n",
              "⎢            2              ⎥\n",
              "⎣     - 20⋅x₁  + 20⋅x₂      ⎦"
            ]
          },
          "metadata": {},
          "execution_count": 43
        }
      ]
    },
    {
      "cell_type": "code",
      "metadata": {
        "colab": {
          "base_uri": "https://localhost:8080/",
          "height": 58
        },
        "id": "f74QoWjbkV4s",
        "outputId": "6788a903-bdb8-4235-8c11-6f8eacfba229"
      },
      "source": [
        "#ヘッセ行列\n",
        "H = sympy.Matrix([[d2fx1,d2fx1x2], [d2fx1x2, d2fx2]])\n",
        "H"
      ],
      "execution_count": 44,
      "outputs": [
        {
          "output_type": "display_data",
          "data": {
            "text/html": [
              "<script src='https://cdnjs.cloudflare.com/ajax/libs/mathjax/2.7.3/latest.js?config=default'></script>"
            ],
            "text/plain": [
              "<IPython.core.display.HTML object>"
            ]
          },
          "metadata": {}
        },
        {
          "output_type": "execute_result",
          "data": {
            "text/latex": "$\\displaystyle \\left[\\begin{matrix}2 \\left(60 x_{1}^{2} - 20 x_{2} + 1\\right) & - 40 x_{1}\\\\- 40 x_{1} & 20\\end{matrix}\\right]$",
            "text/plain": [
              "⎡  ⎛     2            ⎞        ⎤\n",
              "⎢2⋅⎝60⋅x₁  - 20⋅x₂ + 1⎠  -40⋅x₁⎥\n",
              "⎢                              ⎥\n",
              "⎣        -40⋅x₁            20  ⎦"
            ]
          },
          "metadata": {},
          "execution_count": 44
        }
      ]
    },
    {
      "cell_type": "code",
      "metadata": {
        "id": "-FnvNusWkfpy"
      },
      "source": [
        "#ヘッセ行列の値を返す関数 (複数の変数に代入するときは、辞書を使う)\n",
        "def getHesse(val):\n",
        "  return H.subs({x1:val[0], x2: val[1]})"
      ],
      "execution_count": 40,
      "outputs": []
    },
    {
      "cell_type": "code",
      "metadata": {
        "colab": {
          "base_uri": "https://localhost:8080/",
          "height": 71
        },
        "id": "_Uq7d6JBltLI",
        "outputId": "c7ffab75-b4a9-4fe1-a103-1bf524f93ce2"
      },
      "source": [
        "#ヘッセ行列の逆行列\n",
        "H_inv = H.inv()\n",
        "H_inv"
      ],
      "execution_count": 50,
      "outputs": [
        {
          "output_type": "display_data",
          "data": {
            "text/html": [
              "<script src='https://cdnjs.cloudflare.com/ajax/libs/mathjax/2.7.3/latest.js?config=default'></script>"
            ],
            "text/plain": [
              "<IPython.core.display.HTML object>"
            ]
          },
          "metadata": {}
        },
        {
          "output_type": "execute_result",
          "data": {
            "text/latex": "$\\displaystyle \\left[\\begin{matrix}\\frac{1}{40 x_{1}^{2} - 40 x_{2} + 2} & \\frac{x_{1}}{20 x_{1}^{2} - 20 x_{2} + 1}\\\\\\frac{x_{1}}{20 x_{1}^{2} - 20 x_{2} + 1} & \\frac{60 x_{1}^{2} - 20 x_{2} + 1}{400 x_{1}^{2} - 400 x_{2} + 20}\\end{matrix}\\right]$",
            "text/plain": [
              "⎡        1                    x₁          ⎤\n",
              "⎢──────────────────   ──────────────────  ⎥\n",
              "⎢     2                    2              ⎥\n",
              "⎢40⋅x₁  - 40⋅x₂ + 2   20⋅x₁  - 20⋅x₂ + 1  ⎥\n",
              "⎢                                         ⎥\n",
              "⎢                           2             ⎥\n",
              "⎢        x₁            60⋅x₁  - 20⋅x₂ + 1 ⎥\n",
              "⎢──────────────────  ─────────────────────⎥\n",
              "⎢     2                    2              ⎥\n",
              "⎣20⋅x₁  - 20⋅x₂ + 1  400⋅x₁  - 400⋅x₂ + 20⎦"
            ]
          },
          "metadata": {},
          "execution_count": 50
        }
      ]
    },
    {
      "cell_type": "code",
      "metadata": {
        "id": "rsLtCF3hl012"
      },
      "source": [
        "#ヘッセ行列の逆行列の値を返す\n",
        "def getHinv(val):\n",
        "  return H_inv.subs({x1:val[0], x2: val[1]})"
      ],
      "execution_count": 51,
      "outputs": []
    },
    {
      "cell_type": "code",
      "metadata": {
        "id": "V0pK1hh0l59e"
      },
      "source": [
        "#Δfの値を返す関数\n",
        "def getDf(val):\n",
        "  return [dfx1.subs({x1:val[0], x2:val[1]}), dfx2.subs({x1:val[0],x2:val[1]})]"
      ],
      "execution_count": 52,
      "outputs": []
    },
    {
      "cell_type": "code",
      "metadata": {
        "id": "uf_nCZM_l-0Y"
      },
      "source": [
        "#ヘッセ行列の逆行列とΔfの積を返す関数\n",
        "def getHinvDeltaf(val):\n",
        "  return np.dot(np.array(getHinv(val).tolist(), dtype=float), np.array(getDf(val), dtype=float))"
      ],
      "execution_count": 53,
      "outputs": []
    },
    {
      "cell_type": "code",
      "metadata": {
        "colab": {
          "base_uri": "https://localhost:8080/"
        },
        "id": "pe7mbO5nmCwx",
        "outputId": "2cf28cac-e013-4d25-d47e-5decbf2996b0"
      },
      "source": [
        "#ニュートン法で収束まで繰り返し\n",
        "x = np.array([0, 0], dtype=float)\n",
        "for i in range(10):\n",
        "  x -= getHinvDeltaf(x)\n",
        "  print('{0}回目のx = {1}'.format(i, x)) \n",
        "#この場合は1回で収束"
      ],
      "execution_count": 56,
      "outputs": [
        {
          "output_type": "stream",
          "text": [
            "0回目のx = [1. 0.]\n",
            "1回目のx = [1. 1.]\n",
            "2回目のx = [1. 1.]\n",
            "3回目のx = [1. 1.]\n",
            "4回目のx = [1. 1.]\n",
            "5回目のx = [1. 1.]\n",
            "6回目のx = [1. 1.]\n",
            "7回目のx = [1. 1.]\n",
            "8回目のx = [1. 1.]\n",
            "9回目のx = [1. 1.]\n"
          ],
          "name": "stdout"
        }
      ]
    },
    {
      "cell_type": "code",
      "metadata": {
        "id": "EOirpZGOlP6r"
      },
      "source": [
        ""
      ],
      "execution_count": null,
      "outputs": []
    }
  ]
}