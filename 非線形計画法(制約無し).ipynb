{
  "nbformat": 4,
  "nbformat_minor": 0,
  "metadata": {
    "kernelspec": {
      "display_name": "Python 3",
      "language": "python",
      "name": "python3"
    },
    "language_info": {
      "codemirror_mode": {
        "name": "ipython",
        "version": 3
      },
      "file_extension": ".py",
      "mimetype": "text/x-python",
      "name": "python",
      "nbconvert_exporter": "python",
      "pygments_lexer": "ipython3",
      "version": "3.8.3"
    },
    "colab": {
      "name": "非線形計画法(制約無し).ipynb",
      "provenance": [],
      "collapsed_sections": []
    }
  },
  "cells": [
    {
      "cell_type": "markdown",
      "metadata": {
        "id": "6a54WxjPimLH"
      },
      "source": [
        "# 非線形計画法をpythonで実行するための方法"
      ]
    },
    {
      "cell_type": "markdown",
      "metadata": {
        "id": "YH0kWB9bimLJ"
      },
      "source": [
        "## 1. 非線形計画法 : 制約無し (目的関数が非線形)  \n",
        "Unconstrained minimization of multivariate scalar functions (minimize)  \n",
        "今回は  \n",
        "from scipy.optimize import minimize  \n",
        "でscipy.optimize を利用する。  \n",
        "https://docs.scipy.org/doc/scipy/reference/tutorial/optimize.html#unconstrained-minimization-of-multivariate-scalar-functions-minimize  \n",
        "今回は、Nelder-Mead Simplex algorithm (method='Nelder-Mead')を利用する  \n",
        "https://docs.scipy.org/doc/scipy/reference/optimize.minimize-neldermead.html"
      ]
    },
    {
      "cell_type": "markdown",
      "metadata": {
        "id": "0Il-eB46imLK"
      },
      "source": [
        "### 例題1.1 ローゼンブロック関数 $f(x) = \\sum_{i = 1}^{N-1}(100(x_{i+1} - x_i^2)^2 + (1 - x_i)^2)$  の最小値を求める。理論値は$x = 1$となる。"
      ]
    },
    {
      "cell_type": "code",
      "metadata": {
        "id": "ZwhKywSWimLK"
      },
      "source": [
        "import numpy as np\n",
        "from scipy.optimize import minimize"
      ],
      "execution_count": 1,
      "outputs": []
    },
    {
      "cell_type": "code",
      "metadata": {
        "id": "IxOOJYtSimLL"
      },
      "source": [
        "def rosenbrock(x):\n",
        "    value = 0\n",
        "    for i in range(len(x)-1):\n",
        "        value += 100 * (x[i+1] - x[i])**2 + (1 - x[i])**2.0\n",
        "    return value"
      ],
      "execution_count": 2,
      "outputs": []
    },
    {
      "cell_type": "code",
      "metadata": {
        "colab": {
          "base_uri": "https://localhost:8080/"
        },
        "id": "PnaGyJbXimLM",
        "outputId": "aa1e2d1f-6c21-4207-9ed2-84edc8be8f15"
      },
      "source": [
        "x0 = np.array([1.3, 0.7, 0.8, 1.9, 1.2]) #5変数で実施する。今回の初期値\n",
        "res = minimize(rosenbrock, #目的関数\n",
        "               x0, #初期値 \n",
        "               method='nelder-mead', #最適化手法(今回は'Nelder-Mead')\n",
        "               options={'xatol': 1e-8, #収束判定値(Nelder-Mead法)\n",
        "                        'disp': True, #結果表示\n",
        "                        'maxiter': 500 #繰り返し回数\n",
        "                       })\n",
        "print(res['x'])"
      ],
      "execution_count": 3,
      "outputs": [
        {
          "output_type": "stream",
          "text": [
            "Optimization terminated successfully.\n",
            "         Current function value: 0.000000\n",
            "         Iterations: 456\n",
            "         Function evaluations: 735\n",
            "[1. 1. 1. 1. 1.]\n"
          ],
          "name": "stdout"
        }
      ]
    },
    {
      "cell_type": "markdown",
      "metadata": {
        "id": "k02xbzqximLN"
      },
      "source": [
        "### 例題1.2 $f(x_1, x_2) = \\frac{1}{2}(x_1 - x_2^2)^2 + \\frac{1}{4}(x_2 - 2)^4$  \n",
        "最小解は$(x_1, x_2) = (4, 2)$  \n",
        "矢部博 八巻直一, 非線形計画法, 朝倉書店, 1999, P32"
      ]
    },
    {
      "cell_type": "code",
      "metadata": {
        "id": "5jtEtBx3imLO"
      },
      "source": [
        "def f1_2(x):\n",
        "    return 1 / 2 * (x[0] - x[1]**2)**2 + 1 / 4 * (x[1] - 2)**4"
      ],
      "execution_count": 4,
      "outputs": []
    },
    {
      "cell_type": "code",
      "metadata": {
        "colab": {
          "base_uri": "https://localhost:8080/"
        },
        "id": "D0URnlcuimLP",
        "outputId": "b9ca2db4-8c06-4046-bd78-764a5a845263"
      },
      "source": [
        "x0 = np.array([1.3, 0.7]) #2変数で実施する。今回の初期値\n",
        "res = minimize(f1_2, #目的関数\n",
        "               x0, #初期値 \n",
        "               method='nelder-mead', #最適化手法(今回は'Nelder-Mead')\n",
        "               options={'xatol': 1e-8, #収束判定値(Nelder-Mead法)\n",
        "                        'disp': True, #結果表示\n",
        "                        'maxiter': 500 #繰り返し回数\n",
        "                       })\n",
        "print(res['x'])"
      ],
      "execution_count": 5,
      "outputs": [
        {
          "output_type": "stream",
          "text": [
            "Optimization terminated successfully.\n",
            "         Current function value: 0.000000\n",
            "         Iterations: 124\n",
            "         Function evaluations: 240\n",
            "[4.00000008 2.00000002]\n"
          ],
          "name": "stdout"
        }
      ]
    },
    {
      "cell_type": "markdown",
      "metadata": {
        "id": "Ks8DvD7wimLQ"
      },
      "source": [
        "### 例題1.3 $f(x_1, x_2) = x_1^2 + (x_2 - 1)^4 + x_1$\n",
        "最小解は$(x_1, x_2) = (-\\frac{1}{2}, 1)$  \n",
        "矢部博 八巻直一, 非線形計画法, 朝倉書店, 1999, P128"
      ]
    },
    {
      "cell_type": "code",
      "metadata": {
        "id": "L7TcAeagimLQ"
      },
      "source": [
        "def f1_3(x):\n",
        "    return x[0]**2 + (x[1] - 1)**4 + x[0]"
      ],
      "execution_count": 6,
      "outputs": []
    },
    {
      "cell_type": "code",
      "metadata": {
        "colab": {
          "base_uri": "https://localhost:8080/"
        },
        "id": "LBVzGlKbimLQ",
        "outputId": "08050684-3bc9-4ff3-d810-bb609a09ca8b"
      },
      "source": [
        "x0 = np.array([1.3, 0.7]) #2変数で実施する。今回の初期値\n",
        "res = minimize(f1_3, #目的関数\n",
        "               x0, #初期値 \n",
        "               method='nelder-mead', #最適化手法(今回は'Nelder-Mead')\n",
        "               options={'xatol': 1e-8, #収束判定値(Nelder-Mead法)\n",
        "                        'disp': True, #結果表示\n",
        "                        'maxiter': 500 #繰り返し回数\n",
        "                       })\n",
        "print(res['x'])"
      ],
      "execution_count": 7,
      "outputs": [
        {
          "output_type": "stream",
          "text": [
            "Optimization terminated successfully.\n",
            "         Current function value: -0.250000\n",
            "         Iterations: 77\n",
            "         Function evaluations: 174\n",
            "[-0.5         1.00002561]\n"
          ],
          "name": "stdout"
        }
      ]
    },
    {
      "cell_type": "markdown",
      "metadata": {
        "id": "vUiFgGYOimLR"
      },
      "source": [
        "### 例題1.4 $f(\\mathbf{x}) = \\sum_{i = 1}^{n-1}(x_{i} - x_{i+1})^4 + \\sum_{i=1}^n (x_i - 1)^2$\n",
        "最小解は$\\mathbf{x}^* = (1, 1, \\cdots, 1)$  \n",
        "$n = 10$, 初期値 $x_0 = (-1, -1, \\cdots, -1, 0)$  \n",
        "矢部博 八巻直一, 非線形計画法, 朝倉書店, 1999, P131"
      ]
    },
    {
      "cell_type": "code",
      "metadata": {
        "id": "T3pMZHkmimLR"
      },
      "source": [
        "def f1_4(x):\n",
        "    sum0 = 0\n",
        "    sum1 = 0\n",
        "    for i in range(len(x)):\n",
        "        if i < len(x) - 1:\n",
        "            sum0 += (x[i] - x[i+1])**4\n",
        "        sum1 += (x[0] - 1)**2\n",
        "    return sum0 + sum1"
      ],
      "execution_count": 8,
      "outputs": []
    },
    {
      "cell_type": "code",
      "metadata": {
        "colab": {
          "base_uri": "https://localhost:8080/"
        },
        "id": "CoaF6r-CimLS",
        "outputId": "c908a863-9e7a-461d-95bf-0069aa9858a5"
      },
      "source": [
        "x0 = np.array([-1, -1, -1, -1, -1, -1, -1, -1, -1, 0]) #10変数で実施する。今回の初期値\n",
        "res = minimize(f1_4, #目的関数\n",
        "               x0, #初期値 \n",
        "               method='nelder-mead', #最適化手法(今回は'Nelder-Mead')\n",
        "               options={'xatol': 1e-8, #収束判定値(Nelder-Mead法)\n",
        "                        'disp': True, #結果表示\n",
        "                        'maxiter': 10000 #繰り返し回数\n",
        "                       })\n",
        "print(res['x'])"
      ],
      "execution_count": 9,
      "outputs": [
        {
          "output_type": "stream",
          "text": [
            "Optimization terminated successfully.\n",
            "         Current function value: 0.000000\n",
            "         Iterations: 7212\n",
            "         Function evaluations: 10001\n",
            "[1.         0.99999981 0.99999988 0.99999995 0.99999985 0.99999976\n",
            " 0.99999959 0.9999995  0.99999933 0.99999945]\n"
          ],
          "name": "stdout"
        }
      ]
    },
    {
      "cell_type": "markdown",
      "metadata": {
        "id": "JJwPQUjtjPBr"
      },
      "source": [
        "### 例題1.5 $f(x) = 2x_1^2 - x_1x_2 + 2x_2^2$  \n",
        "初期点 $(x_1, x_2) = (2, 3)$、最適解は $(x_1, x_2) = (0, 0)$のとき  \n",
        "坂和、西崎 : 数理計画法入門、森北出版、P126 例4.11"
      ]
    },
    {
      "cell_type": "code",
      "metadata": {
        "id": "ZY_tGVrLimLS"
      },
      "source": [
        "def f1_5(x):\n",
        "  return 2 * x[0]**2 -x[0] * x[1] + 2 * x[1]**2"
      ],
      "execution_count": 10,
      "outputs": []
    },
    {
      "cell_type": "code",
      "metadata": {
        "colab": {
          "base_uri": "https://localhost:8080/"
        },
        "id": "eWJMik52kI9a",
        "outputId": "751a3682-f3b2-448e-d36c-4fa8f66c2c12"
      },
      "source": [
        "x0 = np.array([2, 3]) #2変数で実施する。今回の初期値\n",
        "res = minimize(f1_5, #目的関数\n",
        "               x0, #初期値 \n",
        "               method='nelder-mead', #最適化手法(今回は'Nelder-Mead')\n",
        "               options={'xatol': 1e-8, #収束判定値(Nelder-Mead法)\n",
        "                        'disp': True, #結果表示\n",
        "                        'maxiter': 10000 #繰り返し回数\n",
        "                       })\n",
        "print(res['x'])"
      ],
      "execution_count": 11,
      "outputs": [
        {
          "output_type": "stream",
          "text": [
            "Optimization terminated successfully.\n",
            "         Current function value: 0.000000\n",
            "         Iterations: 70\n",
            "         Function evaluations: 135\n",
            "[ 5.34851632e-10 -3.86452770e-09]\n"
          ],
          "name": "stdout"
        }
      ]
    },
    {
      "cell_type": "code",
      "metadata": {
        "id": "pIx8e9pGkRiG"
      },
      "source": [
        ""
      ],
      "execution_count": null,
      "outputs": []
    }
  ]
}