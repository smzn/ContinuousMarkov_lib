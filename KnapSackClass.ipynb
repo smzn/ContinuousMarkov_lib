{
  "nbformat": 4,
  "nbformat_minor": 0,
  "metadata": {
    "colab": {
      "name": "KnapSackClass.ipynb",
      "provenance": []
    },
    "kernelspec": {
      "name": "python3",
      "display_name": "Python 3"
    },
    "language_info": {
      "name": "python"
    }
  },
  "cells": [
    {
      "cell_type": "markdown",
      "metadata": {
        "id": "_jKHnoYjGncM"
      },
      "source": [
        "# 組み合わせ最適化\n",
        "組み合わせ最適化は、基本的に説明変数が整数値をとり最適化を行います。説明変数は0または1をとるときも多いです。典型的な例でナップザック問題をやってみます。"
      ]
    },
    {
      "cell_type": "markdown",
      "metadata": {
        "id": "Q40QSKSxIGX2"
      },
      "source": [
        "ナップザック問題では、  \n",
        "$N = \\{1,2, \\cdots , n\\}$個の品物、容量 $c (c > 0)$が与えられたとき  \n",
        "品物$i \\in N$の重さを$w_i$、価値を$v_i$とすると、  \n",
        "\n",
        "目的関数 (最大化)： $\\sum_{i = 1}^n v_i x_i$  \n",
        "制約条件 : $\\sum_{i = 1}^n w_i x_i \\leq c$  \n",
        "$x_i \\in \\{0, 1\\}, \\forall i \\in N$\n",
        "\n",
        "となります。  \n",
        "参考：今日から使える!組み合わせ最適化 離散問題ガイドブック 講談社　"
      ]
    },
    {
      "cell_type": "markdown",
      "metadata": {
        "id": "HTlbIhbNQl-z"
      },
      "source": [
        "### 例題\n",
        "Pythonで始めるプログラミング入門 コロナ社 P127 プログラム10-2 を改変 "
      ]
    },
    {
      "cell_type": "code",
      "metadata": {
        "colab": {
          "base_uri": "https://localhost:8080/"
        },
        "id": "DE4D8lPjEyso",
        "outputId": "1fa5f03f-f22c-4530-c89d-8b31d3171ca9"
      },
      "source": [
        "class KnapsackClass:\n",
        "\n",
        "  def __init__(self, name, weight, value, capacity):\n",
        "    self.name = name\n",
        "    self.weight = weight\n",
        "    self.value = value\n",
        "    self.capacity = capacity\n",
        "    self.all_list = [i for i in range(len(self.name))] #品物の要素番号\n",
        "\n",
        "  def getValue(self, cur_list): #現在リストの価値を返す\n",
        "    total = 0\n",
        "    for i in cur_list:\n",
        "      total += self.value[i]\n",
        "    return total\n",
        "\n",
        "  def getWeight(self, cur_list): #リストの重さを返す\n",
        "    total = 0\n",
        "    for i in cur_list:\n",
        "      total += self.weight[i]\n",
        "    return total\n",
        "\n",
        "  def getBestlist(self, l): #再帰呼び出しで最適なリストを作成\n",
        "    max_value = 0\n",
        "    bestl = l\n",
        "    for i in self.all_list:\n",
        "      if i in l: #重複を許さない\n",
        "        continue\n",
        "      if self.getWeight(l + [i]) > self.capacity:\n",
        "        continue\n",
        "      rl = self.getBestlist(l + [i]) #要素を追加\n",
        "      if max_value < self.getValue(rl):\n",
        "        max_value = self.getValue(rl)\n",
        "        bestl = rl\n",
        "    return bestl\n",
        "\n",
        "  def getResult(self, l):\n",
        "    value = 0\n",
        "    weight = 0\n",
        "    combi = []\n",
        "    for i in l:\n",
        "      value += self.value[i]\n",
        "      weight += self.weight[i]\n",
        "      combi.append(self.name[i])\n",
        "    return value, weight, combi\n",
        "\n",
        "if __name__ == '__main__':\n",
        "  name = ['チョコ', 'ポテトチップス', 'クッキー', 'ラムネ', 'ガム']\n",
        "  weight = [130, 120, 80, 30, 20]\n",
        "  value = [18, 15, 12, 4, 2]\n",
        "  capacity = 300\n",
        "  knap = KnapsackClass(name, weight, value, capacity)\n",
        "  bestlist = knap.getBestlist([])\n",
        "  #結果表示\n",
        "  value, weight, combi = knap.getResult(bestlist)\n",
        "  print('価値 = {0}, 重さ = {1}'.format(value, weight))\n",
        "  print('組み合わせ : {0}'.format(combi))"
      ],
      "execution_count": 1,
      "outputs": [
        {
          "output_type": "stream",
          "name": "stdout",
          "text": [
            "価値 = 39, 重さ = 300\n",
            "組み合わせ : ['チョコ', 'ポテトチップス', 'ラムネ', 'ガム']\n"
          ]
        }
      ]
    },
    {
      "cell_type": "markdown",
      "metadata": {
        "id": "Tk7Och7WQNSZ"
      },
      "source": [
        "## ソルバーを使ったナップザック問題"
      ]
    },
    {
      "cell_type": "code",
      "metadata": {
        "colab": {
          "base_uri": "https://localhost:8080/"
        },
        "id": "JDQHmm_qE51A",
        "outputId": "2183ea25-7936-46d5-a0ae-98eae8f31af6"
      },
      "source": [
        "#組み合わせ最適化用ライブラリのインストール\n",
        "!pip install pulp\n",
        "!pip install ortoolpy"
      ],
      "execution_count": 2,
      "outputs": [
        {
          "output_type": "stream",
          "name": "stdout",
          "text": [
            "Requirement already satisfied: pulp in /usr/local/lib/python3.7/dist-packages (2.5.0)\n",
            "Requirement already satisfied: ortoolpy in /usr/local/lib/python3.7/dist-packages (0.2.38)\n",
            "Requirement already satisfied: more-itertools<9.0.0,>=8.6.0 in /usr/local/lib/python3.7/dist-packages (from ortoolpy) (8.8.0)\n",
            "Requirement already satisfied: pulp<3.0.0,>=2.3.1 in /usr/local/lib/python3.7/dist-packages (from ortoolpy) (2.5.0)\n",
            "Requirement already satisfied: pandas<2.0.0,>=1.1.4 in /usr/local/lib/python3.7/dist-packages (from ortoolpy) (1.1.5)\n",
            "Requirement already satisfied: numpy>=1.15.4 in /usr/local/lib/python3.7/dist-packages (from pandas<2.0.0,>=1.1.4->ortoolpy) (1.19.5)\n",
            "Requirement already satisfied: pytz>=2017.2 in /usr/local/lib/python3.7/dist-packages (from pandas<2.0.0,>=1.1.4->ortoolpy) (2018.9)\n",
            "Requirement already satisfied: python-dateutil>=2.7.3 in /usr/local/lib/python3.7/dist-packages (from pandas<2.0.0,>=1.1.4->ortoolpy) (2.8.2)\n",
            "Requirement already satisfied: six>=1.5 in /usr/local/lib/python3.7/dist-packages (from python-dateutil>=2.7.3->pandas<2.0.0,>=1.1.4->ortoolpy) (1.15.0)\n"
          ]
        }
      ]
    },
    {
      "cell_type": "code",
      "metadata": {
        "colab": {
          "base_uri": "https://localhost:8080/"
        },
        "id": "LFMikamPQYjY",
        "outputId": "e2f269fd-32b9-470c-ca7e-ef2dafe4917b"
      },
      "source": [
        "#商品の重複を許していない場合\n",
        "from ortoolpy import knapsack\n",
        "name = ['チョコ', 'ポテトチップス', 'クッキー', 'ラムネ', 'ガム']\n",
        "price = [130, 120, 80, 30, 20]\n",
        "like = [18, 15, 12, 4, 2]\n",
        "capacity = 300\n",
        "result = knapsack(price, like, capacity)\n",
        "print('満足度 = {0}'.format(result[0]))\n",
        "weight = 0\n",
        "for i in result[1]:\n",
        "  print(name[i])\n",
        "  weight += price[i]\n",
        "print('値段 = {0}'.format(weight))"
      ],
      "execution_count": 3,
      "outputs": [
        {
          "output_type": "stream",
          "name": "stdout",
          "text": [
            "満足度 = 39.0\n",
            "チョコ\n",
            "ポテトチップス\n",
            "ラムネ\n",
            "ガム\n",
            "値段 = 300\n"
          ]
        }
      ]
    },
    {
      "cell_type": "markdown",
      "metadata": {
        "id": "By8gNpGWy-al"
      },
      "source": [
        "## deapを使った遺伝アルゴリズムでの組み合わせ最適化\n",
        "https://dse-souken.com/2021/05/25/ai-19/"
      ]
    },
    {
      "cell_type": "code",
      "metadata": {
        "id": "Rw9kEqDHQcne",
        "colab": {
          "base_uri": "https://localhost:8080/"
        },
        "outputId": "9f1de98c-b954-4e34-ce94-46361f1f1c67"
      },
      "source": [
        "!pip install deap"
      ],
      "execution_count": 4,
      "outputs": [
        {
          "output_type": "stream",
          "name": "stdout",
          "text": [
            "Requirement already satisfied: deap in /usr/local/lib/python3.7/dist-packages (1.3.1)\n",
            "Requirement already satisfied: numpy in /usr/local/lib/python3.7/dist-packages (from deap) (1.19.5)\n"
          ]
        }
      ]
    },
    {
      "cell_type": "code",
      "metadata": {
        "colab": {
          "base_uri": "https://localhost:8080/"
        },
        "id": "Mu1V1xaszVwq",
        "outputId": "edd67aad-ba45-44c9-cf39-baf53fc65cf3"
      },
      "source": [
        "import random\n",
        "import numpy\n",
        "from deap import algorithms\n",
        "from deap import base\n",
        "from deap import creator\n",
        "from deap import tools\n",
        "\n",
        "class KnapSackDeap:\n",
        "  def __init__(self, name, weight, value, capacity, NGEN, POP, CXPB, MUTPB):\n",
        "    self.name = name\n",
        "    self.weight = weight\n",
        "    self.value = value\n",
        "    self.capacity = capacity\n",
        "    self.NGEN = NGEN #世代数 (何世代計算するか)\n",
        "    self.POP = POP #個体数 (1世代の個体数)\n",
        "    self.CXPB = CXPB #交叉確率\n",
        "    self.MUTPB = MUTPB #突然変異確率\n",
        "    self.toolbox = base.Toolbox()\n",
        "\n",
        "    #GAモデルの設定\n",
        "    creator.create(\"FitnessMax\", base.Fitness, weights=(1.0,))\n",
        "    creator.create(\"Individual\", list, fitness=creator.FitnessMax)\n",
        "    #creator.create(\"Fitness\", base.Fitness, weights=(-1.0, 1.0)) \n",
        "    #2つある適応度の1つを最大化、もう1つを最小化する場合は、weights=(1.0,-1.0)と書く\n",
        "    #最小化の場合 creator.create(\"FitnessMin\", base.Fitness, weights=(-1.0,))\n",
        "    #最大化の場合 creator.create(\"FitnessMax\", base.Fitness, weights=(1.0,))\n",
        "    #creator.create(\"Individual\", set, fitness=creator.Fitness) #個体の定義\n",
        "    # creator.create(\"Individual\", list, fitness=creator.FitnessMin)\n",
        "    # creator.create(\"Individual\", list, fitness=creator.FitnessMax)\n",
        "\n",
        "    #アイテム辞書の作成\n",
        "    self.items = {}\n",
        "    for i in range(len(weight)):\n",
        "      self.items[i] = (weight[i], value[i])\n",
        "    random.seed(64) #乱数の種を初期化\n",
        "\n",
        "    #GAの設定\n",
        "    self.setGA()\n",
        "\n",
        "  def evalKnapsack(self, individual):#目的関数\n",
        "    weight = 0.0\n",
        "    value = 0.0\n",
        "    for i in range(len(self.items)):\n",
        "        weight += self.items[i][0] * individual[i]\n",
        "        value += self.items[i][1] * individual[i] \n",
        "    if weight > self.capacity:\n",
        "        value=0.0\n",
        "    return value,\n",
        "\n",
        "  def setGA(self):\n",
        "    self.toolbox.register(\"attribute\", random.randint, 0,1) #random.randintの別名を「attribute」として定義, 0,1の範囲で発生\n",
        "    self.toolbox.register(\"individual\", tools.initRepeat, creator.Individual, self.toolbox.attribute, len(self.items)) #individualの定義、len(items)=5なので、遺伝子の長さは5\n",
        "    self.toolbox.register(\"population\", tools.initRepeat, list, self.toolbox.individual) #populationの定義, listで遺伝子を渡す\n",
        "    self.toolbox.register(\"select\", tools.selTournament, tournsize=5) #選択の定義, tournsizeは当面5 \n",
        "    self.toolbox.register(\"mate\", tools.cxOnePoint) #交叉関数、今回は一点交叉\n",
        "    self.toolbox.register(\"mutate\", tools.mutUniformInt,low=0,up=1,indpb=0.2) #突然変異、変異は 0~1の整数で変異、各遺伝子の突然変異の確率は0.2\n",
        "    self.toolbox.register(\"evaluate\", self.evalKnapsack) #目的関数\n",
        "    self.pop = self.toolbox.population(n=self.POP) #集団数を変数に入れておく\n",
        "\n",
        "  def getGA(self):\n",
        "    for ind in self.pop: #集団内の個体の適応度（目的関数の値）を計算\n",
        "      ind.fitness.values = self.toolbox.evaluate(ind)\n",
        "    hof = tools.ParetoFront() #パレート曲線上の個体(良い結果の個体)をhofに格納\n",
        "    flow = algorithms.eaSimple(self.pop, self.toolbox, cxpb=CXPB, mutpb=MUTPB, ngen=NGEN, halloffame=hof) #Simple GAを利用\n",
        "    best_ind = tools.selBest(self.pop, 1)[0] #最終的な集団(pop)からベストな個体を1体選出する関数\n",
        "    return best_ind\n",
        "\n",
        "if __name__ == '__main__':\n",
        "  name = ['チョコ', 'ポテトチップス', 'クッキー', 'ラムネ', 'ガム']\n",
        "  weight = [130, 120, 80, 30, 20]\n",
        "  value = [18, 15, 12, 4, 2]\n",
        "  capacity = 300\n",
        "  NGEN = 50 #遺伝子数\n",
        "  POP = 80 #世代数\n",
        "  CXPB = 0.9 #交叉確率\n",
        "  MUTPB = 0.1 #突然変異確率\n",
        "  knap = KnapSackDeap(name, weight, value, capacity, NGEN, POP, CXPB, MUTPB)\n",
        "  best_ind = knap.getGA()\n",
        "  print('Best Gene : {0}, Objective = {1}'.format(best_ind, best_ind.fitness.values))\n",
        "  for i, val in enumerate(best_ind):\n",
        "    if val > 0:\n",
        "      print(name[i])"
      ],
      "execution_count": 5,
      "outputs": [
        {
          "output_type": "stream",
          "name": "stdout",
          "text": [
            "gen\tnevals\n",
            "0  \t0     \n",
            "1  \t72    \n",
            "2  \t70    \n",
            "3  \t73    \n",
            "4  \t70    \n",
            "5  \t72    \n",
            "6  \t74    \n",
            "7  \t73    \n",
            "8  \t70    \n",
            "9  \t69    \n",
            "10 \t76    \n",
            "11 \t76    \n",
            "12 \t72    \n",
            "13 \t78    \n",
            "14 \t77    \n",
            "15 \t74    \n",
            "16 \t74    \n",
            "17 \t73    \n",
            "18 \t76    \n",
            "19 \t78    \n",
            "20 \t74    \n",
            "21 \t74    \n",
            "22 \t71    \n",
            "23 \t72    \n",
            "24 \t68    \n",
            "25 \t76    \n",
            "26 \t75    \n",
            "27 \t69    \n",
            "28 \t74    \n",
            "29 \t73    \n",
            "30 \t74    \n",
            "31 \t72    \n",
            "32 \t78    \n",
            "33 \t74    \n",
            "34 \t64    \n",
            "35 \t74    \n",
            "36 \t74    \n",
            "37 \t73    \n",
            "38 \t69    \n",
            "39 \t71    \n",
            "40 \t72    \n",
            "41 \t80    \n",
            "42 \t73    \n",
            "43 \t73    \n",
            "44 \t69    \n",
            "45 \t72    \n",
            "46 \t71    \n",
            "47 \t72    \n",
            "48 \t73    \n",
            "49 \t73    \n",
            "50 \t78    \n",
            "Best Gene : [1, 1, 0, 1, 1], Objective = (39.0,)\n",
            "チョコ\n",
            "ポテトチップス\n",
            "ラムネ\n",
            "ガム\n"
          ]
        }
      ]
    },
    {
      "cell_type": "code",
      "metadata": {
        "id": "trrlvWmM08G1"
      },
      "source": [
        ""
      ],
      "execution_count": 5,
      "outputs": []
    }
  ]
}