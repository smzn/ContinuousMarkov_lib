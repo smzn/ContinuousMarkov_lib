{
  "nbformat": 4,
  "nbformat_minor": 0,
  "metadata": {
    "colab": {
      "name": "KnapSackClass.ipynb",
      "provenance": []
    },
    "kernelspec": {
      "name": "python3",
      "display_name": "Python 3"
    },
    "language_info": {
      "name": "python"
    }
  },
  "cells": [
    {
      "cell_type": "markdown",
      "metadata": {
        "id": "_jKHnoYjGncM"
      },
      "source": [
        "# 組み合わせ最適化\n",
        "組み合わせ最適化は、基本的に説明変数が整数値をとり最適化を行います。説明変数は0または1をとるときも多いです。典型的な例でナップザック問題をやってみます。"
      ]
    },
    {
      "cell_type": "markdown",
      "metadata": {
        "id": "Q40QSKSxIGX2"
      },
      "source": [
        "ナップザック問題では、  \n",
        "$N = \\{1,2, \\cdots , n\\}$個の品物、容量 $c (c > 0)$が与えられたとき  \n",
        "品物$i \\in N$の重さを$w_i$、価値を$v_i$とすると、  \n",
        "\n",
        "目的関数 (最大化)： $\\sum_{i = 1}^n v_i x_i$  \n",
        "制約条件 : $\\sum_{i = 1}^n w_i x_i \\leq c$  \n",
        "$x_i \\in \\{0, 1\\}, \\forall i \\in N$\n",
        "\n",
        "となります。  \n",
        "参考：今日から使える!組み合わせ最適化 離散問題ガイドブック 講談社　"
      ]
    },
    {
      "cell_type": "markdown",
      "metadata": {
        "id": "HTlbIhbNQl-z"
      },
      "source": [
        "### 例題\n",
        "Pythonで始めるプログラミング入門 コロナ社 P127 プログラム10-2 を改変 "
      ]
    },
    {
      "cell_type": "code",
      "metadata": {
        "colab": {
          "base_uri": "https://localhost:8080/"
        },
        "id": "DE4D8lPjEyso",
        "outputId": "334beae5-5d97-4267-b5a5-3385254843e6"
      },
      "source": [
        "class KnapsackClass:\n",
        "\n",
        "  def __init__(self, name, weight, value, capacity):\n",
        "    self.name = name\n",
        "    self.weight = weight\n",
        "    self.value = value\n",
        "    self.capacity = capacity\n",
        "    self.all_list = [i for i in range(len(self.name))] #品物の要素番号\n",
        "\n",
        "  def getValue(self, cur_list): #現在リストの価値を返す\n",
        "    total = 0\n",
        "    for i in cur_list:\n",
        "      total += self.value[i]\n",
        "    return total\n",
        "\n",
        "  def getWeight(self, cur_list): #リストの重さを返す\n",
        "    total = 0\n",
        "    for i in cur_list:\n",
        "      total += self.weight[i]\n",
        "    return total\n",
        "\n",
        "  def getBestlist(self, l): #再帰呼び出しで最適なリストを作成\n",
        "    max_value = 0\n",
        "    bestl = l\n",
        "    for i in self.all_list:\n",
        "      if i in l: #重複を許さない\n",
        "        continue\n",
        "      if self.getWeight(l + [i]) > self.capacity:\n",
        "        continue\n",
        "      rl = self.getBestlist(l + [i]) #要素を追加\n",
        "      if max_value < self.getValue(rl):\n",
        "        max_value = self.getValue(rl)\n",
        "        bestl = rl\n",
        "    return bestl\n",
        "\n",
        "  def getResult(self, l):\n",
        "    value = 0\n",
        "    weight = 0\n",
        "    combi = []\n",
        "    for i in l:\n",
        "      value += self.value[i]\n",
        "      weight += self.weight[i]\n",
        "      combi.append(self.name[i])\n",
        "    return value, weight, combi\n",
        "\n",
        "if __name__ == '__main__':\n",
        "  name = ['チョコ', 'ポテトチップス', 'クッキー', 'ラムネ', 'ガム']\n",
        "  weight = [130, 120, 80, 30, 20]\n",
        "  value = [18, 15, 12, 4, 2]\n",
        "  capacity = 300\n",
        "  knap = KnapsackClass(name, weight, value, capacity)\n",
        "  bestlist = knap.getBestlist([])\n",
        "  #結果表示\n",
        "  value, weight, combi = knap.getResult(bestlist)\n",
        "  print('価値 = {0}, 重さ = {1}'.format(value, weight))\n",
        "  print('組み合わせ : {0}'.format(combi))"
      ],
      "execution_count": 2,
      "outputs": [
        {
          "output_type": "stream",
          "text": [
            "価値 = 39, 重さ = 300\n",
            "組み合わせ : ['チョコ', 'ポテトチップス', 'ラムネ', 'ガム']\n"
          ],
          "name": "stdout"
        }
      ]
    },
    {
      "cell_type": "markdown",
      "metadata": {
        "id": "Tk7Och7WQNSZ"
      },
      "source": [
        "## ソルバーを使ったナップザック問題"
      ]
    },
    {
      "cell_type": "code",
      "metadata": {
        "colab": {
          "base_uri": "https://localhost:8080/"
        },
        "id": "JDQHmm_qE51A",
        "outputId": "8fd52d5c-3c1e-481e-8188-5e0e6b7d33aa"
      },
      "source": [
        "#組み合わせ最適化用ライブラリのインストール\n",
        "!pip install pulp\n",
        "!pip install ortoolpy"
      ],
      "execution_count": 5,
      "outputs": [
        {
          "output_type": "stream",
          "text": [
            "Collecting pulp\n",
            "  Downloading PuLP-2.5.0-py3-none-any.whl (41.2 MB)\n",
            "\u001b[K     |████████████████████████████████| 41.2 MB 71 kB/s \n",
            "\u001b[?25hInstalling collected packages: pulp\n",
            "Successfully installed pulp-2.5.0\n",
            "Collecting ortoolpy\n",
            "  Downloading ortoolpy-0.2.38-py3-none-any.whl (24 kB)\n",
            "Requirement already satisfied: pulp<3.0.0,>=2.3.1 in /usr/local/lib/python3.7/dist-packages (from ortoolpy) (2.5.0)\n",
            "Requirement already satisfied: pandas<2.0.0,>=1.1.4 in /usr/local/lib/python3.7/dist-packages (from ortoolpy) (1.1.5)\n",
            "Requirement already satisfied: more-itertools<9.0.0,>=8.6.0 in /usr/local/lib/python3.7/dist-packages (from ortoolpy) (8.8.0)\n",
            "Requirement already satisfied: numpy>=1.15.4 in /usr/local/lib/python3.7/dist-packages (from pandas<2.0.0,>=1.1.4->ortoolpy) (1.19.5)\n",
            "Requirement already satisfied: python-dateutil>=2.7.3 in /usr/local/lib/python3.7/dist-packages (from pandas<2.0.0,>=1.1.4->ortoolpy) (2.8.2)\n",
            "Requirement already satisfied: pytz>=2017.2 in /usr/local/lib/python3.7/dist-packages (from pandas<2.0.0,>=1.1.4->ortoolpy) (2018.9)\n",
            "Requirement already satisfied: six>=1.5 in /usr/local/lib/python3.7/dist-packages (from python-dateutil>=2.7.3->pandas<2.0.0,>=1.1.4->ortoolpy) (1.15.0)\n",
            "Installing collected packages: ortoolpy\n",
            "Successfully installed ortoolpy-0.2.38\n"
          ],
          "name": "stdout"
        }
      ]
    },
    {
      "cell_type": "code",
      "metadata": {
        "colab": {
          "base_uri": "https://localhost:8080/"
        },
        "id": "LFMikamPQYjY",
        "outputId": "fada14fa-afbb-4b71-e880-757545129633"
      },
      "source": [
        "#商品の重複を許していない場合\n",
        "from ortoolpy import knapsack\n",
        "name = ['チョコ', 'ポテトチップス', 'クッキー', 'ラムネ', 'ガム']\n",
        "price = [130, 120, 80, 30, 20]\n",
        "like = [18, 15, 12, 4, 2]\n",
        "capacity = 300\n",
        "result = knapsack(price, like, capacity)\n",
        "print('満足度 = {0}'.format(result[0]))\n",
        "weight = 0\n",
        "for i in result[1]:\n",
        "  print(name[i])\n",
        "  weight += price[i]\n",
        "print('値段 = {0}'.format(weight))"
      ],
      "execution_count": 6,
      "outputs": [
        {
          "output_type": "stream",
          "text": [
            "満足度 = 39.0\n",
            "チョコ\n",
            "ポテトチップス\n",
            "ラムネ\n",
            "ガム\n",
            "値段 = 300\n"
          ],
          "name": "stdout"
        }
      ]
    },
    {
      "cell_type": "code",
      "metadata": {
        "id": "Rw9kEqDHQcne"
      },
      "source": [
        ""
      ],
      "execution_count": null,
      "outputs": []
    }
  ]
}