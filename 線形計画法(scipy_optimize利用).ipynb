{
  "nbformat": 4,
  "nbformat_minor": 0,
  "metadata": {
    "kernelspec": {
      "display_name": "Python 3",
      "language": "python",
      "name": "python3"
    },
    "language_info": {
      "codemirror_mode": {
        "name": "ipython",
        "version": 3
      },
      "file_extension": ".py",
      "mimetype": "text/x-python",
      "name": "python",
      "nbconvert_exporter": "python",
      "pygments_lexer": "ipython3",
      "version": "3.8.3"
    },
    "colab": {
      "name": "線形計画法(scipy.optimize利用).ipynb",
      "provenance": []
    }
  },
  "cells": [
    {
      "cell_type": "markdown",
      "metadata": {
        "id": "vGFs4GAHrVfi"
      },
      "source": [
        "## scipy.optimize.linprogを利用した線形計画法"
      ]
    },
    {
      "cell_type": "markdown",
      "metadata": {
        "id": "Flkibkb8rVfk"
      },
      "source": [
        "  scipy.optimize.linprogという線形計画法向けのソルバーを利用していきます。  \n",
        "  scipy.optimizeは非線形も解けますが、微分の関係でwarningが出るので、素直にlinprogを使います。"
      ]
    },
    {
      "cell_type": "markdown",
      "metadata": {
        "id": "LPKPyEx0rVfl"
      },
      "source": [
        "例題1.1 Maximize $z = 2x_1 + 3x_2$   \n",
        "Subject to :  \n",
        "$2x_1 + x_2 \\leq 100$  \n",
        "$3x_1 + 6x_2 \\leq 240$  \n",
        "$x_1 \\geq 0$  \n",
        "$x_2 \\geq 0$  \n",
        "\n",
        "例題で学ぶOR入門 P29 例題3.1  \n",
        "最適値は、$(x_1, x_2) = (40, 20)$のとき、最大値$140$"
      ]
    },
    {
      "cell_type": "markdown",
      "metadata": {
        "id": "CHHhewqRrVfm"
      },
      "source": [
        "制約行列  \n",
        "\n",
        "制約条件(線形制約)  \n",
        "$  \n",
        "\\left(\n",
        "\\begin{array}{r}\n",
        "-\\infty \\\\\n",
        "-\\infty \\\\\n",
        "-\\infty \\\\\n",
        "-\\infty \\\\\n",
        "\\end{array}\n",
        "\\right)\n",
        "\\leq\n",
        "\\left(\n",
        "\\begin{array}{rr}\n",
        "2 & 1 \\\\\n",
        "3 & 6 \\\\\n",
        "-1 & 0 \\\\\n",
        "0 & -1 \\\\\n",
        "\\end{array}\n",
        "\\right)\n",
        "\\left(\n",
        "\\begin{array}{r}\n",
        "x_1 \\\\\n",
        "x_2 \\\\\n",
        "\\end{array}\n",
        "\\right)\n",
        "\\leq \n",
        "\\left(\n",
        "\\begin{array}{r}\n",
        "100 \\\\\n",
        "240 \\\\\n",
        "0 \\\\\n",
        "0 \\\\\n",
        "\\end{array}\n",
        "\\right)\n",
        "$"
      ]
    },
    {
      "cell_type": "markdown",
      "metadata": {
        "id": "iLC1E9sHrVfm"
      },
      "source": [
        "このときのポイントは  \n",
        "$Ax \\leq b$  \n",
        "$Ax = b$  \n",
        "だけで表現することです。また目的関数は最小化されるので、最大値問題の場合はマイナスをかけて最小値問題に置き換えて行います。"
      ]
    },
    {
      "cell_type": "code",
      "metadata": {
        "id": "Ug2S11JtrVfn"
      },
      "source": [
        "import numpy as np\n",
        "from scipy.optimize import linprog"
      ],
      "execution_count": 1,
      "outputs": []
    },
    {
      "cell_type": "code",
      "metadata": {
        "colab": {
          "base_uri": "https://localhost:8080/"
        },
        "id": "JEvw6ZXJrVfo",
        "outputId": "63896455-5c99-4c00-b1b4-b4519395aafa"
      },
      "source": [
        "c = np.array([-2, -3])\n",
        "A = np.array([[2, 1], [3, 6], [-1, 0], [0, -1]])\n",
        "b = np.array([100, 240, 0, 0])\n",
        "res = linprog(c, A_ub=A, b_ub=b, options={\"disp\": True})\n",
        "print(res['x'])"
      ],
      "execution_count": 2,
      "outputs": [
        {
          "output_type": "stream",
          "text": [
            "Primal Feasibility  Dual Feasibility    Duality Gap         Step             Path Parameter      Objective          \n",
            "1.0                 1.0                 1.0                 -                1.0                 -5.0                \n",
            "0.03050011289233    0.03050011289233    0.03050011289239    0.9697104672667  0.03050011289233    -71.93808045697     \n",
            "0.002792338711531   0.002792338711534   0.00279233871154    0.9467233884814  0.002792338711539   -134.6632433178     \n",
            "2.401457127308e-06  2.401457127262e-06  2.401457127377e-06  0.9991963257798  2.401457127215e-06  -139.9947060547     \n",
            "1.200722935482e-10  1.200728986842e-10  1.200728405593e-10  0.999949999982   1.200740804108e-10  -139.9999997353     \n",
            "Optimization terminated successfully.\n",
            "         Current function value: -140.000000 \n",
            "         Iterations: 4\n",
            "[39.99999994 19.99999995]\n"
          ],
          "name": "stdout"
        },
        {
          "output_type": "stream",
          "text": [
            "/usr/local/lib/python3.7/dist-packages/numpy/core/fromnumeric.py:87: VisibleDeprecationWarning: Creating an ndarray from ragged nested sequences (which is a list-or-tuple of lists-or-tuples-or ndarrays with different lengths or shapes) is deprecated. If you meant to do this, you must specify 'dtype=object' when creating the ndarray\n",
            "  return ufunc.reduce(obj, axis, dtype, out, **passkwargs)\n"
          ],
          "name": "stderr"
        }
      ]
    },
    {
      "cell_type": "markdown",
      "metadata": {
        "id": "a_VPOo9Yyvdn"
      },
      "source": [
        "例題1.2 等式制約を含む場合  \n",
        "https://coin-or.github.io/pulp/CaseStudies/a_blending_problem.html  \n",
        "A Blending Problem  \n",
        "\n",
        "Minimize $0.013x_1 + 0.008x_2$  \n",
        "Subject to :  \n",
        "$x_1 + x_2 = 100$  \n",
        "$0.1x_1 + 0.2x_2 \\geq 8.0$  \n",
        "$0.08x_1 + 0.1x_2 \\geq 6.0$  \n",
        "$0.001x_1 + 0.005x_2 \\leq 2.0$  \n",
        "$0.002x_1 + 0.005x_2 \\leq 0.4$  \n",
        "\n",
        "行列表現   \n",
        "$  \n",
        "\\left(\n",
        "\\begin{array}{r}\n",
        "-\\infty \\\\\n",
        "-\\infty \\\\\n",
        "-\\infty \\\\\n",
        "-\\infty \\\\\n",
        "-\\infty \\\\\n",
        "-\\infty \\\\\n",
        "\\end{array}\n",
        "\\right)\n",
        "\\leq\n",
        "\\left(\n",
        "\\begin{array}{rr}\n",
        "-0.1 & -0.2 \\\\\n",
        "-0.08 & -0.1 \\\\\n",
        "0.001 & 0.005 \\\\\n",
        "0.002 & 0.005 \\\\\n",
        "-1 & 0 \\\\\n",
        "- & -1 \\\\\n",
        "\\end{array}\n",
        "\\right)\n",
        "\\left(\n",
        "\\begin{array}{r}\n",
        "x_1 \\\\\n",
        "x_2 \\\\\n",
        "\\end{array}\n",
        "\\right)\n",
        "\\leq \n",
        "\\left(\n",
        "\\begin{array}{r}\n",
        "-8.0 \\\\\n",
        "-6.0 \\\\\n",
        "2.0 \\\\\n",
        "0.4 \\\\\n",
        "0.0 \\\\\n",
        "0.0 \\\\\n",
        "\\end{array}\n",
        "\\right)\n",
        "$"
      ]
    },
    {
      "cell_type": "code",
      "metadata": {
        "colab": {
          "base_uri": "https://localhost:8080/"
        },
        "id": "fDvSThiq422u",
        "outputId": "9daeff5a-3a14-41c4-ea98-d6dec1aa1d30"
      },
      "source": [
        "c = np.array([0.013, 0.008]) #目的関数\n",
        "#不等式制約\n",
        "A = np.array([[-0.1, -0.2], [-0.08, -0.1], [0.001, 0.005], [0.002, 0.005],[-1, 0],[0, -1]])\n",
        "b = np.array([-8.0, -6.0, 2.0, 0.4, 0, 0])\n",
        "#等式制約\n",
        "Aeq = np.array([[1, 1]]) #１つの制約でも2次元で作成する必要がある\n",
        "beq = np.array([100])\n",
        "res = linprog(c, A_ub=A, b_ub=b, A_eq=Aeq, b_eq=beq, options={\"disp\": True})\n",
        "print(res['x'])"
      ],
      "execution_count": 3,
      "outputs": [
        {
          "output_type": "stream",
          "text": [
            "Primal Feasibility  Dual Feasibility    Duality Gap         Step             Path Parameter      Objective          \n",
            "1.0                 1.0                 1.0                 -                1.0                 0.021               \n",
            "0.1219617629984     0.1219617629984     0.1219617629988     0.8797350120124  0.1219617629984     0.1726079403238     \n",
            "0.01328247227275    0.01328247227281    0.01328247227285    0.9168230491442  0.01328247227281    0.7602685634634     \n",
            "0.0009327336298774  0.000932733629882   0.0009327336298847  0.9625350734784  0.0009327336298821  1.129193151321      \n",
            "0.0001279680203924  0.0001279680203931  0.0001279680203935  0.8645719452021  0.0001279680203931  1.101457792006      \n",
            "1.226743411475e-05  1.226743414732e-05  1.226743414736e-05  0.9190765250751  1.22674341472e-05   0.9661419066737     \n",
            "1.769104135703e-09  1.769104048378e-09  1.769104037004e-09  0.9999861159128  1.769104051326e-09  0.9666670763034     \n",
            "8.848272881016e-14  8.845525709397e-14  8.845900396989e-14  0.9999500001542  8.845522210899e-14  0.9666666666871     \n",
            "Optimization terminated successfully.\n",
            "         Current function value: 0.966667    \n",
            "         Iterations: 7\n",
            "[33.33333334 66.66666666]\n"
          ],
          "name": "stdout"
        },
        {
          "output_type": "stream",
          "text": [
            "/usr/local/lib/python3.7/dist-packages/numpy/core/fromnumeric.py:87: VisibleDeprecationWarning: Creating an ndarray from ragged nested sequences (which is a list-or-tuple of lists-or-tuples-or ndarrays with different lengths or shapes) is deprecated. If you meant to do this, you must specify 'dtype=object' when creating the ndarray\n",
            "  return ufunc.reduce(obj, axis, dtype, out, **passkwargs)\n"
          ],
          "name": "stderr"
        }
      ]
    },
    {
      "cell_type": "markdown",
      "metadata": {
        "id": "M_rdL9avrVfp"
      },
      "source": [
        "例題1.3 boundsを使う例   \n",
        "Minimize $f(x_1, x_2) = - x_1 + 4x_2$  \n",
        "Subject to :  \n",
        "$-3 x_1 + x_2 \\leq 6$  \n",
        "$x_1 + 2x_2 \\leq 4$  \n",
        "$-\\infty \\leq x_1 \\leq \\infty$  \n",
        "$x_2 \\geq -3$  \n",
        "https://docs.scipy.org/doc/scipy-0.18.1/reference/generated/scipy.optimize.linprog.html  \n",
        "最適値は $(x_1, x_2) = (10, -3)$のとき、最小値$-22$"
      ]
    },
    {
      "cell_type": "markdown",
      "metadata": {
        "id": "hmJqI8JgrVfq"
      },
      "source": [
        "制約条件の行列化  \n",
        "$  \n",
        "\\left(\n",
        "\\begin{array}{r}\n",
        "-\\infty \\\\\n",
        "-\\infty \\\\\n",
        "-\\infty \\\\\n",
        "-\\infty \\\\\n",
        "\\end{array}\n",
        "\\right)\n",
        "\\leq\n",
        "\\left(\n",
        "\\begin{array}{rr}\n",
        "-3 & 1 \\\\\n",
        "1 & 2 \\\\\n",
        "1 & 0 \\\\\n",
        "0 & -1 \\\\\n",
        "\\end{array}\n",
        "\\right)\n",
        "\\left(\n",
        "\\begin{array}{r}\n",
        "x_1 \\\\\n",
        "x_2 \\\\\n",
        "\\end{array}\n",
        "\\right)\n",
        "\\leq \n",
        "\\left(\n",
        "\\begin{array}{r}\n",
        "6 \\\\\n",
        "4 \\\\\n",
        "\\infty \\\\\n",
        "3 \\\\\n",
        "\\end{array}\n",
        "\\right)\n",
        "$"
      ]
    },
    {
      "cell_type": "code",
      "metadata": {
        "colab": {
          "base_uri": "https://localhost:8080/"
        },
        "id": "8pcsWletrVfr",
        "outputId": "644b4482-7144-49a8-889f-84478a0e2029"
      },
      "source": [
        "c = np.array([-1, 4])\n",
        "A = np.array([[-3, 1], [1, 2]])\n",
        "b = np.array([6, 4])\n",
        "x0_bounds = (None, None)\n",
        "x1_bounds = (-3, None)\n",
        "res = linprog(c, A_ub=A, b_ub=b, bounds=(x0_bounds, x1_bounds),options={\"disp\": True})\n",
        "print(res['x'])\n",
        "#この場合はboundsで制限を入れないと正しい値が出てこない。制約の無い変数がある場合はboundsが必要になる？"
      ],
      "execution_count": 4,
      "outputs": [
        {
          "output_type": "stream",
          "text": [
            "Primal Feasibility  Dual Feasibility    Duality Gap         Step             Path Parameter      Objective          \n",
            "1.0                 1.0                 1.0                 -                1.0                 -8.0                \n",
            "0.09885158404625    0.09885158404625    0.09885158404625    0.903461537018   0.09885158404625    -6.284698425658     \n",
            "0.05788429348353    0.05788429348355    0.05788429348355    0.4273037994111  0.05788429348355    -7.864724729573     \n",
            "0.04539867008243    0.04539867008244    0.04539867008244    0.2387091287399  0.04539867008244    -12.78916804766     \n",
            "0.00666151448168    0.006661514481681   0.006661514481682   0.8665142913493  0.006661514481682   -21.3520715063      \n",
            "6.299626472385e-06  6.299626472585e-06  6.299626472583e-06  1.0              6.299626472588e-06  -21.99681708159     \n",
            "3.150192408518e-10  3.150193669765e-10  3.150193217394e-10  0.9999499939647  3.150193297574e-10  -21.99999984082     \n",
            "Optimization terminated successfully.\n",
            "         Current function value: -22.000000  \n",
            "         Iterations: 6\n",
            "[ 9.99999989 -2.99999999]\n"
          ],
          "name": "stdout"
        },
        {
          "output_type": "stream",
          "text": [
            "/usr/local/lib/python3.7/dist-packages/numpy/core/fromnumeric.py:87: VisibleDeprecationWarning: Creating an ndarray from ragged nested sequences (which is a list-or-tuple of lists-or-tuples-or ndarrays with different lengths or shapes) is deprecated. If you meant to do this, you must specify 'dtype=object' when creating the ndarray\n",
            "  return ufunc.reduce(obj, axis, dtype, out, **passkwargs)\n"
          ],
          "name": "stderr"
        }
      ]
    },
    {
      "cell_type": "markdown",
      "metadata": {
        "id": "AtBYDAZengyr"
      },
      "source": [
        "坂和、西崎 : 数理計画法入門、森北出版 P14 例2.3.  \n",
        "Minimize $f(x_1, x_2) = 4x_1 + 3x_2$  \n",
        "Subject to:  \n",
        "$x_1 + 3x_2 \\geq 12$  \n",
        "$x_1 + 2x_2 \\geq 10$  \n",
        "$2x_1 + x_2 \\geq 15$  \n",
        "$x_1 \\geq 0, x_2 \\geq 0$\n",
        "\n",
        "行列表現   \n",
        "$  \n",
        "\\left(\n",
        "\\begin{array}{r}\n",
        "-\\infty \\\\\n",
        "-\\infty \\\\\n",
        "-\\infty \\\\\n",
        "-\\infty \\\\\n",
        "-\\infty \\\\\n",
        "\\end{array}\n",
        "\\right)\n",
        "\\leq\n",
        "\\left(\n",
        "\\begin{array}{rr}\n",
        "-1 & -3 \\\\\n",
        "-1 & -2 \\\\\n",
        "-2 & -1 \\\\\n",
        "-1 & 0 \\\\\n",
        "0 & -1 \\\\\n",
        "\\end{array}\n",
        "\\right)\n",
        "\\left(\n",
        "\\begin{array}{r}\n",
        "x_1 \\\\\n",
        "x_2 \\\\\n",
        "\\end{array}\n",
        "\\right)\n",
        "\\leq \n",
        "\\left(\n",
        "\\begin{array}{r}\n",
        "-12 \\\\\n",
        "-10 \\\\\n",
        "-15 \\\\\n",
        "0 \\\\\n",
        "0 \\\\\n",
        "\\end{array}\n",
        "\\right)\n",
        "$\n",
        "\n",
        "最適解は $(x_1, x_2) = (6.6, 1.8)$のとき最小値31.8\n"
      ]
    },
    {
      "cell_type": "code",
      "metadata": {
        "id": "0fInkUTlz-7u",
        "colab": {
          "base_uri": "https://localhost:8080/"
        },
        "outputId": "d1d647f2-10ba-47e4-bab4-3bf4c975f44d"
      },
      "source": [
        "c = np.array([4, 3])\n",
        "A = np.array([[-1, -3], [-1, -2], [-2, -1], [-1, 0], [0, -1]])\n",
        "b = np.array([-12, -10, -15, 0, 0])\n",
        "res = linprog(c, A_ub=A, b_ub=b, options={\"disp\": True})\n",
        "print(res['x'])"
      ],
      "execution_count": 6,
      "outputs": [
        {
          "output_type": "stream",
          "text": [
            "Primal Feasibility  Dual Feasibility    Duality Gap         Step             Path Parameter      Objective          \n",
            "1.0                 1.0                 1.0                 -                1.0                 7.0                 \n",
            "0.154899053795      0.154899053795      0.154899053795      0.8512510615871  0.154899053795      23.61299642609      \n",
            "0.01433267460306    0.01433267460311    0.01433267460311    0.9246834839962  0.01433267460315    31.21892194089      \n",
            "0.001401050533693   0.001401050533705   0.001401050533704   0.9039255058703  0.001401050533694   31.72724577748      \n",
            "3.879357477015e-06  3.879357460685e-06  3.879357460601e-06  1.0              3.879357500142e-06  31.79982783856      \n",
            "1.939998367287e-10  1.940010301911e-10  1.940012595014e-10  0.9999499914527  1.939952975386e-10  31.79999999139      \n",
            "Optimization terminated successfully.\n",
            "         Current function value: 31.800000   \n",
            "         Iterations: 5\n",
            "[6.6 1.8]\n"
          ],
          "name": "stdout"
        },
        {
          "output_type": "stream",
          "text": [
            "/usr/local/lib/python3.7/dist-packages/numpy/core/fromnumeric.py:87: VisibleDeprecationWarning: Creating an ndarray from ragged nested sequences (which is a list-or-tuple of lists-or-tuples-or ndarrays with different lengths or shapes) is deprecated. If you meant to do this, you must specify 'dtype=object' when creating the ndarray\n",
            "  return ufunc.reduce(obj, axis, dtype, out, **passkwargs)\n"
          ],
          "name": "stderr"
        }
      ]
    },
    {
      "cell_type": "code",
      "metadata": {
        "id": "wjK3tifiqnvV"
      },
      "source": [
        ""
      ],
      "execution_count": null,
      "outputs": []
    }
  ]
}