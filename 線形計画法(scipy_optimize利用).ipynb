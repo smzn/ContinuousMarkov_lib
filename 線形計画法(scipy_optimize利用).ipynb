{
  "nbformat": 4,
  "nbformat_minor": 0,
  "metadata": {
    "kernelspec": {
      "display_name": "Python 3",
      "language": "python",
      "name": "python3"
    },
    "language_info": {
      "codemirror_mode": {
        "name": "ipython",
        "version": 3
      },
      "file_extension": ".py",
      "mimetype": "text/x-python",
      "name": "python",
      "nbconvert_exporter": "python",
      "pygments_lexer": "ipython3",
      "version": "3.8.3"
    },
    "colab": {
      "name": "線形計画法(scipy.optimize利用).ipynb",
      "provenance": []
    }
  },
  "cells": [
    {
      "cell_type": "markdown",
      "metadata": {
        "id": "vGFs4GAHrVfi"
      },
      "source": [
        "## scipy.optimize.linprogを利用した線形計画法"
      ]
    },
    {
      "cell_type": "markdown",
      "metadata": {
        "id": "Flkibkb8rVfk"
      },
      "source": [
        "  scipy.optimize.linprogという線形計画法向けのソルバーを利用していきます。  \n",
        "  scipy.optimizeは非線形も解けますが、微分の関係でwarningが出るので、素直にlinprogを使います。"
      ]
    },
    {
      "cell_type": "markdown",
      "metadata": {
        "id": "LPKPyEx0rVfl"
      },
      "source": [
        "例題1.1 Maximize $z = 2x_1 + 3x_2$   \n",
        "Subject to :  \n",
        "$2x_1 + x_2 \\leq 100$  \n",
        "$3x_1 + 6x_2 \\leq 240$  \n",
        "$x_1 \\geq 0$  \n",
        "$x_2 \\geq 0$  \n",
        "\n",
        "例題で学ぶOR入門 P29 例題3.1  \n",
        "最適値は、$(x_1, x_2) = (40, 20)$のとき、最大値$140$"
      ]
    },
    {
      "cell_type": "markdown",
      "metadata": {
        "id": "CHHhewqRrVfm"
      },
      "source": [
        "制約行列  \n",
        "\n",
        "制約条件(線形制約)  \n",
        "$  \n",
        "\\left(\n",
        "\\begin{array}{r}\n",
        "-\\infty \\\\\n",
        "-\\infty \\\\\n",
        "-\\infty \\\\\n",
        "-\\infty \\\\\n",
        "\\end{array}\n",
        "\\right)\n",
        "\\leq\n",
        "\\left(\n",
        "\\begin{array}{rr}\n",
        "2 & 1 \\\\\n",
        "3 & 6 \\\\\n",
        "-1 & 0 \\\\\n",
        "0 & -1 \\\\\n",
        "\\end{array}\n",
        "\\right)\n",
        "\\left(\n",
        "\\begin{array}{r}\n",
        "x_1 \\\\\n",
        "x_2 \\\\\n",
        "\\end{array}\n",
        "\\right)\n",
        "\\leq \n",
        "\\left(\n",
        "\\begin{array}{r}\n",
        "100 \\\\\n",
        "240 \\\\\n",
        "0 \\\\\n",
        "0 \\\\\n",
        "\\end{array}\n",
        "\\right)\n",
        "$"
      ]
    },
    {
      "cell_type": "markdown",
      "metadata": {
        "id": "iLC1E9sHrVfm"
      },
      "source": [
        "このときのポイントは  \n",
        "$Ax \\leq b$  \n",
        "$Ax = b$  \n",
        "だけで表現することです。また目的関数は最小化されるので、最大値問題の場合はマイナスをかけて最小値問題に置き換えて行います。"
      ]
    },
    {
      "cell_type": "code",
      "metadata": {
        "id": "Ug2S11JtrVfn"
      },
      "source": [
        "import numpy as np\n",
        "from scipy.optimize import linprog"
      ],
      "execution_count": 28,
      "outputs": []
    },
    {
      "cell_type": "code",
      "metadata": {
        "colab": {
          "base_uri": "https://localhost:8080/"
        },
        "id": "JEvw6ZXJrVfo",
        "outputId": "5a3d5138-3102-4fbc-abcf-f1494c69a9da"
      },
      "source": [
        "c = np.array([-2, -3])\n",
        "A = np.array([[2, 1], [3, 6], [-1, 0], [0, -1]])\n",
        "b = np.array([100, 240, 0, 0])\n",
        "res = linprog(c, A_ub=A, b_ub=b, options={\"disp\": True})\n",
        "print(res['x'])"
      ],
      "execution_count": 29,
      "outputs": [
        {
          "output_type": "stream",
          "text": [
            "Primal Feasibility  Dual Feasibility    Duality Gap         Step             Path Parameter      Objective          \n",
            "1.0                 1.0                 1.0                 -                1.0                 -5.0                \n",
            "0.03050011289233    0.03050011289233    0.03050011289239    0.9697104672667  0.03050011289233    -71.93808045697     \n",
            "0.002792338711531   0.002792338711534   0.00279233871154    0.9467233884814  0.002792338711539   -134.6632433178     \n",
            "2.401457127308e-06  2.401457127262e-06  2.401457127377e-06  0.9991963257798  2.401457127215e-06  -139.9947060547     \n",
            "1.200722935482e-10  1.200728986842e-10  1.200728405593e-10  0.999949999982   1.200740804108e-10  -139.9999997353     \n",
            "Optimization terminated successfully.\n",
            "         Current function value: -140.000000 \n",
            "         Iterations: 4\n",
            "[39.99999994 19.99999995]\n"
          ],
          "name": "stdout"
        },
        {
          "output_type": "stream",
          "text": [
            "/usr/local/lib/python3.7/dist-packages/numpy/core/fromnumeric.py:87: VisibleDeprecationWarning: Creating an ndarray from ragged nested sequences (which is a list-or-tuple of lists-or-tuples-or ndarrays with different lengths or shapes) is deprecated. If you meant to do this, you must specify 'dtype=object' when creating the ndarray\n",
            "  return ufunc.reduce(obj, axis, dtype, out, **passkwargs)\n"
          ],
          "name": "stderr"
        }
      ]
    },
    {
      "cell_type": "markdown",
      "metadata": {
        "id": "a_VPOo9Yyvdn"
      },
      "source": [
        "例題1.2 等式制約を含む場合  \n",
        "https://coin-or.github.io/pulp/CaseStudies/a_blending_problem.html  \n",
        "A Blending Problem  \n",
        "\n",
        "Minimize $0.013x_1 + 0.008x_2$  \n",
        "Subject to :  \n",
        "$x_1 + x_2 = 100$  \n",
        "$0.1x_1 + 0.2x_2 \\geq 8.0$  \n",
        "$0.08x_1 + 0.1x_2 \\geq 6.0$  \n",
        "$0.001x_1 + 0.005x_2 \\leq 2.0$  \n",
        "$0.002x_1 + 0.005x_2 \\leq 0.4$  \n",
        "\n",
        "行列表現   \n",
        "$  \n",
        "\\left(\n",
        "\\begin{array}{r}\n",
        "-\\infty \\\\\n",
        "-\\infty \\\\\n",
        "-\\infty \\\\\n",
        "-\\infty \\\\\n",
        "-\\infty \\\\\n",
        "-\\infty \\\\\n",
        "\\end{array}\n",
        "\\right)\n",
        "\\leq\n",
        "\\left(\n",
        "\\begin{array}{rr}\n",
        "-0.1 & -0.2 \\\\\n",
        "-0.08 & -0.1 \\\\\n",
        "0.001 & 0.005 \\\\\n",
        "0.002 & 0.005 \\\\\n",
        "-1 & 0 \\\\\n",
        "- & -1 \\\\\n",
        "\\end{array}\n",
        "\\right)\n",
        "\\left(\n",
        "\\begin{array}{r}\n",
        "x_1 \\\\\n",
        "x_2 \\\\\n",
        "\\end{array}\n",
        "\\right)\n",
        "\\leq \n",
        "\\left(\n",
        "\\begin{array}{r}\n",
        "-8.0 \\\\\n",
        "-6.0 \\\\\n",
        "2.0 \\\\\n",
        "0.4 \\\\\n",
        "0.0 \\\\\n",
        "0.0 \\\\\n",
        "\\end{array}\n",
        "\\right)\n",
        "$"
      ]
    },
    {
      "cell_type": "code",
      "metadata": {
        "colab": {
          "base_uri": "https://localhost:8080/"
        },
        "id": "fDvSThiq422u",
        "outputId": "fb4aeb60-02a7-4fc4-c30f-7b6b0d721584"
      },
      "source": [
        "c = np.array([0.013, 0.008]) #目的関数\n",
        "#不等式制約\n",
        "A = np.array([[-0.1, -0.2], [-0.08, -0.1], [0.001, 0.005], [0.002, 0.005],[-1, 0],[0, -1]])\n",
        "b = np.array([-8.0, -6.0, 2.0, 0.4, 0, 0])\n",
        "#等式制約\n",
        "Aeq = np.array([[1, 1]]) #１つの制約でも2次元で作成する必要がある\n",
        "beq = np.array([100])\n",
        "res = linprog(c, A_ub=A, b_ub=b, A_eq=Aeq, b_eq=beq, options={\"disp\": True})\n",
        "print(res['x'])"
      ],
      "execution_count": 30,
      "outputs": [
        {
          "output_type": "stream",
          "text": [
            "Primal Feasibility  Dual Feasibility    Duality Gap         Step             Path Parameter      Objective          \n",
            "1.0                 1.0                 1.0                 -                1.0                 0.021               \n",
            "0.1219617629984     0.1219617629984     0.1219617629988     0.8797350120124  0.1219617629984     0.1726079403238     \n",
            "0.01328247227277    0.01328247227281    0.01328247227284    0.916823049144   0.01328247227281    0.7602685634631     \n",
            "0.0009327336298868  0.0009327336298846  0.0009327336298872  0.9625350734782  0.0009327336298848  1.129193151321      \n",
            "0.0001279680203938  0.0001279680203935  0.0001279680203938  0.864571945202   0.0001279680203935  1.101457792006      \n",
            "1.22674341535e-05   1.226743414733e-05  1.226743414736e-05  0.9190765250757  1.226743414749e-05  0.9661419066732     \n",
            "1.769104080337e-09  1.769104049049e-09  1.769104030208e-09  0.9999861159129  1.769104051205e-09  0.9666670763034     \n",
            "8.845593013719e-14  8.845570914111e-14  8.847259631838e-14  0.9999499998488  8.84552221526e-14   0.9666666666871     \n",
            "Optimization terminated successfully.\n",
            "         Current function value: 0.966667    \n",
            "         Iterations: 7\n",
            "[33.33333334 66.66666666]\n"
          ],
          "name": "stdout"
        },
        {
          "output_type": "stream",
          "text": [
            "/usr/local/lib/python3.7/dist-packages/numpy/core/fromnumeric.py:87: VisibleDeprecationWarning: Creating an ndarray from ragged nested sequences (which is a list-or-tuple of lists-or-tuples-or ndarrays with different lengths or shapes) is deprecated. If you meant to do this, you must specify 'dtype=object' when creating the ndarray\n",
            "  return ufunc.reduce(obj, axis, dtype, out, **passkwargs)\n"
          ],
          "name": "stderr"
        }
      ]
    },
    {
      "cell_type": "markdown",
      "metadata": {
        "id": "M_rdL9avrVfp"
      },
      "source": [
        "例題1.3 boundsを使う例   \n",
        "Minimize $f(x_1, x_2) = - x_1 + 4x_2$  \n",
        "Subject to :  \n",
        "$-3 x_1 + x_2 \\leq 6$  \n",
        "$x_1 + 2x_2 \\leq 4$  \n",
        "$-\\infty \\leq x_1 \\leq \\infty$  \n",
        "$x_2 \\geq -3$  \n",
        "https://docs.scipy.org/doc/scipy-0.18.1/reference/generated/scipy.optimize.linprog.html  \n",
        "最適値は $(x_1, x_2) = (10, -3)$のとき、最小値$-22$"
      ]
    },
    {
      "cell_type": "markdown",
      "metadata": {
        "id": "hmJqI8JgrVfq"
      },
      "source": [
        "制約条件の行列化  \n",
        "$  \n",
        "\\left(\n",
        "\\begin{array}{r}\n",
        "-\\infty \\\\\n",
        "-\\infty \\\\\n",
        "-\\infty \\\\\n",
        "-\\infty \\\\\n",
        "\\end{array}\n",
        "\\right)\n",
        "\\leq\n",
        "\\left(\n",
        "\\begin{array}{rr}\n",
        "-3 & 1 \\\\\n",
        "1 & 2 \\\\\n",
        "1 & 0 \\\\\n",
        "0 & -1 \\\\\n",
        "\\end{array}\n",
        "\\right)\n",
        "\\left(\n",
        "\\begin{array}{r}\n",
        "x_1 \\\\\n",
        "x_2 \\\\\n",
        "\\end{array}\n",
        "\\right)\n",
        "\\leq \n",
        "\\left(\n",
        "\\begin{array}{r}\n",
        "6 \\\\\n",
        "4 \\\\\n",
        "\\infty \\\\\n",
        "3 \\\\\n",
        "\\end{array}\n",
        "\\right)\n",
        "$"
      ]
    },
    {
      "cell_type": "code",
      "metadata": {
        "colab": {
          "base_uri": "https://localhost:8080/"
        },
        "id": "8pcsWletrVfr",
        "outputId": "6cdb33e4-2aa4-4523-893c-f09fed5f9cd6"
      },
      "source": [
        "c = np.array([-1, 4])\n",
        "A = np.array([[-3, 1], [1, 2]])\n",
        "b = np.array([6, 4])\n",
        "x0_bounds = (None, None)\n",
        "x1_bounds = (-3, None)\n",
        "res = linprog(c, A_ub=A, b_ub=b, bounds=(x0_bounds, x1_bounds),options={\"disp\": True})\n",
        "print(res['x'])\n",
        "#この場合はboundsで制限を入れないと正しい値が出てこない。制約の無い変数がある場合はboundsが必要になる？"
      ],
      "execution_count": 31,
      "outputs": [
        {
          "output_type": "stream",
          "text": [
            "Primal Feasibility  Dual Feasibility    Duality Gap         Step             Path Parameter      Objective          \n",
            "1.0                 1.0                 1.0                 -                1.0                 -8.0                \n",
            "0.09885158404625    0.09885158404625    0.09885158404625    0.903461537018   0.09885158404625    -6.284698425658     \n",
            "0.05788429348353    0.05788429348355    0.05788429348355    0.4273037994111  0.05788429348355    -7.864724729573     \n",
            "0.04539867008243    0.04539867008244    0.04539867008244    0.2387091287399  0.04539867008244    -12.78916804766     \n",
            "0.006661514481681   0.006661514481682   0.006661514481683   0.8665142913493  0.006661514481683   -21.3520715063      \n",
            "6.29962647298e-06   6.29962647258e-06   6.299626472583e-06  1.0              6.29962647257e-06   -21.99681708159     \n",
            "3.150187967632e-10  3.150193311112e-10  3.150193439438e-10  0.9999499939658  3.150193278593e-10  -21.99999984082     \n",
            "Optimization terminated successfully.\n",
            "         Current function value: -22.000000  \n",
            "         Iterations: 6\n",
            "[ 9.99999989 -2.99999999]\n"
          ],
          "name": "stdout"
        },
        {
          "output_type": "stream",
          "text": [
            "/usr/local/lib/python3.7/dist-packages/numpy/core/fromnumeric.py:87: VisibleDeprecationWarning: Creating an ndarray from ragged nested sequences (which is a list-or-tuple of lists-or-tuples-or ndarrays with different lengths or shapes) is deprecated. If you meant to do this, you must specify 'dtype=object' when creating the ndarray\n",
            "  return ufunc.reduce(obj, axis, dtype, out, **passkwargs)\n"
          ],
          "name": "stderr"
        }
      ]
    },
    {
      "cell_type": "code",
      "metadata": {
        "id": "0fInkUTlz-7u"
      },
      "source": [
        ""
      ],
      "execution_count": 31,
      "outputs": []
    }
  ]
}